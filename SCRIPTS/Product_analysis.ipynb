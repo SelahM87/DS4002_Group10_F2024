{
 "cells": [
  {
   "cell_type": "code",
   "execution_count": 30,
   "metadata": {},
   "outputs": [],
   "source": []
  },
  {
   "cell_type": "code",
   "execution_count": 31,
   "metadata": {},
   "outputs": [
    {
     "name": "stdout",
     "output_type": "stream",
     "text": [
      "['Fragrance' 'Bath & Body' 'Mini Size' 'Hair' 'Makeup' 'Skincare'\n",
      " 'Tools & Brushes' 'Men' 'Gifts']\n"
     ]
    }
   ],
   "source": [
    "# check\n",
    "print(products_df['primary_category'].unique())\n"
   ]
  },
  {
   "cell_type": "code",
   "execution_count": 32,
   "metadata": {},
   "outputs": [
    {
     "name": "stdout",
     "output_type": "stream",
     "text": [
      "     product_id                                       product_name  brand_id  \\\n",
      "89      P439055               GENIUS Sleeping Collagen Moisturizer      6018   \n",
      "90      P421277                       GENIUS Liquid Collagen Serum      6018   \n",
      "91      P467602            Triple Algae Eye Renewal Balm Eye Cream      6018   \n",
      "92      P432045               GENIUS Liquid Collagen Lip Treatment      6018   \n",
      "93      P311143  SUBLIME DEFENSE Ultra Lightweight UV Defense F...      6018   \n",
      "...         ...                                                ...       ...   \n",
      "8424    P501474  The Youth Vault: 13-Piece Vegan Skincare + App...      6169   \n",
      "8425    P502998  Youth Stacks: Plump It Up for Dry, Dehydrated ...      6169   \n",
      "8426    P503872     Mini Mandelic Acid + Superfood Unity Exfoliant      6169   \n",
      "8427    P502977  Youth Stacks: Daily Skin Health Your Way for P...      6169   \n",
      "8428    P502978   Youth Stacks: Brighter Tomorrow Duo for Dullness      6169   \n",
      "\n",
      "               brand_name  loves_count  rating  reviews           size  \\\n",
      "89               Algenist        33910  4.5413   1321.0    2 oz/ 60 mL   \n",
      "90               Algenist        67870  4.0259   1159.0  1 oz  / 30 mL   \n",
      "91               Algenist        17890  4.5306   1142.0            NaN   \n",
      "92               Algenist        44448  3.8721    649.0  .5 oz / 15 mL   \n",
      "93               Algenist        27278  4.4134    508.0           1 oz   \n",
      "...                   ...          ...     ...      ...            ...   \n",
      "8424  Youth To The People         8989  4.8750      8.0            NaN   \n",
      "8425  Youth To The People        10406  4.1667      6.0            NaN   \n",
      "8426  Youth To The People         6510  4.8000      5.0   1 oz / 30 mL   \n",
      "8427  Youth To The People        13592  4.2500      4.0            NaN   \n",
      "8428  Youth To The People         8189  3.0000      3.0            NaN   \n",
      "\n",
      "     variation_type variation_value  ... online_only out_of_stock  \\\n",
      "89             Size     2 oz/ 60 mL  ...           0            0   \n",
      "90             Size   1 oz  / 30 mL  ...           0            0   \n",
      "91              NaN             NaN  ...           0            0   \n",
      "92             Size   .5 oz / 15 mL  ...           0            0   \n",
      "93             Size            1 oz  ...           0            0   \n",
      "...             ...             ...  ...         ...          ...   \n",
      "8424            NaN             NaN  ...           1            0   \n",
      "8425            NaN             NaN  ...           0            0   \n",
      "8426           Size    1 oz / 30 mL  ...           0            0   \n",
      "8427            NaN             NaN  ...           0            0   \n",
      "8428            NaN             NaN  ...           0            0   \n",
      "\n",
      "      sephora_exclusive                                         highlights  \\\n",
      "89                    1  ['Vegan', 'Good for: Loss of firmness', 'Colla...   \n",
      "90                    1  ['Vegan', 'Good for: Loss of firmness', 'Colla...   \n",
      "91                    1                                                NaN   \n",
      "92                    1  ['Vegan', 'Good for: Loss of firmness', 'Plump...   \n",
      "93                    0  ['Vegan', 'Hypoallergenic', 'UV Protection', '...   \n",
      "...                 ...                                                ...   \n",
      "8424                  1  ['Clean at Sephora', 'Hydrating', 'Good for: A...   \n",
      "8425                  0  ['Vegan', 'Hyaluronic Acid', 'Clean at Sephora...   \n",
      "8426                  0  ['Clean + Planet Positive', 'Good for: Pores',...   \n",
      "8427                  0  ['Vegan', 'Good for: Pores', 'Clean + Planet P...   \n",
      "8428                  0  ['Vegan', 'Good for: Dullness/Uneven Texture',...   \n",
      "\n",
      "      primary_category      secondary_category        tertiary_category  \\\n",
      "89            Skincare            Moisturizers             Moisturizers   \n",
      "90            Skincare              Treatments              Face Serums   \n",
      "91            Skincare                Eye Care  Eye Creams & Treatments   \n",
      "92            Skincare  Lip Balms & Treatments                      NaN   \n",
      "93            Skincare               Sunscreen           Face Sunscreen   \n",
      "...                ...                     ...                      ...   \n",
      "8424          Skincare       Value & Gift Sets                      NaN   \n",
      "8425          Skincare       Value & Gift Sets                      NaN   \n",
      "8426          Skincare               Cleansers                   Toners   \n",
      "8427          Skincare       Value & Gift Sets                      NaN   \n",
      "8428          Skincare       Value & Gift Sets                      NaN   \n",
      "\n",
      "      child_count  child_max_price  child_min_price  \n",
      "89              0              NaN              NaN  \n",
      "90              1             25.0             25.0  \n",
      "91              0              NaN              NaN  \n",
      "92              0              NaN              NaN  \n",
      "93              0              NaN              NaN  \n",
      "...           ...              ...              ...  \n",
      "8424            0              NaN              NaN  \n",
      "8425            0              NaN              NaN  \n",
      "8426            0              NaN              NaN  \n",
      "8427            0              NaN              NaN  \n",
      "8428            0              NaN              NaN  \n",
      "\n",
      "[2420 rows x 27 columns]\n"
     ]
    },
    {
     "data": {
      "text/plain": [
       "array(['Moisturizers', 'Treatments', 'Eye Care', 'Lip Balms & Treatments',\n",
       "       'Sunscreen', 'Cleansers', 'Value & Gift Sets', 'Masks',\n",
       "       'Mini Size', 'Wellness', 'High Tech Tools', 'Self Tanners',\n",
       "       'Shop by Concern'], dtype=object)"
      ]
     },
     "execution_count": 32,
     "metadata": {},
     "output_type": "execute_result"
    }
   ],
   "source": [
    "Skincare_df = products_df[products_df['primary_category'] == \"Skincare\"]\n",
    "# Print the filtered DataFrame\n",
    "print(Skincare_df)\n",
    "Skincare_df['secondary_category'].unique()\n"
   ]
  },
  {
   "cell_type": "code",
   "execution_count": 33,
   "metadata": {},
   "outputs": [],
   "source": [
    "# Define the list of secondary categories to filter for Sunscreen Moisturizer and Cleansers\n",
    "secondary_categories = [\n",
    "    'Sunscreen',\n",
    "    'Moisturizers',\n",
    "    'Cleansers'\n",
    "]\n",
    "# Filter the DataFrame for the specified secondary categories\n",
    "Skincare_df = Skincare_df[Skincare_df['secondary_category'].isin(secondary_categories)]\n"
   ]
  },
  {
   "cell_type": "code",
   "execution_count": 34,
   "metadata": {},
   "outputs": [
    {
     "name": "stdout",
     "output_type": "stream",
     "text": [
      "<class 'pandas.core.frame.DataFrame'>\n",
      "Index: 1000 entries, 89 to 8426\n",
      "Data columns (total 27 columns):\n",
      " #   Column              Non-Null Count  Dtype  \n",
      "---  ------              --------------  -----  \n",
      " 0   product_id          1000 non-null   object \n",
      " 1   product_name        1000 non-null   object \n",
      " 2   brand_id            1000 non-null   int64  \n",
      " 3   brand_name          1000 non-null   object \n",
      " 4   loves_count         1000 non-null   int64  \n",
      " 5   rating              1000 non-null   float64\n",
      " 6   reviews             1000 non-null   float64\n",
      " 7   size                984 non-null    object \n",
      " 8   variation_type      964 non-null    object \n",
      " 9   variation_value     950 non-null    object \n",
      " 10  variation_desc      3 non-null      object \n",
      " 11  ingredients         978 non-null    object \n",
      " 12  price_usd           1000 non-null   float64\n",
      " 13  value_price_usd     6 non-null      float64\n",
      " 14  sale_price_usd      11 non-null     float64\n",
      " 15  limited_edition     1000 non-null   int64  \n",
      " 16  new                 1000 non-null   int64  \n",
      " 17  online_only         1000 non-null   int64  \n",
      " 18  out_of_stock        1000 non-null   int64  \n",
      " 19  sephora_exclusive   1000 non-null   int64  \n",
      " 20  highlights          834 non-null    object \n",
      " 21  primary_category    1000 non-null   object \n",
      " 22  secondary_category  1000 non-null   object \n",
      " 23  tertiary_category   993 non-null    object \n",
      " 24  child_count         1000 non-null   int64  \n",
      " 25  child_max_price     213 non-null    float64\n",
      " 26  child_min_price     213 non-null    float64\n",
      "dtypes: float64(7), int64(8), object(12)\n",
      "memory usage: 218.8+ KB\n"
     ]
    }
   ],
   "source": [
    "# Filter out rows with no reviews\n",
    "Skincare_df  = Skincare_df [Skincare_df ['reviews'].notnull()]\n",
    "\n",
    "# 1000  'Sunscreen','Moisturizers', 'Cleansers'\n",
    "Skincare_df .info()"
   ]
  },
  {
   "cell_type": "code",
   "execution_count": 35,
   "metadata": {},
   "outputs": [
    {
     "data": {
      "text/html": [
       "<div>\n",
       "<style scoped>\n",
       "    .dataframe tbody tr th:only-of-type {\n",
       "        vertical-align: middle;\n",
       "    }\n",
       "\n",
       "    .dataframe tbody tr th {\n",
       "        vertical-align: top;\n",
       "    }\n",
       "\n",
       "    .dataframe thead th {\n",
       "        text-align: right;\n",
       "    }\n",
       "</style>\n",
       "<table border=\"1\" class=\"dataframe\">\n",
       "  <thead>\n",
       "    <tr style=\"text-align: right;\">\n",
       "      <th></th>\n",
       "      <th>product_type</th>\n",
       "      <th>product_id</th>\n",
       "      <th>brand_id</th>\n",
       "      <th>product_reviews</th>\n",
       "      <th>product_rating</th>\n",
       "    </tr>\n",
       "  </thead>\n",
       "  <tbody>\n",
       "    <tr>\n",
       "      <th>89</th>\n",
       "      <td>Moisturizers</td>\n",
       "      <td>P439055</td>\n",
       "      <td>6018</td>\n",
       "      <td>1321.0</td>\n",
       "      <td>4.5413</td>\n",
       "    </tr>\n",
       "    <tr>\n",
       "      <th>93</th>\n",
       "      <td>Sunscreen</td>\n",
       "      <td>P311143</td>\n",
       "      <td>6018</td>\n",
       "      <td>508.0</td>\n",
       "      <td>4.4134</td>\n",
       "    </tr>\n",
       "    <tr>\n",
       "      <th>94</th>\n",
       "      <td>Moisturizers</td>\n",
       "      <td>P384537</td>\n",
       "      <td>6018</td>\n",
       "      <td>503.0</td>\n",
       "      <td>4.2525</td>\n",
       "    </tr>\n",
       "    <tr>\n",
       "      <th>95</th>\n",
       "      <td>Cleansers</td>\n",
       "      <td>P388200</td>\n",
       "      <td>6018</td>\n",
       "      <td>334.0</td>\n",
       "      <td>4.0569</td>\n",
       "    </tr>\n",
       "    <tr>\n",
       "      <th>96</th>\n",
       "      <td>Cleansers</td>\n",
       "      <td>P296413</td>\n",
       "      <td>6018</td>\n",
       "      <td>264.0</td>\n",
       "      <td>4.2689</td>\n",
       "    </tr>\n",
       "  </tbody>\n",
       "</table>\n",
       "</div>"
      ],
      "text/plain": [
       "    product_type product_id  brand_id  product_reviews  product_rating\n",
       "89  Moisturizers    P439055      6018           1321.0          4.5413\n",
       "93     Sunscreen    P311143      6018            508.0          4.4134\n",
       "94  Moisturizers    P384537      6018            503.0          4.2525\n",
       "95     Cleansers    P388200      6018            334.0          4.0569\n",
       "96     Cleansers    P296413      6018            264.0          4.2689"
      ]
     },
     "execution_count": 35,
     "metadata": {},
     "output_type": "execute_result"
    }
   ],
   "source": [
    "Skincare_df = Skincare_df[['secondary_category', 'product_id', 'brand_id', 'reviews', 'rating']]\n",
    "Skincare_df.rename(columns={\n",
    "    'secondary_category': 'product_type',\n",
    "    'reviews': 'product_reviews',\n",
    "    'rating': 'product_rating'\n",
    "}, inplace=True)\n",
    "\n",
    "Skincare_df.head()"
   ]
  },
  {
   "cell_type": "code",
   "execution_count": 36,
   "metadata": {},
   "outputs": [],
   "source": [
    "#Skincare_df.to_csv('/Users/selahmitchell/Desktop/DS interactive app/plotly-dash/Skincare_df.csv', index=False)"
   ]
  }
 ],
 "metadata": {
  "kernelspec": {
   "display_name": "ds4003",
   "language": "python",
   "name": "python3"
  },
  "language_info": {
   "codemirror_mode": {
    "name": "ipython",
    "version": 3
   },
   "file_extension": ".py",
   "mimetype": "text/x-python",
   "name": "python",
   "nbconvert_exporter": "python",
   "pygments_lexer": "ipython3",
   "version": "3.8.18"
  }
 },
 "nbformat": 4,
 "nbformat_minor": 2
}
