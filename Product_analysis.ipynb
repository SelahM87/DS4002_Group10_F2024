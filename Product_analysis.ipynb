{
 "cells": [
  {
   "cell_type": "code",
   "execution_count": 57,
   "metadata": {},
   "outputs": [],
   "source": [
    "\n",
    "import pandas as pd\n",
    "import plotly.express as px\n",
    "products_df = pd.read_csv(\"/Users/selahmitchell/Desktop/DS interactive app/plotly-dash/product_info.csv\")"
   ]
  },
  {
   "cell_type": "code",
   "execution_count": 86,
   "metadata": {},
   "outputs": [
    {
     "name": "stdout",
     "output_type": "stream",
     "text": [
      "<class 'pandas.core.frame.DataFrame'>\n",
      "Index: 600 entries, 1 to 8490\n",
      "Data columns (total 27 columns):\n",
      " #   Column              Non-Null Count  Dtype  \n",
      "---  ------              --------------  -----  \n",
      " 0   product_id          600 non-null    object \n",
      " 1   product_name        600 non-null    object \n",
      " 2   brand_id            600 non-null    int64  \n",
      " 3   brand_name          600 non-null    object \n",
      " 4   loves_count         600 non-null    int64  \n",
      " 5   rating              600 non-null    float64\n",
      " 6   reviews             600 non-null    float64\n",
      " 7   size                594 non-null    object \n",
      " 8   variation_type      594 non-null    object \n",
      " 9   variation_value     592 non-null    object \n",
      " 10  variation_desc      1 non-null      object \n",
      " 11  ingredients         579 non-null    object \n",
      " 12  price_usd           600 non-null    float64\n",
      " 13  value_price_usd     4 non-null      float64\n",
      " 14  sale_price_usd      8 non-null      float64\n",
      " 15  limited_edition     600 non-null    int64  \n",
      " 16  new                 600 non-null    int64  \n",
      " 17  online_only         600 non-null    int64  \n",
      " 18  out_of_stock        600 non-null    int64  \n",
      " 19  sephora_exclusive   600 non-null    int64  \n",
      " 20  highlights          600 non-null    object \n",
      " 21  primary_category    600 non-null    object \n",
      " 22  secondary_category  599 non-null    object \n",
      " 23  tertiary_category   593 non-null    object \n",
      " 24  child_count         600 non-null    int64  \n",
      " 25  child_max_price     307 non-null    float64\n",
      " 26  child_min_price     307 non-null    float64\n",
      "dtypes: float64(7), int64(8), object(12)\n",
      "memory usage: 131.2+ KB\n"
     ]
    }
   ],
   "source": [
    "fragrant_data.info()"
   ]
  },
  {
   "cell_type": "code",
   "execution_count": null,
   "metadata": {},
   "outputs": [],
   "source": []
  },
  {
   "cell_type": "code",
   "execution_count": 42,
   "metadata": {},
   "outputs": [
    {
     "data": {
      "text/plain": [
       "<bound method NDFrame.head of      product_id                      product_name  brand_id  \\\n",
       "0       P473671           Fragrance Discovery Set      6342   \n",
       "1       P473668           La Habana Eau de Parfum      6342   \n",
       "2       P473662         Rainbow Bar Eau de Parfum      6342   \n",
       "3       P473660              Kasbah Eau de Parfum      6342   \n",
       "4       P473658         Purple Haze Eau de Parfum      6342   \n",
       "...         ...                               ...       ...   \n",
       "8487    P501330              Black Opium Gift Set      1070   \n",
       "8488    P504430      Libre Eau de Parfum Gift Set      1070   \n",
       "8490    P500874             L'Homme Eau de Parfum      1070   \n",
       "8491    P504428  Mon Paris Eau de Parfum Gift Set      1070   \n",
       "8492    P504448          Y Eau de Parfum Gift Set      1070   \n",
       "\n",
       "              brand_name  loves_count  rating  reviews            size  \\\n",
       "0                  19-69         6320  3.6364     11.0             NaN   \n",
       "1                  19-69         3827  4.1538     13.0  3.4 oz/ 100 mL   \n",
       "2                  19-69         3253  4.2500     16.0  3.4 oz/ 100 mL   \n",
       "3                  19-69         3018  4.4762     21.0  3.4 oz/ 100 mL   \n",
       "4                  19-69         2691  3.2308     13.0  3.4 oz/ 100 mL   \n",
       "...                  ...          ...     ...      ...             ...   \n",
       "8487  Yves Saint Laurent         3086  3.5000      2.0             NaN   \n",
       "8488  Yves Saint Laurent         2864  5.0000      1.0             NaN   \n",
       "8490  Yves Saint Laurent         2319  4.6367    556.0    2 oz / 60 mL   \n",
       "8491  Yves Saint Laurent         1475  5.0000      2.0             NaN   \n",
       "8492  Yves Saint Laurent          840     NaN      NaN             NaN   \n",
       "\n",
       "                          variation_type                   variation_value  \\\n",
       "0                                    NaN                               NaN   \n",
       "1     Size + Concentration + Formulation                    3.4 oz/ 100 mL   \n",
       "2     Size + Concentration + Formulation                    3.4 oz/ 100 mL   \n",
       "3     Size + Concentration + Formulation                    3.4 oz/ 100 mL   \n",
       "4     Size + Concentration + Formulation                    3.4 oz/ 100 mL   \n",
       "...                                  ...                               ...   \n",
       "8487                                 NaN                               NaN   \n",
       "8488                                 NaN                               NaN   \n",
       "8490  Size + Concentration + Formulation  2 oz / 60 mL eau de parfum spray   \n",
       "8491                                 NaN                               NaN   \n",
       "8492                                 NaN                               NaN   \n",
       "\n",
       "      ... online_only out_of_stock  sephora_exclusive  \\\n",
       "0     ...           1            0                  0   \n",
       "1     ...           1            0                  0   \n",
       "2     ...           1            0                  0   \n",
       "3     ...           1            0                  0   \n",
       "4     ...           1            0                  0   \n",
       "...   ...         ...          ...                ...   \n",
       "8487  ...           0            1                  0   \n",
       "8488  ...           1            1                  0   \n",
       "8490  ...           0            0                  0   \n",
       "8491  ...           1            1                  0   \n",
       "8492  ...           1            0                  0   \n",
       "\n",
       "                                             highlights  primary_category  \\\n",
       "0     ['Unisex/ Genderless Scent', 'Warm &Spicy Scen...         Fragrance   \n",
       "1     ['Unisex/ Genderless Scent', 'Layerable Scent'...         Fragrance   \n",
       "2     ['Unisex/ Genderless Scent', 'Layerable Scent'...         Fragrance   \n",
       "3     ['Unisex/ Genderless Scent', 'Layerable Scent'...         Fragrance   \n",
       "4     ['Unisex/ Genderless Scent', 'Layerable Scent'...         Fragrance   \n",
       "...                                                 ...               ...   \n",
       "8487                                                NaN         Fragrance   \n",
       "8488                                                NaN         Fragrance   \n",
       "8490        ['Layerable Scent', 'Woody & Earthy Scent']         Fragrance   \n",
       "8491                                                NaN         Fragrance   \n",
       "8492                                                NaN         Fragrance   \n",
       "\n",
       "      secondary_category  tertiary_category  child_count  child_max_price  \\\n",
       "0      Value & Gift Sets  Perfume Gift Sets            0              NaN   \n",
       "1                  Women            Perfume            2             85.0   \n",
       "2                  Women            Perfume            2             75.0   \n",
       "3                  Women            Perfume            2             75.0   \n",
       "4                  Women            Perfume            2             75.0   \n",
       "...                  ...                ...          ...              ...   \n",
       "8487   Value & Gift Sets  Perfume Gift Sets            0              NaN   \n",
       "8488   Value & Gift Sets  Perfume Gift Sets            0              NaN   \n",
       "8490                 Men            Cologne            1            129.0   \n",
       "8491   Value & Gift Sets  Perfume Gift Sets            0              NaN   \n",
       "8492   Value & Gift Sets  Cologne Gift Sets            0              NaN   \n",
       "\n",
       "      child_min_price  \n",
       "0                 NaN  \n",
       "1                30.0  \n",
       "2                30.0  \n",
       "3                30.0  \n",
       "4                30.0  \n",
       "...               ...  \n",
       "8487              NaN  \n",
       "8488              NaN  \n",
       "8490            129.0  \n",
       "8491              NaN  \n",
       "8492              NaN  \n",
       "\n",
       "[1432 rows x 27 columns]>"
      ]
     },
     "execution_count": 42,
     "metadata": {},
     "output_type": "execute_result"
    }
   ],
   "source": [
    "\n",
    "fragrant_data = products_df[products_df['primary_category'] == 'Fragrance']\n",
    "fragrant_data.head"
   ]
  },
  {
   "cell_type": "code",
   "execution_count": 43,
   "metadata": {},
   "outputs": [
    {
     "name": "stdout",
     "output_type": "stream",
     "text": [
      "<class 'pandas.core.frame.DataFrame'>\n",
      "Index: 1339 entries, 0 to 8491\n",
      "Data columns (total 27 columns):\n",
      " #   Column              Non-Null Count  Dtype  \n",
      "---  ------              --------------  -----  \n",
      " 0   product_id          1339 non-null   object \n",
      " 1   product_name        1339 non-null   object \n",
      " 2   brand_id            1339 non-null   int64  \n",
      " 3   brand_name          1339 non-null   object \n",
      " 4   loves_count         1339 non-null   int64  \n",
      " 5   rating              1339 non-null   float64\n",
      " 6   reviews             1339 non-null   float64\n",
      " 7   size                1194 non-null   object \n",
      " 8   variation_type      1176 non-null   object \n",
      " 9   variation_value     1171 non-null   object \n",
      " 10  variation_desc      1 non-null      object \n",
      " 11  ingredients         1186 non-null   object \n",
      " 12  price_usd           1339 non-null   float64\n",
      " 13  value_price_usd     61 non-null     float64\n",
      " 14  sale_price_usd      52 non-null     float64\n",
      " 15  limited_edition     1339 non-null   int64  \n",
      " 16  new                 1339 non-null   int64  \n",
      " 17  online_only         1339 non-null   int64  \n",
      " 18  out_of_stock        1339 non-null   int64  \n",
      " 19  sephora_exclusive   1339 non-null   int64  \n",
      " 20  highlights          814 non-null    object \n",
      " 21  primary_category    1339 non-null   object \n",
      " 22  secondary_category  1338 non-null   object \n",
      " 23  tertiary_category   1325 non-null   object \n",
      " 24  child_count         1339 non-null   int64  \n",
      " 25  child_max_price     567 non-null    float64\n",
      " 26  child_min_price     567 non-null    float64\n",
      "dtypes: float64(7), int64(8), object(12)\n",
      "memory usage: 292.9+ KB\n"
     ]
    }
   ],
   "source": [
    "# Filter out rows with no reviews (assuming the reviews are in a column named 'reviews')\n",
    "fragrant_data = fragrant_data[fragrant_data['reviews'].notnull()]\n",
    "\n",
    "# 1339 fragrants with reviews\n",
    "#print(fragrant_data)\n",
    "fragrant_data.info()"
   ]
  },
  {
   "cell_type": "code",
   "execution_count": 44,
   "metadata": {},
   "outputs": [
    {
     "name": "stdout",
     "output_type": "stream",
     "text": [
      "['Perfume Gift Sets' 'Perfume' 'Rollerballs & Travel Size' 'Cologne'\n",
      " 'Diffusers' 'Candles' nan 'Cologne Gift Sets' 'Body Mist & Hair Mist']\n"
     ]
    }
   ],
   "source": [
    "print(fragrant_data['tertiary_category'].unique())"
   ]
  },
  {
   "cell_type": "code",
   "execution_count": 45,
   "metadata": {},
   "outputs": [
    {
     "name": "stdout",
     "output_type": "stream",
     "text": [
      "     product_id                       product_name  brand_id  \\\n",
      "1       P473668            La Habana Eau de Parfum      6342   \n",
      "2       P473662          Rainbow Bar Eau de Parfum      6342   \n",
      "3       P473660               Kasbah Eau de Parfum      6342   \n",
      "4       P473658          Purple Haze Eau de Parfum      6342   \n",
      "5       P473661  Kasbah Eau de Parfum Travel Spray      6342   \n",
      "...         ...                                ...       ...   \n",
      "8479    P500170  Mon Paris Eau de Toilette Lumiere      1070   \n",
      "8481    P383083             L’Homme Parfum Intense      1070   \n",
      "8483    P460446                  L'Homme Le Parfum      1070   \n",
      "8486    P457262                      Y Eau Fraiche      1070   \n",
      "8490    P500874              L'Homme Eau de Parfum      1070   \n",
      "\n",
      "              brand_name  loves_count  rating  reviews             size  \\\n",
      "1                  19-69         3827  4.1538     13.0   3.4 oz/ 100 mL   \n",
      "2                  19-69         3253  4.2500     16.0   3.4 oz/ 100 mL   \n",
      "3                  19-69         3018  4.4762     21.0   3.4 oz/ 100 mL   \n",
      "4                  19-69         2691  3.2308     13.0   3.4 oz/ 100 mL   \n",
      "5                  19-69         2448  4.4762     21.0  0.25 oz/ 7.5 mL   \n",
      "...                  ...          ...     ...      ...              ...   \n",
      "8479  Yves Saint Laurent         5164  4.6214    346.0   1.7 oz / 50 mL   \n",
      "8481  Yves Saint Laurent         4369  4.5795     88.0   3.3 oz/ 100 mL   \n",
      "8483  Yves Saint Laurent         3812  5.0000      6.0   3.3 oz/ 100 mL   \n",
      "8486  Yves Saint Laurent         3089  4.7333    150.0   3.4 oz/ 100 mL   \n",
      "8490  Yves Saint Laurent         2319  4.6367    556.0     2 oz / 60 mL   \n",
      "\n",
      "                          variation_type                      variation_value  \\\n",
      "1     Size + Concentration + Formulation                       3.4 oz/ 100 mL   \n",
      "2     Size + Concentration + Formulation                       3.4 oz/ 100 mL   \n",
      "3     Size + Concentration + Formulation                       3.4 oz/ 100 mL   \n",
      "4     Size + Concentration + Formulation                       3.4 oz/ 100 mL   \n",
      "5     Size + Concentration + Formulation  0.25 oz/ 7.5 mL Eau de Parfum Spray   \n",
      "...                                  ...                                  ...   \n",
      "8479  Size + Concentration + Formulation                       1.7 oz / 50 mL   \n",
      "8481  Size + Concentration + Formulation   3.3 oz/ 100 mL Eau de Parfum Spray   \n",
      "8483  Size + Concentration + Formulation                       3.3 oz/ 100 mL   \n",
      "8486  Size + Concentration + Formulation                3.4 oz/ 100 mL  Spray   \n",
      "8490  Size + Concentration + Formulation     2 oz / 60 mL eau de parfum spray   \n",
      "\n",
      "      ... online_only out_of_stock  sephora_exclusive  \\\n",
      "1     ...           1            0                  0   \n",
      "2     ...           1            0                  0   \n",
      "3     ...           1            0                  0   \n",
      "4     ...           1            0                  0   \n",
      "5     ...           1            0                  0   \n",
      "...   ...         ...          ...                ...   \n",
      "8479  ...           0            0                  0   \n",
      "8481  ...           0            1                  0   \n",
      "8483  ...           0            0                  0   \n",
      "8486  ...           0            1                  0   \n",
      "8490  ...           0            0                  0   \n",
      "\n",
      "                                             highlights  primary_category  \\\n",
      "1     ['Unisex/ Genderless Scent', 'Layerable Scent'...         Fragrance   \n",
      "2     ['Unisex/ Genderless Scent', 'Layerable Scent'...         Fragrance   \n",
      "3     ['Unisex/ Genderless Scent', 'Layerable Scent'...         Fragrance   \n",
      "4     ['Unisex/ Genderless Scent', 'Layerable Scent'...         Fragrance   \n",
      "5     ['Warm &Spicy Scent', 'Unisex/ Genderless Scen...         Fragrance   \n",
      "...                                                 ...               ...   \n",
      "8479                                                NaN         Fragrance   \n",
      "8481                                                NaN         Fragrance   \n",
      "8483                                                NaN         Fragrance   \n",
      "8486                 ['Fresh Scent', 'Layerable Scent']         Fragrance   \n",
      "8490        ['Layerable Scent', 'Woody & Earthy Scent']         Fragrance   \n",
      "\n",
      "      secondary_category          tertiary_category  child_count  \\\n",
      "1                  Women                    Perfume            2   \n",
      "2                  Women                    Perfume            2   \n",
      "3                  Women                    Perfume            2   \n",
      "4                  Women                    Perfume            2   \n",
      "5                  Women  Rollerballs & Travel Size            0   \n",
      "...                  ...                        ...          ...   \n",
      "8479               Women                    Perfume            1   \n",
      "8481                 Men                    Cologne            0   \n",
      "8483                 Men                    Cologne            1   \n",
      "8486                 Men                    Cologne            0   \n",
      "8490                 Men                    Cologne            1   \n",
      "\n",
      "      child_max_price  child_min_price  \n",
      "1                85.0             30.0  \n",
      "2                75.0             30.0  \n",
      "3                75.0             30.0  \n",
      "4                75.0             30.0  \n",
      "5                 NaN              NaN  \n",
      "...               ...              ...  \n",
      "8479            125.0            125.0  \n",
      "8481              NaN              NaN  \n",
      "8483            119.0            119.0  \n",
      "8486              NaN              NaN  \n",
      "8490            129.0            129.0  \n",
      "\n",
      "[975 rows x 27 columns]\n"
     ]
    }
   ],
   "source": [
    "fragrant_data = fragrant_data[~fragrant_data['tertiary_category'].isin(['Candles', 'Diffusers', 'Body Mist & Hair Mist','Cologne Gift Sets','Perfume Gift Sets'])]\n",
    "\n",
    "print(fragrant_data)"
   ]
  },
  {
   "cell_type": "code",
   "execution_count": 47,
   "metadata": {},
   "outputs": [
    {
     "name": "stdout",
     "output_type": "stream",
     "text": [
      "     product_id                       product_name  brand_id  \\\n",
      "1       P473668            La Habana Eau de Parfum      6342   \n",
      "2       P473662          Rainbow Bar Eau de Parfum      6342   \n",
      "3       P473660               Kasbah Eau de Parfum      6342   \n",
      "4       P473658          Purple Haze Eau de Parfum      6342   \n",
      "5       P473661  Kasbah Eau de Parfum Travel Spray      6342   \n",
      "...         ...                                ...       ...   \n",
      "8476    P432087              L'Homme Cologne Bleue      1070   \n",
      "8477    P500062                  Y Eau de Toilette      1070   \n",
      "8478    P433904    Mon Paris Couture Eau de Parfum      1070   \n",
      "8486    P457262                      Y Eau Fraiche      1070   \n",
      "8490    P500874              L'Homme Eau de Parfum      1070   \n",
      "\n",
      "              brand_name  loves_count  rating  reviews             size  \\\n",
      "1                  19-69         3827  4.1538     13.0   3.4 oz/ 100 mL   \n",
      "2                  19-69         3253  4.2500     16.0   3.4 oz/ 100 mL   \n",
      "3                  19-69         3018  4.4762     21.0   3.4 oz/ 100 mL   \n",
      "4                  19-69         2691  3.2308     13.0   3.4 oz/ 100 mL   \n",
      "5                  19-69         2448  4.4762     21.0  0.25 oz/ 7.5 mL   \n",
      "...                  ...          ...     ...      ...              ...   \n",
      "8476  Yves Saint Laurent         6318  4.6071    112.0      2 oz/ 60 mL   \n",
      "8477  Yves Saint Laurent         6095  4.7365   1203.0  3.4 oz / 100 mL   \n",
      "8478  Yves Saint Laurent         5772  4.6512     43.0      1 oz/ 30 mL   \n",
      "8486  Yves Saint Laurent         3089  4.7333    150.0   3.4 oz/ 100 mL   \n",
      "8490  Yves Saint Laurent         2319  4.6367    556.0     2 oz / 60 mL   \n",
      "\n",
      "                          variation_type  \\\n",
      "1     Size + Concentration + Formulation   \n",
      "2     Size + Concentration + Formulation   \n",
      "3     Size + Concentration + Formulation   \n",
      "4     Size + Concentration + Formulation   \n",
      "5     Size + Concentration + Formulation   \n",
      "...                                  ...   \n",
      "8476  Size + Concentration + Formulation   \n",
      "8477  Size + Concentration + Formulation   \n",
      "8478  Size + Concentration + Formulation   \n",
      "8486  Size + Concentration + Formulation   \n",
      "8490  Size + Concentration + Formulation   \n",
      "\n",
      "                            variation_value  ... online_only out_of_stock  \\\n",
      "1                            3.4 oz/ 100 mL  ...           1            0   \n",
      "2                            3.4 oz/ 100 mL  ...           1            0   \n",
      "3                            3.4 oz/ 100 mL  ...           1            0   \n",
      "4                            3.4 oz/ 100 mL  ...           1            0   \n",
      "5       0.25 oz/ 7.5 mL Eau de Parfum Spray  ...           1            0   \n",
      "...                                     ...  ...         ...          ...   \n",
      "8476            2 oz/ 60 mL Eau de Toilette  ...           0            0   \n",
      "8477  3.4 oz / 100 mL eau de toilette spray  ...           0            0   \n",
      "8478                            1 oz/ 30 mL  ...           0            1   \n",
      "8486                  3.4 oz/ 100 mL  Spray  ...           0            1   \n",
      "8490       2 oz / 60 mL eau de parfum spray  ...           0            0   \n",
      "\n",
      "      sephora_exclusive                                         highlights  \\\n",
      "1                     0  ['Unisex/ Genderless Scent', 'Layerable Scent'...   \n",
      "2                     0  ['Unisex/ Genderless Scent', 'Layerable Scent'...   \n",
      "3                     0  ['Unisex/ Genderless Scent', 'Layerable Scent'...   \n",
      "4                     0  ['Unisex/ Genderless Scent', 'Layerable Scent'...   \n",
      "5                     0  ['Warm &Spicy Scent', 'Unisex/ Genderless Scen...   \n",
      "...                 ...                                                ...   \n",
      "8476                  0                 ['Fresh Scent', 'Layerable Scent']   \n",
      "8477                  0        ['Layerable Scent', 'Woody & Earthy Scent']   \n",
      "8478                  0                                   ['Floral Scent']   \n",
      "8486                  0                 ['Fresh Scent', 'Layerable Scent']   \n",
      "8490                  0        ['Layerable Scent', 'Woody & Earthy Scent']   \n",
      "\n",
      "      primary_category  secondary_category          tertiary_category  \\\n",
      "1            Fragrance               Women                    Perfume   \n",
      "2            Fragrance               Women                    Perfume   \n",
      "3            Fragrance               Women                    Perfume   \n",
      "4            Fragrance               Women                    Perfume   \n",
      "5            Fragrance               Women  Rollerballs & Travel Size   \n",
      "...                ...                 ...                        ...   \n",
      "8476         Fragrance                 Men                    Cologne   \n",
      "8477         Fragrance                 Men                    Cologne   \n",
      "8478         Fragrance               Women                    Perfume   \n",
      "8486         Fragrance                 Men                    Cologne   \n",
      "8490         Fragrance                 Men                    Cologne   \n",
      "\n",
      "      child_count  child_max_price  child_min_price  \n",
      "1               2             85.0             30.0  \n",
      "2               2             75.0             30.0  \n",
      "3               2             75.0             30.0  \n",
      "4               2             75.0             30.0  \n",
      "5               0              NaN              NaN  \n",
      "...           ...              ...              ...  \n",
      "8476            1            108.0            108.0  \n",
      "8477            1             98.0             98.0  \n",
      "8478            0              NaN              NaN  \n",
      "8486            0              NaN              NaN  \n",
      "8490            1            129.0            129.0  \n",
      "\n",
      "[600 rows x 27 columns]\n"
     ]
    }
   ],
   "source": [
    "fragrant_data = fragrant_data[fragrant_data['highlights'].notnull()]\n",
    "print(fragrant_data)\n"
   ]
  },
  {
   "cell_type": "code",
   "execution_count": 22,
   "metadata": {},
   "outputs": [
    {
     "name": "stdout",
     "output_type": "stream",
     "text": [
      "[\"['Unisex/ Genderless Scent', 'Warm &Spicy Scent', 'Woody & Earthy Scent', 'Fresh Scent']\"\n",
      " \"['Unisex/ Genderless Scent', 'Layerable Scent', 'Warm &Spicy Scent']\"\n",
      " \"['Unisex/ Genderless Scent', 'Layerable Scent', 'Woody & Earthy Scent']\"\n",
      " \"['Warm &Spicy Scent', 'Unisex/ Genderless Scent', 'Layerable Scent']\"\n",
      " \"['Unisex/ Genderless Scent', 'allure 2022 Best of Beauty Award Winner', 'Fresh Scent']\"\n",
      " \"['Fresh Scent', 'Layerable Scent', 'Unisex/ Genderless Scent']\"\n",
      " \"['Unisex/ Genderless Scent', 'Layerable Scent', 'Fresh Scent']\"\n",
      " \"['Fresh Scent', 'Unisex/ Genderless Scent', 'Layerable Scent']\"\n",
      " \"['Vegan', 'Woody & Earthy Scent', 'Clean + Planet Positive', 'Floral Scent', 'Fresh Scent', 'Cruelty-Free']\"\n",
      " \"['Clean + Planet Positive', 'Vegan', 'Cruelty-Free', 'Fresh Scent', 'Without Parabens', 'Without Phthalates']\"\n",
      " \"['Vegan', 'Clean + Planet Positive', 'Fresh Scent', 'Without Phthalates', 'Without Parabens', 'Cruelty-Free']\"\n",
      " \"['Vegan', 'Woody & Earthy Scent', 'Clean + Planet Positive', 'Without Phthalates', 'Without Parabens', 'Cruelty-Free']\"\n",
      " \"['Clean + Planet Positive', 'Vegan', 'Cruelty-Free', 'Woody & Earthy Scent', 'Without Parabens', 'Without Phthalates']\"\n",
      " \"['Woody & Earthy Scent', 'Clean + Planet Positive', 'Vegan', 'Cruelty-Free', 'Without Parabens', 'Without Phthalates']\"\n",
      " \"['Unisex/ Genderless Scent', 'Fresh Scent']\" nan\n",
      " \"['Floral Scent', 'Layerable Scent', 'Fresh Scent']\"\n",
      " \"['Floral Scent', 'Layerable Scent', 'Warm &Spicy Scent']\"\n",
      " \"['Layerable Scent', 'Floral Scent', 'Fresh Scent']\"\n",
      " \"['Layerable Scent', 'Floral Scent']\"\n",
      " \"['Layerable Scent', 'Fresh Scent']\" \"['Floral Scent']\"\n",
      " \"['Refill Available', 'Floral Scent']\" \"['Floral Scent', 'Fresh Scent']\"\n",
      " \"['Refill Available', 'Fresh Scent']\"\n",
      " \"['Refill Available', 'Woody & Earthy Scent']\"\n",
      " \"['Cream Formula', 'Floral Scent', 'Hydrating', 'Matte Finish', 'Long-wearing']\"\n",
      " \"['Woody & Earthy Scent']\"\n",
      " \"['Unisex/ Genderless Scent', 'Layerable Scent', 'Without Parabens', 'Cruelty-Free']\"\n",
      " \"['Vegan', 'Unisex/ Genderless Scent', 'Without Phthalates', 'Without Parabens', 'Cruelty-Free']\"\n",
      " \"['Vegan', 'Unisex/ Genderless Scent', 'Warm &Spicy Scent', 'Without Phthalates', 'Without Parabens', 'Cruelty-Free']\"\n",
      " \"['Unisex/ Genderless Scent', 'Without Phthalates', 'Without Parabens']\"\n",
      " \"['Unisex/ Genderless Scent', 'Floral Scent', 'Without Phthalates', 'Without Parabens']\"\n",
      " \"['Vegan', 'Unisex/ Genderless Scent', 'Floral Scent', 'Without Phthalates', 'Without Parabens', 'Cruelty-Free']\"\n",
      " \"['Unisex/ Genderless Scent', 'Woody & Earthy Scent', 'Floral Scent', 'Without Phthalates', 'Without Parabens']\"\n",
      " \"['Unisex/ Genderless Scent', 'Woody & Earthy Scent', 'Without Parabens']\"\n",
      " \"['Unisex/ Genderless Scent', 'Warm &Spicy Scent', 'Woody & Earthy Scent', 'Floral Scent', 'Without Phthalates', 'Without Parabens']\"\n",
      " \"['Without Phthalates', 'Without Parabens']\"\n",
      " \"['Unisex/ Genderless Scent', 'Floral Scent', 'Without Parabens']\"\n",
      " \"['Unisex/ Genderless Scent', 'Woody & Earthy Scent', 'Without Phthalates', 'Without Parabens']\"\n",
      " \"['Vegan', 'Woody & Earthy Scent', 'Without Phthalates', 'Without Parabens', 'Cruelty-Free']\"\n",
      " \"['Unisex/ Genderless Scent', 'Warm &Spicy Scent', 'Without Phthalates', 'Without Parabens']\"\n",
      " \"['Unisex/ Genderless Scent', 'Fresh Scent', 'Without Phthalates', 'Without Parabens']\"\n",
      " \"['Floral Scent', 'Layerable Scent']\"\n",
      " \"['Layerable Scent', 'Warm &Spicy Scent', 'Floral Scent']\"\n",
      " \"['Warm &Spicy Scent', 'Layerable Scent']\"\n",
      " \"['Woody & Earthy Scent', 'Layerable Scent']\"\n",
      " \"['Layerable Scent', 'Woody & Earthy Scent']\"\n",
      " \"['Floral Scent', 'Clean + Planet Positive', 'Vegan']\"\n",
      " \"['Vegan', 'Layerable Scent', 'Warm &Spicy Scent', 'Clean + Planet Positive', 'Hypoallergenic']\"\n",
      " \"['Vegan', 'Layerable Scent', 'Clean + Planet Positive', 'Cruelty-Free']\"\n",
      " \"['Woody & Earthy Scent', 'Clean + Planet Positive', 'Unisex/ Genderless Scent', 'Vegan']\"\n",
      " \"['Vegan', 'Layerable Scent', 'Clean + Planet Positive', 'Fresh Scent', 'Hypoallergenic']\"\n",
      " \"['Vegan', 'Floral Scent', 'Clean + Planet Positive', 'Alcohol Free']\"\n",
      " \"['Fresh Scent', 'Clean + Planet Positive', 'Vegan']\"\n",
      " \"['Vegan', 'Unisex/ Genderless Scent', 'Woody & Earthy Scent', 'Clean + Planet Positive', 'Alcohol Free']\"\n",
      " \"['Clean + Planet Positive']\"\n",
      " \"['Woody & Earthy Scent', 'Clean + Planet Positive', 'Vegan']\"\n",
      " \"['Vegan', 'Floral Scent', 'Clean + Planet Positive']\"\n",
      " \"['Vegan', 'Layerable Scent', 'Clean at Sephora', 'Without Phthalates', 'Without Parabens', 'Cruelty-Free']\"\n",
      " \"['Vegan', 'Floral Scent', 'Clean + Planet Positive', 'Cruelty-Free']\"\n",
      " \"['Vegan', 'Clean + Planet Positive', 'Fresh Scent', 'Alcohol Free']\"\n",
      " \"['Vegan', 'Unisex/ Genderless Scent', 'Woody & Earthy Scent', 'Clean + Planet Positive']\"\n",
      " \"['Vegan', 'Woody & Earthy Scent', 'Clean + Planet Positive', 'Alcohol Free']\"\n",
      " \"['Vegan', 'Layerable Scent', 'Warm &Spicy Scent', 'Clean at Sephora', 'Cruelty-Free']\"\n",
      " \"['Vegan', 'Layerable Scent', 'Floral Scent', 'Clean at Sephora', 'Without Parabens', 'Cruelty-Free']\"\n",
      " \"['Unisex/ Genderless Scent', 'Refill Available', 'Customizable']\"\n",
      " \"['Woody & Earthy Scent', 'Without Mineral Oil', 'Without Phthalates', 'Without Parabens', 'Without Sulfates SLS & SLES', 'Cruelty-Free']\"\n",
      " \"['Vegan', 'Layerable Scent', 'Floral Scent']\"\n",
      " \"['Layerable Scent', 'Warm &Spicy Scent', 'Woody & Earthy Scent']\"\n",
      " \"['Warm &Spicy Scent', 'Woody & Earthy Scent', 'Without Phthalates']\"\n",
      " \"['allure 2020 Best of Beauty Award Winner', 'Layerable Scent', 'Floral Scent']\"\n",
      " \"['Vegan', 'Without Phthalates', 'Gluten Free']\"\n",
      " \"['Clean at Sephora', 'Without Phthalates']\"\n",
      " \"['Vegan', 'Layerable Scent', 'Clean at Sephora', 'Cruelty-Free']\"\n",
      " \"['Vegan', 'Clean at Sephora', 'Without Phthalates', 'Gluten Free']\"\n",
      " \"['Without Phthalates', 'Gluten Free', 'Vegan']\"\n",
      " \"['Vegan', 'Layerable Scent', 'Clean at Sephora', 'Without Phthalates']\"\n",
      " \"['Vegan', 'Unisex/ Genderless Scent', 'Clean at Sephora', 'Cruelty-Free']\"\n",
      " \"['Vegan', 'Unisex/ Genderless Scent', 'Layerable Scent', 'Clean + Planet Positive', 'Without Phthalates', 'Cruelty-Free']\"\n",
      " \"['Vegan', 'Unisex/ Genderless Scent', 'Layerable Scent', 'Warm &Spicy Scent', 'Clean + Planet Positive', 'Without Phthalates']\"\n",
      " \"['Vegan', 'Unisex/ Genderless Scent', 'Layerable Scent', 'Clean + Planet Positive', 'Fresh Scent', 'Without Phthalates']\"\n",
      " \"['Vegan', 'Unisex/ Genderless Scent', 'Layerable Scent', 'Woody & Earthy Scent', 'Clean + Planet Positive', 'Without Phthalates']\"\n",
      " \"['Vegan', 'Layerable Scent', 'Clean + Planet Positive', 'Fresh Scent']\"\n",
      " \"['Vegan', 'Clean + Planet Positive', 'Without Phthalates', 'Cruelty-Free']\"\n",
      " \"['allure 2020 Best of Beauty Award Winner', 'Clean + Planet Positive', 'Vegan', 'Warm &Spicy Scent']\"\n",
      " \"['Vegan', 'Clean + Planet Positive', 'Without Phthalates', 'Without Parabens', 'Cruelty-Free']\"\n",
      " \"['Vegan', 'Warm &Spicy Scent', 'Clean + Planet Positive', 'Without Phthalates', 'Without Parabens']\"\n",
      " \"['Clean + Planet Positive', 'Cruelty-Free', 'Vegan', 'Without Parabens', 'Without Phthalates']\"\n",
      " \"['Clean + Planet Positive', 'Vegan', 'Without Parabens', 'Without Phthalates', 'Warm &Spicy Scent']\"\n",
      " \"['Clean + Planet Positive', 'Vegan', 'Layerable Scent']\"\n",
      " \"['Vegan', 'Sustainable Packaging', 'Clean + Planet Positive', 'Without Phthalates', 'Without Parabens', 'Cruelty-Free']\"\n",
      " \"['Clean + Planet Positive', 'Floral Scent', 'Vegan', 'Without Phthalates']\"\n",
      " \"['Vegan', 'Warm &Spicy Scent', 'Clean + Planet Positive', 'Fresh Scent']\"\n",
      " \"['Vegan', 'Clean at Sephora', 'Without Phthalates', 'Without Parabens', 'Cruelty-Free']\"\n",
      " \"['Clean + Planet Positive', 'Vegan', 'Warm &Spicy Scent', 'Without Phthalates']\"\n",
      " \"['Vegan', 'Unisex/ Genderless Scent', 'Clean + Planet Positive', 'Fresh Scent']\"\n",
      " \"['Vegan', 'Warm &Spicy Scent', 'Clean + Planet Positive', 'Without Phthalates']\"\n",
      " \"['Clean at Sephora', 'Cruelty-Free', 'Vegan', 'Without Parabens', 'Without Phthalates']\"\n",
      " \"['Vegan', 'Sustainable Packaging', 'Clean at Sephora', 'Without Sulfates SLS & SLES', 'Cruelty-Free']\"\n",
      " \"['Vegan', 'Clean at Sephora', 'Without Phthalates', 'Cruelty-Free']\"\n",
      " \"['Vegan', 'Unisex/ Genderless Scent', 'Clean + Planet Positive', 'Fresh Scent', 'Without Phthalates']\"\n",
      " \"['Vegan', 'Unisex/ Genderless Scent', 'Layerable Scent', 'Clean + Planet Positive', 'Hypoallergenic']\"\n",
      " \"['Clean + Planet Positive', 'Hypoallergenic', 'Layerable Scent', 'Unisex/ Genderless Scent', 'Vegan']\"\n",
      " \"['Unisex/ Genderless Scent', 'Floral Scent']\"\n",
      " \"['Vegan', 'Floral Scent', 'Cruelty-Free']\"\n",
      " \"['Vegan', 'Woody & Earthy Scent', 'Cruelty-Free']\"\n",
      " \"['Vegan', 'Clean at Sephora', 'Fresh Scent', 'Cruelty-Free']\"\n",
      " \"['Vegan', 'Fresh Scent', 'Cruelty-Free']\"\n",
      " \"['Vegan', 'Warm &Spicy Scent', 'Cruelty-Free']\"\n",
      " \"['Vegan', 'Sustainable Packaging', 'Layerable Scent', 'Cruelty-Free']\"\n",
      " \"['Vegan', 'Sustainable Packaging', 'Floral Scent', 'Without Phthalates', 'Without Parabens', 'Cruelty-Free']\"\n",
      " \"['Vegan', 'Cruelty-Free', 'Sustainable Packaging', 'Without Parabens', 'Without Phthalates', 'Floral Scent']\"\n",
      " \"['Warm &Spicy Scent', 'Woody & Earthy Scent', 'Floral Scent']\"\n",
      " \"['Vegan', 'Unisex/ Genderless Scent', 'Warm &Spicy Scent', 'Fresh Scent', 'Without Phthalates', 'Without Parabens']\"\n",
      " \"['Vegan', 'Unisex/ Genderless Scent', 'Floral Scent', 'Without Phthalates', 'Without Parabens']\"\n",
      " \"['Floral Scent', 'Vegan', 'Fresh Scent', 'Without Phthalates', 'Without Parabens']\"\n",
      " \"['Unisex/ Genderless Scent', 'Woody & Earthy Scent']\"\n",
      " \"['Warm &Spicy Scent', 'Woody & Earthy Scent']\"\n",
      " \"['Layerable Scent', 'Floral Scent', 'Long-wearing']\"\n",
      " \"['Vegan', 'Unisex/ Genderless Scent', 'Layerable Scent', 'Warm &Spicy Scent', 'Woody & Earthy Scent', 'Cruelty-Free']\"\n",
      " \"['allure 2022 Best of Beauty Award Winner', 'Layerable Scent', 'Floral Scent']\"\n",
      " \"['Warm &Spicy Scent', 'Floral Scent']\"\n",
      " \"['Layerable Scent', 'Refill Available', 'Fresh Scent']\"\n",
      " \"['Layerable Scent', 'Refill Available', 'Floral Scent']\"\n",
      " \"['Vegan', 'Layerable Scent', 'Warm &Spicy Scent', 'Clean at Sephora', 'Without Phthalates', 'Without Parabens']\"\n",
      " \"['Vegan', 'Layerable Scent', 'Woody & Earthy Scent', 'Clean at Sephora', 'Without Phthalates', 'Without Parabens']\"\n",
      " \"['Unisex/ Genderless Scent', 'Layerable Scent', 'Warm &Spicy Scent', 'Clean at Sephora', 'Cruelty-Free']\"\n",
      " \"['Sustainable Packaging', 'Woody & Earthy Scent']\"\n",
      " \"['Woody & Earthy Scent', 'Layerable Scent', 'Unisex/ Genderless Scent']\"\n",
      " \"['Layerable Scent', 'Unisex/ Genderless Scent']\"\n",
      " \"['Unisex/ Genderless Scent', 'Layerable Scent']\"\n",
      " \"['Unisex/ Genderless Scent', 'Layerable Scent', 'Floral Scent']\"\n",
      " \"['Floral Scent', 'Without Parabens', 'Without Phthalates']\"\n",
      " \"['Unisex/ Genderless Scent', 'Layerable Scent', 'Fresh Scent', 'Without Phthalates', 'Without Parabens', 'Gluten Free']\"\n",
      " \"['Fresh Scent', 'Without Phthalates', 'Without Parabens']\"\n",
      " \"['Floral Scent', 'Layerable Scent', 'Unisex/ Genderless Scent', 'Gluten Free', 'Without Parabens', 'Without Phthalates']\"\n",
      " \"['Without Phthalates', 'Without Parabens', 'Floral Scent']\"\n",
      " \"['Unisex/ Genderless Scent', 'Layerable Scent', 'Floral Scent', 'Without Phthalates', 'Without Parabens']\"\n",
      " \"['Unisex/ Genderless Scent', 'Layerable Scent', 'Warm &Spicy Scent', 'Hypoallergenic']\"\n",
      " \"['Layerable Scent', 'Woody & Earthy Scent', 'Floral Scent']\"\n",
      " \"['Floral Scent', 'Unisex/ Genderless Scent', 'Layerable Scent']\"\n",
      " \"['Unisex/ Genderless Scent', 'Floral Scent', 'Long-wearing']\"\n",
      " \"['Floral Scent', 'Long-wearing', 'Unisex/ Genderless Scent']\"\n",
      " \"['Floral Scent', 'Unisex/ Genderless Scent']\"\n",
      " \"['Unisex/ Genderless Scent', 'Layerable Scent', 'Cruelty-Free']\"\n",
      " \"['Unisex/ Genderless Scent', 'Layerable Scent', 'Warm &Spicy Scent', 'Woody & Earthy Scent', 'Floral Scent', 'Cruelty-Free']\"\n",
      " \"['Floral Scent', 'Cruelty-Free', 'Unisex/ Genderless Scent', 'Layerable Scent', 'Vegan']\"\n",
      " \"['Vegan', 'Unisex/ Genderless Scent', 'Layerable Scent', 'Floral Scent', 'Cruelty-Free']\"\n",
      " \"['Unisex/ Genderless Scent', 'Layerable Scent', 'Floral Scent', 'Cruelty-Free']\"\n",
      " \"['Layerable Scent', 'Warm &Spicy Scent', 'Cruelty-Free']\"\n",
      " \"['Vegan', 'Unisex/ Genderless Scent', 'Layerable Scent', 'Warm &Spicy Scent']\"\n",
      " \"['Unisex/ Genderless Scent', 'Layerable Scent', 'Warm &Spicy Scent', 'Floral Scent', 'Cruelty-Free']\"\n",
      " \"['allure 2022 Best of Beauty Award Winner']\"\n",
      " \"['Vegan', 'Unisex/ Genderless Scent', 'Layerable Scent', 'Warm &Spicy Scent', 'Cruelty-Free']\"\n",
      " \"['Layerable Scent', 'Warm &Spicy Scent', 'Floral Scent', 'Cruelty-Free']\"\n",
      " \"['Unisex/ Genderless Scent', 'Warm &Spicy Scent']\"\n",
      " \"['Woody & Earthy Scent', 'Unisex/ Genderless Scent']\"\n",
      " \"['Floral Scent', 'Fresh Scent', 'allure 2020 Best of Beauty Award Winner']\"\n",
      " \"['allure 2020 Best of Beauty Award Winner', 'Warm &Spicy Scent', 'Floral Scent']\"\n",
      " \"['Woody & Earthy Scent', 'Vegan', 'Without Parabens', 'Without Sulfates SLS & SLES', 'Clean + Planet Positive']\"\n",
      " \"['Clean + Planet Positive', 'Woody & Earthy Scent', 'Layerable Scent', 'Without Parabens', 'Without Phthalates', 'Vegan']\"\n",
      " \"['Vegan', 'Unisex/ Genderless Scent', 'Woody & Earthy Scent', 'Clean at Sephora']\"\n",
      " \"['Without Parabens', 'Without Phthalates', 'Clean + Planet Positive', 'Unisex/ Genderless Scent', 'Vegan']\"\n",
      " \"['Woody & Earthy Scent', 'Clean + Planet Positive', 'Without Parabens', 'Without Phthalates', 'Vegan']\"\n",
      " \"['Vegan', 'Clean + Planet Positive', 'Without Parabens', 'Woody & Earthy Scent', 'Without Sulfates SLS & SLES']\"\n",
      " \"['Clean + Planet Positive', 'Vegan', 'Without Phthalates', 'Woody & Earthy Scent', 'Without Parabens']\"\n",
      " \"['Woody & Earthy Scent', 'Clean + Planet Positive', 'Vegan', 'Without Phthalates']\"\n",
      " \"['Vegan', 'Clean + Planet Positive', 'Without Phthalates', 'Without Parabens', 'Alcohol Free', 'Cruelty-Free']\"\n",
      " \"['Vegan', 'Unisex/ Genderless Scent', 'Clean + Planet Positive', 'Without Phthalates', 'Without Parabens']\"\n",
      " \"['Vegan', 'Unisex/ Genderless Scent', 'Layerable Scent', 'Clean at Sephora']\"\n",
      " \"['Layerable Scent', 'Clean + Planet Positive', 'Vegan', 'Without Phthalates']\"\n",
      " \"['Alcohol Free', 'Vegan', 'Cruelty-Free', 'Woody & Earthy Scent']\"\n",
      " \"['Fresh Scent', 'Unisex/ Genderless Scent']\"\n",
      " \"['Warm &Spicy Scent', 'Unisex/ Genderless Scent']\"\n",
      " \"['Unisex/ Genderless Scent', 'Warm &Spicy Scent', 'Fresh Scent']\"\n",
      " \"['Woody & Earthy Scent', 'Floral Scent']\"\n",
      " \"['Woody & Earthy Scent', 'Clean at Sephora', 'Good for: Dryness', 'Without Parabens', 'Cruelty-Free']\"\n",
      " \"['Layerable Scent', 'Floral Scent', 'Hydrating', 'All Hair Types', 'Without Parabens', 'Without Sulfates SLS & SLES']\"\n",
      " \"['Floral Scent', 'Refill Available']\"\n",
      " \"['Refill Available', 'Warm &Spicy Scent']\"\n",
      " \"['Floral Scent', 'Long-wearing']\"\n",
      " \"['Warm &Spicy Scent', 'Refill Available']\"\n",
      " \"['allure 2022 Best of Beauty Award Winner', 'Without Mineral Oil', 'Without Phthalates', 'Without Parabens', 'Without Sulfates SLS & SLES']\"\n",
      " \"['Cruelty-Free', 'Vegan', 'Floral Scent', 'Without Phthalates', 'Without Parabens', 'Without Silicones']\"\n",
      " \"['Without Sulfates SLS & SLES', 'Without Parabens', 'Without Phthalates', 'Without Mineral Oil']\"\n",
      " \"['allure 2022 Best of Beauty Award Winner', 'Without Mineral Oil', 'Without Phthalates', 'allure 2021 Best of Beauty Award Winner', 'Without Parabens', 'Without Sulfates SLS & SLES']\"\n",
      " \"['Vegan', 'Without Mineral Oil', 'Without Phthalates', 'Without Parabens', 'Without Sulfates SLS & SLES', 'Cruelty-Free']\"\n",
      " \"['Without Mineral Oil', 'Without Phthalates', 'Without Parabens', 'Without Sulfates SLS & SLES']\"\n",
      " \"['Vegan', 'Warm &Spicy Scent', 'Without Phthalates', 'Without Parabens', 'Without Sulfates SLS & SLES', 'Cruelty-Free']\"\n",
      " \"['Vegan', 'Without Phthalates', 'Without Parabens', 'Without Sulfates SLS & SLES', 'Cruelty-Free']\"\n",
      " \"['Fresh Scent', 'Without Parabens', 'Without Sulfates SLS & SLES']\"\n",
      " \"['Vegan', 'Woody & Earthy Scent', 'Without Phthalates', 'Without Parabens', 'Without Sulfates SLS & SLES', 'Cruelty-Free']\"\n",
      " \"['Vegan', 'Without Mineral Oil', 'Without Phthalates', 'Without Parabens', 'Without Silicones', 'Cruelty-Free']\"\n",
      " \"['Without Sulfates SLS & SLES', 'Without Phthalates', 'Without Parabens', 'Vegan', 'Cruelty-Free', 'Woody & Earthy Scent']\"\n",
      " \"['Cruelty-Free', 'Vegan', 'Without Parabens', 'Without Phthalates', 'Without Sulfates SLS & SLES']\"\n",
      " \"['Woody & Earthy Scent', 'Vegan', 'Without Parabens', 'Without Phthalates']\"\n",
      " \"['Vegan', 'Warm &Spicy Scent', 'Without Phthalates', 'Without Parabens', 'Cruelty-Free']\"\n",
      " \"['Vegan', 'Cruelty-Free', 'Woody & Earthy Scent', 'Without Parabens', 'Without Phthalates']\"\n",
      " \"['Floral Scent', 'Vegan', 'Cruelty-Free', 'Without Parabens', 'Without Phthalates']\"\n",
      " \"['Vegan', 'Fresh Scent', 'Without Phthalates', 'Without Parabens', 'Cruelty-Free']\"\n",
      " \"['Vegan', 'Fresh Scent', 'Without Parabens', 'Without Phthalates']\"\n",
      " \"['Vegan', 'Cruelty-Free', 'Warm &Spicy Scent', 'Without Parabens', 'Without Phthalates']\"\n",
      " \"['Vegan', 'Cruelty-Free', 'Fresh Scent', 'Without Parabens', 'Without Phthalates']\"\n",
      " \"['Fresh Scent', 'Vegan', 'Without Parabens', 'Without Phthalates', 'Layerable Scent']\"\n",
      " \"['Vegan', 'Layerable Scent', 'Floral Scent', 'Without Phthalates', 'Without Parabens']\"\n",
      " \"['Cruelty-Free', 'Layerable Scent', 'Unisex/ Genderless Scent', 'Fresh Scent']\"\n",
      " \"['Warm &Spicy Scent', 'Clean at Sephora', 'Cruelty-Free']\"\n",
      " \"['Layerable Scent', 'Clean at Sephora', 'Cruelty-Free']\"\n",
      " \"['Unisex/ Genderless Scent', 'Clean at Sephora', 'Cruelty-Free']\"\n",
      " \"['Woody & Earthy Scent', 'Clean at Sephora']\"\n",
      " \"['Vegan', 'Warm &Spicy Scent', 'Clean at Sephora', 'Cruelty-Free']\"\n",
      " \"['Floral Scent', 'Clean at Sephora', 'Cruelty-Free']\"\n",
      " \"['Fresh Scent', 'Clean at Sephora', 'Cruelty-Free']\"\n",
      " \"['Floral Scent', 'Cruelty-Free', 'Clean at Sephora']\"\n",
      " \"['Vegan', 'Without Phthalates', 'Without Parabens', 'Without Sulfates SLS & SLES']\"\n",
      " \"['Layerable Scent', 'Warm &Spicy Scent']\"\n",
      " \"['Clean at Sephora', 'Warm &Spicy Scent', 'Hypoallergenic', 'Layerable Scent', 'Vegan', 'Cruelty-Free']\"\n",
      " \"['Clean at Sephora', 'Hypoallergenic', 'Layerable Scent', 'Vegan', 'Cruelty-Free']\"\n",
      " \"['Vegan', 'Layerable Scent', 'Clean at Sephora', 'Fresh Scent', 'Hypoallergenic']\"\n",
      " \"['Vegan', 'Layerable Scent', 'Clean at Sephora', 'Fresh Scent', 'Hypoallergenic', 'Cruelty-Free']\"\n",
      " \"['Vegan', 'Layerable Scent', 'Floral Scent', 'Clean at Sephora', 'Hypoallergenic', 'Cruelty-Free']\"\n",
      " \"['Vegan', 'Layerable Scent', 'Warm &Spicy Scent', 'Clean at Sephora', 'Hypoallergenic', 'Cruelty-Free']\"\n",
      " \"['Clean at Sephora', 'Fresh Scent', 'Hypoallergenic', 'Layerable Scent', 'Vegan', 'Cruelty-Free']\"\n",
      " \"['Vegan', 'Warm &Spicy Scent', 'Clean at Sephora', 'Customizable', 'Hypoallergenic', 'Cruelty-Free']\"\n",
      " \"['Vegan', 'Layerable Scent', 'Woody & Earthy Scent', 'Clean at Sephora', 'Hypoallergenic', 'Cruelty-Free']\"\n",
      " \"['Vegan', 'Clean at Sephora', 'Fresh Scent', 'Customizable', 'Hypoallergenic', 'Cruelty-Free']\"\n",
      " \"['Vegan', 'Layerable Scent', 'Warm &Spicy Scent', 'Without Phthalates', 'Cruelty-Free']\"\n",
      " \"['Vegan', 'Layerable Scent', 'Floral Scent', 'Without Parabens', 'Cruelty-Free']\"\n",
      " \"['Vegan', 'Recyclable Packaging', 'Layerable Scent', 'Floral Scent', 'Without Phthalates', 'Cruelty-Free']\"\n",
      " \"['Vegan', 'Unisex/ Genderless Scent', 'Clean + Planet Positive', 'Without Phthalates', 'Hypoallergenic', 'Cruelty-Free']\"\n",
      " \"['Vegan', 'Unisex/ Genderless Scent', 'Layerable Scent', 'Clean + Planet Positive', 'Hypoallergenic', 'Cruelty-Free']\"\n",
      " \"['Clean + Planet Positive', 'Without Phthalates', 'Cruelty-Free']\"\n",
      " \"['Vegan', 'Unisex/ Genderless Scent', 'Layerable Scent', 'Cruelty-Free']\"\n",
      " \"['Vegan', 'Unisex/ Genderless Scent', 'Layerable Scent', 'Fresh Scent', 'Cruelty-Free']\"\n",
      " \"['Floral Scent', 'Without Parabens']\"\n",
      " \"['Warm &Spicy Scent', 'Floral Scent', 'Without Parabens']\"\n",
      " \"['Floral Scent', 'Fresh Scent', 'Without Parabens']\"\n",
      " \"['Floral Scent', 'Warm &Spicy Scent', 'Without Parabens']\"\n",
      " \"['allure 2021 Best of Beauty Award Winner', 'Warm &Spicy Scent', 'Unisex/ Genderless Scent', 'Layerable Scent']\"\n",
      " \"['Woody & Earthy Scent', 'Unisex/ Genderless Scent', 'Layerable Scent']\"\n",
      " \"['Fresh Scent', 'allure 2020 Best of Beauty Award Winner', 'Unisex/ Genderless Scent', 'Layerable Scent']\"\n",
      " \"['allure 2020 Best of Beauty Award Winner', 'Unisex/ Genderless Scent', 'Layerable Scent', 'Fresh Scent']\"\n",
      " \"['Floral Scent', 'Layerable Scent', 'Unisex/ Genderless Scent']\"\n",
      " \"['allure 2020 Best of Beauty Award Winner', 'Floral Scent']\"\n",
      " \"['Fresh Scent', 'Layerable Scent']\" \"['All Hair Types', 'Fresh Scent']\"\n",
      " \"['Vegan', 'Refill Available', 'Floral Scent']\"\n",
      " \"['Vegan', 'Floral Scent']\" \"['Fresh Scent']\" \"['Warm &Spicy Scent']\"\n",
      " \"['Vegan', 'Floral Scent', 'Without Phthalates', 'Without Parabens', 'Without Sulfates SLS & SLES', 'Cruelty-Free']\"\n",
      " \"['Vegan', 'Fresh Scent', 'Without Phthalates', 'Without Parabens', 'Without Sulfates SLS & SLES', 'Cruelty-Free']\"\n",
      " \"['Without Sulfates SLS & SLES', 'Without Parabens', 'Without Phthalates', 'Cruelty-Free', 'Vegan', 'Fresh Scent']\"\n",
      " \"['Vegan', 'Without Phthalates', 'Without Parabens', 'Without Sulfates SLS & SLES', 'Gluten Free', 'Cruelty-Free']\"\n",
      " \"['Fresh Scent', 'Warm &Spicy Scent', 'Woody & Earthy Scent', 'Floral Scent', 'Layerable Scent']\"\n",
      " \"['Unisex/ Genderless Scent', 'Fresh Scent', 'Layerable Scent']\"\n",
      " \"['Unisex/ Genderless Scent', 'Warm &Spicy Scent', 'Layerable Scent']\"\n",
      " \"['Unisex/ Genderless Scent', 'Woody & Earthy Scent', 'Layerable Scent']\"]\n"
     ]
    }
   ],
   "source": [
    "print(fragrant_data['highlights'].unique())"
   ]
  },
  {
   "cell_type": "code",
   "execution_count": 50,
   "metadata": {},
   "outputs": [
    {
     "name": "stdout",
     "output_type": "stream",
     "text": [
      "{'Clean + Planet Positive', 'Floral Scent', 'Without Parabens', 'Layerable Scent', 'Sustainable Packaging', 'Vegan', 'Woody & Earthy Scent', 'Without Mineral Oil', 'Cruelty-Free', 'Without Phthalates', 'Without Sulfates SLS & SLES', 'Long-wearing', 'Warm &Spicy Scent', 'Refill Available', 'Unisex/ Genderless Scent', 'allure 2021 Best of Beauty Award Winner', 'Without Silicones', 'Fresh Scent', 'allure 2022 Best of Beauty Award Winner', 'Alcohol Free', 'Hypoallergenic', 'allure 2020 Best of Beauty Award Winner', 'Gluten Free', 'Clean at Sephora', 'Customizable'}\n"
     ]
    }
   ],
   "source": [
    "unique_phrases = set()\n",
    "\n",
    "for highlight in fragrant_data['highlights']:\n",
    "    if isinstance(highlight, str):  # Ensure it's a string\n",
    "        phrases = eval(highlight)  # Convert string representation of list to actual list\n",
    "        unique_phrases.update(phrases)\n",
    "    else:\n",
    "        print(f\"Unexpected type: {type(highlight)}\")\n",
    "\n",
    "print(unique_phrases)"
   ]
  },
  {
   "cell_type": "markdown",
   "metadata": {},
   "source": []
  },
  {
   "cell_type": "code",
   "execution_count": 60,
   "metadata": {},
   "outputs": [
    {
     "data": {
      "application/vnd.plotly.v1+json": {
       "config": {
        "plotlyServerURL": "https://plot.ly"
       },
       "data": [
        {
         "alignmentgroup": "True",
         "hovertemplate": "product_name=%{x}<br>Number of Reviews=%{marker.color}<extra></extra>",
         "legendgroup": "",
         "marker": {
          "color": [
           13,
           16,
           21,
           13,
           21,
           13,
           8,
           7,
           8,
           16,
           7,
           4,
           4,
           18,
           9,
           17,
           6,
           21,
           7,
           6,
           4,
           8,
           7,
           9,
           11,
           39,
           37,
           80,
           139,
           50,
           120,
           60,
           65,
           80,
           51,
           36,
           13,
           21,
           14,
           10,
           24,
           1696,
           1696,
           1058,
           1058,
           862,
           249,
           17,
           20,
           668,
           6,
           5,
           6,
           4,
           3,
           2,
           6,
           1,
           3,
           4,
           2,
           4,
           5,
           2,
           4,
           3,
           112,
           8,
           10,
           112,
           41,
           66,
           44,
           66,
           44,
           89,
           41,
           89,
           1280,
           320,
           1280,
           404,
           178,
           181,
           308,
           58,
           401,
           140,
           58,
           17,
           98,
           302,
           218,
           58,
           249,
           94,
           54,
           55,
           102,
           57,
           24,
           34,
           17,
           13,
           102,
           25,
           11,
           52,
           18,
           50,
           38,
           11,
           14,
           12,
           10,
           6,
           82,
           671,
           13,
           17,
           4,
           2507,
           780,
           488,
           218,
           488,
           780,
           2494,
           342,
           438,
           280,
           253,
           118,
           351,
           584,
           131,
           218,
           90,
           75,
           55,
           79,
           35,
           292,
           82,
           129,
           81,
           82,
           33,
           348,
           216,
           57,
           58,
           256,
           49,
           168,
           5,
           19,
           63,
           19,
           48,
           10,
           93,
           78,
           34,
           44,
           13,
           54,
           5,
           3,
           5,
           9,
           1,
           2,
           4,
           2,
           4,
           3,
           2,
           1,
           3,
           11,
           1,
           4,
           3,
           1,
           5,
           3,
           1,
           1,
           63,
           73,
           63,
           21,
           73,
           23,
           16,
           23,
           23,
           12,
           16,
           23,
           12,
           2188,
           892,
           25,
           348,
           340,
           180,
           189,
           367,
           189,
           367,
           104,
           244,
           244,
           55,
           194,
           41,
           34,
           142,
           71,
           194,
           71,
           18,
           142,
           30,
           5,
           25,
           12,
           45,
           55,
           3,
           242,
           544,
           544,
           542,
           262,
           542,
           262,
           120,
           43,
           120,
           20,
           20,
           411,
           616,
           586,
           354,
           586,
           616,
           504,
           230,
           191,
           185,
           235,
           63,
           854,
           1317,
           854,
           1317,
           217,
           408,
           748,
           15,
           671,
           391,
           343,
           671,
           426,
           391,
           343,
           169,
           255,
           156,
           439,
           66,
           23,
           75,
           104,
           22,
           27,
           32,
           94,
           123,
           28,
           26,
           30,
           32,
           22,
           32,
           4,
           2,
           165,
           107,
           94,
           37,
           19,
           215,
           44,
           149,
           614,
           428,
           432,
           104,
           370,
           112,
           120,
           102,
           97,
           117,
           76,
           2,
           28,
           4,
           20,
           3,
           1625,
           84,
           162,
           130,
           2005,
           2005,
           399,
           399,
           226,
           39,
           35,
           35,
           9,
           10,
           964,
           424,
           539,
           539,
           424,
           64,
           181,
           115,
           134,
           66,
           60,
           134,
           226,
           226,
           20,
           160,
           18,
           1256,
           1256,
           808,
           808,
           346,
           35,
           152,
           145,
           21,
           14,
           13,
           19,
           19,
           11,
           8,
           649,
           114,
           98,
           208,
           211,
           129,
           62,
           23,
           30,
           9,
           9,
           2016,
           1645,
           980,
           625,
           1645,
           2016,
           980,
           625,
           277,
           569,
           569,
           277,
           2800,
           1389,
           1047,
           1135,
           296,
           313,
           2786,
           1047,
           1135,
           144,
           356,
           525,
           759,
           1389,
           525,
           236,
           159,
           336,
           313,
           180,
           1102,
           3259,
           3259,
           1231,
           1102,
           715,
           1231,
           944,
           242,
           242,
           185,
           59,
           192,
           161,
           194,
           185,
           194,
           192,
           122,
           122,
           161,
           74,
           74,
           377,
           391,
           178,
           82,
           11,
           11,
           9,
           433,
           433,
           22,
           59,
           39,
           115,
           88,
           20,
           88,
           115,
           65,
           27,
           35,
           65,
           27,
           35,
           1184,
           33,
           1070,
           7,
           579,
           579,
           451,
           453,
           322,
           322,
           220,
           140,
           134,
           146,
           134,
           140,
           246,
           146,
           246,
           78,
           78,
           7,
           10,
           86,
           1138,
           1138,
           342,
           342,
           265,
           218,
           265,
           99,
           116,
           88,
           116,
           40,
           99,
           88,
           29,
           97,
           97,
           67,
           12,
           23,
           2,
           18,
           3,
           1,
           18,
           18,
           734,
           568,
           468,
           452,
           55,
           26,
           7,
           5,
           3,
           1041,
           1210,
           1038,
           824,
           1210,
           943,
           1092,
           824,
           898,
           943,
           618,
           974,
           1912,
           620,
           1092,
           681,
           56,
           620,
           43,
           595,
           898,
           44,
           581,
           1142,
           15,
           13,
           18,
           449,
           642,
           272,
           642,
           247,
           131,
           595,
           496,
           2,
           273,
           421,
           581,
           517,
           411,
           212,
           310,
           245,
           314,
           185,
           156,
           52,
           314,
           322,
           31,
           59,
           69,
           45,
           16,
           19,
           32,
           25,
           22,
           14,
           17,
           17,
           5039,
           4939,
           4953,
           1476,
           1476,
           12,
           5,
           11,
           6,
           9,
           4,
           6,
           5,
           2,
           2,
           1063,
           3550,
           323,
           2848,
           909,
           315,
           61,
           37,
           112,
           1203,
           43,
           150,
           556
          ],
          "coloraxis": "coloraxis",
          "pattern": {
           "shape": ""
          }
         },
         "name": "",
         "offsetgroup": "",
         "orientation": "v",
         "showlegend": false,
         "textposition": "auto",
         "type": "bar",
         "x": [
          "La Habana Eau de Parfum",
          "Rainbow Bar Eau de Parfum",
          "Kasbah Eau de Parfum",
          "Purple Haze Eau de Parfum",
          "Kasbah Eau de Parfum Travel Spray",
          "Purple Haze Eau de Parfum Travel Spray",
          "Invisible Post Eau de Parfum",
          "Capri Eau de Parfum",
          "Invisible Post Eau de Parfum Travel Spray",
          "Rainbow Bar Eau de Parfum Travel Spray",
          "Capri Eau de Parfum Travel Spray",
          "L'air Barbes Eau de Parfum",
          "L'air Barbes Eau de Parfum Travel Spray",
          "The Cape Perfume",
          "Crescent Beach Perfume Travel Spray",
          "Crescent Beach Perfume",
          "Seqouia Eau de Parfum Travel Spray",
          "Sequoia Perfume",
          "Mojave Perfume Travel Spray",
          "The Cape Perfume Travel Spray",
          "Big Sky Eau de Parfum Travel Spray",
          "Big Sky Eau de Parfum",
          "Montecito Perfume Travel Spray",
          "Montecito Perfume",
          "Mojave Perfume",
          "Mirto di Panarea",
          "Arancia di Capri",
          "Colonia",
          "Mediterranean Honeysuckle",
          "Mediterranean Honeysuckle Eau de Parfum Travel Spray",
          "Amber Musk",
          "Hibiscus Palm Eau de Parfum",
          "Ikat Jasmine",
          "Lilac Path",
          "Waterlily Sun",
          "Rose De Grasse",
          "Ikat Jasmine Travel Spray",
          "Wild Geranium Travel Spray",
          "Hibiscus Palm Eau de Parfum Travel Spray",
          "Mediterranean Honeysuckle Mimosa Eau de Parfum",
          "Wild Geranium",
          "My Way Eau de Parfum",
          "My Way Eau de Parfum Travel Spray",
          "My Way Floral Eau de Parfum Travel Spray",
          "My Way Floral Eau de Parfum",
          "Acqua di Gio Eau de Parfum",
          "Armani Code Parfum",
          "My Way Parfum",
          "Armani Code Eau de Toilette",
          "Clémentine California Pure Perfume",
          "203 Raspberry, Vanilla and Blackberry Eau de Parfum Travel Spray",
          "103 Tiare Flower, Jasmine and Hibiscus Eau de Parfum",
          "203 Raspberry, Vanilla and Blackberry Eau de Parfum",
          "103 Tiare Flower, Jasmine and Hibiscus Eau de Parfum Travel Spray",
          "202 Watermelon, Red Currant and Jasmine Eau de Parfum Travel Spray",
          "002 Neroli, Jasmine and White Amber Eau de Parfum Travel Spray",
          "202 Watermelon, Red Currant and Jasmine Eau de Parfum",
          "001 Orange Blossom, Petitgrain and Bergamot Eau de Parfum Travel Spray",
          "002 Neroli, Jasmine and White Amber Eau de Parfum",
          "802 Peony, Lotus and Bamboo Eau de Parfum Travel Spray",
          "801 Sea Spray, Cedar and Grapefruit Eau de Parfum Travel Spray",
          "001 Orange Blossom, Petitgrain and Bergamot Eau de Parfum",
          "802 Peony, Lotus and Bamboo Eau de Parfum",
          "501 Praline, Licorice and Patchouli Eau de Parfum Travel Spray",
          "501 Praline, Licorice and Patchouli Eau de Parfum",
          "801 Sea Spray, Cedar and Grapefruit Eau de Parfum",
          "Woodphoria Eau de Parfum Travel Spray",
          "LES Eau de Parfum Travel Spray",
          "LES Eau de Parfum",
          "Woodphoria Eau de Parfum",
          "Cashmere Kush Eau de Parfum Travel Spray",
          "Flor de la Virgen Eau de Parfum Travel Spray",
          "Marble Fruit Eau de Parfum Travel Spray",
          "Flor de la Virgen Eau de Parfum",
          "Marble Fruit Eau de Parfum",
          "Hinoki Fantôme Eau de Parfum Travel Spray",
          "Cashmere Kush Eau de Parfum",
          "Hinoki Fantôme Eau de Parfum",
          "Her Eau de Parfum",
          "My Burberry Blush",
          "Her Eau de Parfum Rollerball",
          "Her Elixir Eau de Parfum Intense",
          "My Burberry Black",
          "My Burberry",
          "Her Eau De Toilette",
          "Her Blossom Eau de Toilette",
          "Her London Dream Eau de Parfum",
          "Touch",
          "Her Blossom Eau de Toilette Rollerball",
          "Mr. Burberry Eau de Parfum",
          "London for Men",
          "Hero Eau de Toilette",
          "Leila Lou Perfume",
          "Leila Lou Perfume Travel Spray",
          "Rosie Perfume",
          "James Perfume",
          "Rosie Perfume Travel Spray",
          "Leila Lou Perfume Oil",
          "Madie Perfume",
          "Dylan Perfume",
          "James Perfume Travel Spray",
          "Dulce Eau de Parfum",
          "Dylan Perfume Travel Spray",
          "Lake Perfume Travel Spray",
          "Madie Perfume Travel Spray",
          "James Perfume Oil",
          "Angie Perfume Travel Spray",
          "Angie Perfume",
          "Dulce Travel Spray",
          "Lake Perfume",
          "Dulce Perfume Oil",
          "Madie Perfume Oil",
          "Dylan Perfume Oil",
          "Lake Perfume Oil",
          "The Canopy Aroma Diffuser Starter Set",
          "Rituals by Canopy Aroma Kit",
          "Very Good Girl Eau de Parfum",
          "Mini Good Girl Eau de Parfum",
          "Good Girl Blush Eau de Parfum",
          "Very Good Girl Eau de Parfum Rollerball",
          "Bad Boy Cobalt Eau de Parfum",
          "Chloé Eau de Parfum",
          "Roses De Chloé Eau de Toilette",
          "Nomade Eau de Parfum",
          "Love Story",
          "Nomade Eau de Parfum Travel Spray",
          "Roses De Chloé Eau de Toilette Rollerball",
          "Chloé Rollerball",
          "Chloe L'Eau",
          "Chloé Rose Tangerine Eau de Toilette",
          "Reserve - Skin",
          "Reserve - Radiant Nectar",
          "Reserve - Skin Travel Spray",
          "Classic - Skin",
          "Classic - Warm Cotton",
          "Reserve - Rain",
          "Reserve - Acqua Neroli",
          "Reserve - Acqua Neroli Travel Spray",
          "Reserve - Rain Travel Spray",
          "Reserve - Sparkling Sugar",
          "Reserve - Warm Cotton Travel Spray",
          "Reserve - Sparkling Sugar Travel Spray",
          "Reserve - Warm Cotton",
          "Reserve - Lush Fleur",
          "Reserve - Sel Santal",
          "Reserve - Solar Bloom",
          "Reserve - Lush Fleur Travel Spray",
          "Reserve - Sel Santal Travel Spray",
          "Gold Expressive Travel Spray",
          "Gold Expressive",
          "Milk Expressive Travel Spray",
          "Milk Expressive",
          "Book Expressive Travel Spray",
          "Rain",
          "Book Expressive",
          "Milk- Personal Travel Spray",
          "Velvet Expressive Travel Spray",
          "Nectar",
          "Milk+ Bold",
          "Wool",
          "Milk+ Bold Travel Spray",
          "Moss Expressive Travel Spray",
          "Velvet Expressive",
          "W*****y",
          "Mimosa",
          "Magnolia Eau de Parfum",
          "Moss Expressive",
          "Milk- Personal",
          "Book - Personal Travel Spray",
          "Book - Personal",
          "Gold+ Bold",
          "Gold- Personal Travel Spray",
          "Velvet+ Bold Travel Spray",
          "Gold- Personal",
          "Gold+ Bold Travel Spray",
          "Moss+ Bold Travel Spray",
          "Paper- Personal Travel Spray",
          "Velvet- Personal",
          "Book+ Bold Travel Spray",
          "Moss+ Bold",
          "Paper- Personal",
          "Moss- Personal Travel Spray",
          "Velvet+ Bold",
          "Paper Expressive Travel Spray",
          "Velvet- Personal Travel Spray",
          "Paper+ Bold",
          "Book+ Bold",
          "Paper+ Bold Travel Spray",
          "Moss- Personal",
          "01 \"Taunt\" Eau de Parfum Travel Spray",
          "Milk Eau de Parfum Travel Spray",
          "01 \"Taunt\" Eau de Parfum",
          "Dedtergent 01 \"Taunt\"",
          "Milk Eau de Parfum",
          "Red Dakota Eau de Parfum Travel Spray",
          "03 \"Blonde\" Eau de Parfum Travel Spray",
          "Red Dakota Eau de Parfum",
          "Madonna Lilly Eau de Parfum Travel Spray",
          "02 Eau de Parfum Travel Spray",
          "03 \"Blonde\" Eau de Parfum",
          "Madonna Lilly Eau de Parfum",
          "02 Eau de Parfum",
          "Miss Dior Eau de Parfum",
          "Sauvage Eau de Toilette",
          "Miss Dior Eau de Parfum Roller-Pearl",
          "Dolce Lily Eau De Toilette",
          "MYTH Eau de Parfum",
          "SALT Eau de Parfum",
          "SUN FRUIT Eau de Parfum Travel Spray",
          "BEE Eau de Parfum Travel Spray",
          "SUN FRUIT Eau de Parfum",
          "BEE Eau de Parfum",
          "SWEET Eau de Parfum",
          "VANILLA MILK Eau de Parfum Travel Spray",
          "VANILLA MILK Eau de Parfum",
          "RROSE Eau de Parfum",
          "SUPER AMBER Eau de Parfum Travel Spray",
          "SALT or SWEET Perfume Gift Set",
          "MYTH Eau de Parfum Travel Spray",
          "APRÈS Eau de Parfum Travel Spray",
          "SCI FI Eau de Parfum",
          "SUPER AMBER Eau de Parfum",
          "WEST Eau de Parfum",
          "SCI FI Eau de Parfum Travel Spray",
          "APRÈS Eau de Parfum",
          "WEST Eau de Parfum Travel Spray",
          "APRÈS Essentials Gift Set",
          "RIVES Eau de Parfum",
          "ISO GAMMA SUPER Eau de Parfum Travel Spray",
          "ISO GAMMA SUPER Eau de Parfum",
          "FLORIST Eau de Parfum",
          "RROSE Eau de Parfum Travel Spray",
          "Fenty Eau de Parfum",
          "Wonderland Peony Eau De Parfum",
          "Wonderland Peony Eau De Parfum Travel Spray",
          "Wild Vanilla Orchid Eau De Parfum",
          "Sunflower Pop Eau De Parfum",
          "Wild Vanilla Orchid Eau De Parfum  Travel Spray",
          "Sunflower Pop Eau De Parfum Travel Spray",
          "Arizona Bloom Eau de Parfum Travel Spray",
          "Neon Rose Eau De Parfum",
          "Arizona Bloom Eau de Parfum",
          "Black Lotus Eau De Parfum",
          "Black Lotus Eau De Parfum Travel Spray",
          "Ylang Ylang Espresso Eau De Parfum",
          "Irresistible Eau de Parfum",
          "L'Interdit Eau de Parfum",
          "Ange ou Demon Le Secret Eau de Parfum",
          "L'Interdit Eau de Parfum Rollerball",
          "Irresistible Eau de Parfum Rollerball",
          "Gentleman Boisee Eau de Parfum",
          "Irresistible Eau de Parfum Rose Velvet",
          "Irresistible Eau de Toilette Fraiche",
          "L'Interdit Eau de Toilette",
          "Glossier You Eau de Parfum",
          "Glossier You Solid Perfume",
          "Flora Gorgeous Gardenia Eau de Parfum",
          "Bloom Eau de Parfum For Her",
          "Flora Gorgeous Gardenia Eau de Parfum Rollerball",
          "Bloom Eau de Parfum For Her Rollerball",
          "Bamboo Eau de Parfum",
          "Flora Gorgeous Jasmine Eau de Parfum",
          "Guilty Pour Homme",
          "Flora Gorgeous Jasmine Eau de Parfum Pen Spray",
          "Bloom Profumo di Fiori Eau de Parfum",
          "Bloom Eau De Toilette",
          "Gucci Bloom Ambrosia di Fiori Eau de Parfum Intense For Her",
          "Bloom Profumo di Fiori Eau de Parfum Rollerball",
          "Guilty Eau de Parfum Pour Homme",
          "Bloom Eau De Toilette Travel Spray",
          "Gucci Bloom Ambrosia di Fiori Eau de Parfum Intense For Her Rollerball",
          "Guilty Pour Femme Eau de Parfum Intense",
          "Guilty Pour Homme Parfum",
          "Bloom Eau de Parfum Intense",
          "Mon Guerlain Eau de Parfum",
          "Shalimar Eau de Parfum",
          "Mon Guerlain Eau de Parfum Intense",
          "Aqua Allegoria Pera Granita Eau de Toilette",
          "Aqua Allegoria Mandarine Basilic Eau de Toilette",
          "Aqua Allegoria Flora Salvaggia Eau de Toilette",
          "Aqua Allegoria Flora Cherrysia Eau de Toilette",
          "Aqua Allegoria Bergamote Calabria Eau de Toilette",
          "Aqua Allegoria Rosa Rossa Eau de Toilette",
          "Aqua Allegoria Nerolia Vetiver Eau de Toilette",
          "Aqua Allegoria Orange Soleia Eau de Toilette",
          "Aqua Allegoria Pamplelune Eau de Toilette",
          "Dirty Vanilla Eau de Parfum Travel Spray",
          "Dirty Coconut Eau de Parfum Travel Spray",
          "Dirty Vanilla Eau de Parfum",
          "Dirty Coconut Eau de Parfum",
          "Dirty Hinoki Eau de Parfum Travel Spray",
          "Dirty Hinoki Eau de Parfum",
          "Un Jardin sur le Nil Eau de Toilette",
          "Un Jardin sur le Toit Eau de Toilette",
          "Le Jardin de Monsieur Li Eau de Toilette",
          "Eau de Rhubarbe Écarlate Eau de Cologne",
          "Eau d’orange verte",
          "H24 Eau de Toilette",
          "Terre d'Hermès Eau Givrée Eau de Parfum",
          "H24 Eau de Parfum",
          "Wood Sage & Sea Salt Cologne",
          "Peony & Blush Suede Cologne",
          "Nectarine Blossom & Honey Cologne",
          "Wood Sage & Sea Salt/ Peony & Blush Suede Mini Set",
          "English Pear & Freesia Cologne",
          "Wild Bluebell Cologne",
          "Red Roses Cologne",
          "Orange Blossom Cologne",
          "Mimosa & Cardamom Cologne",
          "Blackberry & Bay Cologne",
          "Poppy & Barley Cologne",
          "Wood Sage & Sea Salt Cologne Travel Spray",
          "Sea Daffodil Cologne",
          "Silk Blossom Cologne",
          "Bitter Mandarin Cologne",
          "Limited Edition English Pear & Freesia Cologne",
          "Viva La Juicy",
          "Viva La Juicy Rollerball",
          "Viva La Juicy Gold Couture",
          "Viva La Juicy Noir",
          "Not A Perfume",
          "Not A Perfume Travel Spray",
          "PEAR INC.",
          "PEAR INC. Travel Spray",
          "Magnolia Bliss Eau de Parfum",
          "Magnolia Bliss Eau de Parfum Travel Spray",
          "Musc Invisible",
          "Musc Invisible Travel Spray",
          "Lili Fantasy Eau de Parfum",
          "Lili Fantasy Eau de Parfum Travel Spray",
          "VANILLA | 28 Travel Spray",
          "LOVEFEST BURNING CHERRY | 48",
          "EDEN JUICY APPLE | 01",
          "EDEN JUICY APPLE  | 01 Travel Spray",
          "Lovefest Burning Cherry | 48 Travel Spray",
          "UTOPIA VANILLA COCO | 21 Travel Spray",
          "INVITE ONLY AMBER | 23",
          "Vanilla Royale Sugared Patchouli | 64 Eau de Parfum Intense",
          "SWEET DIAMOND PINK PEPPER  | 25",
          "Vanilla Royale Sugared Patchouli | 64 Eau de Parfum Intense Travel Spray",
          "INVITE ONLY AMBER | 23  Travel Spray",
          "SWEET DIAMOND PINK PEPPER  | 25 Travel Spray",
          "MUSK | 12",
          "MUSK | 12 Travel Spray",
          "SWEET DIAMOND | 25 & UTOPIA VANILLA COCO | 21 Double Rollerball",
          "YUM PISTACHIO GELATO | 33 EDP INTENSE",
          "INVITE ONLY AMBER | 23 & DÉJÀ VU WHITE FLOWER | 57 Double Rollerball",
          "Love, Don't Be Shy",
          "Love, Don't Be Shy Travel Spray",
          "Princess Eau de Parfum",
          "Princess Eau de Parfum Travel Spray",
          "Good Girl Gone Bad by KILIAN",
          "Love, Don't be Shy Mini Spray Set",
          "Rolling in Love",
          "Black Phantom - \"Memento Mori\"",
          "Good Girl Gone Bad by KILIAN Travel Spray",
          "Good Girl Gone Bad by KILIAN Mini Spray Set",
          "Intoxicated",
          "Straight To Heaven, White Cristal",
          "Moonlight in Heaven",
          "Love, Don't Be Shy-EXTREME",
          "Black Phantom - \"Memento Mori\" Mini Spray Set",
          "Idôle Eau de Parfum",
          "Trésor Midnight Rose",
          "Trésor",
          "No.04 Bois de Balincourt Perfume Oil",
          "No.04 Bois de Balincourt Eau de Parfum",
          "No.04 Bois de Balincourt Eau de Parfum Travel Spray",
          "No.04 Bois de Balincourt Perfume Oil Rollerball",
          "No.09 Vallée de Farney Eau de Parfum",
          "No.12 Bousval Eau de Parfum",
          "Antidris Cassis Eau de Parfum",
          "No.02 Le Long Fond Eau de Parfum",
          "’REPLICA’ By the Fireplace",
          "’REPLICA’ Beach Walk",
          "’REPLICA’ Jazz Club",
          "REPLICA' Bubble Bath",
          "’REPLICA’ Beach Walk Travel Spray",
          "’REPLICA’ By The Fireplace Travel Spray",
          "’REPLICA’ Jazz Club Travel Spray",
          "REPLICA' Bubble Bath Travel Spray",
          "REPLICA' When the Rain Stops",
          "REPLICA' Autumn Vibes",
          "REPLICA' Autumn Vibes Travel Spray",
          "REPLICA' When the Rain Stops Travel Spray",
          "Daisy",
          "Daisy Eau so Fresh Eau de Toilette",
          "Perfect Eau de Parfum",
          "Daisy Love Eau de Toilette",
          "Daisy Love Eau So Sweet",
          "Daisy Dream",
          "Daisy Rollerball",
          "Perfect Eau de Parfum Travel Spray",
          "Daisy Love Eau de Toilette Pen Spray",
          "Daisy Dream Rollerball",
          "Daisy Ever So Fresh Eau de Parfum",
          "Perfect Intense Eau de Parfum",
          "Daisy Eau So Intense Eau de Parfum",
          "Daisy Eau so Fresh Eau de Toilette Rollerball",
          "Perfect Intense Eau de Parfum Travel Spray",
          "Daisy Paradise Eau de Toilette",
          "Daisy Love Paradise Eau de Toilette",
          "Perfect Eau de Toilette",
          "Daisy Dream Petals",
          "Daisy Eau So Fresh Paradise Eau de Toilette",
          "Alien Eau de Parfum",
          "Alien Goddess Eau de Parfum Travel Spray",
          "Alien Goddess Eau de Parfum",
          "Angel Eau de Parfum",
          "Alien Eau de Parfum Travel Spray",
          "Alien Goddess Eau de Parfum Intense",
          "Angel Eau de Parfum Travel Spray",
          "Angel Nova Eau de Toilette",
          "Madagascar Vanilla Perfume Oil",
          "Madagascar Vanilla Perfume Oil Rollerball",
          "Golden Nectar Eau de Parfum",
          "Mini Perfume Oil Set",
          "Seville Orange Perfume Oil Rollerball",
          "Balinese Coconut Perfume Oil",
          "Turkish Rose Perfume Oil",
          "Golden Nectar Eau de Parfum Travel Spray",
          "Turkish Rose Perfume Oil Rollerball",
          "Seville Orange Perfume Oil",
          "Indian Jasmine Perfume Oil Rollerball",
          "Indian Jasmine Perfume Oil",
          "Balinese Coconut Perfume Oil Rollerball",
          "South Pacific Sandalwood Perfume Oil",
          "South Pacific Sandalwood Perfume Oil Rollerball",
          "Dean Street Eau De Parfum",
          "Rue St. Honoré Eau De Parfum",
          "Phantom Eau de Toilette",
          "FAME Eau de Parfum",
          "1 Million Elixir",
          "Invictus Platinum Eau de Parfum",
          "Fame Eau de Parfum",
          "Missing Person Eau de Parfum",
          "Missing Person Eau de Parfum Travel Spray",
          "Missing Person Perfume Set",
          "Somebody Wood Eau de Parfum Travel Spray",
          "Tangerine Boy Eau de Parfum",
          "Not Your Baby Eau de Parfum",
          "Apricot Privée Eau de Parfum",
          "Somebody Wood Eau de Parfum",
          "Apricot Privée Eau de Parfum Travel Spray",
          "Not Your Baby Eau de Parfum Travel Spray",
          "Ameline Eau de Parfum",
          "Lost Cause Eau de Parfum",
          "Phloria Eau de Parfum",
          "Ameline Eau de Parfum Travel Spray",
          "Lost Cause Eau de Parfum Travel Spray",
          "Phloria Eau de Parfum Travel Spray",
          "Paradoxe Eau de Parfum",
          "Paradoxe Eau de Parfum Travel Spray",
          "Luna Rossa Ocean Eau de Toilette",
          "Luna Rossa Ocean Eau de Toilette Travel Spray",
          "Vanilla Sky Eau de Parfum",
          "Vanilla Sky Eau de Parfum Rollerball",
          "Coconut Cove Eau de Parfum Rollerball",
          "Coconut Cove Eau de Parfum",
          "Peach Fields Eau de Parfum Rollerball",
          "Peach Fields Eau de Parfum",
          "Salt Air Eau De Parfum",
          "Fall Cashmere Eau de Parfum Rollerball",
          "Pink Canyon Eau de Parfum Rollerball",
          "Capri Summer Eau De Parfum Rollerball",
          "Pink Canyon Eau De Parfum",
          "Fall Cashmere Eau De Parfum",
          "Honeysuckle Dream Eau de Parfum Travel Spray",
          "Capri Summer Eau De Parfum",
          "Honeysuckle Dream Eau de Parfum",
          "Isle Escape Eau De Parfum",
          "Isle Escape Eau De Parfum Rollerball",
          "Sun Shower Eau De Parfum Rollerball",
          "Sun Shower Eau De Parfum",
          "SOL Cheirosa '62 Eau de Parfum",
          "Vanilla Woods Eau de Parfum",
          "Vanilla Woods Eau de Parfum Rollerball",
          "Santal Vanille Eau de Parfum",
          "Santal Vanille Eau de Parfum Rollerball",
          "Lotus Pear Eau de Parfum",
          "Blackberry Lily Eau de Parfum",
          "Lotus Pear Eau de Parfum Rollerball",
          "Orange Blossom Eau de Parfum Rollerball",
          "Jasmine Neroli Eau de Parfum Rollerball",
          "Rose Amber Eau de Parfum",
          "Jasmine Neroli Eau de Parfum",
          "Coconut Sun Eau de Parfum",
          "Orange Blossom Eau de Parfum",
          "Rose Amber Eau de Parfum Rollerball",
          "Coconut Sun Eau de Parfum Travel Spray",
          "Patchouli Citrus Eau de Parfum Rollerball",
          "Patchouli Citrus Eau de Parfum",
          "Vetiver Elemi Eau de Parfum",
          "Lotus Pear Perfume Oil",
          "Transcend Eau de Parfum",
          "Balance Eau de Parfum Travel Spray",
          "Intention Eau de Parfum",
          "Humanity Eau de Parfum Travel Spray",
          "Intention Eau de Parfum Travel Spray",
          "Balance Eau de Parfum",
          "Humanity Eau de Parfum",
          "Florence",
          "Cleopatra",
          "Giulietta",
          "Stella",
          "Giulietta Rollerball",
          "Stella Travel Spray",
          "Giulietta Travel Spray",
          "Florence Travel Spray",
          "Cleopatra Travel Spray",
          "Lost Cherry",
          "Tobacco Vanille",
          "Lost Cherry Travel Spray",
          "Soleil Blanc",
          "Tobacco Vanille Travel Spray",
          "Fucking Fabulous",
          "Oud Wood",
          "Soleil Blanc Travel Spray",
          "Ombré Leather Eau de Parfum",
          "Fucking Fabulous Travel Spray",
          "Eau de Soleil Blanc",
          "Rose Prick",
          "Black Orchid Eau de Parfum Travel Spray",
          "Soleil Neige",
          "Oud Wood Travel Spray",
          "Eau de Soleil Blanc Travel Spray",
          "Santal Blush",
          "Soleil Neige Eau De Parfum Travel Spray",
          "Noir de Noir",
          "Tuscan Leather",
          "Ombré Leather Eau de Parfum Travel Spray",
          "Mandarino Di Amalfi",
          "Black Orchid Parfum",
          "Ébène Fumé Eau de Parfum",
          "Cherry Smoke",
          "Electric Cherry",
          "Noir de Noir Travel Spray",
          "Soleil Brulant",
          "Ombré Leather Parfum",
          "Rose D'Amalfi Eau De Parfum",
          "Ombré Leather Parfum Travel Spray",
          "Rose De Chine Eau De Parfum",
          "Costa Azzurra Parfum",
          "Tuscan Leather Travel Spray",
          "Bois Marocain Eau de Parfum",
          "Ebene Fume Eau de Parfum Travel Spray",
          "Noir Extreme Parfum",
          "Beau de Jour",
          "Donna Born In Roma Intense Eau de Parfum",
          "Uomo Born In Roma Intense Eau de Parfum",
          "Eros",
          "Crystal Noir",
          "Dylan Blue Pour Femme",
          "Eros Pour Femme Eau de Parfum",
          "Yellow Diamond",
          "Bright Crystal Absolu",
          "Dylan Blue",
          "Dylan Blue Pour Femme Ovetto Spray",
          "Pour Homme",
          "Versace Man Eau Fraiche",
          "Bright Crystal Absolu Ovetto Spray",
          "Eros Pour Femme Eau de Toilette",
          "Eros Flame",
          "Dylan Blue Pour Homme Travel Spray",
          "Eros Pour Homme Travel Spray",
          "Yellow Diamond Travel Spray",
          "Eros Pour Femme Eau de Toilette Rollerball",
          "Dylan Purple Eau de Parfum",
          "Eros Flame Travel Spray",
          "Pour Homme Travel Spray",
          "Dylan Blue Pour Femme Travel Spray",
          "Versace Man Eau Fraîche Travel Spray",
          "Flowerbomb",
          "Flowerbomb Travel Spray",
          "Flowerbomb Mini",
          "Good Fortune Eau de Parfum",
          "Good Fortune Eau de Parfum Travel Spray",
          "Mini French Cade & Lavender Decorative Tin Candle",
          "Lost in Paradise Eau de Parfum Travel Spray",
          "Lost in Paradise Eau de Parfum",
          "Harlem Nights Eau de Parfum",
          "Long Kiss Goodnight Eau de Parfum",
          "Harlem Nights Eau de Parfum Travel Spray",
          "Danse Sauvage Eau de Parfum",
          "Citrus Grandis Eau de Parfum",
          "Danse Sauvage Eau de Parfum Travel Spray",
          "Citrus Grandis Eau de Parfum Travel Spray",
          "Mon Paris Eau de Parfum",
          "Libre Eau De Parfum Travel Spray",
          "LIBRE Eau de Parfum Intense",
          "Y Eau de Parfum",
          "L'Homme",
          "La Nuit De L’Homme",
          "Mon Paris Eau de Parfum Travel Spray",
          "Mon Paris Intensement Eau de Parfum",
          "L'Homme Cologne Bleue",
          "Y Eau de Toilette",
          "Mon Paris Couture Eau de Parfum",
          "Y Eau Fraiche",
          "L'Homme Eau de Parfum"
         ],
         "xaxis": "x",
         "y": [
          13,
          16,
          21,
          13,
          21,
          13,
          8,
          7,
          8,
          16,
          7,
          4,
          4,
          18,
          9,
          17,
          6,
          21,
          7,
          6,
          4,
          8,
          7,
          9,
          11,
          39,
          37,
          80,
          139,
          50,
          120,
          60,
          65,
          80,
          51,
          36,
          13,
          21,
          14,
          10,
          24,
          1696,
          1696,
          1058,
          1058,
          862,
          249,
          17,
          20,
          668,
          6,
          5,
          6,
          4,
          3,
          2,
          6,
          1,
          3,
          4,
          2,
          4,
          5,
          2,
          4,
          3,
          112,
          8,
          10,
          112,
          41,
          66,
          44,
          66,
          44,
          89,
          41,
          89,
          1280,
          320,
          1280,
          404,
          178,
          181,
          308,
          58,
          401,
          140,
          58,
          17,
          98,
          302,
          218,
          58,
          249,
          94,
          54,
          55,
          102,
          57,
          24,
          34,
          17,
          13,
          102,
          25,
          11,
          52,
          18,
          50,
          38,
          11,
          14,
          12,
          10,
          6,
          82,
          671,
          13,
          17,
          4,
          2507,
          780,
          488,
          218,
          488,
          780,
          2494,
          342,
          438,
          280,
          253,
          118,
          351,
          584,
          131,
          218,
          90,
          75,
          55,
          79,
          35,
          292,
          82,
          129,
          81,
          82,
          33,
          348,
          216,
          57,
          58,
          256,
          49,
          168,
          5,
          19,
          63,
          19,
          48,
          10,
          93,
          78,
          34,
          44,
          13,
          54,
          5,
          3,
          5,
          9,
          1,
          2,
          4,
          2,
          4,
          3,
          2,
          1,
          3,
          11,
          1,
          4,
          3,
          1,
          5,
          3,
          1,
          1,
          63,
          73,
          63,
          21,
          73,
          23,
          16,
          23,
          23,
          12,
          16,
          23,
          12,
          2188,
          892,
          25,
          348,
          340,
          180,
          189,
          367,
          189,
          367,
          104,
          244,
          244,
          55,
          194,
          41,
          34,
          142,
          71,
          194,
          71,
          18,
          142,
          30,
          5,
          25,
          12,
          45,
          55,
          3,
          242,
          544,
          544,
          542,
          262,
          542,
          262,
          120,
          43,
          120,
          20,
          20,
          411,
          616,
          586,
          354,
          586,
          616,
          504,
          230,
          191,
          185,
          235,
          63,
          854,
          1317,
          854,
          1317,
          217,
          408,
          748,
          15,
          671,
          391,
          343,
          671,
          426,
          391,
          343,
          169,
          255,
          156,
          439,
          66,
          23,
          75,
          104,
          22,
          27,
          32,
          94,
          123,
          28,
          26,
          30,
          32,
          22,
          32,
          4,
          2,
          165,
          107,
          94,
          37,
          19,
          215,
          44,
          149,
          614,
          428,
          432,
          104,
          370,
          112,
          120,
          102,
          97,
          117,
          76,
          2,
          28,
          4,
          20,
          3,
          1625,
          84,
          162,
          130,
          2005,
          2005,
          399,
          399,
          226,
          39,
          35,
          35,
          9,
          10,
          964,
          424,
          539,
          539,
          424,
          64,
          181,
          115,
          134,
          66,
          60,
          134,
          226,
          226,
          20,
          160,
          18,
          1256,
          1256,
          808,
          808,
          346,
          35,
          152,
          145,
          21,
          14,
          13,
          19,
          19,
          11,
          8,
          649,
          114,
          98,
          208,
          211,
          129,
          62,
          23,
          30,
          9,
          9,
          2016,
          1645,
          980,
          625,
          1645,
          2016,
          980,
          625,
          277,
          569,
          569,
          277,
          2800,
          1389,
          1047,
          1135,
          296,
          313,
          2786,
          1047,
          1135,
          144,
          356,
          525,
          759,
          1389,
          525,
          236,
          159,
          336,
          313,
          180,
          1102,
          3259,
          3259,
          1231,
          1102,
          715,
          1231,
          944,
          242,
          242,
          185,
          59,
          192,
          161,
          194,
          185,
          194,
          192,
          122,
          122,
          161,
          74,
          74,
          377,
          391,
          178,
          82,
          11,
          11,
          9,
          433,
          433,
          22,
          59,
          39,
          115,
          88,
          20,
          88,
          115,
          65,
          27,
          35,
          65,
          27,
          35,
          1184,
          33,
          1070,
          7,
          579,
          579,
          451,
          453,
          322,
          322,
          220,
          140,
          134,
          146,
          134,
          140,
          246,
          146,
          246,
          78,
          78,
          7,
          10,
          86,
          1138,
          1138,
          342,
          342,
          265,
          218,
          265,
          99,
          116,
          88,
          116,
          40,
          99,
          88,
          29,
          97,
          97,
          67,
          12,
          23,
          2,
          18,
          3,
          1,
          18,
          18,
          734,
          568,
          468,
          452,
          55,
          26,
          7,
          5,
          3,
          1041,
          1210,
          1038,
          824,
          1210,
          943,
          1092,
          824,
          898,
          943,
          618,
          974,
          1912,
          620,
          1092,
          681,
          56,
          620,
          43,
          595,
          898,
          44,
          581,
          1142,
          15,
          13,
          18,
          449,
          642,
          272,
          642,
          247,
          131,
          595,
          496,
          2,
          273,
          421,
          581,
          517,
          411,
          212,
          310,
          245,
          314,
          185,
          156,
          52,
          314,
          322,
          31,
          59,
          69,
          45,
          16,
          19,
          32,
          25,
          22,
          14,
          17,
          17,
          5039,
          4939,
          4953,
          1476,
          1476,
          12,
          5,
          11,
          6,
          9,
          4,
          6,
          5,
          2,
          2,
          1063,
          3550,
          323,
          2848,
          909,
          315,
          61,
          37,
          112,
          1203,
          43,
          150,
          556
         ],
         "yaxis": "y"
        }
       ],
       "layout": {
        "barmode": "relative",
        "coloraxis": {
         "colorbar": {
          "title": {
           "text": "Number of Reviews"
          }
         },
         "colorscale": [
          [
           0,
           "#440154"
          ],
          [
           0.1111111111111111,
           "#482878"
          ],
          [
           0.2222222222222222,
           "#3e4989"
          ],
          [
           0.3333333333333333,
           "#31688e"
          ],
          [
           0.4444444444444444,
           "#26828e"
          ],
          [
           0.5555555555555556,
           "#1f9e89"
          ],
          [
           0.6666666666666666,
           "#35b779"
          ],
          [
           0.7777777777777778,
           "#6ece58"
          ],
          [
           0.8888888888888888,
           "#b5de2b"
          ],
          [
           1,
           "#fde725"
          ]
         ]
        },
        "legend": {
         "tracegroupgap": 0
        },
        "template": {
         "data": {
          "bar": [
           {
            "error_x": {
             "color": "#2a3f5f"
            },
            "error_y": {
             "color": "#2a3f5f"
            },
            "marker": {
             "line": {
              "color": "#E5ECF6",
              "width": 0.5
             },
             "pattern": {
              "fillmode": "overlay",
              "size": 10,
              "solidity": 0.2
             }
            },
            "type": "bar"
           }
          ],
          "barpolar": [
           {
            "marker": {
             "line": {
              "color": "#E5ECF6",
              "width": 0.5
             },
             "pattern": {
              "fillmode": "overlay",
              "size": 10,
              "solidity": 0.2
             }
            },
            "type": "barpolar"
           }
          ],
          "carpet": [
           {
            "aaxis": {
             "endlinecolor": "#2a3f5f",
             "gridcolor": "white",
             "linecolor": "white",
             "minorgridcolor": "white",
             "startlinecolor": "#2a3f5f"
            },
            "baxis": {
             "endlinecolor": "#2a3f5f",
             "gridcolor": "white",
             "linecolor": "white",
             "minorgridcolor": "white",
             "startlinecolor": "#2a3f5f"
            },
            "type": "carpet"
           }
          ],
          "choropleth": [
           {
            "colorbar": {
             "outlinewidth": 0,
             "ticks": ""
            },
            "type": "choropleth"
           }
          ],
          "contour": [
           {
            "colorbar": {
             "outlinewidth": 0,
             "ticks": ""
            },
            "colorscale": [
             [
              0,
              "#0d0887"
             ],
             [
              0.1111111111111111,
              "#46039f"
             ],
             [
              0.2222222222222222,
              "#7201a8"
             ],
             [
              0.3333333333333333,
              "#9c179e"
             ],
             [
              0.4444444444444444,
              "#bd3786"
             ],
             [
              0.5555555555555556,
              "#d8576b"
             ],
             [
              0.6666666666666666,
              "#ed7953"
             ],
             [
              0.7777777777777778,
              "#fb9f3a"
             ],
             [
              0.8888888888888888,
              "#fdca26"
             ],
             [
              1,
              "#f0f921"
             ]
            ],
            "type": "contour"
           }
          ],
          "contourcarpet": [
           {
            "colorbar": {
             "outlinewidth": 0,
             "ticks": ""
            },
            "type": "contourcarpet"
           }
          ],
          "heatmap": [
           {
            "colorbar": {
             "outlinewidth": 0,
             "ticks": ""
            },
            "colorscale": [
             [
              0,
              "#0d0887"
             ],
             [
              0.1111111111111111,
              "#46039f"
             ],
             [
              0.2222222222222222,
              "#7201a8"
             ],
             [
              0.3333333333333333,
              "#9c179e"
             ],
             [
              0.4444444444444444,
              "#bd3786"
             ],
             [
              0.5555555555555556,
              "#d8576b"
             ],
             [
              0.6666666666666666,
              "#ed7953"
             ],
             [
              0.7777777777777778,
              "#fb9f3a"
             ],
             [
              0.8888888888888888,
              "#fdca26"
             ],
             [
              1,
              "#f0f921"
             ]
            ],
            "type": "heatmap"
           }
          ],
          "heatmapgl": [
           {
            "colorbar": {
             "outlinewidth": 0,
             "ticks": ""
            },
            "colorscale": [
             [
              0,
              "#0d0887"
             ],
             [
              0.1111111111111111,
              "#46039f"
             ],
             [
              0.2222222222222222,
              "#7201a8"
             ],
             [
              0.3333333333333333,
              "#9c179e"
             ],
             [
              0.4444444444444444,
              "#bd3786"
             ],
             [
              0.5555555555555556,
              "#d8576b"
             ],
             [
              0.6666666666666666,
              "#ed7953"
             ],
             [
              0.7777777777777778,
              "#fb9f3a"
             ],
             [
              0.8888888888888888,
              "#fdca26"
             ],
             [
              1,
              "#f0f921"
             ]
            ],
            "type": "heatmapgl"
           }
          ],
          "histogram": [
           {
            "marker": {
             "pattern": {
              "fillmode": "overlay",
              "size": 10,
              "solidity": 0.2
             }
            },
            "type": "histogram"
           }
          ],
          "histogram2d": [
           {
            "colorbar": {
             "outlinewidth": 0,
             "ticks": ""
            },
            "colorscale": [
             [
              0,
              "#0d0887"
             ],
             [
              0.1111111111111111,
              "#46039f"
             ],
             [
              0.2222222222222222,
              "#7201a8"
             ],
             [
              0.3333333333333333,
              "#9c179e"
             ],
             [
              0.4444444444444444,
              "#bd3786"
             ],
             [
              0.5555555555555556,
              "#d8576b"
             ],
             [
              0.6666666666666666,
              "#ed7953"
             ],
             [
              0.7777777777777778,
              "#fb9f3a"
             ],
             [
              0.8888888888888888,
              "#fdca26"
             ],
             [
              1,
              "#f0f921"
             ]
            ],
            "type": "histogram2d"
           }
          ],
          "histogram2dcontour": [
           {
            "colorbar": {
             "outlinewidth": 0,
             "ticks": ""
            },
            "colorscale": [
             [
              0,
              "#0d0887"
             ],
             [
              0.1111111111111111,
              "#46039f"
             ],
             [
              0.2222222222222222,
              "#7201a8"
             ],
             [
              0.3333333333333333,
              "#9c179e"
             ],
             [
              0.4444444444444444,
              "#bd3786"
             ],
             [
              0.5555555555555556,
              "#d8576b"
             ],
             [
              0.6666666666666666,
              "#ed7953"
             ],
             [
              0.7777777777777778,
              "#fb9f3a"
             ],
             [
              0.8888888888888888,
              "#fdca26"
             ],
             [
              1,
              "#f0f921"
             ]
            ],
            "type": "histogram2dcontour"
           }
          ],
          "mesh3d": [
           {
            "colorbar": {
             "outlinewidth": 0,
             "ticks": ""
            },
            "type": "mesh3d"
           }
          ],
          "parcoords": [
           {
            "line": {
             "colorbar": {
              "outlinewidth": 0,
              "ticks": ""
             }
            },
            "type": "parcoords"
           }
          ],
          "pie": [
           {
            "automargin": true,
            "type": "pie"
           }
          ],
          "scatter": [
           {
            "fillpattern": {
             "fillmode": "overlay",
             "size": 10,
             "solidity": 0.2
            },
            "type": "scatter"
           }
          ],
          "scatter3d": [
           {
            "line": {
             "colorbar": {
              "outlinewidth": 0,
              "ticks": ""
             }
            },
            "marker": {
             "colorbar": {
              "outlinewidth": 0,
              "ticks": ""
             }
            },
            "type": "scatter3d"
           }
          ],
          "scattercarpet": [
           {
            "marker": {
             "colorbar": {
              "outlinewidth": 0,
              "ticks": ""
             }
            },
            "type": "scattercarpet"
           }
          ],
          "scattergeo": [
           {
            "marker": {
             "colorbar": {
              "outlinewidth": 0,
              "ticks": ""
             }
            },
            "type": "scattergeo"
           }
          ],
          "scattergl": [
           {
            "marker": {
             "colorbar": {
              "outlinewidth": 0,
              "ticks": ""
             }
            },
            "type": "scattergl"
           }
          ],
          "scattermapbox": [
           {
            "marker": {
             "colorbar": {
              "outlinewidth": 0,
              "ticks": ""
             }
            },
            "type": "scattermapbox"
           }
          ],
          "scatterpolar": [
           {
            "marker": {
             "colorbar": {
              "outlinewidth": 0,
              "ticks": ""
             }
            },
            "type": "scatterpolar"
           }
          ],
          "scatterpolargl": [
           {
            "marker": {
             "colorbar": {
              "outlinewidth": 0,
              "ticks": ""
             }
            },
            "type": "scatterpolargl"
           }
          ],
          "scatterternary": [
           {
            "marker": {
             "colorbar": {
              "outlinewidth": 0,
              "ticks": ""
             }
            },
            "type": "scatterternary"
           }
          ],
          "surface": [
           {
            "colorbar": {
             "outlinewidth": 0,
             "ticks": ""
            },
            "colorscale": [
             [
              0,
              "#0d0887"
             ],
             [
              0.1111111111111111,
              "#46039f"
             ],
             [
              0.2222222222222222,
              "#7201a8"
             ],
             [
              0.3333333333333333,
              "#9c179e"
             ],
             [
              0.4444444444444444,
              "#bd3786"
             ],
             [
              0.5555555555555556,
              "#d8576b"
             ],
             [
              0.6666666666666666,
              "#ed7953"
             ],
             [
              0.7777777777777778,
              "#fb9f3a"
             ],
             [
              0.8888888888888888,
              "#fdca26"
             ],
             [
              1,
              "#f0f921"
             ]
            ],
            "type": "surface"
           }
          ],
          "table": [
           {
            "cells": {
             "fill": {
              "color": "#EBF0F8"
             },
             "line": {
              "color": "white"
             }
            },
            "header": {
             "fill": {
              "color": "#C8D4E3"
             },
             "line": {
              "color": "white"
             }
            },
            "type": "table"
           }
          ]
         },
         "layout": {
          "annotationdefaults": {
           "arrowcolor": "#2a3f5f",
           "arrowhead": 0,
           "arrowwidth": 1
          },
          "autotypenumbers": "strict",
          "coloraxis": {
           "colorbar": {
            "outlinewidth": 0,
            "ticks": ""
           }
          },
          "colorscale": {
           "diverging": [
            [
             0,
             "#8e0152"
            ],
            [
             0.1,
             "#c51b7d"
            ],
            [
             0.2,
             "#de77ae"
            ],
            [
             0.3,
             "#f1b6da"
            ],
            [
             0.4,
             "#fde0ef"
            ],
            [
             0.5,
             "#f7f7f7"
            ],
            [
             0.6,
             "#e6f5d0"
            ],
            [
             0.7,
             "#b8e186"
            ],
            [
             0.8,
             "#7fbc41"
            ],
            [
             0.9,
             "#4d9221"
            ],
            [
             1,
             "#276419"
            ]
           ],
           "sequential": [
            [
             0,
             "#0d0887"
            ],
            [
             0.1111111111111111,
             "#46039f"
            ],
            [
             0.2222222222222222,
             "#7201a8"
            ],
            [
             0.3333333333333333,
             "#9c179e"
            ],
            [
             0.4444444444444444,
             "#bd3786"
            ],
            [
             0.5555555555555556,
             "#d8576b"
            ],
            [
             0.6666666666666666,
             "#ed7953"
            ],
            [
             0.7777777777777778,
             "#fb9f3a"
            ],
            [
             0.8888888888888888,
             "#fdca26"
            ],
            [
             1,
             "#f0f921"
            ]
           ],
           "sequentialminus": [
            [
             0,
             "#0d0887"
            ],
            [
             0.1111111111111111,
             "#46039f"
            ],
            [
             0.2222222222222222,
             "#7201a8"
            ],
            [
             0.3333333333333333,
             "#9c179e"
            ],
            [
             0.4444444444444444,
             "#bd3786"
            ],
            [
             0.5555555555555556,
             "#d8576b"
            ],
            [
             0.6666666666666666,
             "#ed7953"
            ],
            [
             0.7777777777777778,
             "#fb9f3a"
            ],
            [
             0.8888888888888888,
             "#fdca26"
            ],
            [
             1,
             "#f0f921"
            ]
           ]
          },
          "colorway": [
           "#636efa",
           "#EF553B",
           "#00cc96",
           "#ab63fa",
           "#FFA15A",
           "#19d3f3",
           "#FF6692",
           "#B6E880",
           "#FF97FF",
           "#FECB52"
          ],
          "font": {
           "color": "#2a3f5f"
          },
          "geo": {
           "bgcolor": "white",
           "lakecolor": "white",
           "landcolor": "#E5ECF6",
           "showlakes": true,
           "showland": true,
           "subunitcolor": "white"
          },
          "hoverlabel": {
           "align": "left"
          },
          "hovermode": "closest",
          "mapbox": {
           "style": "light"
          },
          "paper_bgcolor": "white",
          "plot_bgcolor": "#E5ECF6",
          "polar": {
           "angularaxis": {
            "gridcolor": "white",
            "linecolor": "white",
            "ticks": ""
           },
           "bgcolor": "#E5ECF6",
           "radialaxis": {
            "gridcolor": "white",
            "linecolor": "white",
            "ticks": ""
           }
          },
          "scene": {
           "xaxis": {
            "backgroundcolor": "#E5ECF6",
            "gridcolor": "white",
            "gridwidth": 2,
            "linecolor": "white",
            "showbackground": true,
            "ticks": "",
            "zerolinecolor": "white"
           },
           "yaxis": {
            "backgroundcolor": "#E5ECF6",
            "gridcolor": "white",
            "gridwidth": 2,
            "linecolor": "white",
            "showbackground": true,
            "ticks": "",
            "zerolinecolor": "white"
           },
           "zaxis": {
            "backgroundcolor": "#E5ECF6",
            "gridcolor": "white",
            "gridwidth": 2,
            "linecolor": "white",
            "showbackground": true,
            "ticks": "",
            "zerolinecolor": "white"
           }
          },
          "shapedefaults": {
           "line": {
            "color": "#2a3f5f"
           }
          },
          "ternary": {
           "aaxis": {
            "gridcolor": "white",
            "linecolor": "white",
            "ticks": ""
           },
           "baxis": {
            "gridcolor": "white",
            "linecolor": "white",
            "ticks": ""
           },
           "bgcolor": "#E5ECF6",
           "caxis": {
            "gridcolor": "white",
            "linecolor": "white",
            "ticks": ""
           }
          },
          "title": {
           "x": 0.05
          },
          "xaxis": {
           "automargin": true,
           "gridcolor": "white",
           "linecolor": "white",
           "ticks": "",
           "title": {
            "standoff": 15
           },
           "zerolinecolor": "white",
           "zerolinewidth": 2
          },
          "yaxis": {
           "automargin": true,
           "gridcolor": "white",
           "linecolor": "white",
           "ticks": "",
           "title": {
            "standoff": 15
           },
           "zerolinecolor": "white",
           "zerolinewidth": 2
          }
         }
        },
        "title": {
         "text": "Reviews per Product"
        },
        "xaxis": {
         "anchor": "y",
         "domain": [
          0,
          1
         ],
         "title": {
          "text": "product_name"
         }
        },
        "yaxis": {
         "anchor": "x",
         "domain": [
          0,
          1
         ],
         "title": {
          "text": "Number of Reviews"
         }
        }
       }
      }
     },
     "metadata": {},
     "output_type": "display_data"
    }
   ],
   "source": []
  },
  {
   "cell_type": "code",
   "execution_count": 62,
   "metadata": {},
   "outputs": [
    {
     "data": {
      "application/vnd.plotly.v1+json": {
       "config": {
        "plotlyServerURL": "https://plot.ly"
       },
       "data": [
        {
         "alignmentgroup": "True",
         "hovertemplate": "Number of Reviews=%{y}<extra></extra>",
         "legendgroup": "",
         "marker": {
          "color": "#636efa"
         },
         "name": "",
         "notched": false,
         "offsetgroup": "",
         "orientation": "v",
         "showlegend": false,
         "type": "box",
         "x0": " ",
         "xaxis": "x",
         "y": [
          13,
          16,
          21,
          13,
          21,
          13,
          8,
          7,
          8,
          16,
          7,
          4,
          4,
          18,
          9,
          17,
          6,
          21,
          7,
          6,
          4,
          8,
          7,
          9,
          11,
          39,
          37,
          80,
          139,
          50,
          120,
          60,
          65,
          80,
          51,
          36,
          13,
          21,
          14,
          10,
          24,
          1696,
          1696,
          1058,
          1058,
          862,
          249,
          17,
          20,
          668,
          6,
          5,
          6,
          4,
          3,
          2,
          6,
          1,
          3,
          4,
          2,
          4,
          5,
          2,
          4,
          3,
          112,
          8,
          10,
          112,
          41,
          66,
          44,
          66,
          44,
          89,
          41,
          89,
          1280,
          320,
          1280,
          404,
          178,
          181,
          308,
          58,
          401,
          140,
          58,
          17,
          98,
          302,
          218,
          58,
          249,
          94,
          54,
          55,
          102,
          57,
          24,
          34,
          17,
          13,
          102,
          25,
          11,
          52,
          18,
          50,
          38,
          11,
          14,
          12,
          10,
          6,
          82,
          671,
          13,
          17,
          4,
          2507,
          780,
          488,
          218,
          488,
          780,
          2494,
          342,
          438,
          280,
          253,
          118,
          351,
          584,
          131,
          218,
          90,
          75,
          55,
          79,
          35,
          292,
          82,
          129,
          81,
          82,
          33,
          348,
          216,
          57,
          58,
          256,
          49,
          168,
          5,
          19,
          63,
          19,
          48,
          10,
          93,
          78,
          34,
          44,
          13,
          54,
          5,
          3,
          5,
          9,
          1,
          2,
          4,
          2,
          4,
          3,
          2,
          1,
          3,
          11,
          1,
          4,
          3,
          1,
          5,
          3,
          1,
          1,
          63,
          73,
          63,
          21,
          73,
          23,
          16,
          23,
          23,
          12,
          16,
          23,
          12,
          2188,
          892,
          25,
          348,
          340,
          180,
          189,
          367,
          189,
          367,
          104,
          244,
          244,
          55,
          194,
          41,
          34,
          142,
          71,
          194,
          71,
          18,
          142,
          30,
          5,
          25,
          12,
          45,
          55,
          3,
          242,
          544,
          544,
          542,
          262,
          542,
          262,
          120,
          43,
          120,
          20,
          20,
          411,
          616,
          586,
          354,
          586,
          616,
          504,
          230,
          191,
          185,
          235,
          63,
          854,
          1317,
          854,
          1317,
          217,
          408,
          748,
          15,
          671,
          391,
          343,
          671,
          426,
          391,
          343,
          169,
          255,
          156,
          439,
          66,
          23,
          75,
          104,
          22,
          27,
          32,
          94,
          123,
          28,
          26,
          30,
          32,
          22,
          32,
          4,
          2,
          165,
          107,
          94,
          37,
          19,
          215,
          44,
          149,
          614,
          428,
          432,
          104,
          370,
          112,
          120,
          102,
          97,
          117,
          76,
          2,
          28,
          4,
          20,
          3,
          1625,
          84,
          162,
          130,
          2005,
          2005,
          399,
          399,
          226,
          39,
          35,
          35,
          9,
          10,
          964,
          424,
          539,
          539,
          424,
          64,
          181,
          115,
          134,
          66,
          60,
          134,
          226,
          226,
          20,
          160,
          18,
          1256,
          1256,
          808,
          808,
          346,
          35,
          152,
          145,
          21,
          14,
          13,
          19,
          19,
          11,
          8,
          649,
          114,
          98,
          208,
          211,
          129,
          62,
          23,
          30,
          9,
          9,
          2016,
          1645,
          980,
          625,
          1645,
          2016,
          980,
          625,
          277,
          569,
          569,
          277,
          2800,
          1389,
          1047,
          1135,
          296,
          313,
          2786,
          1047,
          1135,
          144,
          356,
          525,
          759,
          1389,
          525,
          236,
          159,
          336,
          313,
          180,
          1102,
          3259,
          3259,
          1231,
          1102,
          715,
          1231,
          944,
          242,
          242,
          185,
          59,
          192,
          161,
          194,
          185,
          194,
          192,
          122,
          122,
          161,
          74,
          74,
          377,
          391,
          178,
          82,
          11,
          11,
          9,
          433,
          433,
          22,
          59,
          39,
          115,
          88,
          20,
          88,
          115,
          65,
          27,
          35,
          65,
          27,
          35,
          1184,
          33,
          1070,
          7,
          579,
          579,
          451,
          453,
          322,
          322,
          220,
          140,
          134,
          146,
          134,
          140,
          246,
          146,
          246,
          78,
          78,
          7,
          10,
          86,
          1138,
          1138,
          342,
          342,
          265,
          218,
          265,
          99,
          116,
          88,
          116,
          40,
          99,
          88,
          29,
          97,
          97,
          67,
          12,
          23,
          2,
          18,
          3,
          1,
          18,
          18,
          734,
          568,
          468,
          452,
          55,
          26,
          7,
          5,
          3,
          1041,
          1210,
          1038,
          824,
          1210,
          943,
          1092,
          824,
          898,
          943,
          618,
          974,
          1912,
          620,
          1092,
          681,
          56,
          620,
          43,
          595,
          898,
          44,
          581,
          1142,
          15,
          13,
          18,
          449,
          642,
          272,
          642,
          247,
          131,
          595,
          496,
          2,
          273,
          421,
          581,
          517,
          411,
          212,
          310,
          245,
          314,
          185,
          156,
          52,
          314,
          322,
          31,
          59,
          69,
          45,
          16,
          19,
          32,
          25,
          22,
          14,
          17,
          17,
          5039,
          4939,
          4953,
          1476,
          1476,
          12,
          5,
          11,
          6,
          9,
          4,
          6,
          5,
          2,
          2,
          1063,
          3550,
          323,
          2848,
          909,
          315,
          61,
          37,
          112,
          1203,
          43,
          150,
          556
         ],
         "y0": " ",
         "yaxis": "y"
        }
       ],
       "layout": {
        "boxmode": "group",
        "legend": {
         "tracegroupgap": 0
        },
        "template": {
         "data": {
          "bar": [
           {
            "error_x": {
             "color": "#2a3f5f"
            },
            "error_y": {
             "color": "#2a3f5f"
            },
            "marker": {
             "line": {
              "color": "#E5ECF6",
              "width": 0.5
             },
             "pattern": {
              "fillmode": "overlay",
              "size": 10,
              "solidity": 0.2
             }
            },
            "type": "bar"
           }
          ],
          "barpolar": [
           {
            "marker": {
             "line": {
              "color": "#E5ECF6",
              "width": 0.5
             },
             "pattern": {
              "fillmode": "overlay",
              "size": 10,
              "solidity": 0.2
             }
            },
            "type": "barpolar"
           }
          ],
          "carpet": [
           {
            "aaxis": {
             "endlinecolor": "#2a3f5f",
             "gridcolor": "white",
             "linecolor": "white",
             "minorgridcolor": "white",
             "startlinecolor": "#2a3f5f"
            },
            "baxis": {
             "endlinecolor": "#2a3f5f",
             "gridcolor": "white",
             "linecolor": "white",
             "minorgridcolor": "white",
             "startlinecolor": "#2a3f5f"
            },
            "type": "carpet"
           }
          ],
          "choropleth": [
           {
            "colorbar": {
             "outlinewidth": 0,
             "ticks": ""
            },
            "type": "choropleth"
           }
          ],
          "contour": [
           {
            "colorbar": {
             "outlinewidth": 0,
             "ticks": ""
            },
            "colorscale": [
             [
              0,
              "#0d0887"
             ],
             [
              0.1111111111111111,
              "#46039f"
             ],
             [
              0.2222222222222222,
              "#7201a8"
             ],
             [
              0.3333333333333333,
              "#9c179e"
             ],
             [
              0.4444444444444444,
              "#bd3786"
             ],
             [
              0.5555555555555556,
              "#d8576b"
             ],
             [
              0.6666666666666666,
              "#ed7953"
             ],
             [
              0.7777777777777778,
              "#fb9f3a"
             ],
             [
              0.8888888888888888,
              "#fdca26"
             ],
             [
              1,
              "#f0f921"
             ]
            ],
            "type": "contour"
           }
          ],
          "contourcarpet": [
           {
            "colorbar": {
             "outlinewidth": 0,
             "ticks": ""
            },
            "type": "contourcarpet"
           }
          ],
          "heatmap": [
           {
            "colorbar": {
             "outlinewidth": 0,
             "ticks": ""
            },
            "colorscale": [
             [
              0,
              "#0d0887"
             ],
             [
              0.1111111111111111,
              "#46039f"
             ],
             [
              0.2222222222222222,
              "#7201a8"
             ],
             [
              0.3333333333333333,
              "#9c179e"
             ],
             [
              0.4444444444444444,
              "#bd3786"
             ],
             [
              0.5555555555555556,
              "#d8576b"
             ],
             [
              0.6666666666666666,
              "#ed7953"
             ],
             [
              0.7777777777777778,
              "#fb9f3a"
             ],
             [
              0.8888888888888888,
              "#fdca26"
             ],
             [
              1,
              "#f0f921"
             ]
            ],
            "type": "heatmap"
           }
          ],
          "heatmapgl": [
           {
            "colorbar": {
             "outlinewidth": 0,
             "ticks": ""
            },
            "colorscale": [
             [
              0,
              "#0d0887"
             ],
             [
              0.1111111111111111,
              "#46039f"
             ],
             [
              0.2222222222222222,
              "#7201a8"
             ],
             [
              0.3333333333333333,
              "#9c179e"
             ],
             [
              0.4444444444444444,
              "#bd3786"
             ],
             [
              0.5555555555555556,
              "#d8576b"
             ],
             [
              0.6666666666666666,
              "#ed7953"
             ],
             [
              0.7777777777777778,
              "#fb9f3a"
             ],
             [
              0.8888888888888888,
              "#fdca26"
             ],
             [
              1,
              "#f0f921"
             ]
            ],
            "type": "heatmapgl"
           }
          ],
          "histogram": [
           {
            "marker": {
             "pattern": {
              "fillmode": "overlay",
              "size": 10,
              "solidity": 0.2
             }
            },
            "type": "histogram"
           }
          ],
          "histogram2d": [
           {
            "colorbar": {
             "outlinewidth": 0,
             "ticks": ""
            },
            "colorscale": [
             [
              0,
              "#0d0887"
             ],
             [
              0.1111111111111111,
              "#46039f"
             ],
             [
              0.2222222222222222,
              "#7201a8"
             ],
             [
              0.3333333333333333,
              "#9c179e"
             ],
             [
              0.4444444444444444,
              "#bd3786"
             ],
             [
              0.5555555555555556,
              "#d8576b"
             ],
             [
              0.6666666666666666,
              "#ed7953"
             ],
             [
              0.7777777777777778,
              "#fb9f3a"
             ],
             [
              0.8888888888888888,
              "#fdca26"
             ],
             [
              1,
              "#f0f921"
             ]
            ],
            "type": "histogram2d"
           }
          ],
          "histogram2dcontour": [
           {
            "colorbar": {
             "outlinewidth": 0,
             "ticks": ""
            },
            "colorscale": [
             [
              0,
              "#0d0887"
             ],
             [
              0.1111111111111111,
              "#46039f"
             ],
             [
              0.2222222222222222,
              "#7201a8"
             ],
             [
              0.3333333333333333,
              "#9c179e"
             ],
             [
              0.4444444444444444,
              "#bd3786"
             ],
             [
              0.5555555555555556,
              "#d8576b"
             ],
             [
              0.6666666666666666,
              "#ed7953"
             ],
             [
              0.7777777777777778,
              "#fb9f3a"
             ],
             [
              0.8888888888888888,
              "#fdca26"
             ],
             [
              1,
              "#f0f921"
             ]
            ],
            "type": "histogram2dcontour"
           }
          ],
          "mesh3d": [
           {
            "colorbar": {
             "outlinewidth": 0,
             "ticks": ""
            },
            "type": "mesh3d"
           }
          ],
          "parcoords": [
           {
            "line": {
             "colorbar": {
              "outlinewidth": 0,
              "ticks": ""
             }
            },
            "type": "parcoords"
           }
          ],
          "pie": [
           {
            "automargin": true,
            "type": "pie"
           }
          ],
          "scatter": [
           {
            "fillpattern": {
             "fillmode": "overlay",
             "size": 10,
             "solidity": 0.2
            },
            "type": "scatter"
           }
          ],
          "scatter3d": [
           {
            "line": {
             "colorbar": {
              "outlinewidth": 0,
              "ticks": ""
             }
            },
            "marker": {
             "colorbar": {
              "outlinewidth": 0,
              "ticks": ""
             }
            },
            "type": "scatter3d"
           }
          ],
          "scattercarpet": [
           {
            "marker": {
             "colorbar": {
              "outlinewidth": 0,
              "ticks": ""
             }
            },
            "type": "scattercarpet"
           }
          ],
          "scattergeo": [
           {
            "marker": {
             "colorbar": {
              "outlinewidth": 0,
              "ticks": ""
             }
            },
            "type": "scattergeo"
           }
          ],
          "scattergl": [
           {
            "marker": {
             "colorbar": {
              "outlinewidth": 0,
              "ticks": ""
             }
            },
            "type": "scattergl"
           }
          ],
          "scattermapbox": [
           {
            "marker": {
             "colorbar": {
              "outlinewidth": 0,
              "ticks": ""
             }
            },
            "type": "scattermapbox"
           }
          ],
          "scatterpolar": [
           {
            "marker": {
             "colorbar": {
              "outlinewidth": 0,
              "ticks": ""
             }
            },
            "type": "scatterpolar"
           }
          ],
          "scatterpolargl": [
           {
            "marker": {
             "colorbar": {
              "outlinewidth": 0,
              "ticks": ""
             }
            },
            "type": "scatterpolargl"
           }
          ],
          "scatterternary": [
           {
            "marker": {
             "colorbar": {
              "outlinewidth": 0,
              "ticks": ""
             }
            },
            "type": "scatterternary"
           }
          ],
          "surface": [
           {
            "colorbar": {
             "outlinewidth": 0,
             "ticks": ""
            },
            "colorscale": [
             [
              0,
              "#0d0887"
             ],
             [
              0.1111111111111111,
              "#46039f"
             ],
             [
              0.2222222222222222,
              "#7201a8"
             ],
             [
              0.3333333333333333,
              "#9c179e"
             ],
             [
              0.4444444444444444,
              "#bd3786"
             ],
             [
              0.5555555555555556,
              "#d8576b"
             ],
             [
              0.6666666666666666,
              "#ed7953"
             ],
             [
              0.7777777777777778,
              "#fb9f3a"
             ],
             [
              0.8888888888888888,
              "#fdca26"
             ],
             [
              1,
              "#f0f921"
             ]
            ],
            "type": "surface"
           }
          ],
          "table": [
           {
            "cells": {
             "fill": {
              "color": "#EBF0F8"
             },
             "line": {
              "color": "white"
             }
            },
            "header": {
             "fill": {
              "color": "#C8D4E3"
             },
             "line": {
              "color": "white"
             }
            },
            "type": "table"
           }
          ]
         },
         "layout": {
          "annotationdefaults": {
           "arrowcolor": "#2a3f5f",
           "arrowhead": 0,
           "arrowwidth": 1
          },
          "autotypenumbers": "strict",
          "coloraxis": {
           "colorbar": {
            "outlinewidth": 0,
            "ticks": ""
           }
          },
          "colorscale": {
           "diverging": [
            [
             0,
             "#8e0152"
            ],
            [
             0.1,
             "#c51b7d"
            ],
            [
             0.2,
             "#de77ae"
            ],
            [
             0.3,
             "#f1b6da"
            ],
            [
             0.4,
             "#fde0ef"
            ],
            [
             0.5,
             "#f7f7f7"
            ],
            [
             0.6,
             "#e6f5d0"
            ],
            [
             0.7,
             "#b8e186"
            ],
            [
             0.8,
             "#7fbc41"
            ],
            [
             0.9,
             "#4d9221"
            ],
            [
             1,
             "#276419"
            ]
           ],
           "sequential": [
            [
             0,
             "#0d0887"
            ],
            [
             0.1111111111111111,
             "#46039f"
            ],
            [
             0.2222222222222222,
             "#7201a8"
            ],
            [
             0.3333333333333333,
             "#9c179e"
            ],
            [
             0.4444444444444444,
             "#bd3786"
            ],
            [
             0.5555555555555556,
             "#d8576b"
            ],
            [
             0.6666666666666666,
             "#ed7953"
            ],
            [
             0.7777777777777778,
             "#fb9f3a"
            ],
            [
             0.8888888888888888,
             "#fdca26"
            ],
            [
             1,
             "#f0f921"
            ]
           ],
           "sequentialminus": [
            [
             0,
             "#0d0887"
            ],
            [
             0.1111111111111111,
             "#46039f"
            ],
            [
             0.2222222222222222,
             "#7201a8"
            ],
            [
             0.3333333333333333,
             "#9c179e"
            ],
            [
             0.4444444444444444,
             "#bd3786"
            ],
            [
             0.5555555555555556,
             "#d8576b"
            ],
            [
             0.6666666666666666,
             "#ed7953"
            ],
            [
             0.7777777777777778,
             "#fb9f3a"
            ],
            [
             0.8888888888888888,
             "#fdca26"
            ],
            [
             1,
             "#f0f921"
            ]
           ]
          },
          "colorway": [
           "#636efa",
           "#EF553B",
           "#00cc96",
           "#ab63fa",
           "#FFA15A",
           "#19d3f3",
           "#FF6692",
           "#B6E880",
           "#FF97FF",
           "#FECB52"
          ],
          "font": {
           "color": "#2a3f5f"
          },
          "geo": {
           "bgcolor": "white",
           "lakecolor": "white",
           "landcolor": "#E5ECF6",
           "showlakes": true,
           "showland": true,
           "subunitcolor": "white"
          },
          "hoverlabel": {
           "align": "left"
          },
          "hovermode": "closest",
          "mapbox": {
           "style": "light"
          },
          "paper_bgcolor": "white",
          "plot_bgcolor": "#E5ECF6",
          "polar": {
           "angularaxis": {
            "gridcolor": "white",
            "linecolor": "white",
            "ticks": ""
           },
           "bgcolor": "#E5ECF6",
           "radialaxis": {
            "gridcolor": "white",
            "linecolor": "white",
            "ticks": ""
           }
          },
          "scene": {
           "xaxis": {
            "backgroundcolor": "#E5ECF6",
            "gridcolor": "white",
            "gridwidth": 2,
            "linecolor": "white",
            "showbackground": true,
            "ticks": "",
            "zerolinecolor": "white"
           },
           "yaxis": {
            "backgroundcolor": "#E5ECF6",
            "gridcolor": "white",
            "gridwidth": 2,
            "linecolor": "white",
            "showbackground": true,
            "ticks": "",
            "zerolinecolor": "white"
           },
           "zaxis": {
            "backgroundcolor": "#E5ECF6",
            "gridcolor": "white",
            "gridwidth": 2,
            "linecolor": "white",
            "showbackground": true,
            "ticks": "",
            "zerolinecolor": "white"
           }
          },
          "shapedefaults": {
           "line": {
            "color": "#2a3f5f"
           }
          },
          "ternary": {
           "aaxis": {
            "gridcolor": "white",
            "linecolor": "white",
            "ticks": ""
           },
           "baxis": {
            "gridcolor": "white",
            "linecolor": "white",
            "ticks": ""
           },
           "bgcolor": "#E5ECF6",
           "caxis": {
            "gridcolor": "white",
            "linecolor": "white",
            "ticks": ""
           }
          },
          "title": {
           "x": 0.05
          },
          "xaxis": {
           "automargin": true,
           "gridcolor": "white",
           "linecolor": "white",
           "ticks": "",
           "title": {
            "standoff": 15
           },
           "zerolinecolor": "white",
           "zerolinewidth": 2
          },
          "yaxis": {
           "automargin": true,
           "gridcolor": "white",
           "linecolor": "white",
           "ticks": "",
           "title": {
            "standoff": 15
           },
           "zerolinecolor": "white",
           "zerolinewidth": 2
          }
         }
        },
        "title": {
         "text": "Box Plot of Reviews"
        },
        "xaxis": {
         "anchor": "y",
         "domain": [
          0,
          1
         ]
        },
        "yaxis": {
         "anchor": "x",
         "domain": [
          0,
          1
         ],
         "title": {
          "text": "Number of Reviews"
         }
        }
       }
      }
     },
     "metadata": {},
     "output_type": "display_data"
    }
   ],
   "source": [
    "# Create a box plot for the reviews\n",
    "fig = px.box(fragrant_data, \n",
    "              y='reviews', \n",
    "              title='Box Plot of Reviews',\n",
    "              labels={'reviews': 'Number of Reviews'})\n",
    "\n",
    "fig.show()"
   ]
  },
  {
   "cell_type": "code",
   "execution_count": 85,
   "metadata": {},
   "outputs": [
    {
     "data": {
      "application/vnd.plotly.v1+json": {
       "config": {
        "plotlyServerURL": "https://plot.ly"
       },
       "data": [
        {
         "hovertemplate": "<b>%{hovertext}</b><br><br>product_name=La Habana Eau de Parfum<br>Brand=%{x}<br>Price (USD)=%{y}<extra></extra>",
         "hovertext": [
          "La Habana Eau de Parfum"
         ],
         "legendgroup": "La Habana Eau de Parfum",
         "marker": {
          "color": "#636efa",
          "opacity": 0.7,
          "symbol": "circle"
         },
         "mode": "markers",
         "name": "La Habana Eau de Parfum",
         "orientation": "v",
         "showlegend": true,
         "type": "scatter",
         "x": [
          "19-69"
         ],
         "xaxis": "x",
         "y": [
          195
         ],
         "yaxis": "y"
        },
        {
         "hovertemplate": "<b>%{hovertext}</b><br><br>product_name=Rainbow Bar Eau de Parfum<br>Brand=%{x}<br>Price (USD)=%{y}<extra></extra>",
         "hovertext": [
          "Rainbow Bar Eau de Parfum"
         ],
         "legendgroup": "Rainbow Bar Eau de Parfum",
         "marker": {
          "color": "#EF553B",
          "opacity": 0.7,
          "symbol": "circle"
         },
         "mode": "markers",
         "name": "Rainbow Bar Eau de Parfum",
         "orientation": "v",
         "showlegend": true,
         "type": "scatter",
         "x": [
          "19-69"
         ],
         "xaxis": "x",
         "y": [
          195
         ],
         "yaxis": "y"
        },
        {
         "hovertemplate": "<b>%{hovertext}</b><br><br>product_name=Kasbah Eau de Parfum<br>Brand=%{x}<br>Price (USD)=%{y}<extra></extra>",
         "hovertext": [
          "Kasbah Eau de Parfum"
         ],
         "legendgroup": "Kasbah Eau de Parfum",
         "marker": {
          "color": "#00cc96",
          "opacity": 0.7,
          "symbol": "circle"
         },
         "mode": "markers",
         "name": "Kasbah Eau de Parfum",
         "orientation": "v",
         "showlegend": true,
         "type": "scatter",
         "x": [
          "19-69"
         ],
         "xaxis": "x",
         "y": [
          195
         ],
         "yaxis": "y"
        },
        {
         "hovertemplate": "<b>%{hovertext}</b><br><br>product_name=Purple Haze Eau de Parfum<br>Brand=%{x}<br>Price (USD)=%{y}<extra></extra>",
         "hovertext": [
          "Purple Haze Eau de Parfum"
         ],
         "legendgroup": "Purple Haze Eau de Parfum",
         "marker": {
          "color": "#ab63fa",
          "opacity": 0.7,
          "symbol": "circle"
         },
         "mode": "markers",
         "name": "Purple Haze Eau de Parfum",
         "orientation": "v",
         "showlegend": true,
         "type": "scatter",
         "x": [
          "19-69"
         ],
         "xaxis": "x",
         "y": [
          195
         ],
         "yaxis": "y"
        },
        {
         "hovertemplate": "<b>%{hovertext}</b><br><br>product_name=Kasbah Eau de Parfum Travel Spray<br>Brand=%{x}<br>Price (USD)=%{y}<extra></extra>",
         "hovertext": [
          "Kasbah Eau de Parfum Travel Spray"
         ],
         "legendgroup": "Kasbah Eau de Parfum Travel Spray",
         "marker": {
          "color": "#FFA15A",
          "opacity": 0.7,
          "symbol": "circle"
         },
         "mode": "markers",
         "name": "Kasbah Eau de Parfum Travel Spray",
         "orientation": "v",
         "showlegend": true,
         "type": "scatter",
         "x": [
          "19-69"
         ],
         "xaxis": "x",
         "y": [
          30
         ],
         "yaxis": "y"
        },
        {
         "hovertemplate": "<b>%{hovertext}</b><br><br>product_name=Purple Haze Eau de Parfum Travel Spray<br>Brand=%{x}<br>Price (USD)=%{y}<extra></extra>",
         "hovertext": [
          "Purple Haze Eau de Parfum Travel Spray"
         ],
         "legendgroup": "Purple Haze Eau de Parfum Travel Spray",
         "marker": {
          "color": "#19d3f3",
          "opacity": 0.7,
          "symbol": "circle"
         },
         "mode": "markers",
         "name": "Purple Haze Eau de Parfum Travel Spray",
         "orientation": "v",
         "showlegend": true,
         "type": "scatter",
         "x": [
          "19-69"
         ],
         "xaxis": "x",
         "y": [
          30
         ],
         "yaxis": "y"
        },
        {
         "hovertemplate": "<b>%{hovertext}</b><br><br>product_name=Invisible Post Eau de Parfum<br>Brand=%{x}<br>Price (USD)=%{y}<extra></extra>",
         "hovertext": [
          "Invisible Post Eau de Parfum"
         ],
         "legendgroup": "Invisible Post Eau de Parfum",
         "marker": {
          "color": "#FF6692",
          "opacity": 0.7,
          "symbol": "circle"
         },
         "mode": "markers",
         "name": "Invisible Post Eau de Parfum",
         "orientation": "v",
         "showlegend": true,
         "type": "scatter",
         "x": [
          "19-69"
         ],
         "xaxis": "x",
         "y": [
          195
         ],
         "yaxis": "y"
        },
        {
         "hovertemplate": "<b>%{hovertext}</b><br><br>product_name=Capri Eau de Parfum<br>Brand=%{x}<br>Price (USD)=%{y}<extra></extra>",
         "hovertext": [
          "Capri Eau de Parfum"
         ],
         "legendgroup": "Capri Eau de Parfum",
         "marker": {
          "color": "#B6E880",
          "opacity": 0.7,
          "symbol": "circle"
         },
         "mode": "markers",
         "name": "Capri Eau de Parfum",
         "orientation": "v",
         "showlegend": true,
         "type": "scatter",
         "x": [
          "19-69"
         ],
         "xaxis": "x",
         "y": [
          195
         ],
         "yaxis": "y"
        },
        {
         "hovertemplate": "<b>%{hovertext}</b><br><br>product_name=Invisible Post Eau de Parfum Travel Spray<br>Brand=%{x}<br>Price (USD)=%{y}<extra></extra>",
         "hovertext": [
          "Invisible Post Eau de Parfum Travel Spray"
         ],
         "legendgroup": "Invisible Post Eau de Parfum Travel Spray",
         "marker": {
          "color": "#FF97FF",
          "opacity": 0.7,
          "symbol": "circle"
         },
         "mode": "markers",
         "name": "Invisible Post Eau de Parfum Travel Spray",
         "orientation": "v",
         "showlegend": true,
         "type": "scatter",
         "x": [
          "19-69"
         ],
         "xaxis": "x",
         "y": [
          30
         ],
         "yaxis": "y"
        },
        {
         "hovertemplate": "<b>%{hovertext}</b><br><br>product_name=Rainbow Bar Eau de Parfum Travel Spray<br>Brand=%{x}<br>Price (USD)=%{y}<extra></extra>",
         "hovertext": [
          "Rainbow Bar Eau de Parfum Travel Spray"
         ],
         "legendgroup": "Rainbow Bar Eau de Parfum Travel Spray",
         "marker": {
          "color": "#FECB52",
          "opacity": 0.7,
          "symbol": "circle"
         },
         "mode": "markers",
         "name": "Rainbow Bar Eau de Parfum Travel Spray",
         "orientation": "v",
         "showlegend": true,
         "type": "scatter",
         "x": [
          "19-69"
         ],
         "xaxis": "x",
         "y": [
          30
         ],
         "yaxis": "y"
        },
        {
         "hovertemplate": "<b>%{hovertext}</b><br><br>product_name=Capri Eau de Parfum Travel Spray<br>Brand=%{x}<br>Price (USD)=%{y}<extra></extra>",
         "hovertext": [
          "Capri Eau de Parfum Travel Spray"
         ],
         "legendgroup": "Capri Eau de Parfum Travel Spray",
         "marker": {
          "color": "#636efa",
          "opacity": 0.7,
          "symbol": "circle"
         },
         "mode": "markers",
         "name": "Capri Eau de Parfum Travel Spray",
         "orientation": "v",
         "showlegend": true,
         "type": "scatter",
         "x": [
          "19-69"
         ],
         "xaxis": "x",
         "y": [
          30
         ],
         "yaxis": "y"
        },
        {
         "hovertemplate": "<b>%{hovertext}</b><br><br>product_name=L'air Barbes Eau de Parfum<br>Brand=%{x}<br>Price (USD)=%{y}<extra></extra>",
         "hovertext": [
          "L'air Barbes Eau de Parfum"
         ],
         "legendgroup": "L'air Barbes Eau de Parfum",
         "marker": {
          "color": "#EF553B",
          "opacity": 0.7,
          "symbol": "circle"
         },
         "mode": "markers",
         "name": "L'air Barbes Eau de Parfum",
         "orientation": "v",
         "showlegend": true,
         "type": "scatter",
         "x": [
          "19-69"
         ],
         "xaxis": "x",
         "y": [
          195
         ],
         "yaxis": "y"
        },
        {
         "hovertemplate": "<b>%{hovertext}</b><br><br>product_name=L'air Barbes Eau de Parfum Travel Spray<br>Brand=%{x}<br>Price (USD)=%{y}<extra></extra>",
         "hovertext": [
          "L'air Barbes Eau de Parfum Travel Spray"
         ],
         "legendgroup": "L'air Barbes Eau de Parfum Travel Spray",
         "marker": {
          "color": "#00cc96",
          "opacity": 0.7,
          "symbol": "circle"
         },
         "mode": "markers",
         "name": "L'air Barbes Eau de Parfum Travel Spray",
         "orientation": "v",
         "showlegend": true,
         "type": "scatter",
         "x": [
          "19-69"
         ],
         "xaxis": "x",
         "y": [
          30
         ],
         "yaxis": "y"
        },
        {
         "hovertemplate": "<b>%{hovertext}</b><br><br>product_name=The Cape Perfume<br>Brand=%{x}<br>Price (USD)=%{y}<extra></extra>",
         "hovertext": [
          "The Cape Perfume"
         ],
         "legendgroup": "The Cape Perfume",
         "marker": {
          "color": "#ab63fa",
          "opacity": 0.7,
          "symbol": "circle"
         },
         "mode": "markers",
         "name": "The Cape Perfume",
         "orientation": "v",
         "showlegend": true,
         "type": "scatter",
         "x": [
          "ABBOTT"
         ],
         "xaxis": "x",
         "y": [
          84
         ],
         "yaxis": "y"
        },
        {
         "hovertemplate": "<b>%{hovertext}</b><br><br>product_name=Crescent Beach Perfume Travel Spray<br>Brand=%{x}<br>Price (USD)=%{y}<extra></extra>",
         "hovertext": [
          "Crescent Beach Perfume Travel Spray"
         ],
         "legendgroup": "Crescent Beach Perfume Travel Spray",
         "marker": {
          "color": "#FFA15A",
          "opacity": 0.7,
          "symbol": "circle"
         },
         "mode": "markers",
         "name": "Crescent Beach Perfume Travel Spray",
         "orientation": "v",
         "showlegend": true,
         "type": "scatter",
         "x": [
          "ABBOTT"
         ],
         "xaxis": "x",
         "y": [
          29
         ],
         "yaxis": "y"
        },
        {
         "hovertemplate": "<b>%{hovertext}</b><br><br>product_name=Crescent Beach Perfume<br>Brand=%{x}<br>Price (USD)=%{y}<extra></extra>",
         "hovertext": [
          "Crescent Beach Perfume"
         ],
         "legendgroup": "Crescent Beach Perfume",
         "marker": {
          "color": "#19d3f3",
          "opacity": 0.7,
          "symbol": "circle"
         },
         "mode": "markers",
         "name": "Crescent Beach Perfume",
         "orientation": "v",
         "showlegend": true,
         "type": "scatter",
         "x": [
          "ABBOTT"
         ],
         "xaxis": "x",
         "y": [
          84
         ],
         "yaxis": "y"
        },
        {
         "hovertemplate": "<b>%{hovertext}</b><br><br>product_name=Seqouia Eau de Parfum Travel Spray<br>Brand=%{x}<br>Price (USD)=%{y}<extra></extra>",
         "hovertext": [
          "Seqouia Eau de Parfum Travel Spray"
         ],
         "legendgroup": "Seqouia Eau de Parfum Travel Spray",
         "marker": {
          "color": "#FF6692",
          "opacity": 0.7,
          "symbol": "circle"
         },
         "mode": "markers",
         "name": "Seqouia Eau de Parfum Travel Spray",
         "orientation": "v",
         "showlegend": true,
         "type": "scatter",
         "x": [
          "ABBOTT"
         ],
         "xaxis": "x",
         "y": [
          29
         ],
         "yaxis": "y"
        },
        {
         "hovertemplate": "<b>%{hovertext}</b><br><br>product_name=Sequoia Perfume<br>Brand=%{x}<br>Price (USD)=%{y}<extra></extra>",
         "hovertext": [
          "Sequoia Perfume"
         ],
         "legendgroup": "Sequoia Perfume",
         "marker": {
          "color": "#B6E880",
          "opacity": 0.7,
          "symbol": "circle"
         },
         "mode": "markers",
         "name": "Sequoia Perfume",
         "orientation": "v",
         "showlegend": true,
         "type": "scatter",
         "x": [
          "ABBOTT"
         ],
         "xaxis": "x",
         "y": [
          84
         ],
         "yaxis": "y"
        },
        {
         "hovertemplate": "<b>%{hovertext}</b><br><br>product_name=Mojave Perfume Travel Spray<br>Brand=%{x}<br>Price (USD)=%{y}<extra></extra>",
         "hovertext": [
          "Mojave Perfume Travel Spray"
         ],
         "legendgroup": "Mojave Perfume Travel Spray",
         "marker": {
          "color": "#FF97FF",
          "opacity": 0.7,
          "symbol": "circle"
         },
         "mode": "markers",
         "name": "Mojave Perfume Travel Spray",
         "orientation": "v",
         "showlegend": true,
         "type": "scatter",
         "x": [
          "ABBOTT"
         ],
         "xaxis": "x",
         "y": [
          29
         ],
         "yaxis": "y"
        },
        {
         "hovertemplate": "<b>%{hovertext}</b><br><br>product_name=The Cape Perfume Travel Spray<br>Brand=%{x}<br>Price (USD)=%{y}<extra></extra>",
         "hovertext": [
          "The Cape Perfume Travel Spray"
         ],
         "legendgroup": "The Cape Perfume Travel Spray",
         "marker": {
          "color": "#FECB52",
          "opacity": 0.7,
          "symbol": "circle"
         },
         "mode": "markers",
         "name": "The Cape Perfume Travel Spray",
         "orientation": "v",
         "showlegend": true,
         "type": "scatter",
         "x": [
          "ABBOTT"
         ],
         "xaxis": "x",
         "y": [
          29
         ],
         "yaxis": "y"
        },
        {
         "hovertemplate": "<b>%{hovertext}</b><br><br>product_name=Big Sky Eau de Parfum Travel Spray<br>Brand=%{x}<br>Price (USD)=%{y}<extra></extra>",
         "hovertext": [
          "Big Sky Eau de Parfum Travel Spray"
         ],
         "legendgroup": "Big Sky Eau de Parfum Travel Spray",
         "marker": {
          "color": "#636efa",
          "opacity": 0.7,
          "symbol": "circle"
         },
         "mode": "markers",
         "name": "Big Sky Eau de Parfum Travel Spray",
         "orientation": "v",
         "showlegend": true,
         "type": "scatter",
         "x": [
          "ABBOTT"
         ],
         "xaxis": "x",
         "y": [
          28
         ],
         "yaxis": "y"
        },
        {
         "hovertemplate": "<b>%{hovertext}</b><br><br>product_name=Big Sky Eau de Parfum<br>Brand=%{x}<br>Price (USD)=%{y}<extra></extra>",
         "hovertext": [
          "Big Sky Eau de Parfum"
         ],
         "legendgroup": "Big Sky Eau de Parfum",
         "marker": {
          "color": "#EF553B",
          "opacity": 0.7,
          "symbol": "circle"
         },
         "mode": "markers",
         "name": "Big Sky Eau de Parfum",
         "orientation": "v",
         "showlegend": true,
         "type": "scatter",
         "x": [
          "ABBOTT"
         ],
         "xaxis": "x",
         "y": [
          84
         ],
         "yaxis": "y"
        },
        {
         "hovertemplate": "<b>%{hovertext}</b><br><br>product_name=Montecito Perfume Travel Spray<br>Brand=%{x}<br>Price (USD)=%{y}<extra></extra>",
         "hovertext": [
          "Montecito Perfume Travel Spray"
         ],
         "legendgroup": "Montecito Perfume Travel Spray",
         "marker": {
          "color": "#00cc96",
          "opacity": 0.7,
          "symbol": "circle"
         },
         "mode": "markers",
         "name": "Montecito Perfume Travel Spray",
         "orientation": "v",
         "showlegend": true,
         "type": "scatter",
         "x": [
          "ABBOTT"
         ],
         "xaxis": "x",
         "y": [
          29
         ],
         "yaxis": "y"
        },
        {
         "hovertemplate": "<b>%{hovertext}</b><br><br>product_name=Montecito Perfume<br>Brand=%{x}<br>Price (USD)=%{y}<extra></extra>",
         "hovertext": [
          "Montecito Perfume"
         ],
         "legendgroup": "Montecito Perfume",
         "marker": {
          "color": "#ab63fa",
          "opacity": 0.7,
          "symbol": "circle"
         },
         "mode": "markers",
         "name": "Montecito Perfume",
         "orientation": "v",
         "showlegend": true,
         "type": "scatter",
         "x": [
          "ABBOTT"
         ],
         "xaxis": "x",
         "y": [
          84
         ],
         "yaxis": "y"
        },
        {
         "hovertemplate": "<b>%{hovertext}</b><br><br>product_name=Mojave Perfume<br>Brand=%{x}<br>Price (USD)=%{y}<extra></extra>",
         "hovertext": [
          "Mojave Perfume"
         ],
         "legendgroup": "Mojave Perfume",
         "marker": {
          "color": "#FFA15A",
          "opacity": 0.7,
          "symbol": "circle"
         },
         "mode": "markers",
         "name": "Mojave Perfume",
         "orientation": "v",
         "showlegend": true,
         "type": "scatter",
         "x": [
          "ABBOTT"
         ],
         "xaxis": "x",
         "y": [
          84
         ],
         "yaxis": "y"
        },
        {
         "hovertemplate": "<b>%{hovertext}</b><br><br>product_name=Mirto di Panarea<br>Brand=%{x}<br>Price (USD)=%{y}<extra></extra>",
         "hovertext": [
          "Mirto di Panarea"
         ],
         "legendgroup": "Mirto di Panarea",
         "marker": {
          "color": "#19d3f3",
          "opacity": 0.7,
          "symbol": "circle"
         },
         "mode": "markers",
         "name": "Mirto di Panarea",
         "orientation": "v",
         "showlegend": true,
         "type": "scatter",
         "x": [
          "Acqua di Parma"
         ],
         "xaxis": "x",
         "y": [
          84
         ],
         "yaxis": "y"
        },
        {
         "hovertemplate": "<b>%{hovertext}</b><br><br>product_name=Arancia di Capri<br>Brand=%{x}<br>Price (USD)=%{y}<extra></extra>",
         "hovertext": [
          "Arancia di Capri"
         ],
         "legendgroup": "Arancia di Capri",
         "marker": {
          "color": "#FF6692",
          "opacity": 0.7,
          "symbol": "circle"
         },
         "mode": "markers",
         "name": "Arancia di Capri",
         "orientation": "v",
         "showlegend": true,
         "type": "scatter",
         "x": [
          "Acqua di Parma"
         ],
         "xaxis": "x",
         "y": [
          84
         ],
         "yaxis": "y"
        },
        {
         "hovertemplate": "<b>%{hovertext}</b><br><br>product_name=Colonia<br>Brand=%{x}<br>Price (USD)=%{y}<extra></extra>",
         "hovertext": [
          "Colonia"
         ],
         "legendgroup": "Colonia",
         "marker": {
          "color": "#B6E880",
          "opacity": 0.7,
          "symbol": "circle"
         },
         "mode": "markers",
         "name": "Colonia",
         "orientation": "v",
         "showlegend": true,
         "type": "scatter",
         "x": [
          "Acqua di Parma"
         ],
         "xaxis": "x",
         "y": [
          181
         ],
         "yaxis": "y"
        },
        {
         "hovertemplate": "<b>%{hovertext}</b><br><br>product_name=Mediterranean Honeysuckle<br>Brand=%{x}<br>Price (USD)=%{y}<extra></extra>",
         "hovertext": [
          "Mediterranean Honeysuckle"
         ],
         "legendgroup": "Mediterranean Honeysuckle",
         "marker": {
          "color": "#FF97FF",
          "opacity": 0.7,
          "symbol": "circle"
         },
         "mode": "markers",
         "name": "Mediterranean Honeysuckle",
         "orientation": "v",
         "showlegend": true,
         "type": "scatter",
         "x": [
          "AERIN"
         ],
         "xaxis": "x",
         "y": [
          145
         ],
         "yaxis": "y"
        },
        {
         "hovertemplate": "<b>%{hovertext}</b><br><br>product_name=Mediterranean Honeysuckle Eau de Parfum Travel Spray<br>Brand=%{x}<br>Price (USD)=%{y}<extra></extra>",
         "hovertext": [
          "Mediterranean Honeysuckle Eau de Parfum Travel Spray"
         ],
         "legendgroup": "Mediterranean Honeysuckle Eau de Parfum Travel Spray",
         "marker": {
          "color": "#FECB52",
          "opacity": 0.7,
          "symbol": "circle"
         },
         "mode": "markers",
         "name": "Mediterranean Honeysuckle Eau de Parfum Travel Spray",
         "orientation": "v",
         "showlegend": true,
         "type": "scatter",
         "x": [
          "AERIN"
         ],
         "xaxis": "x",
         "y": [
          35
         ],
         "yaxis": "y"
        },
        {
         "hovertemplate": "<b>%{hovertext}</b><br><br>product_name=Amber Musk<br>Brand=%{x}<br>Price (USD)=%{y}<extra></extra>",
         "hovertext": [
          "Amber Musk"
         ],
         "legendgroup": "Amber Musk",
         "marker": {
          "color": "#636efa",
          "opacity": 0.7,
          "symbol": "circle"
         },
         "mode": "markers",
         "name": "Amber Musk",
         "orientation": "v",
         "showlegend": true,
         "type": "scatter",
         "x": [
          "AERIN"
         ],
         "xaxis": "x",
         "y": [
          145
         ],
         "yaxis": "y"
        },
        {
         "hovertemplate": "<b>%{hovertext}</b><br><br>product_name=Hibiscus Palm Eau de Parfum<br>Brand=%{x}<br>Price (USD)=%{y}<extra></extra>",
         "hovertext": [
          "Hibiscus Palm Eau de Parfum"
         ],
         "legendgroup": "Hibiscus Palm Eau de Parfum",
         "marker": {
          "color": "#EF553B",
          "opacity": 0.7,
          "symbol": "circle"
         },
         "mode": "markers",
         "name": "Hibiscus Palm Eau de Parfum",
         "orientation": "v",
         "showlegend": true,
         "type": "scatter",
         "x": [
          "AERIN"
         ],
         "xaxis": "x",
         "y": [
          145
         ],
         "yaxis": "y"
        },
        {
         "hovertemplate": "<b>%{hovertext}</b><br><br>product_name=Ikat Jasmine<br>Brand=%{x}<br>Price (USD)=%{y}<extra></extra>",
         "hovertext": [
          "Ikat Jasmine"
         ],
         "legendgroup": "Ikat Jasmine",
         "marker": {
          "color": "#00cc96",
          "opacity": 0.7,
          "symbol": "circle"
         },
         "mode": "markers",
         "name": "Ikat Jasmine",
         "orientation": "v",
         "showlegend": true,
         "type": "scatter",
         "x": [
          "AERIN"
         ],
         "xaxis": "x",
         "y": [
          200
         ],
         "yaxis": "y"
        },
        {
         "hovertemplate": "<b>%{hovertext}</b><br><br>product_name=Lilac Path<br>Brand=%{x}<br>Price (USD)=%{y}<extra></extra>",
         "hovertext": [
          "Lilac Path"
         ],
         "legendgroup": "Lilac Path",
         "marker": {
          "color": "#ab63fa",
          "opacity": 0.7,
          "symbol": "circle"
         },
         "mode": "markers",
         "name": "Lilac Path",
         "orientation": "v",
         "showlegend": true,
         "type": "scatter",
         "x": [
          "AERIN"
         ],
         "xaxis": "x",
         "y": [
          145
         ],
         "yaxis": "y"
        },
        {
         "hovertemplate": "<b>%{hovertext}</b><br><br>product_name=Waterlily Sun<br>Brand=%{x}<br>Price (USD)=%{y}<extra></extra>",
         "hovertext": [
          "Waterlily Sun"
         ],
         "legendgroup": "Waterlily Sun",
         "marker": {
          "color": "#FFA15A",
          "opacity": 0.7,
          "symbol": "circle"
         },
         "mode": "markers",
         "name": "Waterlily Sun",
         "orientation": "v",
         "showlegend": true,
         "type": "scatter",
         "x": [
          "AERIN"
         ],
         "xaxis": "x",
         "y": [
          145
         ],
         "yaxis": "y"
        },
        {
         "hovertemplate": "<b>%{hovertext}</b><br><br>product_name=Rose De Grasse<br>Brand=%{x}<br>Price (USD)=%{y}<extra></extra>",
         "hovertext": [
          "Rose De Grasse"
         ],
         "legendgroup": "Rose De Grasse",
         "marker": {
          "color": "#19d3f3",
          "opacity": 0.7,
          "symbol": "circle"
         },
         "mode": "markers",
         "name": "Rose De Grasse",
         "orientation": "v",
         "showlegend": true,
         "type": "scatter",
         "x": [
          "AERIN"
         ],
         "xaxis": "x",
         "y": [
          260
         ],
         "yaxis": "y"
        },
        {
         "hovertemplate": "<b>%{hovertext}</b><br><br>product_name=Ikat Jasmine Travel Spray<br>Brand=%{x}<br>Price (USD)=%{y}<extra></extra>",
         "hovertext": [
          "Ikat Jasmine Travel Spray"
         ],
         "legendgroup": "Ikat Jasmine Travel Spray",
         "marker": {
          "color": "#FF6692",
          "opacity": 0.7,
          "symbol": "circle"
         },
         "mode": "markers",
         "name": "Ikat Jasmine Travel Spray",
         "orientation": "v",
         "showlegend": true,
         "type": "scatter",
         "x": [
          "AERIN"
         ],
         "xaxis": "x",
         "y": [
          35
         ],
         "yaxis": "y"
        },
        {
         "hovertemplate": "<b>%{hovertext}</b><br><br>product_name=Wild Geranium Travel Spray<br>Brand=%{x}<br>Price (USD)=%{y}<extra></extra>",
         "hovertext": [
          "Wild Geranium Travel Spray"
         ],
         "legendgroup": "Wild Geranium Travel Spray",
         "marker": {
          "color": "#B6E880",
          "opacity": 0.7,
          "symbol": "circle"
         },
         "mode": "markers",
         "name": "Wild Geranium Travel Spray",
         "orientation": "v",
         "showlegend": true,
         "type": "scatter",
         "x": [
          "AERIN"
         ],
         "xaxis": "x",
         "y": [
          35
         ],
         "yaxis": "y"
        },
        {
         "hovertemplate": "<b>%{hovertext}</b><br><br>product_name=Hibiscus Palm Eau de Parfum Travel Spray<br>Brand=%{x}<br>Price (USD)=%{y}<extra></extra>",
         "hovertext": [
          "Hibiscus Palm Eau de Parfum Travel Spray"
         ],
         "legendgroup": "Hibiscus Palm Eau de Parfum Travel Spray",
         "marker": {
          "color": "#FF97FF",
          "opacity": 0.7,
          "symbol": "circle"
         },
         "mode": "markers",
         "name": "Hibiscus Palm Eau de Parfum Travel Spray",
         "orientation": "v",
         "showlegend": true,
         "type": "scatter",
         "x": [
          "AERIN"
         ],
         "xaxis": "x",
         "y": [
          35
         ],
         "yaxis": "y"
        },
        {
         "hovertemplate": "<b>%{hovertext}</b><br><br>product_name=Mediterranean Honeysuckle Mimosa Eau de Parfum<br>Brand=%{x}<br>Price (USD)=%{y}<extra></extra>",
         "hovertext": [
          "Mediterranean Honeysuckle Mimosa Eau de Parfum"
         ],
         "legendgroup": "Mediterranean Honeysuckle Mimosa Eau de Parfum",
         "marker": {
          "color": "#FECB52",
          "opacity": 0.7,
          "symbol": "circle"
         },
         "mode": "markers",
         "name": "Mediterranean Honeysuckle Mimosa Eau de Parfum",
         "orientation": "v",
         "showlegend": true,
         "type": "scatter",
         "x": [
          "AERIN"
         ],
         "xaxis": "x",
         "y": [
          135
         ],
         "yaxis": "y"
        },
        {
         "hovertemplate": "<b>%{hovertext}</b><br><br>product_name=Wild Geranium<br>Brand=%{x}<br>Price (USD)=%{y}<extra></extra>",
         "hovertext": [
          "Wild Geranium"
         ],
         "legendgroup": "Wild Geranium",
         "marker": {
          "color": "#636efa",
          "opacity": 0.7,
          "symbol": "circle"
         },
         "mode": "markers",
         "name": "Wild Geranium",
         "orientation": "v",
         "showlegend": true,
         "type": "scatter",
         "x": [
          "AERIN"
         ],
         "xaxis": "x",
         "y": [
          145
         ],
         "yaxis": "y"
        },
        {
         "hovertemplate": "<b>%{hovertext}</b><br><br>product_name=My Way Eau de Parfum<br>Brand=%{x}<br>Price (USD)=%{y}<extra></extra>",
         "hovertext": [
          "My Way Eau de Parfum"
         ],
         "legendgroup": "My Way Eau de Parfum",
         "marker": {
          "color": "#EF553B",
          "opacity": 0.7,
          "symbol": "circle"
         },
         "mode": "markers",
         "name": "My Way Eau de Parfum",
         "orientation": "v",
         "showlegend": true,
         "type": "scatter",
         "x": [
          "Armani Beauty"
         ],
         "xaxis": "x",
         "y": [
          155
         ],
         "yaxis": "y"
        },
        {
         "hovertemplate": "<b>%{hovertext}</b><br><br>product_name=My Way Eau de Parfum Travel Spray<br>Brand=%{x}<br>Price (USD)=%{y}<extra></extra>",
         "hovertext": [
          "My Way Eau de Parfum Travel Spray"
         ],
         "legendgroup": "My Way Eau de Parfum Travel Spray",
         "marker": {
          "color": "#00cc96",
          "opacity": 0.7,
          "symbol": "circle"
         },
         "mode": "markers",
         "name": "My Way Eau de Parfum Travel Spray",
         "orientation": "v",
         "showlegend": true,
         "type": "scatter",
         "x": [
          "Armani Beauty"
         ],
         "xaxis": "x",
         "y": [
          34
         ],
         "yaxis": "y"
        },
        {
         "hovertemplate": "<b>%{hovertext}</b><br><br>product_name=My Way Floral Eau de Parfum Travel Spray<br>Brand=%{x}<br>Price (USD)=%{y}<extra></extra>",
         "hovertext": [
          "My Way Floral Eau de Parfum Travel Spray"
         ],
         "legendgroup": "My Way Floral Eau de Parfum Travel Spray",
         "marker": {
          "color": "#ab63fa",
          "opacity": 0.7,
          "symbol": "circle"
         },
         "mode": "markers",
         "name": "My Way Floral Eau de Parfum Travel Spray",
         "orientation": "v",
         "showlegend": true,
         "type": "scatter",
         "x": [
          "Armani Beauty"
         ],
         "xaxis": "x",
         "y": [
          34
         ],
         "yaxis": "y"
        },
        {
         "hovertemplate": "<b>%{hovertext}</b><br><br>product_name=My Way Floral Eau de Parfum<br>Brand=%{x}<br>Price (USD)=%{y}<extra></extra>",
         "hovertext": [
          "My Way Floral Eau de Parfum"
         ],
         "legendgroup": "My Way Floral Eau de Parfum",
         "marker": {
          "color": "#FFA15A",
          "opacity": 0.7,
          "symbol": "circle"
         },
         "mode": "markers",
         "name": "My Way Floral Eau de Parfum",
         "orientation": "v",
         "showlegend": true,
         "type": "scatter",
         "x": [
          "Armani Beauty"
         ],
         "xaxis": "x",
         "y": [
          120
         ],
         "yaxis": "y"
        },
        {
         "hovertemplate": "<b>%{hovertext}</b><br><br>product_name=Acqua di Gio Eau de Parfum<br>Brand=%{x}<br>Price (USD)=%{y}<extra></extra>",
         "hovertext": [
          "Acqua di Gio Eau de Parfum"
         ],
         "legendgroup": "Acqua di Gio Eau de Parfum",
         "marker": {
          "color": "#19d3f3",
          "opacity": 0.7,
          "symbol": "circle"
         },
         "mode": "markers",
         "name": "Acqua di Gio Eau de Parfum",
         "orientation": "v",
         "showlegend": true,
         "type": "scatter",
         "x": [
          "Armani Beauty"
         ],
         "xaxis": "x",
         "y": [
          160
         ],
         "yaxis": "y"
        },
        {
         "hovertemplate": "<b>%{hovertext}</b><br><br>product_name=Armani Code Parfum<br>Brand=%{x}<br>Price (USD)=%{y}<extra></extra>",
         "hovertext": [
          "Armani Code Parfum"
         ],
         "legendgroup": "Armani Code Parfum",
         "marker": {
          "color": "#FF6692",
          "opacity": 0.7,
          "symbol": "circle"
         },
         "mode": "markers",
         "name": "Armani Code Parfum",
         "orientation": "v",
         "showlegend": true,
         "type": "scatter",
         "x": [
          "Armani Beauty"
         ],
         "xaxis": "x",
         "y": [
          144
         ],
         "yaxis": "y"
        },
        {
         "hovertemplate": "<b>%{hovertext}</b><br><br>product_name=My Way Parfum<br>Brand=%{x}<br>Price (USD)=%{y}<extra></extra>",
         "hovertext": [
          "My Way Parfum"
         ],
         "legendgroup": "My Way Parfum",
         "marker": {
          "color": "#B6E880",
          "opacity": 0.7,
          "symbol": "circle"
         },
         "mode": "markers",
         "name": "My Way Parfum",
         "orientation": "v",
         "showlegend": true,
         "type": "scatter",
         "x": [
          "Armani Beauty"
         ],
         "xaxis": "x",
         "y": [
          186
         ],
         "yaxis": "y"
        },
        {
         "hovertemplate": "<b>%{hovertext}</b><br><br>product_name=Armani Code Eau de Toilette<br>Brand=%{x}<br>Price (USD)=%{y}<extra></extra>",
         "hovertext": [
          "Armani Code Eau de Toilette"
         ],
         "legendgroup": "Armani Code Eau de Toilette",
         "marker": {
          "color": "#FF97FF",
          "opacity": 0.7,
          "symbol": "circle"
         },
         "mode": "markers",
         "name": "Armani Code Eau de Toilette",
         "orientation": "v",
         "showlegend": true,
         "type": "scatter",
         "x": [
          "Armani Beauty"
         ],
         "xaxis": "x",
         "y": [
          99
         ],
         "yaxis": "y"
        },
        {
         "hovertemplate": "<b>%{hovertext}</b><br><br>product_name=Clémentine California Pure Perfume<br>Brand=%{x}<br>Price (USD)=%{y}<extra></extra>",
         "hovertext": [
          "Clémentine California Pure Perfume"
         ],
         "legendgroup": "Clémentine California Pure Perfume",
         "marker": {
          "color": "#FECB52",
          "opacity": 0.7,
          "symbol": "circle"
         },
         "mode": "markers",
         "name": "Clémentine California Pure Perfume",
         "orientation": "v",
         "showlegend": true,
         "type": "scatter",
         "x": [
          "Atelier Cologne"
         ],
         "xaxis": "x",
         "y": [
          142
         ],
         "yaxis": "y"
        },
        {
         "hovertemplate": "<b>%{hovertext}</b><br><br>product_name=203 Raspberry, Vanilla and Blackberry Eau de Parfum Travel Spray<br>Brand=%{x}<br>Price (USD)=%{y}<extra></extra>",
         "hovertext": [
          "203 Raspberry, Vanilla and Blackberry Eau de Parfum Travel Spray"
         ],
         "legendgroup": "203 Raspberry, Vanilla and Blackberry Eau de Parfum Travel Spray",
         "marker": {
          "color": "#636efa",
          "opacity": 0.7,
          "symbol": "circle"
         },
         "mode": "markers",
         "name": "203 Raspberry, Vanilla and Blackberry Eau de Parfum Travel Spray",
         "orientation": "v",
         "showlegend": true,
         "type": "scatter",
         "x": [
          "Bon Parfumeur"
         ],
         "xaxis": "x",
         "y": [
          34
         ],
         "yaxis": "y"
        },
        {
         "hovertemplate": "<b>%{hovertext}</b><br><br>product_name=103 Tiare Flower, Jasmine and Hibiscus Eau de Parfum<br>Brand=%{x}<br>Price (USD)=%{y}<extra></extra>",
         "hovertext": [
          "103 Tiare Flower, Jasmine and Hibiscus Eau de Parfum"
         ],
         "legendgroup": "103 Tiare Flower, Jasmine and Hibiscus Eau de Parfum",
         "marker": {
          "color": "#EF553B",
          "opacity": 0.7,
          "symbol": "circle"
         },
         "mode": "markers",
         "name": "103 Tiare Flower, Jasmine and Hibiscus Eau de Parfum",
         "orientation": "v",
         "showlegend": true,
         "type": "scatter",
         "x": [
          "Bon Parfumeur"
         ],
         "xaxis": "x",
         "y": [
          107
         ],
         "yaxis": "y"
        },
        {
         "hovertemplate": "<b>%{hovertext}</b><br><br>product_name=203 Raspberry, Vanilla and Blackberry Eau de Parfum<br>Brand=%{x}<br>Price (USD)=%{y}<extra></extra>",
         "hovertext": [
          "203 Raspberry, Vanilla and Blackberry Eau de Parfum"
         ],
         "legendgroup": "203 Raspberry, Vanilla and Blackberry Eau de Parfum",
         "marker": {
          "color": "#00cc96",
          "opacity": 0.7,
          "symbol": "circle"
         },
         "mode": "markers",
         "name": "203 Raspberry, Vanilla and Blackberry Eau de Parfum",
         "orientation": "v",
         "showlegend": true,
         "type": "scatter",
         "x": [
          "Bon Parfumeur"
         ],
         "xaxis": "x",
         "y": [
          107
         ],
         "yaxis": "y"
        },
        {
         "hovertemplate": "<b>%{hovertext}</b><br><br>product_name=103 Tiare Flower, Jasmine and Hibiscus Eau de Parfum Travel Spray<br>Brand=%{x}<br>Price (USD)=%{y}<extra></extra>",
         "hovertext": [
          "103 Tiare Flower, Jasmine and Hibiscus Eau de Parfum Travel Spray"
         ],
         "legendgroup": "103 Tiare Flower, Jasmine and Hibiscus Eau de Parfum Travel Spray",
         "marker": {
          "color": "#ab63fa",
          "opacity": 0.7,
          "symbol": "circle"
         },
         "mode": "markers",
         "name": "103 Tiare Flower, Jasmine and Hibiscus Eau de Parfum Travel Spray",
         "orientation": "v",
         "showlegend": true,
         "type": "scatter",
         "x": [
          "Bon Parfumeur"
         ],
         "xaxis": "x",
         "y": [
          34
         ],
         "yaxis": "y"
        },
        {
         "hovertemplate": "<b>%{hovertext}</b><br><br>product_name=202 Watermelon, Red Currant and Jasmine Eau de Parfum Travel Spray<br>Brand=%{x}<br>Price (USD)=%{y}<extra></extra>",
         "hovertext": [
          "202 Watermelon, Red Currant and Jasmine Eau de Parfum Travel Spray"
         ],
         "legendgroup": "202 Watermelon, Red Currant and Jasmine Eau de Parfum Travel Spray",
         "marker": {
          "color": "#FFA15A",
          "opacity": 0.7,
          "symbol": "circle"
         },
         "mode": "markers",
         "name": "202 Watermelon, Red Currant and Jasmine Eau de Parfum Travel Spray",
         "orientation": "v",
         "showlegend": true,
         "type": "scatter",
         "x": [
          "Bon Parfumeur"
         ],
         "xaxis": "x",
         "y": [
          34
         ],
         "yaxis": "y"
        },
        {
         "hovertemplate": "<b>%{hovertext}</b><br><br>product_name=002 Neroli, Jasmine and White Amber Eau de Parfum Travel Spray<br>Brand=%{x}<br>Price (USD)=%{y}<extra></extra>",
         "hovertext": [
          "002 Neroli, Jasmine and White Amber Eau de Parfum Travel Spray"
         ],
         "legendgroup": "002 Neroli, Jasmine and White Amber Eau de Parfum Travel Spray",
         "marker": {
          "color": "#19d3f3",
          "opacity": 0.7,
          "symbol": "circle"
         },
         "mode": "markers",
         "name": "002 Neroli, Jasmine and White Amber Eau de Parfum Travel Spray",
         "orientation": "v",
         "showlegend": true,
         "type": "scatter",
         "x": [
          "Bon Parfumeur"
         ],
         "xaxis": "x",
         "y": [
          34
         ],
         "yaxis": "y"
        },
        {
         "hovertemplate": "<b>%{hovertext}</b><br><br>product_name=202 Watermelon, Red Currant and Jasmine Eau de Parfum<br>Brand=%{x}<br>Price (USD)=%{y}<extra></extra>",
         "hovertext": [
          "202 Watermelon, Red Currant and Jasmine Eau de Parfum"
         ],
         "legendgroup": "202 Watermelon, Red Currant and Jasmine Eau de Parfum",
         "marker": {
          "color": "#FF6692",
          "opacity": 0.7,
          "symbol": "circle"
         },
         "mode": "markers",
         "name": "202 Watermelon, Red Currant and Jasmine Eau de Parfum",
         "orientation": "v",
         "showlegend": true,
         "type": "scatter",
         "x": [
          "Bon Parfumeur"
         ],
         "xaxis": "x",
         "y": [
          107
         ],
         "yaxis": "y"
        },
        {
         "hovertemplate": "<b>%{hovertext}</b><br><br>product_name=001 Orange Blossom, Petitgrain and Bergamot Eau de Parfum Travel Spray<br>Brand=%{x}<br>Price (USD)=%{y}<extra></extra>",
         "hovertext": [
          "001 Orange Blossom, Petitgrain and Bergamot Eau de Parfum Travel Spray"
         ],
         "legendgroup": "001 Orange Blossom, Petitgrain and Bergamot Eau de Parfum Travel Spray",
         "marker": {
          "color": "#B6E880",
          "opacity": 0.7,
          "symbol": "circle"
         },
         "mode": "markers",
         "name": "001 Orange Blossom, Petitgrain and Bergamot Eau de Parfum Travel Spray",
         "orientation": "v",
         "showlegend": true,
         "type": "scatter",
         "x": [
          "Bon Parfumeur"
         ],
         "xaxis": "x",
         "y": [
          34
         ],
         "yaxis": "y"
        },
        {
         "hovertemplate": "<b>%{hovertext}</b><br><br>product_name=002 Neroli, Jasmine and White Amber Eau de Parfum<br>Brand=%{x}<br>Price (USD)=%{y}<extra></extra>",
         "hovertext": [
          "002 Neroli, Jasmine and White Amber Eau de Parfum"
         ],
         "legendgroup": "002 Neroli, Jasmine and White Amber Eau de Parfum",
         "marker": {
          "color": "#FF97FF",
          "opacity": 0.7,
          "symbol": "circle"
         },
         "mode": "markers",
         "name": "002 Neroli, Jasmine and White Amber Eau de Parfum",
         "orientation": "v",
         "showlegend": true,
         "type": "scatter",
         "x": [
          "Bon Parfumeur"
         ],
         "xaxis": "x",
         "y": [
          107
         ],
         "yaxis": "y"
        },
        {
         "hovertemplate": "<b>%{hovertext}</b><br><br>product_name=802 Peony, Lotus and Bamboo Eau de Parfum Travel Spray<br>Brand=%{x}<br>Price (USD)=%{y}<extra></extra>",
         "hovertext": [
          "802 Peony, Lotus and Bamboo Eau de Parfum Travel Spray"
         ],
         "legendgroup": "802 Peony, Lotus and Bamboo Eau de Parfum Travel Spray",
         "marker": {
          "color": "#FECB52",
          "opacity": 0.7,
          "symbol": "circle"
         },
         "mode": "markers",
         "name": "802 Peony, Lotus and Bamboo Eau de Parfum Travel Spray",
         "orientation": "v",
         "showlegend": true,
         "type": "scatter",
         "x": [
          "Bon Parfumeur"
         ],
         "xaxis": "x",
         "y": [
          53
         ],
         "yaxis": "y"
        },
        {
         "hovertemplate": "<b>%{hovertext}</b><br><br>product_name=801 Sea Spray, Cedar and Grapefruit Eau de Parfum Travel Spray<br>Brand=%{x}<br>Price (USD)=%{y}<extra></extra>",
         "hovertext": [
          "801 Sea Spray, Cedar and Grapefruit Eau de Parfum Travel Spray"
         ],
         "legendgroup": "801 Sea Spray, Cedar and Grapefruit Eau de Parfum Travel Spray",
         "marker": {
          "color": "#636efa",
          "opacity": 0.7,
          "symbol": "circle"
         },
         "mode": "markers",
         "name": "801 Sea Spray, Cedar and Grapefruit Eau de Parfum Travel Spray",
         "orientation": "v",
         "showlegend": true,
         "type": "scatter",
         "x": [
          "Bon Parfumeur"
         ],
         "xaxis": "x",
         "y": [
          34
         ],
         "yaxis": "y"
        },
        {
         "hovertemplate": "<b>%{hovertext}</b><br><br>product_name=001 Orange Blossom, Petitgrain and Bergamot Eau de Parfum<br>Brand=%{x}<br>Price (USD)=%{y}<extra></extra>",
         "hovertext": [
          "001 Orange Blossom, Petitgrain and Bergamot Eau de Parfum"
         ],
         "legendgroup": "001 Orange Blossom, Petitgrain and Bergamot Eau de Parfum",
         "marker": {
          "color": "#EF553B",
          "opacity": 0.7,
          "symbol": "circle"
         },
         "mode": "markers",
         "name": "001 Orange Blossom, Petitgrain and Bergamot Eau de Parfum",
         "orientation": "v",
         "showlegend": true,
         "type": "scatter",
         "x": [
          "Bon Parfumeur"
         ],
         "xaxis": "x",
         "y": [
          107
         ],
         "yaxis": "y"
        },
        {
         "hovertemplate": "<b>%{hovertext}</b><br><br>product_name=802 Peony, Lotus and Bamboo Eau de Parfum<br>Brand=%{x}<br>Price (USD)=%{y}<extra></extra>",
         "hovertext": [
          "802 Peony, Lotus and Bamboo Eau de Parfum"
         ],
         "legendgroup": "802 Peony, Lotus and Bamboo Eau de Parfum",
         "marker": {
          "color": "#00cc96",
          "opacity": 0.7,
          "symbol": "circle"
         },
         "mode": "markers",
         "name": "802 Peony, Lotus and Bamboo Eau de Parfum",
         "orientation": "v",
         "showlegend": true,
         "type": "scatter",
         "x": [
          "Bon Parfumeur"
         ],
         "xaxis": "x",
         "y": [
          107
         ],
         "yaxis": "y"
        },
        {
         "hovertemplate": "<b>%{hovertext}</b><br><br>product_name=501 Praline, Licorice and Patchouli Eau de Parfum Travel Spray<br>Brand=%{x}<br>Price (USD)=%{y}<extra></extra>",
         "hovertext": [
          "501 Praline, Licorice and Patchouli Eau de Parfum Travel Spray"
         ],
         "legendgroup": "501 Praline, Licorice and Patchouli Eau de Parfum Travel Spray",
         "marker": {
          "color": "#ab63fa",
          "opacity": 0.7,
          "symbol": "circle"
         },
         "mode": "markers",
         "name": "501 Praline, Licorice and Patchouli Eau de Parfum Travel Spray",
         "orientation": "v",
         "showlegend": true,
         "type": "scatter",
         "x": [
          "Bon Parfumeur"
         ],
         "xaxis": "x",
         "y": [
          34
         ],
         "yaxis": "y"
        },
        {
         "hovertemplate": "<b>%{hovertext}</b><br><br>product_name=501 Praline, Licorice and Patchouli Eau de Parfum<br>Brand=%{x}<br>Price (USD)=%{y}<extra></extra>",
         "hovertext": [
          "501 Praline, Licorice and Patchouli Eau de Parfum"
         ],
         "legendgroup": "501 Praline, Licorice and Patchouli Eau de Parfum",
         "marker": {
          "color": "#FFA15A",
          "opacity": 0.7,
          "symbol": "circle"
         },
         "mode": "markers",
         "name": "501 Praline, Licorice and Patchouli Eau de Parfum",
         "orientation": "v",
         "showlegend": true,
         "type": "scatter",
         "x": [
          "Bon Parfumeur"
         ],
         "xaxis": "x",
         "y": [
          107
         ],
         "yaxis": "y"
        },
        {
         "hovertemplate": "<b>%{hovertext}</b><br><br>product_name=801 Sea Spray, Cedar and Grapefruit Eau de Parfum<br>Brand=%{x}<br>Price (USD)=%{y}<extra></extra>",
         "hovertext": [
          "801 Sea Spray, Cedar and Grapefruit Eau de Parfum"
         ],
         "legendgroup": "801 Sea Spray, Cedar and Grapefruit Eau de Parfum",
         "marker": {
          "color": "#19d3f3",
          "opacity": 0.7,
          "symbol": "circle"
         },
         "mode": "markers",
         "name": "801 Sea Spray, Cedar and Grapefruit Eau de Parfum",
         "orientation": "v",
         "showlegend": true,
         "type": "scatter",
         "x": [
          "Bon Parfumeur"
         ],
         "xaxis": "x",
         "y": [
          107
         ],
         "yaxis": "y"
        },
        {
         "hovertemplate": "<b>%{hovertext}</b><br><br>product_name=Woodphoria Eau de Parfum Travel Spray<br>Brand=%{x}<br>Price (USD)=%{y}<extra></extra>",
         "hovertext": [
          "Woodphoria Eau de Parfum Travel Spray"
         ],
         "legendgroup": "Woodphoria Eau de Parfum Travel Spray",
         "marker": {
          "color": "#FF6692",
          "opacity": 0.7,
          "symbol": "circle"
         },
         "mode": "markers",
         "name": "Woodphoria Eau de Parfum Travel Spray",
         "orientation": "v",
         "showlegend": true,
         "type": "scatter",
         "x": [
          "Boy Smells"
         ],
         "xaxis": "x",
         "y": [
          30
         ],
         "yaxis": "y"
        },
        {
         "hovertemplate": "<b>%{hovertext}</b><br><br>product_name=LES Eau de Parfum Travel Spray<br>Brand=%{x}<br>Price (USD)=%{y}<extra></extra>",
         "hovertext": [
          "LES Eau de Parfum Travel Spray"
         ],
         "legendgroup": "LES Eau de Parfum Travel Spray",
         "marker": {
          "color": "#B6E880",
          "opacity": 0.7,
          "symbol": "circle"
         },
         "mode": "markers",
         "name": "LES Eau de Parfum Travel Spray",
         "orientation": "v",
         "showlegend": true,
         "type": "scatter",
         "x": [
          "Boy Smells"
         ],
         "xaxis": "x",
         "y": [
          30
         ],
         "yaxis": "y"
        },
        {
         "hovertemplate": "<b>%{hovertext}</b><br><br>product_name=LES Eau de Parfum<br>Brand=%{x}<br>Price (USD)=%{y}<extra></extra>",
         "hovertext": [
          "LES Eau de Parfum"
         ],
         "legendgroup": "LES Eau de Parfum",
         "marker": {
          "color": "#FF97FF",
          "opacity": 0.7,
          "symbol": "circle"
         },
         "mode": "markers",
         "name": "LES Eau de Parfum",
         "orientation": "v",
         "showlegend": true,
         "type": "scatter",
         "x": [
          "Boy Smells"
         ],
         "xaxis": "x",
         "y": [
          98
         ],
         "yaxis": "y"
        },
        {
         "hovertemplate": "<b>%{hovertext}</b><br><br>product_name=Woodphoria Eau de Parfum<br>Brand=%{x}<br>Price (USD)=%{y}<extra></extra>",
         "hovertext": [
          "Woodphoria Eau de Parfum"
         ],
         "legendgroup": "Woodphoria Eau de Parfum",
         "marker": {
          "color": "#FECB52",
          "opacity": 0.7,
          "symbol": "circle"
         },
         "mode": "markers",
         "name": "Woodphoria Eau de Parfum",
         "orientation": "v",
         "showlegend": true,
         "type": "scatter",
         "x": [
          "Boy Smells"
         ],
         "xaxis": "x",
         "y": [
          98
         ],
         "yaxis": "y"
        },
        {
         "hovertemplate": "<b>%{hovertext}</b><br><br>product_name=Cashmere Kush Eau de Parfum Travel Spray<br>Brand=%{x}<br>Price (USD)=%{y}<extra></extra>",
         "hovertext": [
          "Cashmere Kush Eau de Parfum Travel Spray"
         ],
         "legendgroup": "Cashmere Kush Eau de Parfum Travel Spray",
         "marker": {
          "color": "#636efa",
          "opacity": 0.7,
          "symbol": "circle"
         },
         "mode": "markers",
         "name": "Cashmere Kush Eau de Parfum Travel Spray",
         "orientation": "v",
         "showlegend": true,
         "type": "scatter",
         "x": [
          "Boy Smells"
         ],
         "xaxis": "x",
         "y": [
          30
         ],
         "yaxis": "y"
        },
        {
         "hovertemplate": "<b>%{hovertext}</b><br><br>product_name=Flor de la Virgen Eau de Parfum Travel Spray<br>Brand=%{x}<br>Price (USD)=%{y}<extra></extra>",
         "hovertext": [
          "Flor de la Virgen Eau de Parfum Travel Spray"
         ],
         "legendgroup": "Flor de la Virgen Eau de Parfum Travel Spray",
         "marker": {
          "color": "#EF553B",
          "opacity": 0.7,
          "symbol": "circle"
         },
         "mode": "markers",
         "name": "Flor de la Virgen Eau de Parfum Travel Spray",
         "orientation": "v",
         "showlegend": true,
         "type": "scatter",
         "x": [
          "Boy Smells"
         ],
         "xaxis": "x",
         "y": [
          30
         ],
         "yaxis": "y"
        },
        {
         "hovertemplate": "<b>%{hovertext}</b><br><br>product_name=Marble Fruit Eau de Parfum Travel Spray<br>Brand=%{x}<br>Price (USD)=%{y}<extra></extra>",
         "hovertext": [
          "Marble Fruit Eau de Parfum Travel Spray"
         ],
         "legendgroup": "Marble Fruit Eau de Parfum Travel Spray",
         "marker": {
          "color": "#00cc96",
          "opacity": 0.7,
          "symbol": "circle"
         },
         "mode": "markers",
         "name": "Marble Fruit Eau de Parfum Travel Spray",
         "orientation": "v",
         "showlegend": true,
         "type": "scatter",
         "x": [
          "Boy Smells"
         ],
         "xaxis": "x",
         "y": [
          30
         ],
         "yaxis": "y"
        },
        {
         "hovertemplate": "<b>%{hovertext}</b><br><br>product_name=Flor de la Virgen Eau de Parfum<br>Brand=%{x}<br>Price (USD)=%{y}<extra></extra>",
         "hovertext": [
          "Flor de la Virgen Eau de Parfum"
         ],
         "legendgroup": "Flor de la Virgen Eau de Parfum",
         "marker": {
          "color": "#ab63fa",
          "opacity": 0.7,
          "symbol": "circle"
         },
         "mode": "markers",
         "name": "Flor de la Virgen Eau de Parfum",
         "orientation": "v",
         "showlegend": true,
         "type": "scatter",
         "x": [
          "Boy Smells"
         ],
         "xaxis": "x",
         "y": [
          98
         ],
         "yaxis": "y"
        },
        {
         "hovertemplate": "<b>%{hovertext}</b><br><br>product_name=Marble Fruit Eau de Parfum<br>Brand=%{x}<br>Price (USD)=%{y}<extra></extra>",
         "hovertext": [
          "Marble Fruit Eau de Parfum"
         ],
         "legendgroup": "Marble Fruit Eau de Parfum",
         "marker": {
          "color": "#FFA15A",
          "opacity": 0.7,
          "symbol": "circle"
         },
         "mode": "markers",
         "name": "Marble Fruit Eau de Parfum",
         "orientation": "v",
         "showlegend": true,
         "type": "scatter",
         "x": [
          "Boy Smells"
         ],
         "xaxis": "x",
         "y": [
          98
         ],
         "yaxis": "y"
        },
        {
         "hovertemplate": "<b>%{hovertext}</b><br><br>product_name=Hinoki Fantôme Eau de Parfum Travel Spray<br>Brand=%{x}<br>Price (USD)=%{y}<extra></extra>",
         "hovertext": [
          "Hinoki Fantôme Eau de Parfum Travel Spray"
         ],
         "legendgroup": "Hinoki Fantôme Eau de Parfum Travel Spray",
         "marker": {
          "color": "#19d3f3",
          "opacity": 0.7,
          "symbol": "circle"
         },
         "mode": "markers",
         "name": "Hinoki Fantôme Eau de Parfum Travel Spray",
         "orientation": "v",
         "showlegend": true,
         "type": "scatter",
         "x": [
          "Boy Smells"
         ],
         "xaxis": "x",
         "y": [
          30
         ],
         "yaxis": "y"
        },
        {
         "hovertemplate": "<b>%{hovertext}</b><br><br>product_name=Cashmere Kush Eau de Parfum<br>Brand=%{x}<br>Price (USD)=%{y}<extra></extra>",
         "hovertext": [
          "Cashmere Kush Eau de Parfum"
         ],
         "legendgroup": "Cashmere Kush Eau de Parfum",
         "marker": {
          "color": "#FF6692",
          "opacity": 0.7,
          "symbol": "circle"
         },
         "mode": "markers",
         "name": "Cashmere Kush Eau de Parfum",
         "orientation": "v",
         "showlegend": true,
         "type": "scatter",
         "x": [
          "Boy Smells"
         ],
         "xaxis": "x",
         "y": [
          98
         ],
         "yaxis": "y"
        },
        {
         "hovertemplate": "<b>%{hovertext}</b><br><br>product_name=Hinoki Fantôme Eau de Parfum<br>Brand=%{x}<br>Price (USD)=%{y}<extra></extra>",
         "hovertext": [
          "Hinoki Fantôme Eau de Parfum"
         ],
         "legendgroup": "Hinoki Fantôme Eau de Parfum",
         "marker": {
          "color": "#B6E880",
          "opacity": 0.7,
          "symbol": "circle"
         },
         "mode": "markers",
         "name": "Hinoki Fantôme Eau de Parfum",
         "orientation": "v",
         "showlegend": true,
         "type": "scatter",
         "x": [
          "Boy Smells"
         ],
         "xaxis": "x",
         "y": [
          98
         ],
         "yaxis": "y"
        },
        {
         "hovertemplate": "<b>%{hovertext}</b><br><br>product_name=Her Eau de Parfum<br>Brand=%{x}<br>Price (USD)=%{y}<extra></extra>",
         "hovertext": [
          "Her Eau de Parfum"
         ],
         "legendgroup": "Her Eau de Parfum",
         "marker": {
          "color": "#FF97FF",
          "opacity": 0.7,
          "symbol": "circle"
         },
         "mode": "markers",
         "name": "Her Eau de Parfum",
         "orientation": "v",
         "showlegend": true,
         "type": "scatter",
         "x": [
          "BURBERRY"
         ],
         "xaxis": "x",
         "y": [
          123
         ],
         "yaxis": "y"
        },
        {
         "hovertemplate": "<b>%{hovertext}</b><br><br>product_name=My Burberry Blush<br>Brand=%{x}<br>Price (USD)=%{y}<extra></extra>",
         "hovertext": [
          "My Burberry Blush"
         ],
         "legendgroup": "My Burberry Blush",
         "marker": {
          "color": "#FECB52",
          "opacity": 0.7,
          "symbol": "circle"
         },
         "mode": "markers",
         "name": "My Burberry Blush",
         "orientation": "v",
         "showlegend": true,
         "type": "scatter",
         "x": [
          "BURBERRY"
         ],
         "xaxis": "x",
         "y": [
          95
         ],
         "yaxis": "y"
        },
        {
         "hovertemplate": "<b>%{hovertext}</b><br><br>product_name=Her Eau de Parfum Rollerball<br>Brand=%{x}<br>Price (USD)=%{y}<extra></extra>",
         "hovertext": [
          "Her Eau de Parfum Rollerball"
         ],
         "legendgroup": "Her Eau de Parfum Rollerball",
         "marker": {
          "color": "#636efa",
          "opacity": 0.7,
          "symbol": "circle"
         },
         "mode": "markers",
         "name": "Her Eau de Parfum Rollerball",
         "orientation": "v",
         "showlegend": true,
         "type": "scatter",
         "x": [
          "BURBERRY"
         ],
         "xaxis": "x",
         "y": [
          38
         ],
         "yaxis": "y"
        },
        {
         "hovertemplate": "<b>%{hovertext}</b><br><br>product_name=Her Elixir Eau de Parfum Intense<br>Brand=%{x}<br>Price (USD)=%{y}<extra></extra>",
         "hovertext": [
          "Her Elixir Eau de Parfum Intense"
         ],
         "legendgroup": "Her Elixir Eau de Parfum Intense",
         "marker": {
          "color": "#EF553B",
          "opacity": 0.7,
          "symbol": "circle"
         },
         "mode": "markers",
         "name": "Her Elixir Eau de Parfum Intense",
         "orientation": "v",
         "showlegend": true,
         "type": "scatter",
         "x": [
          "BURBERRY"
         ],
         "xaxis": "x",
         "y": [
          165
         ],
         "yaxis": "y"
        },
        {
         "hovertemplate": "<b>%{hovertext}</b><br><br>product_name=My Burberry Black<br>Brand=%{x}<br>Price (USD)=%{y}<extra></extra>",
         "hovertext": [
          "My Burberry Black"
         ],
         "legendgroup": "My Burberry Black",
         "marker": {
          "color": "#00cc96",
          "opacity": 0.7,
          "symbol": "circle"
         },
         "mode": "markers",
         "name": "My Burberry Black",
         "orientation": "v",
         "showlegend": true,
         "type": "scatter",
         "x": [
          "BURBERRY"
         ],
         "xaxis": "x",
         "y": [
          99
         ],
         "yaxis": "y"
        },
        {
         "hovertemplate": "<b>%{hovertext}</b><br><br>product_name=My Burberry<br>Brand=%{x}<br>Price (USD)=%{y}<extra></extra>",
         "hovertext": [
          "My Burberry"
         ],
         "legendgroup": "My Burberry",
         "marker": {
          "color": "#ab63fa",
          "opacity": 0.7,
          "symbol": "circle"
         },
         "mode": "markers",
         "name": "My Burberry",
         "orientation": "v",
         "showlegend": true,
         "type": "scatter",
         "x": [
          "BURBERRY"
         ],
         "xaxis": "x",
         "y": [
          95
         ],
         "yaxis": "y"
        },
        {
         "hovertemplate": "<b>%{hovertext}</b><br><br>product_name=Her Eau De Toilette<br>Brand=%{x}<br>Price (USD)=%{y}<extra></extra>",
         "hovertext": [
          "Her Eau De Toilette"
         ],
         "legendgroup": "Her Eau De Toilette",
         "marker": {
          "color": "#FFA15A",
          "opacity": 0.7,
          "symbol": "circle"
         },
         "mode": "markers",
         "name": "Her Eau De Toilette",
         "orientation": "v",
         "showlegend": true,
         "type": "scatter",
         "x": [
          "BURBERRY"
         ],
         "xaxis": "x",
         "y": [
          133
         ],
         "yaxis": "y"
        },
        {
         "hovertemplate": "<b>%{hovertext}</b><br><br>product_name=Her Blossom Eau de Toilette<br>Brand=%{x}<br>Price (USD)=%{y}<extra></extra>",
         "hovertext": [
          "Her Blossom Eau de Toilette"
         ],
         "legendgroup": "Her Blossom Eau de Toilette",
         "marker": {
          "color": "#19d3f3",
          "opacity": 0.7,
          "symbol": "circle"
         },
         "mode": "markers",
         "name": "Her Blossom Eau de Toilette",
         "orientation": "v",
         "showlegend": true,
         "type": "scatter",
         "x": [
          "BURBERRY"
         ],
         "xaxis": "x",
         "y": [
          101
         ],
         "yaxis": "y"
        },
        {
         "hovertemplate": "<b>%{hovertext}</b><br><br>product_name=Her London Dream Eau de Parfum<br>Brand=%{x}<br>Price (USD)=%{y}<extra></extra>",
         "hovertext": [
          "Her London Dream Eau de Parfum"
         ],
         "legendgroup": "Her London Dream Eau de Parfum",
         "marker": {
          "color": "#FF6692",
          "opacity": 0.7,
          "symbol": "circle"
         },
         "mode": "markers",
         "name": "Her London Dream Eau de Parfum",
         "orientation": "v",
         "showlegend": true,
         "type": "scatter",
         "x": [
          "BURBERRY"
         ],
         "xaxis": "x",
         "y": [
          123
         ],
         "yaxis": "y"
        },
        {
         "hovertemplate": "<b>%{hovertext}</b><br><br>product_name=Touch<br>Brand=%{x}<br>Price (USD)=%{y}<extra></extra>",
         "hovertext": [
          "Touch"
         ],
         "legendgroup": "Touch",
         "marker": {
          "color": "#B6E880",
          "opacity": 0.7,
          "symbol": "circle"
         },
         "mode": "markers",
         "name": "Touch",
         "orientation": "v",
         "showlegend": true,
         "type": "scatter",
         "x": [
          "BURBERRY"
         ],
         "xaxis": "x",
         "y": [
          74
         ],
         "yaxis": "y"
        },
        {
         "hovertemplate": "<b>%{hovertext}</b><br><br>product_name=Her Blossom Eau de Toilette Rollerball<br>Brand=%{x}<br>Price (USD)=%{y}<extra></extra>",
         "hovertext": [
          "Her Blossom Eau de Toilette Rollerball"
         ],
         "legendgroup": "Her Blossom Eau de Toilette Rollerball",
         "marker": {
          "color": "#FF97FF",
          "opacity": 0.7,
          "symbol": "circle"
         },
         "mode": "markers",
         "name": "Her Blossom Eau de Toilette Rollerball",
         "orientation": "v",
         "showlegend": true,
         "type": "scatter",
         "x": [
          "BURBERRY"
         ],
         "xaxis": "x",
         "y": [
          38
         ],
         "yaxis": "y"
        },
        {
         "hovertemplate": "<b>%{hovertext}</b><br><br>product_name=Mr. Burberry Eau de Parfum<br>Brand=%{x}<br>Price (USD)=%{y}<extra></extra>",
         "hovertext": [
          "Mr. Burberry Eau de Parfum"
         ],
         "legendgroup": "Mr. Burberry Eau de Parfum",
         "marker": {
          "color": "#FECB52",
          "opacity": 0.7,
          "symbol": "circle"
         },
         "mode": "markers",
         "name": "Mr. Burberry Eau de Parfum",
         "orientation": "v",
         "showlegend": true,
         "type": "scatter",
         "x": [
          "BURBERRY"
         ],
         "xaxis": "x",
         "y": [
          140
         ],
         "yaxis": "y"
        },
        {
         "hovertemplate": "<b>%{hovertext}</b><br><br>product_name=London for Men<br>Brand=%{x}<br>Price (USD)=%{y}<extra></extra>",
         "hovertext": [
          "London for Men"
         ],
         "legendgroup": "London for Men",
         "marker": {
          "color": "#636efa",
          "opacity": 0.7,
          "symbol": "circle"
         },
         "mode": "markers",
         "name": "London for Men",
         "orientation": "v",
         "showlegend": true,
         "type": "scatter",
         "x": [
          "BURBERRY"
         ],
         "xaxis": "x",
         "y": [
          94
         ],
         "yaxis": "y"
        },
        {
         "hovertemplate": "<b>%{hovertext}</b><br><br>product_name=Hero Eau de Toilette<br>Brand=%{x}<br>Price (USD)=%{y}<extra></extra>",
         "hovertext": [
          "Hero Eau de Toilette"
         ],
         "legendgroup": "Hero Eau de Toilette",
         "marker": {
          "color": "#EF553B",
          "opacity": 0.7,
          "symbol": "circle"
         },
         "mode": "markers",
         "name": "Hero Eau de Toilette",
         "orientation": "v",
         "showlegend": true,
         "type": "scatter",
         "x": [
          "BURBERRY"
         ],
         "xaxis": "x",
         "y": [
          95
         ],
         "yaxis": "y"
        },
        {
         "hovertemplate": "<b>%{hovertext}</b><br><br>product_name=Leila Lou Perfume<br>Brand=%{x}<br>Price (USD)=%{y}<extra></extra>",
         "hovertext": [
          "Leila Lou Perfume"
         ],
         "legendgroup": "Leila Lou Perfume",
         "marker": {
          "color": "#00cc96",
          "opacity": 0.7,
          "symbol": "circle"
         },
         "mode": "markers",
         "name": "Leila Lou Perfume",
         "orientation": "v",
         "showlegend": true,
         "type": "scatter",
         "x": [
          "By Rosie Jane"
         ],
         "xaxis": "x",
         "y": [
          70
         ],
         "yaxis": "y"
        },
        {
         "hovertemplate": "<b>%{hovertext}</b><br><br>product_name=Leila Lou Perfume Travel Spray<br>Brand=%{x}<br>Price (USD)=%{y}<extra></extra>",
         "hovertext": [
          "Leila Lou Perfume Travel Spray"
         ],
         "legendgroup": "Leila Lou Perfume Travel Spray",
         "marker": {
          "color": "#ab63fa",
          "opacity": 0.7,
          "symbol": "circle"
         },
         "mode": "markers",
         "name": "Leila Lou Perfume Travel Spray",
         "orientation": "v",
         "showlegend": true,
         "type": "scatter",
         "x": [
          "By Rosie Jane"
         ],
         "xaxis": "x",
         "y": [
          28
         ],
         "yaxis": "y"
        },
        {
         "hovertemplate": "<b>%{hovertext}</b><br><br>product_name=Rosie Perfume<br>Brand=%{x}<br>Price (USD)=%{y}<extra></extra>",
         "hovertext": [
          "Rosie Perfume"
         ],
         "legendgroup": "Rosie Perfume",
         "marker": {
          "color": "#FFA15A",
          "opacity": 0.7,
          "symbol": "circle"
         },
         "mode": "markers",
         "name": "Rosie Perfume",
         "orientation": "v",
         "showlegend": true,
         "type": "scatter",
         "x": [
          "By Rosie Jane"
         ],
         "xaxis": "x",
         "y": [
          70
         ],
         "yaxis": "y"
        },
        {
         "hovertemplate": "<b>%{hovertext}</b><br><br>product_name=James Perfume<br>Brand=%{x}<br>Price (USD)=%{y}<extra></extra>",
         "hovertext": [
          "James Perfume"
         ],
         "legendgroup": "James Perfume",
         "marker": {
          "color": "#19d3f3",
          "opacity": 0.7,
          "symbol": "circle"
         },
         "mode": "markers",
         "name": "James Perfume",
         "orientation": "v",
         "showlegend": true,
         "type": "scatter",
         "x": [
          "By Rosie Jane"
         ],
         "xaxis": "x",
         "y": [
          70
         ],
         "yaxis": "y"
        },
        {
         "hovertemplate": "<b>%{hovertext}</b><br><br>product_name=Rosie Perfume Travel Spray<br>Brand=%{x}<br>Price (USD)=%{y}<extra></extra>",
         "hovertext": [
          "Rosie Perfume Travel Spray"
         ],
         "legendgroup": "Rosie Perfume Travel Spray",
         "marker": {
          "color": "#FF6692",
          "opacity": 0.7,
          "symbol": "circle"
         },
         "mode": "markers",
         "name": "Rosie Perfume Travel Spray",
         "orientation": "v",
         "showlegend": true,
         "type": "scatter",
         "x": [
          "By Rosie Jane"
         ],
         "xaxis": "x",
         "y": [
          28
         ],
         "yaxis": "y"
        },
        {
         "hovertemplate": "<b>%{hovertext}</b><br><br>product_name=Leila Lou Perfume Oil<br>Brand=%{x}<br>Price (USD)=%{y}<extra></extra>",
         "hovertext": [
          "Leila Lou Perfume Oil"
         ],
         "legendgroup": "Leila Lou Perfume Oil",
         "marker": {
          "color": "#B6E880",
          "opacity": 0.7,
          "symbol": "circle"
         },
         "mode": "markers",
         "name": "Leila Lou Perfume Oil",
         "orientation": "v",
         "showlegend": true,
         "type": "scatter",
         "x": [
          "By Rosie Jane"
         ],
         "xaxis": "x",
         "y": [
          45
         ],
         "yaxis": "y"
        },
        {
         "hovertemplate": "<b>%{hovertext}</b><br><br>product_name=Madie Perfume<br>Brand=%{x}<br>Price (USD)=%{y}<extra></extra>",
         "hovertext": [
          "Madie Perfume"
         ],
         "legendgroup": "Madie Perfume",
         "marker": {
          "color": "#FF97FF",
          "opacity": 0.7,
          "symbol": "circle"
         },
         "mode": "markers",
         "name": "Madie Perfume",
         "orientation": "v",
         "showlegend": true,
         "type": "scatter",
         "x": [
          "By Rosie Jane"
         ],
         "xaxis": "x",
         "y": [
          70
         ],
         "yaxis": "y"
        },
        {
         "hovertemplate": "<b>%{hovertext}</b><br><br>product_name=Dylan Perfume<br>Brand=%{x}<br>Price (USD)=%{y}<extra></extra>",
         "hovertext": [
          "Dylan Perfume"
         ],
         "legendgroup": "Dylan Perfume",
         "marker": {
          "color": "#FECB52",
          "opacity": 0.7,
          "symbol": "circle"
         },
         "mode": "markers",
         "name": "Dylan Perfume",
         "orientation": "v",
         "showlegend": true,
         "type": "scatter",
         "x": [
          "By Rosie Jane"
         ],
         "xaxis": "x",
         "y": [
          70
         ],
         "yaxis": "y"
        },
        {
         "hovertemplate": "<b>%{hovertext}</b><br><br>product_name=James Perfume Travel Spray<br>Brand=%{x}<br>Price (USD)=%{y}<extra></extra>",
         "hovertext": [
          "James Perfume Travel Spray"
         ],
         "legendgroup": "James Perfume Travel Spray",
         "marker": {
          "color": "#636efa",
          "opacity": 0.7,
          "symbol": "circle"
         },
         "mode": "markers",
         "name": "James Perfume Travel Spray",
         "orientation": "v",
         "showlegend": true,
         "type": "scatter",
         "x": [
          "By Rosie Jane"
         ],
         "xaxis": "x",
         "y": [
          28
         ],
         "yaxis": "y"
        },
        {
         "hovertemplate": "<b>%{hovertext}</b><br><br>product_name=Dulce Eau de Parfum<br>Brand=%{x}<br>Price (USD)=%{y}<extra></extra>",
         "hovertext": [
          "Dulce Eau de Parfum"
         ],
         "legendgroup": "Dulce Eau de Parfum",
         "marker": {
          "color": "#EF553B",
          "opacity": 0.7,
          "symbol": "circle"
         },
         "mode": "markers",
         "name": "Dulce Eau de Parfum",
         "orientation": "v",
         "showlegend": true,
         "type": "scatter",
         "x": [
          "By Rosie Jane"
         ],
         "xaxis": "x",
         "y": [
          70
         ],
         "yaxis": "y"
        },
        {
         "hovertemplate": "<b>%{hovertext}</b><br><br>product_name=Dylan Perfume Travel Spray<br>Brand=%{x}<br>Price (USD)=%{y}<extra></extra>",
         "hovertext": [
          "Dylan Perfume Travel Spray"
         ],
         "legendgroup": "Dylan Perfume Travel Spray",
         "marker": {
          "color": "#00cc96",
          "opacity": 0.7,
          "symbol": "circle"
         },
         "mode": "markers",
         "name": "Dylan Perfume Travel Spray",
         "orientation": "v",
         "showlegend": true,
         "type": "scatter",
         "x": [
          "By Rosie Jane"
         ],
         "xaxis": "x",
         "y": [
          28
         ],
         "yaxis": "y"
        },
        {
         "hovertemplate": "<b>%{hovertext}</b><br><br>product_name=Lake Perfume Travel Spray<br>Brand=%{x}<br>Price (USD)=%{y}<extra></extra>",
         "hovertext": [
          "Lake Perfume Travel Spray"
         ],
         "legendgroup": "Lake Perfume Travel Spray",
         "marker": {
          "color": "#ab63fa",
          "opacity": 0.7,
          "symbol": "circle"
         },
         "mode": "markers",
         "name": "Lake Perfume Travel Spray",
         "orientation": "v",
         "showlegend": true,
         "type": "scatter",
         "x": [
          "By Rosie Jane"
         ],
         "xaxis": "x",
         "y": [
          28
         ],
         "yaxis": "y"
        },
        {
         "hovertemplate": "<b>%{hovertext}</b><br><br>product_name=Madie Perfume Travel Spray<br>Brand=%{x}<br>Price (USD)=%{y}<extra></extra>",
         "hovertext": [
          "Madie Perfume Travel Spray"
         ],
         "legendgroup": "Madie Perfume Travel Spray",
         "marker": {
          "color": "#FFA15A",
          "opacity": 0.7,
          "symbol": "circle"
         },
         "mode": "markers",
         "name": "Madie Perfume Travel Spray",
         "orientation": "v",
         "showlegend": true,
         "type": "scatter",
         "x": [
          "By Rosie Jane"
         ],
         "xaxis": "x",
         "y": [
          28
         ],
         "yaxis": "y"
        },
        {
         "hovertemplate": "<b>%{hovertext}</b><br><br>product_name=James Perfume Oil<br>Brand=%{x}<br>Price (USD)=%{y}<extra></extra>",
         "hovertext": [
          "James Perfume Oil"
         ],
         "legendgroup": "James Perfume Oil",
         "marker": {
          "color": "#19d3f3",
          "opacity": 0.7,
          "symbol": "circle"
         },
         "mode": "markers",
         "name": "James Perfume Oil",
         "orientation": "v",
         "showlegend": true,
         "type": "scatter",
         "x": [
          "By Rosie Jane"
         ],
         "xaxis": "x",
         "y": [
          45
         ],
         "yaxis": "y"
        },
        {
         "hovertemplate": "<b>%{hovertext}</b><br><br>product_name=Angie Perfume Travel Spray<br>Brand=%{x}<br>Price (USD)=%{y}<extra></extra>",
         "hovertext": [
          "Angie Perfume Travel Spray"
         ],
         "legendgroup": "Angie Perfume Travel Spray",
         "marker": {
          "color": "#FF6692",
          "opacity": 0.7,
          "symbol": "circle"
         },
         "mode": "markers",
         "name": "Angie Perfume Travel Spray",
         "orientation": "v",
         "showlegend": true,
         "type": "scatter",
         "x": [
          "By Rosie Jane"
         ],
         "xaxis": "x",
         "y": [
          28
         ],
         "yaxis": "y"
        },
        {
         "hovertemplate": "<b>%{hovertext}</b><br><br>product_name=Angie Perfume<br>Brand=%{x}<br>Price (USD)=%{y}<extra></extra>",
         "hovertext": [
          "Angie Perfume"
         ],
         "legendgroup": "Angie Perfume",
         "marker": {
          "color": "#B6E880",
          "opacity": 0.7,
          "symbol": "circle"
         },
         "mode": "markers",
         "name": "Angie Perfume",
         "orientation": "v",
         "showlegend": true,
         "type": "scatter",
         "x": [
          "By Rosie Jane"
         ],
         "xaxis": "x",
         "y": [
          28
         ],
         "yaxis": "y"
        },
        {
         "hovertemplate": "<b>%{hovertext}</b><br><br>product_name=Dulce Travel Spray<br>Brand=%{x}<br>Price (USD)=%{y}<extra></extra>",
         "hovertext": [
          "Dulce Travel Spray"
         ],
         "legendgroup": "Dulce Travel Spray",
         "marker": {
          "color": "#FF97FF",
          "opacity": 0.7,
          "symbol": "circle"
         },
         "mode": "markers",
         "name": "Dulce Travel Spray",
         "orientation": "v",
         "showlegend": true,
         "type": "scatter",
         "x": [
          "By Rosie Jane"
         ],
         "xaxis": "x",
         "y": [
          28
         ],
         "yaxis": "y"
        },
        {
         "hovertemplate": "<b>%{hovertext}</b><br><br>product_name=Lake Perfume<br>Brand=%{x}<br>Price (USD)=%{y}<extra></extra>",
         "hovertext": [
          "Lake Perfume"
         ],
         "legendgroup": "Lake Perfume",
         "marker": {
          "color": "#FECB52",
          "opacity": 0.7,
          "symbol": "circle"
         },
         "mode": "markers",
         "name": "Lake Perfume",
         "orientation": "v",
         "showlegend": true,
         "type": "scatter",
         "x": [
          "By Rosie Jane"
         ],
         "xaxis": "x",
         "y": [
          70
         ],
         "yaxis": "y"
        },
        {
         "hovertemplate": "<b>%{hovertext}</b><br><br>product_name=Dulce Perfume Oil<br>Brand=%{x}<br>Price (USD)=%{y}<extra></extra>",
         "hovertext": [
          "Dulce Perfume Oil"
         ],
         "legendgroup": "Dulce Perfume Oil",
         "marker": {
          "color": "#636efa",
          "opacity": 0.7,
          "symbol": "circle"
         },
         "mode": "markers",
         "name": "Dulce Perfume Oil",
         "orientation": "v",
         "showlegend": true,
         "type": "scatter",
         "x": [
          "By Rosie Jane"
         ],
         "xaxis": "x",
         "y": [
          45
         ],
         "yaxis": "y"
        },
        {
         "hovertemplate": "<b>%{hovertext}</b><br><br>product_name=Madie Perfume Oil<br>Brand=%{x}<br>Price (USD)=%{y}<extra></extra>",
         "hovertext": [
          "Madie Perfume Oil"
         ],
         "legendgroup": "Madie Perfume Oil",
         "marker": {
          "color": "#EF553B",
          "opacity": 0.7,
          "symbol": "circle"
         },
         "mode": "markers",
         "name": "Madie Perfume Oil",
         "orientation": "v",
         "showlegend": true,
         "type": "scatter",
         "x": [
          "By Rosie Jane"
         ],
         "xaxis": "x",
         "y": [
          45
         ],
         "yaxis": "y"
        },
        {
         "hovertemplate": "<b>%{hovertext}</b><br><br>product_name=Dylan Perfume Oil<br>Brand=%{x}<br>Price (USD)=%{y}<extra></extra>",
         "hovertext": [
          "Dylan Perfume Oil"
         ],
         "legendgroup": "Dylan Perfume Oil",
         "marker": {
          "color": "#00cc96",
          "opacity": 0.7,
          "symbol": "circle"
         },
         "mode": "markers",
         "name": "Dylan Perfume Oil",
         "orientation": "v",
         "showlegend": true,
         "type": "scatter",
         "x": [
          "By Rosie Jane"
         ],
         "xaxis": "x",
         "y": [
          45
         ],
         "yaxis": "y"
        },
        {
         "hovertemplate": "<b>%{hovertext}</b><br><br>product_name=Lake Perfume Oil<br>Brand=%{x}<br>Price (USD)=%{y}<extra></extra>",
         "hovertext": [
          "Lake Perfume Oil"
         ],
         "legendgroup": "Lake Perfume Oil",
         "marker": {
          "color": "#ab63fa",
          "opacity": 0.7,
          "symbol": "circle"
         },
         "mode": "markers",
         "name": "Lake Perfume Oil",
         "orientation": "v",
         "showlegend": true,
         "type": "scatter",
         "x": [
          "By Rosie Jane"
         ],
         "xaxis": "x",
         "y": [
          45
         ],
         "yaxis": "y"
        },
        {
         "hovertemplate": "<b>%{hovertext}</b><br><br>product_name=The Canopy Aroma Diffuser Starter Set<br>Brand=%{x}<br>Price (USD)=%{y}<extra></extra>",
         "hovertext": [
          "The Canopy Aroma Diffuser Starter Set"
         ],
         "legendgroup": "The Canopy Aroma Diffuser Starter Set",
         "marker": {
          "color": "#FFA15A",
          "opacity": 0.7,
          "symbol": "circle"
         },
         "mode": "markers",
         "name": "The Canopy Aroma Diffuser Starter Set",
         "orientation": "v",
         "showlegend": true,
         "type": "scatter",
         "x": [
          "CANOPY"
         ],
         "xaxis": "x",
         "y": [
          90
         ],
         "yaxis": "y"
        },
        {
         "hovertemplate": "<b>%{hovertext}</b><br><br>product_name=Rituals by Canopy Aroma Kit<br>Brand=%{x}<br>Price (USD)=%{y}<extra></extra>",
         "hovertext": [
          "Rituals by Canopy Aroma Kit"
         ],
         "legendgroup": "Rituals by Canopy Aroma Kit",
         "marker": {
          "color": "#19d3f3",
          "opacity": 0.7,
          "symbol": "circle"
         },
         "mode": "markers",
         "name": "Rituals by Canopy Aroma Kit",
         "orientation": "v",
         "showlegend": true,
         "type": "scatter",
         "x": [
          "CANOPY"
         ],
         "xaxis": "x",
         "y": [
          40
         ],
         "yaxis": "y"
        },
        {
         "hovertemplate": "<b>%{hovertext}</b><br><br>product_name=Very Good Girl Eau de Parfum<br>Brand=%{x}<br>Price (USD)=%{y}<extra></extra>",
         "hovertext": [
          "Very Good Girl Eau de Parfum"
         ],
         "legendgroup": "Very Good Girl Eau de Parfum",
         "marker": {
          "color": "#FF6692",
          "opacity": 0.7,
          "symbol": "circle"
         },
         "mode": "markers",
         "name": "Very Good Girl Eau de Parfum",
         "orientation": "v",
         "showlegend": true,
         "type": "scatter",
         "x": [
          "Carolina Herrera"
         ],
         "xaxis": "x",
         "y": [
          147
         ],
         "yaxis": "y"
        },
        {
         "hovertemplate": "<b>%{hovertext}</b><br><br>product_name=Mini Good Girl Eau de Parfum<br>Brand=%{x}<br>Price (USD)=%{y}<extra></extra>",
         "hovertext": [
          "Mini Good Girl Eau de Parfum"
         ],
         "legendgroup": "Mini Good Girl Eau de Parfum",
         "marker": {
          "color": "#B6E880",
          "opacity": 0.7,
          "symbol": "circle"
         },
         "mode": "markers",
         "name": "Mini Good Girl Eau de Parfum",
         "orientation": "v",
         "showlegend": true,
         "type": "scatter",
         "x": [
          "Carolina Herrera"
         ],
         "xaxis": "x",
         "y": [
          15
         ],
         "yaxis": "y"
        },
        {
         "hovertemplate": "<b>%{hovertext}</b><br><br>product_name=Good Girl Blush Eau de Parfum<br>Brand=%{x}<br>Price (USD)=%{y}<extra></extra>",
         "hovertext": [
          "Good Girl Blush Eau de Parfum"
         ],
         "legendgroup": "Good Girl Blush Eau de Parfum",
         "marker": {
          "color": "#FF97FF",
          "opacity": 0.7,
          "symbol": "circle"
         },
         "mode": "markers",
         "name": "Good Girl Blush Eau de Parfum",
         "orientation": "v",
         "showlegend": true,
         "type": "scatter",
         "x": [
          "Carolina Herrera"
         ],
         "xaxis": "x",
         "y": [
          147
         ],
         "yaxis": "y"
        },
        {
         "hovertemplate": "<b>%{hovertext}</b><br><br>product_name=Very Good Girl Eau de Parfum Rollerball<br>Brand=%{x}<br>Price (USD)=%{y}<extra></extra>",
         "hovertext": [
          "Very Good Girl Eau de Parfum Rollerball"
         ],
         "legendgroup": "Very Good Girl Eau de Parfum Rollerball",
         "marker": {
          "color": "#FECB52",
          "opacity": 0.7,
          "symbol": "circle"
         },
         "mode": "markers",
         "name": "Very Good Girl Eau de Parfum Rollerball",
         "orientation": "v",
         "showlegend": true,
         "type": "scatter",
         "x": [
          "Carolina Herrera"
         ],
         "xaxis": "x",
         "y": [
          34
         ],
         "yaxis": "y"
        },
        {
         "hovertemplate": "<b>%{hovertext}</b><br><br>product_name=Bad Boy Cobalt Eau de Parfum<br>Brand=%{x}<br>Price (USD)=%{y}<extra></extra>",
         "hovertext": [
          "Bad Boy Cobalt Eau de Parfum"
         ],
         "legendgroup": "Bad Boy Cobalt Eau de Parfum",
         "marker": {
          "color": "#636efa",
          "opacity": 0.7,
          "symbol": "circle"
         },
         "mode": "markers",
         "name": "Bad Boy Cobalt Eau de Parfum",
         "orientation": "v",
         "showlegend": true,
         "type": "scatter",
         "x": [
          "Carolina Herrera"
         ],
         "xaxis": "x",
         "y": [
          96
         ],
         "yaxis": "y"
        },
        {
         "hovertemplate": "<b>%{hovertext}</b><br><br>product_name=Chloé Eau de Parfum<br>Brand=%{x}<br>Price (USD)=%{y}<extra></extra>",
         "hovertext": [
          "Chloé Eau de Parfum"
         ],
         "legendgroup": "Chloé Eau de Parfum",
         "marker": {
          "color": "#EF553B",
          "opacity": 0.7,
          "symbol": "circle"
         },
         "mode": "markers",
         "name": "Chloé Eau de Parfum",
         "orientation": "v",
         "showlegend": true,
         "type": "scatter",
         "x": [
          "Chloé"
         ],
         "xaxis": "x",
         "y": [
          147
         ],
         "yaxis": "y"
        },
        {
         "hovertemplate": "<b>%{hovertext}</b><br><br>product_name=Roses De Chloé Eau de Toilette<br>Brand=%{x}<br>Price (USD)=%{y}<extra></extra>",
         "hovertext": [
          "Roses De Chloé Eau de Toilette"
         ],
         "legendgroup": "Roses De Chloé Eau de Toilette",
         "marker": {
          "color": "#00cc96",
          "opacity": 0.7,
          "symbol": "circle"
         },
         "mode": "markers",
         "name": "Roses De Chloé Eau de Toilette",
         "orientation": "v",
         "showlegend": true,
         "type": "scatter",
         "x": [
          "Chloé"
         ],
         "xaxis": "x",
         "y": [
          128
         ],
         "yaxis": "y"
        },
        {
         "hovertemplate": "<b>%{hovertext}</b><br><br>product_name=Nomade Eau de Parfum<br>Brand=%{x}<br>Price (USD)=%{y}<extra></extra>",
         "hovertext": [
          "Nomade Eau de Parfum"
         ],
         "legendgroup": "Nomade Eau de Parfum",
         "marker": {
          "color": "#ab63fa",
          "opacity": 0.7,
          "symbol": "circle"
         },
         "mode": "markers",
         "name": "Nomade Eau de Parfum",
         "orientation": "v",
         "showlegend": true,
         "type": "scatter",
         "x": [
          "Chloé"
         ],
         "xaxis": "x",
         "y": [
          147
         ],
         "yaxis": "y"
        },
        {
         "hovertemplate": "<b>%{hovertext}</b><br><br>product_name=Love Story<br>Brand=%{x}<br>Price (USD)=%{y}<extra></extra>",
         "hovertext": [
          "Love Story"
         ],
         "legendgroup": "Love Story",
         "marker": {
          "color": "#FFA15A",
          "opacity": 0.7,
          "symbol": "circle"
         },
         "mode": "markers",
         "name": "Love Story",
         "orientation": "v",
         "showlegend": true,
         "type": "scatter",
         "x": [
          "Chloé"
         ],
         "xaxis": "x",
         "y": [
          147
         ],
         "yaxis": "y"
        },
        {
         "hovertemplate": "<b>%{hovertext}</b><br><br>product_name=Nomade Eau de Parfum Travel Spray<br>Brand=%{x}<br>Price (USD)=%{y}<extra></extra>",
         "hovertext": [
          "Nomade Eau de Parfum Travel Spray"
         ],
         "legendgroup": "Nomade Eau de Parfum Travel Spray",
         "marker": {
          "color": "#19d3f3",
          "opacity": 0.7,
          "symbol": "circle"
         },
         "mode": "markers",
         "name": "Nomade Eau de Parfum Travel Spray",
         "orientation": "v",
         "showlegend": true,
         "type": "scatter",
         "x": [
          "Chloé"
         ],
         "xaxis": "x",
         "y": [
          38
         ],
         "yaxis": "y"
        },
        {
         "hovertemplate": "<b>%{hovertext}</b><br><br>product_name=Roses De Chloé Eau de Toilette Rollerball<br>Brand=%{x}<br>Price (USD)=%{y}<extra></extra>",
         "hovertext": [
          "Roses De Chloé Eau de Toilette Rollerball"
         ],
         "legendgroup": "Roses De Chloé Eau de Toilette Rollerball",
         "marker": {
          "color": "#FF6692",
          "opacity": 0.7,
          "symbol": "circle"
         },
         "mode": "markers",
         "name": "Roses De Chloé Eau de Toilette Rollerball",
         "orientation": "v",
         "showlegend": true,
         "type": "scatter",
         "x": [
          "Chloé"
         ],
         "xaxis": "x",
         "y": [
          31
         ],
         "yaxis": "y"
        },
        {
         "hovertemplate": "<b>%{hovertext}</b><br><br>product_name=Chloé Rollerball<br>Brand=%{x}<br>Price (USD)=%{y}<extra></extra>",
         "hovertext": [
          "Chloé Rollerball"
         ],
         "legendgroup": "Chloé Rollerball",
         "marker": {
          "color": "#B6E880",
          "opacity": 0.7,
          "symbol": "circle"
         },
         "mode": "markers",
         "name": "Chloé Rollerball",
         "orientation": "v",
         "showlegend": true,
         "type": "scatter",
         "x": [
          "Chloé"
         ],
         "xaxis": "x",
         "y": [
          38
         ],
         "yaxis": "y"
        },
        {
         "hovertemplate": "<b>%{hovertext}</b><br><br>product_name=Chloe L'Eau<br>Brand=%{x}<br>Price (USD)=%{y}<extra></extra>",
         "hovertext": [
          "Chloe L'Eau"
         ],
         "legendgroup": "Chloe L'Eau",
         "marker": {
          "color": "#FF97FF",
          "opacity": 0.7,
          "symbol": "circle"
         },
         "mode": "markers",
         "name": "Chloe L'Eau",
         "orientation": "v",
         "showlegend": true,
         "type": "scatter",
         "x": [
          "Chloé"
         ],
         "xaxis": "x",
         "y": [
          133
         ],
         "yaxis": "y"
        },
        {
         "hovertemplate": "<b>%{hovertext}</b><br><br>product_name=Chloé Rose Tangerine Eau de Toilette<br>Brand=%{x}<br>Price (USD)=%{y}<extra></extra>",
         "hovertext": [
          "Chloé Rose Tangerine Eau de Toilette"
         ],
         "legendgroup": "Chloé Rose Tangerine Eau de Toilette",
         "marker": {
          "color": "#FECB52",
          "opacity": 0.7,
          "symbol": "circle"
         },
         "mode": "markers",
         "name": "Chloé Rose Tangerine Eau de Toilette",
         "orientation": "v",
         "showlegend": true,
         "type": "scatter",
         "x": [
          "Chloé"
         ],
         "xaxis": "x",
         "y": [
          124
         ],
         "yaxis": "y"
        },
        {
         "hovertemplate": "<b>%{hovertext}</b><br><br>product_name=Reserve - Skin<br>Brand=%{x}<br>Price (USD)=%{y}<extra></extra>",
         "hovertext": [
          "Reserve - Skin"
         ],
         "legendgroup": "Reserve - Skin",
         "marker": {
          "color": "#636efa",
          "opacity": 0.7,
          "symbol": "circle"
         },
         "mode": "markers",
         "name": "Reserve - Skin",
         "orientation": "v",
         "showlegend": true,
         "type": "scatter",
         "x": [
          "CLEAN RESERVE"
         ],
         "xaxis": "x",
         "y": [
          110
         ],
         "yaxis": "y"
        },
        {
         "hovertemplate": "<b>%{hovertext}</b><br><br>product_name=Reserve - Radiant Nectar<br>Brand=%{x}<br>Price (USD)=%{y}<extra></extra>",
         "hovertext": [
          "Reserve - Radiant Nectar"
         ],
         "legendgroup": "Reserve - Radiant Nectar",
         "marker": {
          "color": "#EF553B",
          "opacity": 0.7,
          "symbol": "circle"
         },
         "mode": "markers",
         "name": "Reserve - Radiant Nectar",
         "orientation": "v",
         "showlegend": true,
         "type": "scatter",
         "x": [
          "CLEAN RESERVE"
         ],
         "xaxis": "x",
         "y": [
          110
         ],
         "yaxis": "y"
        },
        {
         "hovertemplate": "<b>%{hovertext}</b><br><br>product_name=Reserve - Skin Travel Spray<br>Brand=%{x}<br>Price (USD)=%{y}<extra></extra>",
         "hovertext": [
          "Reserve - Skin Travel Spray"
         ],
         "legendgroup": "Reserve - Skin Travel Spray",
         "marker": {
          "color": "#00cc96",
          "opacity": 0.7,
          "symbol": "circle"
         },
         "mode": "markers",
         "name": "Reserve - Skin Travel Spray",
         "orientation": "v",
         "showlegend": true,
         "type": "scatter",
         "x": [
          "CLEAN RESERVE"
         ],
         "xaxis": "x",
         "y": [
          29
         ],
         "yaxis": "y"
        },
        {
         "hovertemplate": "<b>%{hovertext}</b><br><br>product_name=Classic - Skin<br>Brand=%{x}<br>Price (USD)=%{y}<extra></extra>",
         "hovertext": [
          "Classic - Skin"
         ],
         "legendgroup": "Classic - Skin",
         "marker": {
          "color": "#ab63fa",
          "opacity": 0.7,
          "symbol": "circle"
         },
         "mode": "markers",
         "name": "Classic - Skin",
         "orientation": "v",
         "showlegend": true,
         "type": "scatter",
         "x": [
          "CLEAN RESERVE"
         ],
         "xaxis": "x",
         "y": [
          44
         ],
         "yaxis": "y"
        },
        {
         "hovertemplate": "<b>%{hovertext}</b><br><br>product_name=Classic - Warm Cotton<br>Brand=%{x}<br>Price (USD)=%{y}<extra></extra>",
         "hovertext": [
          "Classic - Warm Cotton"
         ],
         "legendgroup": "Classic - Warm Cotton",
         "marker": {
          "color": "#FFA15A",
          "opacity": 0.7,
          "symbol": "circle"
         },
         "mode": "markers",
         "name": "Classic - Warm Cotton",
         "orientation": "v",
         "showlegend": true,
         "type": "scatter",
         "x": [
          "CLEAN RESERVE"
         ],
         "xaxis": "x",
         "y": [
          74
         ],
         "yaxis": "y"
        },
        {
         "hovertemplate": "<b>%{hovertext}</b><br><br>product_name=Reserve - Rain<br>Brand=%{x}<br>Price (USD)=%{y}<extra></extra>",
         "hovertext": [
          "Reserve - Rain"
         ],
         "legendgroup": "Reserve - Rain",
         "marker": {
          "color": "#19d3f3",
          "opacity": 0.7,
          "symbol": "circle"
         },
         "mode": "markers",
         "name": "Reserve - Rain",
         "orientation": "v",
         "showlegend": true,
         "type": "scatter",
         "x": [
          "CLEAN RESERVE"
         ],
         "xaxis": "x",
         "y": [
          110
         ],
         "yaxis": "y"
        },
        {
         "hovertemplate": "<b>%{hovertext}</b><br><br>product_name=Reserve - Acqua Neroli<br>Brand=%{x}<br>Price (USD)=%{y}<extra></extra>",
         "hovertext": [
          "Reserve - Acqua Neroli"
         ],
         "legendgroup": "Reserve - Acqua Neroli",
         "marker": {
          "color": "#FF6692",
          "opacity": 0.7,
          "symbol": "circle"
         },
         "mode": "markers",
         "name": "Reserve - Acqua Neroli",
         "orientation": "v",
         "showlegend": true,
         "type": "scatter",
         "x": [
          "CLEAN RESERVE"
         ],
         "xaxis": "x",
         "y": [
          110
         ],
         "yaxis": "y"
        },
        {
         "hovertemplate": "<b>%{hovertext}</b><br><br>product_name=Reserve - Acqua Neroli Travel Spray<br>Brand=%{x}<br>Price (USD)=%{y}<extra></extra>",
         "hovertext": [
          "Reserve - Acqua Neroli Travel Spray"
         ],
         "legendgroup": "Reserve - Acqua Neroli Travel Spray",
         "marker": {
          "color": "#B6E880",
          "opacity": 0.7,
          "symbol": "circle"
         },
         "mode": "markers",
         "name": "Reserve - Acqua Neroli Travel Spray",
         "orientation": "v",
         "showlegend": true,
         "type": "scatter",
         "x": [
          "CLEAN RESERVE"
         ],
         "xaxis": "x",
         "y": [
          29
         ],
         "yaxis": "y"
        },
        {
         "hovertemplate": "<b>%{hovertext}</b><br><br>product_name=Reserve - Rain Travel Spray<br>Brand=%{x}<br>Price (USD)=%{y}<extra></extra>",
         "hovertext": [
          "Reserve - Rain Travel Spray"
         ],
         "legendgroup": "Reserve - Rain Travel Spray",
         "marker": {
          "color": "#FF97FF",
          "opacity": 0.7,
          "symbol": "circle"
         },
         "mode": "markers",
         "name": "Reserve - Rain Travel Spray",
         "orientation": "v",
         "showlegend": true,
         "type": "scatter",
         "x": [
          "CLEAN RESERVE"
         ],
         "xaxis": "x",
         "y": [
          29
         ],
         "yaxis": "y"
        },
        {
         "hovertemplate": "<b>%{hovertext}</b><br><br>product_name=Reserve - Sparkling Sugar<br>Brand=%{x}<br>Price (USD)=%{y}<extra></extra>",
         "hovertext": [
          "Reserve - Sparkling Sugar"
         ],
         "legendgroup": "Reserve - Sparkling Sugar",
         "marker": {
          "color": "#FECB52",
          "opacity": 0.7,
          "symbol": "circle"
         },
         "mode": "markers",
         "name": "Reserve - Sparkling Sugar",
         "orientation": "v",
         "showlegend": true,
         "type": "scatter",
         "x": [
          "CLEAN RESERVE"
         ],
         "xaxis": "x",
         "y": [
          110
         ],
         "yaxis": "y"
        },
        {
         "hovertemplate": "<b>%{hovertext}</b><br><br>product_name=Reserve - Warm Cotton Travel Spray<br>Brand=%{x}<br>Price (USD)=%{y}<extra></extra>",
         "hovertext": [
          "Reserve - Warm Cotton Travel Spray"
         ],
         "legendgroup": "Reserve - Warm Cotton Travel Spray",
         "marker": {
          "color": "#636efa",
          "opacity": 0.7,
          "symbol": "circle"
         },
         "mode": "markers",
         "name": "Reserve - Warm Cotton Travel Spray",
         "orientation": "v",
         "showlegend": true,
         "type": "scatter",
         "x": [
          "CLEAN RESERVE"
         ],
         "xaxis": "x",
         "y": [
          29
         ],
         "yaxis": "y"
        },
        {
         "hovertemplate": "<b>%{hovertext}</b><br><br>product_name=Reserve - Sparkling Sugar Travel Spray<br>Brand=%{x}<br>Price (USD)=%{y}<extra></extra>",
         "hovertext": [
          "Reserve - Sparkling Sugar Travel Spray"
         ],
         "legendgroup": "Reserve - Sparkling Sugar Travel Spray",
         "marker": {
          "color": "#EF553B",
          "opacity": 0.7,
          "symbol": "circle"
         },
         "mode": "markers",
         "name": "Reserve - Sparkling Sugar Travel Spray",
         "orientation": "v",
         "showlegend": true,
         "type": "scatter",
         "x": [
          "CLEAN RESERVE"
         ],
         "xaxis": "x",
         "y": [
          29
         ],
         "yaxis": "y"
        },
        {
         "hovertemplate": "<b>%{hovertext}</b><br><br>product_name=Reserve - Warm Cotton<br>Brand=%{x}<br>Price (USD)=%{y}<extra></extra>",
         "hovertext": [
          "Reserve - Warm Cotton"
         ],
         "legendgroup": "Reserve - Warm Cotton",
         "marker": {
          "color": "#00cc96",
          "opacity": 0.7,
          "symbol": "circle"
         },
         "mode": "markers",
         "name": "Reserve - Warm Cotton",
         "orientation": "v",
         "showlegend": true,
         "type": "scatter",
         "x": [
          "CLEAN RESERVE"
         ],
         "xaxis": "x",
         "y": [
          110
         ],
         "yaxis": "y"
        },
        {
         "hovertemplate": "<b>%{hovertext}</b><br><br>product_name=Reserve - Lush Fleur<br>Brand=%{x}<br>Price (USD)=%{y}<extra></extra>",
         "hovertext": [
          "Reserve - Lush Fleur"
         ],
         "legendgroup": "Reserve - Lush Fleur",
         "marker": {
          "color": "#ab63fa",
          "opacity": 0.7,
          "symbol": "circle"
         },
         "mode": "markers",
         "name": "Reserve - Lush Fleur",
         "orientation": "v",
         "showlegend": true,
         "type": "scatter",
         "x": [
          "CLEAN RESERVE"
         ],
         "xaxis": "x",
         "y": [
          110
         ],
         "yaxis": "y"
        },
        {
         "hovertemplate": "<b>%{hovertext}</b><br><br>product_name=Reserve - Sel Santal<br>Brand=%{x}<br>Price (USD)=%{y}<extra></extra>",
         "hovertext": [
          "Reserve - Sel Santal"
         ],
         "legendgroup": "Reserve - Sel Santal",
         "marker": {
          "color": "#FFA15A",
          "opacity": 0.7,
          "symbol": "circle"
         },
         "mode": "markers",
         "name": "Reserve - Sel Santal",
         "orientation": "v",
         "showlegend": true,
         "type": "scatter",
         "x": [
          "CLEAN RESERVE"
         ],
         "xaxis": "x",
         "y": [
          110
         ],
         "yaxis": "y"
        },
        {
         "hovertemplate": "<b>%{hovertext}</b><br><br>product_name=Reserve - Solar Bloom<br>Brand=%{x}<br>Price (USD)=%{y}<extra></extra>",
         "hovertext": [
          "Reserve - Solar Bloom"
         ],
         "legendgroup": "Reserve - Solar Bloom",
         "marker": {
          "color": "#19d3f3",
          "opacity": 0.7,
          "symbol": "circle"
         },
         "mode": "markers",
         "name": "Reserve - Solar Bloom",
         "orientation": "v",
         "showlegend": true,
         "type": "scatter",
         "x": [
          "CLEAN RESERVE"
         ],
         "xaxis": "x",
         "y": [
          110
         ],
         "yaxis": "y"
        },
        {
         "hovertemplate": "<b>%{hovertext}</b><br><br>product_name=Reserve - Lush Fleur Travel Spray<br>Brand=%{x}<br>Price (USD)=%{y}<extra></extra>",
         "hovertext": [
          "Reserve - Lush Fleur Travel Spray"
         ],
         "legendgroup": "Reserve - Lush Fleur Travel Spray",
         "marker": {
          "color": "#FF6692",
          "opacity": 0.7,
          "symbol": "circle"
         },
         "mode": "markers",
         "name": "Reserve - Lush Fleur Travel Spray",
         "orientation": "v",
         "showlegend": true,
         "type": "scatter",
         "x": [
          "CLEAN RESERVE"
         ],
         "xaxis": "x",
         "y": [
          29
         ],
         "yaxis": "y"
        },
        {
         "hovertemplate": "<b>%{hovertext}</b><br><br>product_name=Reserve - Sel Santal Travel Spray<br>Brand=%{x}<br>Price (USD)=%{y}<extra></extra>",
         "hovertext": [
          "Reserve - Sel Santal Travel Spray"
         ],
         "legendgroup": "Reserve - Sel Santal Travel Spray",
         "marker": {
          "color": "#B6E880",
          "opacity": 0.7,
          "symbol": "circle"
         },
         "mode": "markers",
         "name": "Reserve - Sel Santal Travel Spray",
         "orientation": "v",
         "showlegend": true,
         "type": "scatter",
         "x": [
          "CLEAN RESERVE"
         ],
         "xaxis": "x",
         "y": [
          29
         ],
         "yaxis": "y"
        },
        {
         "hovertemplate": "<b>%{hovertext}</b><br><br>product_name=Gold Expressive Travel Spray<br>Brand=%{x}<br>Price (USD)=%{y}<extra></extra>",
         "hovertext": [
          "Gold Expressive Travel Spray"
         ],
         "legendgroup": "Gold Expressive Travel Spray",
         "marker": {
          "color": "#FF97FF",
          "opacity": 0.7,
          "symbol": "circle"
         },
         "mode": "markers",
         "name": "Gold Expressive Travel Spray",
         "orientation": "v",
         "showlegend": true,
         "type": "scatter",
         "x": [
          "Commodity"
         ],
         "xaxis": "x",
         "y": [
          25
         ],
         "yaxis": "y"
        },
        {
         "hovertemplate": "<b>%{hovertext}</b><br><br>product_name=Gold Expressive<br>Brand=%{x}<br>Price (USD)=%{y}<extra></extra>",
         "hovertext": [
          "Gold Expressive"
         ],
         "legendgroup": "Gold Expressive",
         "marker": {
          "color": "#FECB52",
          "opacity": 0.7,
          "symbol": "circle"
         },
         "mode": "markers",
         "name": "Gold Expressive",
         "orientation": "v",
         "showlegend": true,
         "type": "scatter",
         "x": [
          "Commodity"
         ],
         "xaxis": "x",
         "y": [
          135
         ],
         "yaxis": "y"
        },
        {
         "hovertemplate": "<b>%{hovertext}</b><br><br>product_name=Milk Expressive Travel Spray<br>Brand=%{x}<br>Price (USD)=%{y}<extra></extra>",
         "hovertext": [
          "Milk Expressive Travel Spray"
         ],
         "legendgroup": "Milk Expressive Travel Spray",
         "marker": {
          "color": "#636efa",
          "opacity": 0.7,
          "symbol": "circle"
         },
         "mode": "markers",
         "name": "Milk Expressive Travel Spray",
         "orientation": "v",
         "showlegend": true,
         "type": "scatter",
         "x": [
          "Commodity"
         ],
         "xaxis": "x",
         "y": [
          25
         ],
         "yaxis": "y"
        },
        {
         "hovertemplate": "<b>%{hovertext}</b><br><br>product_name=Milk Expressive<br>Brand=%{x}<br>Price (USD)=%{y}<extra></extra>",
         "hovertext": [
          "Milk Expressive"
         ],
         "legendgroup": "Milk Expressive",
         "marker": {
          "color": "#EF553B",
          "opacity": 0.7,
          "symbol": "circle"
         },
         "mode": "markers",
         "name": "Milk Expressive",
         "orientation": "v",
         "showlegend": true,
         "type": "scatter",
         "x": [
          "Commodity"
         ],
         "xaxis": "x",
         "y": [
          135
         ],
         "yaxis": "y"
        },
        {
         "hovertemplate": "<b>%{hovertext}</b><br><br>product_name=Book Expressive Travel Spray<br>Brand=%{x}<br>Price (USD)=%{y}<extra></extra>",
         "hovertext": [
          "Book Expressive Travel Spray"
         ],
         "legendgroup": "Book Expressive Travel Spray",
         "marker": {
          "color": "#00cc96",
          "opacity": 0.7,
          "symbol": "circle"
         },
         "mode": "markers",
         "name": "Book Expressive Travel Spray",
         "orientation": "v",
         "showlegend": true,
         "type": "scatter",
         "x": [
          "Commodity"
         ],
         "xaxis": "x",
         "y": [
          25
         ],
         "yaxis": "y"
        },
        {
         "hovertemplate": "<b>%{hovertext}</b><br><br>product_name=Rain<br>Brand=%{x}<br>Price (USD)=%{y}<extra></extra>",
         "hovertext": [
          "Rain"
         ],
         "legendgroup": "Rain",
         "marker": {
          "color": "#ab63fa",
          "opacity": 0.7,
          "symbol": "circle"
         },
         "mode": "markers",
         "name": "Rain",
         "orientation": "v",
         "showlegend": true,
         "type": "scatter",
         "x": [
          "Commodity"
         ],
         "xaxis": "x",
         "y": [
          135
         ],
         "yaxis": "y"
        },
        {
         "hovertemplate": "<b>%{hovertext}</b><br><br>product_name=Book Expressive<br>Brand=%{x}<br>Price (USD)=%{y}<extra></extra>",
         "hovertext": [
          "Book Expressive"
         ],
         "legendgroup": "Book Expressive",
         "marker": {
          "color": "#FFA15A",
          "opacity": 0.7,
          "symbol": "circle"
         },
         "mode": "markers",
         "name": "Book Expressive",
         "orientation": "v",
         "showlegend": true,
         "type": "scatter",
         "x": [
          "Commodity"
         ],
         "xaxis": "x",
         "y": [
          135
         ],
         "yaxis": "y"
        },
        {
         "hovertemplate": "<b>%{hovertext}</b><br><br>product_name=Milk- Personal Travel Spray<br>Brand=%{x}<br>Price (USD)=%{y}<extra></extra>",
         "hovertext": [
          "Milk- Personal Travel Spray"
         ],
         "legendgroup": "Milk- Personal Travel Spray",
         "marker": {
          "color": "#19d3f3",
          "opacity": 0.7,
          "symbol": "circle"
         },
         "mode": "markers",
         "name": "Milk- Personal Travel Spray",
         "orientation": "v",
         "showlegend": true,
         "type": "scatter",
         "x": [
          "Commodity"
         ],
         "xaxis": "x",
         "y": [
          25
         ],
         "yaxis": "y"
        },
        {
         "hovertemplate": "<b>%{hovertext}</b><br><br>product_name=Velvet Expressive Travel Spray<br>Brand=%{x}<br>Price (USD)=%{y}<extra></extra>",
         "hovertext": [
          "Velvet Expressive Travel Spray"
         ],
         "legendgroup": "Velvet Expressive Travel Spray",
         "marker": {
          "color": "#FF6692",
          "opacity": 0.7,
          "symbol": "circle"
         },
         "mode": "markers",
         "name": "Velvet Expressive Travel Spray",
         "orientation": "v",
         "showlegend": true,
         "type": "scatter",
         "x": [
          "Commodity"
         ],
         "xaxis": "x",
         "y": [
          25
         ],
         "yaxis": "y"
        },
        {
         "hovertemplate": "<b>%{hovertext}</b><br><br>product_name=Nectar<br>Brand=%{x}<br>Price (USD)=%{y}<extra></extra>",
         "hovertext": [
          "Nectar"
         ],
         "legendgroup": "Nectar",
         "marker": {
          "color": "#B6E880",
          "opacity": 0.7,
          "symbol": "circle"
         },
         "mode": "markers",
         "name": "Nectar",
         "orientation": "v",
         "showlegend": true,
         "type": "scatter",
         "x": [
          "Commodity"
         ],
         "xaxis": "x",
         "y": [
          135
         ],
         "yaxis": "y"
        },
        {
         "hovertemplate": "<b>%{hovertext}</b><br><br>product_name=Milk+ Bold<br>Brand=%{x}<br>Price (USD)=%{y}<extra></extra>",
         "hovertext": [
          "Milk+ Bold"
         ],
         "legendgroup": "Milk+ Bold",
         "marker": {
          "color": "#FF97FF",
          "opacity": 0.7,
          "symbol": "circle"
         },
         "mode": "markers",
         "name": "Milk+ Bold",
         "orientation": "v",
         "showlegend": true,
         "type": "scatter",
         "x": [
          "Commodity"
         ],
         "xaxis": "x",
         "y": [
          135
         ],
         "yaxis": "y"
        },
        {
         "hovertemplate": "<b>%{hovertext}</b><br><br>product_name=Wool<br>Brand=%{x}<br>Price (USD)=%{y}<extra></extra>",
         "hovertext": [
          "Wool"
         ],
         "legendgroup": "Wool",
         "marker": {
          "color": "#FECB52",
          "opacity": 0.7,
          "symbol": "circle"
         },
         "mode": "markers",
         "name": "Wool",
         "orientation": "v",
         "showlegend": true,
         "type": "scatter",
         "x": [
          "Commodity"
         ],
         "xaxis": "x",
         "y": [
          135
         ],
         "yaxis": "y"
        },
        {
         "hovertemplate": "<b>%{hovertext}</b><br><br>product_name=Milk+ Bold Travel Spray<br>Brand=%{x}<br>Price (USD)=%{y}<extra></extra>",
         "hovertext": [
          "Milk+ Bold Travel Spray"
         ],
         "legendgroup": "Milk+ Bold Travel Spray",
         "marker": {
          "color": "#636efa",
          "opacity": 0.7,
          "symbol": "circle"
         },
         "mode": "markers",
         "name": "Milk+ Bold Travel Spray",
         "orientation": "v",
         "showlegend": true,
         "type": "scatter",
         "x": [
          "Commodity"
         ],
         "xaxis": "x",
         "y": [
          25
         ],
         "yaxis": "y"
        },
        {
         "hovertemplate": "<b>%{hovertext}</b><br><br>product_name=Moss Expressive Travel Spray<br>Brand=%{x}<br>Price (USD)=%{y}<extra></extra>",
         "hovertext": [
          "Moss Expressive Travel Spray"
         ],
         "legendgroup": "Moss Expressive Travel Spray",
         "marker": {
          "color": "#EF553B",
          "opacity": 0.7,
          "symbol": "circle"
         },
         "mode": "markers",
         "name": "Moss Expressive Travel Spray",
         "orientation": "v",
         "showlegend": true,
         "type": "scatter",
         "x": [
          "Commodity"
         ],
         "xaxis": "x",
         "y": [
          25
         ],
         "yaxis": "y"
        },
        {
         "hovertemplate": "<b>%{hovertext}</b><br><br>product_name=Velvet Expressive<br>Brand=%{x}<br>Price (USD)=%{y}<extra></extra>",
         "hovertext": [
          "Velvet Expressive"
         ],
         "legendgroup": "Velvet Expressive",
         "marker": {
          "color": "#00cc96",
          "opacity": 0.7,
          "symbol": "circle"
         },
         "mode": "markers",
         "name": "Velvet Expressive",
         "orientation": "v",
         "showlegend": true,
         "type": "scatter",
         "x": [
          "Commodity"
         ],
         "xaxis": "x",
         "y": [
          135
         ],
         "yaxis": "y"
        },
        {
         "hovertemplate": "<b>%{hovertext}</b><br><br>product_name=W*****y<br>Brand=%{x}<br>Price (USD)=%{y}<extra></extra>",
         "hovertext": [
          "W*****y"
         ],
         "legendgroup": "W*****y",
         "marker": {
          "color": "#ab63fa",
          "opacity": 0.7,
          "symbol": "circle"
         },
         "mode": "markers",
         "name": "W*****y",
         "orientation": "v",
         "showlegend": true,
         "type": "scatter",
         "x": [
          "Commodity"
         ],
         "xaxis": "x",
         "y": [
          135
         ],
         "yaxis": "y"
        },
        {
         "hovertemplate": "<b>%{hovertext}</b><br><br>product_name=Mimosa<br>Brand=%{x}<br>Price (USD)=%{y}<extra></extra>",
         "hovertext": [
          "Mimosa"
         ],
         "legendgroup": "Mimosa",
         "marker": {
          "color": "#FFA15A",
          "opacity": 0.7,
          "symbol": "circle"
         },
         "mode": "markers",
         "name": "Mimosa",
         "orientation": "v",
         "showlegend": true,
         "type": "scatter",
         "x": [
          "Commodity"
         ],
         "xaxis": "x",
         "y": [
          135
         ],
         "yaxis": "y"
        },
        {
         "hovertemplate": "<b>%{hovertext}</b><br><br>product_name=Magnolia Eau de Parfum<br>Brand=%{x}<br>Price (USD)=%{y}<extra></extra>",
         "hovertext": [
          "Magnolia Eau de Parfum"
         ],
         "legendgroup": "Magnolia Eau de Parfum",
         "marker": {
          "color": "#19d3f3",
          "opacity": 0.7,
          "symbol": "circle"
         },
         "mode": "markers",
         "name": "Magnolia Eau de Parfum",
         "orientation": "v",
         "showlegend": true,
         "type": "scatter",
         "x": [
          "Commodity"
         ],
         "xaxis": "x",
         "y": [
          135
         ],
         "yaxis": "y"
        },
        {
         "hovertemplate": "<b>%{hovertext}</b><br><br>product_name=Moss Expressive<br>Brand=%{x}<br>Price (USD)=%{y}<extra></extra>",
         "hovertext": [
          "Moss Expressive"
         ],
         "legendgroup": "Moss Expressive",
         "marker": {
          "color": "#FF6692",
          "opacity": 0.7,
          "symbol": "circle"
         },
         "mode": "markers",
         "name": "Moss Expressive",
         "orientation": "v",
         "showlegend": true,
         "type": "scatter",
         "x": [
          "Commodity"
         ],
         "xaxis": "x",
         "y": [
          135
         ],
         "yaxis": "y"
        },
        {
         "hovertemplate": "<b>%{hovertext}</b><br><br>product_name=Milk- Personal<br>Brand=%{x}<br>Price (USD)=%{y}<extra></extra>",
         "hovertext": [
          "Milk- Personal"
         ],
         "legendgroup": "Milk- Personal",
         "marker": {
          "color": "#B6E880",
          "opacity": 0.7,
          "symbol": "circle"
         },
         "mode": "markers",
         "name": "Milk- Personal",
         "orientation": "v",
         "showlegend": true,
         "type": "scatter",
         "x": [
          "Commodity"
         ],
         "xaxis": "x",
         "y": [
          135
         ],
         "yaxis": "y"
        },
        {
         "hovertemplate": "<b>%{hovertext}</b><br><br>product_name=Book - Personal Travel Spray<br>Brand=%{x}<br>Price (USD)=%{y}<extra></extra>",
         "hovertext": [
          "Book - Personal Travel Spray"
         ],
         "legendgroup": "Book - Personal Travel Spray",
         "marker": {
          "color": "#FF97FF",
          "opacity": 0.7,
          "symbol": "circle"
         },
         "mode": "markers",
         "name": "Book - Personal Travel Spray",
         "orientation": "v",
         "showlegend": true,
         "type": "scatter",
         "x": [
          "Commodity"
         ],
         "xaxis": "x",
         "y": [
          25
         ],
         "yaxis": "y"
        },
        {
         "hovertemplate": "<b>%{hovertext}</b><br><br>product_name=Book - Personal<br>Brand=%{x}<br>Price (USD)=%{y}<extra></extra>",
         "hovertext": [
          "Book - Personal"
         ],
         "legendgroup": "Book - Personal",
         "marker": {
          "color": "#FECB52",
          "opacity": 0.7,
          "symbol": "circle"
         },
         "mode": "markers",
         "name": "Book - Personal",
         "orientation": "v",
         "showlegend": true,
         "type": "scatter",
         "x": [
          "Commodity"
         ],
         "xaxis": "x",
         "y": [
          135
         ],
         "yaxis": "y"
        },
        {
         "hovertemplate": "<b>%{hovertext}</b><br><br>product_name=Gold+ Bold<br>Brand=%{x}<br>Price (USD)=%{y}<extra></extra>",
         "hovertext": [
          "Gold+ Bold"
         ],
         "legendgroup": "Gold+ Bold",
         "marker": {
          "color": "#636efa",
          "opacity": 0.7,
          "symbol": "circle"
         },
         "mode": "markers",
         "name": "Gold+ Bold",
         "orientation": "v",
         "showlegend": true,
         "type": "scatter",
         "x": [
          "Commodity"
         ],
         "xaxis": "x",
         "y": [
          135
         ],
         "yaxis": "y"
        },
        {
         "hovertemplate": "<b>%{hovertext}</b><br><br>product_name=Gold- Personal Travel Spray<br>Brand=%{x}<br>Price (USD)=%{y}<extra></extra>",
         "hovertext": [
          "Gold- Personal Travel Spray"
         ],
         "legendgroup": "Gold- Personal Travel Spray",
         "marker": {
          "color": "#EF553B",
          "opacity": 0.7,
          "symbol": "circle"
         },
         "mode": "markers",
         "name": "Gold- Personal Travel Spray",
         "orientation": "v",
         "showlegend": true,
         "type": "scatter",
         "x": [
          "Commodity"
         ],
         "xaxis": "x",
         "y": [
          25
         ],
         "yaxis": "y"
        },
        {
         "hovertemplate": "<b>%{hovertext}</b><br><br>product_name=Velvet+ Bold Travel Spray<br>Brand=%{x}<br>Price (USD)=%{y}<extra></extra>",
         "hovertext": [
          "Velvet+ Bold Travel Spray"
         ],
         "legendgroup": "Velvet+ Bold Travel Spray",
         "marker": {
          "color": "#00cc96",
          "opacity": 0.7,
          "symbol": "circle"
         },
         "mode": "markers",
         "name": "Velvet+ Bold Travel Spray",
         "orientation": "v",
         "showlegend": true,
         "type": "scatter",
         "x": [
          "Commodity"
         ],
         "xaxis": "x",
         "y": [
          25
         ],
         "yaxis": "y"
        },
        {
         "hovertemplate": "<b>%{hovertext}</b><br><br>product_name=Gold- Personal<br>Brand=%{x}<br>Price (USD)=%{y}<extra></extra>",
         "hovertext": [
          "Gold- Personal"
         ],
         "legendgroup": "Gold- Personal",
         "marker": {
          "color": "#ab63fa",
          "opacity": 0.7,
          "symbol": "circle"
         },
         "mode": "markers",
         "name": "Gold- Personal",
         "orientation": "v",
         "showlegend": true,
         "type": "scatter",
         "x": [
          "Commodity"
         ],
         "xaxis": "x",
         "y": [
          135
         ],
         "yaxis": "y"
        },
        {
         "hovertemplate": "<b>%{hovertext}</b><br><br>product_name=Gold+ Bold Travel Spray<br>Brand=%{x}<br>Price (USD)=%{y}<extra></extra>",
         "hovertext": [
          "Gold+ Bold Travel Spray"
         ],
         "legendgroup": "Gold+ Bold Travel Spray",
         "marker": {
          "color": "#FFA15A",
          "opacity": 0.7,
          "symbol": "circle"
         },
         "mode": "markers",
         "name": "Gold+ Bold Travel Spray",
         "orientation": "v",
         "showlegend": true,
         "type": "scatter",
         "x": [
          "Commodity"
         ],
         "xaxis": "x",
         "y": [
          25
         ],
         "yaxis": "y"
        },
        {
         "hovertemplate": "<b>%{hovertext}</b><br><br>product_name=Moss+ Bold Travel Spray<br>Brand=%{x}<br>Price (USD)=%{y}<extra></extra>",
         "hovertext": [
          "Moss+ Bold Travel Spray"
         ],
         "legendgroup": "Moss+ Bold Travel Spray",
         "marker": {
          "color": "#19d3f3",
          "opacity": 0.7,
          "symbol": "circle"
         },
         "mode": "markers",
         "name": "Moss+ Bold Travel Spray",
         "orientation": "v",
         "showlegend": true,
         "type": "scatter",
         "x": [
          "Commodity"
         ],
         "xaxis": "x",
         "y": [
          25
         ],
         "yaxis": "y"
        },
        {
         "hovertemplate": "<b>%{hovertext}</b><br><br>product_name=Paper- Personal Travel Spray<br>Brand=%{x}<br>Price (USD)=%{y}<extra></extra>",
         "hovertext": [
          "Paper- Personal Travel Spray"
         ],
         "legendgroup": "Paper- Personal Travel Spray",
         "marker": {
          "color": "#FF6692",
          "opacity": 0.7,
          "symbol": "circle"
         },
         "mode": "markers",
         "name": "Paper- Personal Travel Spray",
         "orientation": "v",
         "showlegend": true,
         "type": "scatter",
         "x": [
          "Commodity"
         ],
         "xaxis": "x",
         "y": [
          25
         ],
         "yaxis": "y"
        },
        {
         "hovertemplate": "<b>%{hovertext}</b><br><br>product_name=Velvet- Personal<br>Brand=%{x}<br>Price (USD)=%{y}<extra></extra>",
         "hovertext": [
          "Velvet- Personal"
         ],
         "legendgroup": "Velvet- Personal",
         "marker": {
          "color": "#B6E880",
          "opacity": 0.7,
          "symbol": "circle"
         },
         "mode": "markers",
         "name": "Velvet- Personal",
         "orientation": "v",
         "showlegend": true,
         "type": "scatter",
         "x": [
          "Commodity"
         ],
         "xaxis": "x",
         "y": [
          135
         ],
         "yaxis": "y"
        },
        {
         "hovertemplate": "<b>%{hovertext}</b><br><br>product_name=Book+ Bold Travel Spray<br>Brand=%{x}<br>Price (USD)=%{y}<extra></extra>",
         "hovertext": [
          "Book+ Bold Travel Spray"
         ],
         "legendgroup": "Book+ Bold Travel Spray",
         "marker": {
          "color": "#FF97FF",
          "opacity": 0.7,
          "symbol": "circle"
         },
         "mode": "markers",
         "name": "Book+ Bold Travel Spray",
         "orientation": "v",
         "showlegend": true,
         "type": "scatter",
         "x": [
          "Commodity"
         ],
         "xaxis": "x",
         "y": [
          25
         ],
         "yaxis": "y"
        },
        {
         "hovertemplate": "<b>%{hovertext}</b><br><br>product_name=Moss+ Bold<br>Brand=%{x}<br>Price (USD)=%{y}<extra></extra>",
         "hovertext": [
          "Moss+ Bold"
         ],
         "legendgroup": "Moss+ Bold",
         "marker": {
          "color": "#FECB52",
          "opacity": 0.7,
          "symbol": "circle"
         },
         "mode": "markers",
         "name": "Moss+ Bold",
         "orientation": "v",
         "showlegend": true,
         "type": "scatter",
         "x": [
          "Commodity"
         ],
         "xaxis": "x",
         "y": [
          135
         ],
         "yaxis": "y"
        },
        {
         "hovertemplate": "<b>%{hovertext}</b><br><br>product_name=Paper- Personal<br>Brand=%{x}<br>Price (USD)=%{y}<extra></extra>",
         "hovertext": [
          "Paper- Personal"
         ],
         "legendgroup": "Paper- Personal",
         "marker": {
          "color": "#636efa",
          "opacity": 0.7,
          "symbol": "circle"
         },
         "mode": "markers",
         "name": "Paper- Personal",
         "orientation": "v",
         "showlegend": true,
         "type": "scatter",
         "x": [
          "Commodity"
         ],
         "xaxis": "x",
         "y": [
          135
         ],
         "yaxis": "y"
        },
        {
         "hovertemplate": "<b>%{hovertext}</b><br><br>product_name=Moss- Personal Travel Spray<br>Brand=%{x}<br>Price (USD)=%{y}<extra></extra>",
         "hovertext": [
          "Moss- Personal Travel Spray"
         ],
         "legendgroup": "Moss- Personal Travel Spray",
         "marker": {
          "color": "#EF553B",
          "opacity": 0.7,
          "symbol": "circle"
         },
         "mode": "markers",
         "name": "Moss- Personal Travel Spray",
         "orientation": "v",
         "showlegend": true,
         "type": "scatter",
         "x": [
          "Commodity"
         ],
         "xaxis": "x",
         "y": [
          25
         ],
         "yaxis": "y"
        },
        {
         "hovertemplate": "<b>%{hovertext}</b><br><br>product_name=Velvet+ Bold<br>Brand=%{x}<br>Price (USD)=%{y}<extra></extra>",
         "hovertext": [
          "Velvet+ Bold"
         ],
         "legendgroup": "Velvet+ Bold",
         "marker": {
          "color": "#00cc96",
          "opacity": 0.7,
          "symbol": "circle"
         },
         "mode": "markers",
         "name": "Velvet+ Bold",
         "orientation": "v",
         "showlegend": true,
         "type": "scatter",
         "x": [
          "Commodity"
         ],
         "xaxis": "x",
         "y": [
          135
         ],
         "yaxis": "y"
        },
        {
         "hovertemplate": "<b>%{hovertext}</b><br><br>product_name=Paper Expressive Travel Spray<br>Brand=%{x}<br>Price (USD)=%{y}<extra></extra>",
         "hovertext": [
          "Paper Expressive Travel Spray"
         ],
         "legendgroup": "Paper Expressive Travel Spray",
         "marker": {
          "color": "#ab63fa",
          "opacity": 0.7,
          "symbol": "circle"
         },
         "mode": "markers",
         "name": "Paper Expressive Travel Spray",
         "orientation": "v",
         "showlegend": true,
         "type": "scatter",
         "x": [
          "Commodity"
         ],
         "xaxis": "x",
         "y": [
          25
         ],
         "yaxis": "y"
        },
        {
         "hovertemplate": "<b>%{hovertext}</b><br><br>product_name=Velvet- Personal Travel Spray<br>Brand=%{x}<br>Price (USD)=%{y}<extra></extra>",
         "hovertext": [
          "Velvet- Personal Travel Spray"
         ],
         "legendgroup": "Velvet- Personal Travel Spray",
         "marker": {
          "color": "#FFA15A",
          "opacity": 0.7,
          "symbol": "circle"
         },
         "mode": "markers",
         "name": "Velvet- Personal Travel Spray",
         "orientation": "v",
         "showlegend": true,
         "type": "scatter",
         "x": [
          "Commodity"
         ],
         "xaxis": "x",
         "y": [
          25
         ],
         "yaxis": "y"
        },
        {
         "hovertemplate": "<b>%{hovertext}</b><br><br>product_name=Paper+ Bold<br>Brand=%{x}<br>Price (USD)=%{y}<extra></extra>",
         "hovertext": [
          "Paper+ Bold"
         ],
         "legendgroup": "Paper+ Bold",
         "marker": {
          "color": "#19d3f3",
          "opacity": 0.7,
          "symbol": "circle"
         },
         "mode": "markers",
         "name": "Paper+ Bold",
         "orientation": "v",
         "showlegend": true,
         "type": "scatter",
         "x": [
          "Commodity"
         ],
         "xaxis": "x",
         "y": [
          135
         ],
         "yaxis": "y"
        },
        {
         "hovertemplate": "<b>%{hovertext}</b><br><br>product_name=Book+ Bold<br>Brand=%{x}<br>Price (USD)=%{y}<extra></extra>",
         "hovertext": [
          "Book+ Bold"
         ],
         "legendgroup": "Book+ Bold",
         "marker": {
          "color": "#FF6692",
          "opacity": 0.7,
          "symbol": "circle"
         },
         "mode": "markers",
         "name": "Book+ Bold",
         "orientation": "v",
         "showlegend": true,
         "type": "scatter",
         "x": [
          "Commodity"
         ],
         "xaxis": "x",
         "y": [
          135
         ],
         "yaxis": "y"
        },
        {
         "hovertemplate": "<b>%{hovertext}</b><br><br>product_name=Paper+ Bold Travel Spray<br>Brand=%{x}<br>Price (USD)=%{y}<extra></extra>",
         "hovertext": [
          "Paper+ Bold Travel Spray"
         ],
         "legendgroup": "Paper+ Bold Travel Spray",
         "marker": {
          "color": "#B6E880",
          "opacity": 0.7,
          "symbol": "circle"
         },
         "mode": "markers",
         "name": "Paper+ Bold Travel Spray",
         "orientation": "v",
         "showlegend": true,
         "type": "scatter",
         "x": [
          "Commodity"
         ],
         "xaxis": "x",
         "y": [
          25
         ],
         "yaxis": "y"
        },
        {
         "hovertemplate": "<b>%{hovertext}</b><br><br>product_name=Moss- Personal<br>Brand=%{x}<br>Price (USD)=%{y}<extra></extra>",
         "hovertext": [
          "Moss- Personal"
         ],
         "legendgroup": "Moss- Personal",
         "marker": {
          "color": "#FF97FF",
          "opacity": 0.7,
          "symbol": "circle"
         },
         "mode": "markers",
         "name": "Moss- Personal",
         "orientation": "v",
         "showlegend": true,
         "type": "scatter",
         "x": [
          "Commodity"
         ],
         "xaxis": "x",
         "y": [
          135
         ],
         "yaxis": "y"
        },
        {
         "hovertemplate": "<b>%{hovertext}</b><br><br>product_name=01 \"Taunt\" Eau de Parfum Travel Spray<br>Brand=%{x}<br>Price (USD)=%{y}<extra></extra>",
         "hovertext": [
          "01 \"Taunt\" Eau de Parfum Travel Spray"
         ],
         "legendgroup": "01 \"Taunt\" Eau de Parfum Travel Spray",
         "marker": {
          "color": "#FECB52",
          "opacity": 0.7,
          "symbol": "circle"
         },
         "mode": "markers",
         "name": "01 \"Taunt\" Eau de Parfum Travel Spray",
         "orientation": "v",
         "showlegend": true,
         "type": "scatter",
         "x": [
          "DedCool"
         ],
         "xaxis": "x",
         "y": [
          30
         ],
         "yaxis": "y"
        },
        {
         "hovertemplate": "<b>%{hovertext}</b><br><br>product_name=Milk Eau de Parfum Travel Spray<br>Brand=%{x}<br>Price (USD)=%{y}<extra></extra>",
         "hovertext": [
          "Milk Eau de Parfum Travel Spray"
         ],
         "legendgroup": "Milk Eau de Parfum Travel Spray",
         "marker": {
          "color": "#636efa",
          "opacity": 0.7,
          "symbol": "circle"
         },
         "mode": "markers",
         "name": "Milk Eau de Parfum Travel Spray",
         "orientation": "v",
         "showlegend": true,
         "type": "scatter",
         "x": [
          "DedCool"
         ],
         "xaxis": "x",
         "y": [
          30
         ],
         "yaxis": "y"
        },
        {
         "hovertemplate": "<b>%{hovertext}</b><br><br>product_name=01 \"Taunt\" Eau de Parfum<br>Brand=%{x}<br>Price (USD)=%{y}<extra></extra>",
         "hovertext": [
          "01 \"Taunt\" Eau de Parfum"
         ],
         "legendgroup": "01 \"Taunt\" Eau de Parfum",
         "marker": {
          "color": "#EF553B",
          "opacity": 0.7,
          "symbol": "circle"
         },
         "mode": "markers",
         "name": "01 \"Taunt\" Eau de Parfum",
         "orientation": "v",
         "showlegend": true,
         "type": "scatter",
         "x": [
          "DedCool"
         ],
         "xaxis": "x",
         "y": [
          90
         ],
         "yaxis": "y"
        },
        {
         "hovertemplate": "<b>%{hovertext}</b><br><br>product_name=Dedtergent 01 \"Taunt\"<br>Brand=%{x}<br>Price (USD)=%{y}<extra></extra>",
         "hovertext": [
          "Dedtergent 01 \"Taunt\""
         ],
         "legendgroup": "Dedtergent 01 \"Taunt\"",
         "marker": {
          "color": "#00cc96",
          "opacity": 0.7,
          "symbol": "circle"
         },
         "mode": "markers",
         "name": "Dedtergent 01 \"Taunt\"",
         "orientation": "v",
         "showlegend": true,
         "type": "scatter",
         "x": [
          "DedCool"
         ],
         "xaxis": "x",
         "y": [
          35
         ],
         "yaxis": "y"
        },
        {
         "hovertemplate": "<b>%{hovertext}</b><br><br>product_name=Milk Eau de Parfum<br>Brand=%{x}<br>Price (USD)=%{y}<extra></extra>",
         "hovertext": [
          "Milk Eau de Parfum"
         ],
         "legendgroup": "Milk Eau de Parfum",
         "marker": {
          "color": "#ab63fa",
          "opacity": 0.7,
          "symbol": "circle"
         },
         "mode": "markers",
         "name": "Milk Eau de Parfum",
         "orientation": "v",
         "showlegend": true,
         "type": "scatter",
         "x": [
          "DedCool"
         ],
         "xaxis": "x",
         "y": [
          90
         ],
         "yaxis": "y"
        },
        {
         "hovertemplate": "<b>%{hovertext}</b><br><br>product_name=Red Dakota Eau de Parfum Travel Spray<br>Brand=%{x}<br>Price (USD)=%{y}<extra></extra>",
         "hovertext": [
          "Red Dakota Eau de Parfum Travel Spray"
         ],
         "legendgroup": "Red Dakota Eau de Parfum Travel Spray",
         "marker": {
          "color": "#FFA15A",
          "opacity": 0.7,
          "symbol": "circle"
         },
         "mode": "markers",
         "name": "Red Dakota Eau de Parfum Travel Spray",
         "orientation": "v",
         "showlegend": true,
         "type": "scatter",
         "x": [
          "DedCool"
         ],
         "xaxis": "x",
         "y": [
          30
         ],
         "yaxis": "y"
        },
        {
         "hovertemplate": "<b>%{hovertext}</b><br><br>product_name=03 \"Blonde\" Eau de Parfum Travel Spray<br>Brand=%{x}<br>Price (USD)=%{y}<extra></extra>",
         "hovertext": [
          "03 \"Blonde\" Eau de Parfum Travel Spray"
         ],
         "legendgroup": "03 \"Blonde\" Eau de Parfum Travel Spray",
         "marker": {
          "color": "#19d3f3",
          "opacity": 0.7,
          "symbol": "circle"
         },
         "mode": "markers",
         "name": "03 \"Blonde\" Eau de Parfum Travel Spray",
         "orientation": "v",
         "showlegend": true,
         "type": "scatter",
         "x": [
          "DedCool"
         ],
         "xaxis": "x",
         "y": [
          30
         ],
         "yaxis": "y"
        },
        {
         "hovertemplate": "<b>%{hovertext}</b><br><br>product_name=Red Dakota Eau de Parfum<br>Brand=%{x}<br>Price (USD)=%{y}<extra></extra>",
         "hovertext": [
          "Red Dakota Eau de Parfum"
         ],
         "legendgroup": "Red Dakota Eau de Parfum",
         "marker": {
          "color": "#FF6692",
          "opacity": 0.7,
          "symbol": "circle"
         },
         "mode": "markers",
         "name": "Red Dakota Eau de Parfum",
         "orientation": "v",
         "showlegend": true,
         "type": "scatter",
         "x": [
          "DedCool"
         ],
         "xaxis": "x",
         "y": [
          90
         ],
         "yaxis": "y"
        },
        {
         "hovertemplate": "<b>%{hovertext}</b><br><br>product_name=Madonna Lilly Eau de Parfum Travel Spray<br>Brand=%{x}<br>Price (USD)=%{y}<extra></extra>",
         "hovertext": [
          "Madonna Lilly Eau de Parfum Travel Spray"
         ],
         "legendgroup": "Madonna Lilly Eau de Parfum Travel Spray",
         "marker": {
          "color": "#B6E880",
          "opacity": 0.7,
          "symbol": "circle"
         },
         "mode": "markers",
         "name": "Madonna Lilly Eau de Parfum Travel Spray",
         "orientation": "v",
         "showlegend": true,
         "type": "scatter",
         "x": [
          "DedCool"
         ],
         "xaxis": "x",
         "y": [
          30
         ],
         "yaxis": "y"
        },
        {
         "hovertemplate": "<b>%{hovertext}</b><br><br>product_name=02 Eau de Parfum Travel Spray<br>Brand=%{x}<br>Price (USD)=%{y}<extra></extra>",
         "hovertext": [
          "02 Eau de Parfum Travel Spray"
         ],
         "legendgroup": "02 Eau de Parfum Travel Spray",
         "marker": {
          "color": "#FF97FF",
          "opacity": 0.7,
          "symbol": "circle"
         },
         "mode": "markers",
         "name": "02 Eau de Parfum Travel Spray",
         "orientation": "v",
         "showlegend": true,
         "type": "scatter",
         "x": [
          "DedCool"
         ],
         "xaxis": "x",
         "y": [
          30
         ],
         "yaxis": "y"
        },
        {
         "hovertemplate": "<b>%{hovertext}</b><br><br>product_name=03 \"Blonde\" Eau de Parfum<br>Brand=%{x}<br>Price (USD)=%{y}<extra></extra>",
         "hovertext": [
          "03 \"Blonde\" Eau de Parfum"
         ],
         "legendgroup": "03 \"Blonde\" Eau de Parfum",
         "marker": {
          "color": "#FECB52",
          "opacity": 0.7,
          "symbol": "circle"
         },
         "mode": "markers",
         "name": "03 \"Blonde\" Eau de Parfum",
         "orientation": "v",
         "showlegend": true,
         "type": "scatter",
         "x": [
          "DedCool"
         ],
         "xaxis": "x",
         "y": [
          90
         ],
         "yaxis": "y"
        },
        {
         "hovertemplate": "<b>%{hovertext}</b><br><br>product_name=Madonna Lilly Eau de Parfum<br>Brand=%{x}<br>Price (USD)=%{y}<extra></extra>",
         "hovertext": [
          "Madonna Lilly Eau de Parfum"
         ],
         "legendgroup": "Madonna Lilly Eau de Parfum",
         "marker": {
          "color": "#636efa",
          "opacity": 0.7,
          "symbol": "circle"
         },
         "mode": "markers",
         "name": "Madonna Lilly Eau de Parfum",
         "orientation": "v",
         "showlegend": true,
         "type": "scatter",
         "x": [
          "DedCool"
         ],
         "xaxis": "x",
         "y": [
          90
         ],
         "yaxis": "y"
        },
        {
         "hovertemplate": "<b>%{hovertext}</b><br><br>product_name=02 Eau de Parfum<br>Brand=%{x}<br>Price (USD)=%{y}<extra></extra>",
         "hovertext": [
          "02 Eau de Parfum"
         ],
         "legendgroup": "02 Eau de Parfum",
         "marker": {
          "color": "#EF553B",
          "opacity": 0.7,
          "symbol": "circle"
         },
         "mode": "markers",
         "name": "02 Eau de Parfum",
         "orientation": "v",
         "showlegend": true,
         "type": "scatter",
         "x": [
          "DedCool"
         ],
         "xaxis": "x",
         "y": [
          90
         ],
         "yaxis": "y"
        },
        {
         "hovertemplate": "<b>%{hovertext}</b><br><br>product_name=Miss Dior Eau de Parfum<br>Brand=%{x}<br>Price (USD)=%{y}<extra></extra>",
         "hovertext": [
          "Miss Dior Eau de Parfum"
         ],
         "legendgroup": "Miss Dior Eau de Parfum",
         "marker": {
          "color": "#00cc96",
          "opacity": 0.7,
          "symbol": "circle"
         },
         "mode": "markers",
         "name": "Miss Dior Eau de Parfum",
         "orientation": "v",
         "showlegend": true,
         "type": "scatter",
         "x": [
          "Dior"
         ],
         "xaxis": "x",
         "y": [
          160
         ],
         "yaxis": "y"
        },
        {
         "hovertemplate": "<b>%{hovertext}</b><br><br>product_name=Sauvage Eau de Toilette<br>Brand=%{x}<br>Price (USD)=%{y}<extra></extra>",
         "hovertext": [
          "Sauvage Eau de Toilette"
         ],
         "legendgroup": "Sauvage Eau de Toilette",
         "marker": {
          "color": "#ab63fa",
          "opacity": 0.7,
          "symbol": "circle"
         },
         "mode": "markers",
         "name": "Sauvage Eau de Toilette",
         "orientation": "v",
         "showlegend": true,
         "type": "scatter",
         "x": [
          "Dior"
         ],
         "xaxis": "x",
         "y": [
          100
         ],
         "yaxis": "y"
        },
        {
         "hovertemplate": "<b>%{hovertext}</b><br><br>product_name=Miss Dior Eau de Parfum Roller-Pearl<br>Brand=%{x}<br>Price (USD)=%{y}<extra></extra>",
         "hovertext": [
          "Miss Dior Eau de Parfum Roller-Pearl"
         ],
         "legendgroup": "Miss Dior Eau de Parfum Roller-Pearl",
         "marker": {
          "color": "#FFA15A",
          "opacity": 0.7,
          "symbol": "circle"
         },
         "mode": "markers",
         "name": "Miss Dior Eau de Parfum Roller-Pearl",
         "orientation": "v",
         "showlegend": true,
         "type": "scatter",
         "x": [
          "Dior"
         ],
         "xaxis": "x",
         "y": [
          55
         ],
         "yaxis": "y"
        },
        {
         "hovertemplate": "<b>%{hovertext}</b><br><br>product_name=Dolce Lily Eau De Toilette<br>Brand=%{x}<br>Price (USD)=%{y}<extra></extra>",
         "hovertext": [
          "Dolce Lily Eau De Toilette"
         ],
         "legendgroup": "Dolce Lily Eau De Toilette",
         "marker": {
          "color": "#19d3f3",
          "opacity": 0.7,
          "symbol": "circle"
         },
         "mode": "markers",
         "name": "Dolce Lily Eau De Toilette",
         "orientation": "v",
         "showlegend": true,
         "type": "scatter",
         "x": [
          "Dolce&Gabbana"
         ],
         "xaxis": "x",
         "y": [
          82
         ],
         "yaxis": "y"
        },
        {
         "hovertemplate": "<b>%{hovertext}</b><br><br>product_name=MYTH Eau de Parfum<br>Brand=%{x}<br>Price (USD)=%{y}<extra></extra>",
         "hovertext": [
          "MYTH Eau de Parfum"
         ],
         "legendgroup": "MYTH Eau de Parfum",
         "marker": {
          "color": "#FF6692",
          "opacity": 0.7,
          "symbol": "circle"
         },
         "mode": "markers",
         "name": "MYTH Eau de Parfum",
         "orientation": "v",
         "showlegend": true,
         "type": "scatter",
         "x": [
          "Ellis Brooklyn"
         ],
         "xaxis": "x",
         "y": [
          108
         ],
         "yaxis": "y"
        },
        {
         "hovertemplate": "<b>%{hovertext}</b><br><br>product_name=SALT Eau de Parfum<br>Brand=%{x}<br>Price (USD)=%{y}<extra></extra>",
         "hovertext": [
          "SALT Eau de Parfum"
         ],
         "legendgroup": "SALT Eau de Parfum",
         "marker": {
          "color": "#B6E880",
          "opacity": 0.7,
          "symbol": "circle"
         },
         "mode": "markers",
         "name": "SALT Eau de Parfum",
         "orientation": "v",
         "showlegend": true,
         "type": "scatter",
         "x": [
          "Ellis Brooklyn"
         ],
         "xaxis": "x",
         "y": [
          108
         ],
         "yaxis": "y"
        },
        {
         "hovertemplate": "<b>%{hovertext}</b><br><br>product_name=SUN FRUIT Eau de Parfum Travel Spray<br>Brand=%{x}<br>Price (USD)=%{y}<extra></extra>",
         "hovertext": [
          "SUN FRUIT Eau de Parfum Travel Spray"
         ],
         "legendgroup": "SUN FRUIT Eau de Parfum Travel Spray",
         "marker": {
          "color": "#FF97FF",
          "opacity": 0.7,
          "symbol": "circle"
         },
         "mode": "markers",
         "name": "SUN FRUIT Eau de Parfum Travel Spray",
         "orientation": "v",
         "showlegend": true,
         "type": "scatter",
         "x": [
          "Ellis Brooklyn"
         ],
         "xaxis": "x",
         "y": [
          32
         ],
         "yaxis": "y"
        },
        {
         "hovertemplate": "<b>%{hovertext}</b><br><br>product_name=BEE Eau de Parfum Travel Spray<br>Brand=%{x}<br>Price (USD)=%{y}<extra></extra>",
         "hovertext": [
          "BEE Eau de Parfum Travel Spray"
         ],
         "legendgroup": "BEE Eau de Parfum Travel Spray",
         "marker": {
          "color": "#FECB52",
          "opacity": 0.7,
          "symbol": "circle"
         },
         "mode": "markers",
         "name": "BEE Eau de Parfum Travel Spray",
         "orientation": "v",
         "showlegend": true,
         "type": "scatter",
         "x": [
          "Ellis Brooklyn"
         ],
         "xaxis": "x",
         "y": [
          32
         ],
         "yaxis": "y"
        },
        {
         "hovertemplate": "<b>%{hovertext}</b><br><br>product_name=SUN FRUIT Eau de Parfum<br>Brand=%{x}<br>Price (USD)=%{y}<extra></extra>",
         "hovertext": [
          "SUN FRUIT Eau de Parfum"
         ],
         "legendgroup": "SUN FRUIT Eau de Parfum",
         "marker": {
          "color": "#636efa",
          "opacity": 0.7,
          "symbol": "circle"
         },
         "mode": "markers",
         "name": "SUN FRUIT Eau de Parfum",
         "orientation": "v",
         "showlegend": true,
         "type": "scatter",
         "x": [
          "Ellis Brooklyn"
         ],
         "xaxis": "x",
         "y": [
          108
         ],
         "yaxis": "y"
        },
        {
         "hovertemplate": "<b>%{hovertext}</b><br><br>product_name=BEE Eau de Parfum<br>Brand=%{x}<br>Price (USD)=%{y}<extra></extra>",
         "hovertext": [
          "BEE Eau de Parfum"
         ],
         "legendgroup": "BEE Eau de Parfum",
         "marker": {
          "color": "#EF553B",
          "opacity": 0.7,
          "symbol": "circle"
         },
         "mode": "markers",
         "name": "BEE Eau de Parfum",
         "orientation": "v",
         "showlegend": true,
         "type": "scatter",
         "x": [
          "Ellis Brooklyn"
         ],
         "xaxis": "x",
         "y": [
          108
         ],
         "yaxis": "y"
        },
        {
         "hovertemplate": "<b>%{hovertext}</b><br><br>product_name=SWEET Eau de Parfum<br>Brand=%{x}<br>Price (USD)=%{y}<extra></extra>",
         "hovertext": [
          "SWEET Eau de Parfum"
         ],
         "legendgroup": "SWEET Eau de Parfum",
         "marker": {
          "color": "#00cc96",
          "opacity": 0.7,
          "symbol": "circle"
         },
         "mode": "markers",
         "name": "SWEET Eau de Parfum",
         "orientation": "v",
         "showlegend": true,
         "type": "scatter",
         "x": [
          "Ellis Brooklyn"
         ],
         "xaxis": "x",
         "y": [
          108
         ],
         "yaxis": "y"
        },
        {
         "hovertemplate": "<b>%{hovertext}</b><br><br>product_name=VANILLA MILK Eau de Parfum Travel Spray<br>Brand=%{x}<br>Price (USD)=%{y}<extra></extra>",
         "hovertext": [
          "VANILLA MILK Eau de Parfum Travel Spray"
         ],
         "legendgroup": "VANILLA MILK Eau de Parfum Travel Spray",
         "marker": {
          "color": "#ab63fa",
          "opacity": 0.7,
          "symbol": "circle"
         },
         "mode": "markers",
         "name": "VANILLA MILK Eau de Parfum Travel Spray",
         "orientation": "v",
         "showlegend": true,
         "type": "scatter",
         "x": [
          "Ellis Brooklyn"
         ],
         "xaxis": "x",
         "y": [
          32
         ],
         "yaxis": "y"
        },
        {
         "hovertemplate": "<b>%{hovertext}</b><br><br>product_name=VANILLA MILK Eau de Parfum<br>Brand=%{x}<br>Price (USD)=%{y}<extra></extra>",
         "hovertext": [
          "VANILLA MILK Eau de Parfum"
         ],
         "legendgroup": "VANILLA MILK Eau de Parfum",
         "marker": {
          "color": "#FFA15A",
          "opacity": 0.7,
          "symbol": "circle"
         },
         "mode": "markers",
         "name": "VANILLA MILK Eau de Parfum",
         "orientation": "v",
         "showlegend": true,
         "type": "scatter",
         "x": [
          "Ellis Brooklyn"
         ],
         "xaxis": "x",
         "y": [
          108
         ],
         "yaxis": "y"
        },
        {
         "hovertemplate": "<b>%{hovertext}</b><br><br>product_name=RROSE Eau de Parfum<br>Brand=%{x}<br>Price (USD)=%{y}<extra></extra>",
         "hovertext": [
          "RROSE Eau de Parfum"
         ],
         "legendgroup": "RROSE Eau de Parfum",
         "marker": {
          "color": "#19d3f3",
          "opacity": 0.7,
          "symbol": "circle"
         },
         "mode": "markers",
         "name": "RROSE Eau de Parfum",
         "orientation": "v",
         "showlegend": true,
         "type": "scatter",
         "x": [
          "Ellis Brooklyn"
         ],
         "xaxis": "x",
         "y": [
          108
         ],
         "yaxis": "y"
        },
        {
         "hovertemplate": "<b>%{hovertext}</b><br><br>product_name=SUPER AMBER Eau de Parfum Travel Spray<br>Brand=%{x}<br>Price (USD)=%{y}<extra></extra>",
         "hovertext": [
          "SUPER AMBER Eau de Parfum Travel Spray"
         ],
         "legendgroup": "SUPER AMBER Eau de Parfum Travel Spray",
         "marker": {
          "color": "#FF6692",
          "opacity": 0.7,
          "symbol": "circle"
         },
         "mode": "markers",
         "name": "SUPER AMBER Eau de Parfum Travel Spray",
         "orientation": "v",
         "showlegend": true,
         "type": "scatter",
         "x": [
          "Ellis Brooklyn"
         ],
         "xaxis": "x",
         "y": [
          32
         ],
         "yaxis": "y"
        },
        {
         "hovertemplate": "<b>%{hovertext}</b><br><br>product_name=SALT or SWEET Perfume Gift Set<br>Brand=%{x}<br>Price (USD)=%{y}<extra></extra>",
         "hovertext": [
          "SALT or SWEET Perfume Gift Set"
         ],
         "legendgroup": "SALT or SWEET Perfume Gift Set",
         "marker": {
          "color": "#B6E880",
          "opacity": 0.7,
          "symbol": "circle"
         },
         "mode": "markers",
         "name": "SALT or SWEET Perfume Gift Set",
         "orientation": "v",
         "showlegend": true,
         "type": "scatter",
         "x": [
          "Ellis Brooklyn"
         ],
         "xaxis": "x",
         "y": [
          40
         ],
         "yaxis": "y"
        },
        {
         "hovertemplate": "<b>%{hovertext}</b><br><br>product_name=MYTH Eau de Parfum Travel Spray<br>Brand=%{x}<br>Price (USD)=%{y}<extra></extra>",
         "hovertext": [
          "MYTH Eau de Parfum Travel Spray"
         ],
         "legendgroup": "MYTH Eau de Parfum Travel Spray",
         "marker": {
          "color": "#FF97FF",
          "opacity": 0.7,
          "symbol": "circle"
         },
         "mode": "markers",
         "name": "MYTH Eau de Parfum Travel Spray",
         "orientation": "v",
         "showlegend": true,
         "type": "scatter",
         "x": [
          "Ellis Brooklyn"
         ],
         "xaxis": "x",
         "y": [
          32
         ],
         "yaxis": "y"
        },
        {
         "hovertemplate": "<b>%{hovertext}</b><br><br>product_name=APRÈS Eau de Parfum Travel Spray<br>Brand=%{x}<br>Price (USD)=%{y}<extra></extra>",
         "hovertext": [
          "APRÈS Eau de Parfum Travel Spray"
         ],
         "legendgroup": "APRÈS Eau de Parfum Travel Spray",
         "marker": {
          "color": "#FECB52",
          "opacity": 0.7,
          "symbol": "circle"
         },
         "mode": "markers",
         "name": "APRÈS Eau de Parfum Travel Spray",
         "orientation": "v",
         "showlegend": true,
         "type": "scatter",
         "x": [
          "Ellis Brooklyn"
         ],
         "xaxis": "x",
         "y": [
          32
         ],
         "yaxis": "y"
        },
        {
         "hovertemplate": "<b>%{hovertext}</b><br><br>product_name=SCI FI Eau de Parfum<br>Brand=%{x}<br>Price (USD)=%{y}<extra></extra>",
         "hovertext": [
          "SCI FI Eau de Parfum"
         ],
         "legendgroup": "SCI FI Eau de Parfum",
         "marker": {
          "color": "#636efa",
          "opacity": 0.7,
          "symbol": "circle"
         },
         "mode": "markers",
         "name": "SCI FI Eau de Parfum",
         "orientation": "v",
         "showlegend": true,
         "type": "scatter",
         "x": [
          "Ellis Brooklyn"
         ],
         "xaxis": "x",
         "y": [
          108
         ],
         "yaxis": "y"
        },
        {
         "hovertemplate": "<b>%{hovertext}</b><br><br>product_name=SUPER AMBER Eau de Parfum<br>Brand=%{x}<br>Price (USD)=%{y}<extra></extra>",
         "hovertext": [
          "SUPER AMBER Eau de Parfum"
         ],
         "legendgroup": "SUPER AMBER Eau de Parfum",
         "marker": {
          "color": "#EF553B",
          "opacity": 0.7,
          "symbol": "circle"
         },
         "mode": "markers",
         "name": "SUPER AMBER Eau de Parfum",
         "orientation": "v",
         "showlegend": true,
         "type": "scatter",
         "x": [
          "Ellis Brooklyn"
         ],
         "xaxis": "x",
         "y": [
          108
         ],
         "yaxis": "y"
        },
        {
         "hovertemplate": "<b>%{hovertext}</b><br><br>product_name=WEST Eau de Parfum<br>Brand=%{x}<br>Price (USD)=%{y}<extra></extra>",
         "hovertext": [
          "WEST Eau de Parfum"
         ],
         "legendgroup": "WEST Eau de Parfum",
         "marker": {
          "color": "#00cc96",
          "opacity": 0.7,
          "symbol": "circle"
         },
         "mode": "markers",
         "name": "WEST Eau de Parfum",
         "orientation": "v",
         "showlegend": true,
         "type": "scatter",
         "x": [
          "Ellis Brooklyn"
         ],
         "xaxis": "x",
         "y": [
          108
         ],
         "yaxis": "y"
        },
        {
         "hovertemplate": "<b>%{hovertext}</b><br><br>product_name=SCI FI Eau de Parfum Travel Spray<br>Brand=%{x}<br>Price (USD)=%{y}<extra></extra>",
         "hovertext": [
          "SCI FI Eau de Parfum Travel Spray"
         ],
         "legendgroup": "SCI FI Eau de Parfum Travel Spray",
         "marker": {
          "color": "#ab63fa",
          "opacity": 0.7,
          "symbol": "circle"
         },
         "mode": "markers",
         "name": "SCI FI Eau de Parfum Travel Spray",
         "orientation": "v",
         "showlegend": true,
         "type": "scatter",
         "x": [
          "Ellis Brooklyn"
         ],
         "xaxis": "x",
         "y": [
          32
         ],
         "yaxis": "y"
        },
        {
         "hovertemplate": "<b>%{hovertext}</b><br><br>product_name=APRÈS Eau de Parfum<br>Brand=%{x}<br>Price (USD)=%{y}<extra></extra>",
         "hovertext": [
          "APRÈS Eau de Parfum"
         ],
         "legendgroup": "APRÈS Eau de Parfum",
         "marker": {
          "color": "#FFA15A",
          "opacity": 0.7,
          "symbol": "circle"
         },
         "mode": "markers",
         "name": "APRÈS Eau de Parfum",
         "orientation": "v",
         "showlegend": true,
         "type": "scatter",
         "x": [
          "Ellis Brooklyn"
         ],
         "xaxis": "x",
         "y": [
          108
         ],
         "yaxis": "y"
        },
        {
         "hovertemplate": "<b>%{hovertext}</b><br><br>product_name=WEST Eau de Parfum Travel Spray<br>Brand=%{x}<br>Price (USD)=%{y}<extra></extra>",
         "hovertext": [
          "WEST Eau de Parfum Travel Spray"
         ],
         "legendgroup": "WEST Eau de Parfum Travel Spray",
         "marker": {
          "color": "#19d3f3",
          "opacity": 0.7,
          "symbol": "circle"
         },
         "mode": "markers",
         "name": "WEST Eau de Parfum Travel Spray",
         "orientation": "v",
         "showlegend": true,
         "type": "scatter",
         "x": [
          "Ellis Brooklyn"
         ],
         "xaxis": "x",
         "y": [
          32
         ],
         "yaxis": "y"
        },
        {
         "hovertemplate": "<b>%{hovertext}</b><br><br>product_name=APRÈS Essentials Gift Set<br>Brand=%{x}<br>Price (USD)=%{y}<extra></extra>",
         "hovertext": [
          "APRÈS Essentials Gift Set"
         ],
         "legendgroup": "APRÈS Essentials Gift Set",
         "marker": {
          "color": "#FF6692",
          "opacity": 0.7,
          "symbol": "circle"
         },
         "mode": "markers",
         "name": "APRÈS Essentials Gift Set",
         "orientation": "v",
         "showlegend": true,
         "type": "scatter",
         "x": [
          "Ellis Brooklyn"
         ],
         "xaxis": "x",
         "y": [
          105
         ],
         "yaxis": "y"
        },
        {
         "hovertemplate": "<b>%{hovertext}</b><br><br>product_name=RIVES Eau de Parfum<br>Brand=%{x}<br>Price (USD)=%{y}<extra></extra>",
         "hovertext": [
          "RIVES Eau de Parfum"
         ],
         "legendgroup": "RIVES Eau de Parfum",
         "marker": {
          "color": "#B6E880",
          "opacity": 0.7,
          "symbol": "circle"
         },
         "mode": "markers",
         "name": "RIVES Eau de Parfum",
         "orientation": "v",
         "showlegend": true,
         "type": "scatter",
         "x": [
          "Ellis Brooklyn"
         ],
         "xaxis": "x",
         "y": [
          105
         ],
         "yaxis": "y"
        },
        {
         "hovertemplate": "<b>%{hovertext}</b><br><br>product_name=ISO GAMMA SUPER Eau de Parfum Travel Spray<br>Brand=%{x}<br>Price (USD)=%{y}<extra></extra>",
         "hovertext": [
          "ISO GAMMA SUPER Eau de Parfum Travel Spray"
         ],
         "legendgroup": "ISO GAMMA SUPER Eau de Parfum Travel Spray",
         "marker": {
          "color": "#FF97FF",
          "opacity": 0.7,
          "symbol": "circle"
         },
         "mode": "markers",
         "name": "ISO GAMMA SUPER Eau de Parfum Travel Spray",
         "orientation": "v",
         "showlegend": true,
         "type": "scatter",
         "x": [
          "Ellis Brooklyn"
         ],
         "xaxis": "x",
         "y": [
          32
         ],
         "yaxis": "y"
        },
        {
         "hovertemplate": "<b>%{hovertext}</b><br><br>product_name=ISO GAMMA SUPER Eau de Parfum<br>Brand=%{x}<br>Price (USD)=%{y}<extra></extra>",
         "hovertext": [
          "ISO GAMMA SUPER Eau de Parfum"
         ],
         "legendgroup": "ISO GAMMA SUPER Eau de Parfum",
         "marker": {
          "color": "#FECB52",
          "opacity": 0.7,
          "symbol": "circle"
         },
         "mode": "markers",
         "name": "ISO GAMMA SUPER Eau de Parfum",
         "orientation": "v",
         "showlegend": true,
         "type": "scatter",
         "x": [
          "Ellis Brooklyn"
         ],
         "xaxis": "x",
         "y": [
          100
         ],
         "yaxis": "y"
        },
        {
         "hovertemplate": "<b>%{hovertext}</b><br><br>product_name=FLORIST Eau de Parfum<br>Brand=%{x}<br>Price (USD)=%{y}<extra></extra>",
         "hovertext": [
          "FLORIST Eau de Parfum"
         ],
         "legendgroup": "FLORIST Eau de Parfum",
         "marker": {
          "color": "#636efa",
          "opacity": 0.7,
          "symbol": "circle"
         },
         "mode": "markers",
         "name": "FLORIST Eau de Parfum",
         "orientation": "v",
         "showlegend": true,
         "type": "scatter",
         "x": [
          "Ellis Brooklyn"
         ],
         "xaxis": "x",
         "y": [
          108
         ],
         "yaxis": "y"
        },
        {
         "hovertemplate": "<b>%{hovertext}</b><br><br>product_name=RROSE Eau de Parfum Travel Spray<br>Brand=%{x}<br>Price (USD)=%{y}<extra></extra>",
         "hovertext": [
          "RROSE Eau de Parfum Travel Spray"
         ],
         "legendgroup": "RROSE Eau de Parfum Travel Spray",
         "marker": {
          "color": "#EF553B",
          "opacity": 0.7,
          "symbol": "circle"
         },
         "mode": "markers",
         "name": "RROSE Eau de Parfum Travel Spray",
         "orientation": "v",
         "showlegend": true,
         "type": "scatter",
         "x": [
          "Ellis Brooklyn"
         ],
         "xaxis": "x",
         "y": [
          32
         ],
         "yaxis": "y"
        },
        {
         "hovertemplate": "<b>%{hovertext}</b><br><br>product_name=Fenty Eau de Parfum<br>Brand=%{x}<br>Price (USD)=%{y}<extra></extra>",
         "hovertext": [
          "Fenty Eau de Parfum"
         ],
         "legendgroup": "Fenty Eau de Parfum",
         "marker": {
          "color": "#00cc96",
          "opacity": 0.7,
          "symbol": "circle"
         },
         "mode": "markers",
         "name": "Fenty Eau de Parfum",
         "orientation": "v",
         "showlegend": true,
         "type": "scatter",
         "x": [
          "Fenty Beauty by Rihanna"
         ],
         "xaxis": "x",
         "y": [
          140
         ],
         "yaxis": "y"
        },
        {
         "hovertemplate": "<b>%{hovertext}</b><br><br>product_name=Wonderland Peony Eau De Parfum<br>Brand=%{x}<br>Price (USD)=%{y}<extra></extra>",
         "hovertext": [
          "Wonderland Peony Eau De Parfum"
         ],
         "legendgroup": "Wonderland Peony Eau De Parfum",
         "marker": {
          "color": "#ab63fa",
          "opacity": 0.7,
          "symbol": "circle"
         },
         "mode": "markers",
         "name": "Wonderland Peony Eau De Parfum",
         "orientation": "v",
         "showlegend": true,
         "type": "scatter",
         "x": [
          "Floral Street"
         ],
         "xaxis": "x",
         "y": [
          34
         ],
         "yaxis": "y"
        },
        {
         "hovertemplate": "<b>%{hovertext}</b><br><br>product_name=Wonderland Peony Eau De Parfum Travel Spray<br>Brand=%{x}<br>Price (USD)=%{y}<extra></extra>",
         "hovertext": [
          "Wonderland Peony Eau De Parfum Travel Spray"
         ],
         "legendgroup": "Wonderland Peony Eau De Parfum Travel Spray",
         "marker": {
          "color": "#FFA15A",
          "opacity": 0.7,
          "symbol": "circle"
         },
         "mode": "markers",
         "name": "Wonderland Peony Eau De Parfum Travel Spray",
         "orientation": "v",
         "showlegend": true,
         "type": "scatter",
         "x": [
          "Floral Street"
         ],
         "xaxis": "x",
         "y": [
          34
         ],
         "yaxis": "y"
        },
        {
         "hovertemplate": "<b>%{hovertext}</b><br><br>product_name=Wild Vanilla Orchid Eau De Parfum<br>Brand=%{x}<br>Price (USD)=%{y}<extra></extra>",
         "hovertext": [
          "Wild Vanilla Orchid Eau De Parfum"
         ],
         "legendgroup": "Wild Vanilla Orchid Eau De Parfum",
         "marker": {
          "color": "#19d3f3",
          "opacity": 0.7,
          "symbol": "circle"
         },
         "mode": "markers",
         "name": "Wild Vanilla Orchid Eau De Parfum",
         "orientation": "v",
         "showlegend": true,
         "type": "scatter",
         "x": [
          "Floral Street"
         ],
         "xaxis": "x",
         "y": [
          89
         ],
         "yaxis": "y"
        },
        {
         "hovertemplate": "<b>%{hovertext}</b><br><br>product_name=Sunflower Pop Eau De Parfum<br>Brand=%{x}<br>Price (USD)=%{y}<extra></extra>",
         "hovertext": [
          "Sunflower Pop Eau De Parfum"
         ],
         "legendgroup": "Sunflower Pop Eau De Parfum",
         "marker": {
          "color": "#FF6692",
          "opacity": 0.7,
          "symbol": "circle"
         },
         "mode": "markers",
         "name": "Sunflower Pop Eau De Parfum",
         "orientation": "v",
         "showlegend": true,
         "type": "scatter",
         "x": [
          "Floral Street"
         ],
         "xaxis": "x",
         "y": [
          89
         ],
         "yaxis": "y"
        },
        {
         "hovertemplate": "<b>%{hovertext}</b><br><br>product_name=Wild Vanilla Orchid Eau De Parfum  Travel Spray<br>Brand=%{x}<br>Price (USD)=%{y}<extra></extra>",
         "hovertext": [
          "Wild Vanilla Orchid Eau De Parfum  Travel Spray"
         ],
         "legendgroup": "Wild Vanilla Orchid Eau De Parfum  Travel Spray",
         "marker": {
          "color": "#B6E880",
          "opacity": 0.7,
          "symbol": "circle"
         },
         "mode": "markers",
         "name": "Wild Vanilla Orchid Eau De Parfum  Travel Spray",
         "orientation": "v",
         "showlegend": true,
         "type": "scatter",
         "x": [
          "Floral Street"
         ],
         "xaxis": "x",
         "y": [
          34
         ],
         "yaxis": "y"
        },
        {
         "hovertemplate": "<b>%{hovertext}</b><br><br>product_name=Sunflower Pop Eau De Parfum Travel Spray<br>Brand=%{x}<br>Price (USD)=%{y}<extra></extra>",
         "hovertext": [
          "Sunflower Pop Eau De Parfum Travel Spray"
         ],
         "legendgroup": "Sunflower Pop Eau De Parfum Travel Spray",
         "marker": {
          "color": "#FF97FF",
          "opacity": 0.7,
          "symbol": "circle"
         },
         "mode": "markers",
         "name": "Sunflower Pop Eau De Parfum Travel Spray",
         "orientation": "v",
         "showlegend": true,
         "type": "scatter",
         "x": [
          "Floral Street"
         ],
         "xaxis": "x",
         "y": [
          34
         ],
         "yaxis": "y"
        },
        {
         "hovertemplate": "<b>%{hovertext}</b><br><br>product_name=Arizona Bloom Eau de Parfum Travel Spray<br>Brand=%{x}<br>Price (USD)=%{y}<extra></extra>",
         "hovertext": [
          "Arizona Bloom Eau de Parfum Travel Spray"
         ],
         "legendgroup": "Arizona Bloom Eau de Parfum Travel Spray",
         "marker": {
          "color": "#FECB52",
          "opacity": 0.7,
          "symbol": "circle"
         },
         "mode": "markers",
         "name": "Arizona Bloom Eau de Parfum Travel Spray",
         "orientation": "v",
         "showlegend": true,
         "type": "scatter",
         "x": [
          "Floral Street"
         ],
         "xaxis": "x",
         "y": [
          34
         ],
         "yaxis": "y"
        },
        {
         "hovertemplate": "<b>%{hovertext}</b><br><br>product_name=Neon Rose Eau De Parfum<br>Brand=%{x}<br>Price (USD)=%{y}<extra></extra>",
         "hovertext": [
          "Neon Rose Eau De Parfum"
         ],
         "legendgroup": "Neon Rose Eau De Parfum",
         "marker": {
          "color": "#636efa",
          "opacity": 0.7,
          "symbol": "circle"
         },
         "mode": "markers",
         "name": "Neon Rose Eau De Parfum",
         "orientation": "v",
         "showlegend": true,
         "type": "scatter",
         "x": [
          "Floral Street"
         ],
         "xaxis": "x",
         "y": [
          89
         ],
         "yaxis": "y"
        },
        {
         "hovertemplate": "<b>%{hovertext}</b><br><br>product_name=Arizona Bloom Eau de Parfum<br>Brand=%{x}<br>Price (USD)=%{y}<extra></extra>",
         "hovertext": [
          "Arizona Bloom Eau de Parfum"
         ],
         "legendgroup": "Arizona Bloom Eau de Parfum",
         "marker": {
          "color": "#EF553B",
          "opacity": 0.7,
          "symbol": "circle"
         },
         "mode": "markers",
         "name": "Arizona Bloom Eau de Parfum",
         "orientation": "v",
         "showlegend": true,
         "type": "scatter",
         "x": [
          "Floral Street"
         ],
         "xaxis": "x",
         "y": [
          34
         ],
         "yaxis": "y"
        },
        {
         "hovertemplate": "<b>%{hovertext}</b><br><br>product_name=Black Lotus Eau De Parfum<br>Brand=%{x}<br>Price (USD)=%{y}<extra></extra>",
         "hovertext": [
          "Black Lotus Eau De Parfum"
         ],
         "legendgroup": "Black Lotus Eau De Parfum",
         "marker": {
          "color": "#00cc96",
          "opacity": 0.7,
          "symbol": "circle"
         },
         "mode": "markers",
         "name": "Black Lotus Eau De Parfum",
         "orientation": "v",
         "showlegend": true,
         "type": "scatter",
         "x": [
          "Floral Street"
         ],
         "xaxis": "x",
         "y": [
          34
         ],
         "yaxis": "y"
        },
        {
         "hovertemplate": "<b>%{hovertext}</b><br><br>product_name=Black Lotus Eau De Parfum Travel Spray<br>Brand=%{x}<br>Price (USD)=%{y}<extra></extra>",
         "hovertext": [
          "Black Lotus Eau De Parfum Travel Spray"
         ],
         "legendgroup": "Black Lotus Eau De Parfum Travel Spray",
         "marker": {
          "color": "#ab63fa",
          "opacity": 0.7,
          "symbol": "circle"
         },
         "mode": "markers",
         "name": "Black Lotus Eau De Parfum Travel Spray",
         "orientation": "v",
         "showlegend": true,
         "type": "scatter",
         "x": [
          "Floral Street"
         ],
         "xaxis": "x",
         "y": [
          34
         ],
         "yaxis": "y"
        },
        {
         "hovertemplate": "<b>%{hovertext}</b><br><br>product_name=Ylang Ylang Espresso Eau De Parfum<br>Brand=%{x}<br>Price (USD)=%{y}<extra></extra>",
         "hovertext": [
          "Ylang Ylang Espresso Eau De Parfum"
         ],
         "legendgroup": "Ylang Ylang Espresso Eau De Parfum",
         "marker": {
          "color": "#FFA15A",
          "opacity": 0.7,
          "symbol": "circle"
         },
         "mode": "markers",
         "name": "Ylang Ylang Espresso Eau De Parfum",
         "orientation": "v",
         "showlegend": true,
         "type": "scatter",
         "x": [
          "Floral Street"
         ],
         "xaxis": "x",
         "y": [
          89
         ],
         "yaxis": "y"
        },
        {
         "hovertemplate": "<b>%{hovertext}</b><br><br>product_name=Irresistible Eau de Parfum<br>Brand=%{x}<br>Price (USD)=%{y}<extra></extra>",
         "hovertext": [
          "Irresistible Eau de Parfum"
         ],
         "legendgroup": "Irresistible Eau de Parfum",
         "marker": {
          "color": "#19d3f3",
          "opacity": 0.7,
          "symbol": "circle"
         },
         "mode": "markers",
         "name": "Irresistible Eau de Parfum",
         "orientation": "v",
         "showlegend": true,
         "type": "scatter",
         "x": [
          "Givenchy"
         ],
         "xaxis": "x",
         "y": [
          110
         ],
         "yaxis": "y"
        },
        {
         "hovertemplate": "<b>%{hovertext}</b><br><br>product_name=L'Interdit Eau de Parfum<br>Brand=%{x}<br>Price (USD)=%{y}<extra></extra>",
         "hovertext": [
          "L'Interdit Eau de Parfum"
         ],
         "legendgroup": "L'Interdit Eau de Parfum",
         "marker": {
          "color": "#FF6692",
          "opacity": 0.7,
          "symbol": "circle"
         },
         "mode": "markers",
         "name": "L'Interdit Eau de Parfum",
         "orientation": "v",
         "showlegend": true,
         "type": "scatter",
         "x": [
          "Givenchy"
         ],
         "xaxis": "x",
         "y": [
          110
         ],
         "yaxis": "y"
        },
        {
         "hovertemplate": "<b>%{hovertext}</b><br><br>product_name=Ange ou Demon Le Secret Eau de Parfum<br>Brand=%{x}<br>Price (USD)=%{y}<extra></extra>",
         "hovertext": [
          "Ange ou Demon Le Secret Eau de Parfum"
         ],
         "legendgroup": "Ange ou Demon Le Secret Eau de Parfum",
         "marker": {
          "color": "#B6E880",
          "opacity": 0.7,
          "symbol": "circle"
         },
         "mode": "markers",
         "name": "Ange ou Demon Le Secret Eau de Parfum",
         "orientation": "v",
         "showlegend": true,
         "type": "scatter",
         "x": [
          "Givenchy"
         ],
         "xaxis": "x",
         "y": [
          108
         ],
         "yaxis": "y"
        },
        {
         "hovertemplate": "<b>%{hovertext}</b><br><br>product_name=L'Interdit Eau de Parfum Rollerball<br>Brand=%{x}<br>Price (USD)=%{y}<extra></extra>",
         "hovertext": [
          "L'Interdit Eau de Parfum Rollerball"
         ],
         "legendgroup": "L'Interdit Eau de Parfum Rollerball",
         "marker": {
          "color": "#FF97FF",
          "opacity": 0.7,
          "symbol": "circle"
         },
         "mode": "markers",
         "name": "L'Interdit Eau de Parfum Rollerball",
         "orientation": "v",
         "showlegend": true,
         "type": "scatter",
         "x": [
          "Givenchy"
         ],
         "xaxis": "x",
         "y": [
          40
         ],
         "yaxis": "y"
        },
        {
         "hovertemplate": "<b>%{hovertext}</b><br><br>product_name=Irresistible Eau de Parfum Rollerball<br>Brand=%{x}<br>Price (USD)=%{y}<extra></extra>",
         "hovertext": [
          "Irresistible Eau de Parfum Rollerball"
         ],
         "legendgroup": "Irresistible Eau de Parfum Rollerball",
         "marker": {
          "color": "#FECB52",
          "opacity": 0.7,
          "symbol": "circle"
         },
         "mode": "markers",
         "name": "Irresistible Eau de Parfum Rollerball",
         "orientation": "v",
         "showlegend": true,
         "type": "scatter",
         "x": [
          "Givenchy"
         ],
         "xaxis": "x",
         "y": [
          40
         ],
         "yaxis": "y"
        },
        {
         "hovertemplate": "<b>%{hovertext}</b><br><br>product_name=Gentleman Boisee Eau de Parfum<br>Brand=%{x}<br>Price (USD)=%{y}<extra></extra>",
         "hovertext": [
          "Gentleman Boisee Eau de Parfum"
         ],
         "legendgroup": "Gentleman Boisee Eau de Parfum",
         "marker": {
          "color": "#636efa",
          "opacity": 0.7,
          "symbol": "circle"
         },
         "mode": "markers",
         "name": "Gentleman Boisee Eau de Parfum",
         "orientation": "v",
         "showlegend": true,
         "type": "scatter",
         "x": [
          "Givenchy"
         ],
         "xaxis": "x",
         "y": [
          124
         ],
         "yaxis": "y"
        },
        {
         "hovertemplate": "<b>%{hovertext}</b><br><br>product_name=Irresistible Eau de Parfum Rose Velvet<br>Brand=%{x}<br>Price (USD)=%{y}<extra></extra>",
         "hovertext": [
          "Irresistible Eau de Parfum Rose Velvet"
         ],
         "legendgroup": "Irresistible Eau de Parfum Rose Velvet",
         "marker": {
          "color": "#EF553B",
          "opacity": 0.7,
          "symbol": "circle"
         },
         "mode": "markers",
         "name": "Irresistible Eau de Parfum Rose Velvet",
         "orientation": "v",
         "showlegend": true,
         "type": "scatter",
         "x": [
          "Givenchy"
         ],
         "xaxis": "x",
         "y": [
          135
         ],
         "yaxis": "y"
        },
        {
         "hovertemplate": "<b>%{hovertext}</b><br><br>product_name=Irresistible Eau de Toilette Fraiche<br>Brand=%{x}<br>Price (USD)=%{y}<extra></extra>",
         "hovertext": [
          "Irresistible Eau de Toilette Fraiche"
         ],
         "legendgroup": "Irresistible Eau de Toilette Fraiche",
         "marker": {
          "color": "#00cc96",
          "opacity": 0.7,
          "symbol": "circle"
         },
         "mode": "markers",
         "name": "Irresistible Eau de Toilette Fraiche",
         "orientation": "v",
         "showlegend": true,
         "type": "scatter",
         "x": [
          "Givenchy"
         ],
         "xaxis": "x",
         "y": [
          111
         ],
         "yaxis": "y"
        },
        {
         "hovertemplate": "<b>%{hovertext}</b><br><br>product_name=L'Interdit Eau de Toilette<br>Brand=%{x}<br>Price (USD)=%{y}<extra></extra>",
         "hovertext": [
          "L'Interdit Eau de Toilette"
         ],
         "legendgroup": "L'Interdit Eau de Toilette",
         "marker": {
          "color": "#ab63fa",
          "opacity": 0.7,
          "symbol": "circle"
         },
         "mode": "markers",
         "name": "L'Interdit Eau de Toilette",
         "orientation": "v",
         "showlegend": true,
         "type": "scatter",
         "x": [
          "Givenchy"
         ],
         "xaxis": "x",
         "y": [
          111
         ],
         "yaxis": "y"
        },
        {
         "hovertemplate": "<b>%{hovertext}</b><br><br>product_name=Glossier You Eau de Parfum<br>Brand=%{x}<br>Price (USD)=%{y}<extra></extra>",
         "hovertext": [
          "Glossier You Eau de Parfum"
         ],
         "legendgroup": "Glossier You Eau de Parfum",
         "marker": {
          "color": "#FFA15A",
          "opacity": 0.7,
          "symbol": "circle"
         },
         "mode": "markers",
         "name": "Glossier You Eau de Parfum",
         "orientation": "v",
         "showlegend": true,
         "type": "scatter",
         "x": [
          "Glossier"
         ],
         "xaxis": "x",
         "y": [
          64
         ],
         "yaxis": "y"
        },
        {
         "hovertemplate": "<b>%{hovertext}</b><br><br>product_name=Glossier You Solid Perfume<br>Brand=%{x}<br>Price (USD)=%{y}<extra></extra>",
         "hovertext": [
          "Glossier You Solid Perfume"
         ],
         "legendgroup": "Glossier You Solid Perfume",
         "marker": {
          "color": "#19d3f3",
          "opacity": 0.7,
          "symbol": "circle"
         },
         "mode": "markers",
         "name": "Glossier You Solid Perfume",
         "orientation": "v",
         "showlegend": true,
         "type": "scatter",
         "x": [
          "Glossier"
         ],
         "xaxis": "x",
         "y": [
          30
         ],
         "yaxis": "y"
        },
        {
         "hovertemplate": "<b>%{hovertext}</b><br><br>product_name=Flora Gorgeous Gardenia Eau de Parfum<br>Brand=%{x}<br>Price (USD)=%{y}<extra></extra>",
         "hovertext": [
          "Flora Gorgeous Gardenia Eau de Parfum"
         ],
         "legendgroup": "Flora Gorgeous Gardenia Eau de Parfum",
         "marker": {
          "color": "#FF6692",
          "opacity": 0.7,
          "symbol": "circle"
         },
         "mode": "markers",
         "name": "Flora Gorgeous Gardenia Eau de Parfum",
         "orientation": "v",
         "showlegend": true,
         "type": "scatter",
         "x": [
          "Gucci"
         ],
         "xaxis": "x",
         "y": [
          155
         ],
         "yaxis": "y"
        },
        {
         "hovertemplate": "<b>%{hovertext}</b><br><br>product_name=Bloom Eau de Parfum For Her<br>Brand=%{x}<br>Price (USD)=%{y}<extra></extra>",
         "hovertext": [
          "Bloom Eau de Parfum For Her"
         ],
         "legendgroup": "Bloom Eau de Parfum For Her",
         "marker": {
          "color": "#B6E880",
          "opacity": 0.7,
          "symbol": "circle"
         },
         "mode": "markers",
         "name": "Bloom Eau de Parfum For Her",
         "orientation": "v",
         "showlegend": true,
         "type": "scatter",
         "x": [
          "Gucci"
         ],
         "xaxis": "x",
         "y": [
          123
         ],
         "yaxis": "y"
        },
        {
         "hovertemplate": "<b>%{hovertext}</b><br><br>product_name=Flora Gorgeous Gardenia Eau de Parfum Rollerball<br>Brand=%{x}<br>Price (USD)=%{y}<extra></extra>",
         "hovertext": [
          "Flora Gorgeous Gardenia Eau de Parfum Rollerball"
         ],
         "legendgroup": "Flora Gorgeous Gardenia Eau de Parfum Rollerball",
         "marker": {
          "color": "#FF97FF",
          "opacity": 0.7,
          "symbol": "circle"
         },
         "mode": "markers",
         "name": "Flora Gorgeous Gardenia Eau de Parfum Rollerball",
         "orientation": "v",
         "showlegend": true,
         "type": "scatter",
         "x": [
          "Gucci"
         ],
         "xaxis": "x",
         "y": [
          38
         ],
         "yaxis": "y"
        },
        {
         "hovertemplate": "<b>%{hovertext}</b><br><br>product_name=Bloom Eau de Parfum For Her Rollerball<br>Brand=%{x}<br>Price (USD)=%{y}<extra></extra>",
         "hovertext": [
          "Bloom Eau de Parfum For Her Rollerball"
         ],
         "legendgroup": "Bloom Eau de Parfum For Her Rollerball",
         "marker": {
          "color": "#FECB52",
          "opacity": 0.7,
          "symbol": "circle"
         },
         "mode": "markers",
         "name": "Bloom Eau de Parfum For Her Rollerball",
         "orientation": "v",
         "showlegend": true,
         "type": "scatter",
         "x": [
          "Gucci"
         ],
         "xaxis": "x",
         "y": [
          38
         ],
         "yaxis": "y"
        },
        {
         "hovertemplate": "<b>%{hovertext}</b><br><br>product_name=Bamboo Eau de Parfum<br>Brand=%{x}<br>Price (USD)=%{y}<extra></extra>",
         "hovertext": [
          "Bamboo Eau de Parfum"
         ],
         "legendgroup": "Bamboo Eau de Parfum",
         "marker": {
          "color": "#636efa",
          "opacity": 0.7,
          "symbol": "circle"
         },
         "mode": "markers",
         "name": "Bamboo Eau de Parfum",
         "orientation": "v",
         "showlegend": true,
         "type": "scatter",
         "x": [
          "Gucci"
         ],
         "xaxis": "x",
         "y": [
          87
         ],
         "yaxis": "y"
        },
        {
         "hovertemplate": "<b>%{hovertext}</b><br><br>product_name=Flora Gorgeous Jasmine Eau de Parfum<br>Brand=%{x}<br>Price (USD)=%{y}<extra></extra>",
         "hovertext": [
          "Flora Gorgeous Jasmine Eau de Parfum"
         ],
         "legendgroup": "Flora Gorgeous Jasmine Eau de Parfum",
         "marker": {
          "color": "#EF553B",
          "opacity": 0.7,
          "symbol": "circle"
         },
         "mode": "markers",
         "name": "Flora Gorgeous Jasmine Eau de Parfum",
         "orientation": "v",
         "showlegend": true,
         "type": "scatter",
         "x": [
          "Gucci"
         ],
         "xaxis": "x",
         "y": [
          155
         ],
         "yaxis": "y"
        },
        {
         "hovertemplate": "<b>%{hovertext}</b><br><br>product_name=Guilty Pour Homme<br>Brand=%{x}<br>Price (USD)=%{y}<extra></extra>",
         "hovertext": [
          "Guilty Pour Homme"
         ],
         "legendgroup": "Guilty Pour Homme",
         "marker": {
          "color": "#00cc96",
          "opacity": 0.7,
          "symbol": "circle"
         },
         "mode": "markers",
         "name": "Guilty Pour Homme",
         "orientation": "v",
         "showlegend": true,
         "type": "scatter",
         "x": [
          "Gucci"
         ],
         "xaxis": "x",
         "y": [
          154
         ],
         "yaxis": "y"
        },
        {
         "hovertemplate": "<b>%{hovertext}</b><br><br>product_name=Flora Gorgeous Jasmine Eau de Parfum Pen Spray<br>Brand=%{x}<br>Price (USD)=%{y}<extra></extra>",
         "hovertext": [
          "Flora Gorgeous Jasmine Eau de Parfum Pen Spray"
         ],
         "legendgroup": "Flora Gorgeous Jasmine Eau de Parfum Pen Spray",
         "marker": {
          "color": "#ab63fa",
          "opacity": 0.7,
          "symbol": "circle"
         },
         "mode": "markers",
         "name": "Flora Gorgeous Jasmine Eau de Parfum Pen Spray",
         "orientation": "v",
         "showlegend": true,
         "type": "scatter",
         "x": [
          "Gucci"
         ],
         "xaxis": "x",
         "y": [
          38
         ],
         "yaxis": "y"
        },
        {
         "hovertemplate": "<b>%{hovertext}</b><br><br>product_name=Bloom Profumo di Fiori Eau de Parfum<br>Brand=%{x}<br>Price (USD)=%{y}<extra></extra>",
         "hovertext": [
          "Bloom Profumo di Fiori Eau de Parfum"
         ],
         "legendgroup": "Bloom Profumo di Fiori Eau de Parfum",
         "marker": {
          "color": "#FFA15A",
          "opacity": 0.7,
          "symbol": "circle"
         },
         "mode": "markers",
         "name": "Bloom Profumo di Fiori Eau de Parfum",
         "orientation": "v",
         "showlegend": true,
         "type": "scatter",
         "x": [
          "Gucci"
         ],
         "xaxis": "x",
         "y": [
          123
         ],
         "yaxis": "y"
        },
        {
         "hovertemplate": "<b>%{hovertext}</b><br><br>product_name=Bloom Eau De Toilette<br>Brand=%{x}<br>Price (USD)=%{y}<extra></extra>",
         "hovertext": [
          "Bloom Eau De Toilette"
         ],
         "legendgroup": "Bloom Eau De Toilette",
         "marker": {
          "color": "#19d3f3",
          "opacity": 0.7,
          "symbol": "circle"
         },
         "mode": "markers",
         "name": "Bloom Eau De Toilette",
         "orientation": "v",
         "showlegend": true,
         "type": "scatter",
         "x": [
          "Gucci"
         ],
         "xaxis": "x",
         "y": [
          101
         ],
         "yaxis": "y"
        },
        {
         "hovertemplate": "<b>%{hovertext}</b><br><br>product_name=Gucci Bloom Ambrosia di Fiori Eau de Parfum Intense For Her<br>Brand=%{x}<br>Price (USD)=%{y}<extra></extra>",
         "hovertext": [
          "Gucci Bloom Ambrosia di Fiori Eau de Parfum Intense For Her"
         ],
         "legendgroup": "Gucci Bloom Ambrosia di Fiori Eau de Parfum Intense For Her",
         "marker": {
          "color": "#FF6692",
          "opacity": 0.7,
          "symbol": "circle"
         },
         "mode": "markers",
         "name": "Gucci Bloom Ambrosia di Fiori Eau de Parfum Intense For Her",
         "orientation": "v",
         "showlegend": true,
         "type": "scatter",
         "x": [
          "Gucci"
         ],
         "xaxis": "x",
         "y": [
          131
         ],
         "yaxis": "y"
        },
        {
         "hovertemplate": "<b>%{hovertext}</b><br><br>product_name=Bloom Profumo di Fiori Eau de Parfum Rollerball<br>Brand=%{x}<br>Price (USD)=%{y}<extra></extra>",
         "hovertext": [
          "Bloom Profumo di Fiori Eau de Parfum Rollerball"
         ],
         "legendgroup": "Bloom Profumo di Fiori Eau de Parfum Rollerball",
         "marker": {
          "color": "#B6E880",
          "opacity": 0.7,
          "symbol": "circle"
         },
         "mode": "markers",
         "name": "Bloom Profumo di Fiori Eau de Parfum Rollerball",
         "orientation": "v",
         "showlegend": true,
         "type": "scatter",
         "x": [
          "Gucci"
         ],
         "xaxis": "x",
         "y": [
          38
         ],
         "yaxis": "y"
        },
        {
         "hovertemplate": "<b>%{hovertext}</b><br><br>product_name=Guilty Eau de Parfum Pour Homme<br>Brand=%{x}<br>Price (USD)=%{y}<extra></extra>",
         "hovertext": [
          "Guilty Eau de Parfum Pour Homme"
         ],
         "legendgroup": "Guilty Eau de Parfum Pour Homme",
         "marker": {
          "color": "#FF97FF",
          "opacity": 0.7,
          "symbol": "circle"
         },
         "mode": "markers",
         "name": "Guilty Eau de Parfum Pour Homme",
         "orientation": "v",
         "showlegend": true,
         "type": "scatter",
         "x": [
          "Gucci"
         ],
         "xaxis": "x",
         "y": [
          143
         ],
         "yaxis": "y"
        },
        {
         "hovertemplate": "<b>%{hovertext}</b><br><br>product_name=Bloom Eau De Toilette Travel Spray<br>Brand=%{x}<br>Price (USD)=%{y}<extra></extra>",
         "hovertext": [
          "Bloom Eau De Toilette Travel Spray"
         ],
         "legendgroup": "Bloom Eau De Toilette Travel Spray",
         "marker": {
          "color": "#FECB52",
          "opacity": 0.7,
          "symbol": "circle"
         },
         "mode": "markers",
         "name": "Bloom Eau De Toilette Travel Spray",
         "orientation": "v",
         "showlegend": true,
         "type": "scatter",
         "x": [
          "Gucci"
         ],
         "xaxis": "x",
         "y": [
          38
         ],
         "yaxis": "y"
        },
        {
         "hovertemplate": "<b>%{hovertext}</b><br><br>product_name=Gucci Bloom Ambrosia di Fiori Eau de Parfum Intense For Her Rollerball<br>Brand=%{x}<br>Price (USD)=%{y}<extra></extra>",
         "hovertext": [
          "Gucci Bloom Ambrosia di Fiori Eau de Parfum Intense For Her Rollerball"
         ],
         "legendgroup": "Gucci Bloom Ambrosia di Fiori Eau de Parfum Intense For Her Rollerball",
         "marker": {
          "color": "#636efa",
          "opacity": 0.7,
          "symbol": "circle"
         },
         "mode": "markers",
         "name": "Gucci Bloom Ambrosia di Fiori Eau de Parfum Intense For Her Rollerball",
         "orientation": "v",
         "showlegend": true,
         "type": "scatter",
         "x": [
          "Gucci"
         ],
         "xaxis": "x",
         "y": [
          38
         ],
         "yaxis": "y"
        },
        {
         "hovertemplate": "<b>%{hovertext}</b><br><br>product_name=Guilty Pour Femme Eau de Parfum Intense<br>Brand=%{x}<br>Price (USD)=%{y}<extra></extra>",
         "hovertext": [
          "Guilty Pour Femme Eau de Parfum Intense"
         ],
         "legendgroup": "Guilty Pour Femme Eau de Parfum Intense",
         "marker": {
          "color": "#EF553B",
          "opacity": 0.7,
          "symbol": "circle"
         },
         "mode": "markers",
         "name": "Guilty Pour Femme Eau de Parfum Intense",
         "orientation": "v",
         "showlegend": true,
         "type": "scatter",
         "x": [
          "Gucci"
         ],
         "xaxis": "x",
         "y": [
          165
         ],
         "yaxis": "y"
        },
        {
         "hovertemplate": "<b>%{hovertext}</b><br><br>product_name=Guilty Pour Homme Parfum<br>Brand=%{x}<br>Price (USD)=%{y}<extra></extra>",
         "hovertext": [
          "Guilty Pour Homme Parfum"
         ],
         "legendgroup": "Guilty Pour Homme Parfum",
         "marker": {
          "color": "#00cc96",
          "opacity": 0.7,
          "symbol": "circle"
         },
         "mode": "markers",
         "name": "Guilty Pour Homme Parfum",
         "orientation": "v",
         "showlegend": true,
         "type": "scatter",
         "x": [
          "Gucci"
         ],
         "xaxis": "x",
         "y": [
          175
         ],
         "yaxis": "y"
        },
        {
         "hovertemplate": "<b>%{hovertext}</b><br><br>product_name=Bloom Eau de Parfum Intense<br>Brand=%{x}<br>Price (USD)=%{y}<extra></extra>",
         "hovertext": [
          "Bloom Eau de Parfum Intense"
         ],
         "legendgroup": "Bloom Eau de Parfum Intense",
         "marker": {
          "color": "#ab63fa",
          "opacity": 0.7,
          "symbol": "circle"
         },
         "mode": "markers",
         "name": "Bloom Eau de Parfum Intense",
         "orientation": "v",
         "showlegend": true,
         "type": "scatter",
         "x": [
          "Gucci"
         ],
         "xaxis": "x",
         "y": [
          165
         ],
         "yaxis": "y"
        },
        {
         "hovertemplate": "<b>%{hovertext}</b><br><br>product_name=Mon Guerlain Eau de Parfum<br>Brand=%{x}<br>Price (USD)=%{y}<extra></extra>",
         "hovertext": [
          "Mon Guerlain Eau de Parfum"
         ],
         "legendgroup": "Mon Guerlain Eau de Parfum",
         "marker": {
          "color": "#FFA15A",
          "opacity": 0.7,
          "symbol": "circle"
         },
         "mode": "markers",
         "name": "Mon Guerlain Eau de Parfum",
         "orientation": "v",
         "showlegend": true,
         "type": "scatter",
         "x": [
          "GUERLAIN"
         ],
         "xaxis": "x",
         "y": [
          155
         ],
         "yaxis": "y"
        },
        {
         "hovertemplate": "<b>%{hovertext}</b><br><br>product_name=Shalimar Eau de Parfum<br>Brand=%{x}<br>Price (USD)=%{y}<extra></extra>",
         "hovertext": [
          "Shalimar Eau de Parfum"
         ],
         "legendgroup": "Shalimar Eau de Parfum",
         "marker": {
          "color": "#19d3f3",
          "opacity": 0.7,
          "symbol": "circle"
         },
         "mode": "markers",
         "name": "Shalimar Eau de Parfum",
         "orientation": "v",
         "showlegend": true,
         "type": "scatter",
         "x": [
          "GUERLAIN"
         ],
         "xaxis": "x",
         "y": [
          125
         ],
         "yaxis": "y"
        },
        {
         "hovertemplate": "<b>%{hovertext}</b><br><br>product_name=Mon Guerlain Eau de Parfum Intense<br>Brand=%{x}<br>Price (USD)=%{y}<extra></extra>",
         "hovertext": [
          "Mon Guerlain Eau de Parfum Intense"
         ],
         "legendgroup": "Mon Guerlain Eau de Parfum Intense",
         "marker": {
          "color": "#FF6692",
          "opacity": 0.7,
          "symbol": "circle"
         },
         "mode": "markers",
         "name": "Mon Guerlain Eau de Parfum Intense",
         "orientation": "v",
         "showlegend": true,
         "type": "scatter",
         "x": [
          "GUERLAIN"
         ],
         "xaxis": "x",
         "y": [
          165
         ],
         "yaxis": "y"
        },
        {
         "hovertemplate": "<b>%{hovertext}</b><br><br>product_name=Aqua Allegoria Pera Granita Eau de Toilette<br>Brand=%{x}<br>Price (USD)=%{y}<extra></extra>",
         "hovertext": [
          "Aqua Allegoria Pera Granita Eau de Toilette"
         ],
         "legendgroup": "Aqua Allegoria Pera Granita Eau de Toilette",
         "marker": {
          "color": "#B6E880",
          "opacity": 0.7,
          "symbol": "circle"
         },
         "mode": "markers",
         "name": "Aqua Allegoria Pera Granita Eau de Toilette",
         "orientation": "v",
         "showlegend": true,
         "type": "scatter",
         "x": [
          "GUERLAIN"
         ],
         "xaxis": "x",
         "y": [
          110
         ],
         "yaxis": "y"
        },
        {
         "hovertemplate": "<b>%{hovertext}</b><br><br>product_name=Aqua Allegoria Mandarine Basilic Eau de Toilette<br>Brand=%{x}<br>Price (USD)=%{y}<extra></extra>",
         "hovertext": [
          "Aqua Allegoria Mandarine Basilic Eau de Toilette"
         ],
         "legendgroup": "Aqua Allegoria Mandarine Basilic Eau de Toilette",
         "marker": {
          "color": "#FF97FF",
          "opacity": 0.7,
          "symbol": "circle"
         },
         "mode": "markers",
         "name": "Aqua Allegoria Mandarine Basilic Eau de Toilette",
         "orientation": "v",
         "showlegend": true,
         "type": "scatter",
         "x": [
          "GUERLAIN"
         ],
         "xaxis": "x",
         "y": [
          110
         ],
         "yaxis": "y"
        },
        {
         "hovertemplate": "<b>%{hovertext}</b><br><br>product_name=Aqua Allegoria Flora Salvaggia Eau de Toilette<br>Brand=%{x}<br>Price (USD)=%{y}<extra></extra>",
         "hovertext": [
          "Aqua Allegoria Flora Salvaggia Eau de Toilette"
         ],
         "legendgroup": "Aqua Allegoria Flora Salvaggia Eau de Toilette",
         "marker": {
          "color": "#FECB52",
          "opacity": 0.7,
          "symbol": "circle"
         },
         "mode": "markers",
         "name": "Aqua Allegoria Flora Salvaggia Eau de Toilette",
         "orientation": "v",
         "showlegend": true,
         "type": "scatter",
         "x": [
          "GUERLAIN"
         ],
         "xaxis": "x",
         "y": [
          110
         ],
         "yaxis": "y"
        },
        {
         "hovertemplate": "<b>%{hovertext}</b><br><br>product_name=Aqua Allegoria Flora Cherrysia Eau de Toilette<br>Brand=%{x}<br>Price (USD)=%{y}<extra></extra>",
         "hovertext": [
          "Aqua Allegoria Flora Cherrysia Eau de Toilette"
         ],
         "legendgroup": "Aqua Allegoria Flora Cherrysia Eau de Toilette",
         "marker": {
          "color": "#636efa",
          "opacity": 0.7,
          "symbol": "circle"
         },
         "mode": "markers",
         "name": "Aqua Allegoria Flora Cherrysia Eau de Toilette",
         "orientation": "v",
         "showlegend": true,
         "type": "scatter",
         "x": [
          "GUERLAIN"
         ],
         "xaxis": "x",
         "y": [
          110
         ],
         "yaxis": "y"
        },
        {
         "hovertemplate": "<b>%{hovertext}</b><br><br>product_name=Aqua Allegoria Bergamote Calabria Eau de Toilette<br>Brand=%{x}<br>Price (USD)=%{y}<extra></extra>",
         "hovertext": [
          "Aqua Allegoria Bergamote Calabria Eau de Toilette"
         ],
         "legendgroup": "Aqua Allegoria Bergamote Calabria Eau de Toilette",
         "marker": {
          "color": "#EF553B",
          "opacity": 0.7,
          "symbol": "circle"
         },
         "mode": "markers",
         "name": "Aqua Allegoria Bergamote Calabria Eau de Toilette",
         "orientation": "v",
         "showlegend": true,
         "type": "scatter",
         "x": [
          "GUERLAIN"
         ],
         "xaxis": "x",
         "y": [
          110
         ],
         "yaxis": "y"
        },
        {
         "hovertemplate": "<b>%{hovertext}</b><br><br>product_name=Aqua Allegoria Rosa Rossa Eau de Toilette<br>Brand=%{x}<br>Price (USD)=%{y}<extra></extra>",
         "hovertext": [
          "Aqua Allegoria Rosa Rossa Eau de Toilette"
         ],
         "legendgroup": "Aqua Allegoria Rosa Rossa Eau de Toilette",
         "marker": {
          "color": "#00cc96",
          "opacity": 0.7,
          "symbol": "circle"
         },
         "mode": "markers",
         "name": "Aqua Allegoria Rosa Rossa Eau de Toilette",
         "orientation": "v",
         "showlegend": true,
         "type": "scatter",
         "x": [
          "GUERLAIN"
         ],
         "xaxis": "x",
         "y": [
          110
         ],
         "yaxis": "y"
        },
        {
         "hovertemplate": "<b>%{hovertext}</b><br><br>product_name=Aqua Allegoria Nerolia Vetiver Eau de Toilette<br>Brand=%{x}<br>Price (USD)=%{y}<extra></extra>",
         "hovertext": [
          "Aqua Allegoria Nerolia Vetiver Eau de Toilette"
         ],
         "legendgroup": "Aqua Allegoria Nerolia Vetiver Eau de Toilette",
         "marker": {
          "color": "#ab63fa",
          "opacity": 0.7,
          "symbol": "circle"
         },
         "mode": "markers",
         "name": "Aqua Allegoria Nerolia Vetiver Eau de Toilette",
         "orientation": "v",
         "showlegend": true,
         "type": "scatter",
         "x": [
          "GUERLAIN"
         ],
         "xaxis": "x",
         "y": [
          110
         ],
         "yaxis": "y"
        },
        {
         "hovertemplate": "<b>%{hovertext}</b><br><br>product_name=Aqua Allegoria Orange Soleia Eau de Toilette<br>Brand=%{x}<br>Price (USD)=%{y}<extra></extra>",
         "hovertext": [
          "Aqua Allegoria Orange Soleia Eau de Toilette"
         ],
         "legendgroup": "Aqua Allegoria Orange Soleia Eau de Toilette",
         "marker": {
          "color": "#FFA15A",
          "opacity": 0.7,
          "symbol": "circle"
         },
         "mode": "markers",
         "name": "Aqua Allegoria Orange Soleia Eau de Toilette",
         "orientation": "v",
         "showlegend": true,
         "type": "scatter",
         "x": [
          "GUERLAIN"
         ],
         "xaxis": "x",
         "y": [
          110
         ],
         "yaxis": "y"
        },
        {
         "hovertemplate": "<b>%{hovertext}</b><br><br>product_name=Aqua Allegoria Pamplelune Eau de Toilette<br>Brand=%{x}<br>Price (USD)=%{y}<extra></extra>",
         "hovertext": [
          "Aqua Allegoria Pamplelune Eau de Toilette"
         ],
         "legendgroup": "Aqua Allegoria Pamplelune Eau de Toilette",
         "marker": {
          "color": "#19d3f3",
          "opacity": 0.7,
          "symbol": "circle"
         },
         "mode": "markers",
         "name": "Aqua Allegoria Pamplelune Eau de Toilette",
         "orientation": "v",
         "showlegend": true,
         "type": "scatter",
         "x": [
          "GUERLAIN"
         ],
         "xaxis": "x",
         "y": [
          110
         ],
         "yaxis": "y"
        },
        {
         "hovertemplate": "<b>%{hovertext}</b><br><br>product_name=Dirty Vanilla Eau de Parfum Travel Spray<br>Brand=%{x}<br>Price (USD)=%{y}<extra></extra>",
         "hovertext": [
          "Dirty Vanilla Eau de Parfum Travel Spray"
         ],
         "legendgroup": "Dirty Vanilla Eau de Parfum Travel Spray",
         "marker": {
          "color": "#FF6692",
          "opacity": 0.7,
          "symbol": "circle"
         },
         "mode": "markers",
         "name": "Dirty Vanilla Eau de Parfum Travel Spray",
         "orientation": "v",
         "showlegend": true,
         "type": "scatter",
         "x": [
          "HERETIC"
         ],
         "xaxis": "x",
         "y": [
          65
         ],
         "yaxis": "y"
        },
        {
         "hovertemplate": "<b>%{hovertext}</b><br><br>product_name=Dirty Coconut Eau de Parfum Travel Spray<br>Brand=%{x}<br>Price (USD)=%{y}<extra></extra>",
         "hovertext": [
          "Dirty Coconut Eau de Parfum Travel Spray"
         ],
         "legendgroup": "Dirty Coconut Eau de Parfum Travel Spray",
         "marker": {
          "color": "#B6E880",
          "opacity": 0.7,
          "symbol": "circle"
         },
         "mode": "markers",
         "name": "Dirty Coconut Eau de Parfum Travel Spray",
         "orientation": "v",
         "showlegend": true,
         "type": "scatter",
         "x": [
          "HERETIC"
         ],
         "xaxis": "x",
         "y": [
          65
         ],
         "yaxis": "y"
        },
        {
         "hovertemplate": "<b>%{hovertext}</b><br><br>product_name=Dirty Vanilla Eau de Parfum<br>Brand=%{x}<br>Price (USD)=%{y}<extra></extra>",
         "hovertext": [
          "Dirty Vanilla Eau de Parfum"
         ],
         "legendgroup": "Dirty Vanilla Eau de Parfum",
         "marker": {
          "color": "#FF97FF",
          "opacity": 0.7,
          "symbol": "circle"
         },
         "mode": "markers",
         "name": "Dirty Vanilla Eau de Parfum",
         "orientation": "v",
         "showlegend": true,
         "type": "scatter",
         "x": [
          "HERETIC"
         ],
         "xaxis": "x",
         "y": [
          165
         ],
         "yaxis": "y"
        },
        {
         "hovertemplate": "<b>%{hovertext}</b><br><br>product_name=Dirty Coconut Eau de Parfum<br>Brand=%{x}<br>Price (USD)=%{y}<extra></extra>",
         "hovertext": [
          "Dirty Coconut Eau de Parfum"
         ],
         "legendgroup": "Dirty Coconut Eau de Parfum",
         "marker": {
          "color": "#FECB52",
          "opacity": 0.7,
          "symbol": "circle"
         },
         "mode": "markers",
         "name": "Dirty Coconut Eau de Parfum",
         "orientation": "v",
         "showlegend": true,
         "type": "scatter",
         "x": [
          "HERETIC"
         ],
         "xaxis": "x",
         "y": [
          165
         ],
         "yaxis": "y"
        },
        {
         "hovertemplate": "<b>%{hovertext}</b><br><br>product_name=Dirty Hinoki Eau de Parfum Travel Spray<br>Brand=%{x}<br>Price (USD)=%{y}<extra></extra>",
         "hovertext": [
          "Dirty Hinoki Eau de Parfum Travel Spray"
         ],
         "legendgroup": "Dirty Hinoki Eau de Parfum Travel Spray",
         "marker": {
          "color": "#636efa",
          "opacity": 0.7,
          "symbol": "circle"
         },
         "mode": "markers",
         "name": "Dirty Hinoki Eau de Parfum Travel Spray",
         "orientation": "v",
         "showlegend": true,
         "type": "scatter",
         "x": [
          "HERETIC"
         ],
         "xaxis": "x",
         "y": [
          65
         ],
         "yaxis": "y"
        },
        {
         "hovertemplate": "<b>%{hovertext}</b><br><br>product_name=Dirty Hinoki Eau de Parfum<br>Brand=%{x}<br>Price (USD)=%{y}<extra></extra>",
         "hovertext": [
          "Dirty Hinoki Eau de Parfum"
         ],
         "legendgroup": "Dirty Hinoki Eau de Parfum",
         "marker": {
          "color": "#EF553B",
          "opacity": 0.7,
          "symbol": "circle"
         },
         "mode": "markers",
         "name": "Dirty Hinoki Eau de Parfum",
         "orientation": "v",
         "showlegend": true,
         "type": "scatter",
         "x": [
          "HERETIC"
         ],
         "xaxis": "x",
         "y": [
          165
         ],
         "yaxis": "y"
        },
        {
         "hovertemplate": "<b>%{hovertext}</b><br><br>product_name=Un Jardin sur le Nil Eau de Toilette<br>Brand=%{x}<br>Price (USD)=%{y}<extra></extra>",
         "hovertext": [
          "Un Jardin sur le Nil Eau de Toilette"
         ],
         "legendgroup": "Un Jardin sur le Nil Eau de Toilette",
         "marker": {
          "color": "#00cc96",
          "opacity": 0.7,
          "symbol": "circle"
         },
         "mode": "markers",
         "name": "Un Jardin sur le Nil Eau de Toilette",
         "orientation": "v",
         "showlegend": true,
         "type": "scatter",
         "x": [
          "HERMÈS"
         ],
         "xaxis": "x",
         "y": [
          149
         ],
         "yaxis": "y"
        },
        {
         "hovertemplate": "<b>%{hovertext}</b><br><br>product_name=Un Jardin sur le Toit Eau de Toilette<br>Brand=%{x}<br>Price (USD)=%{y}<extra></extra>",
         "hovertext": [
          "Un Jardin sur le Toit Eau de Toilette"
         ],
         "legendgroup": "Un Jardin sur le Toit Eau de Toilette",
         "marker": {
          "color": "#ab63fa",
          "opacity": 0.7,
          "symbol": "circle"
         },
         "mode": "markers",
         "name": "Un Jardin sur le Toit Eau de Toilette",
         "orientation": "v",
         "showlegend": true,
         "type": "scatter",
         "x": [
          "HERMÈS"
         ],
         "xaxis": "x",
         "y": [
          149
         ],
         "yaxis": "y"
        },
        {
         "hovertemplate": "<b>%{hovertext}</b><br><br>product_name=Le Jardin de Monsieur Li Eau de Toilette<br>Brand=%{x}<br>Price (USD)=%{y}<extra></extra>",
         "hovertext": [
          "Le Jardin de Monsieur Li Eau de Toilette"
         ],
         "legendgroup": "Le Jardin de Monsieur Li Eau de Toilette",
         "marker": {
          "color": "#FFA15A",
          "opacity": 0.7,
          "symbol": "circle"
         },
         "mode": "markers",
         "name": "Le Jardin de Monsieur Li Eau de Toilette",
         "orientation": "v",
         "showlegend": true,
         "type": "scatter",
         "x": [
          "HERMÈS"
         ],
         "xaxis": "x",
         "y": [
          149
         ],
         "yaxis": "y"
        },
        {
         "hovertemplate": "<b>%{hovertext}</b><br><br>product_name=Eau de Rhubarbe Écarlate Eau de Cologne<br>Brand=%{x}<br>Price (USD)=%{y}<extra></extra>",
         "hovertext": [
          "Eau de Rhubarbe Écarlate Eau de Cologne"
         ],
         "legendgroup": "Eau de Rhubarbe Écarlate Eau de Cologne",
         "marker": {
          "color": "#19d3f3",
          "opacity": 0.7,
          "symbol": "circle"
         },
         "mode": "markers",
         "name": "Eau de Rhubarbe Écarlate Eau de Cologne",
         "orientation": "v",
         "showlegend": true,
         "type": "scatter",
         "x": [
          "HERMÈS"
         ],
         "xaxis": "x",
         "y": [
          141
         ],
         "yaxis": "y"
        },
        {
         "hovertemplate": "<b>%{hovertext}</b><br><br>product_name=Eau d’orange verte<br>Brand=%{x}<br>Price (USD)=%{y}<extra></extra>",
         "hovertext": [
          "Eau d’orange verte"
         ],
         "legendgroup": "Eau d’orange verte",
         "marker": {
          "color": "#FF6692",
          "opacity": 0.7,
          "symbol": "circle"
         },
         "mode": "markers",
         "name": "Eau d’orange verte",
         "orientation": "v",
         "showlegend": true,
         "type": "scatter",
         "x": [
          "HERMÈS"
         ],
         "xaxis": "x",
         "y": [
          152
         ],
         "yaxis": "y"
        },
        {
         "hovertemplate": "<b>%{hovertext}</b><br><br>product_name=H24 Eau de Toilette<br>Brand=%{x}<br>Price (USD)=%{y}<extra></extra>",
         "hovertext": [
          "H24 Eau de Toilette"
         ],
         "legendgroup": "H24 Eau de Toilette",
         "marker": {
          "color": "#B6E880",
          "opacity": 0.7,
          "symbol": "circle"
         },
         "mode": "markers",
         "name": "H24 Eau de Toilette",
         "orientation": "v",
         "showlegend": true,
         "type": "scatter",
         "x": [
          "HERMÈS"
         ],
         "xaxis": "x",
         "y": [
          116
         ],
         "yaxis": "y"
        },
        {
         "hovertemplate": "<b>%{hovertext}</b><br><br>product_name=Terre d'Hermès Eau Givrée Eau de Parfum<br>Brand=%{x}<br>Price (USD)=%{y}<extra></extra>",
         "hovertext": [
          "Terre d'Hermès Eau Givrée Eau de Parfum"
         ],
         "legendgroup": "Terre d'Hermès Eau Givrée Eau de Parfum",
         "marker": {
          "color": "#FF97FF",
          "opacity": 0.7,
          "symbol": "circle"
         },
         "mode": "markers",
         "name": "Terre d'Hermès Eau Givrée Eau de Parfum",
         "orientation": "v",
         "showlegend": true,
         "type": "scatter",
         "x": [
          "HERMÈS"
         ],
         "xaxis": "x",
         "y": [
          108
         ],
         "yaxis": "y"
        },
        {
         "hovertemplate": "<b>%{hovertext}</b><br><br>product_name=H24 Eau de Parfum<br>Brand=%{x}<br>Price (USD)=%{y}<extra></extra>",
         "hovertext": [
          "H24 Eau de Parfum"
         ],
         "legendgroup": "H24 Eau de Parfum",
         "marker": {
          "color": "#FECB52",
          "opacity": 0.7,
          "symbol": "circle"
         },
         "mode": "markers",
         "name": "H24 Eau de Parfum",
         "orientation": "v",
         "showlegend": true,
         "type": "scatter",
         "x": [
          "HERMÈS"
         ],
         "xaxis": "x",
         "y": [
          148
         ],
         "yaxis": "y"
        },
        {
         "hovertemplate": "<b>%{hovertext}</b><br><br>product_name=Wood Sage & Sea Salt Cologne<br>Brand=%{x}<br>Price (USD)=%{y}<extra></extra>",
         "hovertext": [
          "Wood Sage & Sea Salt Cologne"
         ],
         "legendgroup": "Wood Sage & Sea Salt Cologne",
         "marker": {
          "color": "#636efa",
          "opacity": 0.7,
          "symbol": "circle"
         },
         "mode": "markers",
         "name": "Wood Sage & Sea Salt Cologne",
         "orientation": "v",
         "showlegend": true,
         "type": "scatter",
         "x": [
          "Jo Malone London"
         ],
         "xaxis": "x",
         "y": [
          155
         ],
         "yaxis": "y"
        },
        {
         "hovertemplate": "<b>%{hovertext}</b><br><br>product_name=Peony & Blush Suede Cologne<br>Brand=%{x}<br>Price (USD)=%{y}<extra></extra>",
         "hovertext": [
          "Peony & Blush Suede Cologne"
         ],
         "legendgroup": "Peony & Blush Suede Cologne",
         "marker": {
          "color": "#EF553B",
          "opacity": 0.7,
          "symbol": "circle"
         },
         "mode": "markers",
         "name": "Peony & Blush Suede Cologne",
         "orientation": "v",
         "showlegend": true,
         "type": "scatter",
         "x": [
          "Jo Malone London"
         ],
         "xaxis": "x",
         "y": [
          155
         ],
         "yaxis": "y"
        },
        {
         "hovertemplate": "<b>%{hovertext}</b><br><br>product_name=Nectarine Blossom & Honey Cologne<br>Brand=%{x}<br>Price (USD)=%{y}<extra></extra>",
         "hovertext": [
          "Nectarine Blossom & Honey Cologne"
         ],
         "legendgroup": "Nectarine Blossom & Honey Cologne",
         "marker": {
          "color": "#00cc96",
          "opacity": 0.7,
          "symbol": "circle"
         },
         "mode": "markers",
         "name": "Nectarine Blossom & Honey Cologne",
         "orientation": "v",
         "showlegend": true,
         "type": "scatter",
         "x": [
          "Jo Malone London"
         ],
         "xaxis": "x",
         "y": [
          155
         ],
         "yaxis": "y"
        },
        {
         "hovertemplate": "<b>%{hovertext}</b><br><br>product_name=Wood Sage & Sea Salt/ Peony & Blush Suede Mini Set<br>Brand=%{x}<br>Price (USD)=%{y}<extra></extra>",
         "hovertext": [
          "Wood Sage & Sea Salt/ Peony & Blush Suede Mini Set"
         ],
         "legendgroup": "Wood Sage & Sea Salt/ Peony & Blush Suede Mini Set",
         "marker": {
          "color": "#ab63fa",
          "opacity": 0.7,
          "symbol": "circle"
         },
         "mode": "markers",
         "name": "Wood Sage & Sea Salt/ Peony & Blush Suede Mini Set",
         "orientation": "v",
         "showlegend": true,
         "type": "scatter",
         "x": [
          "Jo Malone London"
         ],
         "xaxis": "x",
         "y": [
          45
         ],
         "yaxis": "y"
        },
        {
         "hovertemplate": "<b>%{hovertext}</b><br><br>product_name=English Pear & Freesia Cologne<br>Brand=%{x}<br>Price (USD)=%{y}<extra></extra>",
         "hovertext": [
          "English Pear & Freesia Cologne"
         ],
         "legendgroup": "English Pear & Freesia Cologne",
         "marker": {
          "color": "#FFA15A",
          "opacity": 0.7,
          "symbol": "circle"
         },
         "mode": "markers",
         "name": "English Pear & Freesia Cologne",
         "orientation": "v",
         "showlegend": true,
         "type": "scatter",
         "x": [
          "Jo Malone London"
         ],
         "xaxis": "x",
         "y": [
          80
         ],
         "yaxis": "y"
        },
        {
         "hovertemplate": "<b>%{hovertext}</b><br><br>product_name=Wild Bluebell Cologne<br>Brand=%{x}<br>Price (USD)=%{y}<extra></extra>",
         "hovertext": [
          "Wild Bluebell Cologne"
         ],
         "legendgroup": "Wild Bluebell Cologne",
         "marker": {
          "color": "#19d3f3",
          "opacity": 0.7,
          "symbol": "circle"
         },
         "mode": "markers",
         "name": "Wild Bluebell Cologne",
         "orientation": "v",
         "showlegend": true,
         "type": "scatter",
         "x": [
          "Jo Malone London"
         ],
         "xaxis": "x",
         "y": [
          155
         ],
         "yaxis": "y"
        },
        {
         "hovertemplate": "<b>%{hovertext}</b><br><br>product_name=Red Roses Cologne<br>Brand=%{x}<br>Price (USD)=%{y}<extra></extra>",
         "hovertext": [
          "Red Roses Cologne"
         ],
         "legendgroup": "Red Roses Cologne",
         "marker": {
          "color": "#FF6692",
          "opacity": 0.7,
          "symbol": "circle"
         },
         "mode": "markers",
         "name": "Red Roses Cologne",
         "orientation": "v",
         "showlegend": true,
         "type": "scatter",
         "x": [
          "Jo Malone London"
         ],
         "xaxis": "x",
         "y": [
          155
         ],
         "yaxis": "y"
        },
        {
         "hovertemplate": "<b>%{hovertext}</b><br><br>product_name=Orange Blossom Cologne<br>Brand=%{x}<br>Price (USD)=%{y}<extra></extra>",
         "hovertext": [
          "Orange Blossom Cologne"
         ],
         "legendgroup": "Orange Blossom Cologne",
         "marker": {
          "color": "#B6E880",
          "opacity": 0.7,
          "symbol": "circle"
         },
         "mode": "markers",
         "name": "Orange Blossom Cologne",
         "orientation": "v",
         "showlegend": true,
         "type": "scatter",
         "x": [
          "Jo Malone London"
         ],
         "xaxis": "x",
         "y": [
          155
         ],
         "yaxis": "y"
        },
        {
         "hovertemplate": "<b>%{hovertext}</b><br><br>product_name=Mimosa & Cardamom Cologne<br>Brand=%{x}<br>Price (USD)=%{y}<extra></extra>",
         "hovertext": [
          "Mimosa & Cardamom Cologne"
         ],
         "legendgroup": "Mimosa & Cardamom Cologne",
         "marker": {
          "color": "#FF97FF",
          "opacity": 0.7,
          "symbol": "circle"
         },
         "mode": "markers",
         "name": "Mimosa & Cardamom Cologne",
         "orientation": "v",
         "showlegend": true,
         "type": "scatter",
         "x": [
          "Jo Malone London"
         ],
         "xaxis": "x",
         "y": [
          155
         ],
         "yaxis": "y"
        },
        {
         "hovertemplate": "<b>%{hovertext}</b><br><br>product_name=Blackberry & Bay Cologne<br>Brand=%{x}<br>Price (USD)=%{y}<extra></extra>",
         "hovertext": [
          "Blackberry & Bay Cologne"
         ],
         "legendgroup": "Blackberry & Bay Cologne",
         "marker": {
          "color": "#FECB52",
          "opacity": 0.7,
          "symbol": "circle"
         },
         "mode": "markers",
         "name": "Blackberry & Bay Cologne",
         "orientation": "v",
         "showlegend": true,
         "type": "scatter",
         "x": [
          "Jo Malone London"
         ],
         "xaxis": "x",
         "y": [
          155
         ],
         "yaxis": "y"
        },
        {
         "hovertemplate": "<b>%{hovertext}</b><br><br>product_name=Poppy & Barley Cologne<br>Brand=%{x}<br>Price (USD)=%{y}<extra></extra>",
         "hovertext": [
          "Poppy & Barley Cologne"
         ],
         "legendgroup": "Poppy & Barley Cologne",
         "marker": {
          "color": "#636efa",
          "opacity": 0.7,
          "symbol": "circle"
         },
         "mode": "markers",
         "name": "Poppy & Barley Cologne",
         "orientation": "v",
         "showlegend": true,
         "type": "scatter",
         "x": [
          "Jo Malone London"
         ],
         "xaxis": "x",
         "y": [
          145
         ],
         "yaxis": "y"
        },
        {
         "hovertemplate": "<b>%{hovertext}</b><br><br>product_name=Wood Sage & Sea Salt Cologne Travel Spray<br>Brand=%{x}<br>Price (USD)=%{y}<extra></extra>",
         "hovertext": [
          "Wood Sage & Sea Salt Cologne Travel Spray"
         ],
         "legendgroup": "Wood Sage & Sea Salt Cologne Travel Spray",
         "marker": {
          "color": "#EF553B",
          "opacity": 0.7,
          "symbol": "circle"
         },
         "mode": "markers",
         "name": "Wood Sage & Sea Salt Cologne Travel Spray",
         "orientation": "v",
         "showlegend": true,
         "type": "scatter",
         "x": [
          "Jo Malone London"
         ],
         "xaxis": "x",
         "y": [
          24
         ],
         "yaxis": "y"
        },
        {
         "hovertemplate": "<b>%{hovertext}</b><br><br>product_name=Sea Daffodil Cologne<br>Brand=%{x}<br>Price (USD)=%{y}<extra></extra>",
         "hovertext": [
          "Sea Daffodil Cologne"
         ],
         "legendgroup": "Sea Daffodil Cologne",
         "marker": {
          "color": "#00cc96",
          "opacity": 0.7,
          "symbol": "circle"
         },
         "mode": "markers",
         "name": "Sea Daffodil Cologne",
         "orientation": "v",
         "showlegend": true,
         "type": "scatter",
         "x": [
          "Jo Malone London"
         ],
         "xaxis": "x",
         "y": [
          150
         ],
         "yaxis": "y"
        },
        {
         "hovertemplate": "<b>%{hovertext}</b><br><br>product_name=Silk Blossom Cologne<br>Brand=%{x}<br>Price (USD)=%{y}<extra></extra>",
         "hovertext": [
          "Silk Blossom Cologne"
         ],
         "legendgroup": "Silk Blossom Cologne",
         "marker": {
          "color": "#ab63fa",
          "opacity": 0.7,
          "symbol": "circle"
         },
         "mode": "markers",
         "name": "Silk Blossom Cologne",
         "orientation": "v",
         "showlegend": true,
         "type": "scatter",
         "x": [
          "Jo Malone London"
         ],
         "xaxis": "x",
         "y": [
          150
         ],
         "yaxis": "y"
        },
        {
         "hovertemplate": "<b>%{hovertext}</b><br><br>product_name=Bitter Mandarin Cologne<br>Brand=%{x}<br>Price (USD)=%{y}<extra></extra>",
         "hovertext": [
          "Bitter Mandarin Cologne"
         ],
         "legendgroup": "Bitter Mandarin Cologne",
         "marker": {
          "color": "#FFA15A",
          "opacity": 0.7,
          "symbol": "circle"
         },
         "mode": "markers",
         "name": "Bitter Mandarin Cologne",
         "orientation": "v",
         "showlegend": true,
         "type": "scatter",
         "x": [
          "Jo Malone London"
         ],
         "xaxis": "x",
         "y": [
          150
         ],
         "yaxis": "y"
        },
        {
         "hovertemplate": "<b>%{hovertext}</b><br><br>product_name=Limited Edition English Pear & Freesia Cologne<br>Brand=%{x}<br>Price (USD)=%{y}<extra></extra>",
         "hovertext": [
          "Limited Edition English Pear & Freesia Cologne"
         ],
         "legendgroup": "Limited Edition English Pear & Freesia Cologne",
         "marker": {
          "color": "#19d3f3",
          "opacity": 0.7,
          "symbol": "circle"
         },
         "mode": "markers",
         "name": "Limited Edition English Pear & Freesia Cologne",
         "orientation": "v",
         "showlegend": true,
         "type": "scatter",
         "x": [
          "Jo Malone London"
         ],
         "xaxis": "x",
         "y": [
          80
         ],
         "yaxis": "y"
        },
        {
         "hovertemplate": "<b>%{hovertext}</b><br><br>product_name=Viva La Juicy<br>Brand=%{x}<br>Price (USD)=%{y}<extra></extra>",
         "hovertext": [
          "Viva La Juicy"
         ],
         "legendgroup": "Viva La Juicy",
         "marker": {
          "color": "#FF6692",
          "opacity": 0.7,
          "symbol": "circle"
         },
         "mode": "markers",
         "name": "Viva La Juicy",
         "orientation": "v",
         "showlegend": true,
         "type": "scatter",
         "x": [
          "Juicy Couture"
         ],
         "xaxis": "x",
         "y": [
          86
         ],
         "yaxis": "y"
        },
        {
         "hovertemplate": "<b>%{hovertext}</b><br><br>product_name=Viva La Juicy Rollerball<br>Brand=%{x}<br>Price (USD)=%{y}<extra></extra>",
         "hovertext": [
          "Viva La Juicy Rollerball"
         ],
         "legendgroup": "Viva La Juicy Rollerball",
         "marker": {
          "color": "#B6E880",
          "opacity": 0.7,
          "symbol": "circle"
         },
         "mode": "markers",
         "name": "Viva La Juicy Rollerball",
         "orientation": "v",
         "showlegend": true,
         "type": "scatter",
         "x": [
          "Juicy Couture"
         ],
         "xaxis": "x",
         "y": [
          27
         ],
         "yaxis": "y"
        },
        {
         "hovertemplate": "<b>%{hovertext}</b><br><br>product_name=Viva La Juicy Gold Couture<br>Brand=%{x}<br>Price (USD)=%{y}<extra></extra>",
         "hovertext": [
          "Viva La Juicy Gold Couture"
         ],
         "legendgroup": "Viva La Juicy Gold Couture",
         "marker": {
          "color": "#FF97FF",
          "opacity": 0.7,
          "symbol": "circle"
         },
         "mode": "markers",
         "name": "Viva La Juicy Gold Couture",
         "orientation": "v",
         "showlegend": true,
         "type": "scatter",
         "x": [
          "Juicy Couture"
         ],
         "xaxis": "x",
         "y": [
          86
         ],
         "yaxis": "y"
        },
        {
         "hovertemplate": "<b>%{hovertext}</b><br><br>product_name=Viva La Juicy Noir<br>Brand=%{x}<br>Price (USD)=%{y}<extra></extra>",
         "hovertext": [
          "Viva La Juicy Noir"
         ],
         "legendgroup": "Viva La Juicy Noir",
         "marker": {
          "color": "#FECB52",
          "opacity": 0.7,
          "symbol": "circle"
         },
         "mode": "markers",
         "name": "Viva La Juicy Noir",
         "orientation": "v",
         "showlegend": true,
         "type": "scatter",
         "x": [
          "Juicy Couture"
         ],
         "xaxis": "x",
         "y": [
          106
         ],
         "yaxis": "y"
        },
        {
         "hovertemplate": "<b>%{hovertext}</b><br><br>product_name=Not A Perfume<br>Brand=%{x}<br>Price (USD)=%{y}<extra></extra>",
         "hovertext": [
          "Not A Perfume"
         ],
         "legendgroup": "Not A Perfume",
         "marker": {
          "color": "#636efa",
          "opacity": 0.7,
          "symbol": "circle"
         },
         "mode": "markers",
         "name": "Not A Perfume",
         "orientation": "v",
         "showlegend": true,
         "type": "scatter",
         "x": [
          "Juliette Has a Gun"
         ],
         "xaxis": "x",
         "y": [
          140
         ],
         "yaxis": "y"
        },
        {
         "hovertemplate": "<b>%{hovertext}</b><br><br>product_name=Not A Perfume Travel Spray<br>Brand=%{x}<br>Price (USD)=%{y}<extra></extra>",
         "hovertext": [
          "Not A Perfume Travel Spray"
         ],
         "legendgroup": "Not A Perfume Travel Spray",
         "marker": {
          "color": "#EF553B",
          "opacity": 0.7,
          "symbol": "circle"
         },
         "mode": "markers",
         "name": "Not A Perfume Travel Spray",
         "orientation": "v",
         "showlegend": true,
         "type": "scatter",
         "x": [
          "Juliette Has a Gun"
         ],
         "xaxis": "x",
         "y": [
          30
         ],
         "yaxis": "y"
        },
        {
         "hovertemplate": "<b>%{hovertext}</b><br><br>product_name=PEAR INC.<br>Brand=%{x}<br>Price (USD)=%{y}<extra></extra>",
         "hovertext": [
          "PEAR INC."
         ],
         "legendgroup": "PEAR INC.",
         "marker": {
          "color": "#00cc96",
          "opacity": 0.7,
          "symbol": "circle"
         },
         "mode": "markers",
         "name": "PEAR INC.",
         "orientation": "v",
         "showlegend": true,
         "type": "scatter",
         "x": [
          "Juliette Has a Gun"
         ],
         "xaxis": "x",
         "y": [
          140
         ],
         "yaxis": "y"
        },
        {
         "hovertemplate": "<b>%{hovertext}</b><br><br>product_name=PEAR INC. Travel Spray<br>Brand=%{x}<br>Price (USD)=%{y}<extra></extra>",
         "hovertext": [
          "PEAR INC. Travel Spray"
         ],
         "legendgroup": "PEAR INC. Travel Spray",
         "marker": {
          "color": "#ab63fa",
          "opacity": 0.7,
          "symbol": "circle"
         },
         "mode": "markers",
         "name": "PEAR INC. Travel Spray",
         "orientation": "v",
         "showlegend": true,
         "type": "scatter",
         "x": [
          "Juliette Has a Gun"
         ],
         "xaxis": "x",
         "y": [
          30
         ],
         "yaxis": "y"
        },
        {
         "hovertemplate": "<b>%{hovertext}</b><br><br>product_name=Magnolia Bliss Eau de Parfum<br>Brand=%{x}<br>Price (USD)=%{y}<extra></extra>",
         "hovertext": [
          "Magnolia Bliss Eau de Parfum"
         ],
         "legendgroup": "Magnolia Bliss Eau de Parfum",
         "marker": {
          "color": "#FFA15A",
          "opacity": 0.7,
          "symbol": "circle"
         },
         "mode": "markers",
         "name": "Magnolia Bliss Eau de Parfum",
         "orientation": "v",
         "showlegend": true,
         "type": "scatter",
         "x": [
          "Juliette Has a Gun"
         ],
         "xaxis": "x",
         "y": [
          140
         ],
         "yaxis": "y"
        },
        {
         "hovertemplate": "<b>%{hovertext}</b><br><br>product_name=Magnolia Bliss Eau de Parfum Travel Spray<br>Brand=%{x}<br>Price (USD)=%{y}<extra></extra>",
         "hovertext": [
          "Magnolia Bliss Eau de Parfum Travel Spray"
         ],
         "legendgroup": "Magnolia Bliss Eau de Parfum Travel Spray",
         "marker": {
          "color": "#19d3f3",
          "opacity": 0.7,
          "symbol": "circle"
         },
         "mode": "markers",
         "name": "Magnolia Bliss Eau de Parfum Travel Spray",
         "orientation": "v",
         "showlegend": true,
         "type": "scatter",
         "x": [
          "Juliette Has a Gun"
         ],
         "xaxis": "x",
         "y": [
          30
         ],
         "yaxis": "y"
        },
        {
         "hovertemplate": "<b>%{hovertext}</b><br><br>product_name=Musc Invisible<br>Brand=%{x}<br>Price (USD)=%{y}<extra></extra>",
         "hovertext": [
          "Musc Invisible"
         ],
         "legendgroup": "Musc Invisible",
         "marker": {
          "color": "#FF6692",
          "opacity": 0.7,
          "symbol": "circle"
         },
         "mode": "markers",
         "name": "Musc Invisible",
         "orientation": "v",
         "showlegend": true,
         "type": "scatter",
         "x": [
          "Juliette Has a Gun"
         ],
         "xaxis": "x",
         "y": [
          140
         ],
         "yaxis": "y"
        },
        {
         "hovertemplate": "<b>%{hovertext}</b><br><br>product_name=Musc Invisible Travel Spray<br>Brand=%{x}<br>Price (USD)=%{y}<extra></extra>",
         "hovertext": [
          "Musc Invisible Travel Spray"
         ],
         "legendgroup": "Musc Invisible Travel Spray",
         "marker": {
          "color": "#B6E880",
          "opacity": 0.7,
          "symbol": "circle"
         },
         "mode": "markers",
         "name": "Musc Invisible Travel Spray",
         "orientation": "v",
         "showlegend": true,
         "type": "scatter",
         "x": [
          "Juliette Has a Gun"
         ],
         "xaxis": "x",
         "y": [
          30
         ],
         "yaxis": "y"
        },
        {
         "hovertemplate": "<b>%{hovertext}</b><br><br>product_name=Lili Fantasy Eau de Parfum<br>Brand=%{x}<br>Price (USD)=%{y}<extra></extra>",
         "hovertext": [
          "Lili Fantasy Eau de Parfum"
         ],
         "legendgroup": "Lili Fantasy Eau de Parfum",
         "marker": {
          "color": "#FF97FF",
          "opacity": 0.7,
          "symbol": "circle"
         },
         "mode": "markers",
         "name": "Lili Fantasy Eau de Parfum",
         "orientation": "v",
         "showlegend": true,
         "type": "scatter",
         "x": [
          "Juliette Has a Gun"
         ],
         "xaxis": "x",
         "y": [
          140
         ],
         "yaxis": "y"
        },
        {
         "hovertemplate": "<b>%{hovertext}</b><br><br>product_name=Lili Fantasy Eau de Parfum Travel Spray<br>Brand=%{x}<br>Price (USD)=%{y}<extra></extra>",
         "hovertext": [
          "Lili Fantasy Eau de Parfum Travel Spray"
         ],
         "legendgroup": "Lili Fantasy Eau de Parfum Travel Spray",
         "marker": {
          "color": "#FECB52",
          "opacity": 0.7,
          "symbol": "circle"
         },
         "mode": "markers",
         "name": "Lili Fantasy Eau de Parfum Travel Spray",
         "orientation": "v",
         "showlegend": true,
         "type": "scatter",
         "x": [
          "Juliette Has a Gun"
         ],
         "xaxis": "x",
         "y": [
          30
         ],
         "yaxis": "y"
        },
        {
         "hovertemplate": "<b>%{hovertext}</b><br><br>product_name=VANILLA | 28 Travel Spray<br>Brand=%{x}<br>Price (USD)=%{y}<extra></extra>",
         "hovertext": [
          "VANILLA | 28 Travel Spray"
         ],
         "legendgroup": "VANILLA | 28 Travel Spray",
         "marker": {
          "color": "#636efa",
          "opacity": 0.7,
          "symbol": "circle"
         },
         "mode": "markers",
         "name": "VANILLA | 28 Travel Spray",
         "orientation": "v",
         "showlegend": true,
         "type": "scatter",
         "x": [
          "KAYALI"
         ],
         "xaxis": "x",
         "y": [
          25
         ],
         "yaxis": "y"
        },
        {
         "hovertemplate": "<b>%{hovertext}</b><br><br>product_name=LOVEFEST BURNING CHERRY | 48<br>Brand=%{x}<br>Price (USD)=%{y}<extra></extra>",
         "hovertext": [
          "LOVEFEST BURNING CHERRY | 48"
         ],
         "legendgroup": "LOVEFEST BURNING CHERRY | 48",
         "marker": {
          "color": "#EF553B",
          "opacity": 0.7,
          "symbol": "circle"
         },
         "mode": "markers",
         "name": "LOVEFEST BURNING CHERRY | 48",
         "orientation": "v",
         "showlegend": true,
         "type": "scatter",
         "x": [
          "KAYALI"
         ],
         "xaxis": "x",
         "y": [
          125
         ],
         "yaxis": "y"
        },
        {
         "hovertemplate": "<b>%{hovertext}</b><br><br>product_name=EDEN JUICY APPLE | 01<br>Brand=%{x}<br>Price (USD)=%{y}<extra></extra>",
         "hovertext": [
          "EDEN JUICY APPLE | 01"
         ],
         "legendgroup": "EDEN JUICY APPLE | 01",
         "marker": {
          "color": "#00cc96",
          "opacity": 0.7,
          "symbol": "circle"
         },
         "mode": "markers",
         "name": "EDEN JUICY APPLE | 01",
         "orientation": "v",
         "showlegend": true,
         "type": "scatter",
         "x": [
          "KAYALI"
         ],
         "xaxis": "x",
         "y": [
          125
         ],
         "yaxis": "y"
        },
        {
         "hovertemplate": "<b>%{hovertext}</b><br><br>product_name=EDEN JUICY APPLE  | 01 Travel Spray<br>Brand=%{x}<br>Price (USD)=%{y}<extra></extra>",
         "hovertext": [
          "EDEN JUICY APPLE  | 01 Travel Spray"
         ],
         "legendgroup": "EDEN JUICY APPLE  | 01 Travel Spray",
         "marker": {
          "color": "#ab63fa",
          "opacity": 0.7,
          "symbol": "circle"
         },
         "mode": "markers",
         "name": "EDEN JUICY APPLE  | 01 Travel Spray",
         "orientation": "v",
         "showlegend": true,
         "type": "scatter",
         "x": [
          "KAYALI"
         ],
         "xaxis": "x",
         "y": [
          25
         ],
         "yaxis": "y"
        },
        {
         "hovertemplate": "<b>%{hovertext}</b><br><br>product_name=Lovefest Burning Cherry | 48 Travel Spray<br>Brand=%{x}<br>Price (USD)=%{y}<extra></extra>",
         "hovertext": [
          "Lovefest Burning Cherry | 48 Travel Spray"
         ],
         "legendgroup": "Lovefest Burning Cherry | 48 Travel Spray",
         "marker": {
          "color": "#FFA15A",
          "opacity": 0.7,
          "symbol": "circle"
         },
         "mode": "markers",
         "name": "Lovefest Burning Cherry | 48 Travel Spray",
         "orientation": "v",
         "showlegend": true,
         "type": "scatter",
         "x": [
          "KAYALI"
         ],
         "xaxis": "x",
         "y": [
          25
         ],
         "yaxis": "y"
        },
        {
         "hovertemplate": "<b>%{hovertext}</b><br><br>product_name=UTOPIA VANILLA COCO | 21 Travel Spray<br>Brand=%{x}<br>Price (USD)=%{y}<extra></extra>",
         "hovertext": [
          "UTOPIA VANILLA COCO | 21 Travel Spray"
         ],
         "legendgroup": "UTOPIA VANILLA COCO | 21 Travel Spray",
         "marker": {
          "color": "#19d3f3",
          "opacity": 0.7,
          "symbol": "circle"
         },
         "mode": "markers",
         "name": "UTOPIA VANILLA COCO | 21 Travel Spray",
         "orientation": "v",
         "showlegend": true,
         "type": "scatter",
         "x": [
          "KAYALI"
         ],
         "xaxis": "x",
         "y": [
          25
         ],
         "yaxis": "y"
        },
        {
         "hovertemplate": "<b>%{hovertext}</b><br><br>product_name=INVITE ONLY AMBER | 23<br>Brand=%{x}<br>Price (USD)=%{y}<extra></extra>",
         "hovertext": [
          "INVITE ONLY AMBER | 23"
         ],
         "legendgroup": "INVITE ONLY AMBER | 23",
         "marker": {
          "color": "#FF6692",
          "opacity": 0.7,
          "symbol": "circle"
         },
         "mode": "markers",
         "name": "INVITE ONLY AMBER | 23",
         "orientation": "v",
         "showlegend": true,
         "type": "scatter",
         "x": [
          "KAYALI"
         ],
         "xaxis": "x",
         "y": [
          138
         ],
         "yaxis": "y"
        },
        {
         "hovertemplate": "<b>%{hovertext}</b><br><br>product_name=Vanilla Royale Sugared Patchouli | 64 Eau de Parfum Intense<br>Brand=%{x}<br>Price (USD)=%{y}<extra></extra>",
         "hovertext": [
          "Vanilla Royale Sugared Patchouli | 64 Eau de Parfum Intense"
         ],
         "legendgroup": "Vanilla Royale Sugared Patchouli | 64 Eau de Parfum Intense",
         "marker": {
          "color": "#B6E880",
          "opacity": 0.7,
          "symbol": "circle"
         },
         "mode": "markers",
         "name": "Vanilla Royale Sugared Patchouli | 64 Eau de Parfum Intense",
         "orientation": "v",
         "showlegend": true,
         "type": "scatter",
         "x": [
          "KAYALI"
         ],
         "xaxis": "x",
         "y": [
          100
         ],
         "yaxis": "y"
        },
        {
         "hovertemplate": "<b>%{hovertext}</b><br><br>product_name=SWEET DIAMOND PINK PEPPER  | 25<br>Brand=%{x}<br>Price (USD)=%{y}<extra></extra>",
         "hovertext": [
          "SWEET DIAMOND PINK PEPPER  | 25"
         ],
         "legendgroup": "SWEET DIAMOND PINK PEPPER  | 25",
         "marker": {
          "color": "#FF97FF",
          "opacity": 0.7,
          "symbol": "circle"
         },
         "mode": "markers",
         "name": "SWEET DIAMOND PINK PEPPER  | 25",
         "orientation": "v",
         "showlegend": true,
         "type": "scatter",
         "x": [
          "KAYALI"
         ],
         "xaxis": "x",
         "y": [
          100
         ],
         "yaxis": "y"
        },
        {
         "hovertemplate": "<b>%{hovertext}</b><br><br>product_name=Vanilla Royale Sugared Patchouli | 64 Eau de Parfum Intense Travel Spray<br>Brand=%{x}<br>Price (USD)=%{y}<extra></extra>",
         "hovertext": [
          "Vanilla Royale Sugared Patchouli | 64 Eau de Parfum Intense Travel Spray"
         ],
         "legendgroup": "Vanilla Royale Sugared Patchouli | 64 Eau de Parfum Intense Travel Spray",
         "marker": {
          "color": "#FECB52",
          "opacity": 0.7,
          "symbol": "circle"
         },
         "mode": "markers",
         "name": "Vanilla Royale Sugared Patchouli | 64 Eau de Parfum Intense Travel Spray",
         "orientation": "v",
         "showlegend": true,
         "type": "scatter",
         "x": [
          "KAYALI"
         ],
         "xaxis": "x",
         "y": [
          25
         ],
         "yaxis": "y"
        },
        {
         "hovertemplate": "<b>%{hovertext}</b><br><br>product_name=INVITE ONLY AMBER | 23  Travel Spray<br>Brand=%{x}<br>Price (USD)=%{y}<extra></extra>",
         "hovertext": [
          "INVITE ONLY AMBER | 23  Travel Spray"
         ],
         "legendgroup": "INVITE ONLY AMBER | 23  Travel Spray",
         "marker": {
          "color": "#636efa",
          "opacity": 0.7,
          "symbol": "circle"
         },
         "mode": "markers",
         "name": "INVITE ONLY AMBER | 23  Travel Spray",
         "orientation": "v",
         "showlegend": true,
         "type": "scatter",
         "x": [
          "KAYALI"
         ],
         "xaxis": "x",
         "y": [
          27
         ],
         "yaxis": "y"
        },
        {
         "hovertemplate": "<b>%{hovertext}</b><br><br>product_name=SWEET DIAMOND PINK PEPPER  | 25 Travel Spray<br>Brand=%{x}<br>Price (USD)=%{y}<extra></extra>",
         "hovertext": [
          "SWEET DIAMOND PINK PEPPER  | 25 Travel Spray"
         ],
         "legendgroup": "SWEET DIAMOND PINK PEPPER  | 25 Travel Spray",
         "marker": {
          "color": "#EF553B",
          "opacity": 0.7,
          "symbol": "circle"
         },
         "mode": "markers",
         "name": "SWEET DIAMOND PINK PEPPER  | 25 Travel Spray",
         "orientation": "v",
         "showlegend": true,
         "type": "scatter",
         "x": [
          "KAYALI"
         ],
         "xaxis": "x",
         "y": [
          27
         ],
         "yaxis": "y"
        },
        {
         "hovertemplate": "<b>%{hovertext}</b><br><br>product_name=MUSK | 12<br>Brand=%{x}<br>Price (USD)=%{y}<extra></extra>",
         "hovertext": [
          "MUSK | 12"
         ],
         "legendgroup": "MUSK | 12",
         "marker": {
          "color": "#00cc96",
          "opacity": 0.7,
          "symbol": "circle"
         },
         "mode": "markers",
         "name": "MUSK | 12",
         "orientation": "v",
         "showlegend": true,
         "type": "scatter",
         "x": [
          "KAYALI"
         ],
         "xaxis": "x",
         "y": [
          25
         ],
         "yaxis": "y"
        },
        {
         "hovertemplate": "<b>%{hovertext}</b><br><br>product_name=MUSK | 12 Travel Spray<br>Brand=%{x}<br>Price (USD)=%{y}<extra></extra>",
         "hovertext": [
          "MUSK | 12 Travel Spray"
         ],
         "legendgroup": "MUSK | 12 Travel Spray",
         "marker": {
          "color": "#ab63fa",
          "opacity": 0.7,
          "symbol": "circle"
         },
         "mode": "markers",
         "name": "MUSK | 12 Travel Spray",
         "orientation": "v",
         "showlegend": true,
         "type": "scatter",
         "x": [
          "KAYALI"
         ],
         "xaxis": "x",
         "y": [
          25
         ],
         "yaxis": "y"
        },
        {
         "hovertemplate": "<b>%{hovertext}</b><br><br>product_name=SWEET DIAMOND | 25 & UTOPIA VANILLA COCO | 21 Double Rollerball<br>Brand=%{x}<br>Price (USD)=%{y}<extra></extra>",
         "hovertext": [
          "SWEET DIAMOND | 25 & UTOPIA VANILLA COCO | 21 Double Rollerball"
         ],
         "legendgroup": "SWEET DIAMOND | 25 & UTOPIA VANILLA COCO | 21 Double Rollerball",
         "marker": {
          "color": "#FFA15A",
          "opacity": 0.7,
          "symbol": "circle"
         },
         "mode": "markers",
         "name": "SWEET DIAMOND | 25 & UTOPIA VANILLA COCO | 21 Double Rollerball",
         "orientation": "v",
         "showlegend": true,
         "type": "scatter",
         "x": [
          "KAYALI"
         ],
         "xaxis": "x",
         "y": [
          27
         ],
         "yaxis": "y"
        },
        {
         "hovertemplate": "<b>%{hovertext}</b><br><br>product_name=YUM PISTACHIO GELATO | 33 EDP INTENSE<br>Brand=%{x}<br>Price (USD)=%{y}<extra></extra>",
         "hovertext": [
          "YUM PISTACHIO GELATO | 33 EDP INTENSE"
         ],
         "legendgroup": "YUM PISTACHIO GELATO | 33 EDP INTENSE",
         "marker": {
          "color": "#19d3f3",
          "opacity": 0.7,
          "symbol": "circle"
         },
         "mode": "markers",
         "name": "YUM PISTACHIO GELATO | 33 EDP INTENSE",
         "orientation": "v",
         "showlegend": true,
         "type": "scatter",
         "x": [
          "KAYALI"
         ],
         "xaxis": "x",
         "y": [
          138
         ],
         "yaxis": "y"
        },
        {
         "hovertemplate": "<b>%{hovertext}</b><br><br>product_name=INVITE ONLY AMBER | 23 & DÉJÀ VU WHITE FLOWER | 57 Double Rollerball<br>Brand=%{x}<br>Price (USD)=%{y}<extra></extra>",
         "hovertext": [
          "INVITE ONLY AMBER | 23 & DÉJÀ VU WHITE FLOWER | 57 Double Rollerball"
         ],
         "legendgroup": "INVITE ONLY AMBER | 23 & DÉJÀ VU WHITE FLOWER | 57 Double Rollerball",
         "marker": {
          "color": "#FF6692",
          "opacity": 0.7,
          "symbol": "circle"
         },
         "mode": "markers",
         "name": "INVITE ONLY AMBER | 23 & DÉJÀ VU WHITE FLOWER | 57 Double Rollerball",
         "orientation": "v",
         "showlegend": true,
         "type": "scatter",
         "x": [
          "KAYALI"
         ],
         "xaxis": "x",
         "y": [
          27
         ],
         "yaxis": "y"
        },
        {
         "hovertemplate": "<b>%{hovertext}</b><br><br>product_name=Love, Don't Be Shy<br>Brand=%{x}<br>Price (USD)=%{y}<extra></extra>",
         "hovertext": [
          "Love, Don't Be Shy"
         ],
         "legendgroup": "Love, Don't Be Shy",
         "marker": {
          "color": "#B6E880",
          "opacity": 0.7,
          "symbol": "circle"
         },
         "mode": "markers",
         "name": "Love, Don't Be Shy",
         "orientation": "v",
         "showlegend": true,
         "type": "scatter",
         "x": [
          "KILIAN Paris"
         ],
         "xaxis": "x",
         "y": [
          275
         ],
         "yaxis": "y"
        },
        {
         "hovertemplate": "<b>%{hovertext}</b><br><br>product_name=Love, Don't Be Shy Travel Spray<br>Brand=%{x}<br>Price (USD)=%{y}<extra></extra>",
         "hovertext": [
          "Love, Don't Be Shy Travel Spray"
         ],
         "legendgroup": "Love, Don't Be Shy Travel Spray",
         "marker": {
          "color": "#FF97FF",
          "opacity": 0.7,
          "symbol": "circle"
         },
         "mode": "markers",
         "name": "Love, Don't Be Shy Travel Spray",
         "orientation": "v",
         "showlegend": true,
         "type": "scatter",
         "x": [
          "KILIAN Paris"
         ],
         "xaxis": "x",
         "y": [
          50
         ],
         "yaxis": "y"
        },
        {
         "hovertemplate": "<b>%{hovertext}</b><br><br>product_name=Princess Eau de Parfum<br>Brand=%{x}<br>Price (USD)=%{y}<extra></extra>",
         "hovertext": [
          "Princess Eau de Parfum"
         ],
         "legendgroup": "Princess Eau de Parfum",
         "marker": {
          "color": "#FECB52",
          "opacity": 0.7,
          "symbol": "circle"
         },
         "mode": "markers",
         "name": "Princess Eau de Parfum",
         "orientation": "v",
         "showlegend": true,
         "type": "scatter",
         "x": [
          "KILIAN Paris"
         ],
         "xaxis": "x",
         "y": [
          125
         ],
         "yaxis": "y"
        },
        {
         "hovertemplate": "<b>%{hovertext}</b><br><br>product_name=Princess Eau de Parfum Travel Spray<br>Brand=%{x}<br>Price (USD)=%{y}<extra></extra>",
         "hovertext": [
          "Princess Eau de Parfum Travel Spray"
         ],
         "legendgroup": "Princess Eau de Parfum Travel Spray",
         "marker": {
          "color": "#636efa",
          "opacity": 0.7,
          "symbol": "circle"
         },
         "mode": "markers",
         "name": "Princess Eau de Parfum Travel Spray",
         "orientation": "v",
         "showlegend": true,
         "type": "scatter",
         "x": [
          "KILIAN Paris"
         ],
         "xaxis": "x",
         "y": [
          30
         ],
         "yaxis": "y"
        },
        {
         "hovertemplate": "<b>%{hovertext}</b><br><br>product_name=Good Girl Gone Bad by KILIAN<br>Brand=%{x}<br>Price (USD)=%{y}<extra></extra>",
         "hovertext": [
          "Good Girl Gone Bad by KILIAN"
         ],
         "legendgroup": "Good Girl Gone Bad by KILIAN",
         "marker": {
          "color": "#EF553B",
          "opacity": 0.7,
          "symbol": "circle"
         },
         "mode": "markers",
         "name": "Good Girl Gone Bad by KILIAN",
         "orientation": "v",
         "showlegend": true,
         "type": "scatter",
         "x": [
          "KILIAN Paris"
         ],
         "xaxis": "x",
         "y": [
          275
         ],
         "yaxis": "y"
        },
        {
         "hovertemplate": "<b>%{hovertext}</b><br><br>product_name=Love, Don't be Shy Mini Spray Set<br>Brand=%{x}<br>Price (USD)=%{y}<extra></extra>",
         "hovertext": [
          "Love, Don't be Shy Mini Spray Set"
         ],
         "legendgroup": "Love, Don't be Shy Mini Spray Set",
         "marker": {
          "color": "#00cc96",
          "opacity": 0.7,
          "symbol": "circle"
         },
         "mode": "markers",
         "name": "Love, Don't be Shy Mini Spray Set",
         "orientation": "v",
         "showlegend": true,
         "type": "scatter",
         "x": [
          "KILIAN Paris"
         ],
         "xaxis": "x",
         "y": [
          215
         ],
         "yaxis": "y"
        },
        {
         "hovertemplate": "<b>%{hovertext}</b><br><br>product_name=Rolling in Love<br>Brand=%{x}<br>Price (USD)=%{y}<extra></extra>",
         "hovertext": [
          "Rolling in Love"
         ],
         "legendgroup": "Rolling in Love",
         "marker": {
          "color": "#ab63fa",
          "opacity": 0.7,
          "symbol": "circle"
         },
         "mode": "markers",
         "name": "Rolling in Love",
         "orientation": "v",
         "showlegend": true,
         "type": "scatter",
         "x": [
          "KILIAN Paris"
         ],
         "xaxis": "x",
         "y": [
          275
         ],
         "yaxis": "y"
        },
        {
         "hovertemplate": "<b>%{hovertext}</b><br><br>product_name=Black Phantom - \"Memento Mori\"<br>Brand=%{x}<br>Price (USD)=%{y}<extra></extra>",
         "hovertext": [
          "Black Phantom - \"Memento Mori\""
         ],
         "legendgroup": "Black Phantom - \"Memento Mori\"",
         "marker": {
          "color": "#FFA15A",
          "opacity": 0.7,
          "symbol": "circle"
         },
         "mode": "markers",
         "name": "Black Phantom - \"Memento Mori\"",
         "orientation": "v",
         "showlegend": true,
         "type": "scatter",
         "x": [
          "KILIAN Paris"
         ],
         "xaxis": "x",
         "y": [
          275
         ],
         "yaxis": "y"
        },
        {
         "hovertemplate": "<b>%{hovertext}</b><br><br>product_name=Good Girl Gone Bad by KILIAN Travel Spray<br>Brand=%{x}<br>Price (USD)=%{y}<extra></extra>",
         "hovertext": [
          "Good Girl Gone Bad by KILIAN Travel Spray"
         ],
         "legendgroup": "Good Girl Gone Bad by KILIAN Travel Spray",
         "marker": {
          "color": "#19d3f3",
          "opacity": 0.7,
          "symbol": "circle"
         },
         "mode": "markers",
         "name": "Good Girl Gone Bad by KILIAN Travel Spray",
         "orientation": "v",
         "showlegend": true,
         "type": "scatter",
         "x": [
          "KILIAN Paris"
         ],
         "xaxis": "x",
         "y": [
          50
         ],
         "yaxis": "y"
        },
        {
         "hovertemplate": "<b>%{hovertext}</b><br><br>product_name=Good Girl Gone Bad by KILIAN Mini Spray Set<br>Brand=%{x}<br>Price (USD)=%{y}<extra></extra>",
         "hovertext": [
          "Good Girl Gone Bad by KILIAN Mini Spray Set"
         ],
         "legendgroup": "Good Girl Gone Bad by KILIAN Mini Spray Set",
         "marker": {
          "color": "#FF6692",
          "opacity": 0.7,
          "symbol": "circle"
         },
         "mode": "markers",
         "name": "Good Girl Gone Bad by KILIAN Mini Spray Set",
         "orientation": "v",
         "showlegend": true,
         "type": "scatter",
         "x": [
          "KILIAN Paris"
         ],
         "xaxis": "x",
         "y": [
          215
         ],
         "yaxis": "y"
        },
        {
         "hovertemplate": "<b>%{hovertext}</b><br><br>product_name=Intoxicated<br>Brand=%{x}<br>Price (USD)=%{y}<extra></extra>",
         "hovertext": [
          "Intoxicated"
         ],
         "legendgroup": "Intoxicated",
         "marker": {
          "color": "#B6E880",
          "opacity": 0.7,
          "symbol": "circle"
         },
         "mode": "markers",
         "name": "Intoxicated",
         "orientation": "v",
         "showlegend": true,
         "type": "scatter",
         "x": [
          "KILIAN Paris"
         ],
         "xaxis": "x",
         "y": [
          275
         ],
         "yaxis": "y"
        },
        {
         "hovertemplate": "<b>%{hovertext}</b><br><br>product_name=Straight To Heaven, White Cristal<br>Brand=%{x}<br>Price (USD)=%{y}<extra></extra>",
         "hovertext": [
          "Straight To Heaven, White Cristal"
         ],
         "legendgroup": "Straight To Heaven, White Cristal",
         "marker": {
          "color": "#FF97FF",
          "opacity": 0.7,
          "symbol": "circle"
         },
         "mode": "markers",
         "name": "Straight To Heaven, White Cristal",
         "orientation": "v",
         "showlegend": true,
         "type": "scatter",
         "x": [
          "KILIAN Paris"
         ],
         "xaxis": "x",
         "y": [
          275
         ],
         "yaxis": "y"
        },
        {
         "hovertemplate": "<b>%{hovertext}</b><br><br>product_name=Moonlight in Heaven<br>Brand=%{x}<br>Price (USD)=%{y}<extra></extra>",
         "hovertext": [
          "Moonlight in Heaven"
         ],
         "legendgroup": "Moonlight in Heaven",
         "marker": {
          "color": "#FECB52",
          "opacity": 0.7,
          "symbol": "circle"
         },
         "mode": "markers",
         "name": "Moonlight in Heaven",
         "orientation": "v",
         "showlegend": true,
         "type": "scatter",
         "x": [
          "KILIAN Paris"
         ],
         "xaxis": "x",
         "y": [
          275
         ],
         "yaxis": "y"
        },
        {
         "hovertemplate": "<b>%{hovertext}</b><br><br>product_name=Love, Don't Be Shy-EXTREME<br>Brand=%{x}<br>Price (USD)=%{y}<extra></extra>",
         "hovertext": [
          "Love, Don't Be Shy-EXTREME"
         ],
         "legendgroup": "Love, Don't Be Shy-EXTREME",
         "marker": {
          "color": "#636efa",
          "opacity": 0.7,
          "symbol": "circle"
         },
         "mode": "markers",
         "name": "Love, Don't Be Shy-EXTREME",
         "orientation": "v",
         "showlegend": true,
         "type": "scatter",
         "x": [
          "KILIAN Paris"
         ],
         "xaxis": "x",
         "y": [
          340
         ],
         "yaxis": "y"
        },
        {
         "hovertemplate": "<b>%{hovertext}</b><br><br>product_name=Black Phantom - \"Memento Mori\" Mini Spray Set<br>Brand=%{x}<br>Price (USD)=%{y}<extra></extra>",
         "hovertext": [
          "Black Phantom - \"Memento Mori\" Mini Spray Set"
         ],
         "legendgroup": "Black Phantom - \"Memento Mori\" Mini Spray Set",
         "marker": {
          "color": "#EF553B",
          "opacity": 0.7,
          "symbol": "circle"
         },
         "mode": "markers",
         "name": "Black Phantom - \"Memento Mori\" Mini Spray Set",
         "orientation": "v",
         "showlegend": true,
         "type": "scatter",
         "x": [
          "KILIAN Paris"
         ],
         "xaxis": "x",
         "y": [
          215
         ],
         "yaxis": "y"
        },
        {
         "hovertemplate": "<b>%{hovertext}</b><br><br>product_name=Idôle Eau de Parfum<br>Brand=%{x}<br>Price (USD)=%{y}<extra></extra>",
         "hovertext": [
          "Idôle Eau de Parfum"
         ],
         "legendgroup": "Idôle Eau de Parfum",
         "marker": {
          "color": "#00cc96",
          "opacity": 0.7,
          "symbol": "circle"
         },
         "mode": "markers",
         "name": "Idôle Eau de Parfum",
         "orientation": "v",
         "showlegend": true,
         "type": "scatter",
         "x": [
          "Lancôme"
         ],
         "xaxis": "x",
         "y": [
          118
         ],
         "yaxis": "y"
        },
        {
         "hovertemplate": "<b>%{hovertext}</b><br><br>product_name=Trésor Midnight Rose<br>Brand=%{x}<br>Price (USD)=%{y}<extra></extra>",
         "hovertext": [
          "Trésor Midnight Rose"
         ],
         "legendgroup": "Trésor Midnight Rose",
         "marker": {
          "color": "#ab63fa",
          "opacity": 0.7,
          "symbol": "circle"
         },
         "mode": "markers",
         "name": "Trésor Midnight Rose",
         "orientation": "v",
         "showlegend": true,
         "type": "scatter",
         "x": [
          "Lancôme"
         ],
         "xaxis": "x",
         "y": [
          125
         ],
         "yaxis": "y"
        },
        {
         "hovertemplate": "<b>%{hovertext}</b><br><br>product_name=Trésor<br>Brand=%{x}<br>Price (USD)=%{y}<extra></extra>",
         "hovertext": [
          "Trésor"
         ],
         "legendgroup": "Trésor",
         "marker": {
          "color": "#FFA15A",
          "opacity": 0.7,
          "symbol": "circle"
         },
         "mode": "markers",
         "name": "Trésor",
         "orientation": "v",
         "showlegend": true,
         "type": "scatter",
         "x": [
          "Lancôme"
         ],
         "xaxis": "x",
         "y": [
          118
         ],
         "yaxis": "y"
        },
        {
         "hovertemplate": "<b>%{hovertext}</b><br><br>product_name=No.04 Bois de Balincourt Perfume Oil<br>Brand=%{x}<br>Price (USD)=%{y}<extra></extra>",
         "hovertext": [
          "No.04 Bois de Balincourt Perfume Oil"
         ],
         "legendgroup": "No.04 Bois de Balincourt Perfume Oil",
         "marker": {
          "color": "#19d3f3",
          "opacity": 0.7,
          "symbol": "circle"
         },
         "mode": "markers",
         "name": "No.04 Bois de Balincourt Perfume Oil",
         "orientation": "v",
         "showlegend": true,
         "type": "scatter",
         "x": [
          "Maison Louis Marie"
         ],
         "xaxis": "x",
         "y": [
          65
         ],
         "yaxis": "y"
        },
        {
         "hovertemplate": "<b>%{hovertext}</b><br><br>product_name=No.04 Bois de Balincourt Eau de Parfum<br>Brand=%{x}<br>Price (USD)=%{y}<extra></extra>",
         "hovertext": [
          "No.04 Bois de Balincourt Eau de Parfum"
         ],
         "legendgroup": "No.04 Bois de Balincourt Eau de Parfum",
         "marker": {
          "color": "#FF6692",
          "opacity": 0.7,
          "symbol": "circle"
         },
         "mode": "markers",
         "name": "No.04 Bois de Balincourt Eau de Parfum",
         "orientation": "v",
         "showlegend": true,
         "type": "scatter",
         "x": [
          "Maison Louis Marie"
         ],
         "xaxis": "x",
         "y": [
          93
         ],
         "yaxis": "y"
        },
        {
         "hovertemplate": "<b>%{hovertext}</b><br><br>product_name=No.04 Bois de Balincourt Eau de Parfum Travel Spray<br>Brand=%{x}<br>Price (USD)=%{y}<extra></extra>",
         "hovertext": [
          "No.04 Bois de Balincourt Eau de Parfum Travel Spray"
         ],
         "legendgroup": "No.04 Bois de Balincourt Eau de Parfum Travel Spray",
         "marker": {
          "color": "#B6E880",
          "opacity": 0.7,
          "symbol": "circle"
         },
         "mode": "markers",
         "name": "No.04 Bois de Balincourt Eau de Parfum Travel Spray",
         "orientation": "v",
         "showlegend": true,
         "type": "scatter",
         "x": [
          "Maison Louis Marie"
         ],
         "xaxis": "x",
         "y": [
          32
         ],
         "yaxis": "y"
        },
        {
         "hovertemplate": "<b>%{hovertext}</b><br><br>product_name=No.04 Bois de Balincourt Perfume Oil Rollerball<br>Brand=%{x}<br>Price (USD)=%{y}<extra></extra>",
         "hovertext": [
          "No.04 Bois de Balincourt Perfume Oil Rollerball"
         ],
         "legendgroup": "No.04 Bois de Balincourt Perfume Oil Rollerball",
         "marker": {
          "color": "#FF97FF",
          "opacity": 0.7,
          "symbol": "circle"
         },
         "mode": "markers",
         "name": "No.04 Bois de Balincourt Perfume Oil Rollerball",
         "orientation": "v",
         "showlegend": true,
         "type": "scatter",
         "x": [
          "Maison Louis Marie"
         ],
         "xaxis": "x",
         "y": [
          16
         ],
         "yaxis": "y"
        },
        {
         "hovertemplate": "<b>%{hovertext}</b><br><br>product_name=No.09 Vallée de Farney Eau de Parfum<br>Brand=%{x}<br>Price (USD)=%{y}<extra></extra>",
         "hovertext": [
          "No.09 Vallée de Farney Eau de Parfum"
         ],
         "legendgroup": "No.09 Vallée de Farney Eau de Parfum",
         "marker": {
          "color": "#FECB52",
          "opacity": 0.7,
          "symbol": "circle"
         },
         "mode": "markers",
         "name": "No.09 Vallée de Farney Eau de Parfum",
         "orientation": "v",
         "showlegend": true,
         "type": "scatter",
         "x": [
          "Maison Louis Marie"
         ],
         "xaxis": "x",
         "y": [
          93
         ],
         "yaxis": "y"
        },
        {
         "hovertemplate": "<b>%{hovertext}</b><br><br>product_name=No.12 Bousval Eau de Parfum<br>Brand=%{x}<br>Price (USD)=%{y}<extra></extra>",
         "hovertext": [
          "No.12 Bousval Eau de Parfum"
         ],
         "legendgroup": "No.12 Bousval Eau de Parfum",
         "marker": {
          "color": "#636efa",
          "opacity": 0.7,
          "symbol": "circle"
         },
         "mode": "markers",
         "name": "No.12 Bousval Eau de Parfum",
         "orientation": "v",
         "showlegend": true,
         "type": "scatter",
         "x": [
          "Maison Louis Marie"
         ],
         "xaxis": "x",
         "y": [
          93
         ],
         "yaxis": "y"
        },
        {
         "hovertemplate": "<b>%{hovertext}</b><br><br>product_name=Antidris Cassis Eau de Parfum<br>Brand=%{x}<br>Price (USD)=%{y}<extra></extra>",
         "hovertext": [
          "Antidris Cassis Eau de Parfum"
         ],
         "legendgroup": "Antidris Cassis Eau de Parfum",
         "marker": {
          "color": "#EF553B",
          "opacity": 0.7,
          "symbol": "circle"
         },
         "mode": "markers",
         "name": "Antidris Cassis Eau de Parfum",
         "orientation": "v",
         "showlegend": true,
         "type": "scatter",
         "x": [
          "Maison Louis Marie"
         ],
         "xaxis": "x",
         "y": [
          93
         ],
         "yaxis": "y"
        },
        {
         "hovertemplate": "<b>%{hovertext}</b><br><br>product_name=No.02 Le Long Fond Eau de Parfum<br>Brand=%{x}<br>Price (USD)=%{y}<extra></extra>",
         "hovertext": [
          "No.02 Le Long Fond Eau de Parfum"
         ],
         "legendgroup": "No.02 Le Long Fond Eau de Parfum",
         "marker": {
          "color": "#00cc96",
          "opacity": 0.7,
          "symbol": "circle"
         },
         "mode": "markers",
         "name": "No.02 Le Long Fond Eau de Parfum",
         "orientation": "v",
         "showlegend": true,
         "type": "scatter",
         "x": [
          "Maison Louis Marie"
         ],
         "xaxis": "x",
         "y": [
          93
         ],
         "yaxis": "y"
        },
        {
         "hovertemplate": "<b>%{hovertext}</b><br><br>product_name=’REPLICA’ By the Fireplace<br>Brand=%{x}<br>Price (USD)=%{y}<extra></extra>",
         "hovertext": [
          "’REPLICA’ By the Fireplace"
         ],
         "legendgroup": "’REPLICA’ By the Fireplace",
         "marker": {
          "color": "#ab63fa",
          "opacity": 0.7,
          "symbol": "circle"
         },
         "mode": "markers",
         "name": "’REPLICA’ By the Fireplace",
         "orientation": "v",
         "showlegend": true,
         "type": "scatter",
         "x": [
          "Maison Margiela"
         ],
         "xaxis": "x",
         "y": [
          160
         ],
         "yaxis": "y"
        },
        {
         "hovertemplate": "<b>%{hovertext}</b><br><br>product_name=’REPLICA’ Beach Walk<br>Brand=%{x}<br>Price (USD)=%{y}<extra></extra>",
         "hovertext": [
          "’REPLICA’ Beach Walk"
         ],
         "legendgroup": "’REPLICA’ Beach Walk",
         "marker": {
          "color": "#FFA15A",
          "opacity": 0.7,
          "symbol": "circle"
         },
         "mode": "markers",
         "name": "’REPLICA’ Beach Walk",
         "orientation": "v",
         "showlegend": true,
         "type": "scatter",
         "x": [
          "Maison Margiela"
         ],
         "xaxis": "x",
         "y": [
          160
         ],
         "yaxis": "y"
        },
        {
         "hovertemplate": "<b>%{hovertext}</b><br><br>product_name=’REPLICA’ Jazz Club<br>Brand=%{x}<br>Price (USD)=%{y}<extra></extra>",
         "hovertext": [
          "’REPLICA’ Jazz Club"
         ],
         "legendgroup": "’REPLICA’ Jazz Club",
         "marker": {
          "color": "#19d3f3",
          "opacity": 0.7,
          "symbol": "circle"
         },
         "mode": "markers",
         "name": "’REPLICA’ Jazz Club",
         "orientation": "v",
         "showlegend": true,
         "type": "scatter",
         "x": [
          "Maison Margiela"
         ],
         "xaxis": "x",
         "y": [
          160
         ],
         "yaxis": "y"
        },
        {
         "hovertemplate": "<b>%{hovertext}</b><br><br>product_name=REPLICA' Bubble Bath<br>Brand=%{x}<br>Price (USD)=%{y}<extra></extra>",
         "hovertext": [
          "REPLICA' Bubble Bath"
         ],
         "legendgroup": "REPLICA' Bubble Bath",
         "marker": {
          "color": "#FF6692",
          "opacity": 0.7,
          "symbol": "circle"
         },
         "mode": "markers",
         "name": "REPLICA' Bubble Bath",
         "orientation": "v",
         "showlegend": true,
         "type": "scatter",
         "x": [
          "Maison Margiela"
         ],
         "xaxis": "x",
         "y": [
          160
         ],
         "yaxis": "y"
        },
        {
         "hovertemplate": "<b>%{hovertext}</b><br><br>product_name=’REPLICA’ Beach Walk Travel Spray<br>Brand=%{x}<br>Price (USD)=%{y}<extra></extra>",
         "hovertext": [
          "’REPLICA’ Beach Walk Travel Spray"
         ],
         "legendgroup": "’REPLICA’ Beach Walk Travel Spray",
         "marker": {
          "color": "#B6E880",
          "opacity": 0.7,
          "symbol": "circle"
         },
         "mode": "markers",
         "name": "’REPLICA’ Beach Walk Travel Spray",
         "orientation": "v",
         "showlegend": true,
         "type": "scatter",
         "x": [
          "Maison Margiela"
         ],
         "xaxis": "x",
         "y": [
          35
         ],
         "yaxis": "y"
        },
        {
         "hovertemplate": "<b>%{hovertext}</b><br><br>product_name=’REPLICA’ By The Fireplace Travel Spray<br>Brand=%{x}<br>Price (USD)=%{y}<extra></extra>",
         "hovertext": [
          "’REPLICA’ By The Fireplace Travel Spray"
         ],
         "legendgroup": "’REPLICA’ By The Fireplace Travel Spray",
         "marker": {
          "color": "#FF97FF",
          "opacity": 0.7,
          "symbol": "circle"
         },
         "mode": "markers",
         "name": "’REPLICA’ By The Fireplace Travel Spray",
         "orientation": "v",
         "showlegend": true,
         "type": "scatter",
         "x": [
          "Maison Margiela"
         ],
         "xaxis": "x",
         "y": [
          35
         ],
         "yaxis": "y"
        },
        {
         "hovertemplate": "<b>%{hovertext}</b><br><br>product_name=’REPLICA’ Jazz Club Travel Spray<br>Brand=%{x}<br>Price (USD)=%{y}<extra></extra>",
         "hovertext": [
          "’REPLICA’ Jazz Club Travel Spray"
         ],
         "legendgroup": "’REPLICA’ Jazz Club Travel Spray",
         "marker": {
          "color": "#FECB52",
          "opacity": 0.7,
          "symbol": "circle"
         },
         "mode": "markers",
         "name": "’REPLICA’ Jazz Club Travel Spray",
         "orientation": "v",
         "showlegend": true,
         "type": "scatter",
         "x": [
          "Maison Margiela"
         ],
         "xaxis": "x",
         "y": [
          35
         ],
         "yaxis": "y"
        },
        {
         "hovertemplate": "<b>%{hovertext}</b><br><br>product_name=REPLICA' Bubble Bath Travel Spray<br>Brand=%{x}<br>Price (USD)=%{y}<extra></extra>",
         "hovertext": [
          "REPLICA' Bubble Bath Travel Spray"
         ],
         "legendgroup": "REPLICA' Bubble Bath Travel Spray",
         "marker": {
          "color": "#636efa",
          "opacity": 0.7,
          "symbol": "circle"
         },
         "mode": "markers",
         "name": "REPLICA' Bubble Bath Travel Spray",
         "orientation": "v",
         "showlegend": true,
         "type": "scatter",
         "x": [
          "Maison Margiela"
         ],
         "xaxis": "x",
         "y": [
          35
         ],
         "yaxis": "y"
        },
        {
         "hovertemplate": "<b>%{hovertext}</b><br><br>product_name=REPLICA' When the Rain Stops<br>Brand=%{x}<br>Price (USD)=%{y}<extra></extra>",
         "hovertext": [
          "REPLICA' When the Rain Stops"
         ],
         "legendgroup": "REPLICA' When the Rain Stops",
         "marker": {
          "color": "#EF553B",
          "opacity": 0.7,
          "symbol": "circle"
         },
         "mode": "markers",
         "name": "REPLICA' When the Rain Stops",
         "orientation": "v",
         "showlegend": true,
         "type": "scatter",
         "x": [
          "Maison Margiela"
         ],
         "xaxis": "x",
         "y": [
          160
         ],
         "yaxis": "y"
        },
        {
         "hovertemplate": "<b>%{hovertext}</b><br><br>product_name=REPLICA' Autumn Vibes<br>Brand=%{x}<br>Price (USD)=%{y}<extra></extra>",
         "hovertext": [
          "REPLICA' Autumn Vibes"
         ],
         "legendgroup": "REPLICA' Autumn Vibes",
         "marker": {
          "color": "#00cc96",
          "opacity": 0.7,
          "symbol": "circle"
         },
         "mode": "markers",
         "name": "REPLICA' Autumn Vibes",
         "orientation": "v",
         "showlegend": true,
         "type": "scatter",
         "x": [
          "Maison Margiela"
         ],
         "xaxis": "x",
         "y": [
          160
         ],
         "yaxis": "y"
        },
        {
         "hovertemplate": "<b>%{hovertext}</b><br><br>product_name=REPLICA' Autumn Vibes Travel Spray<br>Brand=%{x}<br>Price (USD)=%{y}<extra></extra>",
         "hovertext": [
          "REPLICA' Autumn Vibes Travel Spray"
         ],
         "legendgroup": "REPLICA' Autumn Vibes Travel Spray",
         "marker": {
          "color": "#ab63fa",
          "opacity": 0.7,
          "symbol": "circle"
         },
         "mode": "markers",
         "name": "REPLICA' Autumn Vibes Travel Spray",
         "orientation": "v",
         "showlegend": true,
         "type": "scatter",
         "x": [
          "Maison Margiela"
         ],
         "xaxis": "x",
         "y": [
          35
         ],
         "yaxis": "y"
        },
        {
         "hovertemplate": "<b>%{hovertext}</b><br><br>product_name=REPLICA' When the Rain Stops Travel Spray<br>Brand=%{x}<br>Price (USD)=%{y}<extra></extra>",
         "hovertext": [
          "REPLICA' When the Rain Stops Travel Spray"
         ],
         "legendgroup": "REPLICA' When the Rain Stops Travel Spray",
         "marker": {
          "color": "#FFA15A",
          "opacity": 0.7,
          "symbol": "circle"
         },
         "mode": "markers",
         "name": "REPLICA' When the Rain Stops Travel Spray",
         "orientation": "v",
         "showlegend": true,
         "type": "scatter",
         "x": [
          "Maison Margiela"
         ],
         "xaxis": "x",
         "y": [
          35
         ],
         "yaxis": "y"
        },
        {
         "hovertemplate": "<b>%{hovertext}</b><br><br>product_name=Daisy<br>Brand=%{x}<br>Price (USD)=%{y}<extra></extra>",
         "hovertext": [
          "Daisy"
         ],
         "legendgroup": "Daisy",
         "marker": {
          "color": "#19d3f3",
          "opacity": 0.7,
          "symbol": "circle"
         },
         "mode": "markers",
         "name": "Daisy",
         "orientation": "v",
         "showlegend": true,
         "type": "scatter",
         "x": [
          "Marc Jacobs Fragrances"
         ],
         "xaxis": "x",
         "y": [
          128
         ],
         "yaxis": "y"
        },
        {
         "hovertemplate": "<b>%{hovertext}</b><br><br>product_name=Daisy Eau so Fresh Eau de Toilette<br>Brand=%{x}<br>Price (USD)=%{y}<extra></extra>",
         "hovertext": [
          "Daisy Eau so Fresh Eau de Toilette"
         ],
         "legendgroup": "Daisy Eau so Fresh Eau de Toilette",
         "marker": {
          "color": "#FF6692",
          "opacity": 0.7,
          "symbol": "circle"
         },
         "mode": "markers",
         "name": "Daisy Eau so Fresh Eau de Toilette",
         "orientation": "v",
         "showlegend": true,
         "type": "scatter",
         "x": [
          "Marc Jacobs Fragrances"
         ],
         "xaxis": "x",
         "y": [
          139
         ],
         "yaxis": "y"
        },
        {
         "hovertemplate": "<b>%{hovertext}</b><br><br>product_name=Perfect Eau de Parfum<br>Brand=%{x}<br>Price (USD)=%{y}<extra></extra>",
         "hovertext": [
          "Perfect Eau de Parfum"
         ],
         "legendgroup": "Perfect Eau de Parfum",
         "marker": {
          "color": "#B6E880",
          "opacity": 0.7,
          "symbol": "circle"
         },
         "mode": "markers",
         "name": "Perfect Eau de Parfum",
         "orientation": "v",
         "showlegend": true,
         "type": "scatter",
         "x": [
          "Marc Jacobs Fragrances"
         ],
         "xaxis": "x",
         "y": [
          149
         ],
         "yaxis": "y"
        },
        {
         "hovertemplate": "<b>%{hovertext}</b><br><br>product_name=Daisy Love Eau de Toilette<br>Brand=%{x}<br>Price (USD)=%{y}<extra></extra>",
         "hovertext": [
          "Daisy Love Eau de Toilette"
         ],
         "legendgroup": "Daisy Love Eau de Toilette",
         "marker": {
          "color": "#FF97FF",
          "opacity": 0.7,
          "symbol": "circle"
         },
         "mode": "markers",
         "name": "Daisy Love Eau de Toilette",
         "orientation": "v",
         "showlegend": true,
         "type": "scatter",
         "x": [
          "Marc Jacobs Fragrances"
         ],
         "xaxis": "x",
         "y": [
          128
         ],
         "yaxis": "y"
        },
        {
         "hovertemplate": "<b>%{hovertext}</b><br><br>product_name=Daisy Love Eau So Sweet<br>Brand=%{x}<br>Price (USD)=%{y}<extra></extra>",
         "hovertext": [
          "Daisy Love Eau So Sweet"
         ],
         "legendgroup": "Daisy Love Eau So Sweet",
         "marker": {
          "color": "#FECB52",
          "opacity": 0.7,
          "symbol": "circle"
         },
         "mode": "markers",
         "name": "Daisy Love Eau So Sweet",
         "orientation": "v",
         "showlegend": true,
         "type": "scatter",
         "x": [
          "Marc Jacobs Fragrances"
         ],
         "xaxis": "x",
         "y": [
          128
         ],
         "yaxis": "y"
        },
        {
         "hovertemplate": "<b>%{hovertext}</b><br><br>product_name=Daisy Dream<br>Brand=%{x}<br>Price (USD)=%{y}<extra></extra>",
         "hovertext": [
          "Daisy Dream"
         ],
         "legendgroup": "Daisy Dream",
         "marker": {
          "color": "#636efa",
          "opacity": 0.7,
          "symbol": "circle"
         },
         "mode": "markers",
         "name": "Daisy Dream",
         "orientation": "v",
         "showlegend": true,
         "type": "scatter",
         "x": [
          "Marc Jacobs Fragrances"
         ],
         "xaxis": "x",
         "y": [
          95
         ],
         "yaxis": "y"
        },
        {
         "hovertemplate": "<b>%{hovertext}</b><br><br>product_name=Daisy Rollerball<br>Brand=%{x}<br>Price (USD)=%{y}<extra></extra>",
         "hovertext": [
          "Daisy Rollerball"
         ],
         "legendgroup": "Daisy Rollerball",
         "marker": {
          "color": "#EF553B",
          "opacity": 0.7,
          "symbol": "circle"
         },
         "mode": "markers",
         "name": "Daisy Rollerball",
         "orientation": "v",
         "showlegend": true,
         "type": "scatter",
         "x": [
          "Marc Jacobs Fragrances"
         ],
         "xaxis": "x",
         "y": [
          34
         ],
         "yaxis": "y"
        },
        {
         "hovertemplate": "<b>%{hovertext}</b><br><br>product_name=Perfect Eau de Parfum Travel Spray<br>Brand=%{x}<br>Price (USD)=%{y}<extra></extra>",
         "hovertext": [
          "Perfect Eau de Parfum Travel Spray"
         ],
         "legendgroup": "Perfect Eau de Parfum Travel Spray",
         "marker": {
          "color": "#00cc96",
          "opacity": 0.7,
          "symbol": "circle"
         },
         "mode": "markers",
         "name": "Perfect Eau de Parfum Travel Spray",
         "orientation": "v",
         "showlegend": true,
         "type": "scatter",
         "x": [
          "Marc Jacobs Fragrances"
         ],
         "xaxis": "x",
         "y": [
          34
         ],
         "yaxis": "y"
        },
        {
         "hovertemplate": "<b>%{hovertext}</b><br><br>product_name=Daisy Love Eau de Toilette Pen Spray<br>Brand=%{x}<br>Price (USD)=%{y}<extra></extra>",
         "hovertext": [
          "Daisy Love Eau de Toilette Pen Spray"
         ],
         "legendgroup": "Daisy Love Eau de Toilette Pen Spray",
         "marker": {
          "color": "#ab63fa",
          "opacity": 0.7,
          "symbol": "circle"
         },
         "mode": "markers",
         "name": "Daisy Love Eau de Toilette Pen Spray",
         "orientation": "v",
         "showlegend": true,
         "type": "scatter",
         "x": [
          "Marc Jacobs Fragrances"
         ],
         "xaxis": "x",
         "y": [
          34
         ],
         "yaxis": "y"
        },
        {
         "hovertemplate": "<b>%{hovertext}</b><br><br>product_name=Daisy Dream Rollerball<br>Brand=%{x}<br>Price (USD)=%{y}<extra></extra>",
         "hovertext": [
          "Daisy Dream Rollerball"
         ],
         "legendgroup": "Daisy Dream Rollerball",
         "marker": {
          "color": "#FFA15A",
          "opacity": 0.7,
          "symbol": "circle"
         },
         "mode": "markers",
         "name": "Daisy Dream Rollerball",
         "orientation": "v",
         "showlegend": true,
         "type": "scatter",
         "x": [
          "Marc Jacobs Fragrances"
         ],
         "xaxis": "x",
         "y": [
          34
         ],
         "yaxis": "y"
        },
        {
         "hovertemplate": "<b>%{hovertext}</b><br><br>product_name=Daisy Ever So Fresh Eau de Parfum<br>Brand=%{x}<br>Price (USD)=%{y}<extra></extra>",
         "hovertext": [
          "Daisy Ever So Fresh Eau de Parfum"
         ],
         "legendgroup": "Daisy Ever So Fresh Eau de Parfum",
         "marker": {
          "color": "#19d3f3",
          "opacity": 0.7,
          "symbol": "circle"
         },
         "mode": "markers",
         "name": "Daisy Ever So Fresh Eau de Parfum",
         "orientation": "v",
         "showlegend": true,
         "type": "scatter",
         "x": [
          "Marc Jacobs Fragrances"
         ],
         "xaxis": "x",
         "y": [
          163
         ],
         "yaxis": "y"
        },
        {
         "hovertemplate": "<b>%{hovertext}</b><br><br>product_name=Perfect Intense Eau de Parfum<br>Brand=%{x}<br>Price (USD)=%{y}<extra></extra>",
         "hovertext": [
          "Perfect Intense Eau de Parfum"
         ],
         "legendgroup": "Perfect Intense Eau de Parfum",
         "marker": {
          "color": "#FF6692",
          "opacity": 0.7,
          "symbol": "circle"
         },
         "mode": "markers",
         "name": "Perfect Intense Eau de Parfum",
         "orientation": "v",
         "showlegend": true,
         "type": "scatter",
         "x": [
          "Marc Jacobs Fragrances"
         ],
         "xaxis": "x",
         "y": [
          156
         ],
         "yaxis": "y"
        },
        {
         "hovertemplate": "<b>%{hovertext}</b><br><br>product_name=Daisy Eau So Intense Eau de Parfum<br>Brand=%{x}<br>Price (USD)=%{y}<extra></extra>",
         "hovertext": [
          "Daisy Eau So Intense Eau de Parfum"
         ],
         "legendgroup": "Daisy Eau So Intense Eau de Parfum",
         "marker": {
          "color": "#B6E880",
          "opacity": 0.7,
          "symbol": "circle"
         },
         "mode": "markers",
         "name": "Daisy Eau So Intense Eau de Parfum",
         "orientation": "v",
         "showlegend": true,
         "type": "scatter",
         "x": [
          "Marc Jacobs Fragrances"
         ],
         "xaxis": "x",
         "y": [
          116
         ],
         "yaxis": "y"
        },
        {
         "hovertemplate": "<b>%{hovertext}</b><br><br>product_name=Daisy Eau so Fresh Eau de Toilette Rollerball<br>Brand=%{x}<br>Price (USD)=%{y}<extra></extra>",
         "hovertext": [
          "Daisy Eau so Fresh Eau de Toilette Rollerball"
         ],
         "legendgroup": "Daisy Eau so Fresh Eau de Toilette Rollerball",
         "marker": {
          "color": "#FF97FF",
          "opacity": 0.7,
          "symbol": "circle"
         },
         "mode": "markers",
         "name": "Daisy Eau so Fresh Eau de Toilette Rollerball",
         "orientation": "v",
         "showlegend": true,
         "type": "scatter",
         "x": [
          "Marc Jacobs Fragrances"
         ],
         "xaxis": "x",
         "y": [
          34
         ],
         "yaxis": "y"
        },
        {
         "hovertemplate": "<b>%{hovertext}</b><br><br>product_name=Perfect Intense Eau de Parfum Travel Spray<br>Brand=%{x}<br>Price (USD)=%{y}<extra></extra>",
         "hovertext": [
          "Perfect Intense Eau de Parfum Travel Spray"
         ],
         "legendgroup": "Perfect Intense Eau de Parfum Travel Spray",
         "marker": {
          "color": "#FECB52",
          "opacity": 0.7,
          "symbol": "circle"
         },
         "mode": "markers",
         "name": "Perfect Intense Eau de Parfum Travel Spray",
         "orientation": "v",
         "showlegend": true,
         "type": "scatter",
         "x": [
          "Marc Jacobs Fragrances"
         ],
         "xaxis": "x",
         "y": [
          34
         ],
         "yaxis": "y"
        },
        {
         "hovertemplate": "<b>%{hovertext}</b><br><br>product_name=Daisy Paradise Eau de Toilette<br>Brand=%{x}<br>Price (USD)=%{y}<extra></extra>",
         "hovertext": [
          "Daisy Paradise Eau de Toilette"
         ],
         "legendgroup": "Daisy Paradise Eau de Toilette",
         "marker": {
          "color": "#636efa",
          "opacity": 0.7,
          "symbol": "circle"
         },
         "mode": "markers",
         "name": "Daisy Paradise Eau de Toilette",
         "orientation": "v",
         "showlegend": true,
         "type": "scatter",
         "x": [
          "Marc Jacobs Fragrances"
         ],
         "xaxis": "x",
         "y": [
          90
         ],
         "yaxis": "y"
        },
        {
         "hovertemplate": "<b>%{hovertext}</b><br><br>product_name=Daisy Love Paradise Eau de Toilette<br>Brand=%{x}<br>Price (USD)=%{y}<extra></extra>",
         "hovertext": [
          "Daisy Love Paradise Eau de Toilette"
         ],
         "legendgroup": "Daisy Love Paradise Eau de Toilette",
         "marker": {
          "color": "#EF553B",
          "opacity": 0.7,
          "symbol": "circle"
         },
         "mode": "markers",
         "name": "Daisy Love Paradise Eau de Toilette",
         "orientation": "v",
         "showlegend": true,
         "type": "scatter",
         "x": [
          "Marc Jacobs Fragrances"
         ],
         "xaxis": "x",
         "y": [
          90
         ],
         "yaxis": "y"
        },
        {
         "hovertemplate": "<b>%{hovertext}</b><br><br>product_name=Perfect Eau de Toilette<br>Brand=%{x}<br>Price (USD)=%{y}<extra></extra>",
         "hovertext": [
          "Perfect Eau de Toilette"
         ],
         "legendgroup": "Perfect Eau de Toilette",
         "marker": {
          "color": "#00cc96",
          "opacity": 0.7,
          "symbol": "circle"
         },
         "mode": "markers",
         "name": "Perfect Eau de Toilette",
         "orientation": "v",
         "showlegend": true,
         "type": "scatter",
         "x": [
          "Marc Jacobs Fragrances"
         ],
         "xaxis": "x",
         "y": [
          128
         ],
         "yaxis": "y"
        },
        {
         "hovertemplate": "<b>%{hovertext}</b><br><br>product_name=Daisy Dream Petals<br>Brand=%{x}<br>Price (USD)=%{y}<extra></extra>",
         "hovertext": [
          "Daisy Dream Petals"
         ],
         "legendgroup": "Daisy Dream Petals",
         "marker": {
          "color": "#ab63fa",
          "opacity": 0.7,
          "symbol": "circle"
         },
         "mode": "markers",
         "name": "Daisy Dream Petals",
         "orientation": "v",
         "showlegend": true,
         "type": "scatter",
         "x": [
          "Marc Jacobs Fragrances"
         ],
         "xaxis": "x",
         "y": [
          50
         ],
         "yaxis": "y"
        },
        {
         "hovertemplate": "<b>%{hovertext}</b><br><br>product_name=Daisy Eau So Fresh Paradise Eau de Toilette<br>Brand=%{x}<br>Price (USD)=%{y}<extra></extra>",
         "hovertext": [
          "Daisy Eau So Fresh Paradise Eau de Toilette"
         ],
         "legendgroup": "Daisy Eau So Fresh Paradise Eau de Toilette",
         "marker": {
          "color": "#FFA15A",
          "opacity": 0.7,
          "symbol": "circle"
         },
         "mode": "markers",
         "name": "Daisy Eau So Fresh Paradise Eau de Toilette",
         "orientation": "v",
         "showlegend": true,
         "type": "scatter",
         "x": [
          "Marc Jacobs Fragrances"
         ],
         "xaxis": "x",
         "y": [
          104
         ],
         "yaxis": "y"
        },
        {
         "hovertemplate": "<b>%{hovertext}</b><br><br>product_name=Alien Eau de Parfum<br>Brand=%{x}<br>Price (USD)=%{y}<extra></extra>",
         "hovertext": [
          "Alien Eau de Parfum"
         ],
         "legendgroup": "Alien Eau de Parfum",
         "marker": {
          "color": "#19d3f3",
          "opacity": 0.7,
          "symbol": "circle"
         },
         "mode": "markers",
         "name": "Alien Eau de Parfum",
         "orientation": "v",
         "showlegend": true,
         "type": "scatter",
         "x": [
          "Mugler"
         ],
         "xaxis": "x",
         "y": [
          150
         ],
         "yaxis": "y"
        },
        {
         "hovertemplate": "<b>%{hovertext}</b><br><br>product_name=Alien Goddess Eau de Parfum Travel Spray<br>Brand=%{x}<br>Price (USD)=%{y}<extra></extra>",
         "hovertext": [
          "Alien Goddess Eau de Parfum Travel Spray"
         ],
         "legendgroup": "Alien Goddess Eau de Parfum Travel Spray",
         "marker": {
          "color": "#FF6692",
          "opacity": 0.7,
          "symbol": "circle"
         },
         "mode": "markers",
         "name": "Alien Goddess Eau de Parfum Travel Spray",
         "orientation": "v",
         "showlegend": true,
         "type": "scatter",
         "x": [
          "Mugler"
         ],
         "xaxis": "x",
         "y": [
          35
         ],
         "yaxis": "y"
        },
        {
         "hovertemplate": "<b>%{hovertext}</b><br><br>product_name=Alien Goddess Eau de Parfum<br>Brand=%{x}<br>Price (USD)=%{y}<extra></extra>",
         "hovertext": [
          "Alien Goddess Eau de Parfum"
         ],
         "legendgroup": "Alien Goddess Eau de Parfum",
         "marker": {
          "color": "#B6E880",
          "opacity": 0.7,
          "symbol": "circle"
         },
         "mode": "markers",
         "name": "Alien Goddess Eau de Parfum",
         "orientation": "v",
         "showlegend": true,
         "type": "scatter",
         "x": [
          "Mugler"
         ],
         "xaxis": "x",
         "y": [
          180
         ],
         "yaxis": "y"
        },
        {
         "hovertemplate": "<b>%{hovertext}</b><br><br>product_name=Angel Eau de Parfum<br>Brand=%{x}<br>Price (USD)=%{y}<extra></extra>",
         "hovertext": [
          "Angel Eau de Parfum"
         ],
         "legendgroup": "Angel Eau de Parfum",
         "marker": {
          "color": "#FF97FF",
          "opacity": 0.7,
          "symbol": "circle"
         },
         "mode": "markers",
         "name": "Angel Eau de Parfum",
         "orientation": "v",
         "showlegend": true,
         "type": "scatter",
         "x": [
          "Mugler"
         ],
         "xaxis": "x",
         "y": [
          95
         ],
         "yaxis": "y"
        },
        {
         "hovertemplate": "<b>%{hovertext}</b><br><br>product_name=Alien Eau de Parfum Travel Spray<br>Brand=%{x}<br>Price (USD)=%{y}<extra></extra>",
         "hovertext": [
          "Alien Eau de Parfum Travel Spray"
         ],
         "legendgroup": "Alien Eau de Parfum Travel Spray",
         "marker": {
          "color": "#FECB52",
          "opacity": 0.7,
          "symbol": "circle"
         },
         "mode": "markers",
         "name": "Alien Eau de Parfum Travel Spray",
         "orientation": "v",
         "showlegend": true,
         "type": "scatter",
         "x": [
          "Mugler"
         ],
         "xaxis": "x",
         "y": [
          35
         ],
         "yaxis": "y"
        },
        {
         "hovertemplate": "<b>%{hovertext}</b><br><br>product_name=Alien Goddess Eau de Parfum Intense<br>Brand=%{x}<br>Price (USD)=%{y}<extra></extra>",
         "hovertext": [
          "Alien Goddess Eau de Parfum Intense"
         ],
         "legendgroup": "Alien Goddess Eau de Parfum Intense",
         "marker": {
          "color": "#636efa",
          "opacity": 0.7,
          "symbol": "circle"
         },
         "mode": "markers",
         "name": "Alien Goddess Eau de Parfum Intense",
         "orientation": "v",
         "showlegend": true,
         "type": "scatter",
         "x": [
          "Mugler"
         ],
         "xaxis": "x",
         "y": [
          180
         ],
         "yaxis": "y"
        },
        {
         "hovertemplate": "<b>%{hovertext}</b><br><br>product_name=Angel Eau de Parfum Travel Spray<br>Brand=%{x}<br>Price (USD)=%{y}<extra></extra>",
         "hovertext": [
          "Angel Eau de Parfum Travel Spray"
         ],
         "legendgroup": "Angel Eau de Parfum Travel Spray",
         "marker": {
          "color": "#EF553B",
          "opacity": 0.7,
          "symbol": "circle"
         },
         "mode": "markers",
         "name": "Angel Eau de Parfum Travel Spray",
         "orientation": "v",
         "showlegend": true,
         "type": "scatter",
         "x": [
          "Mugler"
         ],
         "xaxis": "x",
         "y": [
          35
         ],
         "yaxis": "y"
        },
        {
         "hovertemplate": "<b>%{hovertext}</b><br><br>product_name=Angel Nova Eau de Toilette<br>Brand=%{x}<br>Price (USD)=%{y}<extra></extra>",
         "hovertext": [
          "Angel Nova Eau de Toilette"
         ],
         "legendgroup": "Angel Nova Eau de Toilette",
         "marker": {
          "color": "#00cc96",
          "opacity": 0.7,
          "symbol": "circle"
         },
         "mode": "markers",
         "name": "Angel Nova Eau de Toilette",
         "orientation": "v",
         "showlegend": true,
         "type": "scatter",
         "x": [
          "Mugler"
         ],
         "xaxis": "x",
         "y": [
          115
         ],
         "yaxis": "y"
        },
        {
         "hovertemplate": "<b>%{hovertext}</b><br><br>product_name=Madagascar Vanilla Perfume Oil<br>Brand=%{x}<br>Price (USD)=%{y}<extra></extra>",
         "hovertext": [
          "Madagascar Vanilla Perfume Oil"
         ],
         "legendgroup": "Madagascar Vanilla Perfume Oil",
         "marker": {
          "color": "#ab63fa",
          "opacity": 0.7,
          "symbol": "circle"
         },
         "mode": "markers",
         "name": "Madagascar Vanilla Perfume Oil",
         "orientation": "v",
         "showlegend": true,
         "type": "scatter",
         "x": [
          "NEST New York"
         ],
         "xaxis": "x",
         "y": [
          98
         ],
         "yaxis": "y"
        },
        {
         "hovertemplate": "<b>%{hovertext}</b><br><br>product_name=Madagascar Vanilla Perfume Oil Rollerball<br>Brand=%{x}<br>Price (USD)=%{y}<extra></extra>",
         "hovertext": [
          "Madagascar Vanilla Perfume Oil Rollerball"
         ],
         "legendgroup": "Madagascar Vanilla Perfume Oil Rollerball",
         "marker": {
          "color": "#FFA15A",
          "opacity": 0.7,
          "symbol": "circle"
         },
         "mode": "markers",
         "name": "Madagascar Vanilla Perfume Oil Rollerball",
         "orientation": "v",
         "showlegend": true,
         "type": "scatter",
         "x": [
          "NEST New York"
         ],
         "xaxis": "x",
         "y": [
          35
         ],
         "yaxis": "y"
        },
        {
         "hovertemplate": "<b>%{hovertext}</b><br><br>product_name=Golden Nectar Eau de Parfum<br>Brand=%{x}<br>Price (USD)=%{y}<extra></extra>",
         "hovertext": [
          "Golden Nectar Eau de Parfum"
         ],
         "legendgroup": "Golden Nectar Eau de Parfum",
         "marker": {
          "color": "#19d3f3",
          "opacity": 0.7,
          "symbol": "circle"
         },
         "mode": "markers",
         "name": "Golden Nectar Eau de Parfum",
         "orientation": "v",
         "showlegend": true,
         "type": "scatter",
         "x": [
          "NEST New York"
         ],
         "xaxis": "x",
         "y": [
          86
         ],
         "yaxis": "y"
        },
        {
         "hovertemplate": "<b>%{hovertext}</b><br><br>product_name=Mini Perfume Oil Set<br>Brand=%{x}<br>Price (USD)=%{y}<extra></extra>",
         "hovertext": [
          "Mini Perfume Oil Set"
         ],
         "legendgroup": "Mini Perfume Oil Set",
         "marker": {
          "color": "#FF6692",
          "opacity": 0.7,
          "symbol": "circle"
         },
         "mode": "markers",
         "name": "Mini Perfume Oil Set",
         "orientation": "v",
         "showlegend": true,
         "type": "scatter",
         "x": [
          "NEST New York"
         ],
         "xaxis": "x",
         "y": [
          48
         ],
         "yaxis": "y"
        },
        {
         "hovertemplate": "<b>%{hovertext}</b><br><br>product_name=Seville Orange Perfume Oil Rollerball<br>Brand=%{x}<br>Price (USD)=%{y}<extra></extra>",
         "hovertext": [
          "Seville Orange Perfume Oil Rollerball"
         ],
         "legendgroup": "Seville Orange Perfume Oil Rollerball",
         "marker": {
          "color": "#B6E880",
          "opacity": 0.7,
          "symbol": "circle"
         },
         "mode": "markers",
         "name": "Seville Orange Perfume Oil Rollerball",
         "orientation": "v",
         "showlegend": true,
         "type": "scatter",
         "x": [
          "NEST New York"
         ],
         "xaxis": "x",
         "y": [
          35
         ],
         "yaxis": "y"
        },
        {
         "hovertemplate": "<b>%{hovertext}</b><br><br>product_name=Balinese Coconut Perfume Oil<br>Brand=%{x}<br>Price (USD)=%{y}<extra></extra>",
         "hovertext": [
          "Balinese Coconut Perfume Oil"
         ],
         "legendgroup": "Balinese Coconut Perfume Oil",
         "marker": {
          "color": "#FF97FF",
          "opacity": 0.7,
          "symbol": "circle"
         },
         "mode": "markers",
         "name": "Balinese Coconut Perfume Oil",
         "orientation": "v",
         "showlegend": true,
         "type": "scatter",
         "x": [
          "NEST New York"
         ],
         "xaxis": "x",
         "y": [
          98
         ],
         "yaxis": "y"
        },
        {
         "hovertemplate": "<b>%{hovertext}</b><br><br>product_name=Turkish Rose Perfume Oil<br>Brand=%{x}<br>Price (USD)=%{y}<extra></extra>",
         "hovertext": [
          "Turkish Rose Perfume Oil"
         ],
         "legendgroup": "Turkish Rose Perfume Oil",
         "marker": {
          "color": "#FECB52",
          "opacity": 0.7,
          "symbol": "circle"
         },
         "mode": "markers",
         "name": "Turkish Rose Perfume Oil",
         "orientation": "v",
         "showlegend": true,
         "type": "scatter",
         "x": [
          "NEST New York"
         ],
         "xaxis": "x",
         "y": [
          98
         ],
         "yaxis": "y"
        },
        {
         "hovertemplate": "<b>%{hovertext}</b><br><br>product_name=Golden Nectar Eau de Parfum Travel Spray<br>Brand=%{x}<br>Price (USD)=%{y}<extra></extra>",
         "hovertext": [
          "Golden Nectar Eau de Parfum Travel Spray"
         ],
         "legendgroup": "Golden Nectar Eau de Parfum Travel Spray",
         "marker": {
          "color": "#636efa",
          "opacity": 0.7,
          "symbol": "circle"
         },
         "mode": "markers",
         "name": "Golden Nectar Eau de Parfum Travel Spray",
         "orientation": "v",
         "showlegend": true,
         "type": "scatter",
         "x": [
          "NEST New York"
         ],
         "xaxis": "x",
         "y": [
          30
         ],
         "yaxis": "y"
        },
        {
         "hovertemplate": "<b>%{hovertext}</b><br><br>product_name=Turkish Rose Perfume Oil Rollerball<br>Brand=%{x}<br>Price (USD)=%{y}<extra></extra>",
         "hovertext": [
          "Turkish Rose Perfume Oil Rollerball"
         ],
         "legendgroup": "Turkish Rose Perfume Oil Rollerball",
         "marker": {
          "color": "#EF553B",
          "opacity": 0.7,
          "symbol": "circle"
         },
         "mode": "markers",
         "name": "Turkish Rose Perfume Oil Rollerball",
         "orientation": "v",
         "showlegend": true,
         "type": "scatter",
         "x": [
          "NEST New York"
         ],
         "xaxis": "x",
         "y": [
          35
         ],
         "yaxis": "y"
        },
        {
         "hovertemplate": "<b>%{hovertext}</b><br><br>product_name=Seville Orange Perfume Oil<br>Brand=%{x}<br>Price (USD)=%{y}<extra></extra>",
         "hovertext": [
          "Seville Orange Perfume Oil"
         ],
         "legendgroup": "Seville Orange Perfume Oil",
         "marker": {
          "color": "#00cc96",
          "opacity": 0.7,
          "symbol": "circle"
         },
         "mode": "markers",
         "name": "Seville Orange Perfume Oil",
         "orientation": "v",
         "showlegend": true,
         "type": "scatter",
         "x": [
          "NEST New York"
         ],
         "xaxis": "x",
         "y": [
          98
         ],
         "yaxis": "y"
        },
        {
         "hovertemplate": "<b>%{hovertext}</b><br><br>product_name=Indian Jasmine Perfume Oil Rollerball<br>Brand=%{x}<br>Price (USD)=%{y}<extra></extra>",
         "hovertext": [
          "Indian Jasmine Perfume Oil Rollerball"
         ],
         "legendgroup": "Indian Jasmine Perfume Oil Rollerball",
         "marker": {
          "color": "#ab63fa",
          "opacity": 0.7,
          "symbol": "circle"
         },
         "mode": "markers",
         "name": "Indian Jasmine Perfume Oil Rollerball",
         "orientation": "v",
         "showlegend": true,
         "type": "scatter",
         "x": [
          "NEST New York"
         ],
         "xaxis": "x",
         "y": [
          35
         ],
         "yaxis": "y"
        },
        {
         "hovertemplate": "<b>%{hovertext}</b><br><br>product_name=Indian Jasmine Perfume Oil<br>Brand=%{x}<br>Price (USD)=%{y}<extra></extra>",
         "hovertext": [
          "Indian Jasmine Perfume Oil"
         ],
         "legendgroup": "Indian Jasmine Perfume Oil",
         "marker": {
          "color": "#FFA15A",
          "opacity": 0.7,
          "symbol": "circle"
         },
         "mode": "markers",
         "name": "Indian Jasmine Perfume Oil",
         "orientation": "v",
         "showlegend": true,
         "type": "scatter",
         "x": [
          "NEST New York"
         ],
         "xaxis": "x",
         "y": [
          98
         ],
         "yaxis": "y"
        },
        {
         "hovertemplate": "<b>%{hovertext}</b><br><br>product_name=Balinese Coconut Perfume Oil Rollerball<br>Brand=%{x}<br>Price (USD)=%{y}<extra></extra>",
         "hovertext": [
          "Balinese Coconut Perfume Oil Rollerball"
         ],
         "legendgroup": "Balinese Coconut Perfume Oil Rollerball",
         "marker": {
          "color": "#19d3f3",
          "opacity": 0.7,
          "symbol": "circle"
         },
         "mode": "markers",
         "name": "Balinese Coconut Perfume Oil Rollerball",
         "orientation": "v",
         "showlegend": true,
         "type": "scatter",
         "x": [
          "NEST New York"
         ],
         "xaxis": "x",
         "y": [
          35
         ],
         "yaxis": "y"
        },
        {
         "hovertemplate": "<b>%{hovertext}</b><br><br>product_name=South Pacific Sandalwood Perfume Oil<br>Brand=%{x}<br>Price (USD)=%{y}<extra></extra>",
         "hovertext": [
          "South Pacific Sandalwood Perfume Oil"
         ],
         "legendgroup": "South Pacific Sandalwood Perfume Oil",
         "marker": {
          "color": "#FF6692",
          "opacity": 0.7,
          "symbol": "circle"
         },
         "mode": "markers",
         "name": "South Pacific Sandalwood Perfume Oil",
         "orientation": "v",
         "showlegend": true,
         "type": "scatter",
         "x": [
          "NEST New York"
         ],
         "xaxis": "x",
         "y": [
          98
         ],
         "yaxis": "y"
        },
        {
         "hovertemplate": "<b>%{hovertext}</b><br><br>product_name=South Pacific Sandalwood Perfume Oil Rollerball<br>Brand=%{x}<br>Price (USD)=%{y}<extra></extra>",
         "hovertext": [
          "South Pacific Sandalwood Perfume Oil Rollerball"
         ],
         "legendgroup": "South Pacific Sandalwood Perfume Oil Rollerball",
         "marker": {
          "color": "#B6E880",
          "opacity": 0.7,
          "symbol": "circle"
         },
         "mode": "markers",
         "name": "South Pacific Sandalwood Perfume Oil Rollerball",
         "orientation": "v",
         "showlegend": true,
         "type": "scatter",
         "x": [
          "NEST New York"
         ],
         "xaxis": "x",
         "y": [
          35
         ],
         "yaxis": "y"
        },
        {
         "hovertemplate": "<b>%{hovertext}</b><br><br>product_name=Dean Street Eau De Parfum<br>Brand=%{x}<br>Price (USD)=%{y}<extra></extra>",
         "hovertext": [
          "Dean Street Eau De Parfum"
         ],
         "legendgroup": "Dean Street Eau De Parfum",
         "marker": {
          "color": "#FF97FF",
          "opacity": 0.7,
          "symbol": "circle"
         },
         "mode": "markers",
         "name": "Dean Street Eau De Parfum",
         "orientation": "v",
         "showlegend": true,
         "type": "scatter",
         "x": [
          "OUAI"
         ],
         "xaxis": "x",
         "y": [
          64
         ],
         "yaxis": "y"
        },
        {
         "hovertemplate": "<b>%{hovertext}</b><br><br>product_name=Rue St. Honoré Eau De Parfum<br>Brand=%{x}<br>Price (USD)=%{y}<extra></extra>",
         "hovertext": [
          "Rue St. Honoré Eau De Parfum"
         ],
         "legendgroup": "Rue St. Honoré Eau De Parfum",
         "marker": {
          "color": "#FECB52",
          "opacity": 0.7,
          "symbol": "circle"
         },
         "mode": "markers",
         "name": "Rue St. Honoré Eau De Parfum",
         "orientation": "v",
         "showlegend": true,
         "type": "scatter",
         "x": [
          "OUAI"
         ],
         "xaxis": "x",
         "y": [
          64
         ],
         "yaxis": "y"
        },
        {
         "hovertemplate": "<b>%{hovertext}</b><br><br>product_name=Phantom Eau de Toilette<br>Brand=%{x}<br>Price (USD)=%{y}<extra></extra>",
         "hovertext": [
          "Phantom Eau de Toilette"
         ],
         "legendgroup": "Phantom Eau de Toilette",
         "marker": {
          "color": "#636efa",
          "opacity": 0.7,
          "symbol": "circle"
         },
         "mode": "markers",
         "name": "Phantom Eau de Toilette",
         "orientation": "v",
         "showlegend": true,
         "type": "scatter",
         "x": [
          "Paco Rabanne"
         ],
         "xaxis": "x",
         "y": [
          133
         ],
         "yaxis": "y"
        },
        {
         "hovertemplate": "<b>%{hovertext}</b><br><br>product_name=FAME Eau de Parfum<br>Brand=%{x}<br>Price (USD)=%{y}<extra></extra>",
         "hovertext": [
          "FAME Eau de Parfum"
         ],
         "legendgroup": "FAME Eau de Parfum",
         "marker": {
          "color": "#EF553B",
          "opacity": 0.7,
          "symbol": "circle"
         },
         "mode": "markers",
         "name": "FAME Eau de Parfum",
         "orientation": "v",
         "showlegend": true,
         "type": "scatter",
         "x": [
          "Paco Rabanne"
         ],
         "xaxis": "x",
         "y": [
          132
         ],
         "yaxis": "y"
        },
        {
         "hovertemplate": "<b>%{hovertext}</b><br><br>product_name=1 Million Elixir<br>Brand=%{x}<br>Price (USD)=%{y}<extra></extra>",
         "hovertext": [
          "1 Million Elixir"
         ],
         "legendgroup": "1 Million Elixir",
         "marker": {
          "color": "#00cc96",
          "opacity": 0.7,
          "symbol": "circle"
         },
         "mode": "markers",
         "name": "1 Million Elixir",
         "orientation": "v",
         "showlegend": true,
         "type": "scatter",
         "x": [
          "Paco Rabanne"
         ],
         "xaxis": "x",
         "y": [
          126
         ],
         "yaxis": "y"
        },
        {
         "hovertemplate": "<b>%{hovertext}</b><br><br>product_name=Invictus Platinum Eau de Parfum<br>Brand=%{x}<br>Price (USD)=%{y}<extra></extra>",
         "hovertext": [
          "Invictus Platinum Eau de Parfum"
         ],
         "legendgroup": "Invictus Platinum Eau de Parfum",
         "marker": {
          "color": "#ab63fa",
          "opacity": 0.7,
          "symbol": "circle"
         },
         "mode": "markers",
         "name": "Invictus Platinum Eau de Parfum",
         "orientation": "v",
         "showlegend": true,
         "type": "scatter",
         "x": [
          "Paco Rabanne"
         ],
         "xaxis": "x",
         "y": [
          120
         ],
         "yaxis": "y"
        },
        {
         "hovertemplate": "<b>%{hovertext}</b><br><br>product_name=Fame Eau de Parfum<br>Brand=%{x}<br>Price (USD)=%{y}<extra></extra>",
         "hovertext": [
          "Fame Eau de Parfum"
         ],
         "legendgroup": "Fame Eau de Parfum",
         "marker": {
          "color": "#FFA15A",
          "opacity": 0.7,
          "symbol": "circle"
         },
         "mode": "markers",
         "name": "Fame Eau de Parfum",
         "orientation": "v",
         "showlegend": true,
         "type": "scatter",
         "x": [
          "Paco Rabanne"
         ],
         "xaxis": "x",
         "y": [
          132
         ],
         "yaxis": "y"
        },
        {
         "hovertemplate": "<b>%{hovertext}</b><br><br>product_name=Missing Person Eau de Parfum<br>Brand=%{x}<br>Price (USD)=%{y}<extra></extra>",
         "hovertext": [
          "Missing Person Eau de Parfum"
         ],
         "legendgroup": "Missing Person Eau de Parfum",
         "marker": {
          "color": "#19d3f3",
          "opacity": 0.7,
          "symbol": "circle"
         },
         "mode": "markers",
         "name": "Missing Person Eau de Parfum",
         "orientation": "v",
         "showlegend": true,
         "type": "scatter",
         "x": [
          "PHLUR"
         ],
         "xaxis": "x",
         "y": [
          96
         ],
         "yaxis": "y"
        },
        {
         "hovertemplate": "<b>%{hovertext}</b><br><br>product_name=Missing Person Eau de Parfum Travel Spray<br>Brand=%{x}<br>Price (USD)=%{y}<extra></extra>",
         "hovertext": [
          "Missing Person Eau de Parfum Travel Spray"
         ],
         "legendgroup": "Missing Person Eau de Parfum Travel Spray",
         "marker": {
          "color": "#FF6692",
          "opacity": 0.7,
          "symbol": "circle"
         },
         "mode": "markers",
         "name": "Missing Person Eau de Parfum Travel Spray",
         "orientation": "v",
         "showlegend": true,
         "type": "scatter",
         "x": [
          "PHLUR"
         ],
         "xaxis": "x",
         "y": [
          26
         ],
         "yaxis": "y"
        },
        {
         "hovertemplate": "<b>%{hovertext}</b><br><br>product_name=Missing Person Perfume Set<br>Brand=%{x}<br>Price (USD)=%{y}<extra></extra>",
         "hovertext": [
          "Missing Person Perfume Set"
         ],
         "legendgroup": "Missing Person Perfume Set",
         "marker": {
          "color": "#B6E880",
          "opacity": 0.7,
          "symbol": "circle"
         },
         "mode": "markers",
         "name": "Missing Person Perfume Set",
         "orientation": "v",
         "showlegend": true,
         "type": "scatter",
         "x": [
          "PHLUR"
         ],
         "xaxis": "x",
         "y": [
          98
         ],
         "yaxis": "y"
        },
        {
         "hovertemplate": "<b>%{hovertext}</b><br><br>product_name=Somebody Wood Eau de Parfum Travel Spray<br>Brand=%{x}<br>Price (USD)=%{y}<extra></extra>",
         "hovertext": [
          "Somebody Wood Eau de Parfum Travel Spray"
         ],
         "legendgroup": "Somebody Wood Eau de Parfum Travel Spray",
         "marker": {
          "color": "#FF97FF",
          "opacity": 0.7,
          "symbol": "circle"
         },
         "mode": "markers",
         "name": "Somebody Wood Eau de Parfum Travel Spray",
         "orientation": "v",
         "showlegend": true,
         "type": "scatter",
         "x": [
          "PHLUR"
         ],
         "xaxis": "x",
         "y": [
          26
         ],
         "yaxis": "y"
        },
        {
         "hovertemplate": "<b>%{hovertext}</b><br><br>product_name=Tangerine Boy Eau de Parfum<br>Brand=%{x}<br>Price (USD)=%{y}<extra></extra>",
         "hovertext": [
          "Tangerine Boy Eau de Parfum"
         ],
         "legendgroup": "Tangerine Boy Eau de Parfum",
         "marker": {
          "color": "#FECB52",
          "opacity": 0.7,
          "symbol": "circle"
         },
         "mode": "markers",
         "name": "Tangerine Boy Eau de Parfum",
         "orientation": "v",
         "showlegend": true,
         "type": "scatter",
         "x": [
          "PHLUR"
         ],
         "xaxis": "x",
         "y": [
          96
         ],
         "yaxis": "y"
        },
        {
         "hovertemplate": "<b>%{hovertext}</b><br><br>product_name=Not Your Baby Eau de Parfum<br>Brand=%{x}<br>Price (USD)=%{y}<extra></extra>",
         "hovertext": [
          "Not Your Baby Eau de Parfum"
         ],
         "legendgroup": "Not Your Baby Eau de Parfum",
         "marker": {
          "color": "#636efa",
          "opacity": 0.7,
          "symbol": "circle"
         },
         "mode": "markers",
         "name": "Not Your Baby Eau de Parfum",
         "orientation": "v",
         "showlegend": true,
         "type": "scatter",
         "x": [
          "PHLUR"
         ],
         "xaxis": "x",
         "y": [
          96
         ],
         "yaxis": "y"
        },
        {
         "hovertemplate": "<b>%{hovertext}</b><br><br>product_name=Apricot Privée Eau de Parfum<br>Brand=%{x}<br>Price (USD)=%{y}<extra></extra>",
         "hovertext": [
          "Apricot Privée Eau de Parfum"
         ],
         "legendgroup": "Apricot Privée Eau de Parfum",
         "marker": {
          "color": "#EF553B",
          "opacity": 0.7,
          "symbol": "circle"
         },
         "mode": "markers",
         "name": "Apricot Privée Eau de Parfum",
         "orientation": "v",
         "showlegend": true,
         "type": "scatter",
         "x": [
          "PHLUR"
         ],
         "xaxis": "x",
         "y": [
          96
         ],
         "yaxis": "y"
        },
        {
         "hovertemplate": "<b>%{hovertext}</b><br><br>product_name=Somebody Wood Eau de Parfum<br>Brand=%{x}<br>Price (USD)=%{y}<extra></extra>",
         "hovertext": [
          "Somebody Wood Eau de Parfum"
         ],
         "legendgroup": "Somebody Wood Eau de Parfum",
         "marker": {
          "color": "#00cc96",
          "opacity": 0.7,
          "symbol": "circle"
         },
         "mode": "markers",
         "name": "Somebody Wood Eau de Parfum",
         "orientation": "v",
         "showlegend": true,
         "type": "scatter",
         "x": [
          "PHLUR"
         ],
         "xaxis": "x",
         "y": [
          96
         ],
         "yaxis": "y"
        },
        {
         "hovertemplate": "<b>%{hovertext}</b><br><br>product_name=Apricot Privée Eau de Parfum Travel Spray<br>Brand=%{x}<br>Price (USD)=%{y}<extra></extra>",
         "hovertext": [
          "Apricot Privée Eau de Parfum Travel Spray"
         ],
         "legendgroup": "Apricot Privée Eau de Parfum Travel Spray",
         "marker": {
          "color": "#ab63fa",
          "opacity": 0.7,
          "symbol": "circle"
         },
         "mode": "markers",
         "name": "Apricot Privée Eau de Parfum Travel Spray",
         "orientation": "v",
         "showlegend": true,
         "type": "scatter",
         "x": [
          "PHLUR"
         ],
         "xaxis": "x",
         "y": [
          26
         ],
         "yaxis": "y"
        },
        {
         "hovertemplate": "<b>%{hovertext}</b><br><br>product_name=Not Your Baby Eau de Parfum Travel Spray<br>Brand=%{x}<br>Price (USD)=%{y}<extra></extra>",
         "hovertext": [
          "Not Your Baby Eau de Parfum Travel Spray"
         ],
         "legendgroup": "Not Your Baby Eau de Parfum Travel Spray",
         "marker": {
          "color": "#FFA15A",
          "opacity": 0.7,
          "symbol": "circle"
         },
         "mode": "markers",
         "name": "Not Your Baby Eau de Parfum Travel Spray",
         "orientation": "v",
         "showlegend": true,
         "type": "scatter",
         "x": [
          "PHLUR"
         ],
         "xaxis": "x",
         "y": [
          26
         ],
         "yaxis": "y"
        },
        {
         "hovertemplate": "<b>%{hovertext}</b><br><br>product_name=Ameline Eau de Parfum<br>Brand=%{x}<br>Price (USD)=%{y}<extra></extra>",
         "hovertext": [
          "Ameline Eau de Parfum"
         ],
         "legendgroup": "Ameline Eau de Parfum",
         "marker": {
          "color": "#19d3f3",
          "opacity": 0.7,
          "symbol": "circle"
         },
         "mode": "markers",
         "name": "Ameline Eau de Parfum",
         "orientation": "v",
         "showlegend": true,
         "type": "scatter",
         "x": [
          "PHLUR"
         ],
         "xaxis": "x",
         "y": [
          96
         ],
         "yaxis": "y"
        },
        {
         "hovertemplate": "<b>%{hovertext}</b><br><br>product_name=Lost Cause Eau de Parfum<br>Brand=%{x}<br>Price (USD)=%{y}<extra></extra>",
         "hovertext": [
          "Lost Cause Eau de Parfum"
         ],
         "legendgroup": "Lost Cause Eau de Parfum",
         "marker": {
          "color": "#FF6692",
          "opacity": 0.7,
          "symbol": "circle"
         },
         "mode": "markers",
         "name": "Lost Cause Eau de Parfum",
         "orientation": "v",
         "showlegend": true,
         "type": "scatter",
         "x": [
          "PHLUR"
         ],
         "xaxis": "x",
         "y": [
          96
         ],
         "yaxis": "y"
        },
        {
         "hovertemplate": "<b>%{hovertext}</b><br><br>product_name=Phloria Eau de Parfum<br>Brand=%{x}<br>Price (USD)=%{y}<extra></extra>",
         "hovertext": [
          "Phloria Eau de Parfum"
         ],
         "legendgroup": "Phloria Eau de Parfum",
         "marker": {
          "color": "#B6E880",
          "opacity": 0.7,
          "symbol": "circle"
         },
         "mode": "markers",
         "name": "Phloria Eau de Parfum",
         "orientation": "v",
         "showlegend": true,
         "type": "scatter",
         "x": [
          "PHLUR"
         ],
         "xaxis": "x",
         "y": [
          96
         ],
         "yaxis": "y"
        },
        {
         "hovertemplate": "<b>%{hovertext}</b><br><br>product_name=Ameline Eau de Parfum Travel Spray<br>Brand=%{x}<br>Price (USD)=%{y}<extra></extra>",
         "hovertext": [
          "Ameline Eau de Parfum Travel Spray"
         ],
         "legendgroup": "Ameline Eau de Parfum Travel Spray",
         "marker": {
          "color": "#FF97FF",
          "opacity": 0.7,
          "symbol": "circle"
         },
         "mode": "markers",
         "name": "Ameline Eau de Parfum Travel Spray",
         "orientation": "v",
         "showlegend": true,
         "type": "scatter",
         "x": [
          "PHLUR"
         ],
         "xaxis": "x",
         "y": [
          26
         ],
         "yaxis": "y"
        },
        {
         "hovertemplate": "<b>%{hovertext}</b><br><br>product_name=Lost Cause Eau de Parfum Travel Spray<br>Brand=%{x}<br>Price (USD)=%{y}<extra></extra>",
         "hovertext": [
          "Lost Cause Eau de Parfum Travel Spray"
         ],
         "legendgroup": "Lost Cause Eau de Parfum Travel Spray",
         "marker": {
          "color": "#FECB52",
          "opacity": 0.7,
          "symbol": "circle"
         },
         "mode": "markers",
         "name": "Lost Cause Eau de Parfum Travel Spray",
         "orientation": "v",
         "showlegend": true,
         "type": "scatter",
         "x": [
          "PHLUR"
         ],
         "xaxis": "x",
         "y": [
          26
         ],
         "yaxis": "y"
        },
        {
         "hovertemplate": "<b>%{hovertext}</b><br><br>product_name=Phloria Eau de Parfum Travel Spray<br>Brand=%{x}<br>Price (USD)=%{y}<extra></extra>",
         "hovertext": [
          "Phloria Eau de Parfum Travel Spray"
         ],
         "legendgroup": "Phloria Eau de Parfum Travel Spray",
         "marker": {
          "color": "#636efa",
          "opacity": 0.7,
          "symbol": "circle"
         },
         "mode": "markers",
         "name": "Phloria Eau de Parfum Travel Spray",
         "orientation": "v",
         "showlegend": true,
         "type": "scatter",
         "x": [
          "PHLUR"
         ],
         "xaxis": "x",
         "y": [
          26
         ],
         "yaxis": "y"
        },
        {
         "hovertemplate": "<b>%{hovertext}</b><br><br>product_name=Paradoxe Eau de Parfum<br>Brand=%{x}<br>Price (USD)=%{y}<extra></extra>",
         "hovertext": [
          "Paradoxe Eau de Parfum"
         ],
         "legendgroup": "Paradoxe Eau de Parfum",
         "marker": {
          "color": "#EF553B",
          "opacity": 0.7,
          "symbol": "circle"
         },
         "mode": "markers",
         "name": "Paradoxe Eau de Parfum",
         "orientation": "v",
         "showlegend": true,
         "type": "scatter",
         "x": [
          "Prada"
         ],
         "xaxis": "x",
         "y": [
          32
         ],
         "yaxis": "y"
        },
        {
         "hovertemplate": "<b>%{hovertext}</b><br><br>product_name=Paradoxe Eau de Parfum Travel Spray<br>Brand=%{x}<br>Price (USD)=%{y}<extra></extra>",
         "hovertext": [
          "Paradoxe Eau de Parfum Travel Spray"
         ],
         "legendgroup": "Paradoxe Eau de Parfum Travel Spray",
         "marker": {
          "color": "#00cc96",
          "opacity": 0.7,
          "symbol": "circle"
         },
         "mode": "markers",
         "name": "Paradoxe Eau de Parfum Travel Spray",
         "orientation": "v",
         "showlegend": true,
         "type": "scatter",
         "x": [
          "Prada"
         ],
         "xaxis": "x",
         "y": [
          32
         ],
         "yaxis": "y"
        },
        {
         "hovertemplate": "<b>%{hovertext}</b><br><br>product_name=Luna Rossa Ocean Eau de Toilette<br>Brand=%{x}<br>Price (USD)=%{y}<extra></extra>",
         "hovertext": [
          "Luna Rossa Ocean Eau de Toilette"
         ],
         "legendgroup": "Luna Rossa Ocean Eau de Toilette",
         "marker": {
          "color": "#ab63fa",
          "opacity": 0.7,
          "symbol": "circle"
         },
         "mode": "markers",
         "name": "Luna Rossa Ocean Eau de Toilette",
         "orientation": "v",
         "showlegend": true,
         "type": "scatter",
         "x": [
          "Prada"
         ],
         "xaxis": "x",
         "y": [
          115
         ],
         "yaxis": "y"
        },
        {
         "hovertemplate": "<b>%{hovertext}</b><br><br>product_name=Luna Rossa Ocean Eau de Toilette Travel Spray<br>Brand=%{x}<br>Price (USD)=%{y}<extra></extra>",
         "hovertext": [
          "Luna Rossa Ocean Eau de Toilette Travel Spray"
         ],
         "legendgroup": "Luna Rossa Ocean Eau de Toilette Travel Spray",
         "marker": {
          "color": "#FFA15A",
          "opacity": 0.7,
          "symbol": "circle"
         },
         "mode": "markers",
         "name": "Luna Rossa Ocean Eau de Toilette Travel Spray",
         "orientation": "v",
         "showlegend": true,
         "type": "scatter",
         "x": [
          "Prada"
         ],
         "xaxis": "x",
         "y": [
          25
         ],
         "yaxis": "y"
        },
        {
         "hovertemplate": "<b>%{hovertext}</b><br><br>product_name=Vanilla Sky Eau de Parfum<br>Brand=%{x}<br>Price (USD)=%{y}<extra></extra>",
         "hovertext": [
          "Vanilla Sky Eau de Parfum"
         ],
         "legendgroup": "Vanilla Sky Eau de Parfum",
         "marker": {
          "color": "#19d3f3",
          "opacity": 0.7,
          "symbol": "circle"
         },
         "mode": "markers",
         "name": "Vanilla Sky Eau de Parfum",
         "orientation": "v",
         "showlegend": true,
         "type": "scatter",
         "x": [
          "SKYLAR"
         ],
         "xaxis": "x",
         "y": [
          90
         ],
         "yaxis": "y"
        },
        {
         "hovertemplate": "<b>%{hovertext}</b><br><br>product_name=Vanilla Sky Eau de Parfum Rollerball<br>Brand=%{x}<br>Price (USD)=%{y}<extra></extra>",
         "hovertext": [
          "Vanilla Sky Eau de Parfum Rollerball"
         ],
         "legendgroup": "Vanilla Sky Eau de Parfum Rollerball",
         "marker": {
          "color": "#FF6692",
          "opacity": 0.7,
          "symbol": "circle"
         },
         "mode": "markers",
         "name": "Vanilla Sky Eau de Parfum Rollerball",
         "orientation": "v",
         "showlegend": true,
         "type": "scatter",
         "x": [
          "SKYLAR"
         ],
         "xaxis": "x",
         "y": [
          30
         ],
         "yaxis": "y"
        },
        {
         "hovertemplate": "<b>%{hovertext}</b><br><br>product_name=Coconut Cove Eau de Parfum Rollerball<br>Brand=%{x}<br>Price (USD)=%{y}<extra></extra>",
         "hovertext": [
          "Coconut Cove Eau de Parfum Rollerball"
         ],
         "legendgroup": "Coconut Cove Eau de Parfum Rollerball",
         "marker": {
          "color": "#B6E880",
          "opacity": 0.7,
          "symbol": "circle"
         },
         "mode": "markers",
         "name": "Coconut Cove Eau de Parfum Rollerball",
         "orientation": "v",
         "showlegend": true,
         "type": "scatter",
         "x": [
          "SKYLAR"
         ],
         "xaxis": "x",
         "y": [
          30
         ],
         "yaxis": "y"
        },
        {
         "hovertemplate": "<b>%{hovertext}</b><br><br>product_name=Coconut Cove Eau de Parfum<br>Brand=%{x}<br>Price (USD)=%{y}<extra></extra>",
         "hovertext": [
          "Coconut Cove Eau de Parfum"
         ],
         "legendgroup": "Coconut Cove Eau de Parfum",
         "marker": {
          "color": "#FF97FF",
          "opacity": 0.7,
          "symbol": "circle"
         },
         "mode": "markers",
         "name": "Coconut Cove Eau de Parfum",
         "orientation": "v",
         "showlegend": true,
         "type": "scatter",
         "x": [
          "SKYLAR"
         ],
         "xaxis": "x",
         "y": [
          90
         ],
         "yaxis": "y"
        },
        {
         "hovertemplate": "<b>%{hovertext}</b><br><br>product_name=Peach Fields Eau de Parfum Rollerball<br>Brand=%{x}<br>Price (USD)=%{y}<extra></extra>",
         "hovertext": [
          "Peach Fields Eau de Parfum Rollerball"
         ],
         "legendgroup": "Peach Fields Eau de Parfum Rollerball",
         "marker": {
          "color": "#FECB52",
          "opacity": 0.7,
          "symbol": "circle"
         },
         "mode": "markers",
         "name": "Peach Fields Eau de Parfum Rollerball",
         "orientation": "v",
         "showlegend": true,
         "type": "scatter",
         "x": [
          "SKYLAR"
         ],
         "xaxis": "x",
         "y": [
          30
         ],
         "yaxis": "y"
        },
        {
         "hovertemplate": "<b>%{hovertext}</b><br><br>product_name=Peach Fields Eau de Parfum<br>Brand=%{x}<br>Price (USD)=%{y}<extra></extra>",
         "hovertext": [
          "Peach Fields Eau de Parfum"
         ],
         "legendgroup": "Peach Fields Eau de Parfum",
         "marker": {
          "color": "#636efa",
          "opacity": 0.7,
          "symbol": "circle"
         },
         "mode": "markers",
         "name": "Peach Fields Eau de Parfum",
         "orientation": "v",
         "showlegend": true,
         "type": "scatter",
         "x": [
          "SKYLAR"
         ],
         "xaxis": "x",
         "y": [
          90
         ],
         "yaxis": "y"
        },
        {
         "hovertemplate": "<b>%{hovertext}</b><br><br>product_name=Salt Air Eau De Parfum<br>Brand=%{x}<br>Price (USD)=%{y}<extra></extra>",
         "hovertext": [
          "Salt Air Eau De Parfum"
         ],
         "legendgroup": "Salt Air Eau De Parfum",
         "marker": {
          "color": "#EF553B",
          "opacity": 0.7,
          "symbol": "circle"
         },
         "mode": "markers",
         "name": "Salt Air Eau De Parfum",
         "orientation": "v",
         "showlegend": true,
         "type": "scatter",
         "x": [
          "SKYLAR"
         ],
         "xaxis": "x",
         "y": [
          90
         ],
         "yaxis": "y"
        },
        {
         "hovertemplate": "<b>%{hovertext}</b><br><br>product_name=Fall Cashmere Eau de Parfum Rollerball<br>Brand=%{x}<br>Price (USD)=%{y}<extra></extra>",
         "hovertext": [
          "Fall Cashmere Eau de Parfum Rollerball"
         ],
         "legendgroup": "Fall Cashmere Eau de Parfum Rollerball",
         "marker": {
          "color": "#00cc96",
          "opacity": 0.7,
          "symbol": "circle"
         },
         "mode": "markers",
         "name": "Fall Cashmere Eau de Parfum Rollerball",
         "orientation": "v",
         "showlegend": true,
         "type": "scatter",
         "x": [
          "SKYLAR"
         ],
         "xaxis": "x",
         "y": [
          30
         ],
         "yaxis": "y"
        },
        {
         "hovertemplate": "<b>%{hovertext}</b><br><br>product_name=Pink Canyon Eau de Parfum Rollerball<br>Brand=%{x}<br>Price (USD)=%{y}<extra></extra>",
         "hovertext": [
          "Pink Canyon Eau de Parfum Rollerball"
         ],
         "legendgroup": "Pink Canyon Eau de Parfum Rollerball",
         "marker": {
          "color": "#ab63fa",
          "opacity": 0.7,
          "symbol": "circle"
         },
         "mode": "markers",
         "name": "Pink Canyon Eau de Parfum Rollerball",
         "orientation": "v",
         "showlegend": true,
         "type": "scatter",
         "x": [
          "SKYLAR"
         ],
         "xaxis": "x",
         "y": [
          30
         ],
         "yaxis": "y"
        },
        {
         "hovertemplate": "<b>%{hovertext}</b><br><br>product_name=Capri Summer Eau De Parfum Rollerball<br>Brand=%{x}<br>Price (USD)=%{y}<extra></extra>",
         "hovertext": [
          "Capri Summer Eau De Parfum Rollerball"
         ],
         "legendgroup": "Capri Summer Eau De Parfum Rollerball",
         "marker": {
          "color": "#FFA15A",
          "opacity": 0.7,
          "symbol": "circle"
         },
         "mode": "markers",
         "name": "Capri Summer Eau De Parfum Rollerball",
         "orientation": "v",
         "showlegend": true,
         "type": "scatter",
         "x": [
          "SKYLAR"
         ],
         "xaxis": "x",
         "y": [
          30
         ],
         "yaxis": "y"
        },
        {
         "hovertemplate": "<b>%{hovertext}</b><br><br>product_name=Pink Canyon Eau De Parfum<br>Brand=%{x}<br>Price (USD)=%{y}<extra></extra>",
         "hovertext": [
          "Pink Canyon Eau De Parfum"
         ],
         "legendgroup": "Pink Canyon Eau De Parfum",
         "marker": {
          "color": "#19d3f3",
          "opacity": 0.7,
          "symbol": "circle"
         },
         "mode": "markers",
         "name": "Pink Canyon Eau De Parfum",
         "orientation": "v",
         "showlegend": true,
         "type": "scatter",
         "x": [
          "SKYLAR"
         ],
         "xaxis": "x",
         "y": [
          90
         ],
         "yaxis": "y"
        },
        {
         "hovertemplate": "<b>%{hovertext}</b><br><br>product_name=Fall Cashmere Eau De Parfum<br>Brand=%{x}<br>Price (USD)=%{y}<extra></extra>",
         "hovertext": [
          "Fall Cashmere Eau De Parfum"
         ],
         "legendgroup": "Fall Cashmere Eau De Parfum",
         "marker": {
          "color": "#FF6692",
          "opacity": 0.7,
          "symbol": "circle"
         },
         "mode": "markers",
         "name": "Fall Cashmere Eau De Parfum",
         "orientation": "v",
         "showlegend": true,
         "type": "scatter",
         "x": [
          "SKYLAR"
         ],
         "xaxis": "x",
         "y": [
          90
         ],
         "yaxis": "y"
        },
        {
         "hovertemplate": "<b>%{hovertext}</b><br><br>product_name=Honeysuckle Dream Eau de Parfum Travel Spray<br>Brand=%{x}<br>Price (USD)=%{y}<extra></extra>",
         "hovertext": [
          "Honeysuckle Dream Eau de Parfum Travel Spray"
         ],
         "legendgroup": "Honeysuckle Dream Eau de Parfum Travel Spray",
         "marker": {
          "color": "#B6E880",
          "opacity": 0.7,
          "symbol": "circle"
         },
         "mode": "markers",
         "name": "Honeysuckle Dream Eau de Parfum Travel Spray",
         "orientation": "v",
         "showlegend": true,
         "type": "scatter",
         "x": [
          "SKYLAR"
         ],
         "xaxis": "x",
         "y": [
          30
         ],
         "yaxis": "y"
        },
        {
         "hovertemplate": "<b>%{hovertext}</b><br><br>product_name=Capri Summer Eau De Parfum<br>Brand=%{x}<br>Price (USD)=%{y}<extra></extra>",
         "hovertext": [
          "Capri Summer Eau De Parfum"
         ],
         "legendgroup": "Capri Summer Eau De Parfum",
         "marker": {
          "color": "#FF97FF",
          "opacity": 0.7,
          "symbol": "circle"
         },
         "mode": "markers",
         "name": "Capri Summer Eau De Parfum",
         "orientation": "v",
         "showlegend": true,
         "type": "scatter",
         "x": [
          "SKYLAR"
         ],
         "xaxis": "x",
         "y": [
          90
         ],
         "yaxis": "y"
        },
        {
         "hovertemplate": "<b>%{hovertext}</b><br><br>product_name=Honeysuckle Dream Eau de Parfum<br>Brand=%{x}<br>Price (USD)=%{y}<extra></extra>",
         "hovertext": [
          "Honeysuckle Dream Eau de Parfum"
         ],
         "legendgroup": "Honeysuckle Dream Eau de Parfum",
         "marker": {
          "color": "#FECB52",
          "opacity": 0.7,
          "symbol": "circle"
         },
         "mode": "markers",
         "name": "Honeysuckle Dream Eau de Parfum",
         "orientation": "v",
         "showlegend": true,
         "type": "scatter",
         "x": [
          "SKYLAR"
         ],
         "xaxis": "x",
         "y": [
          90
         ],
         "yaxis": "y"
        },
        {
         "hovertemplate": "<b>%{hovertext}</b><br><br>product_name=Isle Escape Eau De Parfum<br>Brand=%{x}<br>Price (USD)=%{y}<extra></extra>",
         "hovertext": [
          "Isle Escape Eau De Parfum"
         ],
         "legendgroup": "Isle Escape Eau De Parfum",
         "marker": {
          "color": "#636efa",
          "opacity": 0.7,
          "symbol": "circle"
         },
         "mode": "markers",
         "name": "Isle Escape Eau De Parfum",
         "orientation": "v",
         "showlegend": true,
         "type": "scatter",
         "x": [
          "SKYLAR"
         ],
         "xaxis": "x",
         "y": [
          90
         ],
         "yaxis": "y"
        },
        {
         "hovertemplate": "<b>%{hovertext}</b><br><br>product_name=Isle Escape Eau De Parfum Rollerball<br>Brand=%{x}<br>Price (USD)=%{y}<extra></extra>",
         "hovertext": [
          "Isle Escape Eau De Parfum Rollerball"
         ],
         "legendgroup": "Isle Escape Eau De Parfum Rollerball",
         "marker": {
          "color": "#EF553B",
          "opacity": 0.7,
          "symbol": "circle"
         },
         "mode": "markers",
         "name": "Isle Escape Eau De Parfum Rollerball",
         "orientation": "v",
         "showlegend": true,
         "type": "scatter",
         "x": [
          "SKYLAR"
         ],
         "xaxis": "x",
         "y": [
          30
         ],
         "yaxis": "y"
        },
        {
         "hovertemplate": "<b>%{hovertext}</b><br><br>product_name=Sun Shower Eau De Parfum Rollerball<br>Brand=%{x}<br>Price (USD)=%{y}<extra></extra>",
         "hovertext": [
          "Sun Shower Eau De Parfum Rollerball"
         ],
         "legendgroup": "Sun Shower Eau De Parfum Rollerball",
         "marker": {
          "color": "#00cc96",
          "opacity": 0.7,
          "symbol": "circle"
         },
         "mode": "markers",
         "name": "Sun Shower Eau De Parfum Rollerball",
         "orientation": "v",
         "showlegend": true,
         "type": "scatter",
         "x": [
          "SKYLAR"
         ],
         "xaxis": "x",
         "y": [
          30
         ],
         "yaxis": "y"
        },
        {
         "hovertemplate": "<b>%{hovertext}</b><br><br>product_name=Sun Shower Eau De Parfum<br>Brand=%{x}<br>Price (USD)=%{y}<extra></extra>",
         "hovertext": [
          "Sun Shower Eau De Parfum"
         ],
         "legendgroup": "Sun Shower Eau De Parfum",
         "marker": {
          "color": "#ab63fa",
          "opacity": 0.7,
          "symbol": "circle"
         },
         "mode": "markers",
         "name": "Sun Shower Eau De Parfum",
         "orientation": "v",
         "showlegend": true,
         "type": "scatter",
         "x": [
          "SKYLAR"
         ],
         "xaxis": "x",
         "y": [
          90
         ],
         "yaxis": "y"
        },
        {
         "hovertemplate": "<b>%{hovertext}</b><br><br>product_name=SOL Cheirosa '62 Eau de Parfum<br>Brand=%{x}<br>Price (USD)=%{y}<extra></extra>",
         "hovertext": [
          "SOL Cheirosa '62 Eau de Parfum"
         ],
         "legendgroup": "SOL Cheirosa '62 Eau de Parfum",
         "marker": {
          "color": "#FFA15A",
          "opacity": 0.7,
          "symbol": "circle"
         },
         "mode": "markers",
         "name": "SOL Cheirosa '62 Eau de Parfum",
         "orientation": "v",
         "showlegend": true,
         "type": "scatter",
         "x": [
          "Sol de Janeiro"
         ],
         "xaxis": "x",
         "y": [
          78
         ],
         "yaxis": "y"
        },
        {
         "hovertemplate": "<b>%{hovertext}</b><br><br>product_name=Vanilla Woods Eau de Parfum<br>Brand=%{x}<br>Price (USD)=%{y}<extra></extra>",
         "hovertext": [
          "Vanilla Woods Eau de Parfum"
         ],
         "legendgroup": "Vanilla Woods Eau de Parfum",
         "marker": {
          "color": "#19d3f3",
          "opacity": 0.7,
          "symbol": "circle"
         },
         "mode": "markers",
         "name": "Vanilla Woods Eau de Parfum",
         "orientation": "v",
         "showlegend": true,
         "type": "scatter",
         "x": [
          "The 7 Virtues"
         ],
         "xaxis": "x",
         "y": [
          88
         ],
         "yaxis": "y"
        },
        {
         "hovertemplate": "<b>%{hovertext}</b><br><br>product_name=Vanilla Woods Eau de Parfum Rollerball<br>Brand=%{x}<br>Price (USD)=%{y}<extra></extra>",
         "hovertext": [
          "Vanilla Woods Eau de Parfum Rollerball"
         ],
         "legendgroup": "Vanilla Woods Eau de Parfum Rollerball",
         "marker": {
          "color": "#FF6692",
          "opacity": 0.7,
          "symbol": "circle"
         },
         "mode": "markers",
         "name": "Vanilla Woods Eau de Parfum Rollerball",
         "orientation": "v",
         "showlegend": true,
         "type": "scatter",
         "x": [
          "The 7 Virtues"
         ],
         "xaxis": "x",
         "y": [
          32
         ],
         "yaxis": "y"
        },
        {
         "hovertemplate": "<b>%{hovertext}</b><br><br>product_name=Santal Vanille Eau de Parfum<br>Brand=%{x}<br>Price (USD)=%{y}<extra></extra>",
         "hovertext": [
          "Santal Vanille Eau de Parfum"
         ],
         "legendgroup": "Santal Vanille Eau de Parfum",
         "marker": {
          "color": "#B6E880",
          "opacity": 0.7,
          "symbol": "circle"
         },
         "mode": "markers",
         "name": "Santal Vanille Eau de Parfum",
         "orientation": "v",
         "showlegend": true,
         "type": "scatter",
         "x": [
          "The 7 Virtues"
         ],
         "xaxis": "x",
         "y": [
          88
         ],
         "yaxis": "y"
        },
        {
         "hovertemplate": "<b>%{hovertext}</b><br><br>product_name=Santal Vanille Eau de Parfum Rollerball<br>Brand=%{x}<br>Price (USD)=%{y}<extra></extra>",
         "hovertext": [
          "Santal Vanille Eau de Parfum Rollerball"
         ],
         "legendgroup": "Santal Vanille Eau de Parfum Rollerball",
         "marker": {
          "color": "#FF97FF",
          "opacity": 0.7,
          "symbol": "circle"
         },
         "mode": "markers",
         "name": "Santal Vanille Eau de Parfum Rollerball",
         "orientation": "v",
         "showlegend": true,
         "type": "scatter",
         "x": [
          "The 7 Virtues"
         ],
         "xaxis": "x",
         "y": [
          32
         ],
         "yaxis": "y"
        },
        {
         "hovertemplate": "<b>%{hovertext}</b><br><br>product_name=Lotus Pear Eau de Parfum<br>Brand=%{x}<br>Price (USD)=%{y}<extra></extra>",
         "hovertext": [
          "Lotus Pear Eau de Parfum"
         ],
         "legendgroup": "Lotus Pear Eau de Parfum",
         "marker": {
          "color": "#FECB52",
          "opacity": 0.7,
          "symbol": "circle"
         },
         "mode": "markers",
         "name": "Lotus Pear Eau de Parfum",
         "orientation": "v",
         "showlegend": true,
         "type": "scatter",
         "x": [
          "The 7 Virtues"
         ],
         "xaxis": "x",
         "y": [
          88
         ],
         "yaxis": "y"
        },
        {
         "hovertemplate": "<b>%{hovertext}</b><br><br>product_name=Blackberry Lily Eau de Parfum<br>Brand=%{x}<br>Price (USD)=%{y}<extra></extra>",
         "hovertext": [
          "Blackberry Lily Eau de Parfum"
         ],
         "legendgroup": "Blackberry Lily Eau de Parfum",
         "marker": {
          "color": "#636efa",
          "opacity": 0.7,
          "symbol": "circle"
         },
         "mode": "markers",
         "name": "Blackberry Lily Eau de Parfum",
         "orientation": "v",
         "showlegend": true,
         "type": "scatter",
         "x": [
          "The 7 Virtues"
         ],
         "xaxis": "x",
         "y": [
          88
         ],
         "yaxis": "y"
        },
        {
         "hovertemplate": "<b>%{hovertext}</b><br><br>product_name=Lotus Pear Eau de Parfum Rollerball<br>Brand=%{x}<br>Price (USD)=%{y}<extra></extra>",
         "hovertext": [
          "Lotus Pear Eau de Parfum Rollerball"
         ],
         "legendgroup": "Lotus Pear Eau de Parfum Rollerball",
         "marker": {
          "color": "#EF553B",
          "opacity": 0.7,
          "symbol": "circle"
         },
         "mode": "markers",
         "name": "Lotus Pear Eau de Parfum Rollerball",
         "orientation": "v",
         "showlegend": true,
         "type": "scatter",
         "x": [
          "The 7 Virtues"
         ],
         "xaxis": "x",
         "y": [
          32
         ],
         "yaxis": "y"
        },
        {
         "hovertemplate": "<b>%{hovertext}</b><br><br>product_name=Orange Blossom Eau de Parfum Rollerball<br>Brand=%{x}<br>Price (USD)=%{y}<extra></extra>",
         "hovertext": [
          "Orange Blossom Eau de Parfum Rollerball"
         ],
         "legendgroup": "Orange Blossom Eau de Parfum Rollerball",
         "marker": {
          "color": "#00cc96",
          "opacity": 0.7,
          "symbol": "circle"
         },
         "mode": "markers",
         "name": "Orange Blossom Eau de Parfum Rollerball",
         "orientation": "v",
         "showlegend": true,
         "type": "scatter",
         "x": [
          "The 7 Virtues"
         ],
         "xaxis": "x",
         "y": [
          32
         ],
         "yaxis": "y"
        },
        {
         "hovertemplate": "<b>%{hovertext}</b><br><br>product_name=Jasmine Neroli Eau de Parfum Rollerball<br>Brand=%{x}<br>Price (USD)=%{y}<extra></extra>",
         "hovertext": [
          "Jasmine Neroli Eau de Parfum Rollerball"
         ],
         "legendgroup": "Jasmine Neroli Eau de Parfum Rollerball",
         "marker": {
          "color": "#ab63fa",
          "opacity": 0.7,
          "symbol": "circle"
         },
         "mode": "markers",
         "name": "Jasmine Neroli Eau de Parfum Rollerball",
         "orientation": "v",
         "showlegend": true,
         "type": "scatter",
         "x": [
          "The 7 Virtues"
         ],
         "xaxis": "x",
         "y": [
          32
         ],
         "yaxis": "y"
        },
        {
         "hovertemplate": "<b>%{hovertext}</b><br><br>product_name=Rose Amber Eau de Parfum<br>Brand=%{x}<br>Price (USD)=%{y}<extra></extra>",
         "hovertext": [
          "Rose Amber Eau de Parfum"
         ],
         "legendgroup": "Rose Amber Eau de Parfum",
         "marker": {
          "color": "#FFA15A",
          "opacity": 0.7,
          "symbol": "circle"
         },
         "mode": "markers",
         "name": "Rose Amber Eau de Parfum",
         "orientation": "v",
         "showlegend": true,
         "type": "scatter",
         "x": [
          "The 7 Virtues"
         ],
         "xaxis": "x",
         "y": [
          88
         ],
         "yaxis": "y"
        },
        {
         "hovertemplate": "<b>%{hovertext}</b><br><br>product_name=Jasmine Neroli Eau de Parfum<br>Brand=%{x}<br>Price (USD)=%{y}<extra></extra>",
         "hovertext": [
          "Jasmine Neroli Eau de Parfum"
         ],
         "legendgroup": "Jasmine Neroli Eau de Parfum",
         "marker": {
          "color": "#19d3f3",
          "opacity": 0.7,
          "symbol": "circle"
         },
         "mode": "markers",
         "name": "Jasmine Neroli Eau de Parfum",
         "orientation": "v",
         "showlegend": true,
         "type": "scatter",
         "x": [
          "The 7 Virtues"
         ],
         "xaxis": "x",
         "y": [
          88
         ],
         "yaxis": "y"
        },
        {
         "hovertemplate": "<b>%{hovertext}</b><br><br>product_name=Coconut Sun Eau de Parfum<br>Brand=%{x}<br>Price (USD)=%{y}<extra></extra>",
         "hovertext": [
          "Coconut Sun Eau de Parfum"
         ],
         "legendgroup": "Coconut Sun Eau de Parfum",
         "marker": {
          "color": "#FF6692",
          "opacity": 0.7,
          "symbol": "circle"
         },
         "mode": "markers",
         "name": "Coconut Sun Eau de Parfum",
         "orientation": "v",
         "showlegend": true,
         "type": "scatter",
         "x": [
          "The 7 Virtues"
         ],
         "xaxis": "x",
         "y": [
          88
         ],
         "yaxis": "y"
        },
        {
         "hovertemplate": "<b>%{hovertext}</b><br><br>product_name=Orange Blossom Eau de Parfum<br>Brand=%{x}<br>Price (USD)=%{y}<extra></extra>",
         "hovertext": [
          "Orange Blossom Eau de Parfum"
         ],
         "legendgroup": "Orange Blossom Eau de Parfum",
         "marker": {
          "color": "#B6E880",
          "opacity": 0.7,
          "symbol": "circle"
         },
         "mode": "markers",
         "name": "Orange Blossom Eau de Parfum",
         "orientation": "v",
         "showlegend": true,
         "type": "scatter",
         "x": [
          "The 7 Virtues"
         ],
         "xaxis": "x",
         "y": [
          88
         ],
         "yaxis": "y"
        },
        {
         "hovertemplate": "<b>%{hovertext}</b><br><br>product_name=Rose Amber Eau de Parfum Rollerball<br>Brand=%{x}<br>Price (USD)=%{y}<extra></extra>",
         "hovertext": [
          "Rose Amber Eau de Parfum Rollerball"
         ],
         "legendgroup": "Rose Amber Eau de Parfum Rollerball",
         "marker": {
          "color": "#FF97FF",
          "opacity": 0.7,
          "symbol": "circle"
         },
         "mode": "markers",
         "name": "Rose Amber Eau de Parfum Rollerball",
         "orientation": "v",
         "showlegend": true,
         "type": "scatter",
         "x": [
          "The 7 Virtues"
         ],
         "xaxis": "x",
         "y": [
          32
         ],
         "yaxis": "y"
        },
        {
         "hovertemplate": "<b>%{hovertext}</b><br><br>product_name=Coconut Sun Eau de Parfum Travel Spray<br>Brand=%{x}<br>Price (USD)=%{y}<extra></extra>",
         "hovertext": [
          "Coconut Sun Eau de Parfum Travel Spray"
         ],
         "legendgroup": "Coconut Sun Eau de Parfum Travel Spray",
         "marker": {
          "color": "#FECB52",
          "opacity": 0.7,
          "symbol": "circle"
         },
         "mode": "markers",
         "name": "Coconut Sun Eau de Parfum Travel Spray",
         "orientation": "v",
         "showlegend": true,
         "type": "scatter",
         "x": [
          "The 7 Virtues"
         ],
         "xaxis": "x",
         "y": [
          32
         ],
         "yaxis": "y"
        },
        {
         "hovertemplate": "<b>%{hovertext}</b><br><br>product_name=Patchouli Citrus Eau de Parfum Rollerball<br>Brand=%{x}<br>Price (USD)=%{y}<extra></extra>",
         "hovertext": [
          "Patchouli Citrus Eau de Parfum Rollerball"
         ],
         "legendgroup": "Patchouli Citrus Eau de Parfum Rollerball",
         "marker": {
          "color": "#636efa",
          "opacity": 0.7,
          "symbol": "circle"
         },
         "mode": "markers",
         "name": "Patchouli Citrus Eau de Parfum Rollerball",
         "orientation": "v",
         "showlegend": true,
         "type": "scatter",
         "x": [
          "The 7 Virtues"
         ],
         "xaxis": "x",
         "y": [
          32
         ],
         "yaxis": "y"
        },
        {
         "hovertemplate": "<b>%{hovertext}</b><br><br>product_name=Patchouli Citrus Eau de Parfum<br>Brand=%{x}<br>Price (USD)=%{y}<extra></extra>",
         "hovertext": [
          "Patchouli Citrus Eau de Parfum"
         ],
         "legendgroup": "Patchouli Citrus Eau de Parfum",
         "marker": {
          "color": "#EF553B",
          "opacity": 0.7,
          "symbol": "circle"
         },
         "mode": "markers",
         "name": "Patchouli Citrus Eau de Parfum",
         "orientation": "v",
         "showlegend": true,
         "type": "scatter",
         "x": [
          "The 7 Virtues"
         ],
         "xaxis": "x",
         "y": [
          88
         ],
         "yaxis": "y"
        },
        {
         "hovertemplate": "<b>%{hovertext}</b><br><br>product_name=Vetiver Elemi Eau de Parfum<br>Brand=%{x}<br>Price (USD)=%{y}<extra></extra>",
         "hovertext": [
          "Vetiver Elemi Eau de Parfum"
         ],
         "legendgroup": "Vetiver Elemi Eau de Parfum",
         "marker": {
          "color": "#00cc96",
          "opacity": 0.7,
          "symbol": "circle"
         },
         "mode": "markers",
         "name": "Vetiver Elemi Eau de Parfum",
         "orientation": "v",
         "showlegend": true,
         "type": "scatter",
         "x": [
          "The 7 Virtues"
         ],
         "xaxis": "x",
         "y": [
          88
         ],
         "yaxis": "y"
        },
        {
         "hovertemplate": "<b>%{hovertext}</b><br><br>product_name=Lotus Pear Perfume Oil<br>Brand=%{x}<br>Price (USD)=%{y}<extra></extra>",
         "hovertext": [
          "Lotus Pear Perfume Oil"
         ],
         "legendgroup": "Lotus Pear Perfume Oil",
         "marker": {
          "color": "#ab63fa",
          "opacity": 0.7,
          "symbol": "circle"
         },
         "mode": "markers",
         "name": "Lotus Pear Perfume Oil",
         "orientation": "v",
         "showlegend": true,
         "type": "scatter",
         "x": [
          "The 7 Virtues"
         ],
         "xaxis": "x",
         "y": [
          69
         ],
         "yaxis": "y"
        },
        {
         "hovertemplate": "<b>%{hovertext}</b><br><br>product_name=Transcend Eau de Parfum<br>Brand=%{x}<br>Price (USD)=%{y}<extra></extra>",
         "hovertext": [
          "Transcend Eau de Parfum"
         ],
         "legendgroup": "Transcend Eau de Parfum",
         "marker": {
          "color": "#FFA15A",
          "opacity": 0.7,
          "symbol": "circle"
         },
         "mode": "markers",
         "name": "Transcend Eau de Parfum",
         "orientation": "v",
         "showlegend": true,
         "type": "scatter",
         "x": [
          "The Phluid Project"
         ],
         "xaxis": "x",
         "y": [
          55
         ],
         "yaxis": "y"
        },
        {
         "hovertemplate": "<b>%{hovertext}</b><br><br>product_name=Balance Eau de Parfum Travel Spray<br>Brand=%{x}<br>Price (USD)=%{y}<extra></extra>",
         "hovertext": [
          "Balance Eau de Parfum Travel Spray"
         ],
         "legendgroup": "Balance Eau de Parfum Travel Spray",
         "marker": {
          "color": "#19d3f3",
          "opacity": 0.7,
          "symbol": "circle"
         },
         "mode": "markers",
         "name": "Balance Eau de Parfum Travel Spray",
         "orientation": "v",
         "showlegend": true,
         "type": "scatter",
         "x": [
          "The Phluid Project"
         ],
         "xaxis": "x",
         "y": [
          20
         ],
         "yaxis": "y"
        },
        {
         "hovertemplate": "<b>%{hovertext}</b><br><br>product_name=Intention Eau de Parfum<br>Brand=%{x}<br>Price (USD)=%{y}<extra></extra>",
         "hovertext": [
          "Intention Eau de Parfum"
         ],
         "legendgroup": "Intention Eau de Parfum",
         "marker": {
          "color": "#FF6692",
          "opacity": 0.7,
          "symbol": "circle"
         },
         "mode": "markers",
         "name": "Intention Eau de Parfum",
         "orientation": "v",
         "showlegend": true,
         "type": "scatter",
         "x": [
          "The Phluid Project"
         ],
         "xaxis": "x",
         "y": [
          20
         ],
         "yaxis": "y"
        },
        {
         "hovertemplate": "<b>%{hovertext}</b><br><br>product_name=Humanity Eau de Parfum Travel Spray<br>Brand=%{x}<br>Price (USD)=%{y}<extra></extra>",
         "hovertext": [
          "Humanity Eau de Parfum Travel Spray"
         ],
         "legendgroup": "Humanity Eau de Parfum Travel Spray",
         "marker": {
          "color": "#B6E880",
          "opacity": 0.7,
          "symbol": "circle"
         },
         "mode": "markers",
         "name": "Humanity Eau de Parfum Travel Spray",
         "orientation": "v",
         "showlegend": true,
         "type": "scatter",
         "x": [
          "The Phluid Project"
         ],
         "xaxis": "x",
         "y": [
          20
         ],
         "yaxis": "y"
        },
        {
         "hovertemplate": "<b>%{hovertext}</b><br><br>product_name=Intention Eau de Parfum Travel Spray<br>Brand=%{x}<br>Price (USD)=%{y}<extra></extra>",
         "hovertext": [
          "Intention Eau de Parfum Travel Spray"
         ],
         "legendgroup": "Intention Eau de Parfum Travel Spray",
         "marker": {
          "color": "#FF97FF",
          "opacity": 0.7,
          "symbol": "circle"
         },
         "mode": "markers",
         "name": "Intention Eau de Parfum Travel Spray",
         "orientation": "v",
         "showlegend": true,
         "type": "scatter",
         "x": [
          "The Phluid Project"
         ],
         "xaxis": "x",
         "y": [
          20
         ],
         "yaxis": "y"
        },
        {
         "hovertemplate": "<b>%{hovertext}</b><br><br>product_name=Balance Eau de Parfum<br>Brand=%{x}<br>Price (USD)=%{y}<extra></extra>",
         "hovertext": [
          "Balance Eau de Parfum"
         ],
         "legendgroup": "Balance Eau de Parfum",
         "marker": {
          "color": "#FECB52",
          "opacity": 0.7,
          "symbol": "circle"
         },
         "mode": "markers",
         "name": "Balance Eau de Parfum",
         "orientation": "v",
         "showlegend": true,
         "type": "scatter",
         "x": [
          "The Phluid Project"
         ],
         "xaxis": "x",
         "y": [
          20
         ],
         "yaxis": "y"
        },
        {
         "hovertemplate": "<b>%{hovertext}</b><br><br>product_name=Humanity Eau de Parfum<br>Brand=%{x}<br>Price (USD)=%{y}<extra></extra>",
         "hovertext": [
          "Humanity Eau de Parfum"
         ],
         "legendgroup": "Humanity Eau de Parfum",
         "marker": {
          "color": "#636efa",
          "opacity": 0.7,
          "symbol": "circle"
         },
         "mode": "markers",
         "name": "Humanity Eau de Parfum",
         "orientation": "v",
         "showlegend": true,
         "type": "scatter",
         "x": [
          "The Phluid Project"
         ],
         "xaxis": "x",
         "y": [
          20
         ],
         "yaxis": "y"
        },
        {
         "hovertemplate": "<b>%{hovertext}</b><br><br>product_name=Florence<br>Brand=%{x}<br>Price (USD)=%{y}<extra></extra>",
         "hovertext": [
          "Florence"
         ],
         "legendgroup": "Florence",
         "marker": {
          "color": "#EF553B",
          "opacity": 0.7,
          "symbol": "circle"
         },
         "mode": "markers",
         "name": "Florence",
         "orientation": "v",
         "showlegend": true,
         "type": "scatter",
         "x": [
          "TOCCA"
         ],
         "xaxis": "x",
         "y": [
          80
         ],
         "yaxis": "y"
        },
        {
         "hovertemplate": "<b>%{hovertext}</b><br><br>product_name=Cleopatra<br>Brand=%{x}<br>Price (USD)=%{y}<extra></extra>",
         "hovertext": [
          "Cleopatra"
         ],
         "legendgroup": "Cleopatra",
         "marker": {
          "color": "#00cc96",
          "opacity": 0.7,
          "symbol": "circle"
         },
         "mode": "markers",
         "name": "Cleopatra",
         "orientation": "v",
         "showlegend": true,
         "type": "scatter",
         "x": [
          "TOCCA"
         ],
         "xaxis": "x",
         "y": [
          80
         ],
         "yaxis": "y"
        },
        {
         "hovertemplate": "<b>%{hovertext}</b><br><br>product_name=Giulietta<br>Brand=%{x}<br>Price (USD)=%{y}<extra></extra>",
         "hovertext": [
          "Giulietta"
         ],
         "legendgroup": "Giulietta",
         "marker": {
          "color": "#ab63fa",
          "opacity": 0.7,
          "symbol": "circle"
         },
         "mode": "markers",
         "name": "Giulietta",
         "orientation": "v",
         "showlegend": true,
         "type": "scatter",
         "x": [
          "TOCCA"
         ],
         "xaxis": "x",
         "y": [
          80
         ],
         "yaxis": "y"
        },
        {
         "hovertemplate": "<b>%{hovertext}</b><br><br>product_name=Stella<br>Brand=%{x}<br>Price (USD)=%{y}<extra></extra>",
         "hovertext": [
          "Stella"
         ],
         "legendgroup": "Stella",
         "marker": {
          "color": "#FFA15A",
          "opacity": 0.7,
          "symbol": "circle"
         },
         "mode": "markers",
         "name": "Stella",
         "orientation": "v",
         "showlegend": true,
         "type": "scatter",
         "x": [
          "TOCCA"
         ],
         "xaxis": "x",
         "y": [
          80
         ],
         "yaxis": "y"
        },
        {
         "hovertemplate": "<b>%{hovertext}</b><br><br>product_name=Giulietta Rollerball<br>Brand=%{x}<br>Price (USD)=%{y}<extra></extra>",
         "hovertext": [
          "Giulietta Rollerball"
         ],
         "legendgroup": "Giulietta Rollerball",
         "marker": {
          "color": "#19d3f3",
          "opacity": 0.7,
          "symbol": "circle"
         },
         "mode": "markers",
         "name": "Giulietta Rollerball",
         "orientation": "v",
         "showlegend": true,
         "type": "scatter",
         "x": [
          "TOCCA"
         ],
         "xaxis": "x",
         "y": [
          27
         ],
         "yaxis": "y"
        },
        {
         "hovertemplate": "<b>%{hovertext}</b><br><br>product_name=Stella Travel Spray<br>Brand=%{x}<br>Price (USD)=%{y}<extra></extra>",
         "hovertext": [
          "Stella Travel Spray"
         ],
         "legendgroup": "Stella Travel Spray",
         "marker": {
          "color": "#FF6692",
          "opacity": 0.7,
          "symbol": "circle"
         },
         "mode": "markers",
         "name": "Stella Travel Spray",
         "orientation": "v",
         "showlegend": true,
         "type": "scatter",
         "x": [
          "TOCCA"
         ],
         "xaxis": "x",
         "y": [
          46
         ],
         "yaxis": "y"
        },
        {
         "hovertemplate": "<b>%{hovertext}</b><br><br>product_name=Giulietta Travel Spray<br>Brand=%{x}<br>Price (USD)=%{y}<extra></extra>",
         "hovertext": [
          "Giulietta Travel Spray"
         ],
         "legendgroup": "Giulietta Travel Spray",
         "marker": {
          "color": "#B6E880",
          "opacity": 0.7,
          "symbol": "circle"
         },
         "mode": "markers",
         "name": "Giulietta Travel Spray",
         "orientation": "v",
         "showlegend": true,
         "type": "scatter",
         "x": [
          "TOCCA"
         ],
         "xaxis": "x",
         "y": [
          46
         ],
         "yaxis": "y"
        },
        {
         "hovertemplate": "<b>%{hovertext}</b><br><br>product_name=Florence Travel Spray<br>Brand=%{x}<br>Price (USD)=%{y}<extra></extra>",
         "hovertext": [
          "Florence Travel Spray"
         ],
         "legendgroup": "Florence Travel Spray",
         "marker": {
          "color": "#FF97FF",
          "opacity": 0.7,
          "symbol": "circle"
         },
         "mode": "markers",
         "name": "Florence Travel Spray",
         "orientation": "v",
         "showlegend": true,
         "type": "scatter",
         "x": [
          "TOCCA"
         ],
         "xaxis": "x",
         "y": [
          46
         ],
         "yaxis": "y"
        },
        {
         "hovertemplate": "<b>%{hovertext}</b><br><br>product_name=Cleopatra Travel Spray<br>Brand=%{x}<br>Price (USD)=%{y}<extra></extra>",
         "hovertext": [
          "Cleopatra Travel Spray"
         ],
         "legendgroup": "Cleopatra Travel Spray",
         "marker": {
          "color": "#FECB52",
          "opacity": 0.7,
          "symbol": "circle"
         },
         "mode": "markers",
         "name": "Cleopatra Travel Spray",
         "orientation": "v",
         "showlegend": true,
         "type": "scatter",
         "x": [
          "TOCCA"
         ],
         "xaxis": "x",
         "y": [
          46
         ],
         "yaxis": "y"
        },
        {
         "hovertemplate": "<b>%{hovertext}</b><br><br>product_name=Lost Cherry<br>Brand=%{x}<br>Price (USD)=%{y}<extra></extra>",
         "hovertext": [
          "Lost Cherry"
         ],
         "legendgroup": "Lost Cherry",
         "marker": {
          "color": "#636efa",
          "opacity": 0.7,
          "symbol": "circle"
         },
         "mode": "markers",
         "name": "Lost Cherry",
         "orientation": "v",
         "showlegend": true,
         "type": "scatter",
         "x": [
          "TOM FORD"
         ],
         "xaxis": "x",
         "y": [
          395
         ],
         "yaxis": "y"
        },
        {
         "hovertemplate": "<b>%{hovertext}</b><br><br>product_name=Tobacco Vanille<br>Brand=%{x}<br>Price (USD)=%{y}<extra></extra>",
         "hovertext": [
          "Tobacco Vanille"
         ],
         "legendgroup": "Tobacco Vanille",
         "marker": {
          "color": "#EF553B",
          "opacity": 0.7,
          "symbol": "circle"
         },
         "mode": "markers",
         "name": "Tobacco Vanille",
         "orientation": "v",
         "showlegend": true,
         "type": "scatter",
         "x": [
          "TOM FORD"
         ],
         "xaxis": "x",
         "y": [
          295
         ],
         "yaxis": "y"
        },
        {
         "hovertemplate": "<b>%{hovertext}</b><br><br>product_name=Lost Cherry Travel Spray<br>Brand=%{x}<br>Price (USD)=%{y}<extra></extra>",
         "hovertext": [
          "Lost Cherry Travel Spray"
         ],
         "legendgroup": "Lost Cherry Travel Spray",
         "marker": {
          "color": "#00cc96",
          "opacity": 0.7,
          "symbol": "circle"
         },
         "mode": "markers",
         "name": "Lost Cherry Travel Spray",
         "orientation": "v",
         "showlegend": true,
         "type": "scatter",
         "x": [
          "TOM FORD"
         ],
         "xaxis": "x",
         "y": [
          80
         ],
         "yaxis": "y"
        },
        {
         "hovertemplate": "<b>%{hovertext}</b><br><br>product_name=Soleil Blanc<br>Brand=%{x}<br>Price (USD)=%{y}<extra></extra>",
         "hovertext": [
          "Soleil Blanc"
         ],
         "legendgroup": "Soleil Blanc",
         "marker": {
          "color": "#ab63fa",
          "opacity": 0.7,
          "symbol": "circle"
         },
         "mode": "markers",
         "name": "Soleil Blanc",
         "orientation": "v",
         "showlegend": true,
         "type": "scatter",
         "x": [
          "TOM FORD"
         ],
         "xaxis": "x",
         "y": [
          295
         ],
         "yaxis": "y"
        },
        {
         "hovertemplate": "<b>%{hovertext}</b><br><br>product_name=Tobacco Vanille Travel Spray<br>Brand=%{x}<br>Price (USD)=%{y}<extra></extra>",
         "hovertext": [
          "Tobacco Vanille Travel Spray"
         ],
         "legendgroup": "Tobacco Vanille Travel Spray",
         "marker": {
          "color": "#FFA15A",
          "opacity": 0.7,
          "symbol": "circle"
         },
         "mode": "markers",
         "name": "Tobacco Vanille Travel Spray",
         "orientation": "v",
         "showlegend": true,
         "type": "scatter",
         "x": [
          "TOM FORD"
         ],
         "xaxis": "x",
         "y": [
          70
         ],
         "yaxis": "y"
        },
        {
         "hovertemplate": "<b>%{hovertext}</b><br><br>product_name=Fucking Fabulous<br>Brand=%{x}<br>Price (USD)=%{y}<extra></extra>",
         "hovertext": [
          "Fucking Fabulous"
         ],
         "legendgroup": "Fucking Fabulous",
         "marker": {
          "color": "#19d3f3",
          "opacity": 0.7,
          "symbol": "circle"
         },
         "mode": "markers",
         "name": "Fucking Fabulous",
         "orientation": "v",
         "showlegend": true,
         "type": "scatter",
         "x": [
          "TOM FORD"
         ],
         "xaxis": "x",
         "y": [
          395
         ],
         "yaxis": "y"
        },
        {
         "hovertemplate": "<b>%{hovertext}</b><br><br>product_name=Oud Wood<br>Brand=%{x}<br>Price (USD)=%{y}<extra></extra>",
         "hovertext": [
          "Oud Wood"
         ],
         "legendgroup": "Oud Wood",
         "marker": {
          "color": "#FF6692",
          "opacity": 0.7,
          "symbol": "circle"
         },
         "mode": "markers",
         "name": "Oud Wood",
         "orientation": "v",
         "showlegend": true,
         "type": "scatter",
         "x": [
          "TOM FORD"
         ],
         "xaxis": "x",
         "y": [
          295
         ],
         "yaxis": "y"
        },
        {
         "hovertemplate": "<b>%{hovertext}</b><br><br>product_name=Soleil Blanc Travel Spray<br>Brand=%{x}<br>Price (USD)=%{y}<extra></extra>",
         "hovertext": [
          "Soleil Blanc Travel Spray"
         ],
         "legendgroup": "Soleil Blanc Travel Spray",
         "marker": {
          "color": "#B6E880",
          "opacity": 0.7,
          "symbol": "circle"
         },
         "mode": "markers",
         "name": "Soleil Blanc Travel Spray",
         "orientation": "v",
         "showlegend": true,
         "type": "scatter",
         "x": [
          "TOM FORD"
         ],
         "xaxis": "x",
         "y": [
          70
         ],
         "yaxis": "y"
        },
        {
         "hovertemplate": "<b>%{hovertext}</b><br><br>product_name=Ombré Leather Eau de Parfum<br>Brand=%{x}<br>Price (USD)=%{y}<extra></extra>",
         "hovertext": [
          "Ombré Leather Eau de Parfum"
         ],
         "legendgroup": "Ombré Leather Eau de Parfum",
         "marker": {
          "color": "#FF97FF",
          "opacity": 0.7,
          "symbol": "circle"
         },
         "mode": "markers",
         "name": "Ombré Leather Eau de Parfum",
         "orientation": "v",
         "showlegend": true,
         "type": "scatter",
         "x": [
          "TOM FORD"
         ],
         "xaxis": "x",
         "y": [
          150
         ],
         "yaxis": "y"
        },
        {
         "hovertemplate": "<b>%{hovertext}</b><br><br>product_name=Fucking Fabulous Travel Spray<br>Brand=%{x}<br>Price (USD)=%{y}<extra></extra>",
         "hovertext": [
          "Fucking Fabulous Travel Spray"
         ],
         "legendgroup": "Fucking Fabulous Travel Spray",
         "marker": {
          "color": "#FECB52",
          "opacity": 0.7,
          "symbol": "circle"
         },
         "mode": "markers",
         "name": "Fucking Fabulous Travel Spray",
         "orientation": "v",
         "showlegend": true,
         "type": "scatter",
         "x": [
          "TOM FORD"
         ],
         "xaxis": "x",
         "y": [
          80
         ],
         "yaxis": "y"
        },
        {
         "hovertemplate": "<b>%{hovertext}</b><br><br>product_name=Eau de Soleil Blanc<br>Brand=%{x}<br>Price (USD)=%{y}<extra></extra>",
         "hovertext": [
          "Eau de Soleil Blanc"
         ],
         "legendgroup": "Eau de Soleil Blanc",
         "marker": {
          "color": "#636efa",
          "opacity": 0.7,
          "symbol": "circle"
         },
         "mode": "markers",
         "name": "Eau de Soleil Blanc",
         "orientation": "v",
         "showlegend": true,
         "type": "scatter",
         "x": [
          "TOM FORD"
         ],
         "xaxis": "x",
         "y": [
          150
         ],
         "yaxis": "y"
        },
        {
         "hovertemplate": "<b>%{hovertext}</b><br><br>product_name=Rose Prick<br>Brand=%{x}<br>Price (USD)=%{y}<extra></extra>",
         "hovertext": [
          "Rose Prick"
         ],
         "legendgroup": "Rose Prick",
         "marker": {
          "color": "#EF553B",
          "opacity": 0.7,
          "symbol": "circle"
         },
         "mode": "markers",
         "name": "Rose Prick",
         "orientation": "v",
         "showlegend": true,
         "type": "scatter",
         "x": [
          "TOM FORD"
         ],
         "xaxis": "x",
         "y": [
          395
         ],
         "yaxis": "y"
        },
        {
         "hovertemplate": "<b>%{hovertext}</b><br><br>product_name=Black Orchid Eau de Parfum Travel Spray<br>Brand=%{x}<br>Price (USD)=%{y}<extra></extra>",
         "hovertext": [
          "Black Orchid Eau de Parfum Travel Spray"
         ],
         "legendgroup": "Black Orchid Eau de Parfum Travel Spray",
         "marker": {
          "color": "#00cc96",
          "opacity": 0.7,
          "symbol": "circle"
         },
         "mode": "markers",
         "name": "Black Orchid Eau de Parfum Travel Spray",
         "orientation": "v",
         "showlegend": true,
         "type": "scatter",
         "x": [
          "TOM FORD"
         ],
         "xaxis": "x",
         "y": [
          50
         ],
         "yaxis": "y"
        },
        {
         "hovertemplate": "<b>%{hovertext}</b><br><br>product_name=Soleil Neige<br>Brand=%{x}<br>Price (USD)=%{y}<extra></extra>",
         "hovertext": [
          "Soleil Neige"
         ],
         "legendgroup": "Soleil Neige",
         "marker": {
          "color": "#ab63fa",
          "opacity": 0.7,
          "symbol": "circle"
         },
         "mode": "markers",
         "name": "Soleil Neige",
         "orientation": "v",
         "showlegend": true,
         "type": "scatter",
         "x": [
          "TOM FORD"
         ],
         "xaxis": "x",
         "y": [
          295
         ],
         "yaxis": "y"
        },
        {
         "hovertemplate": "<b>%{hovertext}</b><br><br>product_name=Oud Wood Travel Spray<br>Brand=%{x}<br>Price (USD)=%{y}<extra></extra>",
         "hovertext": [
          "Oud Wood Travel Spray"
         ],
         "legendgroup": "Oud Wood Travel Spray",
         "marker": {
          "color": "#FFA15A",
          "opacity": 0.7,
          "symbol": "circle"
         },
         "mode": "markers",
         "name": "Oud Wood Travel Spray",
         "orientation": "v",
         "showlegend": true,
         "type": "scatter",
         "x": [
          "TOM FORD"
         ],
         "xaxis": "x",
         "y": [
          70
         ],
         "yaxis": "y"
        },
        {
         "hovertemplate": "<b>%{hovertext}</b><br><br>product_name=Eau de Soleil Blanc Travel Spray<br>Brand=%{x}<br>Price (USD)=%{y}<extra></extra>",
         "hovertext": [
          "Eau de Soleil Blanc Travel Spray"
         ],
         "legendgroup": "Eau de Soleil Blanc Travel Spray",
         "marker": {
          "color": "#19d3f3",
          "opacity": 0.7,
          "symbol": "circle"
         },
         "mode": "markers",
         "name": "Eau de Soleil Blanc Travel Spray",
         "orientation": "v",
         "showlegend": true,
         "type": "scatter",
         "x": [
          "TOM FORD"
         ],
         "xaxis": "x",
         "y": [
          50
         ],
         "yaxis": "y"
        },
        {
         "hovertemplate": "<b>%{hovertext}</b><br><br>product_name=Santal Blush<br>Brand=%{x}<br>Price (USD)=%{y}<extra></extra>",
         "hovertext": [
          "Santal Blush"
         ],
         "legendgroup": "Santal Blush",
         "marker": {
          "color": "#FF6692",
          "opacity": 0.7,
          "symbol": "circle"
         },
         "mode": "markers",
         "name": "Santal Blush",
         "orientation": "v",
         "showlegend": true,
         "type": "scatter",
         "x": [
          "TOM FORD"
         ],
         "xaxis": "x",
         "y": [
          180
         ],
         "yaxis": "y"
        },
        {
         "hovertemplate": "<b>%{hovertext}</b><br><br>product_name=Soleil Neige Eau De Parfum Travel Spray<br>Brand=%{x}<br>Price (USD)=%{y}<extra></extra>",
         "hovertext": [
          "Soleil Neige Eau De Parfum Travel Spray"
         ],
         "legendgroup": "Soleil Neige Eau De Parfum Travel Spray",
         "marker": {
          "color": "#B6E880",
          "opacity": 0.7,
          "symbol": "circle"
         },
         "mode": "markers",
         "name": "Soleil Neige Eau De Parfum Travel Spray",
         "orientation": "v",
         "showlegend": true,
         "type": "scatter",
         "x": [
          "TOM FORD"
         ],
         "xaxis": "x",
         "y": [
          70
         ],
         "yaxis": "y"
        },
        {
         "hovertemplate": "<b>%{hovertext}</b><br><br>product_name=Noir de Noir<br>Brand=%{x}<br>Price (USD)=%{y}<extra></extra>",
         "hovertext": [
          "Noir de Noir"
         ],
         "legendgroup": "Noir de Noir",
         "marker": {
          "color": "#FF97FF",
          "opacity": 0.7,
          "symbol": "circle"
         },
         "mode": "markers",
         "name": "Noir de Noir",
         "orientation": "v",
         "showlegend": true,
         "type": "scatter",
         "x": [
          "TOM FORD"
         ],
         "xaxis": "x",
         "y": [
          295
         ],
         "yaxis": "y"
        },
        {
         "hovertemplate": "<b>%{hovertext}</b><br><br>product_name=Tuscan Leather<br>Brand=%{x}<br>Price (USD)=%{y}<extra></extra>",
         "hovertext": [
          "Tuscan Leather"
         ],
         "legendgroup": "Tuscan Leather",
         "marker": {
          "color": "#FECB52",
          "opacity": 0.7,
          "symbol": "circle"
         },
         "mode": "markers",
         "name": "Tuscan Leather",
         "orientation": "v",
         "showlegend": true,
         "type": "scatter",
         "x": [
          "TOM FORD"
         ],
         "xaxis": "x",
         "y": [
          295
         ],
         "yaxis": "y"
        },
        {
         "hovertemplate": "<b>%{hovertext}</b><br><br>product_name=Ombré Leather Eau de Parfum Travel Spray<br>Brand=%{x}<br>Price (USD)=%{y}<extra></extra>",
         "hovertext": [
          "Ombré Leather Eau de Parfum Travel Spray"
         ],
         "legendgroup": "Ombré Leather Eau de Parfum Travel Spray",
         "marker": {
          "color": "#636efa",
          "opacity": 0.7,
          "symbol": "circle"
         },
         "mode": "markers",
         "name": "Ombré Leather Eau de Parfum Travel Spray",
         "orientation": "v",
         "showlegend": true,
         "type": "scatter",
         "x": [
          "TOM FORD"
         ],
         "xaxis": "x",
         "y": [
          50
         ],
         "yaxis": "y"
        },
        {
         "hovertemplate": "<b>%{hovertext}</b><br><br>product_name=Mandarino Di Amalfi<br>Brand=%{x}<br>Price (USD)=%{y}<extra></extra>",
         "hovertext": [
          "Mandarino Di Amalfi"
         ],
         "legendgroup": "Mandarino Di Amalfi",
         "marker": {
          "color": "#EF553B",
          "opacity": 0.7,
          "symbol": "circle"
         },
         "mode": "markers",
         "name": "Mandarino Di Amalfi",
         "orientation": "v",
         "showlegend": true,
         "type": "scatter",
         "x": [
          "TOM FORD"
         ],
         "xaxis": "x",
         "y": [
          295
         ],
         "yaxis": "y"
        },
        {
         "hovertemplate": "<b>%{hovertext}</b><br><br>product_name=Black Orchid Parfum<br>Brand=%{x}<br>Price (USD)=%{y}<extra></extra>",
         "hovertext": [
          "Black Orchid Parfum"
         ],
         "legendgroup": "Black Orchid Parfum",
         "marker": {
          "color": "#00cc96",
          "opacity": 0.7,
          "symbol": "circle"
         },
         "mode": "markers",
         "name": "Black Orchid Parfum",
         "orientation": "v",
         "showlegend": true,
         "type": "scatter",
         "x": [
          "TOM FORD"
         ],
         "xaxis": "x",
         "y": [
          235
         ],
         "yaxis": "y"
        },
        {
         "hovertemplate": "<b>%{hovertext}</b><br><br>product_name=Ébène Fumé Eau de Parfum<br>Brand=%{x}<br>Price (USD)=%{y}<extra></extra>",
         "hovertext": [
          "Ébène Fumé Eau de Parfum"
         ],
         "legendgroup": "Ébène Fumé Eau de Parfum",
         "marker": {
          "color": "#ab63fa",
          "opacity": 0.7,
          "symbol": "circle"
         },
         "mode": "markers",
         "name": "Ébène Fumé Eau de Parfum",
         "orientation": "v",
         "showlegend": true,
         "type": "scatter",
         "x": [
          "TOM FORD"
         ],
         "xaxis": "x",
         "y": [
          295
         ],
         "yaxis": "y"
        },
        {
         "hovertemplate": "<b>%{hovertext}</b><br><br>product_name=Cherry Smoke<br>Brand=%{x}<br>Price (USD)=%{y}<extra></extra>",
         "hovertext": [
          "Cherry Smoke"
         ],
         "legendgroup": "Cherry Smoke",
         "marker": {
          "color": "#FFA15A",
          "opacity": 0.7,
          "symbol": "circle"
         },
         "mode": "markers",
         "name": "Cherry Smoke",
         "orientation": "v",
         "showlegend": true,
         "type": "scatter",
         "x": [
          "TOM FORD"
         ],
         "xaxis": "x",
         "y": [
          395
         ],
         "yaxis": "y"
        },
        {
         "hovertemplate": "<b>%{hovertext}</b><br><br>product_name=Electric Cherry<br>Brand=%{x}<br>Price (USD)=%{y}<extra></extra>",
         "hovertext": [
          "Electric Cherry"
         ],
         "legendgroup": "Electric Cherry",
         "marker": {
          "color": "#19d3f3",
          "opacity": 0.7,
          "symbol": "circle"
         },
         "mode": "markers",
         "name": "Electric Cherry",
         "orientation": "v",
         "showlegend": true,
         "type": "scatter",
         "x": [
          "TOM FORD"
         ],
         "xaxis": "x",
         "y": [
          395
         ],
         "yaxis": "y"
        },
        {
         "hovertemplate": "<b>%{hovertext}</b><br><br>product_name=Noir de Noir Travel Spray<br>Brand=%{x}<br>Price (USD)=%{y}<extra></extra>",
         "hovertext": [
          "Noir de Noir Travel Spray"
         ],
         "legendgroup": "Noir de Noir Travel Spray",
         "marker": {
          "color": "#FF6692",
          "opacity": 0.7,
          "symbol": "circle"
         },
         "mode": "markers",
         "name": "Noir de Noir Travel Spray",
         "orientation": "v",
         "showlegend": true,
         "type": "scatter",
         "x": [
          "TOM FORD"
         ],
         "xaxis": "x",
         "y": [
          65
         ],
         "yaxis": "y"
        },
        {
         "hovertemplate": "<b>%{hovertext}</b><br><br>product_name=Soleil Brulant<br>Brand=%{x}<br>Price (USD)=%{y}<extra></extra>",
         "hovertext": [
          "Soleil Brulant"
         ],
         "legendgroup": "Soleil Brulant",
         "marker": {
          "color": "#B6E880",
          "opacity": 0.7,
          "symbol": "circle"
         },
         "mode": "markers",
         "name": "Soleil Brulant",
         "orientation": "v",
         "showlegend": true,
         "type": "scatter",
         "x": [
          "TOM FORD"
         ],
         "xaxis": "x",
         "y": [
          395
         ],
         "yaxis": "y"
        },
        {
         "hovertemplate": "<b>%{hovertext}</b><br><br>product_name=Ombré Leather Parfum<br>Brand=%{x}<br>Price (USD)=%{y}<extra></extra>",
         "hovertext": [
          "Ombré Leather Parfum"
         ],
         "legendgroup": "Ombré Leather Parfum",
         "marker": {
          "color": "#FF97FF",
          "opacity": 0.7,
          "symbol": "circle"
         },
         "mode": "markers",
         "name": "Ombré Leather Parfum",
         "orientation": "v",
         "showlegend": true,
         "type": "scatter",
         "x": [
          "TOM FORD"
         ],
         "xaxis": "x",
         "y": [
          235
         ],
         "yaxis": "y"
        },
        {
         "hovertemplate": "<b>%{hovertext}</b><br><br>product_name=Rose D'Amalfi Eau De Parfum<br>Brand=%{x}<br>Price (USD)=%{y}<extra></extra>",
         "hovertext": [
          "Rose D'Amalfi Eau De Parfum"
         ],
         "legendgroup": "Rose D'Amalfi Eau De Parfum",
         "marker": {
          "color": "#FECB52",
          "opacity": 0.7,
          "symbol": "circle"
         },
         "mode": "markers",
         "name": "Rose D'Amalfi Eau De Parfum",
         "orientation": "v",
         "showlegend": true,
         "type": "scatter",
         "x": [
          "TOM FORD"
         ],
         "xaxis": "x",
         "y": [
          295
         ],
         "yaxis": "y"
        },
        {
         "hovertemplate": "<b>%{hovertext}</b><br><br>product_name=Ombré Leather Parfum Travel Spray<br>Brand=%{x}<br>Price (USD)=%{y}<extra></extra>",
         "hovertext": [
          "Ombré Leather Parfum Travel Spray"
         ],
         "legendgroup": "Ombré Leather Parfum Travel Spray",
         "marker": {
          "color": "#636efa",
          "opacity": 0.7,
          "symbol": "circle"
         },
         "mode": "markers",
         "name": "Ombré Leather Parfum Travel Spray",
         "orientation": "v",
         "showlegend": true,
         "type": "scatter",
         "x": [
          "TOM FORD"
         ],
         "xaxis": "x",
         "y": [
          65
         ],
         "yaxis": "y"
        },
        {
         "hovertemplate": "<b>%{hovertext}</b><br><br>product_name=Rose De Chine Eau De Parfum<br>Brand=%{x}<br>Price (USD)=%{y}<extra></extra>",
         "hovertext": [
          "Rose De Chine Eau De Parfum"
         ],
         "legendgroup": "Rose De Chine Eau De Parfum",
         "marker": {
          "color": "#EF553B",
          "opacity": 0.7,
          "symbol": "circle"
         },
         "mode": "markers",
         "name": "Rose De Chine Eau De Parfum",
         "orientation": "v",
         "showlegend": true,
         "type": "scatter",
         "x": [
          "TOM FORD"
         ],
         "xaxis": "x",
         "y": [
          295
         ],
         "yaxis": "y"
        },
        {
         "hovertemplate": "<b>%{hovertext}</b><br><br>product_name=Costa Azzurra Parfum<br>Brand=%{x}<br>Price (USD)=%{y}<extra></extra>",
         "hovertext": [
          "Costa Azzurra Parfum"
         ],
         "legendgroup": "Costa Azzurra Parfum",
         "marker": {
          "color": "#00cc96",
          "opacity": 0.7,
          "symbol": "circle"
         },
         "mode": "markers",
         "name": "Costa Azzurra Parfum",
         "orientation": "v",
         "showlegend": true,
         "type": "scatter",
         "x": [
          "TOM FORD"
         ],
         "xaxis": "x",
         "y": [
          235
         ],
         "yaxis": "y"
        },
        {
         "hovertemplate": "<b>%{hovertext}</b><br><br>product_name=Tuscan Leather Travel Spray<br>Brand=%{x}<br>Price (USD)=%{y}<extra></extra>",
         "hovertext": [
          "Tuscan Leather Travel Spray"
         ],
         "legendgroup": "Tuscan Leather Travel Spray",
         "marker": {
          "color": "#ab63fa",
          "opacity": 0.7,
          "symbol": "circle"
         },
         "mode": "markers",
         "name": "Tuscan Leather Travel Spray",
         "orientation": "v",
         "showlegend": true,
         "type": "scatter",
         "x": [
          "TOM FORD"
         ],
         "xaxis": "x",
         "y": [
          70
         ],
         "yaxis": "y"
        },
        {
         "hovertemplate": "<b>%{hovertext}</b><br><br>product_name=Bois Marocain Eau de Parfum<br>Brand=%{x}<br>Price (USD)=%{y}<extra></extra>",
         "hovertext": [
          "Bois Marocain Eau de Parfum"
         ],
         "legendgroup": "Bois Marocain Eau de Parfum",
         "marker": {
          "color": "#FFA15A",
          "opacity": 0.7,
          "symbol": "circle"
         },
         "mode": "markers",
         "name": "Bois Marocain Eau de Parfum",
         "orientation": "v",
         "showlegend": true,
         "type": "scatter",
         "x": [
          "TOM FORD"
         ],
         "xaxis": "x",
         "y": [
          295
         ],
         "yaxis": "y"
        },
        {
         "hovertemplate": "<b>%{hovertext}</b><br><br>product_name=Ebene Fume Eau de Parfum Travel Spray<br>Brand=%{x}<br>Price (USD)=%{y}<extra></extra>",
         "hovertext": [
          "Ebene Fume Eau de Parfum Travel Spray"
         ],
         "legendgroup": "Ebene Fume Eau de Parfum Travel Spray",
         "marker": {
          "color": "#19d3f3",
          "opacity": 0.7,
          "symbol": "circle"
         },
         "mode": "markers",
         "name": "Ebene Fume Eau de Parfum Travel Spray",
         "orientation": "v",
         "showlegend": true,
         "type": "scatter",
         "x": [
          "TOM FORD"
         ],
         "xaxis": "x",
         "y": [
          75
         ],
         "yaxis": "y"
        },
        {
         "hovertemplate": "<b>%{hovertext}</b><br><br>product_name=Noir Extreme Parfum<br>Brand=%{x}<br>Price (USD)=%{y}<extra></extra>",
         "hovertext": [
          "Noir Extreme Parfum"
         ],
         "legendgroup": "Noir Extreme Parfum",
         "marker": {
          "color": "#FF6692",
          "opacity": 0.7,
          "symbol": "circle"
         },
         "mode": "markers",
         "name": "Noir Extreme Parfum",
         "orientation": "v",
         "showlegend": true,
         "type": "scatter",
         "x": [
          "TOM FORD"
         ],
         "xaxis": "x",
         "y": [
          235
         ],
         "yaxis": "y"
        },
        {
         "hovertemplate": "<b>%{hovertext}</b><br><br>product_name=Beau de Jour<br>Brand=%{x}<br>Price (USD)=%{y}<extra></extra>",
         "hovertext": [
          "Beau de Jour"
         ],
         "legendgroup": "Beau de Jour",
         "marker": {
          "color": "#B6E880",
          "opacity": 0.7,
          "symbol": "circle"
         },
         "mode": "markers",
         "name": "Beau de Jour",
         "orientation": "v",
         "showlegend": true,
         "type": "scatter",
         "x": [
          "TOM FORD"
         ],
         "xaxis": "x",
         "y": [
          150
         ],
         "yaxis": "y"
        },
        {
         "hovertemplate": "<b>%{hovertext}</b><br><br>product_name=Donna Born In Roma Intense Eau de Parfum<br>Brand=%{x}<br>Price (USD)=%{y}<extra></extra>",
         "hovertext": [
          "Donna Born In Roma Intense Eau de Parfum"
         ],
         "legendgroup": "Donna Born In Roma Intense Eau de Parfum",
         "marker": {
          "color": "#FF97FF",
          "opacity": 0.7,
          "symbol": "circle"
         },
         "mode": "markers",
         "name": "Donna Born In Roma Intense Eau de Parfum",
         "orientation": "v",
         "showlegend": true,
         "type": "scatter",
         "x": [
          "Valentino"
         ],
         "xaxis": "x",
         "y": [
          35
         ],
         "yaxis": "y"
        },
        {
         "hovertemplate": "<b>%{hovertext}</b><br><br>product_name=Uomo Born In Roma Intense Eau de Parfum<br>Brand=%{x}<br>Price (USD)=%{y}<extra></extra>",
         "hovertext": [
          "Uomo Born In Roma Intense Eau de Parfum"
         ],
         "legendgroup": "Uomo Born In Roma Intense Eau de Parfum",
         "marker": {
          "color": "#FECB52",
          "opacity": 0.7,
          "symbol": "circle"
         },
         "mode": "markers",
         "name": "Uomo Born In Roma Intense Eau de Parfum",
         "orientation": "v",
         "showlegend": true,
         "type": "scatter",
         "x": [
          "Valentino"
         ],
         "xaxis": "x",
         "y": [
          110
         ],
         "yaxis": "y"
        },
        {
         "hovertemplate": "<b>%{hovertext}</b><br><br>product_name=Eros<br>Brand=%{x}<br>Price (USD)=%{y}<extra></extra>",
         "hovertext": [
          "Eros"
         ],
         "legendgroup": "Eros",
         "marker": {
          "color": "#636efa",
          "opacity": 0.7,
          "symbol": "circle"
         },
         "mode": "markers",
         "name": "Eros",
         "orientation": "v",
         "showlegend": true,
         "type": "scatter",
         "x": [
          "Versace"
         ],
         "xaxis": "x",
         "y": [
          96
         ],
         "yaxis": "y"
        },
        {
         "hovertemplate": "<b>%{hovertext}</b><br><br>product_name=Crystal Noir<br>Brand=%{x}<br>Price (USD)=%{y}<extra></extra>",
         "hovertext": [
          "Crystal Noir"
         ],
         "legendgroup": "Crystal Noir",
         "marker": {
          "color": "#EF553B",
          "opacity": 0.7,
          "symbol": "circle"
         },
         "mode": "markers",
         "name": "Crystal Noir",
         "orientation": "v",
         "showlegend": true,
         "type": "scatter",
         "x": [
          "Versace"
         ],
         "xaxis": "x",
         "y": [
          105
         ],
         "yaxis": "y"
        },
        {
         "hovertemplate": "<b>%{hovertext}</b><br><br>product_name=Dylan Blue Pour Femme<br>Brand=%{x}<br>Price (USD)=%{y}<extra></extra>",
         "hovertext": [
          "Dylan Blue Pour Femme"
         ],
         "legendgroup": "Dylan Blue Pour Femme",
         "marker": {
          "color": "#00cc96",
          "opacity": 0.7,
          "symbol": "circle"
         },
         "mode": "markers",
         "name": "Dylan Blue Pour Femme",
         "orientation": "v",
         "showlegend": true,
         "type": "scatter",
         "x": [
          "Versace"
         ],
         "xaxis": "x",
         "y": [
          98
         ],
         "yaxis": "y"
        },
        {
         "hovertemplate": "<b>%{hovertext}</b><br><br>product_name=Eros Pour Femme Eau de Parfum<br>Brand=%{x}<br>Price (USD)=%{y}<extra></extra>",
         "hovertext": [
          "Eros Pour Femme Eau de Parfum"
         ],
         "legendgroup": "Eros Pour Femme Eau de Parfum",
         "marker": {
          "color": "#ab63fa",
          "opacity": 0.7,
          "symbol": "circle"
         },
         "mode": "markers",
         "name": "Eros Pour Femme Eau de Parfum",
         "orientation": "v",
         "showlegend": true,
         "type": "scatter",
         "x": [
          "Versace"
         ],
         "xaxis": "x",
         "y": [
          130
         ],
         "yaxis": "y"
        },
        {
         "hovertemplate": "<b>%{hovertext}</b><br><br>product_name=Yellow Diamond<br>Brand=%{x}<br>Price (USD)=%{y}<extra></extra>",
         "hovertext": [
          "Yellow Diamond"
         ],
         "legendgroup": "Yellow Diamond",
         "marker": {
          "color": "#FFA15A",
          "opacity": 0.7,
          "symbol": "circle"
         },
         "mode": "markers",
         "name": "Yellow Diamond",
         "orientation": "v",
         "showlegend": true,
         "type": "scatter",
         "x": [
          "Versace"
         ],
         "xaxis": "x",
         "y": [
          65
         ],
         "yaxis": "y"
        },
        {
         "hovertemplate": "<b>%{hovertext}</b><br><br>product_name=Bright Crystal Absolu<br>Brand=%{x}<br>Price (USD)=%{y}<extra></extra>",
         "hovertext": [
          "Bright Crystal Absolu"
         ],
         "legendgroup": "Bright Crystal Absolu",
         "marker": {
          "color": "#19d3f3",
          "opacity": 0.7,
          "symbol": "circle"
         },
         "mode": "markers",
         "name": "Bright Crystal Absolu",
         "orientation": "v",
         "showlegend": true,
         "type": "scatter",
         "x": [
          "Versace"
         ],
         "xaxis": "x",
         "y": [
          120
         ],
         "yaxis": "y"
        },
        {
         "hovertemplate": "<b>%{hovertext}</b><br><br>product_name=Dylan Blue<br>Brand=%{x}<br>Price (USD)=%{y}<extra></extra>",
         "hovertext": [
          "Dylan Blue"
         ],
         "legendgroup": "Dylan Blue",
         "marker": {
          "color": "#FF6692",
          "opacity": 0.7,
          "symbol": "circle"
         },
         "mode": "markers",
         "name": "Dylan Blue",
         "orientation": "v",
         "showlegend": true,
         "type": "scatter",
         "x": [
          "Versace"
         ],
         "xaxis": "x",
         "y": [
          96
         ],
         "yaxis": "y"
        },
        {
         "hovertemplate": "<b>%{hovertext}</b><br><br>product_name=Dylan Blue Pour Femme Ovetto Spray<br>Brand=%{x}<br>Price (USD)=%{y}<extra></extra>",
         "hovertext": [
          "Dylan Blue Pour Femme Ovetto Spray"
         ],
         "legendgroup": "Dylan Blue Pour Femme Ovetto Spray",
         "marker": {
          "color": "#B6E880",
          "opacity": 0.7,
          "symbol": "circle"
         },
         "mode": "markers",
         "name": "Dylan Blue Pour Femme Ovetto Spray",
         "orientation": "v",
         "showlegend": true,
         "type": "scatter",
         "x": [
          "Versace"
         ],
         "xaxis": "x",
         "y": [
          33
         ],
         "yaxis": "y"
        },
        {
         "hovertemplate": "<b>%{hovertext}</b><br><br>product_name=Pour Homme<br>Brand=%{x}<br>Price (USD)=%{y}<extra></extra>",
         "hovertext": [
          "Pour Homme"
         ],
         "legendgroup": "Pour Homme",
         "marker": {
          "color": "#FF97FF",
          "opacity": 0.7,
          "symbol": "circle"
         },
         "mode": "markers",
         "name": "Pour Homme",
         "orientation": "v",
         "showlegend": true,
         "type": "scatter",
         "x": [
          "Versace"
         ],
         "xaxis": "x",
         "y": [
          92
         ],
         "yaxis": "y"
        },
        {
         "hovertemplate": "<b>%{hovertext}</b><br><br>product_name=Versace Man Eau Fraiche<br>Brand=%{x}<br>Price (USD)=%{y}<extra></extra>",
         "hovertext": [
          "Versace Man Eau Fraiche"
         ],
         "legendgroup": "Versace Man Eau Fraiche",
         "marker": {
          "color": "#FECB52",
          "opacity": 0.7,
          "symbol": "circle"
         },
         "mode": "markers",
         "name": "Versace Man Eau Fraiche",
         "orientation": "v",
         "showlegend": true,
         "type": "scatter",
         "x": [
          "Versace"
         ],
         "xaxis": "x",
         "y": [
          130
         ],
         "yaxis": "y"
        },
        {
         "hovertemplate": "<b>%{hovertext}</b><br><br>product_name=Bright Crystal Absolu Ovetto Spray<br>Brand=%{x}<br>Price (USD)=%{y}<extra></extra>",
         "hovertext": [
          "Bright Crystal Absolu Ovetto Spray"
         ],
         "legendgroup": "Bright Crystal Absolu Ovetto Spray",
         "marker": {
          "color": "#636efa",
          "opacity": 0.7,
          "symbol": "circle"
         },
         "mode": "markers",
         "name": "Bright Crystal Absolu Ovetto Spray",
         "orientation": "v",
         "showlegend": true,
         "type": "scatter",
         "x": [
          "Versace"
         ],
         "xaxis": "x",
         "y": [
          33
         ],
         "yaxis": "y"
        },
        {
         "hovertemplate": "<b>%{hovertext}</b><br><br>product_name=Eros Pour Femme Eau de Toilette<br>Brand=%{x}<br>Price (USD)=%{y}<extra></extra>",
         "hovertext": [
          "Eros Pour Femme Eau de Toilette"
         ],
         "legendgroup": "Eros Pour Femme Eau de Toilette",
         "marker": {
          "color": "#EF553B",
          "opacity": 0.7,
          "symbol": "circle"
         },
         "mode": "markers",
         "name": "Eros Pour Femme Eau de Toilette",
         "orientation": "v",
         "showlegend": true,
         "type": "scatter",
         "x": [
          "Versace"
         ],
         "xaxis": "x",
         "y": [
          110
         ],
         "yaxis": "y"
        },
        {
         "hovertemplate": "<b>%{hovertext}</b><br><br>product_name=Eros Flame<br>Brand=%{x}<br>Price (USD)=%{y}<extra></extra>",
         "hovertext": [
          "Eros Flame"
         ],
         "legendgroup": "Eros Flame",
         "marker": {
          "color": "#00cc96",
          "opacity": 0.7,
          "symbol": "circle"
         },
         "mode": "markers",
         "name": "Eros Flame",
         "orientation": "v",
         "showlegend": true,
         "type": "scatter",
         "x": [
          "Versace"
         ],
         "xaxis": "x",
         "y": [
          107
         ],
         "yaxis": "y"
        },
        {
         "hovertemplate": "<b>%{hovertext}</b><br><br>product_name=Dylan Blue Pour Homme Travel Spray<br>Brand=%{x}<br>Price (USD)=%{y}<extra></extra>",
         "hovertext": [
          "Dylan Blue Pour Homme Travel Spray"
         ],
         "legendgroup": "Dylan Blue Pour Homme Travel Spray",
         "marker": {
          "color": "#ab63fa",
          "opacity": 0.7,
          "symbol": "circle"
         },
         "mode": "markers",
         "name": "Dylan Blue Pour Homme Travel Spray",
         "orientation": "v",
         "showlegend": true,
         "type": "scatter",
         "x": [
          "Versace"
         ],
         "xaxis": "x",
         "y": [
          32
         ],
         "yaxis": "y"
        },
        {
         "hovertemplate": "<b>%{hovertext}</b><br><br>product_name=Eros Pour Homme Travel Spray<br>Brand=%{x}<br>Price (USD)=%{y}<extra></extra>",
         "hovertext": [
          "Eros Pour Homme Travel Spray"
         ],
         "legendgroup": "Eros Pour Homme Travel Spray",
         "marker": {
          "color": "#FFA15A",
          "opacity": 0.7,
          "symbol": "circle"
         },
         "mode": "markers",
         "name": "Eros Pour Homme Travel Spray",
         "orientation": "v",
         "showlegend": true,
         "type": "scatter",
         "x": [
          "Versace"
         ],
         "xaxis": "x",
         "y": [
          32
         ],
         "yaxis": "y"
        },
        {
         "hovertemplate": "<b>%{hovertext}</b><br><br>product_name=Yellow Diamond Travel Spray<br>Brand=%{x}<br>Price (USD)=%{y}<extra></extra>",
         "hovertext": [
          "Yellow Diamond Travel Spray"
         ],
         "legendgroup": "Yellow Diamond Travel Spray",
         "marker": {
          "color": "#19d3f3",
          "opacity": 0.7,
          "symbol": "circle"
         },
         "mode": "markers",
         "name": "Yellow Diamond Travel Spray",
         "orientation": "v",
         "showlegend": true,
         "type": "scatter",
         "x": [
          "Versace"
         ],
         "xaxis": "x",
         "y": [
          32
         ],
         "yaxis": "y"
        },
        {
         "hovertemplate": "<b>%{hovertext}</b><br><br>product_name=Eros Pour Femme Eau de Toilette Rollerball<br>Brand=%{x}<br>Price (USD)=%{y}<extra></extra>",
         "hovertext": [
          "Eros Pour Femme Eau de Toilette Rollerball"
         ],
         "legendgroup": "Eros Pour Femme Eau de Toilette Rollerball",
         "marker": {
          "color": "#FF6692",
          "opacity": 0.7,
          "symbol": "circle"
         },
         "mode": "markers",
         "name": "Eros Pour Femme Eau de Toilette Rollerball",
         "orientation": "v",
         "showlegend": true,
         "type": "scatter",
         "x": [
          "Versace"
         ],
         "xaxis": "x",
         "y": [
          26
         ],
         "yaxis": "y"
        },
        {
         "hovertemplate": "<b>%{hovertext}</b><br><br>product_name=Dylan Purple Eau de Parfum<br>Brand=%{x}<br>Price (USD)=%{y}<extra></extra>",
         "hovertext": [
          "Dylan Purple Eau de Parfum"
         ],
         "legendgroup": "Dylan Purple Eau de Parfum",
         "marker": {
          "color": "#B6E880",
          "opacity": 0.7,
          "symbol": "circle"
         },
         "mode": "markers",
         "name": "Dylan Purple Eau de Parfum",
         "orientation": "v",
         "showlegend": true,
         "type": "scatter",
         "x": [
          "Versace"
         ],
         "xaxis": "x",
         "y": [
          120
         ],
         "yaxis": "y"
        },
        {
         "hovertemplate": "<b>%{hovertext}</b><br><br>product_name=Eros Flame Travel Spray<br>Brand=%{x}<br>Price (USD)=%{y}<extra></extra>",
         "hovertext": [
          "Eros Flame Travel Spray"
         ],
         "legendgroup": "Eros Flame Travel Spray",
         "marker": {
          "color": "#FF97FF",
          "opacity": 0.7,
          "symbol": "circle"
         },
         "mode": "markers",
         "name": "Eros Flame Travel Spray",
         "orientation": "v",
         "showlegend": true,
         "type": "scatter",
         "x": [
          "Versace"
         ],
         "xaxis": "x",
         "y": [
          32
         ],
         "yaxis": "y"
        },
        {
         "hovertemplate": "<b>%{hovertext}</b><br><br>product_name=Pour Homme Travel Spray<br>Brand=%{x}<br>Price (USD)=%{y}<extra></extra>",
         "hovertext": [
          "Pour Homme Travel Spray"
         ],
         "legendgroup": "Pour Homme Travel Spray",
         "marker": {
          "color": "#FECB52",
          "opacity": 0.7,
          "symbol": "circle"
         },
         "mode": "markers",
         "name": "Pour Homme Travel Spray",
         "orientation": "v",
         "showlegend": true,
         "type": "scatter",
         "x": [
          "Versace"
         ],
         "xaxis": "x",
         "y": [
          32
         ],
         "yaxis": "y"
        },
        {
         "hovertemplate": "<b>%{hovertext}</b><br><br>product_name=Dylan Blue Pour Femme Travel Spray<br>Brand=%{x}<br>Price (USD)=%{y}<extra></extra>",
         "hovertext": [
          "Dylan Blue Pour Femme Travel Spray"
         ],
         "legendgroup": "Dylan Blue Pour Femme Travel Spray",
         "marker": {
          "color": "#636efa",
          "opacity": 0.7,
          "symbol": "circle"
         },
         "mode": "markers",
         "name": "Dylan Blue Pour Femme Travel Spray",
         "orientation": "v",
         "showlegend": true,
         "type": "scatter",
         "x": [
          "Versace"
         ],
         "xaxis": "x",
         "y": [
          32
         ],
         "yaxis": "y"
        },
        {
         "hovertemplate": "<b>%{hovertext}</b><br><br>product_name=Versace Man Eau Fraîche Travel Spray<br>Brand=%{x}<br>Price (USD)=%{y}<extra></extra>",
         "hovertext": [
          "Versace Man Eau Fraîche Travel Spray"
         ],
         "legendgroup": "Versace Man Eau Fraîche Travel Spray",
         "marker": {
          "color": "#EF553B",
          "opacity": 0.7,
          "symbol": "circle"
         },
         "mode": "markers",
         "name": "Versace Man Eau Fraîche Travel Spray",
         "orientation": "v",
         "showlegend": true,
         "type": "scatter",
         "x": [
          "Versace"
         ],
         "xaxis": "x",
         "y": [
          32
         ],
         "yaxis": "y"
        },
        {
         "hovertemplate": "<b>%{hovertext}</b><br><br>product_name=Flowerbomb<br>Brand=%{x}<br>Price (USD)=%{y}<extra></extra>",
         "hovertext": [
          "Flowerbomb"
         ],
         "legendgroup": "Flowerbomb",
         "marker": {
          "color": "#00cc96",
          "opacity": 0.7,
          "symbol": "circle"
         },
         "mode": "markers",
         "name": "Flowerbomb",
         "orientation": "v",
         "showlegend": true,
         "type": "scatter",
         "x": [
          "Viktor&Rolf"
         ],
         "xaxis": "x",
         "y": [
          180
         ],
         "yaxis": "y"
        },
        {
         "hovertemplate": "<b>%{hovertext}</b><br><br>product_name=Flowerbomb Travel Spray<br>Brand=%{x}<br>Price (USD)=%{y}<extra></extra>",
         "hovertext": [
          "Flowerbomb Travel Spray"
         ],
         "legendgroup": "Flowerbomb Travel Spray",
         "marker": {
          "color": "#ab63fa",
          "opacity": 0.7,
          "symbol": "circle"
         },
         "mode": "markers",
         "name": "Flowerbomb Travel Spray",
         "orientation": "v",
         "showlegend": true,
         "type": "scatter",
         "x": [
          "Viktor&Rolf"
         ],
         "xaxis": "x",
         "y": [
          35
         ],
         "yaxis": "y"
        },
        {
         "hovertemplate": "<b>%{hovertext}</b><br><br>product_name=Flowerbomb Mini<br>Brand=%{x}<br>Price (USD)=%{y}<extra></extra>",
         "hovertext": [
          "Flowerbomb Mini"
         ],
         "legendgroup": "Flowerbomb Mini",
         "marker": {
          "color": "#FFA15A",
          "opacity": 0.7,
          "symbol": "circle"
         },
         "mode": "markers",
         "name": "Flowerbomb Mini",
         "orientation": "v",
         "showlegend": true,
         "type": "scatter",
         "x": [
          "Viktor&Rolf"
         ],
         "xaxis": "x",
         "y": [
          58
         ],
         "yaxis": "y"
        },
        {
         "hovertemplate": "<b>%{hovertext}</b><br><br>product_name=Good Fortune Eau de Parfum<br>Brand=%{x}<br>Price (USD)=%{y}<extra></extra>",
         "hovertext": [
          "Good Fortune Eau de Parfum"
         ],
         "legendgroup": "Good Fortune Eau de Parfum",
         "marker": {
          "color": "#19d3f3",
          "opacity": 0.7,
          "symbol": "circle"
         },
         "mode": "markers",
         "name": "Good Fortune Eau de Parfum",
         "orientation": "v",
         "showlegend": true,
         "type": "scatter",
         "x": [
          "Viktor&Rolf"
         ],
         "xaxis": "x",
         "y": [
          180
         ],
         "yaxis": "y"
        },
        {
         "hovertemplate": "<b>%{hovertext}</b><br><br>product_name=Good Fortune Eau de Parfum Travel Spray<br>Brand=%{x}<br>Price (USD)=%{y}<extra></extra>",
         "hovertext": [
          "Good Fortune Eau de Parfum Travel Spray"
         ],
         "legendgroup": "Good Fortune Eau de Parfum Travel Spray",
         "marker": {
          "color": "#FF6692",
          "opacity": 0.7,
          "symbol": "circle"
         },
         "mode": "markers",
         "name": "Good Fortune Eau de Parfum Travel Spray",
         "orientation": "v",
         "showlegend": true,
         "type": "scatter",
         "x": [
          "Viktor&Rolf"
         ],
         "xaxis": "x",
         "y": [
          35
         ],
         "yaxis": "y"
        },
        {
         "hovertemplate": "<b>%{hovertext}</b><br><br>product_name=Mini French Cade & Lavender Decorative Tin Candle<br>Brand=%{x}<br>Price (USD)=%{y}<extra></extra>",
         "hovertext": [
          "Mini French Cade & Lavender Decorative Tin Candle"
         ],
         "legendgroup": "Mini French Cade & Lavender Decorative Tin Candle",
         "marker": {
          "color": "#B6E880",
          "opacity": 0.7,
          "symbol": "circle"
         },
         "mode": "markers",
         "name": "Mini French Cade & Lavender Decorative Tin Candle",
         "orientation": "v",
         "showlegend": true,
         "type": "scatter",
         "x": [
          "VOLUSPA"
         ],
         "xaxis": "x",
         "y": [
          12
         ],
         "yaxis": "y"
        },
        {
         "hovertemplate": "<b>%{hovertext}</b><br><br>product_name=Lost in Paradise Eau de Parfum Travel Spray<br>Brand=%{x}<br>Price (USD)=%{y}<extra></extra>",
         "hovertext": [
          "Lost in Paradise Eau de Parfum Travel Spray"
         ],
         "legendgroup": "Lost in Paradise Eau de Parfum Travel Spray",
         "marker": {
          "color": "#FF97FF",
          "opacity": 0.7,
          "symbol": "circle"
         },
         "mode": "markers",
         "name": "Lost in Paradise Eau de Parfum Travel Spray",
         "orientation": "v",
         "showlegend": true,
         "type": "scatter",
         "x": [
          "World of Chris Collins"
         ],
         "xaxis": "x",
         "y": [
          50
         ],
         "yaxis": "y"
        },
        {
         "hovertemplate": "<b>%{hovertext}</b><br><br>product_name=Lost in Paradise Eau de Parfum<br>Brand=%{x}<br>Price (USD)=%{y}<extra></extra>",
         "hovertext": [
          "Lost in Paradise Eau de Parfum"
         ],
         "legendgroup": "Lost in Paradise Eau de Parfum",
         "marker": {
          "color": "#FECB52",
          "opacity": 0.7,
          "symbol": "circle"
         },
         "mode": "markers",
         "name": "Lost in Paradise Eau de Parfum",
         "orientation": "v",
         "showlegend": true,
         "type": "scatter",
         "x": [
          "World of Chris Collins"
         ],
         "xaxis": "x",
         "y": [
          175
         ],
         "yaxis": "y"
        },
        {
         "hovertemplate": "<b>%{hovertext}</b><br><br>product_name=Harlem Nights Eau de Parfum<br>Brand=%{x}<br>Price (USD)=%{y}<extra></extra>",
         "hovertext": [
          "Harlem Nights Eau de Parfum"
         ],
         "legendgroup": "Harlem Nights Eau de Parfum",
         "marker": {
          "color": "#636efa",
          "opacity": 0.7,
          "symbol": "circle"
         },
         "mode": "markers",
         "name": "Harlem Nights Eau de Parfum",
         "orientation": "v",
         "showlegend": true,
         "type": "scatter",
         "x": [
          "World of Chris Collins"
         ],
         "xaxis": "x",
         "y": [
          175
         ],
         "yaxis": "y"
        },
        {
         "hovertemplate": "<b>%{hovertext}</b><br><br>product_name=Long Kiss Goodnight Eau de Parfum<br>Brand=%{x}<br>Price (USD)=%{y}<extra></extra>",
         "hovertext": [
          "Long Kiss Goodnight Eau de Parfum"
         ],
         "legendgroup": "Long Kiss Goodnight Eau de Parfum",
         "marker": {
          "color": "#EF553B",
          "opacity": 0.7,
          "symbol": "circle"
         },
         "mode": "markers",
         "name": "Long Kiss Goodnight Eau de Parfum",
         "orientation": "v",
         "showlegend": true,
         "type": "scatter",
         "x": [
          "World of Chris Collins"
         ],
         "xaxis": "x",
         "y": [
          175
         ],
         "yaxis": "y"
        },
        {
         "hovertemplate": "<b>%{hovertext}</b><br><br>product_name=Harlem Nights Eau de Parfum Travel Spray<br>Brand=%{x}<br>Price (USD)=%{y}<extra></extra>",
         "hovertext": [
          "Harlem Nights Eau de Parfum Travel Spray"
         ],
         "legendgroup": "Harlem Nights Eau de Parfum Travel Spray",
         "marker": {
          "color": "#00cc96",
          "opacity": 0.7,
          "symbol": "circle"
         },
         "mode": "markers",
         "name": "Harlem Nights Eau de Parfum Travel Spray",
         "orientation": "v",
         "showlegend": true,
         "type": "scatter",
         "x": [
          "World of Chris Collins"
         ],
         "xaxis": "x",
         "y": [
          50
         ],
         "yaxis": "y"
        },
        {
         "hovertemplate": "<b>%{hovertext}</b><br><br>product_name=Danse Sauvage Eau de Parfum<br>Brand=%{x}<br>Price (USD)=%{y}<extra></extra>",
         "hovertext": [
          "Danse Sauvage Eau de Parfum"
         ],
         "legendgroup": "Danse Sauvage Eau de Parfum",
         "marker": {
          "color": "#ab63fa",
          "opacity": 0.7,
          "symbol": "circle"
         },
         "mode": "markers",
         "name": "Danse Sauvage Eau de Parfum",
         "orientation": "v",
         "showlegend": true,
         "type": "scatter",
         "x": [
          "World of Chris Collins"
         ],
         "xaxis": "x",
         "y": [
          175
         ],
         "yaxis": "y"
        },
        {
         "hovertemplate": "<b>%{hovertext}</b><br><br>product_name=Citrus Grandis Eau de Parfum<br>Brand=%{x}<br>Price (USD)=%{y}<extra></extra>",
         "hovertext": [
          "Citrus Grandis Eau de Parfum"
         ],
         "legendgroup": "Citrus Grandis Eau de Parfum",
         "marker": {
          "color": "#FFA15A",
          "opacity": 0.7,
          "symbol": "circle"
         },
         "mode": "markers",
         "name": "Citrus Grandis Eau de Parfum",
         "orientation": "v",
         "showlegend": true,
         "type": "scatter",
         "x": [
          "World of Chris Collins"
         ],
         "xaxis": "x",
         "y": [
          175
         ],
         "yaxis": "y"
        },
        {
         "hovertemplate": "<b>%{hovertext}</b><br><br>product_name=Danse Sauvage Eau de Parfum Travel Spray<br>Brand=%{x}<br>Price (USD)=%{y}<extra></extra>",
         "hovertext": [
          "Danse Sauvage Eau de Parfum Travel Spray"
         ],
         "legendgroup": "Danse Sauvage Eau de Parfum Travel Spray",
         "marker": {
          "color": "#19d3f3",
          "opacity": 0.7,
          "symbol": "circle"
         },
         "mode": "markers",
         "name": "Danse Sauvage Eau de Parfum Travel Spray",
         "orientation": "v",
         "showlegend": true,
         "type": "scatter",
         "x": [
          "World of Chris Collins"
         ],
         "xaxis": "x",
         "y": [
          50
         ],
         "yaxis": "y"
        },
        {
         "hovertemplate": "<b>%{hovertext}</b><br><br>product_name=Citrus Grandis Eau de Parfum Travel Spray<br>Brand=%{x}<br>Price (USD)=%{y}<extra></extra>",
         "hovertext": [
          "Citrus Grandis Eau de Parfum Travel Spray"
         ],
         "legendgroup": "Citrus Grandis Eau de Parfum Travel Spray",
         "marker": {
          "color": "#FF6692",
          "opacity": 0.7,
          "symbol": "circle"
         },
         "mode": "markers",
         "name": "Citrus Grandis Eau de Parfum Travel Spray",
         "orientation": "v",
         "showlegend": true,
         "type": "scatter",
         "x": [
          "World of Chris Collins"
         ],
         "xaxis": "x",
         "y": [
          50
         ],
         "yaxis": "y"
        },
        {
         "hovertemplate": "<b>%{hovertext}</b><br><br>product_name=Mon Paris Eau de Parfum<br>Brand=%{x}<br>Price (USD)=%{y}<extra></extra>",
         "hovertext": [
          "Mon Paris Eau de Parfum"
         ],
         "legendgroup": "Mon Paris Eau de Parfum",
         "marker": {
          "color": "#B6E880",
          "opacity": 0.7,
          "symbol": "circle"
         },
         "mode": "markers",
         "name": "Mon Paris Eau de Parfum",
         "orientation": "v",
         "showlegend": true,
         "type": "scatter",
         "x": [
          "Yves Saint Laurent"
         ],
         "xaxis": "x",
         "y": [
          117
         ],
         "yaxis": "y"
        },
        {
         "hovertemplate": "<b>%{hovertext}</b><br><br>product_name=Libre Eau De Parfum Travel Spray<br>Brand=%{x}<br>Price (USD)=%{y}<extra></extra>",
         "hovertext": [
          "Libre Eau De Parfum Travel Spray"
         ],
         "legendgroup": "Libre Eau De Parfum Travel Spray",
         "marker": {
          "color": "#FF97FF",
          "opacity": 0.7,
          "symbol": "circle"
         },
         "mode": "markers",
         "name": "Libre Eau De Parfum Travel Spray",
         "orientation": "v",
         "showlegend": true,
         "type": "scatter",
         "x": [
          "Yves Saint Laurent"
         ],
         "xaxis": "x",
         "y": [
          34
         ],
         "yaxis": "y"
        },
        {
         "hovertemplate": "<b>%{hovertext}</b><br><br>product_name=LIBRE Eau de Parfum Intense<br>Brand=%{x}<br>Price (USD)=%{y}<extra></extra>",
         "hovertext": [
          "LIBRE Eau de Parfum Intense"
         ],
         "legendgroup": "LIBRE Eau de Parfum Intense",
         "marker": {
          "color": "#FECB52",
          "opacity": 0.7,
          "symbol": "circle"
         },
         "mode": "markers",
         "name": "LIBRE Eau de Parfum Intense",
         "orientation": "v",
         "showlegend": true,
         "type": "scatter",
         "x": [
          "Yves Saint Laurent"
         ],
         "xaxis": "x",
         "y": [
          95
         ],
         "yaxis": "y"
        },
        {
         "hovertemplate": "<b>%{hovertext}</b><br><br>product_name=Y Eau de Parfum<br>Brand=%{x}<br>Price (USD)=%{y}<extra></extra>",
         "hovertext": [
          "Y Eau de Parfum"
         ],
         "legendgroup": "Y Eau de Parfum",
         "marker": {
          "color": "#636efa",
          "opacity": 0.7,
          "symbol": "circle"
         },
         "mode": "markers",
         "name": "Y Eau de Parfum",
         "orientation": "v",
         "showlegend": true,
         "type": "scatter",
         "x": [
          "Yves Saint Laurent"
         ],
         "xaxis": "x",
         "y": [
          148
         ],
         "yaxis": "y"
        },
        {
         "hovertemplate": "<b>%{hovertext}</b><br><br>product_name=L'Homme<br>Brand=%{x}<br>Price (USD)=%{y}<extra></extra>",
         "hovertext": [
          "L'Homme"
         ],
         "legendgroup": "L'Homme",
         "marker": {
          "color": "#EF553B",
          "opacity": 0.7,
          "symbol": "circle"
         },
         "mode": "markers",
         "name": "L'Homme",
         "orientation": "v",
         "showlegend": true,
         "type": "scatter",
         "x": [
          "Yves Saint Laurent"
         ],
         "xaxis": "x",
         "y": [
          89
         ],
         "yaxis": "y"
        },
        {
         "hovertemplate": "<b>%{hovertext}</b><br><br>product_name=La Nuit De L’Homme<br>Brand=%{x}<br>Price (USD)=%{y}<extra></extra>",
         "hovertext": [
          "La Nuit De L’Homme"
         ],
         "legendgroup": "La Nuit De L’Homme",
         "marker": {
          "color": "#00cc96",
          "opacity": 0.7,
          "symbol": "circle"
         },
         "mode": "markers",
         "name": "La Nuit De L’Homme",
         "orientation": "v",
         "showlegend": true,
         "type": "scatter",
         "x": [
          "Yves Saint Laurent"
         ],
         "xaxis": "x",
         "y": [
          108
         ],
         "yaxis": "y"
        },
        {
         "hovertemplate": "<b>%{hovertext}</b><br><br>product_name=Mon Paris Eau de Parfum Travel Spray<br>Brand=%{x}<br>Price (USD)=%{y}<extra></extra>",
         "hovertext": [
          "Mon Paris Eau de Parfum Travel Spray"
         ],
         "legendgroup": "Mon Paris Eau de Parfum Travel Spray",
         "marker": {
          "color": "#ab63fa",
          "opacity": 0.7,
          "symbol": "circle"
         },
         "mode": "markers",
         "name": "Mon Paris Eau de Parfum Travel Spray",
         "orientation": "v",
         "showlegend": true,
         "type": "scatter",
         "x": [
          "Yves Saint Laurent"
         ],
         "xaxis": "x",
         "y": [
          34
         ],
         "yaxis": "y"
        },
        {
         "hovertemplate": "<b>%{hovertext}</b><br><br>product_name=Mon Paris Intensement Eau de Parfum<br>Brand=%{x}<br>Price (USD)=%{y}<extra></extra>",
         "hovertext": [
          "Mon Paris Intensement Eau de Parfum"
         ],
         "legendgroup": "Mon Paris Intensement Eau de Parfum",
         "marker": {
          "color": "#FFA15A",
          "opacity": 0.7,
          "symbol": "circle"
         },
         "mode": "markers",
         "name": "Mon Paris Intensement Eau de Parfum",
         "orientation": "v",
         "showlegend": true,
         "type": "scatter",
         "x": [
          "Yves Saint Laurent"
         ],
         "xaxis": "x",
         "y": [
          136
         ],
         "yaxis": "y"
        },
        {
         "hovertemplate": "<b>%{hovertext}</b><br><br>product_name=L'Homme Cologne Bleue<br>Brand=%{x}<br>Price (USD)=%{y}<extra></extra>",
         "hovertext": [
          "L'Homme Cologne Bleue"
         ],
         "legendgroup": "L'Homme Cologne Bleue",
         "marker": {
          "color": "#19d3f3",
          "opacity": 0.7,
          "symbol": "circle"
         },
         "mode": "markers",
         "name": "L'Homme Cologne Bleue",
         "orientation": "v",
         "showlegend": true,
         "type": "scatter",
         "x": [
          "Yves Saint Laurent"
         ],
         "xaxis": "x",
         "y": [
          89
         ],
         "yaxis": "y"
        },
        {
         "hovertemplate": "<b>%{hovertext}</b><br><br>product_name=Y Eau de Toilette<br>Brand=%{x}<br>Price (USD)=%{y}<extra></extra>",
         "hovertext": [
          "Y Eau de Toilette"
         ],
         "legendgroup": "Y Eau de Toilette",
         "marker": {
          "color": "#FF6692",
          "opacity": 0.7,
          "symbol": "circle"
         },
         "mode": "markers",
         "name": "Y Eau de Toilette",
         "orientation": "v",
         "showlegend": true,
         "type": "scatter",
         "x": [
          "Yves Saint Laurent"
         ],
         "xaxis": "x",
         "y": [
          120
         ],
         "yaxis": "y"
        },
        {
         "hovertemplate": "<b>%{hovertext}</b><br><br>product_name=Mon Paris Couture Eau de Parfum<br>Brand=%{x}<br>Price (USD)=%{y}<extra></extra>",
         "hovertext": [
          "Mon Paris Couture Eau de Parfum"
         ],
         "legendgroup": "Mon Paris Couture Eau de Parfum",
         "marker": {
          "color": "#B6E880",
          "opacity": 0.7,
          "symbol": "circle"
         },
         "mode": "markers",
         "name": "Mon Paris Couture Eau de Parfum",
         "orientation": "v",
         "showlegend": true,
         "type": "scatter",
         "x": [
          "Yves Saint Laurent"
         ],
         "xaxis": "x",
         "y": [
          76
         ],
         "yaxis": "y"
        },
        {
         "hovertemplate": "<b>%{hovertext}</b><br><br>product_name=Y Eau Fraiche<br>Brand=%{x}<br>Price (USD)=%{y}<extra></extra>",
         "hovertext": [
          "Y Eau Fraiche"
         ],
         "legendgroup": "Y Eau Fraiche",
         "marker": {
          "color": "#FF97FF",
          "opacity": 0.7,
          "symbol": "circle"
         },
         "mode": "markers",
         "name": "Y Eau Fraiche",
         "orientation": "v",
         "showlegend": true,
         "type": "scatter",
         "x": [
          "Yves Saint Laurent"
         ],
         "xaxis": "x",
         "y": [
          99
         ],
         "yaxis": "y"
        },
        {
         "hovertemplate": "<b>%{hovertext}</b><br><br>product_name=L'Homme Eau de Parfum<br>Brand=%{x}<br>Price (USD)=%{y}<extra></extra>",
         "hovertext": [
          "L'Homme Eau de Parfum"
         ],
         "legendgroup": "L'Homme Eau de Parfum",
         "marker": {
          "color": "#FECB52",
          "opacity": 0.7,
          "symbol": "circle"
         },
         "mode": "markers",
         "name": "L'Homme Eau de Parfum",
         "orientation": "v",
         "showlegend": true,
         "type": "scatter",
         "x": [
          "Yves Saint Laurent"
         ],
         "xaxis": "x",
         "y": [
          106
         ],
         "yaxis": "y"
        }
       ],
       "layout": {
        "legend": {
         "title": {
          "text": "product_name"
         },
         "tracegroupgap": 0
        },
        "template": {
         "data": {
          "bar": [
           {
            "error_x": {
             "color": "#2a3f5f"
            },
            "error_y": {
             "color": "#2a3f5f"
            },
            "marker": {
             "line": {
              "color": "#E5ECF6",
              "width": 0.5
             },
             "pattern": {
              "fillmode": "overlay",
              "size": 10,
              "solidity": 0.2
             }
            },
            "type": "bar"
           }
          ],
          "barpolar": [
           {
            "marker": {
             "line": {
              "color": "#E5ECF6",
              "width": 0.5
             },
             "pattern": {
              "fillmode": "overlay",
              "size": 10,
              "solidity": 0.2
             }
            },
            "type": "barpolar"
           }
          ],
          "carpet": [
           {
            "aaxis": {
             "endlinecolor": "#2a3f5f",
             "gridcolor": "white",
             "linecolor": "white",
             "minorgridcolor": "white",
             "startlinecolor": "#2a3f5f"
            },
            "baxis": {
             "endlinecolor": "#2a3f5f",
             "gridcolor": "white",
             "linecolor": "white",
             "minorgridcolor": "white",
             "startlinecolor": "#2a3f5f"
            },
            "type": "carpet"
           }
          ],
          "choropleth": [
           {
            "colorbar": {
             "outlinewidth": 0,
             "ticks": ""
            },
            "type": "choropleth"
           }
          ],
          "contour": [
           {
            "colorbar": {
             "outlinewidth": 0,
             "ticks": ""
            },
            "colorscale": [
             [
              0,
              "#0d0887"
             ],
             [
              0.1111111111111111,
              "#46039f"
             ],
             [
              0.2222222222222222,
              "#7201a8"
             ],
             [
              0.3333333333333333,
              "#9c179e"
             ],
             [
              0.4444444444444444,
              "#bd3786"
             ],
             [
              0.5555555555555556,
              "#d8576b"
             ],
             [
              0.6666666666666666,
              "#ed7953"
             ],
             [
              0.7777777777777778,
              "#fb9f3a"
             ],
             [
              0.8888888888888888,
              "#fdca26"
             ],
             [
              1,
              "#f0f921"
             ]
            ],
            "type": "contour"
           }
          ],
          "contourcarpet": [
           {
            "colorbar": {
             "outlinewidth": 0,
             "ticks": ""
            },
            "type": "contourcarpet"
           }
          ],
          "heatmap": [
           {
            "colorbar": {
             "outlinewidth": 0,
             "ticks": ""
            },
            "colorscale": [
             [
              0,
              "#0d0887"
             ],
             [
              0.1111111111111111,
              "#46039f"
             ],
             [
              0.2222222222222222,
              "#7201a8"
             ],
             [
              0.3333333333333333,
              "#9c179e"
             ],
             [
              0.4444444444444444,
              "#bd3786"
             ],
             [
              0.5555555555555556,
              "#d8576b"
             ],
             [
              0.6666666666666666,
              "#ed7953"
             ],
             [
              0.7777777777777778,
              "#fb9f3a"
             ],
             [
              0.8888888888888888,
              "#fdca26"
             ],
             [
              1,
              "#f0f921"
             ]
            ],
            "type": "heatmap"
           }
          ],
          "heatmapgl": [
           {
            "colorbar": {
             "outlinewidth": 0,
             "ticks": ""
            },
            "colorscale": [
             [
              0,
              "#0d0887"
             ],
             [
              0.1111111111111111,
              "#46039f"
             ],
             [
              0.2222222222222222,
              "#7201a8"
             ],
             [
              0.3333333333333333,
              "#9c179e"
             ],
             [
              0.4444444444444444,
              "#bd3786"
             ],
             [
              0.5555555555555556,
              "#d8576b"
             ],
             [
              0.6666666666666666,
              "#ed7953"
             ],
             [
              0.7777777777777778,
              "#fb9f3a"
             ],
             [
              0.8888888888888888,
              "#fdca26"
             ],
             [
              1,
              "#f0f921"
             ]
            ],
            "type": "heatmapgl"
           }
          ],
          "histogram": [
           {
            "marker": {
             "pattern": {
              "fillmode": "overlay",
              "size": 10,
              "solidity": 0.2
             }
            },
            "type": "histogram"
           }
          ],
          "histogram2d": [
           {
            "colorbar": {
             "outlinewidth": 0,
             "ticks": ""
            },
            "colorscale": [
             [
              0,
              "#0d0887"
             ],
             [
              0.1111111111111111,
              "#46039f"
             ],
             [
              0.2222222222222222,
              "#7201a8"
             ],
             [
              0.3333333333333333,
              "#9c179e"
             ],
             [
              0.4444444444444444,
              "#bd3786"
             ],
             [
              0.5555555555555556,
              "#d8576b"
             ],
             [
              0.6666666666666666,
              "#ed7953"
             ],
             [
              0.7777777777777778,
              "#fb9f3a"
             ],
             [
              0.8888888888888888,
              "#fdca26"
             ],
             [
              1,
              "#f0f921"
             ]
            ],
            "type": "histogram2d"
           }
          ],
          "histogram2dcontour": [
           {
            "colorbar": {
             "outlinewidth": 0,
             "ticks": ""
            },
            "colorscale": [
             [
              0,
              "#0d0887"
             ],
             [
              0.1111111111111111,
              "#46039f"
             ],
             [
              0.2222222222222222,
              "#7201a8"
             ],
             [
              0.3333333333333333,
              "#9c179e"
             ],
             [
              0.4444444444444444,
              "#bd3786"
             ],
             [
              0.5555555555555556,
              "#d8576b"
             ],
             [
              0.6666666666666666,
              "#ed7953"
             ],
             [
              0.7777777777777778,
              "#fb9f3a"
             ],
             [
              0.8888888888888888,
              "#fdca26"
             ],
             [
              1,
              "#f0f921"
             ]
            ],
            "type": "histogram2dcontour"
           }
          ],
          "mesh3d": [
           {
            "colorbar": {
             "outlinewidth": 0,
             "ticks": ""
            },
            "type": "mesh3d"
           }
          ],
          "parcoords": [
           {
            "line": {
             "colorbar": {
              "outlinewidth": 0,
              "ticks": ""
             }
            },
            "type": "parcoords"
           }
          ],
          "pie": [
           {
            "automargin": true,
            "type": "pie"
           }
          ],
          "scatter": [
           {
            "fillpattern": {
             "fillmode": "overlay",
             "size": 10,
             "solidity": 0.2
            },
            "type": "scatter"
           }
          ],
          "scatter3d": [
           {
            "line": {
             "colorbar": {
              "outlinewidth": 0,
              "ticks": ""
             }
            },
            "marker": {
             "colorbar": {
              "outlinewidth": 0,
              "ticks": ""
             }
            },
            "type": "scatter3d"
           }
          ],
          "scattercarpet": [
           {
            "marker": {
             "colorbar": {
              "outlinewidth": 0,
              "ticks": ""
             }
            },
            "type": "scattercarpet"
           }
          ],
          "scattergeo": [
           {
            "marker": {
             "colorbar": {
              "outlinewidth": 0,
              "ticks": ""
             }
            },
            "type": "scattergeo"
           }
          ],
          "scattergl": [
           {
            "marker": {
             "colorbar": {
              "outlinewidth": 0,
              "ticks": ""
             }
            },
            "type": "scattergl"
           }
          ],
          "scattermapbox": [
           {
            "marker": {
             "colorbar": {
              "outlinewidth": 0,
              "ticks": ""
             }
            },
            "type": "scattermapbox"
           }
          ],
          "scatterpolar": [
           {
            "marker": {
             "colorbar": {
              "outlinewidth": 0,
              "ticks": ""
             }
            },
            "type": "scatterpolar"
           }
          ],
          "scatterpolargl": [
           {
            "marker": {
             "colorbar": {
              "outlinewidth": 0,
              "ticks": ""
             }
            },
            "type": "scatterpolargl"
           }
          ],
          "scatterternary": [
           {
            "marker": {
             "colorbar": {
              "outlinewidth": 0,
              "ticks": ""
             }
            },
            "type": "scatterternary"
           }
          ],
          "surface": [
           {
            "colorbar": {
             "outlinewidth": 0,
             "ticks": ""
            },
            "colorscale": [
             [
              0,
              "#0d0887"
             ],
             [
              0.1111111111111111,
              "#46039f"
             ],
             [
              0.2222222222222222,
              "#7201a8"
             ],
             [
              0.3333333333333333,
              "#9c179e"
             ],
             [
              0.4444444444444444,
              "#bd3786"
             ],
             [
              0.5555555555555556,
              "#d8576b"
             ],
             [
              0.6666666666666666,
              "#ed7953"
             ],
             [
              0.7777777777777778,
              "#fb9f3a"
             ],
             [
              0.8888888888888888,
              "#fdca26"
             ],
             [
              1,
              "#f0f921"
             ]
            ],
            "type": "surface"
           }
          ],
          "table": [
           {
            "cells": {
             "fill": {
              "color": "#EBF0F8"
             },
             "line": {
              "color": "white"
             }
            },
            "header": {
             "fill": {
              "color": "#C8D4E3"
             },
             "line": {
              "color": "white"
             }
            },
            "type": "table"
           }
          ]
         },
         "layout": {
          "annotationdefaults": {
           "arrowcolor": "#2a3f5f",
           "arrowhead": 0,
           "arrowwidth": 1
          },
          "autotypenumbers": "strict",
          "coloraxis": {
           "colorbar": {
            "outlinewidth": 0,
            "ticks": ""
           }
          },
          "colorscale": {
           "diverging": [
            [
             0,
             "#8e0152"
            ],
            [
             0.1,
             "#c51b7d"
            ],
            [
             0.2,
             "#de77ae"
            ],
            [
             0.3,
             "#f1b6da"
            ],
            [
             0.4,
             "#fde0ef"
            ],
            [
             0.5,
             "#f7f7f7"
            ],
            [
             0.6,
             "#e6f5d0"
            ],
            [
             0.7,
             "#b8e186"
            ],
            [
             0.8,
             "#7fbc41"
            ],
            [
             0.9,
             "#4d9221"
            ],
            [
             1,
             "#276419"
            ]
           ],
           "sequential": [
            [
             0,
             "#0d0887"
            ],
            [
             0.1111111111111111,
             "#46039f"
            ],
            [
             0.2222222222222222,
             "#7201a8"
            ],
            [
             0.3333333333333333,
             "#9c179e"
            ],
            [
             0.4444444444444444,
             "#bd3786"
            ],
            [
             0.5555555555555556,
             "#d8576b"
            ],
            [
             0.6666666666666666,
             "#ed7953"
            ],
            [
             0.7777777777777778,
             "#fb9f3a"
            ],
            [
             0.8888888888888888,
             "#fdca26"
            ],
            [
             1,
             "#f0f921"
            ]
           ],
           "sequentialminus": [
            [
             0,
             "#0d0887"
            ],
            [
             0.1111111111111111,
             "#46039f"
            ],
            [
             0.2222222222222222,
             "#7201a8"
            ],
            [
             0.3333333333333333,
             "#9c179e"
            ],
            [
             0.4444444444444444,
             "#bd3786"
            ],
            [
             0.5555555555555556,
             "#d8576b"
            ],
            [
             0.6666666666666666,
             "#ed7953"
            ],
            [
             0.7777777777777778,
             "#fb9f3a"
            ],
            [
             0.8888888888888888,
             "#fdca26"
            ],
            [
             1,
             "#f0f921"
            ]
           ]
          },
          "colorway": [
           "#636efa",
           "#EF553B",
           "#00cc96",
           "#ab63fa",
           "#FFA15A",
           "#19d3f3",
           "#FF6692",
           "#B6E880",
           "#FF97FF",
           "#FECB52"
          ],
          "font": {
           "color": "#2a3f5f"
          },
          "geo": {
           "bgcolor": "white",
           "lakecolor": "white",
           "landcolor": "#E5ECF6",
           "showlakes": true,
           "showland": true,
           "subunitcolor": "white"
          },
          "hoverlabel": {
           "align": "left"
          },
          "hovermode": "closest",
          "mapbox": {
           "style": "light"
          },
          "paper_bgcolor": "white",
          "plot_bgcolor": "#E5ECF6",
          "polar": {
           "angularaxis": {
            "gridcolor": "white",
            "linecolor": "white",
            "ticks": ""
           },
           "bgcolor": "#E5ECF6",
           "radialaxis": {
            "gridcolor": "white",
            "linecolor": "white",
            "ticks": ""
           }
          },
          "scene": {
           "xaxis": {
            "backgroundcolor": "#E5ECF6",
            "gridcolor": "white",
            "gridwidth": 2,
            "linecolor": "white",
            "showbackground": true,
            "ticks": "",
            "zerolinecolor": "white"
           },
           "yaxis": {
            "backgroundcolor": "#E5ECF6",
            "gridcolor": "white",
            "gridwidth": 2,
            "linecolor": "white",
            "showbackground": true,
            "ticks": "",
            "zerolinecolor": "white"
           },
           "zaxis": {
            "backgroundcolor": "#E5ECF6",
            "gridcolor": "white",
            "gridwidth": 2,
            "linecolor": "white",
            "showbackground": true,
            "ticks": "",
            "zerolinecolor": "white"
           }
          },
          "shapedefaults": {
           "line": {
            "color": "#2a3f5f"
           }
          },
          "ternary": {
           "aaxis": {
            "gridcolor": "white",
            "linecolor": "white",
            "ticks": ""
           },
           "baxis": {
            "gridcolor": "white",
            "linecolor": "white",
            "ticks": ""
           },
           "bgcolor": "#E5ECF6",
           "caxis": {
            "gridcolor": "white",
            "linecolor": "white",
            "ticks": ""
           }
          },
          "title": {
           "x": 0.05
          },
          "xaxis": {
           "automargin": true,
           "gridcolor": "white",
           "linecolor": "white",
           "ticks": "",
           "title": {
            "standoff": 15
           },
           "zerolinecolor": "white",
           "zerolinewidth": 2
          },
          "yaxis": {
           "automargin": true,
           "gridcolor": "white",
           "linecolor": "white",
           "ticks": "",
           "title": {
            "standoff": 15
           },
           "zerolinecolor": "white",
           "zerolinewidth": 2
          }
         }
        },
        "title": {
         "text": "Price Range of Products"
        },
        "xaxis": {
         "anchor": "y",
         "domain": [
          0,
          1
         ],
         "tickangle": -25,
         "title": {
          "text": "Brand Name"
         }
        },
        "yaxis": {
         "anchor": "x",
         "domain": [
          0,
          1
         ],
         "title": {
          "text": "Price (USD)"
         }
        }
       }
      }
     },
     "metadata": {},
     "output_type": "display_data"
    }
   ],
   "source": [
    "# Create the scatter plot\n",
    "fig = px.scatter(fragrant_data, \n",
    "                   x='brand_name', \n",
    "                   y='price_usd',\n",
    "                   title='Price Range of Products',\n",
    "                   labels={'price_usd': 'Price (USD)', 'brand_name': 'Brand'},\n",
    "                   color='product_name',\n",
    "                   hover_name='product_name',\n",
    "                   size_max=10,  # Adjust the maximum size of the points\n",
    "                   opacity=0.7)  # Set transparency for better visibility\n",
    "\n",
    "# Optionally, add a layout adjustment for better aesthetics\n",
    "fig.update_layout(xaxis_title='Brand Name', \n",
    "                  yaxis_title='Price (USD)',\n",
    "                  xaxis_tickangle=-25)  # Rotate x-axis labels if needed\n",
    "\n",
    "# Show the figure\n",
    "fig.show()"
   ]
  },
  {
   "cell_type": "code",
   "execution_count": 71,
   "metadata": {},
   "outputs": [
    {
     "data": {
      "application/vnd.plotly.v1+json": {
       "config": {
        "plotlyServerURL": "https://plot.ly"
       },
       "data": [
        {
         "alignmentgroup": "True",
         "bingroup": "x",
         "hovertemplate": "Price=%{x}<br>count=%{y}<extra></extra>",
         "legendgroup": "",
         "marker": {
          "color": "#636efa",
          "pattern": {
           "shape": ""
          }
         },
         "name": "",
         "nbinsx": 4,
         "offsetgroup": "",
         "orientation": "v",
         "showlegend": false,
         "type": "histogram",
         "x": [
          195,
          195,
          195,
          195,
          30,
          30,
          195,
          195,
          30,
          30,
          30,
          195,
          30,
          84,
          29,
          84,
          29,
          84,
          29,
          29,
          28,
          84,
          29,
          84,
          84,
          84,
          84,
          181,
          145,
          35,
          145,
          145,
          200,
          145,
          145,
          260,
          35,
          35,
          35,
          135,
          145,
          155,
          34,
          34,
          120,
          160,
          144,
          186,
          99,
          142,
          34,
          107,
          107,
          34,
          34,
          34,
          107,
          34,
          107,
          53,
          34,
          107,
          107,
          34,
          107,
          107,
          30,
          30,
          98,
          98,
          30,
          30,
          30,
          98,
          98,
          30,
          98,
          98,
          123,
          95,
          38,
          165,
          99,
          95,
          133,
          101,
          123,
          74,
          38,
          140,
          94,
          95,
          70,
          28,
          70,
          70,
          28,
          45,
          70,
          70,
          28,
          70,
          28,
          28,
          28,
          45,
          28,
          28,
          28,
          70,
          45,
          45,
          45,
          45,
          90,
          40,
          147,
          15,
          147,
          34,
          96,
          147,
          128,
          147,
          147,
          38,
          31,
          38,
          133,
          124,
          110,
          110,
          29,
          44,
          74,
          110,
          110,
          29,
          29,
          110,
          29,
          29,
          110,
          110,
          110,
          110,
          29,
          29,
          25,
          135,
          25,
          135,
          25,
          135,
          135,
          25,
          25,
          135,
          135,
          135,
          25,
          25,
          135,
          135,
          135,
          135,
          135,
          135,
          25,
          135,
          135,
          25,
          25,
          135,
          25,
          25,
          25,
          135,
          25,
          135,
          135,
          25,
          135,
          25,
          25,
          135,
          135,
          25,
          135,
          30,
          30,
          90,
          35,
          90,
          30,
          30,
          90,
          30,
          30,
          90,
          90,
          90,
          160,
          100,
          55,
          82,
          108,
          108,
          32,
          32,
          108,
          108,
          108,
          32,
          108,
          108,
          32,
          40,
          32,
          32,
          108,
          108,
          108,
          32,
          108,
          32,
          105,
          105,
          32,
          100,
          108,
          32,
          140,
          34,
          34,
          89,
          89,
          34,
          34,
          34,
          89,
          34,
          34,
          34,
          89,
          110,
          110,
          108,
          40,
          40,
          124,
          135,
          111,
          111,
          64,
          30,
          155,
          123,
          38,
          38,
          87,
          155,
          154,
          38,
          123,
          101,
          131,
          38,
          143,
          38,
          38,
          165,
          175,
          165,
          155,
          125,
          165,
          110,
          110,
          110,
          110,
          110,
          110,
          110,
          110,
          110,
          65,
          65,
          165,
          165,
          65,
          165,
          149,
          149,
          149,
          141,
          152,
          116,
          108,
          148,
          155,
          155,
          155,
          45,
          80,
          155,
          155,
          155,
          155,
          155,
          145,
          24,
          150,
          150,
          150,
          80,
          86,
          27,
          86,
          106,
          140,
          30,
          140,
          30,
          140,
          30,
          140,
          30,
          140,
          30,
          25,
          125,
          125,
          25,
          25,
          25,
          138,
          100,
          100,
          25,
          27,
          27,
          25,
          25,
          27,
          138,
          27,
          275,
          50,
          125,
          30,
          275,
          215,
          275,
          275,
          50,
          215,
          275,
          275,
          275,
          340,
          215,
          118,
          125,
          118,
          65,
          93,
          32,
          16,
          93,
          93,
          93,
          93,
          160,
          160,
          160,
          160,
          35,
          35,
          35,
          35,
          160,
          160,
          35,
          35,
          128,
          139,
          149,
          128,
          128,
          95,
          34,
          34,
          34,
          34,
          163,
          156,
          116,
          34,
          34,
          90,
          90,
          128,
          50,
          104,
          150,
          35,
          180,
          95,
          35,
          180,
          35,
          115,
          98,
          35,
          86,
          48,
          35,
          98,
          98,
          30,
          35,
          98,
          35,
          98,
          35,
          98,
          35,
          64,
          64,
          133,
          132,
          126,
          120,
          132,
          96,
          26,
          98,
          26,
          96,
          96,
          96,
          96,
          26,
          26,
          96,
          96,
          96,
          26,
          26,
          26,
          32,
          32,
          115,
          25,
          90,
          30,
          30,
          90,
          30,
          90,
          90,
          30,
          30,
          30,
          90,
          90,
          30,
          90,
          90,
          90,
          30,
          30,
          90,
          78,
          88,
          32,
          88,
          32,
          88,
          88,
          32,
          32,
          32,
          88,
          88,
          88,
          88,
          32,
          32,
          32,
          88,
          88,
          69,
          55,
          20,
          20,
          20,
          20,
          20,
          20,
          80,
          80,
          80,
          80,
          27,
          46,
          46,
          46,
          46,
          395,
          295,
          80,
          295,
          70,
          395,
          295,
          70,
          150,
          80,
          150,
          395,
          50,
          295,
          70,
          50,
          180,
          70,
          295,
          295,
          50,
          295,
          235,
          295,
          395,
          395,
          65,
          395,
          235,
          295,
          65,
          295,
          235,
          70,
          295,
          75,
          235,
          150,
          35,
          110,
          96,
          105,
          98,
          130,
          65,
          120,
          96,
          33,
          92,
          130,
          33,
          110,
          107,
          32,
          32,
          32,
          26,
          120,
          32,
          32,
          32,
          32,
          180,
          35,
          58,
          180,
          35,
          12,
          50,
          175,
          175,
          175,
          50,
          175,
          175,
          50,
          50,
          117,
          34,
          95,
          148,
          89,
          108,
          34,
          136,
          89,
          120,
          76,
          99,
          106
         ],
         "xaxis": "x",
         "yaxis": "y"
        }
       ],
       "layout": {
        "barmode": "relative",
        "legend": {
         "tracegroupgap": 0
        },
        "template": {
         "data": {
          "bar": [
           {
            "error_x": {
             "color": "#2a3f5f"
            },
            "error_y": {
             "color": "#2a3f5f"
            },
            "marker": {
             "line": {
              "color": "#E5ECF6",
              "width": 0.5
             },
             "pattern": {
              "fillmode": "overlay",
              "size": 10,
              "solidity": 0.2
             }
            },
            "type": "bar"
           }
          ],
          "barpolar": [
           {
            "marker": {
             "line": {
              "color": "#E5ECF6",
              "width": 0.5
             },
             "pattern": {
              "fillmode": "overlay",
              "size": 10,
              "solidity": 0.2
             }
            },
            "type": "barpolar"
           }
          ],
          "carpet": [
           {
            "aaxis": {
             "endlinecolor": "#2a3f5f",
             "gridcolor": "white",
             "linecolor": "white",
             "minorgridcolor": "white",
             "startlinecolor": "#2a3f5f"
            },
            "baxis": {
             "endlinecolor": "#2a3f5f",
             "gridcolor": "white",
             "linecolor": "white",
             "minorgridcolor": "white",
             "startlinecolor": "#2a3f5f"
            },
            "type": "carpet"
           }
          ],
          "choropleth": [
           {
            "colorbar": {
             "outlinewidth": 0,
             "ticks": ""
            },
            "type": "choropleth"
           }
          ],
          "contour": [
           {
            "colorbar": {
             "outlinewidth": 0,
             "ticks": ""
            },
            "colorscale": [
             [
              0,
              "#0d0887"
             ],
             [
              0.1111111111111111,
              "#46039f"
             ],
             [
              0.2222222222222222,
              "#7201a8"
             ],
             [
              0.3333333333333333,
              "#9c179e"
             ],
             [
              0.4444444444444444,
              "#bd3786"
             ],
             [
              0.5555555555555556,
              "#d8576b"
             ],
             [
              0.6666666666666666,
              "#ed7953"
             ],
             [
              0.7777777777777778,
              "#fb9f3a"
             ],
             [
              0.8888888888888888,
              "#fdca26"
             ],
             [
              1,
              "#f0f921"
             ]
            ],
            "type": "contour"
           }
          ],
          "contourcarpet": [
           {
            "colorbar": {
             "outlinewidth": 0,
             "ticks": ""
            },
            "type": "contourcarpet"
           }
          ],
          "heatmap": [
           {
            "colorbar": {
             "outlinewidth": 0,
             "ticks": ""
            },
            "colorscale": [
             [
              0,
              "#0d0887"
             ],
             [
              0.1111111111111111,
              "#46039f"
             ],
             [
              0.2222222222222222,
              "#7201a8"
             ],
             [
              0.3333333333333333,
              "#9c179e"
             ],
             [
              0.4444444444444444,
              "#bd3786"
             ],
             [
              0.5555555555555556,
              "#d8576b"
             ],
             [
              0.6666666666666666,
              "#ed7953"
             ],
             [
              0.7777777777777778,
              "#fb9f3a"
             ],
             [
              0.8888888888888888,
              "#fdca26"
             ],
             [
              1,
              "#f0f921"
             ]
            ],
            "type": "heatmap"
           }
          ],
          "heatmapgl": [
           {
            "colorbar": {
             "outlinewidth": 0,
             "ticks": ""
            },
            "colorscale": [
             [
              0,
              "#0d0887"
             ],
             [
              0.1111111111111111,
              "#46039f"
             ],
             [
              0.2222222222222222,
              "#7201a8"
             ],
             [
              0.3333333333333333,
              "#9c179e"
             ],
             [
              0.4444444444444444,
              "#bd3786"
             ],
             [
              0.5555555555555556,
              "#d8576b"
             ],
             [
              0.6666666666666666,
              "#ed7953"
             ],
             [
              0.7777777777777778,
              "#fb9f3a"
             ],
             [
              0.8888888888888888,
              "#fdca26"
             ],
             [
              1,
              "#f0f921"
             ]
            ],
            "type": "heatmapgl"
           }
          ],
          "histogram": [
           {
            "marker": {
             "pattern": {
              "fillmode": "overlay",
              "size": 10,
              "solidity": 0.2
             }
            },
            "type": "histogram"
           }
          ],
          "histogram2d": [
           {
            "colorbar": {
             "outlinewidth": 0,
             "ticks": ""
            },
            "colorscale": [
             [
              0,
              "#0d0887"
             ],
             [
              0.1111111111111111,
              "#46039f"
             ],
             [
              0.2222222222222222,
              "#7201a8"
             ],
             [
              0.3333333333333333,
              "#9c179e"
             ],
             [
              0.4444444444444444,
              "#bd3786"
             ],
             [
              0.5555555555555556,
              "#d8576b"
             ],
             [
              0.6666666666666666,
              "#ed7953"
             ],
             [
              0.7777777777777778,
              "#fb9f3a"
             ],
             [
              0.8888888888888888,
              "#fdca26"
             ],
             [
              1,
              "#f0f921"
             ]
            ],
            "type": "histogram2d"
           }
          ],
          "histogram2dcontour": [
           {
            "colorbar": {
             "outlinewidth": 0,
             "ticks": ""
            },
            "colorscale": [
             [
              0,
              "#0d0887"
             ],
             [
              0.1111111111111111,
              "#46039f"
             ],
             [
              0.2222222222222222,
              "#7201a8"
             ],
             [
              0.3333333333333333,
              "#9c179e"
             ],
             [
              0.4444444444444444,
              "#bd3786"
             ],
             [
              0.5555555555555556,
              "#d8576b"
             ],
             [
              0.6666666666666666,
              "#ed7953"
             ],
             [
              0.7777777777777778,
              "#fb9f3a"
             ],
             [
              0.8888888888888888,
              "#fdca26"
             ],
             [
              1,
              "#f0f921"
             ]
            ],
            "type": "histogram2dcontour"
           }
          ],
          "mesh3d": [
           {
            "colorbar": {
             "outlinewidth": 0,
             "ticks": ""
            },
            "type": "mesh3d"
           }
          ],
          "parcoords": [
           {
            "line": {
             "colorbar": {
              "outlinewidth": 0,
              "ticks": ""
             }
            },
            "type": "parcoords"
           }
          ],
          "pie": [
           {
            "automargin": true,
            "type": "pie"
           }
          ],
          "scatter": [
           {
            "fillpattern": {
             "fillmode": "overlay",
             "size": 10,
             "solidity": 0.2
            },
            "type": "scatter"
           }
          ],
          "scatter3d": [
           {
            "line": {
             "colorbar": {
              "outlinewidth": 0,
              "ticks": ""
             }
            },
            "marker": {
             "colorbar": {
              "outlinewidth": 0,
              "ticks": ""
             }
            },
            "type": "scatter3d"
           }
          ],
          "scattercarpet": [
           {
            "marker": {
             "colorbar": {
              "outlinewidth": 0,
              "ticks": ""
             }
            },
            "type": "scattercarpet"
           }
          ],
          "scattergeo": [
           {
            "marker": {
             "colorbar": {
              "outlinewidth": 0,
              "ticks": ""
             }
            },
            "type": "scattergeo"
           }
          ],
          "scattergl": [
           {
            "marker": {
             "colorbar": {
              "outlinewidth": 0,
              "ticks": ""
             }
            },
            "type": "scattergl"
           }
          ],
          "scattermapbox": [
           {
            "marker": {
             "colorbar": {
              "outlinewidth": 0,
              "ticks": ""
             }
            },
            "type": "scattermapbox"
           }
          ],
          "scatterpolar": [
           {
            "marker": {
             "colorbar": {
              "outlinewidth": 0,
              "ticks": ""
             }
            },
            "type": "scatterpolar"
           }
          ],
          "scatterpolargl": [
           {
            "marker": {
             "colorbar": {
              "outlinewidth": 0,
              "ticks": ""
             }
            },
            "type": "scatterpolargl"
           }
          ],
          "scatterternary": [
           {
            "marker": {
             "colorbar": {
              "outlinewidth": 0,
              "ticks": ""
             }
            },
            "type": "scatterternary"
           }
          ],
          "surface": [
           {
            "colorbar": {
             "outlinewidth": 0,
             "ticks": ""
            },
            "colorscale": [
             [
              0,
              "#0d0887"
             ],
             [
              0.1111111111111111,
              "#46039f"
             ],
             [
              0.2222222222222222,
              "#7201a8"
             ],
             [
              0.3333333333333333,
              "#9c179e"
             ],
             [
              0.4444444444444444,
              "#bd3786"
             ],
             [
              0.5555555555555556,
              "#d8576b"
             ],
             [
              0.6666666666666666,
              "#ed7953"
             ],
             [
              0.7777777777777778,
              "#fb9f3a"
             ],
             [
              0.8888888888888888,
              "#fdca26"
             ],
             [
              1,
              "#f0f921"
             ]
            ],
            "type": "surface"
           }
          ],
          "table": [
           {
            "cells": {
             "fill": {
              "color": "#EBF0F8"
             },
             "line": {
              "color": "white"
             }
            },
            "header": {
             "fill": {
              "color": "#C8D4E3"
             },
             "line": {
              "color": "white"
             }
            },
            "type": "table"
           }
          ]
         },
         "layout": {
          "annotationdefaults": {
           "arrowcolor": "#2a3f5f",
           "arrowhead": 0,
           "arrowwidth": 1
          },
          "autotypenumbers": "strict",
          "coloraxis": {
           "colorbar": {
            "outlinewidth": 0,
            "ticks": ""
           }
          },
          "colorscale": {
           "diverging": [
            [
             0,
             "#8e0152"
            ],
            [
             0.1,
             "#c51b7d"
            ],
            [
             0.2,
             "#de77ae"
            ],
            [
             0.3,
             "#f1b6da"
            ],
            [
             0.4,
             "#fde0ef"
            ],
            [
             0.5,
             "#f7f7f7"
            ],
            [
             0.6,
             "#e6f5d0"
            ],
            [
             0.7,
             "#b8e186"
            ],
            [
             0.8,
             "#7fbc41"
            ],
            [
             0.9,
             "#4d9221"
            ],
            [
             1,
             "#276419"
            ]
           ],
           "sequential": [
            [
             0,
             "#0d0887"
            ],
            [
             0.1111111111111111,
             "#46039f"
            ],
            [
             0.2222222222222222,
             "#7201a8"
            ],
            [
             0.3333333333333333,
             "#9c179e"
            ],
            [
             0.4444444444444444,
             "#bd3786"
            ],
            [
             0.5555555555555556,
             "#d8576b"
            ],
            [
             0.6666666666666666,
             "#ed7953"
            ],
            [
             0.7777777777777778,
             "#fb9f3a"
            ],
            [
             0.8888888888888888,
             "#fdca26"
            ],
            [
             1,
             "#f0f921"
            ]
           ],
           "sequentialminus": [
            [
             0,
             "#0d0887"
            ],
            [
             0.1111111111111111,
             "#46039f"
            ],
            [
             0.2222222222222222,
             "#7201a8"
            ],
            [
             0.3333333333333333,
             "#9c179e"
            ],
            [
             0.4444444444444444,
             "#bd3786"
            ],
            [
             0.5555555555555556,
             "#d8576b"
            ],
            [
             0.6666666666666666,
             "#ed7953"
            ],
            [
             0.7777777777777778,
             "#fb9f3a"
            ],
            [
             0.8888888888888888,
             "#fdca26"
            ],
            [
             1,
             "#f0f921"
            ]
           ]
          },
          "colorway": [
           "#636efa",
           "#EF553B",
           "#00cc96",
           "#ab63fa",
           "#FFA15A",
           "#19d3f3",
           "#FF6692",
           "#B6E880",
           "#FF97FF",
           "#FECB52"
          ],
          "font": {
           "color": "#2a3f5f"
          },
          "geo": {
           "bgcolor": "white",
           "lakecolor": "white",
           "landcolor": "#E5ECF6",
           "showlakes": true,
           "showland": true,
           "subunitcolor": "white"
          },
          "hoverlabel": {
           "align": "left"
          },
          "hovermode": "closest",
          "mapbox": {
           "style": "light"
          },
          "paper_bgcolor": "white",
          "plot_bgcolor": "#E5ECF6",
          "polar": {
           "angularaxis": {
            "gridcolor": "white",
            "linecolor": "white",
            "ticks": ""
           },
           "bgcolor": "#E5ECF6",
           "radialaxis": {
            "gridcolor": "white",
            "linecolor": "white",
            "ticks": ""
           }
          },
          "scene": {
           "xaxis": {
            "backgroundcolor": "#E5ECF6",
            "gridcolor": "white",
            "gridwidth": 2,
            "linecolor": "white",
            "showbackground": true,
            "ticks": "",
            "zerolinecolor": "white"
           },
           "yaxis": {
            "backgroundcolor": "#E5ECF6",
            "gridcolor": "white",
            "gridwidth": 2,
            "linecolor": "white",
            "showbackground": true,
            "ticks": "",
            "zerolinecolor": "white"
           },
           "zaxis": {
            "backgroundcolor": "#E5ECF6",
            "gridcolor": "white",
            "gridwidth": 2,
            "linecolor": "white",
            "showbackground": true,
            "ticks": "",
            "zerolinecolor": "white"
           }
          },
          "shapedefaults": {
           "line": {
            "color": "#2a3f5f"
           }
          },
          "ternary": {
           "aaxis": {
            "gridcolor": "white",
            "linecolor": "white",
            "ticks": ""
           },
           "baxis": {
            "gridcolor": "white",
            "linecolor": "white",
            "ticks": ""
           },
           "bgcolor": "#E5ECF6",
           "caxis": {
            "gridcolor": "white",
            "linecolor": "white",
            "ticks": ""
           }
          },
          "title": {
           "x": 0.05
          },
          "xaxis": {
           "automargin": true,
           "gridcolor": "white",
           "linecolor": "white",
           "ticks": "",
           "title": {
            "standoff": 15
           },
           "zerolinecolor": "white",
           "zerolinewidth": 2
          },
          "yaxis": {
           "automargin": true,
           "gridcolor": "white",
           "linecolor": "white",
           "ticks": "",
           "title": {
            "standoff": 15
           },
           "zerolinecolor": "white",
           "zerolinewidth": 2
          }
         }
        },
        "title": {
         "text": "Histogram of Product Prices"
        },
        "xaxis": {
         "anchor": "y",
         "domain": [
          0,
          1
         ],
         "title": {
          "text": "Price"
         }
        },
        "yaxis": {
         "anchor": "x",
         "domain": [
          0,
          1
         ],
         "title": {
          "text": "count"
         }
        }
       }
      }
     },
     "metadata": {},
     "output_type": "display_data"
    }
   ],
   "source": [
    "# Create a histogram for the price distribution\n",
    "fig_hist = px.histogram(fragrant_data, \n",
    "                         x='price_usd', \n",
    "                         title='Histogram of Product Prices',\n",
    "                         labels={'price_usd': 'Price'},\n",
    "                         nbins=4)  # Adjust the number of bins as needed\n",
    "\n",
    "fig_hist.show()"
   ]
  },
  {
   "cell_type": "code",
   "execution_count": 73,
   "metadata": {},
   "outputs": [
    {
     "data": {
      "application/vnd.plotly.v1+json": {
       "config": {
        "plotlyServerURL": "https://plot.ly"
       },
       "data": [
        {
         "alignmentgroup": "True",
         "hovertemplate": "price_usd=%{y}<extra></extra>",
         "legendgroup": "",
         "marker": {
          "color": "#636efa"
         },
         "name": "",
         "notched": false,
         "offsetgroup": "",
         "orientation": "v",
         "showlegend": false,
         "type": "box",
         "x0": " ",
         "xaxis": "x",
         "y": [
          195,
          195,
          195,
          195,
          30,
          30,
          195,
          195,
          30,
          30,
          30,
          195,
          30,
          84,
          29,
          84,
          29,
          84,
          29,
          29,
          28,
          84,
          29,
          84,
          84,
          84,
          84,
          181,
          145,
          35,
          145,
          145,
          200,
          145,
          145,
          260,
          35,
          35,
          35,
          135,
          145,
          155,
          34,
          34,
          120,
          160,
          144,
          186,
          99,
          142,
          34,
          107,
          107,
          34,
          34,
          34,
          107,
          34,
          107,
          53,
          34,
          107,
          107,
          34,
          107,
          107,
          30,
          30,
          98,
          98,
          30,
          30,
          30,
          98,
          98,
          30,
          98,
          98,
          123,
          95,
          38,
          165,
          99,
          95,
          133,
          101,
          123,
          74,
          38,
          140,
          94,
          95,
          70,
          28,
          70,
          70,
          28,
          45,
          70,
          70,
          28,
          70,
          28,
          28,
          28,
          45,
          28,
          28,
          28,
          70,
          45,
          45,
          45,
          45,
          90,
          40,
          147,
          15,
          147,
          34,
          96,
          147,
          128,
          147,
          147,
          38,
          31,
          38,
          133,
          124,
          110,
          110,
          29,
          44,
          74,
          110,
          110,
          29,
          29,
          110,
          29,
          29,
          110,
          110,
          110,
          110,
          29,
          29,
          25,
          135,
          25,
          135,
          25,
          135,
          135,
          25,
          25,
          135,
          135,
          135,
          25,
          25,
          135,
          135,
          135,
          135,
          135,
          135,
          25,
          135,
          135,
          25,
          25,
          135,
          25,
          25,
          25,
          135,
          25,
          135,
          135,
          25,
          135,
          25,
          25,
          135,
          135,
          25,
          135,
          30,
          30,
          90,
          35,
          90,
          30,
          30,
          90,
          30,
          30,
          90,
          90,
          90,
          160,
          100,
          55,
          82,
          108,
          108,
          32,
          32,
          108,
          108,
          108,
          32,
          108,
          108,
          32,
          40,
          32,
          32,
          108,
          108,
          108,
          32,
          108,
          32,
          105,
          105,
          32,
          100,
          108,
          32,
          140,
          34,
          34,
          89,
          89,
          34,
          34,
          34,
          89,
          34,
          34,
          34,
          89,
          110,
          110,
          108,
          40,
          40,
          124,
          135,
          111,
          111,
          64,
          30,
          155,
          123,
          38,
          38,
          87,
          155,
          154,
          38,
          123,
          101,
          131,
          38,
          143,
          38,
          38,
          165,
          175,
          165,
          155,
          125,
          165,
          110,
          110,
          110,
          110,
          110,
          110,
          110,
          110,
          110,
          65,
          65,
          165,
          165,
          65,
          165,
          149,
          149,
          149,
          141,
          152,
          116,
          108,
          148,
          155,
          155,
          155,
          45,
          80,
          155,
          155,
          155,
          155,
          155,
          145,
          24,
          150,
          150,
          150,
          80,
          86,
          27,
          86,
          106,
          140,
          30,
          140,
          30,
          140,
          30,
          140,
          30,
          140,
          30,
          25,
          125,
          125,
          25,
          25,
          25,
          138,
          100,
          100,
          25,
          27,
          27,
          25,
          25,
          27,
          138,
          27,
          275,
          50,
          125,
          30,
          275,
          215,
          275,
          275,
          50,
          215,
          275,
          275,
          275,
          340,
          215,
          118,
          125,
          118,
          65,
          93,
          32,
          16,
          93,
          93,
          93,
          93,
          160,
          160,
          160,
          160,
          35,
          35,
          35,
          35,
          160,
          160,
          35,
          35,
          128,
          139,
          149,
          128,
          128,
          95,
          34,
          34,
          34,
          34,
          163,
          156,
          116,
          34,
          34,
          90,
          90,
          128,
          50,
          104,
          150,
          35,
          180,
          95,
          35,
          180,
          35,
          115,
          98,
          35,
          86,
          48,
          35,
          98,
          98,
          30,
          35,
          98,
          35,
          98,
          35,
          98,
          35,
          64,
          64,
          133,
          132,
          126,
          120,
          132,
          96,
          26,
          98,
          26,
          96,
          96,
          96,
          96,
          26,
          26,
          96,
          96,
          96,
          26,
          26,
          26,
          32,
          32,
          115,
          25,
          90,
          30,
          30,
          90,
          30,
          90,
          90,
          30,
          30,
          30,
          90,
          90,
          30,
          90,
          90,
          90,
          30,
          30,
          90,
          78,
          88,
          32,
          88,
          32,
          88,
          88,
          32,
          32,
          32,
          88,
          88,
          88,
          88,
          32,
          32,
          32,
          88,
          88,
          69,
          55,
          20,
          20,
          20,
          20,
          20,
          20,
          80,
          80,
          80,
          80,
          27,
          46,
          46,
          46,
          46,
          395,
          295,
          80,
          295,
          70,
          395,
          295,
          70,
          150,
          80,
          150,
          395,
          50,
          295,
          70,
          50,
          180,
          70,
          295,
          295,
          50,
          295,
          235,
          295,
          395,
          395,
          65,
          395,
          235,
          295,
          65,
          295,
          235,
          70,
          295,
          75,
          235,
          150,
          35,
          110,
          96,
          105,
          98,
          130,
          65,
          120,
          96,
          33,
          92,
          130,
          33,
          110,
          107,
          32,
          32,
          32,
          26,
          120,
          32,
          32,
          32,
          32,
          180,
          35,
          58,
          180,
          35,
          12,
          50,
          175,
          175,
          175,
          50,
          175,
          175,
          50,
          50,
          117,
          34,
          95,
          148,
          89,
          108,
          34,
          136,
          89,
          120,
          76,
          99,
          106
         ],
         "y0": " ",
         "yaxis": "y"
        }
       ],
       "layout": {
        "boxmode": "group",
        "legend": {
         "tracegroupgap": 0
        },
        "template": {
         "data": {
          "bar": [
           {
            "error_x": {
             "color": "#2a3f5f"
            },
            "error_y": {
             "color": "#2a3f5f"
            },
            "marker": {
             "line": {
              "color": "#E5ECF6",
              "width": 0.5
             },
             "pattern": {
              "fillmode": "overlay",
              "size": 10,
              "solidity": 0.2
             }
            },
            "type": "bar"
           }
          ],
          "barpolar": [
           {
            "marker": {
             "line": {
              "color": "#E5ECF6",
              "width": 0.5
             },
             "pattern": {
              "fillmode": "overlay",
              "size": 10,
              "solidity": 0.2
             }
            },
            "type": "barpolar"
           }
          ],
          "carpet": [
           {
            "aaxis": {
             "endlinecolor": "#2a3f5f",
             "gridcolor": "white",
             "linecolor": "white",
             "minorgridcolor": "white",
             "startlinecolor": "#2a3f5f"
            },
            "baxis": {
             "endlinecolor": "#2a3f5f",
             "gridcolor": "white",
             "linecolor": "white",
             "minorgridcolor": "white",
             "startlinecolor": "#2a3f5f"
            },
            "type": "carpet"
           }
          ],
          "choropleth": [
           {
            "colorbar": {
             "outlinewidth": 0,
             "ticks": ""
            },
            "type": "choropleth"
           }
          ],
          "contour": [
           {
            "colorbar": {
             "outlinewidth": 0,
             "ticks": ""
            },
            "colorscale": [
             [
              0,
              "#0d0887"
             ],
             [
              0.1111111111111111,
              "#46039f"
             ],
             [
              0.2222222222222222,
              "#7201a8"
             ],
             [
              0.3333333333333333,
              "#9c179e"
             ],
             [
              0.4444444444444444,
              "#bd3786"
             ],
             [
              0.5555555555555556,
              "#d8576b"
             ],
             [
              0.6666666666666666,
              "#ed7953"
             ],
             [
              0.7777777777777778,
              "#fb9f3a"
             ],
             [
              0.8888888888888888,
              "#fdca26"
             ],
             [
              1,
              "#f0f921"
             ]
            ],
            "type": "contour"
           }
          ],
          "contourcarpet": [
           {
            "colorbar": {
             "outlinewidth": 0,
             "ticks": ""
            },
            "type": "contourcarpet"
           }
          ],
          "heatmap": [
           {
            "colorbar": {
             "outlinewidth": 0,
             "ticks": ""
            },
            "colorscale": [
             [
              0,
              "#0d0887"
             ],
             [
              0.1111111111111111,
              "#46039f"
             ],
             [
              0.2222222222222222,
              "#7201a8"
             ],
             [
              0.3333333333333333,
              "#9c179e"
             ],
             [
              0.4444444444444444,
              "#bd3786"
             ],
             [
              0.5555555555555556,
              "#d8576b"
             ],
             [
              0.6666666666666666,
              "#ed7953"
             ],
             [
              0.7777777777777778,
              "#fb9f3a"
             ],
             [
              0.8888888888888888,
              "#fdca26"
             ],
             [
              1,
              "#f0f921"
             ]
            ],
            "type": "heatmap"
           }
          ],
          "heatmapgl": [
           {
            "colorbar": {
             "outlinewidth": 0,
             "ticks": ""
            },
            "colorscale": [
             [
              0,
              "#0d0887"
             ],
             [
              0.1111111111111111,
              "#46039f"
             ],
             [
              0.2222222222222222,
              "#7201a8"
             ],
             [
              0.3333333333333333,
              "#9c179e"
             ],
             [
              0.4444444444444444,
              "#bd3786"
             ],
             [
              0.5555555555555556,
              "#d8576b"
             ],
             [
              0.6666666666666666,
              "#ed7953"
             ],
             [
              0.7777777777777778,
              "#fb9f3a"
             ],
             [
              0.8888888888888888,
              "#fdca26"
             ],
             [
              1,
              "#f0f921"
             ]
            ],
            "type": "heatmapgl"
           }
          ],
          "histogram": [
           {
            "marker": {
             "pattern": {
              "fillmode": "overlay",
              "size": 10,
              "solidity": 0.2
             }
            },
            "type": "histogram"
           }
          ],
          "histogram2d": [
           {
            "colorbar": {
             "outlinewidth": 0,
             "ticks": ""
            },
            "colorscale": [
             [
              0,
              "#0d0887"
             ],
             [
              0.1111111111111111,
              "#46039f"
             ],
             [
              0.2222222222222222,
              "#7201a8"
             ],
             [
              0.3333333333333333,
              "#9c179e"
             ],
             [
              0.4444444444444444,
              "#bd3786"
             ],
             [
              0.5555555555555556,
              "#d8576b"
             ],
             [
              0.6666666666666666,
              "#ed7953"
             ],
             [
              0.7777777777777778,
              "#fb9f3a"
             ],
             [
              0.8888888888888888,
              "#fdca26"
             ],
             [
              1,
              "#f0f921"
             ]
            ],
            "type": "histogram2d"
           }
          ],
          "histogram2dcontour": [
           {
            "colorbar": {
             "outlinewidth": 0,
             "ticks": ""
            },
            "colorscale": [
             [
              0,
              "#0d0887"
             ],
             [
              0.1111111111111111,
              "#46039f"
             ],
             [
              0.2222222222222222,
              "#7201a8"
             ],
             [
              0.3333333333333333,
              "#9c179e"
             ],
             [
              0.4444444444444444,
              "#bd3786"
             ],
             [
              0.5555555555555556,
              "#d8576b"
             ],
             [
              0.6666666666666666,
              "#ed7953"
             ],
             [
              0.7777777777777778,
              "#fb9f3a"
             ],
             [
              0.8888888888888888,
              "#fdca26"
             ],
             [
              1,
              "#f0f921"
             ]
            ],
            "type": "histogram2dcontour"
           }
          ],
          "mesh3d": [
           {
            "colorbar": {
             "outlinewidth": 0,
             "ticks": ""
            },
            "type": "mesh3d"
           }
          ],
          "parcoords": [
           {
            "line": {
             "colorbar": {
              "outlinewidth": 0,
              "ticks": ""
             }
            },
            "type": "parcoords"
           }
          ],
          "pie": [
           {
            "automargin": true,
            "type": "pie"
           }
          ],
          "scatter": [
           {
            "fillpattern": {
             "fillmode": "overlay",
             "size": 10,
             "solidity": 0.2
            },
            "type": "scatter"
           }
          ],
          "scatter3d": [
           {
            "line": {
             "colorbar": {
              "outlinewidth": 0,
              "ticks": ""
             }
            },
            "marker": {
             "colorbar": {
              "outlinewidth": 0,
              "ticks": ""
             }
            },
            "type": "scatter3d"
           }
          ],
          "scattercarpet": [
           {
            "marker": {
             "colorbar": {
              "outlinewidth": 0,
              "ticks": ""
             }
            },
            "type": "scattercarpet"
           }
          ],
          "scattergeo": [
           {
            "marker": {
             "colorbar": {
              "outlinewidth": 0,
              "ticks": ""
             }
            },
            "type": "scattergeo"
           }
          ],
          "scattergl": [
           {
            "marker": {
             "colorbar": {
              "outlinewidth": 0,
              "ticks": ""
             }
            },
            "type": "scattergl"
           }
          ],
          "scattermapbox": [
           {
            "marker": {
             "colorbar": {
              "outlinewidth": 0,
              "ticks": ""
             }
            },
            "type": "scattermapbox"
           }
          ],
          "scatterpolar": [
           {
            "marker": {
             "colorbar": {
              "outlinewidth": 0,
              "ticks": ""
             }
            },
            "type": "scatterpolar"
           }
          ],
          "scatterpolargl": [
           {
            "marker": {
             "colorbar": {
              "outlinewidth": 0,
              "ticks": ""
             }
            },
            "type": "scatterpolargl"
           }
          ],
          "scatterternary": [
           {
            "marker": {
             "colorbar": {
              "outlinewidth": 0,
              "ticks": ""
             }
            },
            "type": "scatterternary"
           }
          ],
          "surface": [
           {
            "colorbar": {
             "outlinewidth": 0,
             "ticks": ""
            },
            "colorscale": [
             [
              0,
              "#0d0887"
             ],
             [
              0.1111111111111111,
              "#46039f"
             ],
             [
              0.2222222222222222,
              "#7201a8"
             ],
             [
              0.3333333333333333,
              "#9c179e"
             ],
             [
              0.4444444444444444,
              "#bd3786"
             ],
             [
              0.5555555555555556,
              "#d8576b"
             ],
             [
              0.6666666666666666,
              "#ed7953"
             ],
             [
              0.7777777777777778,
              "#fb9f3a"
             ],
             [
              0.8888888888888888,
              "#fdca26"
             ],
             [
              1,
              "#f0f921"
             ]
            ],
            "type": "surface"
           }
          ],
          "table": [
           {
            "cells": {
             "fill": {
              "color": "#EBF0F8"
             },
             "line": {
              "color": "white"
             }
            },
            "header": {
             "fill": {
              "color": "#C8D4E3"
             },
             "line": {
              "color": "white"
             }
            },
            "type": "table"
           }
          ]
         },
         "layout": {
          "annotationdefaults": {
           "arrowcolor": "#2a3f5f",
           "arrowhead": 0,
           "arrowwidth": 1
          },
          "autotypenumbers": "strict",
          "coloraxis": {
           "colorbar": {
            "outlinewidth": 0,
            "ticks": ""
           }
          },
          "colorscale": {
           "diverging": [
            [
             0,
             "#8e0152"
            ],
            [
             0.1,
             "#c51b7d"
            ],
            [
             0.2,
             "#de77ae"
            ],
            [
             0.3,
             "#f1b6da"
            ],
            [
             0.4,
             "#fde0ef"
            ],
            [
             0.5,
             "#f7f7f7"
            ],
            [
             0.6,
             "#e6f5d0"
            ],
            [
             0.7,
             "#b8e186"
            ],
            [
             0.8,
             "#7fbc41"
            ],
            [
             0.9,
             "#4d9221"
            ],
            [
             1,
             "#276419"
            ]
           ],
           "sequential": [
            [
             0,
             "#0d0887"
            ],
            [
             0.1111111111111111,
             "#46039f"
            ],
            [
             0.2222222222222222,
             "#7201a8"
            ],
            [
             0.3333333333333333,
             "#9c179e"
            ],
            [
             0.4444444444444444,
             "#bd3786"
            ],
            [
             0.5555555555555556,
             "#d8576b"
            ],
            [
             0.6666666666666666,
             "#ed7953"
            ],
            [
             0.7777777777777778,
             "#fb9f3a"
            ],
            [
             0.8888888888888888,
             "#fdca26"
            ],
            [
             1,
             "#f0f921"
            ]
           ],
           "sequentialminus": [
            [
             0,
             "#0d0887"
            ],
            [
             0.1111111111111111,
             "#46039f"
            ],
            [
             0.2222222222222222,
             "#7201a8"
            ],
            [
             0.3333333333333333,
             "#9c179e"
            ],
            [
             0.4444444444444444,
             "#bd3786"
            ],
            [
             0.5555555555555556,
             "#d8576b"
            ],
            [
             0.6666666666666666,
             "#ed7953"
            ],
            [
             0.7777777777777778,
             "#fb9f3a"
            ],
            [
             0.8888888888888888,
             "#fdca26"
            ],
            [
             1,
             "#f0f921"
            ]
           ]
          },
          "colorway": [
           "#636efa",
           "#EF553B",
           "#00cc96",
           "#ab63fa",
           "#FFA15A",
           "#19d3f3",
           "#FF6692",
           "#B6E880",
           "#FF97FF",
           "#FECB52"
          ],
          "font": {
           "color": "#2a3f5f"
          },
          "geo": {
           "bgcolor": "white",
           "lakecolor": "white",
           "landcolor": "#E5ECF6",
           "showlakes": true,
           "showland": true,
           "subunitcolor": "white"
          },
          "hoverlabel": {
           "align": "left"
          },
          "hovermode": "closest",
          "mapbox": {
           "style": "light"
          },
          "paper_bgcolor": "white",
          "plot_bgcolor": "#E5ECF6",
          "polar": {
           "angularaxis": {
            "gridcolor": "white",
            "linecolor": "white",
            "ticks": ""
           },
           "bgcolor": "#E5ECF6",
           "radialaxis": {
            "gridcolor": "white",
            "linecolor": "white",
            "ticks": ""
           }
          },
          "scene": {
           "xaxis": {
            "backgroundcolor": "#E5ECF6",
            "gridcolor": "white",
            "gridwidth": 2,
            "linecolor": "white",
            "showbackground": true,
            "ticks": "",
            "zerolinecolor": "white"
           },
           "yaxis": {
            "backgroundcolor": "#E5ECF6",
            "gridcolor": "white",
            "gridwidth": 2,
            "linecolor": "white",
            "showbackground": true,
            "ticks": "",
            "zerolinecolor": "white"
           },
           "zaxis": {
            "backgroundcolor": "#E5ECF6",
            "gridcolor": "white",
            "gridwidth": 2,
            "linecolor": "white",
            "showbackground": true,
            "ticks": "",
            "zerolinecolor": "white"
           }
          },
          "shapedefaults": {
           "line": {
            "color": "#2a3f5f"
           }
          },
          "ternary": {
           "aaxis": {
            "gridcolor": "white",
            "linecolor": "white",
            "ticks": ""
           },
           "baxis": {
            "gridcolor": "white",
            "linecolor": "white",
            "ticks": ""
           },
           "bgcolor": "#E5ECF6",
           "caxis": {
            "gridcolor": "white",
            "linecolor": "white",
            "ticks": ""
           }
          },
          "title": {
           "x": 0.05
          },
          "xaxis": {
           "automargin": true,
           "gridcolor": "white",
           "linecolor": "white",
           "ticks": "",
           "title": {
            "standoff": 15
           },
           "zerolinecolor": "white",
           "zerolinewidth": 2
          },
          "yaxis": {
           "automargin": true,
           "gridcolor": "white",
           "linecolor": "white",
           "ticks": "",
           "title": {
            "standoff": 15
           },
           "zerolinecolor": "white",
           "zerolinewidth": 2
          }
         }
        },
        "title": {
         "text": "Box Plot of Product Prices"
        },
        "xaxis": {
         "anchor": "y",
         "domain": [
          0,
          1
         ]
        },
        "yaxis": {
         "anchor": "x",
         "domain": [
          0,
          1
         ],
         "title": {
          "text": "price_usd"
         }
        }
       }
      }
     },
     "metadata": {},
     "output_type": "display_data"
    }
   ],
   "source": [
    "# Create a box plot for the price distribution\n",
    "fig_box = px.box(fragrant_data, \n",
    "                  y='price_usd', \n",
    "                  title='Box Plot of Product Prices',\n",
    "                  labels={'price': 'Price'})\n",
    "\n",
    "fig_box.show()"
   ]
  },
  {
   "cell_type": "code",
   "execution_count": 83,
   "metadata": {},
   "outputs": [
    {
     "data": {
      "application/vnd.plotly.v1+json": {
       "config": {
        "plotlyServerURL": "https://plot.ly"
       },
       "data": [
        {
         "alignmentgroup": "True",
         "hovertemplate": "phrase=%{x}<br>Count=%{marker.color}<extra></extra>",
         "legendgroup": "",
         "marker": {
          "color": [
           309,
           256,
           224,
           203,
           184,
           121,
           104,
           97,
           95,
           94,
           94,
           92,
           43,
           26,
           17,
           14,
           14,
           13,
           12,
           6
          ],
          "coloraxis": "coloraxis",
          "pattern": {
           "shape": ""
          }
         },
         "name": "",
         "offsetgroup": "",
         "orientation": "v",
         "showlegend": false,
         "textposition": "auto",
         "type": "bar",
         "x": [
          "Layerable Scent",
          "Unisex/ Genderless Scent",
          "Vegan",
          "Floral Scent",
          "Cruelty-Free",
          "Without Phthalates",
          "Fresh Scent",
          "Clean + Planet Positive",
          "Clean at Sephora",
          "Warm &Spicy Scent",
          "Without Parabens",
          "Woody & Earthy Scent",
          "Hypoallergenic",
          "Refill Available",
          "Without Sulfates SLS & SLES",
          "Without Mineral Oil",
          "Gluten Free",
          "allure 2020 Best of Beauty Award Winner",
          "allure 2022 Best of Beauty Award Winner",
          "Alcohol Free"
         ],
         "xaxis": "x",
         "y": [
          309,
          256,
          224,
          203,
          184,
          121,
          104,
          97,
          95,
          94,
          94,
          92,
          43,
          26,
          17,
          14,
          14,
          13,
          12,
          6
         ],
         "yaxis": "y"
        }
       ],
       "layout": {
        "barmode": "relative",
        "coloraxis": {
         "colorbar": {
          "title": {
           "text": "Count"
          }
         },
         "colorscale": [
          [
           0,
           "#440154"
          ],
          [
           0.1111111111111111,
           "#482878"
          ],
          [
           0.2222222222222222,
           "#3e4989"
          ],
          [
           0.3333333333333333,
           "#31688e"
          ],
          [
           0.4444444444444444,
           "#26828e"
          ],
          [
           0.5555555555555556,
           "#1f9e89"
          ],
          [
           0.6666666666666666,
           "#35b779"
          ],
          [
           0.7777777777777778,
           "#6ece58"
          ],
          [
           0.8888888888888888,
           "#b5de2b"
          ],
          [
           1,
           "#fde725"
          ]
         ]
        },
        "legend": {
         "tracegroupgap": 0
        },
        "template": {
         "data": {
          "bar": [
           {
            "error_x": {
             "color": "#2a3f5f"
            },
            "error_y": {
             "color": "#2a3f5f"
            },
            "marker": {
             "line": {
              "color": "#E5ECF6",
              "width": 0.5
             },
             "pattern": {
              "fillmode": "overlay",
              "size": 10,
              "solidity": 0.2
             }
            },
            "type": "bar"
           }
          ],
          "barpolar": [
           {
            "marker": {
             "line": {
              "color": "#E5ECF6",
              "width": 0.5
             },
             "pattern": {
              "fillmode": "overlay",
              "size": 10,
              "solidity": 0.2
             }
            },
            "type": "barpolar"
           }
          ],
          "carpet": [
           {
            "aaxis": {
             "endlinecolor": "#2a3f5f",
             "gridcolor": "white",
             "linecolor": "white",
             "minorgridcolor": "white",
             "startlinecolor": "#2a3f5f"
            },
            "baxis": {
             "endlinecolor": "#2a3f5f",
             "gridcolor": "white",
             "linecolor": "white",
             "minorgridcolor": "white",
             "startlinecolor": "#2a3f5f"
            },
            "type": "carpet"
           }
          ],
          "choropleth": [
           {
            "colorbar": {
             "outlinewidth": 0,
             "ticks": ""
            },
            "type": "choropleth"
           }
          ],
          "contour": [
           {
            "colorbar": {
             "outlinewidth": 0,
             "ticks": ""
            },
            "colorscale": [
             [
              0,
              "#0d0887"
             ],
             [
              0.1111111111111111,
              "#46039f"
             ],
             [
              0.2222222222222222,
              "#7201a8"
             ],
             [
              0.3333333333333333,
              "#9c179e"
             ],
             [
              0.4444444444444444,
              "#bd3786"
             ],
             [
              0.5555555555555556,
              "#d8576b"
             ],
             [
              0.6666666666666666,
              "#ed7953"
             ],
             [
              0.7777777777777778,
              "#fb9f3a"
             ],
             [
              0.8888888888888888,
              "#fdca26"
             ],
             [
              1,
              "#f0f921"
             ]
            ],
            "type": "contour"
           }
          ],
          "contourcarpet": [
           {
            "colorbar": {
             "outlinewidth": 0,
             "ticks": ""
            },
            "type": "contourcarpet"
           }
          ],
          "heatmap": [
           {
            "colorbar": {
             "outlinewidth": 0,
             "ticks": ""
            },
            "colorscale": [
             [
              0,
              "#0d0887"
             ],
             [
              0.1111111111111111,
              "#46039f"
             ],
             [
              0.2222222222222222,
              "#7201a8"
             ],
             [
              0.3333333333333333,
              "#9c179e"
             ],
             [
              0.4444444444444444,
              "#bd3786"
             ],
             [
              0.5555555555555556,
              "#d8576b"
             ],
             [
              0.6666666666666666,
              "#ed7953"
             ],
             [
              0.7777777777777778,
              "#fb9f3a"
             ],
             [
              0.8888888888888888,
              "#fdca26"
             ],
             [
              1,
              "#f0f921"
             ]
            ],
            "type": "heatmap"
           }
          ],
          "heatmapgl": [
           {
            "colorbar": {
             "outlinewidth": 0,
             "ticks": ""
            },
            "colorscale": [
             [
              0,
              "#0d0887"
             ],
             [
              0.1111111111111111,
              "#46039f"
             ],
             [
              0.2222222222222222,
              "#7201a8"
             ],
             [
              0.3333333333333333,
              "#9c179e"
             ],
             [
              0.4444444444444444,
              "#bd3786"
             ],
             [
              0.5555555555555556,
              "#d8576b"
             ],
             [
              0.6666666666666666,
              "#ed7953"
             ],
             [
              0.7777777777777778,
              "#fb9f3a"
             ],
             [
              0.8888888888888888,
              "#fdca26"
             ],
             [
              1,
              "#f0f921"
             ]
            ],
            "type": "heatmapgl"
           }
          ],
          "histogram": [
           {
            "marker": {
             "pattern": {
              "fillmode": "overlay",
              "size": 10,
              "solidity": 0.2
             }
            },
            "type": "histogram"
           }
          ],
          "histogram2d": [
           {
            "colorbar": {
             "outlinewidth": 0,
             "ticks": ""
            },
            "colorscale": [
             [
              0,
              "#0d0887"
             ],
             [
              0.1111111111111111,
              "#46039f"
             ],
             [
              0.2222222222222222,
              "#7201a8"
             ],
             [
              0.3333333333333333,
              "#9c179e"
             ],
             [
              0.4444444444444444,
              "#bd3786"
             ],
             [
              0.5555555555555556,
              "#d8576b"
             ],
             [
              0.6666666666666666,
              "#ed7953"
             ],
             [
              0.7777777777777778,
              "#fb9f3a"
             ],
             [
              0.8888888888888888,
              "#fdca26"
             ],
             [
              1,
              "#f0f921"
             ]
            ],
            "type": "histogram2d"
           }
          ],
          "histogram2dcontour": [
           {
            "colorbar": {
             "outlinewidth": 0,
             "ticks": ""
            },
            "colorscale": [
             [
              0,
              "#0d0887"
             ],
             [
              0.1111111111111111,
              "#46039f"
             ],
             [
              0.2222222222222222,
              "#7201a8"
             ],
             [
              0.3333333333333333,
              "#9c179e"
             ],
             [
              0.4444444444444444,
              "#bd3786"
             ],
             [
              0.5555555555555556,
              "#d8576b"
             ],
             [
              0.6666666666666666,
              "#ed7953"
             ],
             [
              0.7777777777777778,
              "#fb9f3a"
             ],
             [
              0.8888888888888888,
              "#fdca26"
             ],
             [
              1,
              "#f0f921"
             ]
            ],
            "type": "histogram2dcontour"
           }
          ],
          "mesh3d": [
           {
            "colorbar": {
             "outlinewidth": 0,
             "ticks": ""
            },
            "type": "mesh3d"
           }
          ],
          "parcoords": [
           {
            "line": {
             "colorbar": {
              "outlinewidth": 0,
              "ticks": ""
             }
            },
            "type": "parcoords"
           }
          ],
          "pie": [
           {
            "automargin": true,
            "type": "pie"
           }
          ],
          "scatter": [
           {
            "fillpattern": {
             "fillmode": "overlay",
             "size": 10,
             "solidity": 0.2
            },
            "type": "scatter"
           }
          ],
          "scatter3d": [
           {
            "line": {
             "colorbar": {
              "outlinewidth": 0,
              "ticks": ""
             }
            },
            "marker": {
             "colorbar": {
              "outlinewidth": 0,
              "ticks": ""
             }
            },
            "type": "scatter3d"
           }
          ],
          "scattercarpet": [
           {
            "marker": {
             "colorbar": {
              "outlinewidth": 0,
              "ticks": ""
             }
            },
            "type": "scattercarpet"
           }
          ],
          "scattergeo": [
           {
            "marker": {
             "colorbar": {
              "outlinewidth": 0,
              "ticks": ""
             }
            },
            "type": "scattergeo"
           }
          ],
          "scattergl": [
           {
            "marker": {
             "colorbar": {
              "outlinewidth": 0,
              "ticks": ""
             }
            },
            "type": "scattergl"
           }
          ],
          "scattermapbox": [
           {
            "marker": {
             "colorbar": {
              "outlinewidth": 0,
              "ticks": ""
             }
            },
            "type": "scattermapbox"
           }
          ],
          "scatterpolar": [
           {
            "marker": {
             "colorbar": {
              "outlinewidth": 0,
              "ticks": ""
             }
            },
            "type": "scatterpolar"
           }
          ],
          "scatterpolargl": [
           {
            "marker": {
             "colorbar": {
              "outlinewidth": 0,
              "ticks": ""
             }
            },
            "type": "scatterpolargl"
           }
          ],
          "scatterternary": [
           {
            "marker": {
             "colorbar": {
              "outlinewidth": 0,
              "ticks": ""
             }
            },
            "type": "scatterternary"
           }
          ],
          "surface": [
           {
            "colorbar": {
             "outlinewidth": 0,
             "ticks": ""
            },
            "colorscale": [
             [
              0,
              "#0d0887"
             ],
             [
              0.1111111111111111,
              "#46039f"
             ],
             [
              0.2222222222222222,
              "#7201a8"
             ],
             [
              0.3333333333333333,
              "#9c179e"
             ],
             [
              0.4444444444444444,
              "#bd3786"
             ],
             [
              0.5555555555555556,
              "#d8576b"
             ],
             [
              0.6666666666666666,
              "#ed7953"
             ],
             [
              0.7777777777777778,
              "#fb9f3a"
             ],
             [
              0.8888888888888888,
              "#fdca26"
             ],
             [
              1,
              "#f0f921"
             ]
            ],
            "type": "surface"
           }
          ],
          "table": [
           {
            "cells": {
             "fill": {
              "color": "#EBF0F8"
             },
             "line": {
              "color": "white"
             }
            },
            "header": {
             "fill": {
              "color": "#C8D4E3"
             },
             "line": {
              "color": "white"
             }
            },
            "type": "table"
           }
          ]
         },
         "layout": {
          "annotationdefaults": {
           "arrowcolor": "#2a3f5f",
           "arrowhead": 0,
           "arrowwidth": 1
          },
          "autotypenumbers": "strict",
          "coloraxis": {
           "colorbar": {
            "outlinewidth": 0,
            "ticks": ""
           }
          },
          "colorscale": {
           "diverging": [
            [
             0,
             "#8e0152"
            ],
            [
             0.1,
             "#c51b7d"
            ],
            [
             0.2,
             "#de77ae"
            ],
            [
             0.3,
             "#f1b6da"
            ],
            [
             0.4,
             "#fde0ef"
            ],
            [
             0.5,
             "#f7f7f7"
            ],
            [
             0.6,
             "#e6f5d0"
            ],
            [
             0.7,
             "#b8e186"
            ],
            [
             0.8,
             "#7fbc41"
            ],
            [
             0.9,
             "#4d9221"
            ],
            [
             1,
             "#276419"
            ]
           ],
           "sequential": [
            [
             0,
             "#0d0887"
            ],
            [
             0.1111111111111111,
             "#46039f"
            ],
            [
             0.2222222222222222,
             "#7201a8"
            ],
            [
             0.3333333333333333,
             "#9c179e"
            ],
            [
             0.4444444444444444,
             "#bd3786"
            ],
            [
             0.5555555555555556,
             "#d8576b"
            ],
            [
             0.6666666666666666,
             "#ed7953"
            ],
            [
             0.7777777777777778,
             "#fb9f3a"
            ],
            [
             0.8888888888888888,
             "#fdca26"
            ],
            [
             1,
             "#f0f921"
            ]
           ],
           "sequentialminus": [
            [
             0,
             "#0d0887"
            ],
            [
             0.1111111111111111,
             "#46039f"
            ],
            [
             0.2222222222222222,
             "#7201a8"
            ],
            [
             0.3333333333333333,
             "#9c179e"
            ],
            [
             0.4444444444444444,
             "#bd3786"
            ],
            [
             0.5555555555555556,
             "#d8576b"
            ],
            [
             0.6666666666666666,
             "#ed7953"
            ],
            [
             0.7777777777777778,
             "#fb9f3a"
            ],
            [
             0.8888888888888888,
             "#fdca26"
            ],
            [
             1,
             "#f0f921"
            ]
           ]
          },
          "colorway": [
           "#636efa",
           "#EF553B",
           "#00cc96",
           "#ab63fa",
           "#FFA15A",
           "#19d3f3",
           "#FF6692",
           "#B6E880",
           "#FF97FF",
           "#FECB52"
          ],
          "font": {
           "color": "#2a3f5f"
          },
          "geo": {
           "bgcolor": "white",
           "lakecolor": "white",
           "landcolor": "#E5ECF6",
           "showlakes": true,
           "showland": true,
           "subunitcolor": "white"
          },
          "hoverlabel": {
           "align": "left"
          },
          "hovermode": "closest",
          "mapbox": {
           "style": "light"
          },
          "paper_bgcolor": "white",
          "plot_bgcolor": "#E5ECF6",
          "polar": {
           "angularaxis": {
            "gridcolor": "white",
            "linecolor": "white",
            "ticks": ""
           },
           "bgcolor": "#E5ECF6",
           "radialaxis": {
            "gridcolor": "white",
            "linecolor": "white",
            "ticks": ""
           }
          },
          "scene": {
           "xaxis": {
            "backgroundcolor": "#E5ECF6",
            "gridcolor": "white",
            "gridwidth": 2,
            "linecolor": "white",
            "showbackground": true,
            "ticks": "",
            "zerolinecolor": "white"
           },
           "yaxis": {
            "backgroundcolor": "#E5ECF6",
            "gridcolor": "white",
            "gridwidth": 2,
            "linecolor": "white",
            "showbackground": true,
            "ticks": "",
            "zerolinecolor": "white"
           },
           "zaxis": {
            "backgroundcolor": "#E5ECF6",
            "gridcolor": "white",
            "gridwidth": 2,
            "linecolor": "white",
            "showbackground": true,
            "ticks": "",
            "zerolinecolor": "white"
           }
          },
          "shapedefaults": {
           "line": {
            "color": "#2a3f5f"
           }
          },
          "ternary": {
           "aaxis": {
            "gridcolor": "white",
            "linecolor": "white",
            "ticks": ""
           },
           "baxis": {
            "gridcolor": "white",
            "linecolor": "white",
            "ticks": ""
           },
           "bgcolor": "#E5ECF6",
           "caxis": {
            "gridcolor": "white",
            "linecolor": "white",
            "ticks": ""
           }
          },
          "title": {
           "x": 0.05
          },
          "xaxis": {
           "automargin": true,
           "gridcolor": "white",
           "linecolor": "white",
           "ticks": "",
           "title": {
            "standoff": 15
           },
           "zerolinecolor": "white",
           "zerolinewidth": 2
          },
          "yaxis": {
           "automargin": true,
           "gridcolor": "white",
           "linecolor": "white",
           "ticks": "",
           "title": {
            "standoff": 15
           },
           "zerolinecolor": "white",
           "zerolinewidth": 2
          }
         }
        },
        "title": {
         "text": "Most Popular Phrases in Highlights"
        },
        "xaxis": {
         "anchor": "y",
         "domain": [
          0,
          1
         ],
         "title": {
          "text": "phrase"
         }
        },
        "yaxis": {
         "anchor": "x",
         "domain": [
          0,
          1
         ],
         "title": {
          "text": "Count"
         }
        }
       }
      }
     },
     "metadata": {},
     "output_type": "display_data"
    }
   ],
   "source": [
    "from collections import Counter\n",
    "# Initialize a Counter to count phrases\n",
    "phrase_counter = Counter()\n",
    "\n",
    "# Iterate through the highlights to count phrases\n",
    "for highlight in fragrant_data['highlights']:\n",
    "    if isinstance(highlight, str):  # Ensure it's a string\n",
    "        phrases = eval(highlight)  # Convert string representation of list to actual list\n",
    "        phrase_counter.update(phrases)\n",
    "    else:\n",
    "        print(f\"Unexpected type: {type(highlight)}\")\n",
    "\n",
    "# Get the most common phrases and their counts\n",
    "most_common_phrases = phrase_counter.most_common(20)  # Adjust the number of phrases to display\n",
    "if most_common_phrases:\n",
    "    phrases, counts = zip(*most_common_phrases)\n",
    "    popular_phrases = pd.DataFrame({'phrase': phrases, 'count': counts})\n",
    "\n",
    "    # Plotting the most popular phrases\n",
    "    fig3 = px.bar(popular_phrases, \n",
    "                   x='phrase', \n",
    "                   y='count',\n",
    "                   title='Most Popular Phrases in Highlights',\n",
    "                   labels={'count': 'Count'},\n",
    "                   color='count',\n",
    "                   color_continuous_scale=px.colors.sequential.Viridis)\n",
    "\n",
    "    fig3.show()\n",
    "else:\n",
    "    print(\"No common phrases found.\")"
   ]
  }
 ],
 "metadata": {
  "kernelspec": {
   "display_name": "ds4003",
   "language": "python",
   "name": "python3"
  },
  "language_info": {
   "codemirror_mode": {
    "name": "ipython",
    "version": 3
   },
   "file_extension": ".py",
   "mimetype": "text/x-python",
   "name": "python",
   "nbconvert_exporter": "python",
   "pygments_lexer": "ipython3",
   "version": "3.8.18"
  }
 },
 "nbformat": 4,
 "nbformat_minor": 2
}
