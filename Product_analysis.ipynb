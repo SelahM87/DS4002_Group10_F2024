{
 "cells": [
  {
   "cell_type": "code",
   "execution_count": 57,
   "metadata": {},
   "outputs": [],
   "source": [
    "\n",
    "import pandas as pd\n",
    "import plotly.express as px\n",
    "products_df = pd.read_csv(\"/Users/selahmitchell/Desktop/DS interactive app/plotly-dash/product_info.csv\")"
   ]
  },
  {
   "cell_type": "code",
   "execution_count": 86,
   "metadata": {},
   "outputs": [
    {
     "name": "stdout",
     "output_type": "stream",
     "text": [
      "<class 'pandas.core.frame.DataFrame'>\n",
      "Index: 600 entries, 1 to 8490\n",
      "Data columns (total 27 columns):\n",
      " #   Column              Non-Null Count  Dtype  \n",
      "---  ------              --------------  -----  \n",
      " 0   product_id          600 non-null    object \n",
      " 1   product_name        600 non-null    object \n",
      " 2   brand_id            600 non-null    int64  \n",
      " 3   brand_name          600 non-null    object \n",
      " 4   loves_count         600 non-null    int64  \n",
      " 5   rating              600 non-null    float64\n",
      " 6   reviews             600 non-null    float64\n",
      " 7   size                594 non-null    object \n",
      " 8   variation_type      594 non-null    object \n",
      " 9   variation_value     592 non-null    object \n",
      " 10  variation_desc      1 non-null      object \n",
      " 11  ingredients         579 non-null    object \n",
      " 12  price_usd           600 non-null    float64\n",
      " 13  value_price_usd     4 non-null      float64\n",
      " 14  sale_price_usd      8 non-null      float64\n",
      " 15  limited_edition     600 non-null    int64  \n",
      " 16  new                 600 non-null    int64  \n",
      " 17  online_only         600 non-null    int64  \n",
      " 18  out_of_stock        600 non-null    int64  \n",
      " 19  sephora_exclusive   600 non-null    int64  \n",
      " 20  highlights          600 non-null    object \n",
      " 21  primary_category    600 non-null    object \n",
      " 22  secondary_category  599 non-null    object \n",
      " 23  tertiary_category   593 non-null    object \n",
      " 24  child_count         600 non-null    int64  \n",
      " 25  child_max_price     307 non-null    float64\n",
      " 26  child_min_price     307 non-null    float64\n",
      "dtypes: float64(7), int64(8), object(12)\n",
      "memory usage: 131.2+ KB\n"
     ]
    }
   ],
   "source": [
    "fragrant_data.info()"
   ]
  },
  {
   "cell_type": "code",
   "execution_count": null,
   "metadata": {},
   "outputs": [],
   "source": []
  },
  {
   "cell_type": "code",
   "execution_count": 42,
   "metadata": {},
   "outputs": [
    {
     "data": {
      "text/plain": [
       "<bound method NDFrame.head of      product_id                      product_name  brand_id  \\\n",
       "0       P473671           Fragrance Discovery Set      6342   \n",
       "1       P473668           La Habana Eau de Parfum      6342   \n",
       "2       P473662         Rainbow Bar Eau de Parfum      6342   \n",
       "3       P473660              Kasbah Eau de Parfum      6342   \n",
       "4       P473658         Purple Haze Eau de Parfum      6342   \n",
       "...         ...                               ...       ...   \n",
       "8487    P501330              Black Opium Gift Set      1070   \n",
       "8488    P504430      Libre Eau de Parfum Gift Set      1070   \n",
       "8490    P500874             L'Homme Eau de Parfum      1070   \n",
       "8491    P504428  Mon Paris Eau de Parfum Gift Set      1070   \n",
       "8492    P504448          Y Eau de Parfum Gift Set      1070   \n",
       "\n",
       "              brand_name  loves_count  rating  reviews            size  \\\n",
       "0                  19-69         6320  3.6364     11.0             NaN   \n",
       "1                  19-69         3827  4.1538     13.0  3.4 oz/ 100 mL   \n",
       "2                  19-69         3253  4.2500     16.0  3.4 oz/ 100 mL   \n",
       "3                  19-69         3018  4.4762     21.0  3.4 oz/ 100 mL   \n",
       "4                  19-69         2691  3.2308     13.0  3.4 oz/ 100 mL   \n",
       "...                  ...          ...     ...      ...             ...   \n",
       "8487  Yves Saint Laurent         3086  3.5000      2.0             NaN   \n",
       "8488  Yves Saint Laurent         2864  5.0000      1.0             NaN   \n",
       "8490  Yves Saint Laurent         2319  4.6367    556.0    2 oz / 60 mL   \n",
       "8491  Yves Saint Laurent         1475  5.0000      2.0             NaN   \n",
       "8492  Yves Saint Laurent          840     NaN      NaN             NaN   \n",
       "\n",
       "                          variation_type                   variation_value  \\\n",
       "0                                    NaN                               NaN   \n",
       "1     Size + Concentration + Formulation                    3.4 oz/ 100 mL   \n",
       "2     Size + Concentration + Formulation                    3.4 oz/ 100 mL   \n",
       "3     Size + Concentration + Formulation                    3.4 oz/ 100 mL   \n",
       "4     Size + Concentration + Formulation                    3.4 oz/ 100 mL   \n",
       "...                                  ...                               ...   \n",
       "8487                                 NaN                               NaN   \n",
       "8488                                 NaN                               NaN   \n",
       "8490  Size + Concentration + Formulation  2 oz / 60 mL eau de parfum spray   \n",
       "8491                                 NaN                               NaN   \n",
       "8492                                 NaN                               NaN   \n",
       "\n",
       "      ... online_only out_of_stock  sephora_exclusive  \\\n",
       "0     ...           1            0                  0   \n",
       "1     ...           1            0                  0   \n",
       "2     ...           1            0                  0   \n",
       "3     ...           1            0                  0   \n",
       "4     ...           1            0                  0   \n",
       "...   ...         ...          ...                ...   \n",
       "8487  ...           0            1                  0   \n",
       "8488  ...           1            1                  0   \n",
       "8490  ...           0            0                  0   \n",
       "8491  ...           1            1                  0   \n",
       "8492  ...           1            0                  0   \n",
       "\n",
       "                                             highlights  primary_category  \\\n",
       "0     ['Unisex/ Genderless Scent', 'Warm &Spicy Scen...         Fragrance   \n",
       "1     ['Unisex/ Genderless Scent', 'Layerable Scent'...         Fragrance   \n",
       "2     ['Unisex/ Genderless Scent', 'Layerable Scent'...         Fragrance   \n",
       "3     ['Unisex/ Genderless Scent', 'Layerable Scent'...         Fragrance   \n",
       "4     ['Unisex/ Genderless Scent', 'Layerable Scent'...         Fragrance   \n",
       "...                                                 ...               ...   \n",
       "8487                                                NaN         Fragrance   \n",
       "8488                                                NaN         Fragrance   \n",
       "8490        ['Layerable Scent', 'Woody & Earthy Scent']         Fragrance   \n",
       "8491                                                NaN         Fragrance   \n",
       "8492                                                NaN         Fragrance   \n",
       "\n",
       "      secondary_category  tertiary_category  child_count  child_max_price  \\\n",
       "0      Value & Gift Sets  Perfume Gift Sets            0              NaN   \n",
       "1                  Women            Perfume            2             85.0   \n",
       "2                  Women            Perfume            2             75.0   \n",
       "3                  Women            Perfume            2             75.0   \n",
       "4                  Women            Perfume            2             75.0   \n",
       "...                  ...                ...          ...              ...   \n",
       "8487   Value & Gift Sets  Perfume Gift Sets            0              NaN   \n",
       "8488   Value & Gift Sets  Perfume Gift Sets            0              NaN   \n",
       "8490                 Men            Cologne            1            129.0   \n",
       "8491   Value & Gift Sets  Perfume Gift Sets            0              NaN   \n",
       "8492   Value & Gift Sets  Cologne Gift Sets            0              NaN   \n",
       "\n",
       "      child_min_price  \n",
       "0                 NaN  \n",
       "1                30.0  \n",
       "2                30.0  \n",
       "3                30.0  \n",
       "4                30.0  \n",
       "...               ...  \n",
       "8487              NaN  \n",
       "8488              NaN  \n",
       "8490            129.0  \n",
       "8491              NaN  \n",
       "8492              NaN  \n",
       "\n",
       "[1432 rows x 27 columns]>"
      ]
     },
     "execution_count": 42,
     "metadata": {},
     "output_type": "execute_result"
    }
   ],
   "source": [
    "\n",
    "fragrant_data = products_df[products_df['primary_category'] == 'Fragrance']\n",
    "fragrant_data.head"
   ]
  },
  {
   "cell_type": "code",
   "execution_count": 43,
   "metadata": {},
   "outputs": [
    {
     "name": "stdout",
     "output_type": "stream",
     "text": [
      "<class 'pandas.core.frame.DataFrame'>\n",
      "Index: 1339 entries, 0 to 8491\n",
      "Data columns (total 27 columns):\n",
      " #   Column              Non-Null Count  Dtype  \n",
      "---  ------              --------------  -----  \n",
      " 0   product_id          1339 non-null   object \n",
      " 1   product_name        1339 non-null   object \n",
      " 2   brand_id            1339 non-null   int64  \n",
      " 3   brand_name          1339 non-null   object \n",
      " 4   loves_count         1339 non-null   int64  \n",
      " 5   rating              1339 non-null   float64\n",
      " 6   reviews             1339 non-null   float64\n",
      " 7   size                1194 non-null   object \n",
      " 8   variation_type      1176 non-null   object \n",
      " 9   variation_value     1171 non-null   object \n",
      " 10  variation_desc      1 non-null      object \n",
      " 11  ingredients         1186 non-null   object \n",
      " 12  price_usd           1339 non-null   float64\n",
      " 13  value_price_usd     61 non-null     float64\n",
      " 14  sale_price_usd      52 non-null     float64\n",
      " 15  limited_edition     1339 non-null   int64  \n",
      " 16  new                 1339 non-null   int64  \n",
      " 17  online_only         1339 non-null   int64  \n",
      " 18  out_of_stock        1339 non-null   int64  \n",
      " 19  sephora_exclusive   1339 non-null   int64  \n",
      " 20  highlights          814 non-null    object \n",
      " 21  primary_category    1339 non-null   object \n",
      " 22  secondary_category  1338 non-null   object \n",
      " 23  tertiary_category   1325 non-null   object \n",
      " 24  child_count         1339 non-null   int64  \n",
      " 25  child_max_price     567 non-null    float64\n",
      " 26  child_min_price     567 non-null    float64\n",
      "dtypes: float64(7), int64(8), object(12)\n",
      "memory usage: 292.9+ KB\n"
     ]
    }
   ],
   "source": [
    "# Filter out rows with no reviews (assuming the reviews are in a column named 'reviews')\n",
    "fragrant_data = fragrant_data[fragrant_data['reviews'].notnull()]\n",
    "\n",
    "# 1339 fragrants with reviews\n",
    "#print(fragrant_data)\n",
    "fragrant_data.info()"
   ]
  },
  {
   "cell_type": "code",
   "execution_count": 44,
   "metadata": {},
   "outputs": [
    {
     "name": "stdout",
     "output_type": "stream",
     "text": [
      "['Perfume Gift Sets' 'Perfume' 'Rollerballs & Travel Size' 'Cologne'\n",
      " 'Diffusers' 'Candles' nan 'Cologne Gift Sets' 'Body Mist & Hair Mist']\n"
     ]
    }
   ],
   "source": [
    "print(fragrant_data['tertiary_category'].unique())"
   ]
  },
  {
   "cell_type": "code",
   "execution_count": 45,
   "metadata": {},
   "outputs": [
    {
     "name": "stdout",
     "output_type": "stream",
     "text": [
      "     product_id                       product_name  brand_id  \\\n",
      "1       P473668            La Habana Eau de Parfum      6342   \n",
      "2       P473662          Rainbow Bar Eau de Parfum      6342   \n",
      "3       P473660               Kasbah Eau de Parfum      6342   \n",
      "4       P473658          Purple Haze Eau de Parfum      6342   \n",
      "5       P473661  Kasbah Eau de Parfum Travel Spray      6342   \n",
      "...         ...                                ...       ...   \n",
      "8479    P500170  Mon Paris Eau de Toilette Lumiere      1070   \n",
      "8481    P383083             L’Homme Parfum Intense      1070   \n",
      "8483    P460446                  L'Homme Le Parfum      1070   \n",
      "8486    P457262                      Y Eau Fraiche      1070   \n",
      "8490    P500874              L'Homme Eau de Parfum      1070   \n",
      "\n",
      "              brand_name  loves_count  rating  reviews             size  \\\n",
      "1                  19-69         3827  4.1538     13.0   3.4 oz/ 100 mL   \n",
      "2                  19-69         3253  4.2500     16.0   3.4 oz/ 100 mL   \n",
      "3                  19-69         3018  4.4762     21.0   3.4 oz/ 100 mL   \n",
      "4                  19-69         2691  3.2308     13.0   3.4 oz/ 100 mL   \n",
      "5                  19-69         2448  4.4762     21.0  0.25 oz/ 7.5 mL   \n",
      "...                  ...          ...     ...      ...              ...   \n",
      "8479  Yves Saint Laurent         5164  4.6214    346.0   1.7 oz / 50 mL   \n",
      "8481  Yves Saint Laurent         4369  4.5795     88.0   3.3 oz/ 100 mL   \n",
      "8483  Yves Saint Laurent         3812  5.0000      6.0   3.3 oz/ 100 mL   \n",
      "8486  Yves Saint Laurent         3089  4.7333    150.0   3.4 oz/ 100 mL   \n",
      "8490  Yves Saint Laurent         2319  4.6367    556.0     2 oz / 60 mL   \n",
      "\n",
      "                          variation_type                      variation_value  \\\n",
      "1     Size + Concentration + Formulation                       3.4 oz/ 100 mL   \n",
      "2     Size + Concentration + Formulation                       3.4 oz/ 100 mL   \n",
      "3     Size + Concentration + Formulation                       3.4 oz/ 100 mL   \n",
      "4     Size + Concentration + Formulation                       3.4 oz/ 100 mL   \n",
      "5     Size + Concentration + Formulation  0.25 oz/ 7.5 mL Eau de Parfum Spray   \n",
      "...                                  ...                                  ...   \n",
      "8479  Size + Concentration + Formulation                       1.7 oz / 50 mL   \n",
      "8481  Size + Concentration + Formulation   3.3 oz/ 100 mL Eau de Parfum Spray   \n",
      "8483  Size + Concentration + Formulation                       3.3 oz/ 100 mL   \n",
      "8486  Size + Concentration + Formulation                3.4 oz/ 100 mL  Spray   \n",
      "8490  Size + Concentration + Formulation     2 oz / 60 mL eau de parfum spray   \n",
      "\n",
      "      ... online_only out_of_stock  sephora_exclusive  \\\n",
      "1     ...           1            0                  0   \n",
      "2     ...           1            0                  0   \n",
      "3     ...           1            0                  0   \n",
      "4     ...           1            0                  0   \n",
      "5     ...           1            0                  0   \n",
      "...   ...         ...          ...                ...   \n",
      "8479  ...           0            0                  0   \n",
      "8481  ...           0            1                  0   \n",
      "8483  ...           0            0                  0   \n",
      "8486  ...           0            1                  0   \n",
      "8490  ...           0            0                  0   \n",
      "\n",
      "                                             highlights  primary_category  \\\n",
      "1     ['Unisex/ Genderless Scent', 'Layerable Scent'...         Fragrance   \n",
      "2     ['Unisex/ Genderless Scent', 'Layerable Scent'...         Fragrance   \n",
      "3     ['Unisex/ Genderless Scent', 'Layerable Scent'...         Fragrance   \n",
      "4     ['Unisex/ Genderless Scent', 'Layerable Scent'...         Fragrance   \n",
      "5     ['Warm &Spicy Scent', 'Unisex/ Genderless Scen...         Fragrance   \n",
      "...                                                 ...               ...   \n",
      "8479                                                NaN         Fragrance   \n",
      "8481                                                NaN         Fragrance   \n",
      "8483                                                NaN         Fragrance   \n",
      "8486                 ['Fresh Scent', 'Layerable Scent']         Fragrance   \n",
      "8490        ['Layerable Scent', 'Woody & Earthy Scent']         Fragrance   \n",
      "\n",
      "      secondary_category          tertiary_category  child_count  \\\n",
      "1                  Women                    Perfume            2   \n",
      "2                  Women                    Perfume            2   \n",
      "3                  Women                    Perfume            2   \n",
      "4                  Women                    Perfume            2   \n",
      "5                  Women  Rollerballs & Travel Size            0   \n",
      "...                  ...                        ...          ...   \n",
      "8479               Women                    Perfume            1   \n",
      "8481                 Men                    Cologne            0   \n",
      "8483                 Men                    Cologne            1   \n",
      "8486                 Men                    Cologne            0   \n",
      "8490                 Men                    Cologne            1   \n",
      "\n",
      "      child_max_price  child_min_price  \n",
      "1                85.0             30.0  \n",
      "2                75.0             30.0  \n",
      "3                75.0             30.0  \n",
      "4                75.0             30.0  \n",
      "5                 NaN              NaN  \n",
      "...               ...              ...  \n",
      "8479            125.0            125.0  \n",
      "8481              NaN              NaN  \n",
      "8483            119.0            119.0  \n",
      "8486              NaN              NaN  \n",
      "8490            129.0            129.0  \n",
      "\n",
      "[975 rows x 27 columns]\n"
     ]
    }
   ],
   "source": [
    "fragrant_data = fragrant_data[~fragrant_data['tertiary_category'].isin(['Candles', 'Diffusers', 'Body Mist & Hair Mist','Cologne Gift Sets','Perfume Gift Sets'])]\n",
    "\n",
    "print(fragrant_data)"
   ]
  },
  {
   "cell_type": "code",
   "execution_count": 47,
   "metadata": {},
   "outputs": [
    {
     "name": "stdout",
     "output_type": "stream",
     "text": [
      "     product_id                       product_name  brand_id  \\\n",
      "1       P473668            La Habana Eau de Parfum      6342   \n",
      "2       P473662          Rainbow Bar Eau de Parfum      6342   \n",
      "3       P473660               Kasbah Eau de Parfum      6342   \n",
      "4       P473658          Purple Haze Eau de Parfum      6342   \n",
      "5       P473661  Kasbah Eau de Parfum Travel Spray      6342   \n",
      "...         ...                                ...       ...   \n",
      "8476    P432087              L'Homme Cologne Bleue      1070   \n",
      "8477    P500062                  Y Eau de Toilette      1070   \n",
      "8478    P433904    Mon Paris Couture Eau de Parfum      1070   \n",
      "8486    P457262                      Y Eau Fraiche      1070   \n",
      "8490    P500874              L'Homme Eau de Parfum      1070   \n",
      "\n",
      "              brand_name  loves_count  rating  reviews             size  \\\n",
      "1                  19-69         3827  4.1538     13.0   3.4 oz/ 100 mL   \n",
      "2                  19-69         3253  4.2500     16.0   3.4 oz/ 100 mL   \n",
      "3                  19-69         3018  4.4762     21.0   3.4 oz/ 100 mL   \n",
      "4                  19-69         2691  3.2308     13.0   3.4 oz/ 100 mL   \n",
      "5                  19-69         2448  4.4762     21.0  0.25 oz/ 7.5 mL   \n",
      "...                  ...          ...     ...      ...              ...   \n",
      "8476  Yves Saint Laurent         6318  4.6071    112.0      2 oz/ 60 mL   \n",
      "8477  Yves Saint Laurent         6095  4.7365   1203.0  3.4 oz / 100 mL   \n",
      "8478  Yves Saint Laurent         5772  4.6512     43.0      1 oz/ 30 mL   \n",
      "8486  Yves Saint Laurent         3089  4.7333    150.0   3.4 oz/ 100 mL   \n",
      "8490  Yves Saint Laurent         2319  4.6367    556.0     2 oz / 60 mL   \n",
      "\n",
      "                          variation_type  \\\n",
      "1     Size + Concentration + Formulation   \n",
      "2     Size + Concentration + Formulation   \n",
      "3     Size + Concentration + Formulation   \n",
      "4     Size + Concentration + Formulation   \n",
      "5     Size + Concentration + Formulation   \n",
      "...                                  ...   \n",
      "8476  Size + Concentration + Formulation   \n",
      "8477  Size + Concentration + Formulation   \n",
      "8478  Size + Concentration + Formulation   \n",
      "8486  Size + Concentration + Formulation   \n",
      "8490  Size + Concentration + Formulation   \n",
      "\n",
      "                            variation_value  ... online_only out_of_stock  \\\n",
      "1                            3.4 oz/ 100 mL  ...           1            0   \n",
      "2                            3.4 oz/ 100 mL  ...           1            0   \n",
      "3                            3.4 oz/ 100 mL  ...           1            0   \n",
      "4                            3.4 oz/ 100 mL  ...           1            0   \n",
      "5       0.25 oz/ 7.5 mL Eau de Parfum Spray  ...           1            0   \n",
      "...                                     ...  ...         ...          ...   \n",
      "8476            2 oz/ 60 mL Eau de Toilette  ...           0            0   \n",
      "8477  3.4 oz / 100 mL eau de toilette spray  ...           0            0   \n",
      "8478                            1 oz/ 30 mL  ...           0            1   \n",
      "8486                  3.4 oz/ 100 mL  Spray  ...           0            1   \n",
      "8490       2 oz / 60 mL eau de parfum spray  ...           0            0   \n",
      "\n",
      "      sephora_exclusive                                         highlights  \\\n",
      "1                     0  ['Unisex/ Genderless Scent', 'Layerable Scent'...   \n",
      "2                     0  ['Unisex/ Genderless Scent', 'Layerable Scent'...   \n",
      "3                     0  ['Unisex/ Genderless Scent', 'Layerable Scent'...   \n",
      "4                     0  ['Unisex/ Genderless Scent', 'Layerable Scent'...   \n",
      "5                     0  ['Warm &Spicy Scent', 'Unisex/ Genderless Scen...   \n",
      "...                 ...                                                ...   \n",
      "8476                  0                 ['Fresh Scent', 'Layerable Scent']   \n",
      "8477                  0        ['Layerable Scent', 'Woody & Earthy Scent']   \n",
      "8478                  0                                   ['Floral Scent']   \n",
      "8486                  0                 ['Fresh Scent', 'Layerable Scent']   \n",
      "8490                  0        ['Layerable Scent', 'Woody & Earthy Scent']   \n",
      "\n",
      "      primary_category  secondary_category          tertiary_category  \\\n",
      "1            Fragrance               Women                    Perfume   \n",
      "2            Fragrance               Women                    Perfume   \n",
      "3            Fragrance               Women                    Perfume   \n",
      "4            Fragrance               Women                    Perfume   \n",
      "5            Fragrance               Women  Rollerballs & Travel Size   \n",
      "...                ...                 ...                        ...   \n",
      "8476         Fragrance                 Men                    Cologne   \n",
      "8477         Fragrance                 Men                    Cologne   \n",
      "8478         Fragrance               Women                    Perfume   \n",
      "8486         Fragrance                 Men                    Cologne   \n",
      "8490         Fragrance                 Men                    Cologne   \n",
      "\n",
      "      child_count  child_max_price  child_min_price  \n",
      "1               2             85.0             30.0  \n",
      "2               2             75.0             30.0  \n",
      "3               2             75.0             30.0  \n",
      "4               2             75.0             30.0  \n",
      "5               0              NaN              NaN  \n",
      "...           ...              ...              ...  \n",
      "8476            1            108.0            108.0  \n",
      "8477            1             98.0             98.0  \n",
      "8478            0              NaN              NaN  \n",
      "8486            0              NaN              NaN  \n",
      "8490            1            129.0            129.0  \n",
      "\n",
      "[600 rows x 27 columns]\n"
     ]
    }
   ],
   "source": [
    "fragrant_data = fragrant_data[fragrant_data['highlights'].notnull()]\n",
    "print(fragrant_data)\n"
   ]
  },
  {
   "cell_type": "code",
   "execution_count": 22,
   "metadata": {},
   "outputs": [
    {
     "name": "stdout",
     "output_type": "stream",
     "text": [
      "[\"['Unisex/ Genderless Scent', 'Warm &Spicy Scent', 'Woody & Earthy Scent', 'Fresh Scent']\"\n",
      " \"['Unisex/ Genderless Scent', 'Layerable Scent', 'Warm &Spicy Scent']\"\n",
      " \"['Unisex/ Genderless Scent', 'Layerable Scent', 'Woody & Earthy Scent']\"\n",
      " \"['Warm &Spicy Scent', 'Unisex/ Genderless Scent', 'Layerable Scent']\"\n",
      " \"['Unisex/ Genderless Scent', 'allure 2022 Best of Beauty Award Winner', 'Fresh Scent']\"\n",
      " \"['Fresh Scent', 'Layerable Scent', 'Unisex/ Genderless Scent']\"\n",
      " \"['Unisex/ Genderless Scent', 'Layerable Scent', 'Fresh Scent']\"\n",
      " \"['Fresh Scent', 'Unisex/ Genderless Scent', 'Layerable Scent']\"\n",
      " \"['Vegan', 'Woody & Earthy Scent', 'Clean + Planet Positive', 'Floral Scent', 'Fresh Scent', 'Cruelty-Free']\"\n",
      " \"['Clean + Planet Positive', 'Vegan', 'Cruelty-Free', 'Fresh Scent', 'Without Parabens', 'Without Phthalates']\"\n",
      " \"['Vegan', 'Clean + Planet Positive', 'Fresh Scent', 'Without Phthalates', 'Without Parabens', 'Cruelty-Free']\"\n",
      " \"['Vegan', 'Woody & Earthy Scent', 'Clean + Planet Positive', 'Without Phthalates', 'Without Parabens', 'Cruelty-Free']\"\n",
      " \"['Clean + Planet Positive', 'Vegan', 'Cruelty-Free', 'Woody & Earthy Scent', 'Without Parabens', 'Without Phthalates']\"\n",
      " \"['Woody & Earthy Scent', 'Clean + Planet Positive', 'Vegan', 'Cruelty-Free', 'Without Parabens', 'Without Phthalates']\"\n",
      " \"['Unisex/ Genderless Scent', 'Fresh Scent']\" nan\n",
      " \"['Floral Scent', 'Layerable Scent', 'Fresh Scent']\"\n",
      " \"['Floral Scent', 'Layerable Scent', 'Warm &Spicy Scent']\"\n",
      " \"['Layerable Scent', 'Floral Scent', 'Fresh Scent']\"\n",
      " \"['Layerable Scent', 'Floral Scent']\"\n",
      " \"['Layerable Scent', 'Fresh Scent']\" \"['Floral Scent']\"\n",
      " \"['Refill Available', 'Floral Scent']\" \"['Floral Scent', 'Fresh Scent']\"\n",
      " \"['Refill Available', 'Fresh Scent']\"\n",
      " \"['Refill Available', 'Woody & Earthy Scent']\"\n",
      " \"['Cream Formula', 'Floral Scent', 'Hydrating', 'Matte Finish', 'Long-wearing']\"\n",
      " \"['Woody & Earthy Scent']\"\n",
      " \"['Unisex/ Genderless Scent', 'Layerable Scent', 'Without Parabens', 'Cruelty-Free']\"\n",
      " \"['Vegan', 'Unisex/ Genderless Scent', 'Without Phthalates', 'Without Parabens', 'Cruelty-Free']\"\n",
      " \"['Vegan', 'Unisex/ Genderless Scent', 'Warm &Spicy Scent', 'Without Phthalates', 'Without Parabens', 'Cruelty-Free']\"\n",
      " \"['Unisex/ Genderless Scent', 'Without Phthalates', 'Without Parabens']\"\n",
      " \"['Unisex/ Genderless Scent', 'Floral Scent', 'Without Phthalates', 'Without Parabens']\"\n",
      " \"['Vegan', 'Unisex/ Genderless Scent', 'Floral Scent', 'Without Phthalates', 'Without Parabens', 'Cruelty-Free']\"\n",
      " \"['Unisex/ Genderless Scent', 'Woody & Earthy Scent', 'Floral Scent', 'Without Phthalates', 'Without Parabens']\"\n",
      " \"['Unisex/ Genderless Scent', 'Woody & Earthy Scent', 'Without Parabens']\"\n",
      " \"['Unisex/ Genderless Scent', 'Warm &Spicy Scent', 'Woody & Earthy Scent', 'Floral Scent', 'Without Phthalates', 'Without Parabens']\"\n",
      " \"['Without Phthalates', 'Without Parabens']\"\n",
      " \"['Unisex/ Genderless Scent', 'Floral Scent', 'Without Parabens']\"\n",
      " \"['Unisex/ Genderless Scent', 'Woody & Earthy Scent', 'Without Phthalates', 'Without Parabens']\"\n",
      " \"['Vegan', 'Woody & Earthy Scent', 'Without Phthalates', 'Without Parabens', 'Cruelty-Free']\"\n",
      " \"['Unisex/ Genderless Scent', 'Warm &Spicy Scent', 'Without Phthalates', 'Without Parabens']\"\n",
      " \"['Unisex/ Genderless Scent', 'Fresh Scent', 'Without Phthalates', 'Without Parabens']\"\n",
      " \"['Floral Scent', 'Layerable Scent']\"\n",
      " \"['Layerable Scent', 'Warm &Spicy Scent', 'Floral Scent']\"\n",
      " \"['Warm &Spicy Scent', 'Layerable Scent']\"\n",
      " \"['Woody & Earthy Scent', 'Layerable Scent']\"\n",
      " \"['Layerable Scent', 'Woody & Earthy Scent']\"\n",
      " \"['Floral Scent', 'Clean + Planet Positive', 'Vegan']\"\n",
      " \"['Vegan', 'Layerable Scent', 'Warm &Spicy Scent', 'Clean + Planet Positive', 'Hypoallergenic']\"\n",
      " \"['Vegan', 'Layerable Scent', 'Clean + Planet Positive', 'Cruelty-Free']\"\n",
      " \"['Woody & Earthy Scent', 'Clean + Planet Positive', 'Unisex/ Genderless Scent', 'Vegan']\"\n",
      " \"['Vegan', 'Layerable Scent', 'Clean + Planet Positive', 'Fresh Scent', 'Hypoallergenic']\"\n",
      " \"['Vegan', 'Floral Scent', 'Clean + Planet Positive', 'Alcohol Free']\"\n",
      " \"['Fresh Scent', 'Clean + Planet Positive', 'Vegan']\"\n",
      " \"['Vegan', 'Unisex/ Genderless Scent', 'Woody & Earthy Scent', 'Clean + Planet Positive', 'Alcohol Free']\"\n",
      " \"['Clean + Planet Positive']\"\n",
      " \"['Woody & Earthy Scent', 'Clean + Planet Positive', 'Vegan']\"\n",
      " \"['Vegan', 'Floral Scent', 'Clean + Planet Positive']\"\n",
      " \"['Vegan', 'Layerable Scent', 'Clean at Sephora', 'Without Phthalates', 'Without Parabens', 'Cruelty-Free']\"\n",
      " \"['Vegan', 'Floral Scent', 'Clean + Planet Positive', 'Cruelty-Free']\"\n",
      " \"['Vegan', 'Clean + Planet Positive', 'Fresh Scent', 'Alcohol Free']\"\n",
      " \"['Vegan', 'Unisex/ Genderless Scent', 'Woody & Earthy Scent', 'Clean + Planet Positive']\"\n",
      " \"['Vegan', 'Woody & Earthy Scent', 'Clean + Planet Positive', 'Alcohol Free']\"\n",
      " \"['Vegan', 'Layerable Scent', 'Warm &Spicy Scent', 'Clean at Sephora', 'Cruelty-Free']\"\n",
      " \"['Vegan', 'Layerable Scent', 'Floral Scent', 'Clean at Sephora', 'Without Parabens', 'Cruelty-Free']\"\n",
      " \"['Unisex/ Genderless Scent', 'Refill Available', 'Customizable']\"\n",
      " \"['Woody & Earthy Scent', 'Without Mineral Oil', 'Without Phthalates', 'Without Parabens', 'Without Sulfates SLS & SLES', 'Cruelty-Free']\"\n",
      " \"['Vegan', 'Layerable Scent', 'Floral Scent']\"\n",
      " \"['Layerable Scent', 'Warm &Spicy Scent', 'Woody & Earthy Scent']\"\n",
      " \"['Warm &Spicy Scent', 'Woody & Earthy Scent', 'Without Phthalates']\"\n",
      " \"['allure 2020 Best of Beauty Award Winner', 'Layerable Scent', 'Floral Scent']\"\n",
      " \"['Vegan', 'Without Phthalates', 'Gluten Free']\"\n",
      " \"['Clean at Sephora', 'Without Phthalates']\"\n",
      " \"['Vegan', 'Layerable Scent', 'Clean at Sephora', 'Cruelty-Free']\"\n",
      " \"['Vegan', 'Clean at Sephora', 'Without Phthalates', 'Gluten Free']\"\n",
      " \"['Without Phthalates', 'Gluten Free', 'Vegan']\"\n",
      " \"['Vegan', 'Layerable Scent', 'Clean at Sephora', 'Without Phthalates']\"\n",
      " \"['Vegan', 'Unisex/ Genderless Scent', 'Clean at Sephora', 'Cruelty-Free']\"\n",
      " \"['Vegan', 'Unisex/ Genderless Scent', 'Layerable Scent', 'Clean + Planet Positive', 'Without Phthalates', 'Cruelty-Free']\"\n",
      " \"['Vegan', 'Unisex/ Genderless Scent', 'Layerable Scent', 'Warm &Spicy Scent', 'Clean + Planet Positive', 'Without Phthalates']\"\n",
      " \"['Vegan', 'Unisex/ Genderless Scent', 'Layerable Scent', 'Clean + Planet Positive', 'Fresh Scent', 'Without Phthalates']\"\n",
      " \"['Vegan', 'Unisex/ Genderless Scent', 'Layerable Scent', 'Woody & Earthy Scent', 'Clean + Planet Positive', 'Without Phthalates']\"\n",
      " \"['Vegan', 'Layerable Scent', 'Clean + Planet Positive', 'Fresh Scent']\"\n",
      " \"['Vegan', 'Clean + Planet Positive', 'Without Phthalates', 'Cruelty-Free']\"\n",
      " \"['allure 2020 Best of Beauty Award Winner', 'Clean + Planet Positive', 'Vegan', 'Warm &Spicy Scent']\"\n",
      " \"['Vegan', 'Clean + Planet Positive', 'Without Phthalates', 'Without Parabens', 'Cruelty-Free']\"\n",
      " \"['Vegan', 'Warm &Spicy Scent', 'Clean + Planet Positive', 'Without Phthalates', 'Without Parabens']\"\n",
      " \"['Clean + Planet Positive', 'Cruelty-Free', 'Vegan', 'Without Parabens', 'Without Phthalates']\"\n",
      " \"['Clean + Planet Positive', 'Vegan', 'Without Parabens', 'Without Phthalates', 'Warm &Spicy Scent']\"\n",
      " \"['Clean + Planet Positive', 'Vegan', 'Layerable Scent']\"\n",
      " \"['Vegan', 'Sustainable Packaging', 'Clean + Planet Positive', 'Without Phthalates', 'Without Parabens', 'Cruelty-Free']\"\n",
      " \"['Clean + Planet Positive', 'Floral Scent', 'Vegan', 'Without Phthalates']\"\n",
      " \"['Vegan', 'Warm &Spicy Scent', 'Clean + Planet Positive', 'Fresh Scent']\"\n",
      " \"['Vegan', 'Clean at Sephora', 'Without Phthalates', 'Without Parabens', 'Cruelty-Free']\"\n",
      " \"['Clean + Planet Positive', 'Vegan', 'Warm &Spicy Scent', 'Without Phthalates']\"\n",
      " \"['Vegan', 'Unisex/ Genderless Scent', 'Clean + Planet Positive', 'Fresh Scent']\"\n",
      " \"['Vegan', 'Warm &Spicy Scent', 'Clean + Planet Positive', 'Without Phthalates']\"\n",
      " \"['Clean at Sephora', 'Cruelty-Free', 'Vegan', 'Without Parabens', 'Without Phthalates']\"\n",
      " \"['Vegan', 'Sustainable Packaging', 'Clean at Sephora', 'Without Sulfates SLS & SLES', 'Cruelty-Free']\"\n",
      " \"['Vegan', 'Clean at Sephora', 'Without Phthalates', 'Cruelty-Free']\"\n",
      " \"['Vegan', 'Unisex/ Genderless Scent', 'Clean + Planet Positive', 'Fresh Scent', 'Without Phthalates']\"\n",
      " \"['Vegan', 'Unisex/ Genderless Scent', 'Layerable Scent', 'Clean + Planet Positive', 'Hypoallergenic']\"\n",
      " \"['Clean + Planet Positive', 'Hypoallergenic', 'Layerable Scent', 'Unisex/ Genderless Scent', 'Vegan']\"\n",
      " \"['Unisex/ Genderless Scent', 'Floral Scent']\"\n",
      " \"['Vegan', 'Floral Scent', 'Cruelty-Free']\"\n",
      " \"['Vegan', 'Woody & Earthy Scent', 'Cruelty-Free']\"\n",
      " \"['Vegan', 'Clean at Sephora', 'Fresh Scent', 'Cruelty-Free']\"\n",
      " \"['Vegan', 'Fresh Scent', 'Cruelty-Free']\"\n",
      " \"['Vegan', 'Warm &Spicy Scent', 'Cruelty-Free']\"\n",
      " \"['Vegan', 'Sustainable Packaging', 'Layerable Scent', 'Cruelty-Free']\"\n",
      " \"['Vegan', 'Sustainable Packaging', 'Floral Scent', 'Without Phthalates', 'Without Parabens', 'Cruelty-Free']\"\n",
      " \"['Vegan', 'Cruelty-Free', 'Sustainable Packaging', 'Without Parabens', 'Without Phthalates', 'Floral Scent']\"\n",
      " \"['Warm &Spicy Scent', 'Woody & Earthy Scent', 'Floral Scent']\"\n",
      " \"['Vegan', 'Unisex/ Genderless Scent', 'Warm &Spicy Scent', 'Fresh Scent', 'Without Phthalates', 'Without Parabens']\"\n",
      " \"['Vegan', 'Unisex/ Genderless Scent', 'Floral Scent', 'Without Phthalates', 'Without Parabens']\"\n",
      " \"['Floral Scent', 'Vegan', 'Fresh Scent', 'Without Phthalates', 'Without Parabens']\"\n",
      " \"['Unisex/ Genderless Scent', 'Woody & Earthy Scent']\"\n",
      " \"['Warm &Spicy Scent', 'Woody & Earthy Scent']\"\n",
      " \"['Layerable Scent', 'Floral Scent', 'Long-wearing']\"\n",
      " \"['Vegan', 'Unisex/ Genderless Scent', 'Layerable Scent', 'Warm &Spicy Scent', 'Woody & Earthy Scent', 'Cruelty-Free']\"\n",
      " \"['allure 2022 Best of Beauty Award Winner', 'Layerable Scent', 'Floral Scent']\"\n",
      " \"['Warm &Spicy Scent', 'Floral Scent']\"\n",
      " \"['Layerable Scent', 'Refill Available', 'Fresh Scent']\"\n",
      " \"['Layerable Scent', 'Refill Available', 'Floral Scent']\"\n",
      " \"['Vegan', 'Layerable Scent', 'Warm &Spicy Scent', 'Clean at Sephora', 'Without Phthalates', 'Without Parabens']\"\n",
      " \"['Vegan', 'Layerable Scent', 'Woody & Earthy Scent', 'Clean at Sephora', 'Without Phthalates', 'Without Parabens']\"\n",
      " \"['Unisex/ Genderless Scent', 'Layerable Scent', 'Warm &Spicy Scent', 'Clean at Sephora', 'Cruelty-Free']\"\n",
      " \"['Sustainable Packaging', 'Woody & Earthy Scent']\"\n",
      " \"['Woody & Earthy Scent', 'Layerable Scent', 'Unisex/ Genderless Scent']\"\n",
      " \"['Layerable Scent', 'Unisex/ Genderless Scent']\"\n",
      " \"['Unisex/ Genderless Scent', 'Layerable Scent']\"\n",
      " \"['Unisex/ Genderless Scent', 'Layerable Scent', 'Floral Scent']\"\n",
      " \"['Floral Scent', 'Without Parabens', 'Without Phthalates']\"\n",
      " \"['Unisex/ Genderless Scent', 'Layerable Scent', 'Fresh Scent', 'Without Phthalates', 'Without Parabens', 'Gluten Free']\"\n",
      " \"['Fresh Scent', 'Without Phthalates', 'Without Parabens']\"\n",
      " \"['Floral Scent', 'Layerable Scent', 'Unisex/ Genderless Scent', 'Gluten Free', 'Without Parabens', 'Without Phthalates']\"\n",
      " \"['Without Phthalates', 'Without Parabens', 'Floral Scent']\"\n",
      " \"['Unisex/ Genderless Scent', 'Layerable Scent', 'Floral Scent', 'Without Phthalates', 'Without Parabens']\"\n",
      " \"['Unisex/ Genderless Scent', 'Layerable Scent', 'Warm &Spicy Scent', 'Hypoallergenic']\"\n",
      " \"['Layerable Scent', 'Woody & Earthy Scent', 'Floral Scent']\"\n",
      " \"['Floral Scent', 'Unisex/ Genderless Scent', 'Layerable Scent']\"\n",
      " \"['Unisex/ Genderless Scent', 'Floral Scent', 'Long-wearing']\"\n",
      " \"['Floral Scent', 'Long-wearing', 'Unisex/ Genderless Scent']\"\n",
      " \"['Floral Scent', 'Unisex/ Genderless Scent']\"\n",
      " \"['Unisex/ Genderless Scent', 'Layerable Scent', 'Cruelty-Free']\"\n",
      " \"['Unisex/ Genderless Scent', 'Layerable Scent', 'Warm &Spicy Scent', 'Woody & Earthy Scent', 'Floral Scent', 'Cruelty-Free']\"\n",
      " \"['Floral Scent', 'Cruelty-Free', 'Unisex/ Genderless Scent', 'Layerable Scent', 'Vegan']\"\n",
      " \"['Vegan', 'Unisex/ Genderless Scent', 'Layerable Scent', 'Floral Scent', 'Cruelty-Free']\"\n",
      " \"['Unisex/ Genderless Scent', 'Layerable Scent', 'Floral Scent', 'Cruelty-Free']\"\n",
      " \"['Layerable Scent', 'Warm &Spicy Scent', 'Cruelty-Free']\"\n",
      " \"['Vegan', 'Unisex/ Genderless Scent', 'Layerable Scent', 'Warm &Spicy Scent']\"\n",
      " \"['Unisex/ Genderless Scent', 'Layerable Scent', 'Warm &Spicy Scent', 'Floral Scent', 'Cruelty-Free']\"\n",
      " \"['allure 2022 Best of Beauty Award Winner']\"\n",
      " \"['Vegan', 'Unisex/ Genderless Scent', 'Layerable Scent', 'Warm &Spicy Scent', 'Cruelty-Free']\"\n",
      " \"['Layerable Scent', 'Warm &Spicy Scent', 'Floral Scent', 'Cruelty-Free']\"\n",
      " \"['Unisex/ Genderless Scent', 'Warm &Spicy Scent']\"\n",
      " \"['Woody & Earthy Scent', 'Unisex/ Genderless Scent']\"\n",
      " \"['Floral Scent', 'Fresh Scent', 'allure 2020 Best of Beauty Award Winner']\"\n",
      " \"['allure 2020 Best of Beauty Award Winner', 'Warm &Spicy Scent', 'Floral Scent']\"\n",
      " \"['Woody & Earthy Scent', 'Vegan', 'Without Parabens', 'Without Sulfates SLS & SLES', 'Clean + Planet Positive']\"\n",
      " \"['Clean + Planet Positive', 'Woody & Earthy Scent', 'Layerable Scent', 'Without Parabens', 'Without Phthalates', 'Vegan']\"\n",
      " \"['Vegan', 'Unisex/ Genderless Scent', 'Woody & Earthy Scent', 'Clean at Sephora']\"\n",
      " \"['Without Parabens', 'Without Phthalates', 'Clean + Planet Positive', 'Unisex/ Genderless Scent', 'Vegan']\"\n",
      " \"['Woody & Earthy Scent', 'Clean + Planet Positive', 'Without Parabens', 'Without Phthalates', 'Vegan']\"\n",
      " \"['Vegan', 'Clean + Planet Positive', 'Without Parabens', 'Woody & Earthy Scent', 'Without Sulfates SLS & SLES']\"\n",
      " \"['Clean + Planet Positive', 'Vegan', 'Without Phthalates', 'Woody & Earthy Scent', 'Without Parabens']\"\n",
      " \"['Woody & Earthy Scent', 'Clean + Planet Positive', 'Vegan', 'Without Phthalates']\"\n",
      " \"['Vegan', 'Clean + Planet Positive', 'Without Phthalates', 'Without Parabens', 'Alcohol Free', 'Cruelty-Free']\"\n",
      " \"['Vegan', 'Unisex/ Genderless Scent', 'Clean + Planet Positive', 'Without Phthalates', 'Without Parabens']\"\n",
      " \"['Vegan', 'Unisex/ Genderless Scent', 'Layerable Scent', 'Clean at Sephora']\"\n",
      " \"['Layerable Scent', 'Clean + Planet Positive', 'Vegan', 'Without Phthalates']\"\n",
      " \"['Alcohol Free', 'Vegan', 'Cruelty-Free', 'Woody & Earthy Scent']\"\n",
      " \"['Fresh Scent', 'Unisex/ Genderless Scent']\"\n",
      " \"['Warm &Spicy Scent', 'Unisex/ Genderless Scent']\"\n",
      " \"['Unisex/ Genderless Scent', 'Warm &Spicy Scent', 'Fresh Scent']\"\n",
      " \"['Woody & Earthy Scent', 'Floral Scent']\"\n",
      " \"['Woody & Earthy Scent', 'Clean at Sephora', 'Good for: Dryness', 'Without Parabens', 'Cruelty-Free']\"\n",
      " \"['Layerable Scent', 'Floral Scent', 'Hydrating', 'All Hair Types', 'Without Parabens', 'Without Sulfates SLS & SLES']\"\n",
      " \"['Floral Scent', 'Refill Available']\"\n",
      " \"['Refill Available', 'Warm &Spicy Scent']\"\n",
      " \"['Floral Scent', 'Long-wearing']\"\n",
      " \"['Warm &Spicy Scent', 'Refill Available']\"\n",
      " \"['allure 2022 Best of Beauty Award Winner', 'Without Mineral Oil', 'Without Phthalates', 'Without Parabens', 'Without Sulfates SLS & SLES']\"\n",
      " \"['Cruelty-Free', 'Vegan', 'Floral Scent', 'Without Phthalates', 'Without Parabens', 'Without Silicones']\"\n",
      " \"['Without Sulfates SLS & SLES', 'Without Parabens', 'Without Phthalates', 'Without Mineral Oil']\"\n",
      " \"['allure 2022 Best of Beauty Award Winner', 'Without Mineral Oil', 'Without Phthalates', 'allure 2021 Best of Beauty Award Winner', 'Without Parabens', 'Without Sulfates SLS & SLES']\"\n",
      " \"['Vegan', 'Without Mineral Oil', 'Without Phthalates', 'Without Parabens', 'Without Sulfates SLS & SLES', 'Cruelty-Free']\"\n",
      " \"['Without Mineral Oil', 'Without Phthalates', 'Without Parabens', 'Without Sulfates SLS & SLES']\"\n",
      " \"['Vegan', 'Warm &Spicy Scent', 'Without Phthalates', 'Without Parabens', 'Without Sulfates SLS & SLES', 'Cruelty-Free']\"\n",
      " \"['Vegan', 'Without Phthalates', 'Without Parabens', 'Without Sulfates SLS & SLES', 'Cruelty-Free']\"\n",
      " \"['Fresh Scent', 'Without Parabens', 'Without Sulfates SLS & SLES']\"\n",
      " \"['Vegan', 'Woody & Earthy Scent', 'Without Phthalates', 'Without Parabens', 'Without Sulfates SLS & SLES', 'Cruelty-Free']\"\n",
      " \"['Vegan', 'Without Mineral Oil', 'Without Phthalates', 'Without Parabens', 'Without Silicones', 'Cruelty-Free']\"\n",
      " \"['Without Sulfates SLS & SLES', 'Without Phthalates', 'Without Parabens', 'Vegan', 'Cruelty-Free', 'Woody & Earthy Scent']\"\n",
      " \"['Cruelty-Free', 'Vegan', 'Without Parabens', 'Without Phthalates', 'Without Sulfates SLS & SLES']\"\n",
      " \"['Woody & Earthy Scent', 'Vegan', 'Without Parabens', 'Without Phthalates']\"\n",
      " \"['Vegan', 'Warm &Spicy Scent', 'Without Phthalates', 'Without Parabens', 'Cruelty-Free']\"\n",
      " \"['Vegan', 'Cruelty-Free', 'Woody & Earthy Scent', 'Without Parabens', 'Without Phthalates']\"\n",
      " \"['Floral Scent', 'Vegan', 'Cruelty-Free', 'Without Parabens', 'Without Phthalates']\"\n",
      " \"['Vegan', 'Fresh Scent', 'Without Phthalates', 'Without Parabens', 'Cruelty-Free']\"\n",
      " \"['Vegan', 'Fresh Scent', 'Without Parabens', 'Without Phthalates']\"\n",
      " \"['Vegan', 'Cruelty-Free', 'Warm &Spicy Scent', 'Without Parabens', 'Without Phthalates']\"\n",
      " \"['Vegan', 'Cruelty-Free', 'Fresh Scent', 'Without Parabens', 'Without Phthalates']\"\n",
      " \"['Fresh Scent', 'Vegan', 'Without Parabens', 'Without Phthalates', 'Layerable Scent']\"\n",
      " \"['Vegan', 'Layerable Scent', 'Floral Scent', 'Without Phthalates', 'Without Parabens']\"\n",
      " \"['Cruelty-Free', 'Layerable Scent', 'Unisex/ Genderless Scent', 'Fresh Scent']\"\n",
      " \"['Warm &Spicy Scent', 'Clean at Sephora', 'Cruelty-Free']\"\n",
      " \"['Layerable Scent', 'Clean at Sephora', 'Cruelty-Free']\"\n",
      " \"['Unisex/ Genderless Scent', 'Clean at Sephora', 'Cruelty-Free']\"\n",
      " \"['Woody & Earthy Scent', 'Clean at Sephora']\"\n",
      " \"['Vegan', 'Warm &Spicy Scent', 'Clean at Sephora', 'Cruelty-Free']\"\n",
      " \"['Floral Scent', 'Clean at Sephora', 'Cruelty-Free']\"\n",
      " \"['Fresh Scent', 'Clean at Sephora', 'Cruelty-Free']\"\n",
      " \"['Floral Scent', 'Cruelty-Free', 'Clean at Sephora']\"\n",
      " \"['Vegan', 'Without Phthalates', 'Without Parabens', 'Without Sulfates SLS & SLES']\"\n",
      " \"['Layerable Scent', 'Warm &Spicy Scent']\"\n",
      " \"['Clean at Sephora', 'Warm &Spicy Scent', 'Hypoallergenic', 'Layerable Scent', 'Vegan', 'Cruelty-Free']\"\n",
      " \"['Clean at Sephora', 'Hypoallergenic', 'Layerable Scent', 'Vegan', 'Cruelty-Free']\"\n",
      " \"['Vegan', 'Layerable Scent', 'Clean at Sephora', 'Fresh Scent', 'Hypoallergenic']\"\n",
      " \"['Vegan', 'Layerable Scent', 'Clean at Sephora', 'Fresh Scent', 'Hypoallergenic', 'Cruelty-Free']\"\n",
      " \"['Vegan', 'Layerable Scent', 'Floral Scent', 'Clean at Sephora', 'Hypoallergenic', 'Cruelty-Free']\"\n",
      " \"['Vegan', 'Layerable Scent', 'Warm &Spicy Scent', 'Clean at Sephora', 'Hypoallergenic', 'Cruelty-Free']\"\n",
      " \"['Clean at Sephora', 'Fresh Scent', 'Hypoallergenic', 'Layerable Scent', 'Vegan', 'Cruelty-Free']\"\n",
      " \"['Vegan', 'Warm &Spicy Scent', 'Clean at Sephora', 'Customizable', 'Hypoallergenic', 'Cruelty-Free']\"\n",
      " \"['Vegan', 'Layerable Scent', 'Woody & Earthy Scent', 'Clean at Sephora', 'Hypoallergenic', 'Cruelty-Free']\"\n",
      " \"['Vegan', 'Clean at Sephora', 'Fresh Scent', 'Customizable', 'Hypoallergenic', 'Cruelty-Free']\"\n",
      " \"['Vegan', 'Layerable Scent', 'Warm &Spicy Scent', 'Without Phthalates', 'Cruelty-Free']\"\n",
      " \"['Vegan', 'Layerable Scent', 'Floral Scent', 'Without Parabens', 'Cruelty-Free']\"\n",
      " \"['Vegan', 'Recyclable Packaging', 'Layerable Scent', 'Floral Scent', 'Without Phthalates', 'Cruelty-Free']\"\n",
      " \"['Vegan', 'Unisex/ Genderless Scent', 'Clean + Planet Positive', 'Without Phthalates', 'Hypoallergenic', 'Cruelty-Free']\"\n",
      " \"['Vegan', 'Unisex/ Genderless Scent', 'Layerable Scent', 'Clean + Planet Positive', 'Hypoallergenic', 'Cruelty-Free']\"\n",
      " \"['Clean + Planet Positive', 'Without Phthalates', 'Cruelty-Free']\"\n",
      " \"['Vegan', 'Unisex/ Genderless Scent', 'Layerable Scent', 'Cruelty-Free']\"\n",
      " \"['Vegan', 'Unisex/ Genderless Scent', 'Layerable Scent', 'Fresh Scent', 'Cruelty-Free']\"\n",
      " \"['Floral Scent', 'Without Parabens']\"\n",
      " \"['Warm &Spicy Scent', 'Floral Scent', 'Without Parabens']\"\n",
      " \"['Floral Scent', 'Fresh Scent', 'Without Parabens']\"\n",
      " \"['Floral Scent', 'Warm &Spicy Scent', 'Without Parabens']\"\n",
      " \"['allure 2021 Best of Beauty Award Winner', 'Warm &Spicy Scent', 'Unisex/ Genderless Scent', 'Layerable Scent']\"\n",
      " \"['Woody & Earthy Scent', 'Unisex/ Genderless Scent', 'Layerable Scent']\"\n",
      " \"['Fresh Scent', 'allure 2020 Best of Beauty Award Winner', 'Unisex/ Genderless Scent', 'Layerable Scent']\"\n",
      " \"['allure 2020 Best of Beauty Award Winner', 'Unisex/ Genderless Scent', 'Layerable Scent', 'Fresh Scent']\"\n",
      " \"['Floral Scent', 'Layerable Scent', 'Unisex/ Genderless Scent']\"\n",
      " \"['allure 2020 Best of Beauty Award Winner', 'Floral Scent']\"\n",
      " \"['Fresh Scent', 'Layerable Scent']\" \"['All Hair Types', 'Fresh Scent']\"\n",
      " \"['Vegan', 'Refill Available', 'Floral Scent']\"\n",
      " \"['Vegan', 'Floral Scent']\" \"['Fresh Scent']\" \"['Warm &Spicy Scent']\"\n",
      " \"['Vegan', 'Floral Scent', 'Without Phthalates', 'Without Parabens', 'Without Sulfates SLS & SLES', 'Cruelty-Free']\"\n",
      " \"['Vegan', 'Fresh Scent', 'Without Phthalates', 'Without Parabens', 'Without Sulfates SLS & SLES', 'Cruelty-Free']\"\n",
      " \"['Without Sulfates SLS & SLES', 'Without Parabens', 'Without Phthalates', 'Cruelty-Free', 'Vegan', 'Fresh Scent']\"\n",
      " \"['Vegan', 'Without Phthalates', 'Without Parabens', 'Without Sulfates SLS & SLES', 'Gluten Free', 'Cruelty-Free']\"\n",
      " \"['Fresh Scent', 'Warm &Spicy Scent', 'Woody & Earthy Scent', 'Floral Scent', 'Layerable Scent']\"\n",
      " \"['Unisex/ Genderless Scent', 'Fresh Scent', 'Layerable Scent']\"\n",
      " \"['Unisex/ Genderless Scent', 'Warm &Spicy Scent', 'Layerable Scent']\"\n",
      " \"['Unisex/ Genderless Scent', 'Woody & Earthy Scent', 'Layerable Scent']\"]\n"
     ]
    }
   ],
   "source": [
    "print(fragrant_data['highlights'].unique())"
   ]
  },
  {
   "cell_type": "code",
   "execution_count": 50,
   "metadata": {},
   "outputs": [
    {
     "name": "stdout",
     "output_type": "stream",
     "text": [
      "{'Clean + Planet Positive', 'Floral Scent', 'Without Parabens', 'Layerable Scent', 'Sustainable Packaging', 'Vegan', 'Woody & Earthy Scent', 'Without Mineral Oil', 'Cruelty-Free', 'Without Phthalates', 'Without Sulfates SLS & SLES', 'Long-wearing', 'Warm &Spicy Scent', 'Refill Available', 'Unisex/ Genderless Scent', 'allure 2021 Best of Beauty Award Winner', 'Without Silicones', 'Fresh Scent', 'allure 2022 Best of Beauty Award Winner', 'Alcohol Free', 'Hypoallergenic', 'allure 2020 Best of Beauty Award Winner', 'Gluten Free', 'Clean at Sephora', 'Customizable'}\n"
     ]
    }
   ],
   "source": [
    "unique_phrases = set()\n",
    "\n",
    "for highlight in fragrant_data['highlights']:\n",
    "    if isinstance(highlight, str):  # Ensure it's a string\n",
    "        phrases = eval(highlight)  # Convert string representation of list to actual list\n",
    "        unique_phrases.update(phrases)\n",
    "    else:\n",
    "        print(f\"Unexpected type: {type(highlight)}\")\n",
    "\n",
    "print(unique_phrases)"
   ]
  },
  {
   "cell_type": "markdown",
   "metadata": {},
   "source": []
  },
  {
   "cell_type": "code",
   "execution_count": 60,
   "metadata": {},
   "outputs": [
    {
     "data": {
      "application/vnd.plotly.v1+json": {
       "config": {
        "plotlyServerURL": "https://plot.ly"
       },
       "data": [
        {
         "alignmentgroup": "True",
         "hovertemplate": "product_name=%{x}<br>Number of Reviews=%{marker.color}<extra></extra>",
         "legendgroup": "",
         "marker": {
          "color": [
           13,
           16,
           21,
           13,
           21,
           13,
           8,
           7,
           8,
           16,
           7,
           4,
           4,
           18,
           9,
           17,
           6,
           21,
           7,
           6,
           4,
           8,
           7,
           9,
           11,
           39,
           37,
           80,
           139,
           50,
           120,
           60,
           65,
           80,
           51,
           36,
           13,
           21,
           14,
           10,
           24,
           1696,
           1696,
           1058,
           1058,
           862,
           249,
           17,
           20,
           668,
           6,
           5,
           6,
           4,
           3,
           2,
           6,
           1,
           3,
           4,
           2,
           4,
           5,
           2,
           4,
           3,
           112,
           8,
           10,
           112,
           41,
           66,
           44,
           66,
           44,
           89,
           41,
           89,
           1280,
           320,
           1280,
           404,
           178,
           181,
           308,
           58,
           401,
           140,
           58,
           17,
           98,
           302,
           218,
           58,
           249,
           94,
           54,
           55,
           102,
           57,
           24,
           34,
           17,
           13,
           102,
           25,
           11,
           52,
           18,
           50,
           38,
           11,
           14,
           12,
           10,
           6,
           82,
           671,
           13,
           17,
           4,
           2507,
           780,
           488,
           218,
           488,
           780,
           2494,
           342,
           438,
           280,
           253,
           118,
           351,
           584,
           131,
           218,
           90,
           75,
           55,
           79,
           35,
           292,
           82,
           129,
           81,
           82,
           33,
           348,
           216,
           57,
           58,
           256,
           49,
           168,
           5,
           19,
           63,
           19,
           48,
           10,
           93,
           78,
           34,
           44,
           13,
           54,
           5,
           3,
           5,
           9,
           1,
           2,
           4,
           2,
           4,
           3,
           2,
           1,
           3,
           11,
           1,
           4,
           3,
           1,
           5,
           3,
           1,
           1,
           63,
           73,
           63,
           21,
           73,
           23,
           16,
           23,
           23,
           12,
           16,
           23,
           12,
           2188,
           892,
           25,
           348,
           340,
           180,
           189,
           367,
           189,
           367,
           104,
           244,
           244,
           55,
           194,
           41,
           34,
           142,
           71,
           194,
           71,
           18,
           142,
           30,
           5,
           25,
           12,
           45,
           55,
           3,
           242,
           544,
           544,
           542,
           262,
           542,
           262,
           120,
           43,
           120,
           20,
           20,
           411,
           616,
           586,
           354,
           586,
           616,
           504,
           230,
           191,
           185,
           235,
           63,
           854,
           1317,
           854,
           1317,
           217,
           408,
           748,
           15,
           671,
           391,
           343,
           671,
           426,
           391,
           343,
           169,
           255,
           156,
           439,
           66,
           23,
           75,
           104,
           22,
           27,
           32,
           94,
           123,
           28,
           26,
           30,
           32,
           22,
           32,
           4,
           2,
           165,
           107,
           94,
           37,
           19,
           215,
           44,
           149,
           614,
           428,
           432,
           104,
           370,
           112,
           120,
           102,
           97,
           117,
           76,
           2,
           28,
           4,
           20,
           3,
           1625,
           84,
           162,
           130,
           2005,
           2005,
           399,
           399,
           226,
           39,
           35,
           35,
           9,
           10,
           964,
           424,
           539,
           539,
           424,
           64,
           181,
           115,
           134,
           66,
           60,
           134,
           226,
           226,
           20,
           160,
           18,
           1256,
           1256,
           808,
           808,
           346,
           35,
           152,
           145,
           21,
           14,
           13,
           19,
           19,
           11,
           8,
           649,
           114,
           98,
           208,
           211,
           129,
           62,
           23,
           30,
           9,
           9,
           2016,
           1645,
           980,
           625,
           1645,
           2016,
           980,
           625,
           277,
           569,
           569,
           277,
           2800,
           1389,
           1047,
           1135,
           296,
           313,
           2786,
           1047,
           1135,
           144,
           356,
           525,
           759,
           1389,
           525,
           236,
           159,
           336,
           313,
           180,
           1102,
           3259,
           3259,
           1231,
           1102,
           715,
           1231,
           944,
           242,
           242,
           185,
           59,
           192,
           161,
           194,
           185,
           194,
           192,
           122,
           122,
           161,
           74,
           74,
           377,
           391,
           178,
           82,
           11,
           11,
           9,
           433,
           433,
           22,
           59,
           39,
           115,
           88,
           20,
           88,
           115,
           65,
           27,
           35,
           65,
           27,
           35,
           1184,
           33,
           1070,
           7,
           579,
           579,
           451,
           453,
           322,
           322,
           220,
           140,
           134,
           146,
           134,
           140,
           246,
           146,
           246,
           78,
           78,
           7,
           10,
           86,
           1138,
           1138,
           342,
           342,
           265,
           218,
           265,
           99,
           116,
           88,
           116,
           40,
           99,
           88,
           29,
           97,
           97,
           67,
           12,
           23,
           2,
           18,
           3,
           1,
           18,
           18,
           734,
           568,
           468,
           452,
           55,
           26,
           7,
           5,
           3,
           1041,
           1210,
           1038,
           824,
           1210,
           943,
           1092,
           824,
           898,
           943,
           618,
           974,
           1912,
           620,
           1092,
           681,
           56,
           620,
           43,
           595,
           898,
           44,
           581,
           1142,
           15,
           13,
           18,
           449,
           642,
           272,
           642,
           247,
           131,
           595,
           496,
           2,
           273,
           421,
           581,
           517,
           411,
           212,
           310,
           245,
           314,
           185,
           156,
           52,
           314,
           322,
           31,
           59,
           69,
           45,
           16,
           19,
           32,
           25,
           22,
           14,
           17,
           17,
           5039,
           4939,
           4953,
           1476,
           1476,
           12,
           5,
           11,
           6,
           9,
           4,
           6,
           5,
           2,
           2,
           1063,
           3550,
           323,
           2848,
           909,
           315,
           61,
           37,
           112,
           1203,
           43,
           150,
           556
          ],
          "coloraxis": "coloraxis",
          "pattern": {
           "shape": ""
          }
         },
         "name": "",
         "offsetgroup": "",
         "orientation": "v",
         "showlegend": false,
         "textposition": "auto",
         "type": "bar",
         "x": [
          "La Habana Eau de Parfum",
          "Rainbow Bar Eau de Parfum",
          "Kasbah Eau de Parfum",
          "Purple Haze Eau de Parfum",
          "Kasbah Eau de Parfum Travel Spray",
          "Purple Haze Eau de Parfum Travel Spray",
          "Invisible Post Eau de Parfum",
          "Capri Eau de Parfum",
          "Invisible Post Eau de Parfum Travel Spray",
          "Rainbow Bar Eau de Parfum Travel Spray",
          "Capri Eau de Parfum Travel Spray",
          "L'air Barbes Eau de Parfum",
          "L'air Barbes Eau de Parfum Travel Spray",
          "The Cape Perfume",
          "Crescent Beach Perfume Travel Spray",
          "Crescent Beach Perfume",
          "Seqouia Eau de Parfum Travel Spray",
          "Sequoia Perfume",
          "Mojave Perfume Travel Spray",
          "The Cape Perfume Travel Spray",
          "Big Sky Eau de Parfum Travel Spray",
          "Big Sky Eau de Parfum",
          "Montecito Perfume Travel Spray",
          "Montecito Perfume",
          "Mojave Perfume",
          "Mirto di Panarea",
          "Arancia di Capri",
          "Colonia",
          "Mediterranean Honeysuckle",
          "Mediterranean Honeysuckle Eau de Parfum Travel Spray",
          "Amber Musk",
          "Hibiscus Palm Eau de Parfum",
          "Ikat Jasmine",
          "Lilac Path",
          "Waterlily Sun",
          "Rose De Grasse",
          "Ikat Jasmine Travel Spray",
          "Wild Geranium Travel Spray",
          "Hibiscus Palm Eau de Parfum Travel Spray",
          "Mediterranean Honeysuckle Mimosa Eau de Parfum",
          "Wild Geranium",
          "My Way Eau de Parfum",
          "My Way Eau de Parfum Travel Spray",
          "My Way Floral Eau de Parfum Travel Spray",
          "My Way Floral Eau de Parfum",
          "Acqua di Gio Eau de Parfum",
          "Armani Code Parfum",
          "My Way Parfum",
          "Armani Code Eau de Toilette",
          "Clémentine California Pure Perfume",
          "203 Raspberry, Vanilla and Blackberry Eau de Parfum Travel Spray",
          "103 Tiare Flower, Jasmine and Hibiscus Eau de Parfum",
          "203 Raspberry, Vanilla and Blackberry Eau de Parfum",
          "103 Tiare Flower, Jasmine and Hibiscus Eau de Parfum Travel Spray",
          "202 Watermelon, Red Currant and Jasmine Eau de Parfum Travel Spray",
          "002 Neroli, Jasmine and White Amber Eau de Parfum Travel Spray",
          "202 Watermelon, Red Currant and Jasmine Eau de Parfum",
          "001 Orange Blossom, Petitgrain and Bergamot Eau de Parfum Travel Spray",
          "002 Neroli, Jasmine and White Amber Eau de Parfum",
          "802 Peony, Lotus and Bamboo Eau de Parfum Travel Spray",
          "801 Sea Spray, Cedar and Grapefruit Eau de Parfum Travel Spray",
          "001 Orange Blossom, Petitgrain and Bergamot Eau de Parfum",
          "802 Peony, Lotus and Bamboo Eau de Parfum",
          "501 Praline, Licorice and Patchouli Eau de Parfum Travel Spray",
          "501 Praline, Licorice and Patchouli Eau de Parfum",
          "801 Sea Spray, Cedar and Grapefruit Eau de Parfum",
          "Woodphoria Eau de Parfum Travel Spray",
          "LES Eau de Parfum Travel Spray",
          "LES Eau de Parfum",
          "Woodphoria Eau de Parfum",
          "Cashmere Kush Eau de Parfum Travel Spray",
          "Flor de la Virgen Eau de Parfum Travel Spray",
          "Marble Fruit Eau de Parfum Travel Spray",
          "Flor de la Virgen Eau de Parfum",
          "Marble Fruit Eau de Parfum",
          "Hinoki Fantôme Eau de Parfum Travel Spray",
          "Cashmere Kush Eau de Parfum",
          "Hinoki Fantôme Eau de Parfum",
          "Her Eau de Parfum",
          "My Burberry Blush",
          "Her Eau de Parfum Rollerball",
          "Her Elixir Eau de Parfum Intense",
          "My Burberry Black",
          "My Burberry",
          "Her Eau De Toilette",
          "Her Blossom Eau de Toilette",
          "Her London Dream Eau de Parfum",
          "Touch",
          "Her Blossom Eau de Toilette Rollerball",
          "Mr. Burberry Eau de Parfum",
          "London for Men",
          "Hero Eau de Toilette",
          "Leila Lou Perfume",
          "Leila Lou Perfume Travel Spray",
          "Rosie Perfume",
          "James Perfume",
          "Rosie Perfume Travel Spray",
          "Leila Lou Perfume Oil",
          "Madie Perfume",
          "Dylan Perfume",
          "James Perfume Travel Spray",
          "Dulce Eau de Parfum",
          "Dylan Perfume Travel Spray",
          "Lake Perfume Travel Spray",
          "Madie Perfume Travel Spray",
          "James Perfume Oil",
          "Angie Perfume Travel Spray",
          "Angie Perfume",
          "Dulce Travel Spray",
          "Lake Perfume",
          "Dulce Perfume Oil",
          "Madie Perfume Oil",
          "Dylan Perfume Oil",
          "Lake Perfume Oil",
          "The Canopy Aroma Diffuser Starter Set",
          "Rituals by Canopy Aroma Kit",
          "Very Good Girl Eau de Parfum",
          "Mini Good Girl Eau de Parfum",
          "Good Girl Blush Eau de Parfum",
          "Very Good Girl Eau de Parfum Rollerball",
          "Bad Boy Cobalt Eau de Parfum",
          "Chloé Eau de Parfum",
          "Roses De Chloé Eau de Toilette",
          "Nomade Eau de Parfum",
          "Love Story",
          "Nomade Eau de Parfum Travel Spray",
          "Roses De Chloé Eau de Toilette Rollerball",
          "Chloé Rollerball",
          "Chloe L'Eau",
          "Chloé Rose Tangerine Eau de Toilette",
          "Reserve - Skin",
          "Reserve - Radiant Nectar",
          "Reserve - Skin Travel Spray",
          "Classic - Skin",
          "Classic - Warm Cotton",
          "Reserve - Rain",
          "Reserve - Acqua Neroli",
          "Reserve - Acqua Neroli Travel Spray",
          "Reserve - Rain Travel Spray",
          "Reserve - Sparkling Sugar",
          "Reserve - Warm Cotton Travel Spray",
          "Reserve - Sparkling Sugar Travel Spray",
          "Reserve - Warm Cotton",
          "Reserve - Lush Fleur",
          "Reserve - Sel Santal",
          "Reserve - Solar Bloom",
          "Reserve - Lush Fleur Travel Spray",
          "Reserve - Sel Santal Travel Spray",
          "Gold Expressive Travel Spray",
          "Gold Expressive",
          "Milk Expressive Travel Spray",
          "Milk Expressive",
          "Book Expressive Travel Spray",
          "Rain",
          "Book Expressive",
          "Milk- Personal Travel Spray",
          "Velvet Expressive Travel Spray",
          "Nectar",
          "Milk+ Bold",
          "Wool",
          "Milk+ Bold Travel Spray",
          "Moss Expressive Travel Spray",
          "Velvet Expressive",
          "W*****y",
          "Mimosa",
          "Magnolia Eau de Parfum",
          "Moss Expressive",
          "Milk- Personal",
          "Book - Personal Travel Spray",
          "Book - Personal",
          "Gold+ Bold",
          "Gold- Personal Travel Spray",
          "Velvet+ Bold Travel Spray",
          "Gold- Personal",
          "Gold+ Bold Travel Spray",
          "Moss+ Bold Travel Spray",
          "Paper- Personal Travel Spray",
          "Velvet- Personal",
          "Book+ Bold Travel Spray",
          "Moss+ Bold",
          "Paper- Personal",
          "Moss- Personal Travel Spray",
          "Velvet+ Bold",
          "Paper Expressive Travel Spray",
          "Velvet- Personal Travel Spray",
          "Paper+ Bold",
          "Book+ Bold",
          "Paper+ Bold Travel Spray",
          "Moss- Personal",
          "01 \"Taunt\" Eau de Parfum Travel Spray",
          "Milk Eau de Parfum Travel Spray",
          "01 \"Taunt\" Eau de Parfum",
          "Dedtergent 01 \"Taunt\"",
          "Milk Eau de Parfum",
          "Red Dakota Eau de Parfum Travel Spray",
          "03 \"Blonde\" Eau de Parfum Travel Spray",
          "Red Dakota Eau de Parfum",
          "Madonna Lilly Eau de Parfum Travel Spray",
          "02 Eau de Parfum Travel Spray",
          "03 \"Blonde\" Eau de Parfum",
          "Madonna Lilly Eau de Parfum",
          "02 Eau de Parfum",
          "Miss Dior Eau de Parfum",
          "Sauvage Eau de Toilette",
          "Miss Dior Eau de Parfum Roller-Pearl",
          "Dolce Lily Eau De Toilette",
          "MYTH Eau de Parfum",
          "SALT Eau de Parfum",
          "SUN FRUIT Eau de Parfum Travel Spray",
          "BEE Eau de Parfum Travel Spray",
          "SUN FRUIT Eau de Parfum",
          "BEE Eau de Parfum",
          "SWEET Eau de Parfum",
          "VANILLA MILK Eau de Parfum Travel Spray",
          "VANILLA MILK Eau de Parfum",
          "RROSE Eau de Parfum",
          "SUPER AMBER Eau de Parfum Travel Spray",
          "SALT or SWEET Perfume Gift Set",
          "MYTH Eau de Parfum Travel Spray",
          "APRÈS Eau de Parfum Travel Spray",
          "SCI FI Eau de Parfum",
          "SUPER AMBER Eau de Parfum",
          "WEST Eau de Parfum",
          "SCI FI Eau de Parfum Travel Spray",
          "APRÈS Eau de Parfum",
          "WEST Eau de Parfum Travel Spray",
          "APRÈS Essentials Gift Set",
          "RIVES Eau de Parfum",
          "ISO GAMMA SUPER Eau de Parfum Travel Spray",
          "ISO GAMMA SUPER Eau de Parfum",
          "FLORIST Eau de Parfum",
          "RROSE Eau de Parfum Travel Spray",
          "Fenty Eau de Parfum",
          "Wonderland Peony Eau De Parfum",
          "Wonderland Peony Eau De Parfum Travel Spray",
          "Wild Vanilla Orchid Eau De Parfum",
          "Sunflower Pop Eau De Parfum",
          "Wild Vanilla Orchid Eau De Parfum  Travel Spray",
          "Sunflower Pop Eau De Parfum Travel Spray",
          "Arizona Bloom Eau de Parfum Travel Spray",
          "Neon Rose Eau De Parfum",
          "Arizona Bloom Eau de Parfum",
          "Black Lotus Eau De Parfum",
          "Black Lotus Eau De Parfum Travel Spray",
          "Ylang Ylang Espresso Eau De Parfum",
          "Irresistible Eau de Parfum",
          "L'Interdit Eau de Parfum",
          "Ange ou Demon Le Secret Eau de Parfum",
          "L'Interdit Eau de Parfum Rollerball",
          "Irresistible Eau de Parfum Rollerball",
          "Gentleman Boisee Eau de Parfum",
          "Irresistible Eau de Parfum Rose Velvet",
          "Irresistible Eau de Toilette Fraiche",
          "L'Interdit Eau de Toilette",
          "Glossier You Eau de Parfum",
          "Glossier You Solid Perfume",
          "Flora Gorgeous Gardenia Eau de Parfum",
          "Bloom Eau de Parfum For Her",
          "Flora Gorgeous Gardenia Eau de Parfum Rollerball",
          "Bloom Eau de Parfum For Her Rollerball",
          "Bamboo Eau de Parfum",
          "Flora Gorgeous Jasmine Eau de Parfum",
          "Guilty Pour Homme",
          "Flora Gorgeous Jasmine Eau de Parfum Pen Spray",
          "Bloom Profumo di Fiori Eau de Parfum",
          "Bloom Eau De Toilette",
          "Gucci Bloom Ambrosia di Fiori Eau de Parfum Intense For Her",
          "Bloom Profumo di Fiori Eau de Parfum Rollerball",
          "Guilty Eau de Parfum Pour Homme",
          "Bloom Eau De Toilette Travel Spray",
          "Gucci Bloom Ambrosia di Fiori Eau de Parfum Intense For Her Rollerball",
          "Guilty Pour Femme Eau de Parfum Intense",
          "Guilty Pour Homme Parfum",
          "Bloom Eau de Parfum Intense",
          "Mon Guerlain Eau de Parfum",
          "Shalimar Eau de Parfum",
          "Mon Guerlain Eau de Parfum Intense",
          "Aqua Allegoria Pera Granita Eau de Toilette",
          "Aqua Allegoria Mandarine Basilic Eau de Toilette",
          "Aqua Allegoria Flora Salvaggia Eau de Toilette",
          "Aqua Allegoria Flora Cherrysia Eau de Toilette",
          "Aqua Allegoria Bergamote Calabria Eau de Toilette",
          "Aqua Allegoria Rosa Rossa Eau de Toilette",
          "Aqua Allegoria Nerolia Vetiver Eau de Toilette",
          "Aqua Allegoria Orange Soleia Eau de Toilette",
          "Aqua Allegoria Pamplelune Eau de Toilette",
          "Dirty Vanilla Eau de Parfum Travel Spray",
          "Dirty Coconut Eau de Parfum Travel Spray",
          "Dirty Vanilla Eau de Parfum",
          "Dirty Coconut Eau de Parfum",
          "Dirty Hinoki Eau de Parfum Travel Spray",
          "Dirty Hinoki Eau de Parfum",
          "Un Jardin sur le Nil Eau de Toilette",
          "Un Jardin sur le Toit Eau de Toilette",
          "Le Jardin de Monsieur Li Eau de Toilette",
          "Eau de Rhubarbe Écarlate Eau de Cologne",
          "Eau d’orange verte",
          "H24 Eau de Toilette",
          "Terre d'Hermès Eau Givrée Eau de Parfum",
          "H24 Eau de Parfum",
          "Wood Sage & Sea Salt Cologne",
          "Peony & Blush Suede Cologne",
          "Nectarine Blossom & Honey Cologne",
          "Wood Sage & Sea Salt/ Peony & Blush Suede Mini Set",
          "English Pear & Freesia Cologne",
          "Wild Bluebell Cologne",
          "Red Roses Cologne",
          "Orange Blossom Cologne",
          "Mimosa & Cardamom Cologne",
          "Blackberry & Bay Cologne",
          "Poppy & Barley Cologne",
          "Wood Sage & Sea Salt Cologne Travel Spray",
          "Sea Daffodil Cologne",
          "Silk Blossom Cologne",
          "Bitter Mandarin Cologne",
          "Limited Edition English Pear & Freesia Cologne",
          "Viva La Juicy",
          "Viva La Juicy Rollerball",
          "Viva La Juicy Gold Couture",
          "Viva La Juicy Noir",
          "Not A Perfume",
          "Not A Perfume Travel Spray",
          "PEAR INC.",
          "PEAR INC. Travel Spray",
          "Magnolia Bliss Eau de Parfum",
          "Magnolia Bliss Eau de Parfum Travel Spray",
          "Musc Invisible",
          "Musc Invisible Travel Spray",
          "Lili Fantasy Eau de Parfum",
          "Lili Fantasy Eau de Parfum Travel Spray",
          "VANILLA | 28 Travel Spray",
          "LOVEFEST BURNING CHERRY | 48",
          "EDEN JUICY APPLE | 01",
          "EDEN JUICY APPLE  | 01 Travel Spray",
          "Lovefest Burning Cherry | 48 Travel Spray",
          "UTOPIA VANILLA COCO | 21 Travel Spray",
          "INVITE ONLY AMBER | 23",
          "Vanilla Royale Sugared Patchouli | 64 Eau de Parfum Intense",
          "SWEET DIAMOND PINK PEPPER  | 25",
          "Vanilla Royale Sugared Patchouli | 64 Eau de Parfum Intense Travel Spray",
          "INVITE ONLY AMBER | 23  Travel Spray",
          "SWEET DIAMOND PINK PEPPER  | 25 Travel Spray",
          "MUSK | 12",
          "MUSK | 12 Travel Spray",
          "SWEET DIAMOND | 25 & UTOPIA VANILLA COCO | 21 Double Rollerball",
          "YUM PISTACHIO GELATO | 33 EDP INTENSE",
          "INVITE ONLY AMBER | 23 & DÉJÀ VU WHITE FLOWER | 57 Double Rollerball",
          "Love, Don't Be Shy",
          "Love, Don't Be Shy Travel Spray",
          "Princess Eau de Parfum",
          "Princess Eau de Parfum Travel Spray",
          "Good Girl Gone Bad by KILIAN",
          "Love, Don't be Shy Mini Spray Set",
          "Rolling in Love",
          "Black Phantom - \"Memento Mori\"",
          "Good Girl Gone Bad by KILIAN Travel Spray",
          "Good Girl Gone Bad by KILIAN Mini Spray Set",
          "Intoxicated",
          "Straight To Heaven, White Cristal",
          "Moonlight in Heaven",
          "Love, Don't Be Shy-EXTREME",
          "Black Phantom - \"Memento Mori\" Mini Spray Set",
          "Idôle Eau de Parfum",
          "Trésor Midnight Rose",
          "Trésor",
          "No.04 Bois de Balincourt Perfume Oil",
          "No.04 Bois de Balincourt Eau de Parfum",
          "No.04 Bois de Balincourt Eau de Parfum Travel Spray",
          "No.04 Bois de Balincourt Perfume Oil Rollerball",
          "No.09 Vallée de Farney Eau de Parfum",
          "No.12 Bousval Eau de Parfum",
          "Antidris Cassis Eau de Parfum",
          "No.02 Le Long Fond Eau de Parfum",
          "’REPLICA’ By the Fireplace",
          "’REPLICA’ Beach Walk",
          "’REPLICA’ Jazz Club",
          "REPLICA' Bubble Bath",
          "’REPLICA’ Beach Walk Travel Spray",
          "’REPLICA’ By The Fireplace Travel Spray",
          "’REPLICA’ Jazz Club Travel Spray",
          "REPLICA' Bubble Bath Travel Spray",
          "REPLICA' When the Rain Stops",
          "REPLICA' Autumn Vibes",
          "REPLICA' Autumn Vibes Travel Spray",
          "REPLICA' When the Rain Stops Travel Spray",
          "Daisy",
          "Daisy Eau so Fresh Eau de Toilette",
          "Perfect Eau de Parfum",
          "Daisy Love Eau de Toilette",
          "Daisy Love Eau So Sweet",
          "Daisy Dream",
          "Daisy Rollerball",
          "Perfect Eau de Parfum Travel Spray",
          "Daisy Love Eau de Toilette Pen Spray",
          "Daisy Dream Rollerball",
          "Daisy Ever So Fresh Eau de Parfum",
          "Perfect Intense Eau de Parfum",
          "Daisy Eau So Intense Eau de Parfum",
          "Daisy Eau so Fresh Eau de Toilette Rollerball",
          "Perfect Intense Eau de Parfum Travel Spray",
          "Daisy Paradise Eau de Toilette",
          "Daisy Love Paradise Eau de Toilette",
          "Perfect Eau de Toilette",
          "Daisy Dream Petals",
          "Daisy Eau So Fresh Paradise Eau de Toilette",
          "Alien Eau de Parfum",
          "Alien Goddess Eau de Parfum Travel Spray",
          "Alien Goddess Eau de Parfum",
          "Angel Eau de Parfum",
          "Alien Eau de Parfum Travel Spray",
          "Alien Goddess Eau de Parfum Intense",
          "Angel Eau de Parfum Travel Spray",
          "Angel Nova Eau de Toilette",
          "Madagascar Vanilla Perfume Oil",
          "Madagascar Vanilla Perfume Oil Rollerball",
          "Golden Nectar Eau de Parfum",
          "Mini Perfume Oil Set",
          "Seville Orange Perfume Oil Rollerball",
          "Balinese Coconut Perfume Oil",
          "Turkish Rose Perfume Oil",
          "Golden Nectar Eau de Parfum Travel Spray",
          "Turkish Rose Perfume Oil Rollerball",
          "Seville Orange Perfume Oil",
          "Indian Jasmine Perfume Oil Rollerball",
          "Indian Jasmine Perfume Oil",
          "Balinese Coconut Perfume Oil Rollerball",
          "South Pacific Sandalwood Perfume Oil",
          "South Pacific Sandalwood Perfume Oil Rollerball",
          "Dean Street Eau De Parfum",
          "Rue St. Honoré Eau De Parfum",
          "Phantom Eau de Toilette",
          "FAME Eau de Parfum",
          "1 Million Elixir",
          "Invictus Platinum Eau de Parfum",
          "Fame Eau de Parfum",
          "Missing Person Eau de Parfum",
          "Missing Person Eau de Parfum Travel Spray",
          "Missing Person Perfume Set",
          "Somebody Wood Eau de Parfum Travel Spray",
          "Tangerine Boy Eau de Parfum",
          "Not Your Baby Eau de Parfum",
          "Apricot Privée Eau de Parfum",
          "Somebody Wood Eau de Parfum",
          "Apricot Privée Eau de Parfum Travel Spray",
          "Not Your Baby Eau de Parfum Travel Spray",
          "Ameline Eau de Parfum",
          "Lost Cause Eau de Parfum",
          "Phloria Eau de Parfum",
          "Ameline Eau de Parfum Travel Spray",
          "Lost Cause Eau de Parfum Travel Spray",
          "Phloria Eau de Parfum Travel Spray",
          "Paradoxe Eau de Parfum",
          "Paradoxe Eau de Parfum Travel Spray",
          "Luna Rossa Ocean Eau de Toilette",
          "Luna Rossa Ocean Eau de Toilette Travel Spray",
          "Vanilla Sky Eau de Parfum",
          "Vanilla Sky Eau de Parfum Rollerball",
          "Coconut Cove Eau de Parfum Rollerball",
          "Coconut Cove Eau de Parfum",
          "Peach Fields Eau de Parfum Rollerball",
          "Peach Fields Eau de Parfum",
          "Salt Air Eau De Parfum",
          "Fall Cashmere Eau de Parfum Rollerball",
          "Pink Canyon Eau de Parfum Rollerball",
          "Capri Summer Eau De Parfum Rollerball",
          "Pink Canyon Eau De Parfum",
          "Fall Cashmere Eau De Parfum",
          "Honeysuckle Dream Eau de Parfum Travel Spray",
          "Capri Summer Eau De Parfum",
          "Honeysuckle Dream Eau de Parfum",
          "Isle Escape Eau De Parfum",
          "Isle Escape Eau De Parfum Rollerball",
          "Sun Shower Eau De Parfum Rollerball",
          "Sun Shower Eau De Parfum",
          "SOL Cheirosa '62 Eau de Parfum",
          "Vanilla Woods Eau de Parfum",
          "Vanilla Woods Eau de Parfum Rollerball",
          "Santal Vanille Eau de Parfum",
          "Santal Vanille Eau de Parfum Rollerball",
          "Lotus Pear Eau de Parfum",
          "Blackberry Lily Eau de Parfum",
          "Lotus Pear Eau de Parfum Rollerball",
          "Orange Blossom Eau de Parfum Rollerball",
          "Jasmine Neroli Eau de Parfum Rollerball",
          "Rose Amber Eau de Parfum",
          "Jasmine Neroli Eau de Parfum",
          "Coconut Sun Eau de Parfum",
          "Orange Blossom Eau de Parfum",
          "Rose Amber Eau de Parfum Rollerball",
          "Coconut Sun Eau de Parfum Travel Spray",
          "Patchouli Citrus Eau de Parfum Rollerball",
          "Patchouli Citrus Eau de Parfum",
          "Vetiver Elemi Eau de Parfum",
          "Lotus Pear Perfume Oil",
          "Transcend Eau de Parfum",
          "Balance Eau de Parfum Travel Spray",
          "Intention Eau de Parfum",
          "Humanity Eau de Parfum Travel Spray",
          "Intention Eau de Parfum Travel Spray",
          "Balance Eau de Parfum",
          "Humanity Eau de Parfum",
          "Florence",
          "Cleopatra",
          "Giulietta",
          "Stella",
          "Giulietta Rollerball",
          "Stella Travel Spray",
          "Giulietta Travel Spray",
          "Florence Travel Spray",
          "Cleopatra Travel Spray",
          "Lost Cherry",
          "Tobacco Vanille",
          "Lost Cherry Travel Spray",
          "Soleil Blanc",
          "Tobacco Vanille Travel Spray",
          "Fucking Fabulous",
          "Oud Wood",
          "Soleil Blanc Travel Spray",
          "Ombré Leather Eau de Parfum",
          "Fucking Fabulous Travel Spray",
          "Eau de Soleil Blanc",
          "Rose Prick",
          "Black Orchid Eau de Parfum Travel Spray",
          "Soleil Neige",
          "Oud Wood Travel Spray",
          "Eau de Soleil Blanc Travel Spray",
          "Santal Blush",
          "Soleil Neige Eau De Parfum Travel Spray",
          "Noir de Noir",
          "Tuscan Leather",
          "Ombré Leather Eau de Parfum Travel Spray",
          "Mandarino Di Amalfi",
          "Black Orchid Parfum",
          "Ébène Fumé Eau de Parfum",
          "Cherry Smoke",
          "Electric Cherry",
          "Noir de Noir Travel Spray",
          "Soleil Brulant",
          "Ombré Leather Parfum",
          "Rose D'Amalfi Eau De Parfum",
          "Ombré Leather Parfum Travel Spray",
          "Rose De Chine Eau De Parfum",
          "Costa Azzurra Parfum",
          "Tuscan Leather Travel Spray",
          "Bois Marocain Eau de Parfum",
          "Ebene Fume Eau de Parfum Travel Spray",
          "Noir Extreme Parfum",
          "Beau de Jour",
          "Donna Born In Roma Intense Eau de Parfum",
          "Uomo Born In Roma Intense Eau de Parfum",
          "Eros",
          "Crystal Noir",
          "Dylan Blue Pour Femme",
          "Eros Pour Femme Eau de Parfum",
          "Yellow Diamond",
          "Bright Crystal Absolu",
          "Dylan Blue",
          "Dylan Blue Pour Femme Ovetto Spray",
          "Pour Homme",
          "Versace Man Eau Fraiche",
          "Bright Crystal Absolu Ovetto Spray",
          "Eros Pour Femme Eau de Toilette",
          "Eros Flame",
          "Dylan Blue Pour Homme Travel Spray",
          "Eros Pour Homme Travel Spray",
          "Yellow Diamond Travel Spray",
          "Eros Pour Femme Eau de Toilette Rollerball",
          "Dylan Purple Eau de Parfum",
          "Eros Flame Travel Spray",
          "Pour Homme Travel Spray",
          "Dylan Blue Pour Femme Travel Spray",
          "Versace Man Eau Fraîche Travel Spray",
          "Flowerbomb",
          "Flowerbomb Travel Spray",
          "Flowerbomb Mini",
          "Good Fortune Eau de Parfum",
          "Good Fortune Eau de Parfum Travel Spray",
          "Mini French Cade & Lavender Decorative Tin Candle",
          "Lost in Paradise Eau de Parfum Travel Spray",
          "Lost in Paradise Eau de Parfum",
          "Harlem Nights Eau de Parfum",
          "Long Kiss Goodnight Eau de Parfum",
          "Harlem Nights Eau de Parfum Travel Spray",
          "Danse Sauvage Eau de Parfum",
          "Citrus Grandis Eau de Parfum",
          "Danse Sauvage Eau de Parfum Travel Spray",
          "Citrus Grandis Eau de Parfum Travel Spray",
          "Mon Paris Eau de Parfum",
          "Libre Eau De Parfum Travel Spray",
          "LIBRE Eau de Parfum Intense",
          "Y Eau de Parfum",
          "L'Homme",
          "La Nuit De L’Homme",
          "Mon Paris Eau de Parfum Travel Spray",
          "Mon Paris Intensement Eau de Parfum",
          "L'Homme Cologne Bleue",
          "Y Eau de Toilette",
          "Mon Paris Couture Eau de Parfum",
          "Y Eau Fraiche",
          "L'Homme Eau de Parfum"
         ],
         "xaxis": "x",
         "y": [
          13,
          16,
          21,
          13,
          21,
          13,
          8,
          7,
          8,
          16,
          7,
          4,
          4,
          18,
          9,
          17,
          6,
          21,
          7,
          6,
          4,
          8,
          7,
          9,
          11,
          39,
          37,
          80,
          139,
          50,
          120,
          60,
          65,
          80,
          51,
          36,
          13,
          21,
          14,
          10,
          24,
          1696,
          1696,
          1058,
          1058,
          862,
          249,
          17,
          20,
          668,
          6,
          5,
          6,
          4,
          3,
          2,
          6,
          1,
          3,
          4,
          2,
          4,
          5,
          2,
          4,
          3,
          112,
          8,
          10,
          112,
          41,
          66,
          44,
          66,
          44,
          89,
          41,
          89,
          1280,
          320,
          1280,
          404,
          178,
          181,
          308,
          58,
          401,
          140,
          58,
          17,
          98,
          302,
          218,
          58,
          249,
          94,
          54,
          55,
          102,
          57,
          24,
          34,
          17,
          13,
          102,
          25,
          11,
          52,
          18,
          50,
          38,
          11,
          14,
          12,
          10,
          6,
          82,
          671,
          13,
          17,
          4,
          2507,
          780,
          488,
          218,
          488,
          780,
          2494,
          342,
          438,
          280,
          253,
          118,
          351,
          584,
          131,
          218,
          90,
          75,
          55,
          79,
          35,
          292,
          82,
          129,
          81,
          82,
          33,
          348,
          216,
          57,
          58,
          256,
          49,
          168,
          5,
          19,
          63,
          19,
          48,
          10,
          93,
          78,
          34,
          44,
          13,
          54,
          5,
          3,
          5,
          9,
          1,
          2,
          4,
          2,
          4,
          3,
          2,
          1,
          3,
          11,
          1,
          4,
          3,
          1,
          5,
          3,
          1,
          1,
          63,
          73,
          63,
          21,
          73,
          23,
          16,
          23,
          23,
          12,
          16,
          23,
          12,
          2188,
          892,
          25,
          348,
          340,
          180,
          189,
          367,
          189,
          367,
          104,
          244,
          244,
          55,
          194,
          41,
          34,
          142,
          71,
          194,
          71,
          18,
          142,
          30,
          5,
          25,
          12,
          45,
          55,
          3,
          242,
          544,
          544,
          542,
          262,
          542,
          262,
          120,
          43,
          120,
          20,
          20,
          411,
          616,
          586,
          354,
          586,
          616,
          504,
          230,
          191,
          185,
          235,
          63,
          854,
          1317,
          854,
          1317,
          217,
          408,
          748,
          15,
          671,
          391,
          343,
          671,
          426,
          391,
          343,
          169,
          255,
          156,
          439,
          66,
          23,
          75,
          104,
          22,
          27,
          32,
          94,
          123,
          28,
          26,
          30,
          32,
          22,
          32,
          4,
          2,
          165,
          107,
          94,
          37,
          19,
          215,
          44,
          149,
          614,
          428,
          432,
          104,
          370,
          112,
          120,
          102,
          97,
          117,
          76,
          2,
          28,
          4,
          20,
          3,
          1625,
          84,
          162,
          130,
          2005,
          2005,
          399,
          399,
          226,
          39,
          35,
          35,
          9,
          10,
          964,
          424,
          539,
          539,
          424,
          64,
          181,
          115,
          134,
          66,
          60,
          134,
          226,
          226,
          20,
          160,
          18,
          1256,
          1256,
          808,
          808,
          346,
          35,
          152,
          145,
          21,
          14,
          13,
          19,
          19,
          11,
          8,
          649,
          114,
          98,
          208,
          211,
          129,
          62,
          23,
          30,
          9,
          9,
          2016,
          1645,
          980,
          625,
          1645,
          2016,
          980,
          625,
          277,
          569,
          569,
          277,
          2800,
          1389,
          1047,
          1135,
          296,
          313,
          2786,
          1047,
          1135,
          144,
          356,
          525,
          759,
          1389,
          525,
          236,
          159,
          336,
          313,
          180,
          1102,
          3259,
          3259,
          1231,
          1102,
          715,
          1231,
          944,
          242,
          242,
          185,
          59,
          192,
          161,
          194,
          185,
          194,
          192,
          122,
          122,
          161,
          74,
          74,
          377,
          391,
          178,
          82,
          11,
          11,
          9,
          433,
          433,
          22,
          59,
          39,
          115,
          88,
          20,
          88,
          115,
          65,
          27,
          35,
          65,
          27,
          35,
          1184,
          33,
          1070,
          7,
          579,
          579,
          451,
          453,
          322,
          322,
          220,
          140,
          134,
          146,
          134,
          140,
          246,
          146,
          246,
          78,
          78,
          7,
          10,
          86,
          1138,
          1138,
          342,
          342,
          265,
          218,
          265,
          99,
          116,
          88,
          116,
          40,
          99,
          88,
          29,
          97,
          97,
          67,
          12,
          23,
          2,
          18,
          3,
          1,
          18,
          18,
          734,
          568,
          468,
          452,
          55,
          26,
          7,
          5,
          3,
          1041,
          1210,
          1038,
          824,
          1210,
          943,
          1092,
          824,
          898,
          943,
          618,
          974,
          1912,
          620,
          1092,
          681,
          56,
          620,
          43,
          595,
          898,
          44,
          581,
          1142,
          15,
          13,
          18,
          449,
          642,
          272,
          642,
          247,
          131,
          595,
          496,
          2,
          273,
          421,
          581,
          517,
          411,
          212,
          310,
          245,
          314,
          185,
          156,
          52,
          314,
          322,
          31,
          59,
          69,
          45,
          16,
          19,
          32,
          25,
          22,
          14,
          17,
          17,
          5039,
          4939,
          4953,
          1476,
          1476,
          12,
          5,
          11,
          6,
          9,
          4,
          6,
          5,
          2,
          2,
          1063,
          3550,
          323,
          2848,
          909,
          315,
          61,
          37,
          112,
          1203,
          43,
          150,
          556
         ],
         "yaxis": "y"
        }
       ],
       "layout": {
        "barmode": "relative",
        "coloraxis": {
         "colorbar": {
          "title": {
           "text": "Number of Reviews"
          }
         },
         "colorscale": [
          [
           0,
           "#440154"
          ],
          [
           0.1111111111111111,
           "#482878"
          ],
          [
           0.2222222222222222,
           "#3e4989"
          ],
          [
           0.3333333333333333,
           "#31688e"
          ],
          [
           0.4444444444444444,
           "#26828e"
          ],
          [
           0.5555555555555556,
           "#1f9e89"
          ],
          [
           0.6666666666666666,
           "#35b779"
          ],
          [
           0.7777777777777778,
           "#6ece58"
          ],
          [
           0.8888888888888888,
           "#b5de2b"
          ],
          [
           1,
           "#fde725"
          ]
         ]
        },
        "legend": {
         "tracegroupgap": 0
        },
        "template": {
         "data": {
          "bar": [
           {
            "error_x": {
             "color": "#2a3f5f"
            },
            "error_y": {
             "color": "#2a3f5f"
            },
            "marker": {
             "line": {
              "color": "#E5ECF6",
              "width": 0.5
             },
             "pattern": {
              "fillmode": "overlay",
              "size": 10,
              "solidity": 0.2
             }
            },
            "type": "bar"
           }
          ],
          "barpolar": [
           {
            "marker": {
             "line": {
              "color": "#E5ECF6",
              "width": 0.5
             },
             "pattern": {
              "fillmode": "overlay",
              "size": 10,
              "solidity": 0.2
             }
            },
            "type": "barpolar"
           }
          ],
          "carpet": [
           {
            "aaxis": {
             "endlinecolor": "#2a3f5f",
             "gridcolor": "white",
             "linecolor": "white",
             "minorgridcolor": "white",
             "startlinecolor": "#2a3f5f"
            },
            "baxis": {
             "endlinecolor": "#2a3f5f",
             "gridcolor": "white",
             "linecolor": "white",
             "minorgridcolor": "white",
             "startlinecolor": "#2a3f5f"
            },
            "type": "carpet"
           }
          ],
          "choropleth": [
           {
            "colorbar": {
             "outlinewidth": 0,
             "ticks": ""
            },
            "type": "choropleth"
           }
          ],
          "contour": [
           {
            "colorbar": {
             "outlinewidth": 0,
             "ticks": ""
            },
            "colorscale": [
             [
              0,
              "#0d0887"
             ],
             [
              0.1111111111111111,
              "#46039f"
             ],
             [
              0.2222222222222222,
              "#7201a8"
             ],
             [
              0.3333333333333333,
              "#9c179e"
             ],
             [
              0.4444444444444444,
              "#bd3786"
             ],
             [
              0.5555555555555556,
              "#d8576b"
             ],
             [
              0.6666666666666666,
              "#ed7953"
             ],
             [
              0.7777777777777778,
              "#fb9f3a"
             ],
             [
              0.8888888888888888,
              "#fdca26"
             ],
             [
              1,
              "#f0f921"
             ]
            ],
            "type": "contour"
           }
          ],
          "contourcarpet": [
           {
            "colorbar": {
             "outlinewidth": 0,
             "ticks": ""
            },
            "type": "contourcarpet"
           }
          ],
          "heatmap": [
           {
            "colorbar": {
             "outlinewidth": 0,
             "ticks": ""
            },
            "colorscale": [
             [
              0,
              "#0d0887"
             ],
             [
              0.1111111111111111,
              "#46039f"
             ],
             [
              0.2222222222222222,
              "#7201a8"
             ],
             [
              0.3333333333333333,
              "#9c179e"
             ],
             [
              0.4444444444444444,
              "#bd3786"
             ],
             [
              0.5555555555555556,
              "#d8576b"
             ],
             [
              0.6666666666666666,
              "#ed7953"
             ],
             [
              0.7777777777777778,
              "#fb9f3a"
             ],
             [
              0.8888888888888888,
              "#fdca26"
             ],
             [
              1,
              "#f0f921"
             ]
            ],
            "type": "heatmap"
           }
          ],
          "heatmapgl": [
           {
            "colorbar": {
             "outlinewidth": 0,
             "ticks": ""
            },
            "colorscale": [
             [
              0,
              "#0d0887"
             ],
             [
              0.1111111111111111,
              "#46039f"
             ],
             [
              0.2222222222222222,
              "#7201a8"
             ],
             [
              0.3333333333333333,
              "#9c179e"
             ],
             [
              0.4444444444444444,
              "#bd3786"
             ],
             [
              0.5555555555555556,
              "#d8576b"
             ],
             [
              0.6666666666666666,
              "#ed7953"
             ],
             [
              0.7777777777777778,
              "#fb9f3a"
             ],
             [
              0.8888888888888888,
              "#fdca26"
             ],
             [
              1,
              "#f0f921"
             ]
            ],
            "type": "heatmapgl"
           }
          ],
          "histogram": [
           {
            "marker": {
             "pattern": {
              "fillmode": "overlay",
              "size": 10,
              "solidity": 0.2
             }
            },
            "type": "histogram"
           }
          ],
          "histogram2d": [
           {
            "colorbar": {
             "outlinewidth": 0,
             "ticks": ""
            },
            "colorscale": [
             [
              0,
              "#0d0887"
             ],
             [
              0.1111111111111111,
              "#46039f"
             ],
             [
              0.2222222222222222,
              "#7201a8"
             ],
             [
              0.3333333333333333,
              "#9c179e"
             ],
             [
              0.4444444444444444,
              "#bd3786"
             ],
             [
              0.5555555555555556,
              "#d8576b"
             ],
             [
              0.6666666666666666,
              "#ed7953"
             ],
             [
              0.7777777777777778,
              "#fb9f3a"
             ],
             [
              0.8888888888888888,
              "#fdca26"
             ],
             [
              1,
              "#f0f921"
             ]
            ],
            "type": "histogram2d"
           }
          ],
          "histogram2dcontour": [
           {
            "colorbar": {
             "outlinewidth": 0,
             "ticks": ""
            },
            "colorscale": [
             [
              0,
              "#0d0887"
             ],
             [
              0.1111111111111111,
              "#46039f"
             ],
             [
              0.2222222222222222,
              "#7201a8"
             ],
             [
              0.3333333333333333,
              "#9c179e"
             ],
             [
              0.4444444444444444,
              "#bd3786"
             ],
             [
              0.5555555555555556,
              "#d8576b"
             ],
             [
              0.6666666666666666,
              "#ed7953"
             ],
             [
              0.7777777777777778,
              "#fb9f3a"
             ],
             [
              0.8888888888888888,
              "#fdca26"
             ],
             [
              1,
              "#f0f921"
             ]
            ],
            "type": "histogram2dcontour"
           }
          ],
          "mesh3d": [
           {
            "colorbar": {
             "outlinewidth": 0,
             "ticks": ""
            },
            "type": "mesh3d"
           }
          ],
          "parcoords": [
           {
            "line": {
             "colorbar": {
              "outlinewidth": 0,
              "ticks": ""
             }
            },
            "type": "parcoords"
           }
          ],
          "pie": [
           {
            "automargin": true,
            "type": "pie"
           }
          ],
          "scatter": [
           {
            "fillpattern": {
             "fillmode": "overlay",
             "size": 10,
             "solidity": 0.2
            },
            "type": "scatter"
           }
          ],
          "scatter3d": [
           {
            "line": {
             "colorbar": {
              "outlinewidth": 0,
              "ticks": ""
             }
            },
            "marker": {
             "colorbar": {
              "outlinewidth": 0,
              "ticks": ""
             }
            },
            "type": "scatter3d"
           }
          ],
          "scattercarpet": [
           {
            "marker": {
             "colorbar": {
              "outlinewidth": 0,
              "ticks": ""
             }
            },
            "type": "scattercarpet"
           }
          ],
          "scattergeo": [
           {
            "marker": {
             "colorbar": {
              "outlinewidth": 0,
              "ticks": ""
             }
            },
            "type": "scattergeo"
           }
          ],
          "scattergl": [
           {
            "marker": {
             "colorbar": {
              "outlinewidth": 0,
              "ticks": ""
             }
            },
            "type": "scattergl"
           }
          ],
          "scattermapbox": [
           {
            "marker": {
             "colorbar": {
              "outlinewidth": 0,
              "ticks": ""
             }
            },
            "type": "scattermapbox"
           }
          ],
          "scatterpolar": [
           {
            "marker": {
             "colorbar": {
              "outlinewidth": 0,
              "ticks": ""
             }
            },
            "type": "scatterpolar"
           }
          ],
          "scatterpolargl": [
           {
            "marker": {
             "colorbar": {
              "outlinewidth": 0,
              "ticks": ""
             }
            },
            "type": "scatterpolargl"
           }
          ],
          "scatterternary": [
           {
            "marker": {
             "colorbar": {
              "outlinewidth": 0,
              "ticks": ""
             }
            },
            "type": "scatterternary"
           }
          ],
          "surface": [
           {
            "colorbar": {
             "outlinewidth": 0,
             "ticks": ""
            },
            "colorscale": [
             [
              0,
              "#0d0887"
             ],
             [
              0.1111111111111111,
              "#46039f"
             ],
             [
              0.2222222222222222,
              "#7201a8"
             ],
             [
              0.3333333333333333,
              "#9c179e"
             ],
             [
              0.4444444444444444,
              "#bd3786"
             ],
             [
              0.5555555555555556,
              "#d8576b"
             ],
             [
              0.6666666666666666,
              "#ed7953"
             ],
             [
              0.7777777777777778,
              "#fb9f3a"
             ],
             [
              0.8888888888888888,
              "#fdca26"
             ],
             [
              1,
              "#f0f921"
             ]
            ],
            "type": "surface"
           }
          ],
          "table": [
           {
            "cells": {
             "fill": {
              "color": "#EBF0F8"
             },
             "line": {
              "color": "white"
             }
            },
            "header": {
             "fill": {
              "color": "#C8D4E3"
             },
             "line": {
              "color": "white"
             }
            },
            "type": "table"
           }
          ]
         },
         "layout": {
          "annotationdefaults": {
           "arrowcolor": "#2a3f5f",
           "arrowhead": 0,
           "arrowwidth": 1
          },
          "autotypenumbers": "strict",
          "coloraxis": {
           "colorbar": {
            "outlinewidth": 0,
            "ticks": ""
           }
          },
          "colorscale": {
           "diverging": [
            [
             0,
             "#8e0152"
            ],
            [
             0.1,
             "#c51b7d"
            ],
            [
             0.2,
             "#de77ae"
            ],
            [
             0.3,
             "#f1b6da"
            ],
            [
             0.4,
             "#fde0ef"
            ],
            [
             0.5,
             "#f7f7f7"
            ],
            [
             0.6,
             "#e6f5d0"
            ],
            [
             0.7,
             "#b8e186"
            ],
            [
             0.8,
             "#7fbc41"
            ],
            [
             0.9,
             "#4d9221"
            ],
            [
             1,
             "#276419"
            ]
           ],
           "sequential": [
            [
             0,
             "#0d0887"
            ],
            [
             0.1111111111111111,
             "#46039f"
            ],
            [
             0.2222222222222222,
             "#7201a8"
            ],
            [
             0.3333333333333333,
             "#9c179e"
            ],
            [
             0.4444444444444444,
             "#bd3786"
            ],
            [
             0.5555555555555556,
             "#d8576b"
            ],
            [
             0.6666666666666666,
             "#ed7953"
            ],
            [
             0.7777777777777778,
             "#fb9f3a"
            ],
            [
             0.8888888888888888,
             "#fdca26"
            ],
            [
             1,
             "#f0f921"
            ]
           ],
           "sequentialminus": [
            [
             0,
             "#0d0887"
            ],
            [
             0.1111111111111111,
             "#46039f"
            ],
            [
             0.2222222222222222,
             "#7201a8"
            ],
            [
             0.3333333333333333,
             "#9c179e"
            ],
            [
             0.4444444444444444,
             "#bd3786"
            ],
            [
             0.5555555555555556,
             "#d8576b"
            ],
            [
             0.6666666666666666,
             "#ed7953"
            ],
            [
             0.7777777777777778,
             "#fb9f3a"
            ],
            [
             0.8888888888888888,
             "#fdca26"
            ],
            [
             1,
             "#f0f921"
            ]
           ]
          },
          "colorway": [
           "#636efa",
           "#EF553B",
           "#00cc96",
           "#ab63fa",
           "#FFA15A",
           "#19d3f3",
           "#FF6692",
           "#B6E880",
           "#FF97FF",
           "#FECB52"
          ],
          "font": {
           "color": "#2a3f5f"
          },
          "geo": {
           "bgcolor": "white",
           "lakecolor": "white",
           "landcolor": "#E5ECF6",
           "showlakes": true,
           "showland": true,
           "subunitcolor": "white"
          },
          "hoverlabel": {
           "align": "left"
          },
          "hovermode": "closest",
          "mapbox": {
           "style": "light"
          },
          "paper_bgcolor": "white",
          "plot_bgcolor": "#E5ECF6",
          "polar": {
           "angularaxis": {
            "gridcolor": "white",
            "linecolor": "white",
            "ticks": ""
           },
           "bgcolor": "#E5ECF6",
           "radialaxis": {
            "gridcolor": "white",
            "linecolor": "white",
            "ticks": ""
           }
          },
          "scene": {
           "xaxis": {
            "backgroundcolor": "#E5ECF6",
            "gridcolor": "white",
            "gridwidth": 2,
            "linecolor": "white",
            "showbackground": true,
            "ticks": "",
            "zerolinecolor": "white"
           },
           "yaxis": {
            "backgroundcolor": "#E5ECF6",
            "gridcolor": "white",
            "gridwidth": 2,
            "linecolor": "white",
            "showbackground": true,
            "ticks": "",
            "zerolinecolor": "white"
           },
           "zaxis": {
            "backgroundcolor": "#E5ECF6",
            "gridcolor": "white",
            "gridwidth": 2,
            "linecolor": "white",
            "showbackground": true,
            "ticks": "",
            "zerolinecolor": "white"
           }
          },
          "shapedefaults": {
           "line": {
            "color": "#2a3f5f"
           }
          },
          "ternary": {
           "aaxis": {
            "gridcolor": "white",
            "linecolor": "white",
            "ticks": ""
           },
           "baxis": {
            "gridcolor": "white",
            "linecolor": "white",
            "ticks": ""
           },
           "bgcolor": "#E5ECF6",
           "caxis": {
            "gridcolor": "white",
            "linecolor": "white",
            "ticks": ""
           }
          },
          "title": {
           "x": 0.05
          },
          "xaxis": {
           "automargin": true,
           "gridcolor": "white",
           "linecolor": "white",
           "ticks": "",
           "title": {
            "standoff": 15
           },
           "zerolinecolor": "white",
           "zerolinewidth": 2
          },
          "yaxis": {
           "automargin": true,
           "gridcolor": "white",
           "linecolor": "white",
           "ticks": "",
           "title": {
            "standoff": 15
           },
           "zerolinecolor": "white",
           "zerolinewidth": 2
          }
         }
        },
        "title": {
         "text": "Reviews per Product"
        },
        "xaxis": {
         "anchor": "y",
         "domain": [
          0,
          1
         ],
         "title": {
          "text": "product_name"
         }
        },
        "yaxis": {
         "anchor": "x",
         "domain": [
          0,
          1
         ],
         "title": {
          "text": "Number of Reviews"
         }
        }
       }
      }
     },
     "metadata": {},
     "output_type": "display_data"
    }
   ],
   "source": []
  },
  {
   "cell_type": "code",
   "execution_count": 62,
   "metadata": {},
   "outputs": [
    {
     "data": {
      "application/vnd.plotly.v1+json": {
       "config": {
        "plotlyServerURL": "https://plot.ly"
       },
       "data": [
        {
         "alignmentgroup": "True",
         "hovertemplate": "Number of Reviews=%{y}<extra></extra>",
         "legendgroup": "",
         "marker": {
          "color": "#636efa"
         },
         "name": "",
         "notched": false,
         "offsetgroup": "",
         "orientation": "v",
         "showlegend": false,
         "type": "box",
         "x0": " ",
         "xaxis": "x",
         "y": [
          13,
          16,
          21,
          13,
          21,
          13,
          8,
          7,
          8,
          16,
          7,
          4,
          4,
          18,
          9,
          17,
          6,
          21,
          7,
          6,
          4,
          8,
          7,
          9,
          11,
          39,
          37,
          80,
          139,
          50,
          120,
          60,
          65,
          80,
          51,
          36,
          13,
          21,
          14,
          10,
          24,
          1696,
          1696,
          1058,
          1058,
          862,
          249,
          17,
          20,
          668,
          6,
          5,
          6,
          4,
          3,
          2,
          6,
          1,
          3,
          4,
          2,
          4,
          5,
          2,
          4,
          3,
          112,
          8,
          10,
          112,
          41,
          66,
          44,
          66,
          44,
          89,
          41,
          89,
          1280,
          320,
          1280,
          404,
          178,
          181,
          308,
          58,
          401,
          140,
          58,
          17,
          98,
          302,
          218,
          58,
          249,
          94,
          54,
          55,
          102,
          57,
          24,
          34,
          17,
          13,
          102,
          25,
          11,
          52,
          18,
          50,
          38,
          11,
          14,
          12,
          10,
          6,
          82,
          671,
          13,
          17,
          4,
          2507,
          780,
          488,
          218,
          488,
          780,
          2494,
          342,
          438,
          280,
          253,
          118,
          351,
          584,
          131,
          218,
          90,
          75,
          55,
          79,
          35,
          292,
          82,
          129,
          81,
          82,
          33,
          348,
          216,
          57,
          58,
          256,
          49,
          168,
          5,
          19,
          63,
          19,
          48,
          10,
          93,
          78,
          34,
          44,
          13,
          54,
          5,
          3,
          5,
          9,
          1,
          2,
          4,
          2,
          4,
          3,
          2,
          1,
          3,
          11,
          1,
          4,
          3,
          1,
          5,
          3,
          1,
          1,
          63,
          73,
          63,
          21,
          73,
          23,
          16,
          23,
          23,
          12,
          16,
          23,
          12,
          2188,
          892,
          25,
          348,
          340,
          180,
          189,
          367,
          189,
          367,
          104,
          244,
          244,
          55,
          194,
          41,
          34,
          142,
          71,
          194,
          71,
          18,
          142,
          30,
          5,
          25,
          12,
          45,
          55,
          3,
          242,
          544,
          544,
          542,
          262,
          542,
          262,
          120,
          43,
          120,
          20,
          20,
          411,
          616,
          586,
          354,
          586,
          616,
          504,
          230,
          191,
          185,
          235,
          63,
          854,
          1317,
          854,
          1317,
          217,
          408,
          748,
          15,
          671,
          391,
          343,
          671,
          426,
          391,
          343,
          169,
          255,
          156,
          439,
          66,
          23,
          75,
          104,
          22,
          27,
          32,
          94,
          123,
          28,
          26,
          30,
          32,
          22,
          32,
          4,
          2,
          165,
          107,
          94,
          37,
          19,
          215,
          44,
          149,
          614,
          428,
          432,
          104,
          370,
          112,
          120,
          102,
          97,
          117,
          76,
          2,
          28,
          4,
          20,
          3,
          1625,
          84,
          162,
          130,
          2005,
          2005,
          399,
          399,
          226,
          39,
          35,
          35,
          9,
          10,
          964,
          424,
          539,
          539,
          424,
          64,
          181,
          115,
          134,
          66,
          60,
          134,
          226,
          226,
          20,
          160,
          18,
          1256,
          1256,
          808,
          808,
          346,
          35,
          152,
          145,
          21,
          14,
          13,
          19,
          19,
          11,
          8,
          649,
          114,
          98,
          208,
          211,
          129,
          62,
          23,
          30,
          9,
          9,
          2016,
          1645,
          980,
          625,
          1645,
          2016,
          980,
          625,
          277,
          569,
          569,
          277,
          2800,
          1389,
          1047,
          1135,
          296,
          313,
          2786,
          1047,
          1135,
          144,
          356,
          525,
          759,
          1389,
          525,
          236,
          159,
          336,
          313,
          180,
          1102,
          3259,
          3259,
          1231,
          1102,
          715,
          1231,
          944,
          242,
          242,
          185,
          59,
          192,
          161,
          194,
          185,
          194,
          192,
          122,
          122,
          161,
          74,
          74,
          377,
          391,
          178,
          82,
          11,
          11,
          9,
          433,
          433,
          22,
          59,
          39,
          115,
          88,
          20,
          88,
          115,
          65,
          27,
          35,
          65,
          27,
          35,
          1184,
          33,
          1070,
          7,
          579,
          579,
          451,
          453,
          322,
          322,
          220,
          140,
          134,
          146,
          134,
          140,
          246,
          146,
          246,
          78,
          78,
          7,
          10,
          86,
          1138,
          1138,
          342,
          342,
          265,
          218,
          265,
          99,
          116,
          88,
          116,
          40,
          99,
          88,
          29,
          97,
          97,
          67,
          12,
          23,
          2,
          18,
          3,
          1,
          18,
          18,
          734,
          568,
          468,
          452,
          55,
          26,
          7,
          5,
          3,
          1041,
          1210,
          1038,
          824,
          1210,
          943,
          1092,
          824,
          898,
          943,
          618,
          974,
          1912,
          620,
          1092,
          681,
          56,
          620,
          43,
          595,
          898,
          44,
          581,
          1142,
          15,
          13,
          18,
          449,
          642,
          272,
          642,
          247,
          131,
          595,
          496,
          2,
          273,
          421,
          581,
          517,
          411,
          212,
          310,
          245,
          314,
          185,
          156,
          52,
          314,
          322,
          31,
          59,
          69,
          45,
          16,
          19,
          32,
          25,
          22,
          14,
          17,
          17,
          5039,
          4939,
          4953,
          1476,
          1476,
          12,
          5,
          11,
          6,
          9,
          4,
          6,
          5,
          2,
          2,
          1063,
          3550,
          323,
          2848,
          909,
          315,
          61,
          37,
          112,
          1203,
          43,
          150,
          556
         ],
         "y0": " ",
         "yaxis": "y"
        }
       ],
       "layout": {
        "boxmode": "group",
        "legend": {
         "tracegroupgap": 0
        },
        "template": {
         "data": {
          "bar": [
           {
            "error_x": {
             "color": "#2a3f5f"
            },
            "error_y": {
             "color": "#2a3f5f"
            },
            "marker": {
             "line": {
              "color": "#E5ECF6",
              "width": 0.5
             },
             "pattern": {
              "fillmode": "overlay",
              "size": 10,
              "solidity": 0.2
             }
            },
            "type": "bar"
           }
          ],
          "barpolar": [
           {
            "marker": {
             "line": {
              "color": "#E5ECF6",
              "width": 0.5
             },
             "pattern": {
              "fillmode": "overlay",
              "size": 10,
              "solidity": 0.2
             }
            },
            "type": "barpolar"
           }
          ],
          "carpet": [
           {
            "aaxis": {
             "endlinecolor": "#2a3f5f",
             "gridcolor": "white",
             "linecolor": "white",
             "minorgridcolor": "white",
             "startlinecolor": "#2a3f5f"
            },
            "baxis": {
             "endlinecolor": "#2a3f5f",
             "gridcolor": "white",
             "linecolor": "white",
             "minorgridcolor": "white",
             "startlinecolor": "#2a3f5f"
            },
            "type": "carpet"
           }
          ],
          "choropleth": [
           {
            "colorbar": {
             "outlinewidth": 0,
             "ticks": ""
            },
            "type": "choropleth"
           }
          ],
          "contour": [
           {
            "colorbar": {
             "outlinewidth": 0,
             "ticks": ""
            },
            "colorscale": [
             [
              0,
              "#0d0887"
             ],
             [
              0.1111111111111111,
              "#46039f"
             ],
             [
              0.2222222222222222,
              "#7201a8"
             ],
             [
              0.3333333333333333,
              "#9c179e"
             ],
             [
              0.4444444444444444,
              "#bd3786"
             ],
             [
              0.5555555555555556,
              "#d8576b"
             ],
             [
              0.6666666666666666,
              "#ed7953"
             ],
             [
              0.7777777777777778,
              "#fb9f3a"
             ],
             [
              0.8888888888888888,
              "#fdca26"
             ],
             [
              1,
              "#f0f921"
             ]
            ],
            "type": "contour"
           }
          ],
          "contourcarpet": [
           {
            "colorbar": {
             "outlinewidth": 0,
             "ticks": ""
            },
            "type": "contourcarpet"
           }
          ],
          "heatmap": [
           {
            "colorbar": {
             "outlinewidth": 0,
             "ticks": ""
            },
            "colorscale": [
             [
              0,
              "#0d0887"
             ],
             [
              0.1111111111111111,
              "#46039f"
             ],
             [
              0.2222222222222222,
              "#7201a8"
             ],
             [
              0.3333333333333333,
              "#9c179e"
             ],
             [
              0.4444444444444444,
              "#bd3786"
             ],
             [
              0.5555555555555556,
              "#d8576b"
             ],
             [
              0.6666666666666666,
              "#ed7953"
             ],
             [
              0.7777777777777778,
              "#fb9f3a"
             ],
             [
              0.8888888888888888,
              "#fdca26"
             ],
             [
              1,
              "#f0f921"
             ]
            ],
            "type": "heatmap"
           }
          ],
          "heatmapgl": [
           {
            "colorbar": {
             "outlinewidth": 0,
             "ticks": ""
            },
            "colorscale": [
             [
              0,
              "#0d0887"
             ],
             [
              0.1111111111111111,
              "#46039f"
             ],
             [
              0.2222222222222222,
              "#7201a8"
             ],
             [
              0.3333333333333333,
              "#9c179e"
             ],
             [
              0.4444444444444444,
              "#bd3786"
             ],
             [
              0.5555555555555556,
              "#d8576b"
             ],
             [
              0.6666666666666666,
              "#ed7953"
             ],
             [
              0.7777777777777778,
              "#fb9f3a"
             ],
             [
              0.8888888888888888,
              "#fdca26"
             ],
             [
              1,
              "#f0f921"
             ]
            ],
            "type": "heatmapgl"
           }
          ],
          "histogram": [
           {
            "marker": {
             "pattern": {
              "fillmode": "overlay",
              "size": 10,
              "solidity": 0.2
             }
            },
            "type": "histogram"
           }
          ],
          "histogram2d": [
           {
            "colorbar": {
             "outlinewidth": 0,
             "ticks": ""
            },
            "colorscale": [
             [
              0,
              "#0d0887"
             ],
             [
              0.1111111111111111,
              "#46039f"
             ],
             [
              0.2222222222222222,
              "#7201a8"
             ],
             [
              0.3333333333333333,
              "#9c179e"
             ],
             [
              0.4444444444444444,
              "#bd3786"
             ],
             [
              0.5555555555555556,
              "#d8576b"
             ],
             [
              0.6666666666666666,
              "#ed7953"
             ],
             [
              0.7777777777777778,
              "#fb9f3a"
             ],
             [
              0.8888888888888888,
              "#fdca26"
             ],
             [
              1,
              "#f0f921"
             ]
            ],
            "type": "histogram2d"
           }
          ],
          "histogram2dcontour": [
           {
            "colorbar": {
             "outlinewidth": 0,
             "ticks": ""
            },
            "colorscale": [
             [
              0,
              "#0d0887"
             ],
             [
              0.1111111111111111,
              "#46039f"
             ],
             [
              0.2222222222222222,
              "#7201a8"
             ],
             [
              0.3333333333333333,
              "#9c179e"
             ],
             [
              0.4444444444444444,
              "#bd3786"
             ],
             [
              0.5555555555555556,
              "#d8576b"
             ],
             [
              0.6666666666666666,
              "#ed7953"
             ],
             [
              0.7777777777777778,
              "#fb9f3a"
             ],
             [
              0.8888888888888888,
              "#fdca26"
             ],
             [
              1,
              "#f0f921"
             ]
            ],
            "type": "histogram2dcontour"
           }
          ],
          "mesh3d": [
           {
            "colorbar": {
             "outlinewidth": 0,
             "ticks": ""
            },
            "type": "mesh3d"
           }
          ],
          "parcoords": [
           {
            "line": {
             "colorbar": {
              "outlinewidth": 0,
              "ticks": ""
             }
            },
            "type": "parcoords"
           }
          ],
          "pie": [
           {
            "automargin": true,
            "type": "pie"
           }
          ],
          "scatter": [
           {
            "fillpattern": {
             "fillmode": "overlay",
             "size": 10,
             "solidity": 0.2
            },
            "type": "scatter"
           }
          ],
          "scatter3d": [
           {
            "line": {
             "colorbar": {
              "outlinewidth": 0,
              "ticks": ""
             }
            },
            "marker": {
             "colorbar": {
              "outlinewidth": 0,
              "ticks": ""
             }
            },
            "type": "scatter3d"
           }
          ],
          "scattercarpet": [
           {
            "marker": {
             "colorbar": {
              "outlinewidth": 0,
              "ticks": ""
             }
            },
            "type": "scattercarpet"
           }
          ],
          "scattergeo": [
           {
            "marker": {
             "colorbar": {
              "outlinewidth": 0,
              "ticks": ""
             }
            },
            "type": "scattergeo"
           }
          ],
          "scattergl": [
           {
            "marker": {
             "colorbar": {
              "outlinewidth": 0,
              "ticks": ""
             }
            },
            "type": "scattergl"
           }
          ],
          "scattermapbox": [
           {
            "marker": {
             "colorbar": {
              "outlinewidth": 0,
              "ticks": ""
             }
            },
            "type": "scattermapbox"
           }
          ],
          "scatterpolar": [
           {
            "marker": {
             "colorbar": {
              "outlinewidth": 0,
              "ticks": ""
             }
            },
            "type": "scatterpolar"
           }
          ],
          "scatterpolargl": [
           {
            "marker": {
             "colorbar": {
              "outlinewidth": 0,
              "ticks": ""
             }
            },
            "type": "scatterpolargl"
           }
          ],
          "scatterternary": [
           {
            "marker": {
             "colorbar": {
              "outlinewidth": 0,
              "ticks": ""
             }
            },
            "type": "scatterternary"
           }
          ],
          "surface": [
           {
            "colorbar": {
             "outlinewidth": 0,
             "ticks": ""
            },
            "colorscale": [
             [
              0,
              "#0d0887"
             ],
             [
              0.1111111111111111,
              "#46039f"
             ],
             [
              0.2222222222222222,
              "#7201a8"
             ],
             [
              0.3333333333333333,
              "#9c179e"
             ],
             [
              0.4444444444444444,
              "#bd3786"
             ],
             [
              0.5555555555555556,
              "#d8576b"
             ],
             [
              0.6666666666666666,
              "#ed7953"
             ],
             [
              0.7777777777777778,
              "#fb9f3a"
             ],
             [
              0.8888888888888888,
              "#fdca26"
             ],
             [
              1,
              "#f0f921"
             ]
            ],
            "type": "surface"
           }
          ],
          "table": [
           {
            "cells": {
             "fill": {
              "color": "#EBF0F8"
             },
             "line": {
              "color": "white"
             }
            },
            "header": {
             "fill": {
              "color": "#C8D4E3"
             },
             "line": {
              "color": "white"
             }
            },
            "type": "table"
           }
          ]
         },
         "layout": {
          "annotationdefaults": {
           "arrowcolor": "#2a3f5f",
           "arrowhead": 0,
           "arrowwidth": 1
          },
          "autotypenumbers": "strict",
          "coloraxis": {
           "colorbar": {
            "outlinewidth": 0,
            "ticks": ""
           }
          },
          "colorscale": {
           "diverging": [
            [
             0,
             "#8e0152"
            ],
            [
             0.1,
             "#c51b7d"
            ],
            [
             0.2,
             "#de77ae"
            ],
            [
             0.3,
             "#f1b6da"
            ],
            [
             0.4,
             "#fde0ef"
            ],
            [
             0.5,
             "#f7f7f7"
            ],
            [
             0.6,
             "#e6f5d0"
            ],
            [
             0.7,
             "#b8e186"
            ],
            [
             0.8,
             "#7fbc41"
            ],
            [
             0.9,
             "#4d9221"
            ],
            [
             1,
             "#276419"
            ]
           ],
           "sequential": [
            [
             0,
             "#0d0887"
            ],
            [
             0.1111111111111111,
             "#46039f"
            ],
            [
             0.2222222222222222,
             "#7201a8"
            ],
            [
             0.3333333333333333,
             "#9c179e"
            ],
            [
             0.4444444444444444,
             "#bd3786"
            ],
            [
             0.5555555555555556,
             "#d8576b"
            ],
            [
             0.6666666666666666,
             "#ed7953"
            ],
            [
             0.7777777777777778,
             "#fb9f3a"
            ],
            [
             0.8888888888888888,
             "#fdca26"
            ],
            [
             1,
             "#f0f921"
            ]
           ],
           "sequentialminus": [
            [
             0,
             "#0d0887"
            ],
            [
             0.1111111111111111,
             "#46039f"
            ],
            [
             0.2222222222222222,
             "#7201a8"
            ],
            [
             0.3333333333333333,
             "#9c179e"
            ],
            [
             0.4444444444444444,
             "#bd3786"
            ],
            [
             0.5555555555555556,
             "#d8576b"
            ],
            [
             0.6666666666666666,
             "#ed7953"
            ],
            [
             0.7777777777777778,
             "#fb9f3a"
            ],
            [
             0.8888888888888888,
             "#fdca26"
            ],
            [
             1,
             "#f0f921"
            ]
           ]
          },
          "colorway": [
           "#636efa",
           "#EF553B",
           "#00cc96",
           "#ab63fa",
           "#FFA15A",
           "#19d3f3",
           "#FF6692",
           "#B6E880",
           "#FF97FF",
           "#FECB52"
          ],
          "font": {
           "color": "#2a3f5f"
          },
          "geo": {
           "bgcolor": "white",
           "lakecolor": "white",
           "landcolor": "#E5ECF6",
           "showlakes": true,
           "showland": true,
           "subunitcolor": "white"
          },
          "hoverlabel": {
           "align": "left"
          },
          "hovermode": "closest",
          "mapbox": {
           "style": "light"
          },
          "paper_bgcolor": "white",
          "plot_bgcolor": "#E5ECF6",
          "polar": {
           "angularaxis": {
            "gridcolor": "white",
            "linecolor": "white",
            "ticks": ""
           },
           "bgcolor": "#E5ECF6",
           "radialaxis": {
            "gridcolor": "white",
            "linecolor": "white",
            "ticks": ""
           }
          },
          "scene": {
           "xaxis": {
            "backgroundcolor": "#E5ECF6",
            "gridcolor": "white",
            "gridwidth": 2,
            "linecolor": "white",
            "showbackground": true,
            "ticks": "",
            "zerolinecolor": "white"
           },
           "yaxis": {
            "backgroundcolor": "#E5ECF6",
            "gridcolor": "white",
            "gridwidth": 2,
            "linecolor": "white",
            "showbackground": true,
            "ticks": "",
            "zerolinecolor": "white"
           },
           "zaxis": {
            "backgroundcolor": "#E5ECF6",
            "gridcolor": "white",
            "gridwidth": 2,
            "linecolor": "white",
            "showbackground": true,
            "ticks": "",
            "zerolinecolor": "white"
           }
          },
          "shapedefaults": {
           "line": {
            "color": "#2a3f5f"
           }
          },
          "ternary": {
           "aaxis": {
            "gridcolor": "white",
            "linecolor": "white",
            "ticks": ""
           },
           "baxis": {
            "gridcolor": "white",
            "linecolor": "white",
            "ticks": ""
           },
           "bgcolor": "#E5ECF6",
           "caxis": {
            "gridcolor": "white",
            "linecolor": "white",
            "ticks": ""
           }
          },
          "title": {
           "x": 0.05
          },
          "xaxis": {
           "automargin": true,
           "gridcolor": "white",
           "linecolor": "white",
           "ticks": "",
           "title": {
            "standoff": 15
           },
           "zerolinecolor": "white",
           "zerolinewidth": 2
          },
          "yaxis": {
           "automargin": true,
           "gridcolor": "white",
           "linecolor": "white",
           "ticks": "",
           "title": {
            "standoff": 15
           },
           "zerolinecolor": "white",
           "zerolinewidth": 2
          }
         }
        },
        "title": {
         "text": "Box Plot of Reviews"
        },
        "xaxis": {
         "anchor": "y",
         "domain": [
          0,
          1
         ]
        },
        "yaxis": {
         "anchor": "x",
         "domain": [
          0,
          1
         ],
         "title": {
          "text": "Number of Reviews"
         }
        }
       }
      }
     },
     "metadata": {},
     "output_type": "display_data"
    }
   ],
   "source": [
    "# Create a box plot for the reviews\n",
    "fig = px.box(fragrant_data, \n",
    "              y='reviews', \n",
    "              title='Box Plot of Reviews',\n",
    "              labels={'reviews': 'Number of Reviews'})\n",
    "\n",
    "fig.show()"
   ]
  },
  {
   "cell_type": "code",
   "execution_count": 71,
   "metadata": {},
   "outputs": [
    {
     "data": {
      "application/vnd.plotly.v1+json": {
       "config": {
        "plotlyServerURL": "https://plot.ly"
       },
       "data": [
        {
         "alignmentgroup": "True",
         "bingroup": "x",
         "hovertemplate": "Price=%{x}<br>count=%{y}<extra></extra>",
         "legendgroup": "",
         "marker": {
          "color": "#636efa",
          "pattern": {
           "shape": ""
          }
         },
         "name": "",
         "nbinsx": 4,
         "offsetgroup": "",
         "orientation": "v",
         "showlegend": false,
         "type": "histogram",
         "x": [
          195,
          195,
          195,
          195,
          30,
          30,
          195,
          195,
          30,
          30,
          30,
          195,
          30,
          84,
          29,
          84,
          29,
          84,
          29,
          29,
          28,
          84,
          29,
          84,
          84,
          84,
          84,
          181,
          145,
          35,
          145,
          145,
          200,
          145,
          145,
          260,
          35,
          35,
          35,
          135,
          145,
          155,
          34,
          34,
          120,
          160,
          144,
          186,
          99,
          142,
          34,
          107,
          107,
          34,
          34,
          34,
          107,
          34,
          107,
          53,
          34,
          107,
          107,
          34,
          107,
          107,
          30,
          30,
          98,
          98,
          30,
          30,
          30,
          98,
          98,
          30,
          98,
          98,
          123,
          95,
          38,
          165,
          99,
          95,
          133,
          101,
          123,
          74,
          38,
          140,
          94,
          95,
          70,
          28,
          70,
          70,
          28,
          45,
          70,
          70,
          28,
          70,
          28,
          28,
          28,
          45,
          28,
          28,
          28,
          70,
          45,
          45,
          45,
          45,
          90,
          40,
          147,
          15,
          147,
          34,
          96,
          147,
          128,
          147,
          147,
          38,
          31,
          38,
          133,
          124,
          110,
          110,
          29,
          44,
          74,
          110,
          110,
          29,
          29,
          110,
          29,
          29,
          110,
          110,
          110,
          110,
          29,
          29,
          25,
          135,
          25,
          135,
          25,
          135,
          135,
          25,
          25,
          135,
          135,
          135,
          25,
          25,
          135,
          135,
          135,
          135,
          135,
          135,
          25,
          135,
          135,
          25,
          25,
          135,
          25,
          25,
          25,
          135,
          25,
          135,
          135,
          25,
          135,
          25,
          25,
          135,
          135,
          25,
          135,
          30,
          30,
          90,
          35,
          90,
          30,
          30,
          90,
          30,
          30,
          90,
          90,
          90,
          160,
          100,
          55,
          82,
          108,
          108,
          32,
          32,
          108,
          108,
          108,
          32,
          108,
          108,
          32,
          40,
          32,
          32,
          108,
          108,
          108,
          32,
          108,
          32,
          105,
          105,
          32,
          100,
          108,
          32,
          140,
          34,
          34,
          89,
          89,
          34,
          34,
          34,
          89,
          34,
          34,
          34,
          89,
          110,
          110,
          108,
          40,
          40,
          124,
          135,
          111,
          111,
          64,
          30,
          155,
          123,
          38,
          38,
          87,
          155,
          154,
          38,
          123,
          101,
          131,
          38,
          143,
          38,
          38,
          165,
          175,
          165,
          155,
          125,
          165,
          110,
          110,
          110,
          110,
          110,
          110,
          110,
          110,
          110,
          65,
          65,
          165,
          165,
          65,
          165,
          149,
          149,
          149,
          141,
          152,
          116,
          108,
          148,
          155,
          155,
          155,
          45,
          80,
          155,
          155,
          155,
          155,
          155,
          145,
          24,
          150,
          150,
          150,
          80,
          86,
          27,
          86,
          106,
          140,
          30,
          140,
          30,
          140,
          30,
          140,
          30,
          140,
          30,
          25,
          125,
          125,
          25,
          25,
          25,
          138,
          100,
          100,
          25,
          27,
          27,
          25,
          25,
          27,
          138,
          27,
          275,
          50,
          125,
          30,
          275,
          215,
          275,
          275,
          50,
          215,
          275,
          275,
          275,
          340,
          215,
          118,
          125,
          118,
          65,
          93,
          32,
          16,
          93,
          93,
          93,
          93,
          160,
          160,
          160,
          160,
          35,
          35,
          35,
          35,
          160,
          160,
          35,
          35,
          128,
          139,
          149,
          128,
          128,
          95,
          34,
          34,
          34,
          34,
          163,
          156,
          116,
          34,
          34,
          90,
          90,
          128,
          50,
          104,
          150,
          35,
          180,
          95,
          35,
          180,
          35,
          115,
          98,
          35,
          86,
          48,
          35,
          98,
          98,
          30,
          35,
          98,
          35,
          98,
          35,
          98,
          35,
          64,
          64,
          133,
          132,
          126,
          120,
          132,
          96,
          26,
          98,
          26,
          96,
          96,
          96,
          96,
          26,
          26,
          96,
          96,
          96,
          26,
          26,
          26,
          32,
          32,
          115,
          25,
          90,
          30,
          30,
          90,
          30,
          90,
          90,
          30,
          30,
          30,
          90,
          90,
          30,
          90,
          90,
          90,
          30,
          30,
          90,
          78,
          88,
          32,
          88,
          32,
          88,
          88,
          32,
          32,
          32,
          88,
          88,
          88,
          88,
          32,
          32,
          32,
          88,
          88,
          69,
          55,
          20,
          20,
          20,
          20,
          20,
          20,
          80,
          80,
          80,
          80,
          27,
          46,
          46,
          46,
          46,
          395,
          295,
          80,
          295,
          70,
          395,
          295,
          70,
          150,
          80,
          150,
          395,
          50,
          295,
          70,
          50,
          180,
          70,
          295,
          295,
          50,
          295,
          235,
          295,
          395,
          395,
          65,
          395,
          235,
          295,
          65,
          295,
          235,
          70,
          295,
          75,
          235,
          150,
          35,
          110,
          96,
          105,
          98,
          130,
          65,
          120,
          96,
          33,
          92,
          130,
          33,
          110,
          107,
          32,
          32,
          32,
          26,
          120,
          32,
          32,
          32,
          32,
          180,
          35,
          58,
          180,
          35,
          12,
          50,
          175,
          175,
          175,
          50,
          175,
          175,
          50,
          50,
          117,
          34,
          95,
          148,
          89,
          108,
          34,
          136,
          89,
          120,
          76,
          99,
          106
         ],
         "xaxis": "x",
         "yaxis": "y"
        }
       ],
       "layout": {
        "barmode": "relative",
        "legend": {
         "tracegroupgap": 0
        },
        "template": {
         "data": {
          "bar": [
           {
            "error_x": {
             "color": "#2a3f5f"
            },
            "error_y": {
             "color": "#2a3f5f"
            },
            "marker": {
             "line": {
              "color": "#E5ECF6",
              "width": 0.5
             },
             "pattern": {
              "fillmode": "overlay",
              "size": 10,
              "solidity": 0.2
             }
            },
            "type": "bar"
           }
          ],
          "barpolar": [
           {
            "marker": {
             "line": {
              "color": "#E5ECF6",
              "width": 0.5
             },
             "pattern": {
              "fillmode": "overlay",
              "size": 10,
              "solidity": 0.2
             }
            },
            "type": "barpolar"
           }
          ],
          "carpet": [
           {
            "aaxis": {
             "endlinecolor": "#2a3f5f",
             "gridcolor": "white",
             "linecolor": "white",
             "minorgridcolor": "white",
             "startlinecolor": "#2a3f5f"
            },
            "baxis": {
             "endlinecolor": "#2a3f5f",
             "gridcolor": "white",
             "linecolor": "white",
             "minorgridcolor": "white",
             "startlinecolor": "#2a3f5f"
            },
            "type": "carpet"
           }
          ],
          "choropleth": [
           {
            "colorbar": {
             "outlinewidth": 0,
             "ticks": ""
            },
            "type": "choropleth"
           }
          ],
          "contour": [
           {
            "colorbar": {
             "outlinewidth": 0,
             "ticks": ""
            },
            "colorscale": [
             [
              0,
              "#0d0887"
             ],
             [
              0.1111111111111111,
              "#46039f"
             ],
             [
              0.2222222222222222,
              "#7201a8"
             ],
             [
              0.3333333333333333,
              "#9c179e"
             ],
             [
              0.4444444444444444,
              "#bd3786"
             ],
             [
              0.5555555555555556,
              "#d8576b"
             ],
             [
              0.6666666666666666,
              "#ed7953"
             ],
             [
              0.7777777777777778,
              "#fb9f3a"
             ],
             [
              0.8888888888888888,
              "#fdca26"
             ],
             [
              1,
              "#f0f921"
             ]
            ],
            "type": "contour"
           }
          ],
          "contourcarpet": [
           {
            "colorbar": {
             "outlinewidth": 0,
             "ticks": ""
            },
            "type": "contourcarpet"
           }
          ],
          "heatmap": [
           {
            "colorbar": {
             "outlinewidth": 0,
             "ticks": ""
            },
            "colorscale": [
             [
              0,
              "#0d0887"
             ],
             [
              0.1111111111111111,
              "#46039f"
             ],
             [
              0.2222222222222222,
              "#7201a8"
             ],
             [
              0.3333333333333333,
              "#9c179e"
             ],
             [
              0.4444444444444444,
              "#bd3786"
             ],
             [
              0.5555555555555556,
              "#d8576b"
             ],
             [
              0.6666666666666666,
              "#ed7953"
             ],
             [
              0.7777777777777778,
              "#fb9f3a"
             ],
             [
              0.8888888888888888,
              "#fdca26"
             ],
             [
              1,
              "#f0f921"
             ]
            ],
            "type": "heatmap"
           }
          ],
          "heatmapgl": [
           {
            "colorbar": {
             "outlinewidth": 0,
             "ticks": ""
            },
            "colorscale": [
             [
              0,
              "#0d0887"
             ],
             [
              0.1111111111111111,
              "#46039f"
             ],
             [
              0.2222222222222222,
              "#7201a8"
             ],
             [
              0.3333333333333333,
              "#9c179e"
             ],
             [
              0.4444444444444444,
              "#bd3786"
             ],
             [
              0.5555555555555556,
              "#d8576b"
             ],
             [
              0.6666666666666666,
              "#ed7953"
             ],
             [
              0.7777777777777778,
              "#fb9f3a"
             ],
             [
              0.8888888888888888,
              "#fdca26"
             ],
             [
              1,
              "#f0f921"
             ]
            ],
            "type": "heatmapgl"
           }
          ],
          "histogram": [
           {
            "marker": {
             "pattern": {
              "fillmode": "overlay",
              "size": 10,
              "solidity": 0.2
             }
            },
            "type": "histogram"
           }
          ],
          "histogram2d": [
           {
            "colorbar": {
             "outlinewidth": 0,
             "ticks": ""
            },
            "colorscale": [
             [
              0,
              "#0d0887"
             ],
             [
              0.1111111111111111,
              "#46039f"
             ],
             [
              0.2222222222222222,
              "#7201a8"
             ],
             [
              0.3333333333333333,
              "#9c179e"
             ],
             [
              0.4444444444444444,
              "#bd3786"
             ],
             [
              0.5555555555555556,
              "#d8576b"
             ],
             [
              0.6666666666666666,
              "#ed7953"
             ],
             [
              0.7777777777777778,
              "#fb9f3a"
             ],
             [
              0.8888888888888888,
              "#fdca26"
             ],
             [
              1,
              "#f0f921"
             ]
            ],
            "type": "histogram2d"
           }
          ],
          "histogram2dcontour": [
           {
            "colorbar": {
             "outlinewidth": 0,
             "ticks": ""
            },
            "colorscale": [
             [
              0,
              "#0d0887"
             ],
             [
              0.1111111111111111,
              "#46039f"
             ],
             [
              0.2222222222222222,
              "#7201a8"
             ],
             [
              0.3333333333333333,
              "#9c179e"
             ],
             [
              0.4444444444444444,
              "#bd3786"
             ],
             [
              0.5555555555555556,
              "#d8576b"
             ],
             [
              0.6666666666666666,
              "#ed7953"
             ],
             [
              0.7777777777777778,
              "#fb9f3a"
             ],
             [
              0.8888888888888888,
              "#fdca26"
             ],
             [
              1,
              "#f0f921"
             ]
            ],
            "type": "histogram2dcontour"
           }
          ],
          "mesh3d": [
           {
            "colorbar": {
             "outlinewidth": 0,
             "ticks": ""
            },
            "type": "mesh3d"
           }
          ],
          "parcoords": [
           {
            "line": {
             "colorbar": {
              "outlinewidth": 0,
              "ticks": ""
             }
            },
            "type": "parcoords"
           }
          ],
          "pie": [
           {
            "automargin": true,
            "type": "pie"
           }
          ],
          "scatter": [
           {
            "fillpattern": {
             "fillmode": "overlay",
             "size": 10,
             "solidity": 0.2
            },
            "type": "scatter"
           }
          ],
          "scatter3d": [
           {
            "line": {
             "colorbar": {
              "outlinewidth": 0,
              "ticks": ""
             }
            },
            "marker": {
             "colorbar": {
              "outlinewidth": 0,
              "ticks": ""
             }
            },
            "type": "scatter3d"
           }
          ],
          "scattercarpet": [
           {
            "marker": {
             "colorbar": {
              "outlinewidth": 0,
              "ticks": ""
             }
            },
            "type": "scattercarpet"
           }
          ],
          "scattergeo": [
           {
            "marker": {
             "colorbar": {
              "outlinewidth": 0,
              "ticks": ""
             }
            },
            "type": "scattergeo"
           }
          ],
          "scattergl": [
           {
            "marker": {
             "colorbar": {
              "outlinewidth": 0,
              "ticks": ""
             }
            },
            "type": "scattergl"
           }
          ],
          "scattermapbox": [
           {
            "marker": {
             "colorbar": {
              "outlinewidth": 0,
              "ticks": ""
             }
            },
            "type": "scattermapbox"
           }
          ],
          "scatterpolar": [
           {
            "marker": {
             "colorbar": {
              "outlinewidth": 0,
              "ticks": ""
             }
            },
            "type": "scatterpolar"
           }
          ],
          "scatterpolargl": [
           {
            "marker": {
             "colorbar": {
              "outlinewidth": 0,
              "ticks": ""
             }
            },
            "type": "scatterpolargl"
           }
          ],
          "scatterternary": [
           {
            "marker": {
             "colorbar": {
              "outlinewidth": 0,
              "ticks": ""
             }
            },
            "type": "scatterternary"
           }
          ],
          "surface": [
           {
            "colorbar": {
             "outlinewidth": 0,
             "ticks": ""
            },
            "colorscale": [
             [
              0,
              "#0d0887"
             ],
             [
              0.1111111111111111,
              "#46039f"
             ],
             [
              0.2222222222222222,
              "#7201a8"
             ],
             [
              0.3333333333333333,
              "#9c179e"
             ],
             [
              0.4444444444444444,
              "#bd3786"
             ],
             [
              0.5555555555555556,
              "#d8576b"
             ],
             [
              0.6666666666666666,
              "#ed7953"
             ],
             [
              0.7777777777777778,
              "#fb9f3a"
             ],
             [
              0.8888888888888888,
              "#fdca26"
             ],
             [
              1,
              "#f0f921"
             ]
            ],
            "type": "surface"
           }
          ],
          "table": [
           {
            "cells": {
             "fill": {
              "color": "#EBF0F8"
             },
             "line": {
              "color": "white"
             }
            },
            "header": {
             "fill": {
              "color": "#C8D4E3"
             },
             "line": {
              "color": "white"
             }
            },
            "type": "table"
           }
          ]
         },
         "layout": {
          "annotationdefaults": {
           "arrowcolor": "#2a3f5f",
           "arrowhead": 0,
           "arrowwidth": 1
          },
          "autotypenumbers": "strict",
          "coloraxis": {
           "colorbar": {
            "outlinewidth": 0,
            "ticks": ""
           }
          },
          "colorscale": {
           "diverging": [
            [
             0,
             "#8e0152"
            ],
            [
             0.1,
             "#c51b7d"
            ],
            [
             0.2,
             "#de77ae"
            ],
            [
             0.3,
             "#f1b6da"
            ],
            [
             0.4,
             "#fde0ef"
            ],
            [
             0.5,
             "#f7f7f7"
            ],
            [
             0.6,
             "#e6f5d0"
            ],
            [
             0.7,
             "#b8e186"
            ],
            [
             0.8,
             "#7fbc41"
            ],
            [
             0.9,
             "#4d9221"
            ],
            [
             1,
             "#276419"
            ]
           ],
           "sequential": [
            [
             0,
             "#0d0887"
            ],
            [
             0.1111111111111111,
             "#46039f"
            ],
            [
             0.2222222222222222,
             "#7201a8"
            ],
            [
             0.3333333333333333,
             "#9c179e"
            ],
            [
             0.4444444444444444,
             "#bd3786"
            ],
            [
             0.5555555555555556,
             "#d8576b"
            ],
            [
             0.6666666666666666,
             "#ed7953"
            ],
            [
             0.7777777777777778,
             "#fb9f3a"
            ],
            [
             0.8888888888888888,
             "#fdca26"
            ],
            [
             1,
             "#f0f921"
            ]
           ],
           "sequentialminus": [
            [
             0,
             "#0d0887"
            ],
            [
             0.1111111111111111,
             "#46039f"
            ],
            [
             0.2222222222222222,
             "#7201a8"
            ],
            [
             0.3333333333333333,
             "#9c179e"
            ],
            [
             0.4444444444444444,
             "#bd3786"
            ],
            [
             0.5555555555555556,
             "#d8576b"
            ],
            [
             0.6666666666666666,
             "#ed7953"
            ],
            [
             0.7777777777777778,
             "#fb9f3a"
            ],
            [
             0.8888888888888888,
             "#fdca26"
            ],
            [
             1,
             "#f0f921"
            ]
           ]
          },
          "colorway": [
           "#636efa",
           "#EF553B",
           "#00cc96",
           "#ab63fa",
           "#FFA15A",
           "#19d3f3",
           "#FF6692",
           "#B6E880",
           "#FF97FF",
           "#FECB52"
          ],
          "font": {
           "color": "#2a3f5f"
          },
          "geo": {
           "bgcolor": "white",
           "lakecolor": "white",
           "landcolor": "#E5ECF6",
           "showlakes": true,
           "showland": true,
           "subunitcolor": "white"
          },
          "hoverlabel": {
           "align": "left"
          },
          "hovermode": "closest",
          "mapbox": {
           "style": "light"
          },
          "paper_bgcolor": "white",
          "plot_bgcolor": "#E5ECF6",
          "polar": {
           "angularaxis": {
            "gridcolor": "white",
            "linecolor": "white",
            "ticks": ""
           },
           "bgcolor": "#E5ECF6",
           "radialaxis": {
            "gridcolor": "white",
            "linecolor": "white",
            "ticks": ""
           }
          },
          "scene": {
           "xaxis": {
            "backgroundcolor": "#E5ECF6",
            "gridcolor": "white",
            "gridwidth": 2,
            "linecolor": "white",
            "showbackground": true,
            "ticks": "",
            "zerolinecolor": "white"
           },
           "yaxis": {
            "backgroundcolor": "#E5ECF6",
            "gridcolor": "white",
            "gridwidth": 2,
            "linecolor": "white",
            "showbackground": true,
            "ticks": "",
            "zerolinecolor": "white"
           },
           "zaxis": {
            "backgroundcolor": "#E5ECF6",
            "gridcolor": "white",
            "gridwidth": 2,
            "linecolor": "white",
            "showbackground": true,
            "ticks": "",
            "zerolinecolor": "white"
           }
          },
          "shapedefaults": {
           "line": {
            "color": "#2a3f5f"
           }
          },
          "ternary": {
           "aaxis": {
            "gridcolor": "white",
            "linecolor": "white",
            "ticks": ""
           },
           "baxis": {
            "gridcolor": "white",
            "linecolor": "white",
            "ticks": ""
           },
           "bgcolor": "#E5ECF6",
           "caxis": {
            "gridcolor": "white",
            "linecolor": "white",
            "ticks": ""
           }
          },
          "title": {
           "x": 0.05
          },
          "xaxis": {
           "automargin": true,
           "gridcolor": "white",
           "linecolor": "white",
           "ticks": "",
           "title": {
            "standoff": 15
           },
           "zerolinecolor": "white",
           "zerolinewidth": 2
          },
          "yaxis": {
           "automargin": true,
           "gridcolor": "white",
           "linecolor": "white",
           "ticks": "",
           "title": {
            "standoff": 15
           },
           "zerolinecolor": "white",
           "zerolinewidth": 2
          }
         }
        },
        "title": {
         "text": "Histogram of Product Prices"
        },
        "xaxis": {
         "anchor": "y",
         "domain": [
          0,
          1
         ],
         "title": {
          "text": "Price"
         }
        },
        "yaxis": {
         "anchor": "x",
         "domain": [
          0,
          1
         ],
         "title": {
          "text": "count"
         }
        }
       }
      }
     },
     "metadata": {},
     "output_type": "display_data"
    }
   ],
   "source": [
    "# Create a histogram for the price distribution\n",
    "fig_hist = px.histogram(fragrant_data, \n",
    "                         x='price_usd', \n",
    "                         title='Histogram of Product Prices',\n",
    "                         labels={'price_usd': 'Price'},\n",
    "                         nbins=4)  # Adjust the number of bins as needed\n",
    "\n",
    "fig_hist.show()"
   ]
  },
  {
   "cell_type": "code",
   "execution_count": 73,
   "metadata": {},
   "outputs": [
    {
     "data": {
      "application/vnd.plotly.v1+json": {
       "config": {
        "plotlyServerURL": "https://plot.ly"
       },
       "data": [
        {
         "alignmentgroup": "True",
         "hovertemplate": "price_usd=%{y}<extra></extra>",
         "legendgroup": "",
         "marker": {
          "color": "#636efa"
         },
         "name": "",
         "notched": false,
         "offsetgroup": "",
         "orientation": "v",
         "showlegend": false,
         "type": "box",
         "x0": " ",
         "xaxis": "x",
         "y": [
          195,
          195,
          195,
          195,
          30,
          30,
          195,
          195,
          30,
          30,
          30,
          195,
          30,
          84,
          29,
          84,
          29,
          84,
          29,
          29,
          28,
          84,
          29,
          84,
          84,
          84,
          84,
          181,
          145,
          35,
          145,
          145,
          200,
          145,
          145,
          260,
          35,
          35,
          35,
          135,
          145,
          155,
          34,
          34,
          120,
          160,
          144,
          186,
          99,
          142,
          34,
          107,
          107,
          34,
          34,
          34,
          107,
          34,
          107,
          53,
          34,
          107,
          107,
          34,
          107,
          107,
          30,
          30,
          98,
          98,
          30,
          30,
          30,
          98,
          98,
          30,
          98,
          98,
          123,
          95,
          38,
          165,
          99,
          95,
          133,
          101,
          123,
          74,
          38,
          140,
          94,
          95,
          70,
          28,
          70,
          70,
          28,
          45,
          70,
          70,
          28,
          70,
          28,
          28,
          28,
          45,
          28,
          28,
          28,
          70,
          45,
          45,
          45,
          45,
          90,
          40,
          147,
          15,
          147,
          34,
          96,
          147,
          128,
          147,
          147,
          38,
          31,
          38,
          133,
          124,
          110,
          110,
          29,
          44,
          74,
          110,
          110,
          29,
          29,
          110,
          29,
          29,
          110,
          110,
          110,
          110,
          29,
          29,
          25,
          135,
          25,
          135,
          25,
          135,
          135,
          25,
          25,
          135,
          135,
          135,
          25,
          25,
          135,
          135,
          135,
          135,
          135,
          135,
          25,
          135,
          135,
          25,
          25,
          135,
          25,
          25,
          25,
          135,
          25,
          135,
          135,
          25,
          135,
          25,
          25,
          135,
          135,
          25,
          135,
          30,
          30,
          90,
          35,
          90,
          30,
          30,
          90,
          30,
          30,
          90,
          90,
          90,
          160,
          100,
          55,
          82,
          108,
          108,
          32,
          32,
          108,
          108,
          108,
          32,
          108,
          108,
          32,
          40,
          32,
          32,
          108,
          108,
          108,
          32,
          108,
          32,
          105,
          105,
          32,
          100,
          108,
          32,
          140,
          34,
          34,
          89,
          89,
          34,
          34,
          34,
          89,
          34,
          34,
          34,
          89,
          110,
          110,
          108,
          40,
          40,
          124,
          135,
          111,
          111,
          64,
          30,
          155,
          123,
          38,
          38,
          87,
          155,
          154,
          38,
          123,
          101,
          131,
          38,
          143,
          38,
          38,
          165,
          175,
          165,
          155,
          125,
          165,
          110,
          110,
          110,
          110,
          110,
          110,
          110,
          110,
          110,
          65,
          65,
          165,
          165,
          65,
          165,
          149,
          149,
          149,
          141,
          152,
          116,
          108,
          148,
          155,
          155,
          155,
          45,
          80,
          155,
          155,
          155,
          155,
          155,
          145,
          24,
          150,
          150,
          150,
          80,
          86,
          27,
          86,
          106,
          140,
          30,
          140,
          30,
          140,
          30,
          140,
          30,
          140,
          30,
          25,
          125,
          125,
          25,
          25,
          25,
          138,
          100,
          100,
          25,
          27,
          27,
          25,
          25,
          27,
          138,
          27,
          275,
          50,
          125,
          30,
          275,
          215,
          275,
          275,
          50,
          215,
          275,
          275,
          275,
          340,
          215,
          118,
          125,
          118,
          65,
          93,
          32,
          16,
          93,
          93,
          93,
          93,
          160,
          160,
          160,
          160,
          35,
          35,
          35,
          35,
          160,
          160,
          35,
          35,
          128,
          139,
          149,
          128,
          128,
          95,
          34,
          34,
          34,
          34,
          163,
          156,
          116,
          34,
          34,
          90,
          90,
          128,
          50,
          104,
          150,
          35,
          180,
          95,
          35,
          180,
          35,
          115,
          98,
          35,
          86,
          48,
          35,
          98,
          98,
          30,
          35,
          98,
          35,
          98,
          35,
          98,
          35,
          64,
          64,
          133,
          132,
          126,
          120,
          132,
          96,
          26,
          98,
          26,
          96,
          96,
          96,
          96,
          26,
          26,
          96,
          96,
          96,
          26,
          26,
          26,
          32,
          32,
          115,
          25,
          90,
          30,
          30,
          90,
          30,
          90,
          90,
          30,
          30,
          30,
          90,
          90,
          30,
          90,
          90,
          90,
          30,
          30,
          90,
          78,
          88,
          32,
          88,
          32,
          88,
          88,
          32,
          32,
          32,
          88,
          88,
          88,
          88,
          32,
          32,
          32,
          88,
          88,
          69,
          55,
          20,
          20,
          20,
          20,
          20,
          20,
          80,
          80,
          80,
          80,
          27,
          46,
          46,
          46,
          46,
          395,
          295,
          80,
          295,
          70,
          395,
          295,
          70,
          150,
          80,
          150,
          395,
          50,
          295,
          70,
          50,
          180,
          70,
          295,
          295,
          50,
          295,
          235,
          295,
          395,
          395,
          65,
          395,
          235,
          295,
          65,
          295,
          235,
          70,
          295,
          75,
          235,
          150,
          35,
          110,
          96,
          105,
          98,
          130,
          65,
          120,
          96,
          33,
          92,
          130,
          33,
          110,
          107,
          32,
          32,
          32,
          26,
          120,
          32,
          32,
          32,
          32,
          180,
          35,
          58,
          180,
          35,
          12,
          50,
          175,
          175,
          175,
          50,
          175,
          175,
          50,
          50,
          117,
          34,
          95,
          148,
          89,
          108,
          34,
          136,
          89,
          120,
          76,
          99,
          106
         ],
         "y0": " ",
         "yaxis": "y"
        }
       ],
       "layout": {
        "boxmode": "group",
        "legend": {
         "tracegroupgap": 0
        },
        "template": {
         "data": {
          "bar": [
           {
            "error_x": {
             "color": "#2a3f5f"
            },
            "error_y": {
             "color": "#2a3f5f"
            },
            "marker": {
             "line": {
              "color": "#E5ECF6",
              "width": 0.5
             },
             "pattern": {
              "fillmode": "overlay",
              "size": 10,
              "solidity": 0.2
             }
            },
            "type": "bar"
           }
          ],
          "barpolar": [
           {
            "marker": {
             "line": {
              "color": "#E5ECF6",
              "width": 0.5
             },
             "pattern": {
              "fillmode": "overlay",
              "size": 10,
              "solidity": 0.2
             }
            },
            "type": "barpolar"
           }
          ],
          "carpet": [
           {
            "aaxis": {
             "endlinecolor": "#2a3f5f",
             "gridcolor": "white",
             "linecolor": "white",
             "minorgridcolor": "white",
             "startlinecolor": "#2a3f5f"
            },
            "baxis": {
             "endlinecolor": "#2a3f5f",
             "gridcolor": "white",
             "linecolor": "white",
             "minorgridcolor": "white",
             "startlinecolor": "#2a3f5f"
            },
            "type": "carpet"
           }
          ],
          "choropleth": [
           {
            "colorbar": {
             "outlinewidth": 0,
             "ticks": ""
            },
            "type": "choropleth"
           }
          ],
          "contour": [
           {
            "colorbar": {
             "outlinewidth": 0,
             "ticks": ""
            },
            "colorscale": [
             [
              0,
              "#0d0887"
             ],
             [
              0.1111111111111111,
              "#46039f"
             ],
             [
              0.2222222222222222,
              "#7201a8"
             ],
             [
              0.3333333333333333,
              "#9c179e"
             ],
             [
              0.4444444444444444,
              "#bd3786"
             ],
             [
              0.5555555555555556,
              "#d8576b"
             ],
             [
              0.6666666666666666,
              "#ed7953"
             ],
             [
              0.7777777777777778,
              "#fb9f3a"
             ],
             [
              0.8888888888888888,
              "#fdca26"
             ],
             [
              1,
              "#f0f921"
             ]
            ],
            "type": "contour"
           }
          ],
          "contourcarpet": [
           {
            "colorbar": {
             "outlinewidth": 0,
             "ticks": ""
            },
            "type": "contourcarpet"
           }
          ],
          "heatmap": [
           {
            "colorbar": {
             "outlinewidth": 0,
             "ticks": ""
            },
            "colorscale": [
             [
              0,
              "#0d0887"
             ],
             [
              0.1111111111111111,
              "#46039f"
             ],
             [
              0.2222222222222222,
              "#7201a8"
             ],
             [
              0.3333333333333333,
              "#9c179e"
             ],
             [
              0.4444444444444444,
              "#bd3786"
             ],
             [
              0.5555555555555556,
              "#d8576b"
             ],
             [
              0.6666666666666666,
              "#ed7953"
             ],
             [
              0.7777777777777778,
              "#fb9f3a"
             ],
             [
              0.8888888888888888,
              "#fdca26"
             ],
             [
              1,
              "#f0f921"
             ]
            ],
            "type": "heatmap"
           }
          ],
          "heatmapgl": [
           {
            "colorbar": {
             "outlinewidth": 0,
             "ticks": ""
            },
            "colorscale": [
             [
              0,
              "#0d0887"
             ],
             [
              0.1111111111111111,
              "#46039f"
             ],
             [
              0.2222222222222222,
              "#7201a8"
             ],
             [
              0.3333333333333333,
              "#9c179e"
             ],
             [
              0.4444444444444444,
              "#bd3786"
             ],
             [
              0.5555555555555556,
              "#d8576b"
             ],
             [
              0.6666666666666666,
              "#ed7953"
             ],
             [
              0.7777777777777778,
              "#fb9f3a"
             ],
             [
              0.8888888888888888,
              "#fdca26"
             ],
             [
              1,
              "#f0f921"
             ]
            ],
            "type": "heatmapgl"
           }
          ],
          "histogram": [
           {
            "marker": {
             "pattern": {
              "fillmode": "overlay",
              "size": 10,
              "solidity": 0.2
             }
            },
            "type": "histogram"
           }
          ],
          "histogram2d": [
           {
            "colorbar": {
             "outlinewidth": 0,
             "ticks": ""
            },
            "colorscale": [
             [
              0,
              "#0d0887"
             ],
             [
              0.1111111111111111,
              "#46039f"
             ],
             [
              0.2222222222222222,
              "#7201a8"
             ],
             [
              0.3333333333333333,
              "#9c179e"
             ],
             [
              0.4444444444444444,
              "#bd3786"
             ],
             [
              0.5555555555555556,
              "#d8576b"
             ],
             [
              0.6666666666666666,
              "#ed7953"
             ],
             [
              0.7777777777777778,
              "#fb9f3a"
             ],
             [
              0.8888888888888888,
              "#fdca26"
             ],
             [
              1,
              "#f0f921"
             ]
            ],
            "type": "histogram2d"
           }
          ],
          "histogram2dcontour": [
           {
            "colorbar": {
             "outlinewidth": 0,
             "ticks": ""
            },
            "colorscale": [
             [
              0,
              "#0d0887"
             ],
             [
              0.1111111111111111,
              "#46039f"
             ],
             [
              0.2222222222222222,
              "#7201a8"
             ],
             [
              0.3333333333333333,
              "#9c179e"
             ],
             [
              0.4444444444444444,
              "#bd3786"
             ],
             [
              0.5555555555555556,
              "#d8576b"
             ],
             [
              0.6666666666666666,
              "#ed7953"
             ],
             [
              0.7777777777777778,
              "#fb9f3a"
             ],
             [
              0.8888888888888888,
              "#fdca26"
             ],
             [
              1,
              "#f0f921"
             ]
            ],
            "type": "histogram2dcontour"
           }
          ],
          "mesh3d": [
           {
            "colorbar": {
             "outlinewidth": 0,
             "ticks": ""
            },
            "type": "mesh3d"
           }
          ],
          "parcoords": [
           {
            "line": {
             "colorbar": {
              "outlinewidth": 0,
              "ticks": ""
             }
            },
            "type": "parcoords"
           }
          ],
          "pie": [
           {
            "automargin": true,
            "type": "pie"
           }
          ],
          "scatter": [
           {
            "fillpattern": {
             "fillmode": "overlay",
             "size": 10,
             "solidity": 0.2
            },
            "type": "scatter"
           }
          ],
          "scatter3d": [
           {
            "line": {
             "colorbar": {
              "outlinewidth": 0,
              "ticks": ""
             }
            },
            "marker": {
             "colorbar": {
              "outlinewidth": 0,
              "ticks": ""
             }
            },
            "type": "scatter3d"
           }
          ],
          "scattercarpet": [
           {
            "marker": {
             "colorbar": {
              "outlinewidth": 0,
              "ticks": ""
             }
            },
            "type": "scattercarpet"
           }
          ],
          "scattergeo": [
           {
            "marker": {
             "colorbar": {
              "outlinewidth": 0,
              "ticks": ""
             }
            },
            "type": "scattergeo"
           }
          ],
          "scattergl": [
           {
            "marker": {
             "colorbar": {
              "outlinewidth": 0,
              "ticks": ""
             }
            },
            "type": "scattergl"
           }
          ],
          "scattermapbox": [
           {
            "marker": {
             "colorbar": {
              "outlinewidth": 0,
              "ticks": ""
             }
            },
            "type": "scattermapbox"
           }
          ],
          "scatterpolar": [
           {
            "marker": {
             "colorbar": {
              "outlinewidth": 0,
              "ticks": ""
             }
            },
            "type": "scatterpolar"
           }
          ],
          "scatterpolargl": [
           {
            "marker": {
             "colorbar": {
              "outlinewidth": 0,
              "ticks": ""
             }
            },
            "type": "scatterpolargl"
           }
          ],
          "scatterternary": [
           {
            "marker": {
             "colorbar": {
              "outlinewidth": 0,
              "ticks": ""
             }
            },
            "type": "scatterternary"
           }
          ],
          "surface": [
           {
            "colorbar": {
             "outlinewidth": 0,
             "ticks": ""
            },
            "colorscale": [
             [
              0,
              "#0d0887"
             ],
             [
              0.1111111111111111,
              "#46039f"
             ],
             [
              0.2222222222222222,
              "#7201a8"
             ],
             [
              0.3333333333333333,
              "#9c179e"
             ],
             [
              0.4444444444444444,
              "#bd3786"
             ],
             [
              0.5555555555555556,
              "#d8576b"
             ],
             [
              0.6666666666666666,
              "#ed7953"
             ],
             [
              0.7777777777777778,
              "#fb9f3a"
             ],
             [
              0.8888888888888888,
              "#fdca26"
             ],
             [
              1,
              "#f0f921"
             ]
            ],
            "type": "surface"
           }
          ],
          "table": [
           {
            "cells": {
             "fill": {
              "color": "#EBF0F8"
             },
             "line": {
              "color": "white"
             }
            },
            "header": {
             "fill": {
              "color": "#C8D4E3"
             },
             "line": {
              "color": "white"
             }
            },
            "type": "table"
           }
          ]
         },
         "layout": {
          "annotationdefaults": {
           "arrowcolor": "#2a3f5f",
           "arrowhead": 0,
           "arrowwidth": 1
          },
          "autotypenumbers": "strict",
          "coloraxis": {
           "colorbar": {
            "outlinewidth": 0,
            "ticks": ""
           }
          },
          "colorscale": {
           "diverging": [
            [
             0,
             "#8e0152"
            ],
            [
             0.1,
             "#c51b7d"
            ],
            [
             0.2,
             "#de77ae"
            ],
            [
             0.3,
             "#f1b6da"
            ],
            [
             0.4,
             "#fde0ef"
            ],
            [
             0.5,
             "#f7f7f7"
            ],
            [
             0.6,
             "#e6f5d0"
            ],
            [
             0.7,
             "#b8e186"
            ],
            [
             0.8,
             "#7fbc41"
            ],
            [
             0.9,
             "#4d9221"
            ],
            [
             1,
             "#276419"
            ]
           ],
           "sequential": [
            [
             0,
             "#0d0887"
            ],
            [
             0.1111111111111111,
             "#46039f"
            ],
            [
             0.2222222222222222,
             "#7201a8"
            ],
            [
             0.3333333333333333,
             "#9c179e"
            ],
            [
             0.4444444444444444,
             "#bd3786"
            ],
            [
             0.5555555555555556,
             "#d8576b"
            ],
            [
             0.6666666666666666,
             "#ed7953"
            ],
            [
             0.7777777777777778,
             "#fb9f3a"
            ],
            [
             0.8888888888888888,
             "#fdca26"
            ],
            [
             1,
             "#f0f921"
            ]
           ],
           "sequentialminus": [
            [
             0,
             "#0d0887"
            ],
            [
             0.1111111111111111,
             "#46039f"
            ],
            [
             0.2222222222222222,
             "#7201a8"
            ],
            [
             0.3333333333333333,
             "#9c179e"
            ],
            [
             0.4444444444444444,
             "#bd3786"
            ],
            [
             0.5555555555555556,
             "#d8576b"
            ],
            [
             0.6666666666666666,
             "#ed7953"
            ],
            [
             0.7777777777777778,
             "#fb9f3a"
            ],
            [
             0.8888888888888888,
             "#fdca26"
            ],
            [
             1,
             "#f0f921"
            ]
           ]
          },
          "colorway": [
           "#636efa",
           "#EF553B",
           "#00cc96",
           "#ab63fa",
           "#FFA15A",
           "#19d3f3",
           "#FF6692",
           "#B6E880",
           "#FF97FF",
           "#FECB52"
          ],
          "font": {
           "color": "#2a3f5f"
          },
          "geo": {
           "bgcolor": "white",
           "lakecolor": "white",
           "landcolor": "#E5ECF6",
           "showlakes": true,
           "showland": true,
           "subunitcolor": "white"
          },
          "hoverlabel": {
           "align": "left"
          },
          "hovermode": "closest",
          "mapbox": {
           "style": "light"
          },
          "paper_bgcolor": "white",
          "plot_bgcolor": "#E5ECF6",
          "polar": {
           "angularaxis": {
            "gridcolor": "white",
            "linecolor": "white",
            "ticks": ""
           },
           "bgcolor": "#E5ECF6",
           "radialaxis": {
            "gridcolor": "white",
            "linecolor": "white",
            "ticks": ""
           }
          },
          "scene": {
           "xaxis": {
            "backgroundcolor": "#E5ECF6",
            "gridcolor": "white",
            "gridwidth": 2,
            "linecolor": "white",
            "showbackground": true,
            "ticks": "",
            "zerolinecolor": "white"
           },
           "yaxis": {
            "backgroundcolor": "#E5ECF6",
            "gridcolor": "white",
            "gridwidth": 2,
            "linecolor": "white",
            "showbackground": true,
            "ticks": "",
            "zerolinecolor": "white"
           },
           "zaxis": {
            "backgroundcolor": "#E5ECF6",
            "gridcolor": "white",
            "gridwidth": 2,
            "linecolor": "white",
            "showbackground": true,
            "ticks": "",
            "zerolinecolor": "white"
           }
          },
          "shapedefaults": {
           "line": {
            "color": "#2a3f5f"
           }
          },
          "ternary": {
           "aaxis": {
            "gridcolor": "white",
            "linecolor": "white",
            "ticks": ""
           },
           "baxis": {
            "gridcolor": "white",
            "linecolor": "white",
            "ticks": ""
           },
           "bgcolor": "#E5ECF6",
           "caxis": {
            "gridcolor": "white",
            "linecolor": "white",
            "ticks": ""
           }
          },
          "title": {
           "x": 0.05
          },
          "xaxis": {
           "automargin": true,
           "gridcolor": "white",
           "linecolor": "white",
           "ticks": "",
           "title": {
            "standoff": 15
           },
           "zerolinecolor": "white",
           "zerolinewidth": 2
          },
          "yaxis": {
           "automargin": true,
           "gridcolor": "white",
           "linecolor": "white",
           "ticks": "",
           "title": {
            "standoff": 15
           },
           "zerolinecolor": "white",
           "zerolinewidth": 2
          }
         }
        },
        "title": {
         "text": "Box Plot of Product Prices"
        },
        "xaxis": {
         "anchor": "y",
         "domain": [
          0,
          1
         ]
        },
        "yaxis": {
         "anchor": "x",
         "domain": [
          0,
          1
         ],
         "title": {
          "text": "price_usd"
         }
        }
       }
      }
     },
     "metadata": {},
     "output_type": "display_data"
    }
   ],
   "source": [
    "# box plot for the price distribution\n",
    "fig_box = px.box(fragrant_data, \n",
    "                  y='price_usd', \n",
    "                  title='Box Plot of Product Prices',\n",
    "                  labels={'price': 'Price'})\n",
    "\n",
    "fig_box.show()"
   ]
  },
  {
   "cell_type": "code",
   "execution_count": 83,
   "metadata": {},
   "outputs": [
    {
     "data": {
      "application/vnd.plotly.v1+json": {
       "config": {
        "plotlyServerURL": "https://plot.ly"
       },
       "data": [
        {
         "alignmentgroup": "True",
         "hovertemplate": "phrase=%{x}<br>Count=%{marker.color}<extra></extra>",
         "legendgroup": "",
         "marker": {
          "color": [
           309,
           256,
           224,
           203,
           184,
           121,
           104,
           97,
           95,
           94,
           94,
           92,
           43,
           26,
           17,
           14,
           14,
           13,
           12,
           6
          ],
          "coloraxis": "coloraxis",
          "pattern": {
           "shape": ""
          }
         },
         "name": "",
         "offsetgroup": "",
         "orientation": "v",
         "showlegend": false,
         "textposition": "auto",
         "type": "bar",
         "x": [
          "Layerable Scent",
          "Unisex/ Genderless Scent",
          "Vegan",
          "Floral Scent",
          "Cruelty-Free",
          "Without Phthalates",
          "Fresh Scent",
          "Clean + Planet Positive",
          "Clean at Sephora",
          "Warm &Spicy Scent",
          "Without Parabens",
          "Woody & Earthy Scent",
          "Hypoallergenic",
          "Refill Available",
          "Without Sulfates SLS & SLES",
          "Without Mineral Oil",
          "Gluten Free",
          "allure 2020 Best of Beauty Award Winner",
          "allure 2022 Best of Beauty Award Winner",
          "Alcohol Free"
         ],
         "xaxis": "x",
         "y": [
          309,
          256,
          224,
          203,
          184,
          121,
          104,
          97,
          95,
          94,
          94,
          92,
          43,
          26,
          17,
          14,
          14,
          13,
          12,
          6
         ],
         "yaxis": "y"
        }
       ],
       "layout": {
        "barmode": "relative",
        "coloraxis": {
         "colorbar": {
          "title": {
           "text": "Count"
          }
         },
         "colorscale": [
          [
           0,
           "#440154"
          ],
          [
           0.1111111111111111,
           "#482878"
          ],
          [
           0.2222222222222222,
           "#3e4989"
          ],
          [
           0.3333333333333333,
           "#31688e"
          ],
          [
           0.4444444444444444,
           "#26828e"
          ],
          [
           0.5555555555555556,
           "#1f9e89"
          ],
          [
           0.6666666666666666,
           "#35b779"
          ],
          [
           0.7777777777777778,
           "#6ece58"
          ],
          [
           0.8888888888888888,
           "#b5de2b"
          ],
          [
           1,
           "#fde725"
          ]
         ]
        },
        "legend": {
         "tracegroupgap": 0
        },
        "template": {
         "data": {
          "bar": [
           {
            "error_x": {
             "color": "#2a3f5f"
            },
            "error_y": {
             "color": "#2a3f5f"
            },
            "marker": {
             "line": {
              "color": "#E5ECF6",
              "width": 0.5
             },
             "pattern": {
              "fillmode": "overlay",
              "size": 10,
              "solidity": 0.2
             }
            },
            "type": "bar"
           }
          ],
          "barpolar": [
           {
            "marker": {
             "line": {
              "color": "#E5ECF6",
              "width": 0.5
             },
             "pattern": {
              "fillmode": "overlay",
              "size": 10,
              "solidity": 0.2
             }
            },
            "type": "barpolar"
           }
          ],
          "carpet": [
           {
            "aaxis": {
             "endlinecolor": "#2a3f5f",
             "gridcolor": "white",
             "linecolor": "white",
             "minorgridcolor": "white",
             "startlinecolor": "#2a3f5f"
            },
            "baxis": {
             "endlinecolor": "#2a3f5f",
             "gridcolor": "white",
             "linecolor": "white",
             "minorgridcolor": "white",
             "startlinecolor": "#2a3f5f"
            },
            "type": "carpet"
           }
          ],
          "choropleth": [
           {
            "colorbar": {
             "outlinewidth": 0,
             "ticks": ""
            },
            "type": "choropleth"
           }
          ],
          "contour": [
           {
            "colorbar": {
             "outlinewidth": 0,
             "ticks": ""
            },
            "colorscale": [
             [
              0,
              "#0d0887"
             ],
             [
              0.1111111111111111,
              "#46039f"
             ],
             [
              0.2222222222222222,
              "#7201a8"
             ],
             [
              0.3333333333333333,
              "#9c179e"
             ],
             [
              0.4444444444444444,
              "#bd3786"
             ],
             [
              0.5555555555555556,
              "#d8576b"
             ],
             [
              0.6666666666666666,
              "#ed7953"
             ],
             [
              0.7777777777777778,
              "#fb9f3a"
             ],
             [
              0.8888888888888888,
              "#fdca26"
             ],
             [
              1,
              "#f0f921"
             ]
            ],
            "type": "contour"
           }
          ],
          "contourcarpet": [
           {
            "colorbar": {
             "outlinewidth": 0,
             "ticks": ""
            },
            "type": "contourcarpet"
           }
          ],
          "heatmap": [
           {
            "colorbar": {
             "outlinewidth": 0,
             "ticks": ""
            },
            "colorscale": [
             [
              0,
              "#0d0887"
             ],
             [
              0.1111111111111111,
              "#46039f"
             ],
             [
              0.2222222222222222,
              "#7201a8"
             ],
             [
              0.3333333333333333,
              "#9c179e"
             ],
             [
              0.4444444444444444,
              "#bd3786"
             ],
             [
              0.5555555555555556,
              "#d8576b"
             ],
             [
              0.6666666666666666,
              "#ed7953"
             ],
             [
              0.7777777777777778,
              "#fb9f3a"
             ],
             [
              0.8888888888888888,
              "#fdca26"
             ],
             [
              1,
              "#f0f921"
             ]
            ],
            "type": "heatmap"
           }
          ],
          "heatmapgl": [
           {
            "colorbar": {
             "outlinewidth": 0,
             "ticks": ""
            },
            "colorscale": [
             [
              0,
              "#0d0887"
             ],
             [
              0.1111111111111111,
              "#46039f"
             ],
             [
              0.2222222222222222,
              "#7201a8"
             ],
             [
              0.3333333333333333,
              "#9c179e"
             ],
             [
              0.4444444444444444,
              "#bd3786"
             ],
             [
              0.5555555555555556,
              "#d8576b"
             ],
             [
              0.6666666666666666,
              "#ed7953"
             ],
             [
              0.7777777777777778,
              "#fb9f3a"
             ],
             [
              0.8888888888888888,
              "#fdca26"
             ],
             [
              1,
              "#f0f921"
             ]
            ],
            "type": "heatmapgl"
           }
          ],
          "histogram": [
           {
            "marker": {
             "pattern": {
              "fillmode": "overlay",
              "size": 10,
              "solidity": 0.2
             }
            },
            "type": "histogram"
           }
          ],
          "histogram2d": [
           {
            "colorbar": {
             "outlinewidth": 0,
             "ticks": ""
            },
            "colorscale": [
             [
              0,
              "#0d0887"
             ],
             [
              0.1111111111111111,
              "#46039f"
             ],
             [
              0.2222222222222222,
              "#7201a8"
             ],
             [
              0.3333333333333333,
              "#9c179e"
             ],
             [
              0.4444444444444444,
              "#bd3786"
             ],
             [
              0.5555555555555556,
              "#d8576b"
             ],
             [
              0.6666666666666666,
              "#ed7953"
             ],
             [
              0.7777777777777778,
              "#fb9f3a"
             ],
             [
              0.8888888888888888,
              "#fdca26"
             ],
             [
              1,
              "#f0f921"
             ]
            ],
            "type": "histogram2d"
           }
          ],
          "histogram2dcontour": [
           {
            "colorbar": {
             "outlinewidth": 0,
             "ticks": ""
            },
            "colorscale": [
             [
              0,
              "#0d0887"
             ],
             [
              0.1111111111111111,
              "#46039f"
             ],
             [
              0.2222222222222222,
              "#7201a8"
             ],
             [
              0.3333333333333333,
              "#9c179e"
             ],
             [
              0.4444444444444444,
              "#bd3786"
             ],
             [
              0.5555555555555556,
              "#d8576b"
             ],
             [
              0.6666666666666666,
              "#ed7953"
             ],
             [
              0.7777777777777778,
              "#fb9f3a"
             ],
             [
              0.8888888888888888,
              "#fdca26"
             ],
             [
              1,
              "#f0f921"
             ]
            ],
            "type": "histogram2dcontour"
           }
          ],
          "mesh3d": [
           {
            "colorbar": {
             "outlinewidth": 0,
             "ticks": ""
            },
            "type": "mesh3d"
           }
          ],
          "parcoords": [
           {
            "line": {
             "colorbar": {
              "outlinewidth": 0,
              "ticks": ""
             }
            },
            "type": "parcoords"
           }
          ],
          "pie": [
           {
            "automargin": true,
            "type": "pie"
           }
          ],
          "scatter": [
           {
            "fillpattern": {
             "fillmode": "overlay",
             "size": 10,
             "solidity": 0.2
            },
            "type": "scatter"
           }
          ],
          "scatter3d": [
           {
            "line": {
             "colorbar": {
              "outlinewidth": 0,
              "ticks": ""
             }
            },
            "marker": {
             "colorbar": {
              "outlinewidth": 0,
              "ticks": ""
             }
            },
            "type": "scatter3d"
           }
          ],
          "scattercarpet": [
           {
            "marker": {
             "colorbar": {
              "outlinewidth": 0,
              "ticks": ""
             }
            },
            "type": "scattercarpet"
           }
          ],
          "scattergeo": [
           {
            "marker": {
             "colorbar": {
              "outlinewidth": 0,
              "ticks": ""
             }
            },
            "type": "scattergeo"
           }
          ],
          "scattergl": [
           {
            "marker": {
             "colorbar": {
              "outlinewidth": 0,
              "ticks": ""
             }
            },
            "type": "scattergl"
           }
          ],
          "scattermapbox": [
           {
            "marker": {
             "colorbar": {
              "outlinewidth": 0,
              "ticks": ""
             }
            },
            "type": "scattermapbox"
           }
          ],
          "scatterpolar": [
           {
            "marker": {
             "colorbar": {
              "outlinewidth": 0,
              "ticks": ""
             }
            },
            "type": "scatterpolar"
           }
          ],
          "scatterpolargl": [
           {
            "marker": {
             "colorbar": {
              "outlinewidth": 0,
              "ticks": ""
             }
            },
            "type": "scatterpolargl"
           }
          ],
          "scatterternary": [
           {
            "marker": {
             "colorbar": {
              "outlinewidth": 0,
              "ticks": ""
             }
            },
            "type": "scatterternary"
           }
          ],
          "surface": [
           {
            "colorbar": {
             "outlinewidth": 0,
             "ticks": ""
            },
            "colorscale": [
             [
              0,
              "#0d0887"
             ],
             [
              0.1111111111111111,
              "#46039f"
             ],
             [
              0.2222222222222222,
              "#7201a8"
             ],
             [
              0.3333333333333333,
              "#9c179e"
             ],
             [
              0.4444444444444444,
              "#bd3786"
             ],
             [
              0.5555555555555556,
              "#d8576b"
             ],
             [
              0.6666666666666666,
              "#ed7953"
             ],
             [
              0.7777777777777778,
              "#fb9f3a"
             ],
             [
              0.8888888888888888,
              "#fdca26"
             ],
             [
              1,
              "#f0f921"
             ]
            ],
            "type": "surface"
           }
          ],
          "table": [
           {
            "cells": {
             "fill": {
              "color": "#EBF0F8"
             },
             "line": {
              "color": "white"
             }
            },
            "header": {
             "fill": {
              "color": "#C8D4E3"
             },
             "line": {
              "color": "white"
             }
            },
            "type": "table"
           }
          ]
         },
         "layout": {
          "annotationdefaults": {
           "arrowcolor": "#2a3f5f",
           "arrowhead": 0,
           "arrowwidth": 1
          },
          "autotypenumbers": "strict",
          "coloraxis": {
           "colorbar": {
            "outlinewidth": 0,
            "ticks": ""
           }
          },
          "colorscale": {
           "diverging": [
            [
             0,
             "#8e0152"
            ],
            [
             0.1,
             "#c51b7d"
            ],
            [
             0.2,
             "#de77ae"
            ],
            [
             0.3,
             "#f1b6da"
            ],
            [
             0.4,
             "#fde0ef"
            ],
            [
             0.5,
             "#f7f7f7"
            ],
            [
             0.6,
             "#e6f5d0"
            ],
            [
             0.7,
             "#b8e186"
            ],
            [
             0.8,
             "#7fbc41"
            ],
            [
             0.9,
             "#4d9221"
            ],
            [
             1,
             "#276419"
            ]
           ],
           "sequential": [
            [
             0,
             "#0d0887"
            ],
            [
             0.1111111111111111,
             "#46039f"
            ],
            [
             0.2222222222222222,
             "#7201a8"
            ],
            [
             0.3333333333333333,
             "#9c179e"
            ],
            [
             0.4444444444444444,
             "#bd3786"
            ],
            [
             0.5555555555555556,
             "#d8576b"
            ],
            [
             0.6666666666666666,
             "#ed7953"
            ],
            [
             0.7777777777777778,
             "#fb9f3a"
            ],
            [
             0.8888888888888888,
             "#fdca26"
            ],
            [
             1,
             "#f0f921"
            ]
           ],
           "sequentialminus": [
            [
             0,
             "#0d0887"
            ],
            [
             0.1111111111111111,
             "#46039f"
            ],
            [
             0.2222222222222222,
             "#7201a8"
            ],
            [
             0.3333333333333333,
             "#9c179e"
            ],
            [
             0.4444444444444444,
             "#bd3786"
            ],
            [
             0.5555555555555556,
             "#d8576b"
            ],
            [
             0.6666666666666666,
             "#ed7953"
            ],
            [
             0.7777777777777778,
             "#fb9f3a"
            ],
            [
             0.8888888888888888,
             "#fdca26"
            ],
            [
             1,
             "#f0f921"
            ]
           ]
          },
          "colorway": [
           "#636efa",
           "#EF553B",
           "#00cc96",
           "#ab63fa",
           "#FFA15A",
           "#19d3f3",
           "#FF6692",
           "#B6E880",
           "#FF97FF",
           "#FECB52"
          ],
          "font": {
           "color": "#2a3f5f"
          },
          "geo": {
           "bgcolor": "white",
           "lakecolor": "white",
           "landcolor": "#E5ECF6",
           "showlakes": true,
           "showland": true,
           "subunitcolor": "white"
          },
          "hoverlabel": {
           "align": "left"
          },
          "hovermode": "closest",
          "mapbox": {
           "style": "light"
          },
          "paper_bgcolor": "white",
          "plot_bgcolor": "#E5ECF6",
          "polar": {
           "angularaxis": {
            "gridcolor": "white",
            "linecolor": "white",
            "ticks": ""
           },
           "bgcolor": "#E5ECF6",
           "radialaxis": {
            "gridcolor": "white",
            "linecolor": "white",
            "ticks": ""
           }
          },
          "scene": {
           "xaxis": {
            "backgroundcolor": "#E5ECF6",
            "gridcolor": "white",
            "gridwidth": 2,
            "linecolor": "white",
            "showbackground": true,
            "ticks": "",
            "zerolinecolor": "white"
           },
           "yaxis": {
            "backgroundcolor": "#E5ECF6",
            "gridcolor": "white",
            "gridwidth": 2,
            "linecolor": "white",
            "showbackground": true,
            "ticks": "",
            "zerolinecolor": "white"
           },
           "zaxis": {
            "backgroundcolor": "#E5ECF6",
            "gridcolor": "white",
            "gridwidth": 2,
            "linecolor": "white",
            "showbackground": true,
            "ticks": "",
            "zerolinecolor": "white"
           }
          },
          "shapedefaults": {
           "line": {
            "color": "#2a3f5f"
           }
          },
          "ternary": {
           "aaxis": {
            "gridcolor": "white",
            "linecolor": "white",
            "ticks": ""
           },
           "baxis": {
            "gridcolor": "white",
            "linecolor": "white",
            "ticks": ""
           },
           "bgcolor": "#E5ECF6",
           "caxis": {
            "gridcolor": "white",
            "linecolor": "white",
            "ticks": ""
           }
          },
          "title": {
           "x": 0.05
          },
          "xaxis": {
           "automargin": true,
           "gridcolor": "white",
           "linecolor": "white",
           "ticks": "",
           "title": {
            "standoff": 15
           },
           "zerolinecolor": "white",
           "zerolinewidth": 2
          },
          "yaxis": {
           "automargin": true,
           "gridcolor": "white",
           "linecolor": "white",
           "ticks": "",
           "title": {
            "standoff": 15
           },
           "zerolinecolor": "white",
           "zerolinewidth": 2
          }
         }
        },
        "title": {
         "text": "Most Popular Phrases in Highlights"
        },
        "xaxis": {
         "anchor": "y",
         "domain": [
          0,
          1
         ],
         "title": {
          "text": "phrase"
         }
        },
        "yaxis": {
         "anchor": "x",
         "domain": [
          0,
          1
         ],
         "title": {
          "text": "Count"
         }
        }
       }
      }
     },
     "metadata": {},
     "output_type": "display_data"
    }
   ],
   "source": [
    "from collections import Counter\n",
    "# Initialize a Counter to count phrases\n",
    "phrase_counter = Counter()\n",
    "\n",
    "# Iterate through the highlights to count phrases\n",
    "for highlight in fragrant_data['highlights']:\n",
    "    if isinstance(highlight, str):  # Ensure it's a string\n",
    "        phrases = eval(highlight)  # Convert string representation of list to actual list\n",
    "        phrase_counter.update(phrases)\n",
    "    else:\n",
    "        print(f\"Unexpected type: {type(highlight)}\")\n",
    "\n",
    "# Get the most common phrases and their counts\n",
    "most_common_phrases = phrase_counter.most_common(20)  # Adjust the number of phrases to display\n",
    "if most_common_phrases:\n",
    "    phrases, counts = zip(*most_common_phrases)\n",
    "    popular_phrases = pd.DataFrame({'phrase': phrases, 'count': counts})\n",
    "\n",
    "    # Plotting the most popular phrases\n",
    "    fig3 = px.bar(popular_phrases, \n",
    "                   x='phrase', \n",
    "                   y='count',\n",
    "                   title='Most Popular Phrases in Highlights',\n",
    "                   labels={'count': 'Count'},\n",
    "                   color='count',\n",
    "                   color_continuous_scale=px.colors.sequential.Viridis)\n",
    "\n",
    "    fig3.show()\n",
    "else:\n",
    "    print(\"No common phrases found.\")"
   ]
  }
 ],
 "metadata": {
  "kernelspec": {
   "display_name": "ds4003",
   "language": "python",
   "name": "python3"
  },
  "language_info": {
   "codemirror_mode": {
    "name": "ipython",
    "version": 3
   },
   "file_extension": ".py",
   "mimetype": "text/x-python",
   "name": "python",
   "nbconvert_exporter": "python",
   "pygments_lexer": "ipython3",
   "version": "3.8.18"
  }
 },
 "nbformat": 4,
 "nbformat_minor": 2
}
