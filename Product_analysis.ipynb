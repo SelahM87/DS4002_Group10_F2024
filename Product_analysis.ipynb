{
 "cells": [
  {
   "cell_type": "code",
   "execution_count": 77,
   "metadata": {},
   "outputs": [],
   "source": [
    "\n",
    "import pandas as pd\n",
    "import plotly.express as px\n",
    "products_df = pd.read_csv(\"/Users/selahmitchell/Desktop/DS interactive app/plotly-dash/product_info.csv\")"
   ]
  },
  {
   "cell_type": "code",
   "execution_count": null,
   "metadata": {},
   "outputs": [],
   "source": []
  },
  {
   "cell_type": "code",
   "execution_count": null,
   "metadata": {},
   "outputs": [],
   "source": []
  },
  {
   "cell_type": "code",
   "execution_count": 78,
   "metadata": {},
   "outputs": [
    {
     "name": "stdout",
     "output_type": "stream",
     "text": [
      "['Fragrance' 'Bath & Body' 'Mini Size' 'Hair' 'Makeup' 'Skincare'\n",
      " 'Tools & Brushes' 'Men' 'Gifts']\n"
     ]
    }
   ],
   "source": [
    "\n",
    "print(products_df['primary_category'].unique())\n"
   ]
  },
  {
   "cell_type": "code",
   "execution_count": 79,
   "metadata": {},
   "outputs": [
    {
     "name": "stdout",
     "output_type": "stream",
     "text": [
      "     product_id                                       product_name  brand_id  \\\n",
      "89      P439055               GENIUS Sleeping Collagen Moisturizer      6018   \n",
      "90      P421277                       GENIUS Liquid Collagen Serum      6018   \n",
      "91      P467602            Triple Algae Eye Renewal Balm Eye Cream      6018   \n",
      "92      P432045               GENIUS Liquid Collagen Lip Treatment      6018   \n",
      "93      P311143  SUBLIME DEFENSE Ultra Lightweight UV Defense F...      6018   \n",
      "...         ...                                                ...       ...   \n",
      "8424    P501474  The Youth Vault: 13-Piece Vegan Skincare + App...      6169   \n",
      "8425    P502998  Youth Stacks: Plump It Up for Dry, Dehydrated ...      6169   \n",
      "8426    P503872     Mini Mandelic Acid + Superfood Unity Exfoliant      6169   \n",
      "8427    P502977  Youth Stacks: Daily Skin Health Your Way for P...      6169   \n",
      "8428    P502978   Youth Stacks: Brighter Tomorrow Duo for Dullness      6169   \n",
      "\n",
      "               brand_name  loves_count  rating  reviews           size  \\\n",
      "89               Algenist        33910  4.5413   1321.0    2 oz/ 60 mL   \n",
      "90               Algenist        67870  4.0259   1159.0  1 oz  / 30 mL   \n",
      "91               Algenist        17890  4.5306   1142.0            NaN   \n",
      "92               Algenist        44448  3.8721    649.0  .5 oz / 15 mL   \n",
      "93               Algenist        27278  4.4134    508.0           1 oz   \n",
      "...                   ...          ...     ...      ...            ...   \n",
      "8424  Youth To The People         8989  4.8750      8.0            NaN   \n",
      "8425  Youth To The People        10406  4.1667      6.0            NaN   \n",
      "8426  Youth To The People         6510  4.8000      5.0   1 oz / 30 mL   \n",
      "8427  Youth To The People        13592  4.2500      4.0            NaN   \n",
      "8428  Youth To The People         8189  3.0000      3.0            NaN   \n",
      "\n",
      "     variation_type variation_value  ... online_only out_of_stock  \\\n",
      "89             Size     2 oz/ 60 mL  ...           0            0   \n",
      "90             Size   1 oz  / 30 mL  ...           0            0   \n",
      "91              NaN             NaN  ...           0            0   \n",
      "92             Size   .5 oz / 15 mL  ...           0            0   \n",
      "93             Size            1 oz  ...           0            0   \n",
      "...             ...             ...  ...         ...          ...   \n",
      "8424            NaN             NaN  ...           1            0   \n",
      "8425            NaN             NaN  ...           0            0   \n",
      "8426           Size    1 oz / 30 mL  ...           0            0   \n",
      "8427            NaN             NaN  ...           0            0   \n",
      "8428            NaN             NaN  ...           0            0   \n",
      "\n",
      "      sephora_exclusive                                         highlights  \\\n",
      "89                    1  ['Vegan', 'Good for: Loss of firmness', 'Colla...   \n",
      "90                    1  ['Vegan', 'Good for: Loss of firmness', 'Colla...   \n",
      "91                    1                                                NaN   \n",
      "92                    1  ['Vegan', 'Good for: Loss of firmness', 'Plump...   \n",
      "93                    0  ['Vegan', 'Hypoallergenic', 'UV Protection', '...   \n",
      "...                 ...                                                ...   \n",
      "8424                  1  ['Clean at Sephora', 'Hydrating', 'Good for: A...   \n",
      "8425                  0  ['Vegan', 'Hyaluronic Acid', 'Clean at Sephora...   \n",
      "8426                  0  ['Clean + Planet Positive', 'Good for: Pores',...   \n",
      "8427                  0  ['Vegan', 'Good for: Pores', 'Clean + Planet P...   \n",
      "8428                  0  ['Vegan', 'Good for: Dullness/Uneven Texture',...   \n",
      "\n",
      "      primary_category      secondary_category        tertiary_category  \\\n",
      "89            Skincare            Moisturizers             Moisturizers   \n",
      "90            Skincare              Treatments              Face Serums   \n",
      "91            Skincare                Eye Care  Eye Creams & Treatments   \n",
      "92            Skincare  Lip Balms & Treatments                      NaN   \n",
      "93            Skincare               Sunscreen           Face Sunscreen   \n",
      "...                ...                     ...                      ...   \n",
      "8424          Skincare       Value & Gift Sets                      NaN   \n",
      "8425          Skincare       Value & Gift Sets                      NaN   \n",
      "8426          Skincare               Cleansers                   Toners   \n",
      "8427          Skincare       Value & Gift Sets                      NaN   \n",
      "8428          Skincare       Value & Gift Sets                      NaN   \n",
      "\n",
      "      child_count  child_max_price  child_min_price  \n",
      "89              0              NaN              NaN  \n",
      "90              1             25.0             25.0  \n",
      "91              0              NaN              NaN  \n",
      "92              0              NaN              NaN  \n",
      "93              0              NaN              NaN  \n",
      "...           ...              ...              ...  \n",
      "8424            0              NaN              NaN  \n",
      "8425            0              NaN              NaN  \n",
      "8426            0              NaN              NaN  \n",
      "8427            0              NaN              NaN  \n",
      "8428            0              NaN              NaN  \n",
      "\n",
      "[2420 rows x 27 columns]\n"
     ]
    },
    {
     "data": {
      "text/plain": [
       "array(['Moisturizers', 'Treatments', 'Eye Care', 'Lip Balms & Treatments',\n",
       "       'Sunscreen', 'Cleansers', 'Value & Gift Sets', 'Masks',\n",
       "       'Mini Size', 'Wellness', 'High Tech Tools', 'Self Tanners',\n",
       "       'Shop by Concern'], dtype=object)"
      ]
     },
     "execution_count": 79,
     "metadata": {},
     "output_type": "execute_result"
    }
   ],
   "source": [
    "Skincare_df = products_df[products_df['primary_category'] == \"Skincare\"]\n",
    "# Print the filtered DataFrame\n",
    "print(Skincare_df)\n",
    "Skincare_df['secondary_category'].unique()\n"
   ]
  },
  {
   "cell_type": "code",
   "execution_count": 80,
   "metadata": {},
   "outputs": [
    {
     "name": "stdout",
     "output_type": "stream",
     "text": [
      "     product_id                                       product_name  brand_id  \\\n",
      "89      P439055               GENIUS Sleeping Collagen Moisturizer      6018   \n",
      "93      P311143  SUBLIME DEFENSE Ultra Lightweight UV Defense F...      6018   \n",
      "94      P384537                   GENIUS Ultimate Anti-Aging Cream      6018   \n",
      "95      P388200        GENIUS Ultimate Anti-Aging Melting Cleanser      6018   \n",
      "96      P296413                       Gentle Rejuvenating Cleanser      6018   \n",
      "...         ...                                                ...       ...   \n",
      "8413    P475630     Mini Mandelic Acid + Superfood Unity Exfoliant      6169   \n",
      "8416    P444980  Adaptogen Soothe + Hydrate Activated Mist with...      6169   \n",
      "8417    P500138  Polypeptide-121 Future Cream with Peptides and...      6169   \n",
      "8421    P502479  Kombucha + 10% AHA Liquid Exfoliant with Lacti...      6169   \n",
      "8426    P503872     Mini Mandelic Acid + Superfood Unity Exfoliant      6169   \n",
      "\n",
      "               brand_name  loves_count  rating  reviews           size  \\\n",
      "89               Algenist        33910  4.5413   1321.0    2 oz/ 60 mL   \n",
      "93               Algenist        27278  4.4134    508.0           1 oz   \n",
      "94               Algenist        19733  4.2525    503.0    2 oz/ 60 mL   \n",
      "95               Algenist         9314  4.0569    334.0   5 oz/ 150 mL   \n",
      "96               Algenist         7681  4.2689    264.0   4 oz/ 120 mL   \n",
      "...                   ...          ...     ...      ...            ...   \n",
      "8413  Youth To The People        36699  4.6747    584.0   1 oz / 30 mL   \n",
      "8416  Youth To The People        34503  4.1878    394.0   4 oz/ 118 mL   \n",
      "8417  Youth To The People        29088  4.4403    377.0   2 oz / 60 mL   \n",
      "8421  Youth To The People        11299  4.5926     81.0  4 oz / 118 mL   \n",
      "8426  Youth To The People         6510  4.8000      5.0   1 oz / 30 mL   \n",
      "\n",
      "     variation_type variation_value  ... online_only out_of_stock  \\\n",
      "89             Size     2 oz/ 60 mL  ...           0            0   \n",
      "93             Size            1 oz  ...           0            0   \n",
      "94             Size     2 oz/ 60 mL  ...           0            0   \n",
      "95             Size    5 oz/ 150 mL  ...           0            1   \n",
      "96             Size    4 oz/ 120 mL  ...           0            0   \n",
      "...             ...             ...  ...         ...          ...   \n",
      "8413           Size    1 oz / 30 mL  ...           0            0   \n",
      "8416           Size    4 oz/ 118 mL  ...           0            0   \n",
      "8417           Size    2 oz / 60 mL  ...           0            0   \n",
      "8421           Size   4 oz / 118 mL  ...           0            0   \n",
      "8426           Size    1 oz / 30 mL  ...           0            0   \n",
      "\n",
      "      sephora_exclusive                                         highlights  \\\n",
      "89                    1  ['Vegan', 'Good for: Loss of firmness', 'Colla...   \n",
      "93                    0  ['Vegan', 'Hypoallergenic', 'UV Protection', '...   \n",
      "94                    0  ['Vegan', 'Collagen', 'Hypoallergenic', 'Good ...   \n",
      "95                    0                                                NaN   \n",
      "96                    0                                                NaN   \n",
      "...                 ...                                                ...   \n",
      "8413                  0  ['Clean + Planet Positive', 'Good for: Pores',...   \n",
      "8416                  0  ['Good for: Redness', 'Good for: Dullness/Unev...   \n",
      "8417                  1  ['Good for: Loss of firmness', 'Clean + Planet...   \n",
      "8421                  0  ['Good for: Dullness/Uneven Texture', 'Lactic ...   \n",
      "8426                  0  ['Clean + Planet Positive', 'Good for: Pores',...   \n",
      "\n",
      "      primary_category  secondary_category      tertiary_category  \\\n",
      "89            Skincare        Moisturizers           Moisturizers   \n",
      "93            Skincare           Sunscreen         Face Sunscreen   \n",
      "94            Skincare        Moisturizers           Moisturizers   \n",
      "95            Skincare           Cleansers  Face Wash & Cleansers   \n",
      "96            Skincare           Cleansers  Face Wash & Cleansers   \n",
      "...                ...                 ...                    ...   \n",
      "8413          Skincare           Cleansers                 Toners   \n",
      "8416          Skincare        Moisturizers       Mists & Essences   \n",
      "8417          Skincare        Moisturizers           Moisturizers   \n",
      "8421          Skincare           Cleansers            Exfoliators   \n",
      "8426          Skincare           Cleansers                 Toners   \n",
      "\n",
      "      child_count  child_max_price  child_min_price  \n",
      "89              0              NaN              NaN  \n",
      "93              0              NaN              NaN  \n",
      "94              1             75.0             75.0  \n",
      "95              0              NaN              NaN  \n",
      "96              0              NaN              NaN  \n",
      "...           ...              ...              ...  \n",
      "8413            0              NaN              NaN  \n",
      "8416            0              NaN              NaN  \n",
      "8417            0              NaN              NaN  \n",
      "8421            0              NaN              NaN  \n",
      "8426            0              NaN              NaN  \n",
      "\n",
      "[1132 rows x 27 columns]\n"
     ]
    }
   ],
   "source": [
    "# Define the list of secondary categories to filter\n",
    "secondary_categories = [\n",
    "    'Mini Size',\n",
    "    'Sunscreen',\n",
    "    'Cleansers',\n",
    "    'Moisturizers'\n",
    "]\n",
    "\n",
    "# Filter the DataFrame for the specified secondary categories\n",
    "Skincare_df = Skincare_df[Skincare_df['secondary_category'].isin(secondary_categories)]\n",
    "\n",
    "# Print the filtered DataFrame\n",
    "print(Skincare_df)"
   ]
  },
  {
   "cell_type": "code",
   "execution_count": 81,
   "metadata": {},
   "outputs": [
    {
     "name": "stdout",
     "output_type": "stream",
     "text": [
      "<class 'pandas.core.frame.DataFrame'>\n",
      "Index: 1110 entries, 89 to 8426\n",
      "Data columns (total 27 columns):\n",
      " #   Column              Non-Null Count  Dtype  \n",
      "---  ------              --------------  -----  \n",
      " 0   product_id          1110 non-null   object \n",
      " 1   product_name        1110 non-null   object \n",
      " 2   brand_id            1110 non-null   int64  \n",
      " 3   brand_name          1110 non-null   object \n",
      " 4   loves_count         1110 non-null   int64  \n",
      " 5   rating              1110 non-null   float64\n",
      " 6   reviews             1110 non-null   float64\n",
      " 7   size                1092 non-null   object \n",
      " 8   variation_type      1072 non-null   object \n",
      " 9   variation_value     1058 non-null   object \n",
      " 10  variation_desc      3 non-null      object \n",
      " 11  ingredients         1085 non-null   object \n",
      " 12  price_usd           1110 non-null   float64\n",
      " 13  value_price_usd     7 non-null      float64\n",
      " 14  sale_price_usd      15 non-null     float64\n",
      " 15  limited_edition     1110 non-null   int64  \n",
      " 16  new                 1110 non-null   int64  \n",
      " 17  online_only         1110 non-null   int64  \n",
      " 18  out_of_stock        1110 non-null   int64  \n",
      " 19  sephora_exclusive   1110 non-null   int64  \n",
      " 20  highlights          938 non-null    object \n",
      " 21  primary_category    1110 non-null   object \n",
      " 22  secondary_category  1110 non-null   object \n",
      " 23  tertiary_category   993 non-null    object \n",
      " 24  child_count         1110 non-null   int64  \n",
      " 25  child_max_price     213 non-null    float64\n",
      " 26  child_min_price     213 non-null    float64\n",
      "dtypes: float64(7), int64(8), object(12)\n",
      "memory usage: 242.8+ KB\n"
     ]
    }
   ],
   "source": [
    "# Filter out rows with no reviews (assuming the reviews are in a column named 'reviews')\n",
    "Skincare_df  = Skincare_df [Skincare_df ['reviews'].notnull()]\n",
    "\n",
    "# 1339 fragrants with reviews\n",
    "#print(Skincare_df )\n",
    "Skincare_df .info()"
   ]
  },
  {
   "cell_type": "code",
   "execution_count": 67,
   "metadata": {},
   "outputs": [
    {
     "name": "stdout",
     "output_type": "stream",
     "text": [
      "     product_id                                       product_name  brand_id  \\\n",
      "93      P311143  SUBLIME DEFENSE Ultra Lightweight UV Defense F...      6018   \n",
      "619     P456410  Squalane + Zinc Sheer Mineral Sunscreen SPF 30...      6195   \n",
      "1127    P481367  Isle Lip Balm SPF 30 with Sea Moss and Aloe St...      6742   \n",
      "1131    P500287    Isle Body Oil SPF 30 with Sea Moss and Squalane      6742   \n",
      "1433    P196542  City Block Sheer Oil-Free Daily Face Protector...      1254   \n",
      "...         ...                                                ...       ...   \n",
      "7336    P470545  Super Gloss Instant Bronzing Face Drops with S...      6225   \n",
      "7530    P481169  The Silk Sunscreen Mineral Broad Spectrum SPF ...      6041   \n",
      "7624    P505711            Polyglutamic Acid Dewy Sunscreen SPF 30      6285   \n",
      "7942    P482754  Mineral Magic Oil-Free Mineral Sunscreen Fluid...      6373   \n",
      "8345    P503635              Pack Up & Glow Priming Mineral SPF 40      6149   \n",
      "\n",
      "          brand_name  loves_count  rating  reviews             size  \\\n",
      "93          Algenist        27278  4.4134    508.0             1 oz   \n",
      "619        Biossance        54584  3.8812    648.0  1.69 oz / 50 mL   \n",
      "1127        CAY SKIN        23148  4.0814    221.0   .35 oz / 10 mL   \n",
      "1131        CAY SKIN         6848  4.6000     10.0  3.7 oz / 110 mL   \n",
      "1433        CLINIQUE         7325  4.1146    480.0    1.4 oz/ 40 mL   \n",
      "...              ...          ...     ...      ...              ...   \n",
      "7336        TAN-LUXE         5117  4.4286     21.0   1.01 oz/ 30 mL   \n",
      "7530          Tatcha        37047  3.3975    483.0    1.7 oz/ 50 mL   \n",
      "7624  The INKEY List          164  4.8654     52.0   1.7 oz / 50 ml   \n",
      "7942   TULA Skincare         3802  4.3548     62.0   1.52 oz/ 45 mL   \n",
      "8345   Wander Beauty         1160  4.2500      4.0  1.69 oz / 50 mL   \n",
      "\n",
      "     variation_type  variation_value  ... out_of_stock sephora_exclusive  \\\n",
      "93             Size             1 oz  ...            0                 0   \n",
      "619            Size  1.69 oz / 50 mL  ...            0                 1   \n",
      "1127          Color            Clear  ...            0                 1   \n",
      "1131           Size  3.7 oz / 110 mL  ...            0                 1   \n",
      "1433           Size    1.4 oz/ 40 mL  ...            0                 0   \n",
      "...             ...              ...  ...          ...               ...   \n",
      "7336           Size   1.01 oz/ 30 mL  ...            0                 0   \n",
      "7530           Size    1.7 oz/ 50 mL  ...            0                 1   \n",
      "7624           Size   1.7 oz / 50 ml  ...            1                 1   \n",
      "7942           Size   1.52 oz/ 45 mL  ...            0                 0   \n",
      "8345           Size  1.69 oz / 50 mL  ...            0                 0   \n",
      "\n",
      "                                             highlights  primary_category  \\\n",
      "93    ['Vegan', 'Hypoallergenic', 'UV Protection', '...          Skincare   \n",
      "619   ['Vegan', 'Clean + Planet Positive', 'Good for...          Skincare   \n",
      "1127  ['Vegan', 'Clean at Sephora', 'UV Protection',...          Skincare   \n",
      "1131  ['Vegan', 'Hydrating', 'Clean at Sephora', 'UV...          Skincare   \n",
      "1433                                                NaN          Skincare   \n",
      "...                                                 ...               ...   \n",
      "7336                                                NaN          Skincare   \n",
      "7530  ['Radiant Finish', 'Hyaluronic Acid', 'Clean a...          Skincare   \n",
      "7624  ['Vegan', 'Hydrating', 'Clean at Sephora', 'UV...          Skincare   \n",
      "7942  ['Clean at Sephora', 'Reef Safe SPF', 'Best fo...          Skincare   \n",
      "8345  ['Vegan', 'Clean at Sephora', 'Satin Finish', ...          Skincare   \n",
      "\n",
      "          secondary_category  tertiary_category  child_count  child_max_price  \\\n",
      "93                 Sunscreen     Face Sunscreen            0              NaN   \n",
      "619                Sunscreen     Face Sunscreen            1             46.0   \n",
      "1127  Lip Balms & Treatments                NaN            2             14.0   \n",
      "1131               Sunscreen     Body Sunscreen            0              NaN   \n",
      "1433               Sunscreen     Face Sunscreen            0              NaN   \n",
      "...                      ...                ...          ...              ...   \n",
      "7336            Self Tanners           For Face            0              NaN   \n",
      "7530               Sunscreen     Face Sunscreen            1             25.0   \n",
      "7624               Sunscreen     Face Sunscreen            0              NaN   \n",
      "7942               Sunscreen     Face Sunscreen            0              NaN   \n",
      "8345               Sunscreen     Face Sunscreen            0              NaN   \n",
      "\n",
      "      child_min_price  Product_Type  \n",
      "93                NaN     Sunscreen  \n",
      "619              46.0     Sunscreen  \n",
      "1127             14.0     Sunscreen  \n",
      "1131              NaN     Sunscreen  \n",
      "1433              NaN     Sunscreen  \n",
      "...               ...           ...  \n",
      "7336              NaN     Sunscreen  \n",
      "7530             25.0     Sunscreen  \n",
      "7624              NaN     Sunscreen  \n",
      "7942              NaN     Sunscreen  \n",
      "8345              NaN     Sunscreen  \n",
      "\n",
      "[104 rows x 28 columns]\n"
     ]
    }
   ],
   "source": []
  },
  {
   "cell_type": "code",
   "execution_count": 74,
   "metadata": {},
   "outputs": [
    {
     "name": "stdout",
     "output_type": "stream",
     "text": [
      "398\n"
     ]
    }
   ],
   "source": []
  },
  {
   "cell_type": "code",
   "execution_count": 6,
   "metadata": {},
   "outputs": [
    {
     "name": "stdout",
     "output_type": "stream",
     "text": [
      "     product_id                       product_name  brand_id  \\\n",
      "1       P473668            La Habana Eau de Parfum      6342   \n",
      "2       P473662          Rainbow Bar Eau de Parfum      6342   \n",
      "3       P473660               Kasbah Eau de Parfum      6342   \n",
      "4       P473658          Purple Haze Eau de Parfum      6342   \n",
      "5       P473661  Kasbah Eau de Parfum Travel Spray      6342   \n",
      "...         ...                                ...       ...   \n",
      "8479    P500170  Mon Paris Eau de Toilette Lumiere      1070   \n",
      "8481    P383083             L’Homme Parfum Intense      1070   \n",
      "8483    P460446                  L'Homme Le Parfum      1070   \n",
      "8486    P457262                      Y Eau Fraiche      1070   \n",
      "8490    P500874              L'Homme Eau de Parfum      1070   \n",
      "\n",
      "              brand_name  loves_count  rating  reviews             size  \\\n",
      "1                  19-69         3827  4.1538     13.0   3.4 oz/ 100 mL   \n",
      "2                  19-69         3253  4.2500     16.0   3.4 oz/ 100 mL   \n",
      "3                  19-69         3018  4.4762     21.0   3.4 oz/ 100 mL   \n",
      "4                  19-69         2691  3.2308     13.0   3.4 oz/ 100 mL   \n",
      "5                  19-69         2448  4.4762     21.0  0.25 oz/ 7.5 mL   \n",
      "...                  ...          ...     ...      ...              ...   \n",
      "8479  Yves Saint Laurent         5164  4.6214    346.0   1.7 oz / 50 mL   \n",
      "8481  Yves Saint Laurent         4369  4.5795     88.0   3.3 oz/ 100 mL   \n",
      "8483  Yves Saint Laurent         3812  5.0000      6.0   3.3 oz/ 100 mL   \n",
      "8486  Yves Saint Laurent         3089  4.7333    150.0   3.4 oz/ 100 mL   \n",
      "8490  Yves Saint Laurent         2319  4.6367    556.0     2 oz / 60 mL   \n",
      "\n",
      "                          variation_type                      variation_value  \\\n",
      "1     Size + Concentration + Formulation                       3.4 oz/ 100 mL   \n",
      "2     Size + Concentration + Formulation                       3.4 oz/ 100 mL   \n",
      "3     Size + Concentration + Formulation                       3.4 oz/ 100 mL   \n",
      "4     Size + Concentration + Formulation                       3.4 oz/ 100 mL   \n",
      "5     Size + Concentration + Formulation  0.25 oz/ 7.5 mL Eau de Parfum Spray   \n",
      "...                                  ...                                  ...   \n",
      "8479  Size + Concentration + Formulation                       1.7 oz / 50 mL   \n",
      "8481  Size + Concentration + Formulation   3.3 oz/ 100 mL Eau de Parfum Spray   \n",
      "8483  Size + Concentration + Formulation                       3.3 oz/ 100 mL   \n",
      "8486  Size + Concentration + Formulation                3.4 oz/ 100 mL  Spray   \n",
      "8490  Size + Concentration + Formulation     2 oz / 60 mL eau de parfum spray   \n",
      "\n",
      "      ... online_only out_of_stock  sephora_exclusive  \\\n",
      "1     ...           1            0                  0   \n",
      "2     ...           1            0                  0   \n",
      "3     ...           1            0                  0   \n",
      "4     ...           1            0                  0   \n",
      "5     ...           1            0                  0   \n",
      "...   ...         ...          ...                ...   \n",
      "8479  ...           0            0                  0   \n",
      "8481  ...           0            1                  0   \n",
      "8483  ...           0            0                  0   \n",
      "8486  ...           0            1                  0   \n",
      "8490  ...           0            0                  0   \n",
      "\n",
      "                                             highlights  primary_category  \\\n",
      "1     ['Unisex/ Genderless Scent', 'Layerable Scent'...         Fragrance   \n",
      "2     ['Unisex/ Genderless Scent', 'Layerable Scent'...         Fragrance   \n",
      "3     ['Unisex/ Genderless Scent', 'Layerable Scent'...         Fragrance   \n",
      "4     ['Unisex/ Genderless Scent', 'Layerable Scent'...         Fragrance   \n",
      "5     ['Warm &Spicy Scent', 'Unisex/ Genderless Scen...         Fragrance   \n",
      "...                                                 ...               ...   \n",
      "8479                                                NaN         Fragrance   \n",
      "8481                                                NaN         Fragrance   \n",
      "8483                                                NaN         Fragrance   \n",
      "8486                 ['Fresh Scent', 'Layerable Scent']         Fragrance   \n",
      "8490        ['Layerable Scent', 'Woody & Earthy Scent']         Fragrance   \n",
      "\n",
      "      secondary_category          tertiary_category  child_count  \\\n",
      "1                  Women                    Perfume            2   \n",
      "2                  Women                    Perfume            2   \n",
      "3                  Women                    Perfume            2   \n",
      "4                  Women                    Perfume            2   \n",
      "5                  Women  Rollerballs & Travel Size            0   \n",
      "...                  ...                        ...          ...   \n",
      "8479               Women                    Perfume            1   \n",
      "8481                 Men                    Cologne            0   \n",
      "8483                 Men                    Cologne            1   \n",
      "8486                 Men                    Cologne            0   \n",
      "8490                 Men                    Cologne            1   \n",
      "\n",
      "      child_max_price  child_min_price  \n",
      "1                85.0             30.0  \n",
      "2                75.0             30.0  \n",
      "3                75.0             30.0  \n",
      "4                75.0             30.0  \n",
      "5                 NaN              NaN  \n",
      "...               ...              ...  \n",
      "8479            125.0            125.0  \n",
      "8481              NaN              NaN  \n",
      "8483            119.0            119.0  \n",
      "8486              NaN              NaN  \n",
      "8490            129.0            129.0  \n",
      "\n",
      "[975 rows x 27 columns]\n"
     ]
    }
   ],
   "source": [
    "\n",
    "print()"
   ]
  },
  {
   "cell_type": "code",
   "execution_count": 7,
   "metadata": {},
   "outputs": [
    {
     "name": "stdout",
     "output_type": "stream",
     "text": [
      "     product_id                       product_name  brand_id  \\\n",
      "1       P473668            La Habana Eau de Parfum      6342   \n",
      "2       P473662          Rainbow Bar Eau de Parfum      6342   \n",
      "3       P473660               Kasbah Eau de Parfum      6342   \n",
      "4       P473658          Purple Haze Eau de Parfum      6342   \n",
      "5       P473661  Kasbah Eau de Parfum Travel Spray      6342   \n",
      "...         ...                                ...       ...   \n",
      "8476    P432087              L'Homme Cologne Bleue      1070   \n",
      "8477    P500062                  Y Eau de Toilette      1070   \n",
      "8478    P433904    Mon Paris Couture Eau de Parfum      1070   \n",
      "8486    P457262                      Y Eau Fraiche      1070   \n",
      "8490    P500874              L'Homme Eau de Parfum      1070   \n",
      "\n",
      "              brand_name  loves_count  rating  reviews             size  \\\n",
      "1                  19-69         3827  4.1538     13.0   3.4 oz/ 100 mL   \n",
      "2                  19-69         3253  4.2500     16.0   3.4 oz/ 100 mL   \n",
      "3                  19-69         3018  4.4762     21.0   3.4 oz/ 100 mL   \n",
      "4                  19-69         2691  3.2308     13.0   3.4 oz/ 100 mL   \n",
      "5                  19-69         2448  4.4762     21.0  0.25 oz/ 7.5 mL   \n",
      "...                  ...          ...     ...      ...              ...   \n",
      "8476  Yves Saint Laurent         6318  4.6071    112.0      2 oz/ 60 mL   \n",
      "8477  Yves Saint Laurent         6095  4.7365   1203.0  3.4 oz / 100 mL   \n",
      "8478  Yves Saint Laurent         5772  4.6512     43.0      1 oz/ 30 mL   \n",
      "8486  Yves Saint Laurent         3089  4.7333    150.0   3.4 oz/ 100 mL   \n",
      "8490  Yves Saint Laurent         2319  4.6367    556.0     2 oz / 60 mL   \n",
      "\n",
      "                          variation_type  \\\n",
      "1     Size + Concentration + Formulation   \n",
      "2     Size + Concentration + Formulation   \n",
      "3     Size + Concentration + Formulation   \n",
      "4     Size + Concentration + Formulation   \n",
      "5     Size + Concentration + Formulation   \n",
      "...                                  ...   \n",
      "8476  Size + Concentration + Formulation   \n",
      "8477  Size + Concentration + Formulation   \n",
      "8478  Size + Concentration + Formulation   \n",
      "8486  Size + Concentration + Formulation   \n",
      "8490  Size + Concentration + Formulation   \n",
      "\n",
      "                            variation_value  ... online_only out_of_stock  \\\n",
      "1                            3.4 oz/ 100 mL  ...           1            0   \n",
      "2                            3.4 oz/ 100 mL  ...           1            0   \n",
      "3                            3.4 oz/ 100 mL  ...           1            0   \n",
      "4                            3.4 oz/ 100 mL  ...           1            0   \n",
      "5       0.25 oz/ 7.5 mL Eau de Parfum Spray  ...           1            0   \n",
      "...                                     ...  ...         ...          ...   \n",
      "8476            2 oz/ 60 mL Eau de Toilette  ...           0            0   \n",
      "8477  3.4 oz / 100 mL eau de toilette spray  ...           0            0   \n",
      "8478                            1 oz/ 30 mL  ...           0            1   \n",
      "8486                  3.4 oz/ 100 mL  Spray  ...           0            1   \n",
      "8490       2 oz / 60 mL eau de parfum spray  ...           0            0   \n",
      "\n",
      "      sephora_exclusive                                         highlights  \\\n",
      "1                     0  ['Unisex/ Genderless Scent', 'Layerable Scent'...   \n",
      "2                     0  ['Unisex/ Genderless Scent', 'Layerable Scent'...   \n",
      "3                     0  ['Unisex/ Genderless Scent', 'Layerable Scent'...   \n",
      "4                     0  ['Unisex/ Genderless Scent', 'Layerable Scent'...   \n",
      "5                     0  ['Warm &Spicy Scent', 'Unisex/ Genderless Scen...   \n",
      "...                 ...                                                ...   \n",
      "8476                  0                 ['Fresh Scent', 'Layerable Scent']   \n",
      "8477                  0        ['Layerable Scent', 'Woody & Earthy Scent']   \n",
      "8478                  0                                   ['Floral Scent']   \n",
      "8486                  0                 ['Fresh Scent', 'Layerable Scent']   \n",
      "8490                  0        ['Layerable Scent', 'Woody & Earthy Scent']   \n",
      "\n",
      "      primary_category  secondary_category          tertiary_category  \\\n",
      "1            Fragrance               Women                    Perfume   \n",
      "2            Fragrance               Women                    Perfume   \n",
      "3            Fragrance               Women                    Perfume   \n",
      "4            Fragrance               Women                    Perfume   \n",
      "5            Fragrance               Women  Rollerballs & Travel Size   \n",
      "...                ...                 ...                        ...   \n",
      "8476         Fragrance                 Men                    Cologne   \n",
      "8477         Fragrance                 Men                    Cologne   \n",
      "8478         Fragrance               Women                    Perfume   \n",
      "8486         Fragrance                 Men                    Cologne   \n",
      "8490         Fragrance                 Men                    Cologne   \n",
      "\n",
      "      child_count  child_max_price  child_min_price  \n",
      "1               2             85.0             30.0  \n",
      "2               2             75.0             30.0  \n",
      "3               2             75.0             30.0  \n",
      "4               2             75.0             30.0  \n",
      "5               0              NaN              NaN  \n",
      "...           ...              ...              ...  \n",
      "8476            1            108.0            108.0  \n",
      "8477            1             98.0             98.0  \n",
      "8478            0              NaN              NaN  \n",
      "8486            0              NaN              NaN  \n",
      "8490            1            129.0            129.0  \n",
      "\n",
      "[600 rows x 27 columns]\n"
     ]
    }
   ],
   "source": [
    "fragrant_data = fragrant_data[fragrant_data['highlights'].notnull()]\n",
    "print(fragrant_data)\n"
   ]
  },
  {
   "cell_type": "code",
   "execution_count": 8,
   "metadata": {},
   "outputs": [
    {
     "name": "stdout",
     "output_type": "stream",
     "text": [
      "[\"['Unisex/ Genderless Scent', 'Layerable Scent', 'Warm &Spicy Scent']\"\n",
      " \"['Unisex/ Genderless Scent', 'Layerable Scent', 'Woody & Earthy Scent']\"\n",
      " \"['Warm &Spicy Scent', 'Unisex/ Genderless Scent', 'Layerable Scent']\"\n",
      " \"['Unisex/ Genderless Scent', 'allure 2022 Best of Beauty Award Winner', 'Fresh Scent']\"\n",
      " \"['Fresh Scent', 'Layerable Scent', 'Unisex/ Genderless Scent']\"\n",
      " \"['Unisex/ Genderless Scent', 'Layerable Scent', 'Fresh Scent']\"\n",
      " \"['Fresh Scent', 'Unisex/ Genderless Scent', 'Layerable Scent']\"\n",
      " \"['Clean + Planet Positive', 'Vegan', 'Cruelty-Free', 'Fresh Scent', 'Without Parabens', 'Without Phthalates']\"\n",
      " \"['Vegan', 'Clean + Planet Positive', 'Fresh Scent', 'Without Phthalates', 'Without Parabens', 'Cruelty-Free']\"\n",
      " \"['Vegan', 'Woody & Earthy Scent', 'Clean + Planet Positive', 'Without Phthalates', 'Without Parabens', 'Cruelty-Free']\"\n",
      " \"['Clean + Planet Positive', 'Vegan', 'Cruelty-Free', 'Woody & Earthy Scent', 'Without Parabens', 'Without Phthalates']\"\n",
      " \"['Woody & Earthy Scent', 'Clean + Planet Positive', 'Vegan', 'Cruelty-Free', 'Without Parabens', 'Without Phthalates']\"\n",
      " \"['Unisex/ Genderless Scent', 'Fresh Scent']\"\n",
      " \"['Floral Scent', 'Layerable Scent', 'Fresh Scent']\"\n",
      " \"['Floral Scent', 'Layerable Scent', 'Warm &Spicy Scent']\"\n",
      " \"['Layerable Scent', 'Floral Scent', 'Fresh Scent']\"\n",
      " \"['Layerable Scent', 'Floral Scent']\"\n",
      " \"['Layerable Scent', 'Fresh Scent']\" \"['Floral Scent']\"\n",
      " \"['Refill Available', 'Floral Scent']\"\n",
      " \"['Refill Available', 'Fresh Scent']\"\n",
      " \"['Refill Available', 'Woody & Earthy Scent']\" \"['Woody & Earthy Scent']\"\n",
      " \"['Unisex/ Genderless Scent', 'Layerable Scent', 'Without Parabens', 'Cruelty-Free']\"\n",
      " \"['Vegan', 'Unisex/ Genderless Scent', 'Warm &Spicy Scent', 'Without Phthalates', 'Without Parabens', 'Cruelty-Free']\"\n",
      " \"['Vegan', 'Unisex/ Genderless Scent', 'Floral Scent', 'Without Phthalates', 'Without Parabens', 'Cruelty-Free']\"\n",
      " \"['Vegan', 'Unisex/ Genderless Scent', 'Without Phthalates', 'Without Parabens', 'Cruelty-Free']\"\n",
      " \"['Unisex/ Genderless Scent', 'Floral Scent', 'Without Parabens']\"\n",
      " \"['Vegan', 'Woody & Earthy Scent', 'Without Phthalates', 'Without Parabens', 'Cruelty-Free']\"\n",
      " \"['Floral Scent', 'Layerable Scent']\"\n",
      " \"['Layerable Scent', 'Warm &Spicy Scent', 'Floral Scent']\"\n",
      " \"['Warm &Spicy Scent', 'Layerable Scent']\"\n",
      " \"['Woody & Earthy Scent', 'Layerable Scent']\"\n",
      " \"['Layerable Scent', 'Woody & Earthy Scent']\"\n",
      " \"['Floral Scent', 'Clean + Planet Positive', 'Vegan']\"\n",
      " \"['Vegan', 'Layerable Scent', 'Warm &Spicy Scent', 'Clean + Planet Positive', 'Hypoallergenic']\"\n",
      " \"['Woody & Earthy Scent', 'Clean + Planet Positive', 'Unisex/ Genderless Scent', 'Vegan']\"\n",
      " \"['Vegan', 'Layerable Scent', 'Clean + Planet Positive', 'Fresh Scent', 'Hypoallergenic']\"\n",
      " \"['Vegan', 'Floral Scent', 'Clean + Planet Positive', 'Alcohol Free']\"\n",
      " \"['Fresh Scent', 'Clean + Planet Positive', 'Vegan']\"\n",
      " \"['Vegan', 'Unisex/ Genderless Scent', 'Woody & Earthy Scent', 'Clean + Planet Positive', 'Alcohol Free']\"\n",
      " \"['Clean + Planet Positive']\"\n",
      " \"['Woody & Earthy Scent', 'Clean + Planet Positive', 'Vegan']\"\n",
      " \"['Vegan', 'Floral Scent', 'Clean + Planet Positive']\"\n",
      " \"['Vegan', 'Clean + Planet Positive', 'Fresh Scent', 'Alcohol Free']\"\n",
      " \"['Vegan', 'Unisex/ Genderless Scent', 'Woody & Earthy Scent', 'Clean + Planet Positive']\"\n",
      " \"['Vegan', 'Woody & Earthy Scent', 'Clean + Planet Positive', 'Alcohol Free']\"\n",
      " \"['Unisex/ Genderless Scent', 'Refill Available', 'Customizable']\"\n",
      " \"['Woody & Earthy Scent', 'Without Mineral Oil', 'Without Phthalates', 'Without Parabens', 'Without Sulfates SLS & SLES', 'Cruelty-Free']\"\n",
      " \"['Vegan', 'Layerable Scent', 'Floral Scent']\"\n",
      " \"['Layerable Scent', 'Warm &Spicy Scent', 'Woody & Earthy Scent']\"\n",
      " \"['allure 2020 Best of Beauty Award Winner', 'Layerable Scent', 'Floral Scent']\"\n",
      " \"['Vegan', 'Without Phthalates', 'Gluten Free']\"\n",
      " \"['Clean at Sephora', 'Without Phthalates']\"\n",
      " \"['Vegan', 'Clean at Sephora', 'Without Phthalates', 'Gluten Free']\"\n",
      " \"['Without Phthalates', 'Gluten Free', 'Vegan']\"\n",
      " \"['Vegan', 'Layerable Scent', 'Clean at Sephora', 'Without Phthalates', 'Without Parabens', 'Cruelty-Free']\"\n",
      " \"['Vegan', 'Layerable Scent', 'Clean at Sephora', 'Without Phthalates']\"\n",
      " \"['Vegan', 'Unisex/ Genderless Scent', 'Clean at Sephora', 'Cruelty-Free']\"\n",
      " \"['Vegan', 'Unisex/ Genderless Scent', 'Layerable Scent', 'Warm &Spicy Scent', 'Clean + Planet Positive', 'Without Phthalates']\"\n",
      " \"['Vegan', 'Unisex/ Genderless Scent', 'Layerable Scent', 'Clean + Planet Positive', 'Fresh Scent', 'Without Phthalates']\"\n",
      " \"['Vegan', 'Unisex/ Genderless Scent', 'Layerable Scent', 'Woody & Earthy Scent', 'Clean + Planet Positive', 'Without Phthalates']\"\n",
      " \"['Vegan', 'Layerable Scent', 'Clean + Planet Positive', 'Fresh Scent']\"\n",
      " \"['allure 2020 Best of Beauty Award Winner', 'Clean + Planet Positive', 'Vegan', 'Warm &Spicy Scent']\"\n",
      " \"['Vegan', 'Clean + Planet Positive', 'Without Phthalates', 'Without Parabens', 'Cruelty-Free']\"\n",
      " \"['Vegan', 'Warm &Spicy Scent', 'Clean + Planet Positive', 'Without Phthalates', 'Without Parabens']\"\n",
      " \"['Clean + Planet Positive', 'Cruelty-Free', 'Vegan', 'Without Parabens', 'Without Phthalates']\"\n",
      " \"['Clean + Planet Positive', 'Vegan', 'Without Parabens', 'Without Phthalates', 'Warm &Spicy Scent']\"\n",
      " \"['Clean + Planet Positive', 'Vegan', 'Layerable Scent']\"\n",
      " \"['Vegan', 'Sustainable Packaging', 'Clean + Planet Positive', 'Without Phthalates', 'Without Parabens', 'Cruelty-Free']\"\n",
      " \"['Clean + Planet Positive', 'Floral Scent', 'Vegan', 'Without Phthalates']\"\n",
      " \"['Vegan', 'Warm &Spicy Scent', 'Clean + Planet Positive', 'Fresh Scent']\"\n",
      " \"['Vegan', 'Clean at Sephora', 'Without Phthalates', 'Without Parabens', 'Cruelty-Free']\"\n",
      " \"['Clean + Planet Positive', 'Vegan', 'Warm &Spicy Scent', 'Without Phthalates']\"\n",
      " \"['Vegan', 'Unisex/ Genderless Scent', 'Clean + Planet Positive', 'Fresh Scent']\"\n",
      " \"['Vegan', 'Warm &Spicy Scent', 'Clean + Planet Positive', 'Without Phthalates']\"\n",
      " \"['Clean at Sephora', 'Cruelty-Free', 'Vegan', 'Without Parabens', 'Without Phthalates']\"\n",
      " \"['Vegan', 'Sustainable Packaging', 'Clean at Sephora', 'Without Sulfates SLS & SLES', 'Cruelty-Free']\"\n",
      " \"['Vegan', 'Unisex/ Genderless Scent', 'Clean + Planet Positive', 'Fresh Scent', 'Without Phthalates']\"\n",
      " \"['Vegan', 'Unisex/ Genderless Scent', 'Layerable Scent', 'Clean + Planet Positive', 'Hypoallergenic']\"\n",
      " \"['Clean + Planet Positive', 'Hypoallergenic', 'Layerable Scent', 'Unisex/ Genderless Scent', 'Vegan']\"\n",
      " \"['Unisex/ Genderless Scent', 'Floral Scent']\"\n",
      " \"['Vegan', 'Floral Scent', 'Cruelty-Free']\"\n",
      " \"['Vegan', 'Woody & Earthy Scent', 'Cruelty-Free']\"\n",
      " \"['Vegan', 'Clean at Sephora', 'Fresh Scent', 'Cruelty-Free']\"\n",
      " \"['Vegan', 'Fresh Scent', 'Cruelty-Free']\"\n",
      " \"['Vegan', 'Warm &Spicy Scent', 'Cruelty-Free']\"\n",
      " \"['Floral Scent', 'Fresh Scent']\"\n",
      " \"['Warm &Spicy Scent', 'Woody & Earthy Scent']\"\n",
      " \"['Layerable Scent', 'Floral Scent', 'Long-wearing']\"\n",
      " \"['Vegan', 'Unisex/ Genderless Scent', 'Layerable Scent', 'Warm &Spicy Scent', 'Woody & Earthy Scent', 'Cruelty-Free']\"\n",
      " \"['allure 2022 Best of Beauty Award Winner', 'Layerable Scent', 'Floral Scent']\"\n",
      " \"['Warm &Spicy Scent', 'Floral Scent']\"\n",
      " \"['Layerable Scent', 'Refill Available', 'Fresh Scent']\"\n",
      " \"['Layerable Scent', 'Refill Available', 'Floral Scent']\"\n",
      " \"['Vegan', 'Layerable Scent', 'Warm &Spicy Scent', 'Clean at Sephora', 'Without Phthalates', 'Without Parabens']\"\n",
      " \"['Vegan', 'Layerable Scent', 'Woody & Earthy Scent', 'Clean at Sephora', 'Without Phthalates', 'Without Parabens']\"\n",
      " \"['Unisex/ Genderless Scent', 'Layerable Scent', 'Warm &Spicy Scent', 'Clean at Sephora', 'Cruelty-Free']\"\n",
      " \"['Sustainable Packaging', 'Woody & Earthy Scent']\"\n",
      " \"['Woody & Earthy Scent', 'Layerable Scent', 'Unisex/ Genderless Scent']\"\n",
      " \"['Layerable Scent', 'Unisex/ Genderless Scent']\"\n",
      " \"['Unisex/ Genderless Scent', 'Layerable Scent']\"\n",
      " \"['Unisex/ Genderless Scent', 'Layerable Scent', 'Fresh Scent', 'Without Phthalates', 'Without Parabens', 'Gluten Free']\"\n",
      " \"['Floral Scent', 'Layerable Scent', 'Unisex/ Genderless Scent', 'Gluten Free', 'Without Parabens', 'Without Phthalates']\"\n",
      " \"['Unisex/ Genderless Scent', 'Layerable Scent', 'Floral Scent', 'Without Phthalates', 'Without Parabens']\"\n",
      " \"['Unisex/ Genderless Scent', 'Layerable Scent', 'Warm &Spicy Scent', 'Hypoallergenic']\"\n",
      " \"['Floral Scent', 'Unisex/ Genderless Scent', 'Layerable Scent']\"\n",
      " \"['Unisex/ Genderless Scent', 'Layerable Scent', 'Floral Scent']\"\n",
      " \"['Unisex/ Genderless Scent', 'Floral Scent', 'Long-wearing']\"\n",
      " \"['Floral Scent', 'Long-wearing', 'Unisex/ Genderless Scent']\"\n",
      " \"['Floral Scent', 'Unisex/ Genderless Scent']\"\n",
      " \"['Unisex/ Genderless Scent', 'Layerable Scent', 'Cruelty-Free']\"\n",
      " \"['Floral Scent', 'Cruelty-Free', 'Unisex/ Genderless Scent', 'Layerable Scent', 'Vegan']\"\n",
      " \"['Vegan', 'Unisex/ Genderless Scent', 'Layerable Scent', 'Floral Scent', 'Cruelty-Free']\"\n",
      " \"['Unisex/ Genderless Scent', 'Layerable Scent', 'Floral Scent', 'Cruelty-Free']\"\n",
      " \"['Layerable Scent', 'Warm &Spicy Scent', 'Cruelty-Free']\"\n",
      " \"['Vegan', 'Unisex/ Genderless Scent', 'Layerable Scent', 'Warm &Spicy Scent']\"\n",
      " \"['Vegan', 'Unisex/ Genderless Scent', 'Layerable Scent', 'Warm &Spicy Scent', 'Cruelty-Free']\"\n",
      " \"['Layerable Scent', 'Warm &Spicy Scent', 'Floral Scent', 'Cruelty-Free']\"\n",
      " \"['Unisex/ Genderless Scent', 'Warm &Spicy Scent']\"\n",
      " \"['Unisex/ Genderless Scent', 'Woody & Earthy Scent']\"\n",
      " \"['Woody & Earthy Scent', 'Unisex/ Genderless Scent']\"\n",
      " \"['Floral Scent', 'Fresh Scent', 'allure 2020 Best of Beauty Award Winner']\"\n",
      " \"['allure 2020 Best of Beauty Award Winner', 'Warm &Spicy Scent', 'Floral Scent']\"\n",
      " \"['Woody & Earthy Scent', 'Vegan', 'Without Parabens', 'Without Sulfates SLS & SLES', 'Clean + Planet Positive']\"\n",
      " \"['Clean + Planet Positive', 'Woody & Earthy Scent', 'Layerable Scent', 'Without Parabens', 'Without Phthalates', 'Vegan']\"\n",
      " \"['Woody & Earthy Scent', 'Clean + Planet Positive', 'Without Parabens', 'Without Phthalates', 'Vegan']\"\n",
      " \"['Vegan', 'Clean + Planet Positive', 'Without Parabens', 'Woody & Earthy Scent', 'Without Sulfates SLS & SLES']\"\n",
      " \"['Woody & Earthy Scent', 'Clean + Planet Positive', 'Vegan', 'Without Phthalates']\"\n",
      " \"['Vegan', 'Unisex/ Genderless Scent', 'Clean + Planet Positive', 'Without Phthalates', 'Without Parabens']\"\n",
      " \"['Layerable Scent', 'Clean + Planet Positive', 'Vegan', 'Without Phthalates']\"\n",
      " \"['Fresh Scent', 'Unisex/ Genderless Scent']\"\n",
      " \"['Warm &Spicy Scent', 'Unisex/ Genderless Scent']\"\n",
      " \"['Woody & Earthy Scent', 'Floral Scent']\"\n",
      " \"['Floral Scent', 'Refill Available']\"\n",
      " \"['Refill Available', 'Warm &Spicy Scent']\"\n",
      " \"['Floral Scent', 'Long-wearing']\"\n",
      " \"['Warm &Spicy Scent', 'Refill Available']\"\n",
      " \"['allure 2022 Best of Beauty Award Winner', 'Without Mineral Oil', 'Without Phthalates', 'Without Parabens', 'Without Sulfates SLS & SLES']\"\n",
      " \"['Cruelty-Free', 'Vegan', 'Floral Scent', 'Without Phthalates', 'Without Parabens', 'Without Silicones']\"\n",
      " \"['Without Sulfates SLS & SLES', 'Without Parabens', 'Without Phthalates', 'Without Mineral Oil']\"\n",
      " \"['allure 2022 Best of Beauty Award Winner', 'Without Mineral Oil', 'Without Phthalates', 'allure 2021 Best of Beauty Award Winner', 'Without Parabens', 'Without Sulfates SLS & SLES']\"\n",
      " \"['Vegan', 'Without Mineral Oil', 'Without Phthalates', 'Without Parabens', 'Without Sulfates SLS & SLES', 'Cruelty-Free']\"\n",
      " \"['Without Mineral Oil', 'Without Phthalates', 'Without Parabens', 'Without Sulfates SLS & SLES']\"\n",
      " \"['Fresh Scent', 'Vegan', 'Without Parabens', 'Without Phthalates', 'Layerable Scent']\"\n",
      " \"['Vegan', 'Layerable Scent', 'Floral Scent', 'Without Phthalates', 'Without Parabens']\"\n",
      " \"['Cruelty-Free', 'Layerable Scent', 'Unisex/ Genderless Scent', 'Fresh Scent']\"\n",
      " \"['Warm &Spicy Scent', 'Clean at Sephora', 'Cruelty-Free']\"\n",
      " \"['Unisex/ Genderless Scent', 'Clean at Sephora', 'Cruelty-Free']\"\n",
      " \"['Woody & Earthy Scent', 'Clean at Sephora']\"\n",
      " \"['Vegan', 'Warm &Spicy Scent', 'Clean at Sephora', 'Cruelty-Free']\"\n",
      " \"['Floral Scent', 'Clean at Sephora', 'Cruelty-Free']\"\n",
      " \"['Fresh Scent', 'Clean at Sephora', 'Cruelty-Free']\"\n",
      " \"['Floral Scent', 'Cruelty-Free', 'Clean at Sephora']\"\n",
      " \"['Clean at Sephora', 'Warm &Spicy Scent', 'Hypoallergenic', 'Layerable Scent', 'Vegan', 'Cruelty-Free']\"\n",
      " \"['Vegan', 'Layerable Scent', 'Clean at Sephora', 'Fresh Scent', 'Hypoallergenic']\"\n",
      " \"['Vegan', 'Layerable Scent', 'Clean at Sephora', 'Fresh Scent', 'Hypoallergenic', 'Cruelty-Free']\"\n",
      " \"['Vegan', 'Layerable Scent', 'Floral Scent', 'Clean at Sephora', 'Hypoallergenic', 'Cruelty-Free']\"\n",
      " \"['Vegan', 'Layerable Scent', 'Warm &Spicy Scent', 'Clean at Sephora', 'Hypoallergenic', 'Cruelty-Free']\"\n",
      " \"['Clean at Sephora', 'Fresh Scent', 'Hypoallergenic', 'Layerable Scent', 'Vegan', 'Cruelty-Free']\"\n",
      " \"['Vegan', 'Layerable Scent', 'Woody & Earthy Scent', 'Clean at Sephora', 'Hypoallergenic', 'Cruelty-Free']\"\n",
      " \"['Vegan', 'Warm &Spicy Scent', 'Without Phthalates', 'Without Parabens', 'Cruelty-Free']\"\n",
      " \"['Vegan', 'Unisex/ Genderless Scent', 'Clean + Planet Positive', 'Without Phthalates', 'Hypoallergenic', 'Cruelty-Free']\"\n",
      " \"['Clean + Planet Positive', 'Without Phthalates', 'Cruelty-Free']\"\n",
      " \"['Vegan', 'Unisex/ Genderless Scent', 'Layerable Scent', 'Fresh Scent', 'Cruelty-Free']\"\n",
      " \"['Floral Scent', 'Without Parabens']\"\n",
      " \"['Warm &Spicy Scent', 'Floral Scent', 'Without Parabens']\"\n",
      " \"['Floral Scent', 'Fresh Scent', 'Without Parabens']\"\n",
      " \"['Floral Scent', 'Warm &Spicy Scent', 'Without Parabens']\"\n",
      " \"['allure 2021 Best of Beauty Award Winner', 'Warm &Spicy Scent', 'Unisex/ Genderless Scent', 'Layerable Scent']\"\n",
      " \"['Woody & Earthy Scent', 'Unisex/ Genderless Scent', 'Layerable Scent']\"\n",
      " \"['Fresh Scent', 'allure 2020 Best of Beauty Award Winner', 'Unisex/ Genderless Scent', 'Layerable Scent']\"\n",
      " \"['allure 2020 Best of Beauty Award Winner', 'Unisex/ Genderless Scent', 'Layerable Scent', 'Fresh Scent']\"\n",
      " \"['Floral Scent', 'Layerable Scent', 'Unisex/ Genderless Scent']\"\n",
      " \"['Layerable Scent', 'Warm &Spicy Scent']\"\n",
      " \"['allure 2020 Best of Beauty Award Winner', 'Floral Scent']\"\n",
      " \"['Fresh Scent', 'Layerable Scent']\"\n",
      " \"['Vegan', 'Refill Available', 'Floral Scent']\"\n",
      " \"['Unisex/ Genderless Scent', 'Fresh Scent', 'Layerable Scent']\"\n",
      " \"['Unisex/ Genderless Scent', 'Warm &Spicy Scent', 'Layerable Scent']\"\n",
      " \"['Unisex/ Genderless Scent', 'Woody & Earthy Scent', 'Layerable Scent']\"]\n"
     ]
    }
   ],
   "source": [
    "print(fragrant_data['highlights'].unique())"
   ]
  },
  {
   "cell_type": "code",
   "execution_count": 9,
   "metadata": {},
   "outputs": [
    {
     "name": "stdout",
     "output_type": "stream",
     "text": [
      "{'Without Parabens', 'Without Mineral Oil', 'Long-wearing', 'allure 2022 Best of Beauty Award Winner', 'Layerable Scent', 'Fresh Scent', 'Cruelty-Free', 'allure 2021 Best of Beauty Award Winner', 'Without Silicones', 'Alcohol Free', 'Customizable', 'Hypoallergenic', 'Woody & Earthy Scent', 'Without Phthalates', 'Warm &Spicy Scent', 'Clean at Sephora', 'Sustainable Packaging', 'Unisex/ Genderless Scent', 'Floral Scent', 'Gluten Free', 'Vegan', 'Without Sulfates SLS & SLES', 'Refill Available', 'Clean + Planet Positive', 'allure 2020 Best of Beauty Award Winner'}\n"
     ]
    }
   ],
   "source": [
    "unique_phrases = set()\n",
    "\n",
    "for highlight in fragrant_data['highlights']:\n",
    "    if isinstance(highlight, str):  # Ensure it's a string\n",
    "        phrases = eval(highlight)  # Convert string representation of list to actual list\n",
    "        unique_phrases.update(phrases)\n",
    "    else:\n",
    "        print(f\"Unexpected type: {type(highlight)}\")\n",
    "\n",
    "print(unique_phrases)"
   ]
  },
  {
   "cell_type": "markdown",
   "metadata": {},
   "source": []
  },
  {
   "cell_type": "code",
   "execution_count": null,
   "metadata": {},
   "outputs": [],
   "source": []
  },
  {
   "cell_type": "code",
   "execution_count": 10,
   "metadata": {},
   "outputs": [
    {
     "data": {
      "application/vnd.plotly.v1+json": {
       "config": {
        "plotlyServerURL": "https://plot.ly"
       },
       "data": [
        {
         "alignmentgroup": "True",
         "hovertemplate": "Number of Reviews=%{y}<extra></extra>",
         "legendgroup": "",
         "marker": {
          "color": "#636efa"
         },
         "name": "",
         "notched": false,
         "offsetgroup": "",
         "orientation": "v",
         "showlegend": false,
         "type": "box",
         "x0": " ",
         "xaxis": "x",
         "y": [
          13,
          16,
          21,
          13,
          21,
          13,
          8,
          7,
          8,
          16,
          7,
          4,
          4,
          18,
          9,
          17,
          6,
          21,
          7,
          6,
          4,
          8,
          7,
          9,
          11,
          39,
          37,
          80,
          139,
          50,
          120,
          60,
          65,
          80,
          51,
          36,
          13,
          21,
          14,
          10,
          24,
          1696,
          1696,
          1058,
          1058,
          862,
          249,
          17,
          20,
          668,
          6,
          5,
          6,
          4,
          3,
          2,
          6,
          1,
          3,
          4,
          2,
          4,
          5,
          2,
          4,
          3,
          112,
          8,
          10,
          112,
          41,
          66,
          44,
          66,
          44,
          89,
          41,
          89,
          1280,
          320,
          1280,
          404,
          178,
          181,
          308,
          58,
          401,
          140,
          58,
          17,
          98,
          302,
          218,
          58,
          249,
          94,
          54,
          55,
          102,
          57,
          24,
          34,
          17,
          13,
          102,
          25,
          11,
          52,
          18,
          50,
          38,
          11,
          14,
          12,
          10,
          6,
          82,
          671,
          13,
          17,
          4,
          2507,
          780,
          488,
          218,
          488,
          780,
          2494,
          342,
          438,
          280,
          253,
          118,
          351,
          584,
          131,
          218,
          90,
          75,
          55,
          79,
          35,
          292,
          82,
          129,
          81,
          82,
          33,
          348,
          216,
          57,
          58,
          256,
          49,
          168,
          5,
          19,
          63,
          19,
          48,
          10,
          93,
          78,
          34,
          44,
          13,
          54,
          5,
          3,
          5,
          9,
          1,
          2,
          4,
          2,
          4,
          3,
          2,
          1,
          3,
          11,
          1,
          4,
          3,
          1,
          5,
          3,
          1,
          1,
          63,
          73,
          63,
          21,
          73,
          23,
          16,
          23,
          23,
          12,
          16,
          23,
          12,
          2188,
          892,
          25,
          348,
          340,
          180,
          189,
          367,
          189,
          367,
          104,
          244,
          244,
          55,
          194,
          41,
          34,
          142,
          71,
          194,
          71,
          18,
          142,
          30,
          5,
          25,
          12,
          45,
          55,
          3,
          242,
          544,
          544,
          542,
          262,
          542,
          262,
          120,
          43,
          120,
          20,
          20,
          411,
          616,
          586,
          354,
          586,
          616,
          504,
          230,
          191,
          185,
          235,
          63,
          854,
          1317,
          854,
          1317,
          217,
          408,
          748,
          15,
          671,
          391,
          343,
          671,
          426,
          391,
          343,
          169,
          255,
          156,
          439,
          66,
          23,
          75,
          104,
          22,
          27,
          32,
          94,
          123,
          28,
          26,
          30,
          32,
          22,
          32,
          4,
          2,
          165,
          107,
          94,
          37,
          19,
          215,
          44,
          149,
          614,
          428,
          432,
          104,
          370,
          112,
          120,
          102,
          97,
          117,
          76,
          2,
          28,
          4,
          20,
          3,
          1625,
          84,
          162,
          130,
          2005,
          2005,
          399,
          399,
          226,
          39,
          35,
          35,
          9,
          10,
          964,
          424,
          539,
          539,
          424,
          64,
          181,
          115,
          134,
          66,
          60,
          134,
          226,
          226,
          20,
          160,
          18,
          1256,
          1256,
          808,
          808,
          346,
          35,
          152,
          145,
          21,
          14,
          13,
          19,
          19,
          11,
          8,
          649,
          114,
          98,
          208,
          211,
          129,
          62,
          23,
          30,
          9,
          9,
          2016,
          1645,
          980,
          625,
          1645,
          2016,
          980,
          625,
          277,
          569,
          569,
          277,
          2800,
          1389,
          1047,
          1135,
          296,
          313,
          2786,
          1047,
          1135,
          144,
          356,
          525,
          759,
          1389,
          525,
          236,
          159,
          336,
          313,
          180,
          1102,
          3259,
          3259,
          1231,
          1102,
          715,
          1231,
          944,
          242,
          242,
          185,
          59,
          192,
          161,
          194,
          185,
          194,
          192,
          122,
          122,
          161,
          74,
          74,
          377,
          391,
          178,
          82,
          11,
          11,
          9,
          433,
          433,
          22,
          59,
          39,
          115,
          88,
          20,
          88,
          115,
          65,
          27,
          35,
          65,
          27,
          35,
          1184,
          33,
          1070,
          7,
          579,
          579,
          451,
          453,
          322,
          322,
          220,
          140,
          134,
          146,
          134,
          140,
          246,
          146,
          246,
          78,
          78,
          7,
          10,
          86,
          1138,
          1138,
          342,
          342,
          265,
          218,
          265,
          99,
          116,
          88,
          116,
          40,
          99,
          88,
          29,
          97,
          97,
          67,
          12,
          23,
          2,
          18,
          3,
          1,
          18,
          18,
          734,
          568,
          468,
          452,
          55,
          26,
          7,
          5,
          3,
          1041,
          1210,
          1038,
          824,
          1210,
          943,
          1092,
          824,
          898,
          943,
          618,
          974,
          1912,
          620,
          1092,
          681,
          56,
          620,
          43,
          595,
          898,
          44,
          581,
          1142,
          15,
          13,
          18,
          449,
          642,
          272,
          642,
          247,
          131,
          595,
          496,
          2,
          273,
          421,
          581,
          517,
          411,
          212,
          310,
          245,
          314,
          185,
          156,
          52,
          314,
          322,
          31,
          59,
          69,
          45,
          16,
          19,
          32,
          25,
          22,
          14,
          17,
          17,
          5039,
          4939,
          4953,
          1476,
          1476,
          12,
          5,
          11,
          6,
          9,
          4,
          6,
          5,
          2,
          2,
          1063,
          3550,
          323,
          2848,
          909,
          315,
          61,
          37,
          112,
          1203,
          43,
          150,
          556
         ],
         "y0": " ",
         "yaxis": "y"
        }
       ],
       "layout": {
        "boxmode": "group",
        "legend": {
         "tracegroupgap": 0
        },
        "template": {
         "data": {
          "bar": [
           {
            "error_x": {
             "color": "#2a3f5f"
            },
            "error_y": {
             "color": "#2a3f5f"
            },
            "marker": {
             "line": {
              "color": "#E5ECF6",
              "width": 0.5
             },
             "pattern": {
              "fillmode": "overlay",
              "size": 10,
              "solidity": 0.2
             }
            },
            "type": "bar"
           }
          ],
          "barpolar": [
           {
            "marker": {
             "line": {
              "color": "#E5ECF6",
              "width": 0.5
             },
             "pattern": {
              "fillmode": "overlay",
              "size": 10,
              "solidity": 0.2
             }
            },
            "type": "barpolar"
           }
          ],
          "carpet": [
           {
            "aaxis": {
             "endlinecolor": "#2a3f5f",
             "gridcolor": "white",
             "linecolor": "white",
             "minorgridcolor": "white",
             "startlinecolor": "#2a3f5f"
            },
            "baxis": {
             "endlinecolor": "#2a3f5f",
             "gridcolor": "white",
             "linecolor": "white",
             "minorgridcolor": "white",
             "startlinecolor": "#2a3f5f"
            },
            "type": "carpet"
           }
          ],
          "choropleth": [
           {
            "colorbar": {
             "outlinewidth": 0,
             "ticks": ""
            },
            "type": "choropleth"
           }
          ],
          "contour": [
           {
            "colorbar": {
             "outlinewidth": 0,
             "ticks": ""
            },
            "colorscale": [
             [
              0,
              "#0d0887"
             ],
             [
              0.1111111111111111,
              "#46039f"
             ],
             [
              0.2222222222222222,
              "#7201a8"
             ],
             [
              0.3333333333333333,
              "#9c179e"
             ],
             [
              0.4444444444444444,
              "#bd3786"
             ],
             [
              0.5555555555555556,
              "#d8576b"
             ],
             [
              0.6666666666666666,
              "#ed7953"
             ],
             [
              0.7777777777777778,
              "#fb9f3a"
             ],
             [
              0.8888888888888888,
              "#fdca26"
             ],
             [
              1,
              "#f0f921"
             ]
            ],
            "type": "contour"
           }
          ],
          "contourcarpet": [
           {
            "colorbar": {
             "outlinewidth": 0,
             "ticks": ""
            },
            "type": "contourcarpet"
           }
          ],
          "heatmap": [
           {
            "colorbar": {
             "outlinewidth": 0,
             "ticks": ""
            },
            "colorscale": [
             [
              0,
              "#0d0887"
             ],
             [
              0.1111111111111111,
              "#46039f"
             ],
             [
              0.2222222222222222,
              "#7201a8"
             ],
             [
              0.3333333333333333,
              "#9c179e"
             ],
             [
              0.4444444444444444,
              "#bd3786"
             ],
             [
              0.5555555555555556,
              "#d8576b"
             ],
             [
              0.6666666666666666,
              "#ed7953"
             ],
             [
              0.7777777777777778,
              "#fb9f3a"
             ],
             [
              0.8888888888888888,
              "#fdca26"
             ],
             [
              1,
              "#f0f921"
             ]
            ],
            "type": "heatmap"
           }
          ],
          "heatmapgl": [
           {
            "colorbar": {
             "outlinewidth": 0,
             "ticks": ""
            },
            "colorscale": [
             [
              0,
              "#0d0887"
             ],
             [
              0.1111111111111111,
              "#46039f"
             ],
             [
              0.2222222222222222,
              "#7201a8"
             ],
             [
              0.3333333333333333,
              "#9c179e"
             ],
             [
              0.4444444444444444,
              "#bd3786"
             ],
             [
              0.5555555555555556,
              "#d8576b"
             ],
             [
              0.6666666666666666,
              "#ed7953"
             ],
             [
              0.7777777777777778,
              "#fb9f3a"
             ],
             [
              0.8888888888888888,
              "#fdca26"
             ],
             [
              1,
              "#f0f921"
             ]
            ],
            "type": "heatmapgl"
           }
          ],
          "histogram": [
           {
            "marker": {
             "pattern": {
              "fillmode": "overlay",
              "size": 10,
              "solidity": 0.2
             }
            },
            "type": "histogram"
           }
          ],
          "histogram2d": [
           {
            "colorbar": {
             "outlinewidth": 0,
             "ticks": ""
            },
            "colorscale": [
             [
              0,
              "#0d0887"
             ],
             [
              0.1111111111111111,
              "#46039f"
             ],
             [
              0.2222222222222222,
              "#7201a8"
             ],
             [
              0.3333333333333333,
              "#9c179e"
             ],
             [
              0.4444444444444444,
              "#bd3786"
             ],
             [
              0.5555555555555556,
              "#d8576b"
             ],
             [
              0.6666666666666666,
              "#ed7953"
             ],
             [
              0.7777777777777778,
              "#fb9f3a"
             ],
             [
              0.8888888888888888,
              "#fdca26"
             ],
             [
              1,
              "#f0f921"
             ]
            ],
            "type": "histogram2d"
           }
          ],
          "histogram2dcontour": [
           {
            "colorbar": {
             "outlinewidth": 0,
             "ticks": ""
            },
            "colorscale": [
             [
              0,
              "#0d0887"
             ],
             [
              0.1111111111111111,
              "#46039f"
             ],
             [
              0.2222222222222222,
              "#7201a8"
             ],
             [
              0.3333333333333333,
              "#9c179e"
             ],
             [
              0.4444444444444444,
              "#bd3786"
             ],
             [
              0.5555555555555556,
              "#d8576b"
             ],
             [
              0.6666666666666666,
              "#ed7953"
             ],
             [
              0.7777777777777778,
              "#fb9f3a"
             ],
             [
              0.8888888888888888,
              "#fdca26"
             ],
             [
              1,
              "#f0f921"
             ]
            ],
            "type": "histogram2dcontour"
           }
          ],
          "mesh3d": [
           {
            "colorbar": {
             "outlinewidth": 0,
             "ticks": ""
            },
            "type": "mesh3d"
           }
          ],
          "parcoords": [
           {
            "line": {
             "colorbar": {
              "outlinewidth": 0,
              "ticks": ""
             }
            },
            "type": "parcoords"
           }
          ],
          "pie": [
           {
            "automargin": true,
            "type": "pie"
           }
          ],
          "scatter": [
           {
            "fillpattern": {
             "fillmode": "overlay",
             "size": 10,
             "solidity": 0.2
            },
            "type": "scatter"
           }
          ],
          "scatter3d": [
           {
            "line": {
             "colorbar": {
              "outlinewidth": 0,
              "ticks": ""
             }
            },
            "marker": {
             "colorbar": {
              "outlinewidth": 0,
              "ticks": ""
             }
            },
            "type": "scatter3d"
           }
          ],
          "scattercarpet": [
           {
            "marker": {
             "colorbar": {
              "outlinewidth": 0,
              "ticks": ""
             }
            },
            "type": "scattercarpet"
           }
          ],
          "scattergeo": [
           {
            "marker": {
             "colorbar": {
              "outlinewidth": 0,
              "ticks": ""
             }
            },
            "type": "scattergeo"
           }
          ],
          "scattergl": [
           {
            "marker": {
             "colorbar": {
              "outlinewidth": 0,
              "ticks": ""
             }
            },
            "type": "scattergl"
           }
          ],
          "scattermapbox": [
           {
            "marker": {
             "colorbar": {
              "outlinewidth": 0,
              "ticks": ""
             }
            },
            "type": "scattermapbox"
           }
          ],
          "scatterpolar": [
           {
            "marker": {
             "colorbar": {
              "outlinewidth": 0,
              "ticks": ""
             }
            },
            "type": "scatterpolar"
           }
          ],
          "scatterpolargl": [
           {
            "marker": {
             "colorbar": {
              "outlinewidth": 0,
              "ticks": ""
             }
            },
            "type": "scatterpolargl"
           }
          ],
          "scatterternary": [
           {
            "marker": {
             "colorbar": {
              "outlinewidth": 0,
              "ticks": ""
             }
            },
            "type": "scatterternary"
           }
          ],
          "surface": [
           {
            "colorbar": {
             "outlinewidth": 0,
             "ticks": ""
            },
            "colorscale": [
             [
              0,
              "#0d0887"
             ],
             [
              0.1111111111111111,
              "#46039f"
             ],
             [
              0.2222222222222222,
              "#7201a8"
             ],
             [
              0.3333333333333333,
              "#9c179e"
             ],
             [
              0.4444444444444444,
              "#bd3786"
             ],
             [
              0.5555555555555556,
              "#d8576b"
             ],
             [
              0.6666666666666666,
              "#ed7953"
             ],
             [
              0.7777777777777778,
              "#fb9f3a"
             ],
             [
              0.8888888888888888,
              "#fdca26"
             ],
             [
              1,
              "#f0f921"
             ]
            ],
            "type": "surface"
           }
          ],
          "table": [
           {
            "cells": {
             "fill": {
              "color": "#EBF0F8"
             },
             "line": {
              "color": "white"
             }
            },
            "header": {
             "fill": {
              "color": "#C8D4E3"
             },
             "line": {
              "color": "white"
             }
            },
            "type": "table"
           }
          ]
         },
         "layout": {
          "annotationdefaults": {
           "arrowcolor": "#2a3f5f",
           "arrowhead": 0,
           "arrowwidth": 1
          },
          "autotypenumbers": "strict",
          "coloraxis": {
           "colorbar": {
            "outlinewidth": 0,
            "ticks": ""
           }
          },
          "colorscale": {
           "diverging": [
            [
             0,
             "#8e0152"
            ],
            [
             0.1,
             "#c51b7d"
            ],
            [
             0.2,
             "#de77ae"
            ],
            [
             0.3,
             "#f1b6da"
            ],
            [
             0.4,
             "#fde0ef"
            ],
            [
             0.5,
             "#f7f7f7"
            ],
            [
             0.6,
             "#e6f5d0"
            ],
            [
             0.7,
             "#b8e186"
            ],
            [
             0.8,
             "#7fbc41"
            ],
            [
             0.9,
             "#4d9221"
            ],
            [
             1,
             "#276419"
            ]
           ],
           "sequential": [
            [
             0,
             "#0d0887"
            ],
            [
             0.1111111111111111,
             "#46039f"
            ],
            [
             0.2222222222222222,
             "#7201a8"
            ],
            [
             0.3333333333333333,
             "#9c179e"
            ],
            [
             0.4444444444444444,
             "#bd3786"
            ],
            [
             0.5555555555555556,
             "#d8576b"
            ],
            [
             0.6666666666666666,
             "#ed7953"
            ],
            [
             0.7777777777777778,
             "#fb9f3a"
            ],
            [
             0.8888888888888888,
             "#fdca26"
            ],
            [
             1,
             "#f0f921"
            ]
           ],
           "sequentialminus": [
            [
             0,
             "#0d0887"
            ],
            [
             0.1111111111111111,
             "#46039f"
            ],
            [
             0.2222222222222222,
             "#7201a8"
            ],
            [
             0.3333333333333333,
             "#9c179e"
            ],
            [
             0.4444444444444444,
             "#bd3786"
            ],
            [
             0.5555555555555556,
             "#d8576b"
            ],
            [
             0.6666666666666666,
             "#ed7953"
            ],
            [
             0.7777777777777778,
             "#fb9f3a"
            ],
            [
             0.8888888888888888,
             "#fdca26"
            ],
            [
             1,
             "#f0f921"
            ]
           ]
          },
          "colorway": [
           "#636efa",
           "#EF553B",
           "#00cc96",
           "#ab63fa",
           "#FFA15A",
           "#19d3f3",
           "#FF6692",
           "#B6E880",
           "#FF97FF",
           "#FECB52"
          ],
          "font": {
           "color": "#2a3f5f"
          },
          "geo": {
           "bgcolor": "white",
           "lakecolor": "white",
           "landcolor": "#E5ECF6",
           "showlakes": true,
           "showland": true,
           "subunitcolor": "white"
          },
          "hoverlabel": {
           "align": "left"
          },
          "hovermode": "closest",
          "mapbox": {
           "style": "light"
          },
          "paper_bgcolor": "white",
          "plot_bgcolor": "#E5ECF6",
          "polar": {
           "angularaxis": {
            "gridcolor": "white",
            "linecolor": "white",
            "ticks": ""
           },
           "bgcolor": "#E5ECF6",
           "radialaxis": {
            "gridcolor": "white",
            "linecolor": "white",
            "ticks": ""
           }
          },
          "scene": {
           "xaxis": {
            "backgroundcolor": "#E5ECF6",
            "gridcolor": "white",
            "gridwidth": 2,
            "linecolor": "white",
            "showbackground": true,
            "ticks": "",
            "zerolinecolor": "white"
           },
           "yaxis": {
            "backgroundcolor": "#E5ECF6",
            "gridcolor": "white",
            "gridwidth": 2,
            "linecolor": "white",
            "showbackground": true,
            "ticks": "",
            "zerolinecolor": "white"
           },
           "zaxis": {
            "backgroundcolor": "#E5ECF6",
            "gridcolor": "white",
            "gridwidth": 2,
            "linecolor": "white",
            "showbackground": true,
            "ticks": "",
            "zerolinecolor": "white"
           }
          },
          "shapedefaults": {
           "line": {
            "color": "#2a3f5f"
           }
          },
          "ternary": {
           "aaxis": {
            "gridcolor": "white",
            "linecolor": "white",
            "ticks": ""
           },
           "baxis": {
            "gridcolor": "white",
            "linecolor": "white",
            "ticks": ""
           },
           "bgcolor": "#E5ECF6",
           "caxis": {
            "gridcolor": "white",
            "linecolor": "white",
            "ticks": ""
           }
          },
          "title": {
           "x": 0.05
          },
          "xaxis": {
           "automargin": true,
           "gridcolor": "white",
           "linecolor": "white",
           "ticks": "",
           "title": {
            "standoff": 15
           },
           "zerolinecolor": "white",
           "zerolinewidth": 2
          },
          "yaxis": {
           "automargin": true,
           "gridcolor": "white",
           "linecolor": "white",
           "ticks": "",
           "title": {
            "standoff": 15
           },
           "zerolinecolor": "white",
           "zerolinewidth": 2
          }
         }
        },
        "title": {
         "text": "Box Plot of Reviews"
        },
        "xaxis": {
         "anchor": "y",
         "domain": [
          0,
          1
         ]
        },
        "yaxis": {
         "anchor": "x",
         "domain": [
          0,
          1
         ],
         "title": {
          "text": "Number of Reviews"
         }
        }
       }
      }
     },
     "metadata": {},
     "output_type": "display_data"
    }
   ],
   "source": [
    "# Create a box plot for the reviews\n",
    "fig = px.box(fragrant_data, \n",
    "              y='reviews', \n",
    "              title='Box Plot of Reviews',\n",
    "              labels={'reviews': 'Number of Reviews'})\n",
    "\n",
    "fig.show()"
   ]
  },
  {
   "cell_type": "code",
   "execution_count": 11,
   "metadata": {},
   "outputs": [
    {
     "data": {
      "application/vnd.plotly.v1+json": {
       "config": {
        "plotlyServerURL": "https://plot.ly"
       },
       "data": [
        {
         "alignmentgroup": "True",
         "bingroup": "x",
         "hovertemplate": "reviews=%{x}<br>count=%{y}<extra></extra>",
         "legendgroup": "",
         "marker": {
          "color": "#636efa",
          "pattern": {
           "shape": ""
          }
         },
         "name": "",
         "nbinsx": 50,
         "offsetgroup": "",
         "orientation": "v",
         "showlegend": false,
         "type": "histogram",
         "x": [
          13,
          16,
          21,
          13,
          21,
          13,
          8,
          7,
          8,
          16,
          7,
          4,
          4,
          18,
          9,
          17,
          6,
          21,
          7,
          6,
          4,
          8,
          7,
          9,
          11,
          39,
          37,
          80,
          139,
          50,
          120,
          60,
          65,
          80,
          51,
          36,
          13,
          21,
          14,
          10,
          24,
          1696,
          1696,
          1058,
          1058,
          862,
          249,
          17,
          20,
          668,
          6,
          5,
          6,
          4,
          3,
          2,
          6,
          1,
          3,
          4,
          2,
          4,
          5,
          2,
          4,
          3,
          112,
          8,
          10,
          112,
          41,
          66,
          44,
          66,
          44,
          89,
          41,
          89,
          1280,
          320,
          1280,
          404,
          178,
          181,
          308,
          58,
          401,
          140,
          58,
          17,
          98,
          302,
          218,
          58,
          249,
          94,
          54,
          55,
          102,
          57,
          24,
          34,
          17,
          13,
          102,
          25,
          11,
          52,
          18,
          50,
          38,
          11,
          14,
          12,
          10,
          6,
          82,
          671,
          13,
          17,
          4,
          2507,
          780,
          488,
          218,
          488,
          780,
          2494,
          342,
          438,
          280,
          253,
          118,
          351,
          584,
          131,
          218,
          90,
          75,
          55,
          79,
          35,
          292,
          82,
          129,
          81,
          82,
          33,
          348,
          216,
          57,
          58,
          256,
          49,
          168,
          5,
          19,
          63,
          19,
          48,
          10,
          93,
          78,
          34,
          44,
          13,
          54,
          5,
          3,
          5,
          9,
          1,
          2,
          4,
          2,
          4,
          3,
          2,
          1,
          3,
          11,
          1,
          4,
          3,
          1,
          5,
          3,
          1,
          1,
          63,
          73,
          63,
          21,
          73,
          23,
          16,
          23,
          23,
          12,
          16,
          23,
          12,
          2188,
          892,
          25,
          348,
          340,
          180,
          189,
          367,
          189,
          367,
          104,
          244,
          244,
          55,
          194,
          41,
          34,
          142,
          71,
          194,
          71,
          18,
          142,
          30,
          5,
          25,
          12,
          45,
          55,
          3,
          242,
          544,
          544,
          542,
          262,
          542,
          262,
          120,
          43,
          120,
          20,
          20,
          411,
          616,
          586,
          354,
          586,
          616,
          504,
          230,
          191,
          185,
          235,
          63,
          854,
          1317,
          854,
          1317,
          217,
          408,
          748,
          15,
          671,
          391,
          343,
          671,
          426,
          391,
          343,
          169,
          255,
          156,
          439,
          66,
          23,
          75,
          104,
          22,
          27,
          32,
          94,
          123,
          28,
          26,
          30,
          32,
          22,
          32,
          4,
          2,
          165,
          107,
          94,
          37,
          19,
          215,
          44,
          149,
          614,
          428,
          432,
          104,
          370,
          112,
          120,
          102,
          97,
          117,
          76,
          2,
          28,
          4,
          20,
          3,
          1625,
          84,
          162,
          130,
          2005,
          2005,
          399,
          399,
          226,
          39,
          35,
          35,
          9,
          10,
          964,
          424,
          539,
          539,
          424,
          64,
          181,
          115,
          134,
          66,
          60,
          134,
          226,
          226,
          20,
          160,
          18,
          1256,
          1256,
          808,
          808,
          346,
          35,
          152,
          145,
          21,
          14,
          13,
          19,
          19,
          11,
          8,
          649,
          114,
          98,
          208,
          211,
          129,
          62,
          23,
          30,
          9,
          9,
          2016,
          1645,
          980,
          625,
          1645,
          2016,
          980,
          625,
          277,
          569,
          569,
          277,
          2800,
          1389,
          1047,
          1135,
          296,
          313,
          2786,
          1047,
          1135,
          144,
          356,
          525,
          759,
          1389,
          525,
          236,
          159,
          336,
          313,
          180,
          1102,
          3259,
          3259,
          1231,
          1102,
          715,
          1231,
          944,
          242,
          242,
          185,
          59,
          192,
          161,
          194,
          185,
          194,
          192,
          122,
          122,
          161,
          74,
          74,
          377,
          391,
          178,
          82,
          11,
          11,
          9,
          433,
          433,
          22,
          59,
          39,
          115,
          88,
          20,
          88,
          115,
          65,
          27,
          35,
          65,
          27,
          35,
          1184,
          33,
          1070,
          7,
          579,
          579,
          451,
          453,
          322,
          322,
          220,
          140,
          134,
          146,
          134,
          140,
          246,
          146,
          246,
          78,
          78,
          7,
          10,
          86,
          1138,
          1138,
          342,
          342,
          265,
          218,
          265,
          99,
          116,
          88,
          116,
          40,
          99,
          88,
          29,
          97,
          97,
          67,
          12,
          23,
          2,
          18,
          3,
          1,
          18,
          18,
          734,
          568,
          468,
          452,
          55,
          26,
          7,
          5,
          3,
          1041,
          1210,
          1038,
          824,
          1210,
          943,
          1092,
          824,
          898,
          943,
          618,
          974,
          1912,
          620,
          1092,
          681,
          56,
          620,
          43,
          595,
          898,
          44,
          581,
          1142,
          15,
          13,
          18,
          449,
          642,
          272,
          642,
          247,
          131,
          595,
          496,
          2,
          273,
          421,
          581,
          517,
          411,
          212,
          310,
          245,
          314,
          185,
          156,
          52,
          314,
          322,
          31,
          59,
          69,
          45,
          16,
          19,
          32,
          25,
          22,
          14,
          17,
          17,
          5039,
          4939,
          4953,
          1476,
          1476,
          12,
          5,
          11,
          6,
          9,
          4,
          6,
          5,
          2,
          2,
          1063,
          3550,
          323,
          2848,
          909,
          315,
          61,
          37,
          112,
          1203,
          43,
          150,
          556
         ],
         "xaxis": "x",
         "yaxis": "y"
        }
       ],
       "layout": {
        "barmode": "relative",
        "legend": {
         "tracegroupgap": 0
        },
        "template": {
         "data": {
          "bar": [
           {
            "error_x": {
             "color": "#2a3f5f"
            },
            "error_y": {
             "color": "#2a3f5f"
            },
            "marker": {
             "line": {
              "color": "#E5ECF6",
              "width": 0.5
             },
             "pattern": {
              "fillmode": "overlay",
              "size": 10,
              "solidity": 0.2
             }
            },
            "type": "bar"
           }
          ],
          "barpolar": [
           {
            "marker": {
             "line": {
              "color": "#E5ECF6",
              "width": 0.5
             },
             "pattern": {
              "fillmode": "overlay",
              "size": 10,
              "solidity": 0.2
             }
            },
            "type": "barpolar"
           }
          ],
          "carpet": [
           {
            "aaxis": {
             "endlinecolor": "#2a3f5f",
             "gridcolor": "white",
             "linecolor": "white",
             "minorgridcolor": "white",
             "startlinecolor": "#2a3f5f"
            },
            "baxis": {
             "endlinecolor": "#2a3f5f",
             "gridcolor": "white",
             "linecolor": "white",
             "minorgridcolor": "white",
             "startlinecolor": "#2a3f5f"
            },
            "type": "carpet"
           }
          ],
          "choropleth": [
           {
            "colorbar": {
             "outlinewidth": 0,
             "ticks": ""
            },
            "type": "choropleth"
           }
          ],
          "contour": [
           {
            "colorbar": {
             "outlinewidth": 0,
             "ticks": ""
            },
            "colorscale": [
             [
              0,
              "#0d0887"
             ],
             [
              0.1111111111111111,
              "#46039f"
             ],
             [
              0.2222222222222222,
              "#7201a8"
             ],
             [
              0.3333333333333333,
              "#9c179e"
             ],
             [
              0.4444444444444444,
              "#bd3786"
             ],
             [
              0.5555555555555556,
              "#d8576b"
             ],
             [
              0.6666666666666666,
              "#ed7953"
             ],
             [
              0.7777777777777778,
              "#fb9f3a"
             ],
             [
              0.8888888888888888,
              "#fdca26"
             ],
             [
              1,
              "#f0f921"
             ]
            ],
            "type": "contour"
           }
          ],
          "contourcarpet": [
           {
            "colorbar": {
             "outlinewidth": 0,
             "ticks": ""
            },
            "type": "contourcarpet"
           }
          ],
          "heatmap": [
           {
            "colorbar": {
             "outlinewidth": 0,
             "ticks": ""
            },
            "colorscale": [
             [
              0,
              "#0d0887"
             ],
             [
              0.1111111111111111,
              "#46039f"
             ],
             [
              0.2222222222222222,
              "#7201a8"
             ],
             [
              0.3333333333333333,
              "#9c179e"
             ],
             [
              0.4444444444444444,
              "#bd3786"
             ],
             [
              0.5555555555555556,
              "#d8576b"
             ],
             [
              0.6666666666666666,
              "#ed7953"
             ],
             [
              0.7777777777777778,
              "#fb9f3a"
             ],
             [
              0.8888888888888888,
              "#fdca26"
             ],
             [
              1,
              "#f0f921"
             ]
            ],
            "type": "heatmap"
           }
          ],
          "heatmapgl": [
           {
            "colorbar": {
             "outlinewidth": 0,
             "ticks": ""
            },
            "colorscale": [
             [
              0,
              "#0d0887"
             ],
             [
              0.1111111111111111,
              "#46039f"
             ],
             [
              0.2222222222222222,
              "#7201a8"
             ],
             [
              0.3333333333333333,
              "#9c179e"
             ],
             [
              0.4444444444444444,
              "#bd3786"
             ],
             [
              0.5555555555555556,
              "#d8576b"
             ],
             [
              0.6666666666666666,
              "#ed7953"
             ],
             [
              0.7777777777777778,
              "#fb9f3a"
             ],
             [
              0.8888888888888888,
              "#fdca26"
             ],
             [
              1,
              "#f0f921"
             ]
            ],
            "type": "heatmapgl"
           }
          ],
          "histogram": [
           {
            "marker": {
             "pattern": {
              "fillmode": "overlay",
              "size": 10,
              "solidity": 0.2
             }
            },
            "type": "histogram"
           }
          ],
          "histogram2d": [
           {
            "colorbar": {
             "outlinewidth": 0,
             "ticks": ""
            },
            "colorscale": [
             [
              0,
              "#0d0887"
             ],
             [
              0.1111111111111111,
              "#46039f"
             ],
             [
              0.2222222222222222,
              "#7201a8"
             ],
             [
              0.3333333333333333,
              "#9c179e"
             ],
             [
              0.4444444444444444,
              "#bd3786"
             ],
             [
              0.5555555555555556,
              "#d8576b"
             ],
             [
              0.6666666666666666,
              "#ed7953"
             ],
             [
              0.7777777777777778,
              "#fb9f3a"
             ],
             [
              0.8888888888888888,
              "#fdca26"
             ],
             [
              1,
              "#f0f921"
             ]
            ],
            "type": "histogram2d"
           }
          ],
          "histogram2dcontour": [
           {
            "colorbar": {
             "outlinewidth": 0,
             "ticks": ""
            },
            "colorscale": [
             [
              0,
              "#0d0887"
             ],
             [
              0.1111111111111111,
              "#46039f"
             ],
             [
              0.2222222222222222,
              "#7201a8"
             ],
             [
              0.3333333333333333,
              "#9c179e"
             ],
             [
              0.4444444444444444,
              "#bd3786"
             ],
             [
              0.5555555555555556,
              "#d8576b"
             ],
             [
              0.6666666666666666,
              "#ed7953"
             ],
             [
              0.7777777777777778,
              "#fb9f3a"
             ],
             [
              0.8888888888888888,
              "#fdca26"
             ],
             [
              1,
              "#f0f921"
             ]
            ],
            "type": "histogram2dcontour"
           }
          ],
          "mesh3d": [
           {
            "colorbar": {
             "outlinewidth": 0,
             "ticks": ""
            },
            "type": "mesh3d"
           }
          ],
          "parcoords": [
           {
            "line": {
             "colorbar": {
              "outlinewidth": 0,
              "ticks": ""
             }
            },
            "type": "parcoords"
           }
          ],
          "pie": [
           {
            "automargin": true,
            "type": "pie"
           }
          ],
          "scatter": [
           {
            "fillpattern": {
             "fillmode": "overlay",
             "size": 10,
             "solidity": 0.2
            },
            "type": "scatter"
           }
          ],
          "scatter3d": [
           {
            "line": {
             "colorbar": {
              "outlinewidth": 0,
              "ticks": ""
             }
            },
            "marker": {
             "colorbar": {
              "outlinewidth": 0,
              "ticks": ""
             }
            },
            "type": "scatter3d"
           }
          ],
          "scattercarpet": [
           {
            "marker": {
             "colorbar": {
              "outlinewidth": 0,
              "ticks": ""
             }
            },
            "type": "scattercarpet"
           }
          ],
          "scattergeo": [
           {
            "marker": {
             "colorbar": {
              "outlinewidth": 0,
              "ticks": ""
             }
            },
            "type": "scattergeo"
           }
          ],
          "scattergl": [
           {
            "marker": {
             "colorbar": {
              "outlinewidth": 0,
              "ticks": ""
             }
            },
            "type": "scattergl"
           }
          ],
          "scattermapbox": [
           {
            "marker": {
             "colorbar": {
              "outlinewidth": 0,
              "ticks": ""
             }
            },
            "type": "scattermapbox"
           }
          ],
          "scatterpolar": [
           {
            "marker": {
             "colorbar": {
              "outlinewidth": 0,
              "ticks": ""
             }
            },
            "type": "scatterpolar"
           }
          ],
          "scatterpolargl": [
           {
            "marker": {
             "colorbar": {
              "outlinewidth": 0,
              "ticks": ""
             }
            },
            "type": "scatterpolargl"
           }
          ],
          "scatterternary": [
           {
            "marker": {
             "colorbar": {
              "outlinewidth": 0,
              "ticks": ""
             }
            },
            "type": "scatterternary"
           }
          ],
          "surface": [
           {
            "colorbar": {
             "outlinewidth": 0,
             "ticks": ""
            },
            "colorscale": [
             [
              0,
              "#0d0887"
             ],
             [
              0.1111111111111111,
              "#46039f"
             ],
             [
              0.2222222222222222,
              "#7201a8"
             ],
             [
              0.3333333333333333,
              "#9c179e"
             ],
             [
              0.4444444444444444,
              "#bd3786"
             ],
             [
              0.5555555555555556,
              "#d8576b"
             ],
             [
              0.6666666666666666,
              "#ed7953"
             ],
             [
              0.7777777777777778,
              "#fb9f3a"
             ],
             [
              0.8888888888888888,
              "#fdca26"
             ],
             [
              1,
              "#f0f921"
             ]
            ],
            "type": "surface"
           }
          ],
          "table": [
           {
            "cells": {
             "fill": {
              "color": "#EBF0F8"
             },
             "line": {
              "color": "white"
             }
            },
            "header": {
             "fill": {
              "color": "#C8D4E3"
             },
             "line": {
              "color": "white"
             }
            },
            "type": "table"
           }
          ]
         },
         "layout": {
          "annotationdefaults": {
           "arrowcolor": "#2a3f5f",
           "arrowhead": 0,
           "arrowwidth": 1
          },
          "autotypenumbers": "strict",
          "coloraxis": {
           "colorbar": {
            "outlinewidth": 0,
            "ticks": ""
           }
          },
          "colorscale": {
           "diverging": [
            [
             0,
             "#8e0152"
            ],
            [
             0.1,
             "#c51b7d"
            ],
            [
             0.2,
             "#de77ae"
            ],
            [
             0.3,
             "#f1b6da"
            ],
            [
             0.4,
             "#fde0ef"
            ],
            [
             0.5,
             "#f7f7f7"
            ],
            [
             0.6,
             "#e6f5d0"
            ],
            [
             0.7,
             "#b8e186"
            ],
            [
             0.8,
             "#7fbc41"
            ],
            [
             0.9,
             "#4d9221"
            ],
            [
             1,
             "#276419"
            ]
           ],
           "sequential": [
            [
             0,
             "#0d0887"
            ],
            [
             0.1111111111111111,
             "#46039f"
            ],
            [
             0.2222222222222222,
             "#7201a8"
            ],
            [
             0.3333333333333333,
             "#9c179e"
            ],
            [
             0.4444444444444444,
             "#bd3786"
            ],
            [
             0.5555555555555556,
             "#d8576b"
            ],
            [
             0.6666666666666666,
             "#ed7953"
            ],
            [
             0.7777777777777778,
             "#fb9f3a"
            ],
            [
             0.8888888888888888,
             "#fdca26"
            ],
            [
             1,
             "#f0f921"
            ]
           ],
           "sequentialminus": [
            [
             0,
             "#0d0887"
            ],
            [
             0.1111111111111111,
             "#46039f"
            ],
            [
             0.2222222222222222,
             "#7201a8"
            ],
            [
             0.3333333333333333,
             "#9c179e"
            ],
            [
             0.4444444444444444,
             "#bd3786"
            ],
            [
             0.5555555555555556,
             "#d8576b"
            ],
            [
             0.6666666666666666,
             "#ed7953"
            ],
            [
             0.7777777777777778,
             "#fb9f3a"
            ],
            [
             0.8888888888888888,
             "#fdca26"
            ],
            [
             1,
             "#f0f921"
            ]
           ]
          },
          "colorway": [
           "#636efa",
           "#EF553B",
           "#00cc96",
           "#ab63fa",
           "#FFA15A",
           "#19d3f3",
           "#FF6692",
           "#B6E880",
           "#FF97FF",
           "#FECB52"
          ],
          "font": {
           "color": "#2a3f5f"
          },
          "geo": {
           "bgcolor": "white",
           "lakecolor": "white",
           "landcolor": "#E5ECF6",
           "showlakes": true,
           "showland": true,
           "subunitcolor": "white"
          },
          "hoverlabel": {
           "align": "left"
          },
          "hovermode": "closest",
          "mapbox": {
           "style": "light"
          },
          "paper_bgcolor": "white",
          "plot_bgcolor": "#E5ECF6",
          "polar": {
           "angularaxis": {
            "gridcolor": "white",
            "linecolor": "white",
            "ticks": ""
           },
           "bgcolor": "#E5ECF6",
           "radialaxis": {
            "gridcolor": "white",
            "linecolor": "white",
            "ticks": ""
           }
          },
          "scene": {
           "xaxis": {
            "backgroundcolor": "#E5ECF6",
            "gridcolor": "white",
            "gridwidth": 2,
            "linecolor": "white",
            "showbackground": true,
            "ticks": "",
            "zerolinecolor": "white"
           },
           "yaxis": {
            "backgroundcolor": "#E5ECF6",
            "gridcolor": "white",
            "gridwidth": 2,
            "linecolor": "white",
            "showbackground": true,
            "ticks": "",
            "zerolinecolor": "white"
           },
           "zaxis": {
            "backgroundcolor": "#E5ECF6",
            "gridcolor": "white",
            "gridwidth": 2,
            "linecolor": "white",
            "showbackground": true,
            "ticks": "",
            "zerolinecolor": "white"
           }
          },
          "shapedefaults": {
           "line": {
            "color": "#2a3f5f"
           }
          },
          "ternary": {
           "aaxis": {
            "gridcolor": "white",
            "linecolor": "white",
            "ticks": ""
           },
           "baxis": {
            "gridcolor": "white",
            "linecolor": "white",
            "ticks": ""
           },
           "bgcolor": "#E5ECF6",
           "caxis": {
            "gridcolor": "white",
            "linecolor": "white",
            "ticks": ""
           }
          },
          "title": {
           "x": 0.05
          },
          "xaxis": {
           "automargin": true,
           "gridcolor": "white",
           "linecolor": "white",
           "ticks": "",
           "title": {
            "standoff": 15
           },
           "zerolinecolor": "white",
           "zerolinewidth": 2
          },
          "yaxis": {
           "automargin": true,
           "gridcolor": "white",
           "linecolor": "white",
           "ticks": "",
           "title": {
            "standoff": 15
           },
           "zerolinecolor": "white",
           "zerolinewidth": 2
          }
         }
        },
        "title": {
         "text": "Histogram of reviews"
        },
        "xaxis": {
         "anchor": "y",
         "domain": [
          0,
          1
         ],
         "title": {
          "text": "reviews"
         }
        },
        "yaxis": {
         "anchor": "x",
         "domain": [
          0,
          1
         ],
         "title": {
          "text": "count"
         }
        }
       }
      }
     },
     "metadata": {},
     "output_type": "display_data"
    }
   ],
   "source": [
    "# Create a histogram for the price distribution\n",
    "fig_hist = px.histogram(fragrant_data, \n",
    "                         x='reviews', \n",
    "                         title='Histogram of reviews',\n",
    "                         labels={'reviews': 'reviews'},\n",
    "                         nbins=50)  # Adjust the number of bins as needed\n",
    "\n",
    "fig_hist.show()"
   ]
  },
  {
   "cell_type": "code",
   "execution_count": 12,
   "metadata": {},
   "outputs": [
    {
     "data": {
      "application/vnd.plotly.v1+json": {
       "config": {
        "plotlyServerURL": "https://plot.ly"
       },
       "data": [
        {
         "alignmentgroup": "True",
         "hovertemplate": "price_usd=%{y}<extra></extra>",
         "legendgroup": "",
         "marker": {
          "color": "#636efa"
         },
         "name": "",
         "notched": false,
         "offsetgroup": "",
         "orientation": "v",
         "showlegend": false,
         "type": "box",
         "x0": " ",
         "xaxis": "x",
         "y": [
          195,
          195,
          195,
          195,
          30,
          30,
          195,
          195,
          30,
          30,
          30,
          195,
          30,
          84,
          29,
          84,
          29,
          84,
          29,
          29,
          28,
          84,
          29,
          84,
          84,
          84,
          84,
          181,
          145,
          35,
          145,
          145,
          200,
          145,
          145,
          260,
          35,
          35,
          35,
          135,
          145,
          155,
          34,
          34,
          120,
          160,
          144,
          186,
          99,
          142,
          34,
          107,
          107,
          34,
          34,
          34,
          107,
          34,
          107,
          53,
          34,
          107,
          107,
          34,
          107,
          107,
          30,
          30,
          98,
          98,
          30,
          30,
          30,
          98,
          98,
          30,
          98,
          98,
          123,
          95,
          38,
          165,
          99,
          95,
          133,
          101,
          123,
          74,
          38,
          140,
          94,
          95,
          70,
          28,
          70,
          70,
          28,
          45,
          70,
          70,
          28,
          70,
          28,
          28,
          28,
          45,
          28,
          28,
          28,
          70,
          45,
          45,
          45,
          45,
          90,
          40,
          147,
          15,
          147,
          34,
          96,
          147,
          128,
          147,
          147,
          38,
          31,
          38,
          133,
          124,
          110,
          110,
          29,
          44,
          74,
          110,
          110,
          29,
          29,
          110,
          29,
          29,
          110,
          110,
          110,
          110,
          29,
          29,
          25,
          135,
          25,
          135,
          25,
          135,
          135,
          25,
          25,
          135,
          135,
          135,
          25,
          25,
          135,
          135,
          135,
          135,
          135,
          135,
          25,
          135,
          135,
          25,
          25,
          135,
          25,
          25,
          25,
          135,
          25,
          135,
          135,
          25,
          135,
          25,
          25,
          135,
          135,
          25,
          135,
          30,
          30,
          90,
          35,
          90,
          30,
          30,
          90,
          30,
          30,
          90,
          90,
          90,
          160,
          100,
          55,
          82,
          108,
          108,
          32,
          32,
          108,
          108,
          108,
          32,
          108,
          108,
          32,
          40,
          32,
          32,
          108,
          108,
          108,
          32,
          108,
          32,
          105,
          105,
          32,
          100,
          108,
          32,
          140,
          34,
          34,
          89,
          89,
          34,
          34,
          34,
          89,
          34,
          34,
          34,
          89,
          110,
          110,
          108,
          40,
          40,
          124,
          135,
          111,
          111,
          64,
          30,
          155,
          123,
          38,
          38,
          87,
          155,
          154,
          38,
          123,
          101,
          131,
          38,
          143,
          38,
          38,
          165,
          175,
          165,
          155,
          125,
          165,
          110,
          110,
          110,
          110,
          110,
          110,
          110,
          110,
          110,
          65,
          65,
          165,
          165,
          65,
          165,
          149,
          149,
          149,
          141,
          152,
          116,
          108,
          148,
          155,
          155,
          155,
          45,
          80,
          155,
          155,
          155,
          155,
          155,
          145,
          24,
          150,
          150,
          150,
          80,
          86,
          27,
          86,
          106,
          140,
          30,
          140,
          30,
          140,
          30,
          140,
          30,
          140,
          30,
          25,
          125,
          125,
          25,
          25,
          25,
          138,
          100,
          100,
          25,
          27,
          27,
          25,
          25,
          27,
          138,
          27,
          275,
          50,
          125,
          30,
          275,
          215,
          275,
          275,
          50,
          215,
          275,
          275,
          275,
          340,
          215,
          118,
          125,
          118,
          65,
          93,
          32,
          16,
          93,
          93,
          93,
          93,
          160,
          160,
          160,
          160,
          35,
          35,
          35,
          35,
          160,
          160,
          35,
          35,
          128,
          139,
          149,
          128,
          128,
          95,
          34,
          34,
          34,
          34,
          163,
          156,
          116,
          34,
          34,
          90,
          90,
          128,
          50,
          104,
          150,
          35,
          180,
          95,
          35,
          180,
          35,
          115,
          98,
          35,
          86,
          48,
          35,
          98,
          98,
          30,
          35,
          98,
          35,
          98,
          35,
          98,
          35,
          64,
          64,
          133,
          132,
          126,
          120,
          132,
          96,
          26,
          98,
          26,
          96,
          96,
          96,
          96,
          26,
          26,
          96,
          96,
          96,
          26,
          26,
          26,
          32,
          32,
          115,
          25,
          90,
          30,
          30,
          90,
          30,
          90,
          90,
          30,
          30,
          30,
          90,
          90,
          30,
          90,
          90,
          90,
          30,
          30,
          90,
          78,
          88,
          32,
          88,
          32,
          88,
          88,
          32,
          32,
          32,
          88,
          88,
          88,
          88,
          32,
          32,
          32,
          88,
          88,
          69,
          55,
          20,
          20,
          20,
          20,
          20,
          20,
          80,
          80,
          80,
          80,
          27,
          46,
          46,
          46,
          46,
          395,
          295,
          80,
          295,
          70,
          395,
          295,
          70,
          150,
          80,
          150,
          395,
          50,
          295,
          70,
          50,
          180,
          70,
          295,
          295,
          50,
          295,
          235,
          295,
          395,
          395,
          65,
          395,
          235,
          295,
          65,
          295,
          235,
          70,
          295,
          75,
          235,
          150,
          35,
          110,
          96,
          105,
          98,
          130,
          65,
          120,
          96,
          33,
          92,
          130,
          33,
          110,
          107,
          32,
          32,
          32,
          26,
          120,
          32,
          32,
          32,
          32,
          180,
          35,
          58,
          180,
          35,
          12,
          50,
          175,
          175,
          175,
          50,
          175,
          175,
          50,
          50,
          117,
          34,
          95,
          148,
          89,
          108,
          34,
          136,
          89,
          120,
          76,
          99,
          106
         ],
         "y0": " ",
         "yaxis": "y"
        }
       ],
       "layout": {
        "boxmode": "group",
        "legend": {
         "tracegroupgap": 0
        },
        "template": {
         "data": {
          "bar": [
           {
            "error_x": {
             "color": "#2a3f5f"
            },
            "error_y": {
             "color": "#2a3f5f"
            },
            "marker": {
             "line": {
              "color": "#E5ECF6",
              "width": 0.5
             },
             "pattern": {
              "fillmode": "overlay",
              "size": 10,
              "solidity": 0.2
             }
            },
            "type": "bar"
           }
          ],
          "barpolar": [
           {
            "marker": {
             "line": {
              "color": "#E5ECF6",
              "width": 0.5
             },
             "pattern": {
              "fillmode": "overlay",
              "size": 10,
              "solidity": 0.2
             }
            },
            "type": "barpolar"
           }
          ],
          "carpet": [
           {
            "aaxis": {
             "endlinecolor": "#2a3f5f",
             "gridcolor": "white",
             "linecolor": "white",
             "minorgridcolor": "white",
             "startlinecolor": "#2a3f5f"
            },
            "baxis": {
             "endlinecolor": "#2a3f5f",
             "gridcolor": "white",
             "linecolor": "white",
             "minorgridcolor": "white",
             "startlinecolor": "#2a3f5f"
            },
            "type": "carpet"
           }
          ],
          "choropleth": [
           {
            "colorbar": {
             "outlinewidth": 0,
             "ticks": ""
            },
            "type": "choropleth"
           }
          ],
          "contour": [
           {
            "colorbar": {
             "outlinewidth": 0,
             "ticks": ""
            },
            "colorscale": [
             [
              0,
              "#0d0887"
             ],
             [
              0.1111111111111111,
              "#46039f"
             ],
             [
              0.2222222222222222,
              "#7201a8"
             ],
             [
              0.3333333333333333,
              "#9c179e"
             ],
             [
              0.4444444444444444,
              "#bd3786"
             ],
             [
              0.5555555555555556,
              "#d8576b"
             ],
             [
              0.6666666666666666,
              "#ed7953"
             ],
             [
              0.7777777777777778,
              "#fb9f3a"
             ],
             [
              0.8888888888888888,
              "#fdca26"
             ],
             [
              1,
              "#f0f921"
             ]
            ],
            "type": "contour"
           }
          ],
          "contourcarpet": [
           {
            "colorbar": {
             "outlinewidth": 0,
             "ticks": ""
            },
            "type": "contourcarpet"
           }
          ],
          "heatmap": [
           {
            "colorbar": {
             "outlinewidth": 0,
             "ticks": ""
            },
            "colorscale": [
             [
              0,
              "#0d0887"
             ],
             [
              0.1111111111111111,
              "#46039f"
             ],
             [
              0.2222222222222222,
              "#7201a8"
             ],
             [
              0.3333333333333333,
              "#9c179e"
             ],
             [
              0.4444444444444444,
              "#bd3786"
             ],
             [
              0.5555555555555556,
              "#d8576b"
             ],
             [
              0.6666666666666666,
              "#ed7953"
             ],
             [
              0.7777777777777778,
              "#fb9f3a"
             ],
             [
              0.8888888888888888,
              "#fdca26"
             ],
             [
              1,
              "#f0f921"
             ]
            ],
            "type": "heatmap"
           }
          ],
          "heatmapgl": [
           {
            "colorbar": {
             "outlinewidth": 0,
             "ticks": ""
            },
            "colorscale": [
             [
              0,
              "#0d0887"
             ],
             [
              0.1111111111111111,
              "#46039f"
             ],
             [
              0.2222222222222222,
              "#7201a8"
             ],
             [
              0.3333333333333333,
              "#9c179e"
             ],
             [
              0.4444444444444444,
              "#bd3786"
             ],
             [
              0.5555555555555556,
              "#d8576b"
             ],
             [
              0.6666666666666666,
              "#ed7953"
             ],
             [
              0.7777777777777778,
              "#fb9f3a"
             ],
             [
              0.8888888888888888,
              "#fdca26"
             ],
             [
              1,
              "#f0f921"
             ]
            ],
            "type": "heatmapgl"
           }
          ],
          "histogram": [
           {
            "marker": {
             "pattern": {
              "fillmode": "overlay",
              "size": 10,
              "solidity": 0.2
             }
            },
            "type": "histogram"
           }
          ],
          "histogram2d": [
           {
            "colorbar": {
             "outlinewidth": 0,
             "ticks": ""
            },
            "colorscale": [
             [
              0,
              "#0d0887"
             ],
             [
              0.1111111111111111,
              "#46039f"
             ],
             [
              0.2222222222222222,
              "#7201a8"
             ],
             [
              0.3333333333333333,
              "#9c179e"
             ],
             [
              0.4444444444444444,
              "#bd3786"
             ],
             [
              0.5555555555555556,
              "#d8576b"
             ],
             [
              0.6666666666666666,
              "#ed7953"
             ],
             [
              0.7777777777777778,
              "#fb9f3a"
             ],
             [
              0.8888888888888888,
              "#fdca26"
             ],
             [
              1,
              "#f0f921"
             ]
            ],
            "type": "histogram2d"
           }
          ],
          "histogram2dcontour": [
           {
            "colorbar": {
             "outlinewidth": 0,
             "ticks": ""
            },
            "colorscale": [
             [
              0,
              "#0d0887"
             ],
             [
              0.1111111111111111,
              "#46039f"
             ],
             [
              0.2222222222222222,
              "#7201a8"
             ],
             [
              0.3333333333333333,
              "#9c179e"
             ],
             [
              0.4444444444444444,
              "#bd3786"
             ],
             [
              0.5555555555555556,
              "#d8576b"
             ],
             [
              0.6666666666666666,
              "#ed7953"
             ],
             [
              0.7777777777777778,
              "#fb9f3a"
             ],
             [
              0.8888888888888888,
              "#fdca26"
             ],
             [
              1,
              "#f0f921"
             ]
            ],
            "type": "histogram2dcontour"
           }
          ],
          "mesh3d": [
           {
            "colorbar": {
             "outlinewidth": 0,
             "ticks": ""
            },
            "type": "mesh3d"
           }
          ],
          "parcoords": [
           {
            "line": {
             "colorbar": {
              "outlinewidth": 0,
              "ticks": ""
             }
            },
            "type": "parcoords"
           }
          ],
          "pie": [
           {
            "automargin": true,
            "type": "pie"
           }
          ],
          "scatter": [
           {
            "fillpattern": {
             "fillmode": "overlay",
             "size": 10,
             "solidity": 0.2
            },
            "type": "scatter"
           }
          ],
          "scatter3d": [
           {
            "line": {
             "colorbar": {
              "outlinewidth": 0,
              "ticks": ""
             }
            },
            "marker": {
             "colorbar": {
              "outlinewidth": 0,
              "ticks": ""
             }
            },
            "type": "scatter3d"
           }
          ],
          "scattercarpet": [
           {
            "marker": {
             "colorbar": {
              "outlinewidth": 0,
              "ticks": ""
             }
            },
            "type": "scattercarpet"
           }
          ],
          "scattergeo": [
           {
            "marker": {
             "colorbar": {
              "outlinewidth": 0,
              "ticks": ""
             }
            },
            "type": "scattergeo"
           }
          ],
          "scattergl": [
           {
            "marker": {
             "colorbar": {
              "outlinewidth": 0,
              "ticks": ""
             }
            },
            "type": "scattergl"
           }
          ],
          "scattermapbox": [
           {
            "marker": {
             "colorbar": {
              "outlinewidth": 0,
              "ticks": ""
             }
            },
            "type": "scattermapbox"
           }
          ],
          "scatterpolar": [
           {
            "marker": {
             "colorbar": {
              "outlinewidth": 0,
              "ticks": ""
             }
            },
            "type": "scatterpolar"
           }
          ],
          "scatterpolargl": [
           {
            "marker": {
             "colorbar": {
              "outlinewidth": 0,
              "ticks": ""
             }
            },
            "type": "scatterpolargl"
           }
          ],
          "scatterternary": [
           {
            "marker": {
             "colorbar": {
              "outlinewidth": 0,
              "ticks": ""
             }
            },
            "type": "scatterternary"
           }
          ],
          "surface": [
           {
            "colorbar": {
             "outlinewidth": 0,
             "ticks": ""
            },
            "colorscale": [
             [
              0,
              "#0d0887"
             ],
             [
              0.1111111111111111,
              "#46039f"
             ],
             [
              0.2222222222222222,
              "#7201a8"
             ],
             [
              0.3333333333333333,
              "#9c179e"
             ],
             [
              0.4444444444444444,
              "#bd3786"
             ],
             [
              0.5555555555555556,
              "#d8576b"
             ],
             [
              0.6666666666666666,
              "#ed7953"
             ],
             [
              0.7777777777777778,
              "#fb9f3a"
             ],
             [
              0.8888888888888888,
              "#fdca26"
             ],
             [
              1,
              "#f0f921"
             ]
            ],
            "type": "surface"
           }
          ],
          "table": [
           {
            "cells": {
             "fill": {
              "color": "#EBF0F8"
             },
             "line": {
              "color": "white"
             }
            },
            "header": {
             "fill": {
              "color": "#C8D4E3"
             },
             "line": {
              "color": "white"
             }
            },
            "type": "table"
           }
          ]
         },
         "layout": {
          "annotationdefaults": {
           "arrowcolor": "#2a3f5f",
           "arrowhead": 0,
           "arrowwidth": 1
          },
          "autotypenumbers": "strict",
          "coloraxis": {
           "colorbar": {
            "outlinewidth": 0,
            "ticks": ""
           }
          },
          "colorscale": {
           "diverging": [
            [
             0,
             "#8e0152"
            ],
            [
             0.1,
             "#c51b7d"
            ],
            [
             0.2,
             "#de77ae"
            ],
            [
             0.3,
             "#f1b6da"
            ],
            [
             0.4,
             "#fde0ef"
            ],
            [
             0.5,
             "#f7f7f7"
            ],
            [
             0.6,
             "#e6f5d0"
            ],
            [
             0.7,
             "#b8e186"
            ],
            [
             0.8,
             "#7fbc41"
            ],
            [
             0.9,
             "#4d9221"
            ],
            [
             1,
             "#276419"
            ]
           ],
           "sequential": [
            [
             0,
             "#0d0887"
            ],
            [
             0.1111111111111111,
             "#46039f"
            ],
            [
             0.2222222222222222,
             "#7201a8"
            ],
            [
             0.3333333333333333,
             "#9c179e"
            ],
            [
             0.4444444444444444,
             "#bd3786"
            ],
            [
             0.5555555555555556,
             "#d8576b"
            ],
            [
             0.6666666666666666,
             "#ed7953"
            ],
            [
             0.7777777777777778,
             "#fb9f3a"
            ],
            [
             0.8888888888888888,
             "#fdca26"
            ],
            [
             1,
             "#f0f921"
            ]
           ],
           "sequentialminus": [
            [
             0,
             "#0d0887"
            ],
            [
             0.1111111111111111,
             "#46039f"
            ],
            [
             0.2222222222222222,
             "#7201a8"
            ],
            [
             0.3333333333333333,
             "#9c179e"
            ],
            [
             0.4444444444444444,
             "#bd3786"
            ],
            [
             0.5555555555555556,
             "#d8576b"
            ],
            [
             0.6666666666666666,
             "#ed7953"
            ],
            [
             0.7777777777777778,
             "#fb9f3a"
            ],
            [
             0.8888888888888888,
             "#fdca26"
            ],
            [
             1,
             "#f0f921"
            ]
           ]
          },
          "colorway": [
           "#636efa",
           "#EF553B",
           "#00cc96",
           "#ab63fa",
           "#FFA15A",
           "#19d3f3",
           "#FF6692",
           "#B6E880",
           "#FF97FF",
           "#FECB52"
          ],
          "font": {
           "color": "#2a3f5f"
          },
          "geo": {
           "bgcolor": "white",
           "lakecolor": "white",
           "landcolor": "#E5ECF6",
           "showlakes": true,
           "showland": true,
           "subunitcolor": "white"
          },
          "hoverlabel": {
           "align": "left"
          },
          "hovermode": "closest",
          "mapbox": {
           "style": "light"
          },
          "paper_bgcolor": "white",
          "plot_bgcolor": "#E5ECF6",
          "polar": {
           "angularaxis": {
            "gridcolor": "white",
            "linecolor": "white",
            "ticks": ""
           },
           "bgcolor": "#E5ECF6",
           "radialaxis": {
            "gridcolor": "white",
            "linecolor": "white",
            "ticks": ""
           }
          },
          "scene": {
           "xaxis": {
            "backgroundcolor": "#E5ECF6",
            "gridcolor": "white",
            "gridwidth": 2,
            "linecolor": "white",
            "showbackground": true,
            "ticks": "",
            "zerolinecolor": "white"
           },
           "yaxis": {
            "backgroundcolor": "#E5ECF6",
            "gridcolor": "white",
            "gridwidth": 2,
            "linecolor": "white",
            "showbackground": true,
            "ticks": "",
            "zerolinecolor": "white"
           },
           "zaxis": {
            "backgroundcolor": "#E5ECF6",
            "gridcolor": "white",
            "gridwidth": 2,
            "linecolor": "white",
            "showbackground": true,
            "ticks": "",
            "zerolinecolor": "white"
           }
          },
          "shapedefaults": {
           "line": {
            "color": "#2a3f5f"
           }
          },
          "ternary": {
           "aaxis": {
            "gridcolor": "white",
            "linecolor": "white",
            "ticks": ""
           },
           "baxis": {
            "gridcolor": "white",
            "linecolor": "white",
            "ticks": ""
           },
           "bgcolor": "#E5ECF6",
           "caxis": {
            "gridcolor": "white",
            "linecolor": "white",
            "ticks": ""
           }
          },
          "title": {
           "x": 0.05
          },
          "xaxis": {
           "automargin": true,
           "gridcolor": "white",
           "linecolor": "white",
           "ticks": "",
           "title": {
            "standoff": 15
           },
           "zerolinecolor": "white",
           "zerolinewidth": 2
          },
          "yaxis": {
           "automargin": true,
           "gridcolor": "white",
           "linecolor": "white",
           "ticks": "",
           "title": {
            "standoff": 15
           },
           "zerolinecolor": "white",
           "zerolinewidth": 2
          }
         }
        },
        "title": {
         "text": "Box Plot of Product Prices"
        },
        "xaxis": {
         "anchor": "y",
         "domain": [
          0,
          1
         ]
        },
        "yaxis": {
         "anchor": "x",
         "domain": [
          0,
          1
         ],
         "title": {
          "text": "price_usd"
         }
        }
       }
      }
     },
     "metadata": {},
     "output_type": "display_data"
    }
   ],
   "source": [
    "# box plot for the price distribution\n",
    "fig_box = px.box(fragrant_data, \n",
    "                  y='price_usd', \n",
    "                  title='Box Plot of Product Prices',\n",
    "                  labels={'price': 'Price'})\n",
    "\n",
    "fig_box.show()"
   ]
  },
  {
   "cell_type": "code",
   "execution_count": 13,
   "metadata": {},
   "outputs": [
    {
     "data": {
      "application/vnd.plotly.v1+json": {
       "config": {
        "plotlyServerURL": "https://plot.ly"
       },
       "data": [
        {
         "alignmentgroup": "True",
         "hovertemplate": "phrase=%{x}<br>Count=%{marker.color}<extra></extra>",
         "legendgroup": "",
         "marker": {
          "color": [
           309,
           256,
           224,
           203,
           184,
           121,
           104,
           97,
           95,
           94,
           94,
           92,
           43,
           26,
           17,
           14,
           14,
           13,
           12,
           6
          ],
          "coloraxis": "coloraxis",
          "pattern": {
           "shape": ""
          }
         },
         "name": "",
         "offsetgroup": "",
         "orientation": "v",
         "showlegend": false,
         "textposition": "auto",
         "type": "bar",
         "x": [
          "Layerable Scent",
          "Unisex/ Genderless Scent",
          "Vegan",
          "Floral Scent",
          "Cruelty-Free",
          "Without Phthalates",
          "Fresh Scent",
          "Clean + Planet Positive",
          "Clean at Sephora",
          "Warm &Spicy Scent",
          "Without Parabens",
          "Woody & Earthy Scent",
          "Hypoallergenic",
          "Refill Available",
          "Without Sulfates SLS & SLES",
          "Without Mineral Oil",
          "Gluten Free",
          "allure 2020 Best of Beauty Award Winner",
          "allure 2022 Best of Beauty Award Winner",
          "Alcohol Free"
         ],
         "xaxis": "x",
         "y": [
          309,
          256,
          224,
          203,
          184,
          121,
          104,
          97,
          95,
          94,
          94,
          92,
          43,
          26,
          17,
          14,
          14,
          13,
          12,
          6
         ],
         "yaxis": "y"
        }
       ],
       "layout": {
        "barmode": "relative",
        "coloraxis": {
         "colorbar": {
          "title": {
           "text": "Count"
          }
         },
         "colorscale": [
          [
           0,
           "#440154"
          ],
          [
           0.1111111111111111,
           "#482878"
          ],
          [
           0.2222222222222222,
           "#3e4989"
          ],
          [
           0.3333333333333333,
           "#31688e"
          ],
          [
           0.4444444444444444,
           "#26828e"
          ],
          [
           0.5555555555555556,
           "#1f9e89"
          ],
          [
           0.6666666666666666,
           "#35b779"
          ],
          [
           0.7777777777777778,
           "#6ece58"
          ],
          [
           0.8888888888888888,
           "#b5de2b"
          ],
          [
           1,
           "#fde725"
          ]
         ]
        },
        "legend": {
         "tracegroupgap": 0
        },
        "template": {
         "data": {
          "bar": [
           {
            "error_x": {
             "color": "#2a3f5f"
            },
            "error_y": {
             "color": "#2a3f5f"
            },
            "marker": {
             "line": {
              "color": "#E5ECF6",
              "width": 0.5
             },
             "pattern": {
              "fillmode": "overlay",
              "size": 10,
              "solidity": 0.2
             }
            },
            "type": "bar"
           }
          ],
          "barpolar": [
           {
            "marker": {
             "line": {
              "color": "#E5ECF6",
              "width": 0.5
             },
             "pattern": {
              "fillmode": "overlay",
              "size": 10,
              "solidity": 0.2
             }
            },
            "type": "barpolar"
           }
          ],
          "carpet": [
           {
            "aaxis": {
             "endlinecolor": "#2a3f5f",
             "gridcolor": "white",
             "linecolor": "white",
             "minorgridcolor": "white",
             "startlinecolor": "#2a3f5f"
            },
            "baxis": {
             "endlinecolor": "#2a3f5f",
             "gridcolor": "white",
             "linecolor": "white",
             "minorgridcolor": "white",
             "startlinecolor": "#2a3f5f"
            },
            "type": "carpet"
           }
          ],
          "choropleth": [
           {
            "colorbar": {
             "outlinewidth": 0,
             "ticks": ""
            },
            "type": "choropleth"
           }
          ],
          "contour": [
           {
            "colorbar": {
             "outlinewidth": 0,
             "ticks": ""
            },
            "colorscale": [
             [
              0,
              "#0d0887"
             ],
             [
              0.1111111111111111,
              "#46039f"
             ],
             [
              0.2222222222222222,
              "#7201a8"
             ],
             [
              0.3333333333333333,
              "#9c179e"
             ],
             [
              0.4444444444444444,
              "#bd3786"
             ],
             [
              0.5555555555555556,
              "#d8576b"
             ],
             [
              0.6666666666666666,
              "#ed7953"
             ],
             [
              0.7777777777777778,
              "#fb9f3a"
             ],
             [
              0.8888888888888888,
              "#fdca26"
             ],
             [
              1,
              "#f0f921"
             ]
            ],
            "type": "contour"
           }
          ],
          "contourcarpet": [
           {
            "colorbar": {
             "outlinewidth": 0,
             "ticks": ""
            },
            "type": "contourcarpet"
           }
          ],
          "heatmap": [
           {
            "colorbar": {
             "outlinewidth": 0,
             "ticks": ""
            },
            "colorscale": [
             [
              0,
              "#0d0887"
             ],
             [
              0.1111111111111111,
              "#46039f"
             ],
             [
              0.2222222222222222,
              "#7201a8"
             ],
             [
              0.3333333333333333,
              "#9c179e"
             ],
             [
              0.4444444444444444,
              "#bd3786"
             ],
             [
              0.5555555555555556,
              "#d8576b"
             ],
             [
              0.6666666666666666,
              "#ed7953"
             ],
             [
              0.7777777777777778,
              "#fb9f3a"
             ],
             [
              0.8888888888888888,
              "#fdca26"
             ],
             [
              1,
              "#f0f921"
             ]
            ],
            "type": "heatmap"
           }
          ],
          "heatmapgl": [
           {
            "colorbar": {
             "outlinewidth": 0,
             "ticks": ""
            },
            "colorscale": [
             [
              0,
              "#0d0887"
             ],
             [
              0.1111111111111111,
              "#46039f"
             ],
             [
              0.2222222222222222,
              "#7201a8"
             ],
             [
              0.3333333333333333,
              "#9c179e"
             ],
             [
              0.4444444444444444,
              "#bd3786"
             ],
             [
              0.5555555555555556,
              "#d8576b"
             ],
             [
              0.6666666666666666,
              "#ed7953"
             ],
             [
              0.7777777777777778,
              "#fb9f3a"
             ],
             [
              0.8888888888888888,
              "#fdca26"
             ],
             [
              1,
              "#f0f921"
             ]
            ],
            "type": "heatmapgl"
           }
          ],
          "histogram": [
           {
            "marker": {
             "pattern": {
              "fillmode": "overlay",
              "size": 10,
              "solidity": 0.2
             }
            },
            "type": "histogram"
           }
          ],
          "histogram2d": [
           {
            "colorbar": {
             "outlinewidth": 0,
             "ticks": ""
            },
            "colorscale": [
             [
              0,
              "#0d0887"
             ],
             [
              0.1111111111111111,
              "#46039f"
             ],
             [
              0.2222222222222222,
              "#7201a8"
             ],
             [
              0.3333333333333333,
              "#9c179e"
             ],
             [
              0.4444444444444444,
              "#bd3786"
             ],
             [
              0.5555555555555556,
              "#d8576b"
             ],
             [
              0.6666666666666666,
              "#ed7953"
             ],
             [
              0.7777777777777778,
              "#fb9f3a"
             ],
             [
              0.8888888888888888,
              "#fdca26"
             ],
             [
              1,
              "#f0f921"
             ]
            ],
            "type": "histogram2d"
           }
          ],
          "histogram2dcontour": [
           {
            "colorbar": {
             "outlinewidth": 0,
             "ticks": ""
            },
            "colorscale": [
             [
              0,
              "#0d0887"
             ],
             [
              0.1111111111111111,
              "#46039f"
             ],
             [
              0.2222222222222222,
              "#7201a8"
             ],
             [
              0.3333333333333333,
              "#9c179e"
             ],
             [
              0.4444444444444444,
              "#bd3786"
             ],
             [
              0.5555555555555556,
              "#d8576b"
             ],
             [
              0.6666666666666666,
              "#ed7953"
             ],
             [
              0.7777777777777778,
              "#fb9f3a"
             ],
             [
              0.8888888888888888,
              "#fdca26"
             ],
             [
              1,
              "#f0f921"
             ]
            ],
            "type": "histogram2dcontour"
           }
          ],
          "mesh3d": [
           {
            "colorbar": {
             "outlinewidth": 0,
             "ticks": ""
            },
            "type": "mesh3d"
           }
          ],
          "parcoords": [
           {
            "line": {
             "colorbar": {
              "outlinewidth": 0,
              "ticks": ""
             }
            },
            "type": "parcoords"
           }
          ],
          "pie": [
           {
            "automargin": true,
            "type": "pie"
           }
          ],
          "scatter": [
           {
            "fillpattern": {
             "fillmode": "overlay",
             "size": 10,
             "solidity": 0.2
            },
            "type": "scatter"
           }
          ],
          "scatter3d": [
           {
            "line": {
             "colorbar": {
              "outlinewidth": 0,
              "ticks": ""
             }
            },
            "marker": {
             "colorbar": {
              "outlinewidth": 0,
              "ticks": ""
             }
            },
            "type": "scatter3d"
           }
          ],
          "scattercarpet": [
           {
            "marker": {
             "colorbar": {
              "outlinewidth": 0,
              "ticks": ""
             }
            },
            "type": "scattercarpet"
           }
          ],
          "scattergeo": [
           {
            "marker": {
             "colorbar": {
              "outlinewidth": 0,
              "ticks": ""
             }
            },
            "type": "scattergeo"
           }
          ],
          "scattergl": [
           {
            "marker": {
             "colorbar": {
              "outlinewidth": 0,
              "ticks": ""
             }
            },
            "type": "scattergl"
           }
          ],
          "scattermapbox": [
           {
            "marker": {
             "colorbar": {
              "outlinewidth": 0,
              "ticks": ""
             }
            },
            "type": "scattermapbox"
           }
          ],
          "scatterpolar": [
           {
            "marker": {
             "colorbar": {
              "outlinewidth": 0,
              "ticks": ""
             }
            },
            "type": "scatterpolar"
           }
          ],
          "scatterpolargl": [
           {
            "marker": {
             "colorbar": {
              "outlinewidth": 0,
              "ticks": ""
             }
            },
            "type": "scatterpolargl"
           }
          ],
          "scatterternary": [
           {
            "marker": {
             "colorbar": {
              "outlinewidth": 0,
              "ticks": ""
             }
            },
            "type": "scatterternary"
           }
          ],
          "surface": [
           {
            "colorbar": {
             "outlinewidth": 0,
             "ticks": ""
            },
            "colorscale": [
             [
              0,
              "#0d0887"
             ],
             [
              0.1111111111111111,
              "#46039f"
             ],
             [
              0.2222222222222222,
              "#7201a8"
             ],
             [
              0.3333333333333333,
              "#9c179e"
             ],
             [
              0.4444444444444444,
              "#bd3786"
             ],
             [
              0.5555555555555556,
              "#d8576b"
             ],
             [
              0.6666666666666666,
              "#ed7953"
             ],
             [
              0.7777777777777778,
              "#fb9f3a"
             ],
             [
              0.8888888888888888,
              "#fdca26"
             ],
             [
              1,
              "#f0f921"
             ]
            ],
            "type": "surface"
           }
          ],
          "table": [
           {
            "cells": {
             "fill": {
              "color": "#EBF0F8"
             },
             "line": {
              "color": "white"
             }
            },
            "header": {
             "fill": {
              "color": "#C8D4E3"
             },
             "line": {
              "color": "white"
             }
            },
            "type": "table"
           }
          ]
         },
         "layout": {
          "annotationdefaults": {
           "arrowcolor": "#2a3f5f",
           "arrowhead": 0,
           "arrowwidth": 1
          },
          "autotypenumbers": "strict",
          "coloraxis": {
           "colorbar": {
            "outlinewidth": 0,
            "ticks": ""
           }
          },
          "colorscale": {
           "diverging": [
            [
             0,
             "#8e0152"
            ],
            [
             0.1,
             "#c51b7d"
            ],
            [
             0.2,
             "#de77ae"
            ],
            [
             0.3,
             "#f1b6da"
            ],
            [
             0.4,
             "#fde0ef"
            ],
            [
             0.5,
             "#f7f7f7"
            ],
            [
             0.6,
             "#e6f5d0"
            ],
            [
             0.7,
             "#b8e186"
            ],
            [
             0.8,
             "#7fbc41"
            ],
            [
             0.9,
             "#4d9221"
            ],
            [
             1,
             "#276419"
            ]
           ],
           "sequential": [
            [
             0,
             "#0d0887"
            ],
            [
             0.1111111111111111,
             "#46039f"
            ],
            [
             0.2222222222222222,
             "#7201a8"
            ],
            [
             0.3333333333333333,
             "#9c179e"
            ],
            [
             0.4444444444444444,
             "#bd3786"
            ],
            [
             0.5555555555555556,
             "#d8576b"
            ],
            [
             0.6666666666666666,
             "#ed7953"
            ],
            [
             0.7777777777777778,
             "#fb9f3a"
            ],
            [
             0.8888888888888888,
             "#fdca26"
            ],
            [
             1,
             "#f0f921"
            ]
           ],
           "sequentialminus": [
            [
             0,
             "#0d0887"
            ],
            [
             0.1111111111111111,
             "#46039f"
            ],
            [
             0.2222222222222222,
             "#7201a8"
            ],
            [
             0.3333333333333333,
             "#9c179e"
            ],
            [
             0.4444444444444444,
             "#bd3786"
            ],
            [
             0.5555555555555556,
             "#d8576b"
            ],
            [
             0.6666666666666666,
             "#ed7953"
            ],
            [
             0.7777777777777778,
             "#fb9f3a"
            ],
            [
             0.8888888888888888,
             "#fdca26"
            ],
            [
             1,
             "#f0f921"
            ]
           ]
          },
          "colorway": [
           "#636efa",
           "#EF553B",
           "#00cc96",
           "#ab63fa",
           "#FFA15A",
           "#19d3f3",
           "#FF6692",
           "#B6E880",
           "#FF97FF",
           "#FECB52"
          ],
          "font": {
           "color": "#2a3f5f"
          },
          "geo": {
           "bgcolor": "white",
           "lakecolor": "white",
           "landcolor": "#E5ECF6",
           "showlakes": true,
           "showland": true,
           "subunitcolor": "white"
          },
          "hoverlabel": {
           "align": "left"
          },
          "hovermode": "closest",
          "mapbox": {
           "style": "light"
          },
          "paper_bgcolor": "white",
          "plot_bgcolor": "#E5ECF6",
          "polar": {
           "angularaxis": {
            "gridcolor": "white",
            "linecolor": "white",
            "ticks": ""
           },
           "bgcolor": "#E5ECF6",
           "radialaxis": {
            "gridcolor": "white",
            "linecolor": "white",
            "ticks": ""
           }
          },
          "scene": {
           "xaxis": {
            "backgroundcolor": "#E5ECF6",
            "gridcolor": "white",
            "gridwidth": 2,
            "linecolor": "white",
            "showbackground": true,
            "ticks": "",
            "zerolinecolor": "white"
           },
           "yaxis": {
            "backgroundcolor": "#E5ECF6",
            "gridcolor": "white",
            "gridwidth": 2,
            "linecolor": "white",
            "showbackground": true,
            "ticks": "",
            "zerolinecolor": "white"
           },
           "zaxis": {
            "backgroundcolor": "#E5ECF6",
            "gridcolor": "white",
            "gridwidth": 2,
            "linecolor": "white",
            "showbackground": true,
            "ticks": "",
            "zerolinecolor": "white"
           }
          },
          "shapedefaults": {
           "line": {
            "color": "#2a3f5f"
           }
          },
          "ternary": {
           "aaxis": {
            "gridcolor": "white",
            "linecolor": "white",
            "ticks": ""
           },
           "baxis": {
            "gridcolor": "white",
            "linecolor": "white",
            "ticks": ""
           },
           "bgcolor": "#E5ECF6",
           "caxis": {
            "gridcolor": "white",
            "linecolor": "white",
            "ticks": ""
           }
          },
          "title": {
           "x": 0.05
          },
          "xaxis": {
           "automargin": true,
           "gridcolor": "white",
           "linecolor": "white",
           "ticks": "",
           "title": {
            "standoff": 15
           },
           "zerolinecolor": "white",
           "zerolinewidth": 2
          },
          "yaxis": {
           "automargin": true,
           "gridcolor": "white",
           "linecolor": "white",
           "ticks": "",
           "title": {
            "standoff": 15
           },
           "zerolinecolor": "white",
           "zerolinewidth": 2
          }
         }
        },
        "title": {
         "text": "Most Popular Phrases in Highlights"
        },
        "xaxis": {
         "anchor": "y",
         "domain": [
          0,
          1
         ],
         "title": {
          "text": "phrase"
         }
        },
        "yaxis": {
         "anchor": "x",
         "domain": [
          0,
          1
         ],
         "title": {
          "text": "Count"
         }
        }
       }
      }
     },
     "metadata": {},
     "output_type": "display_data"
    }
   ],
   "source": [
    "from collections import Counter\n",
    "# Initialize a Counter to count phrases\n",
    "phrase_counter = Counter()\n",
    "\n",
    "# Iterate through the highlights to count phrases\n",
    "for highlight in fragrant_data['highlights']:\n",
    "    if isinstance(highlight, str):  # Ensure it's a string\n",
    "        phrases = eval(highlight)  # Convert string representation of list to actual list\n",
    "        phrase_counter.update(phrases)\n",
    "    else:\n",
    "        print(f\"Unexpected type: {type(highlight)}\")\n",
    "\n",
    "# Get the most common phrases and their counts\n",
    "most_common_phrases = phrase_counter.most_common(20)  # Adjust the number of phrases to display\n",
    "if most_common_phrases:\n",
    "    phrases, counts = zip(*most_common_phrases)\n",
    "    popular_phrases = pd.DataFrame({'phrase': phrases, 'count': counts})\n",
    "\n",
    "    # Plotting the most popular phrases\n",
    "    fig3 = px.bar(popular_phrases, \n",
    "                   x='phrase', \n",
    "                   y='count',\n",
    "                   title='Most Popular Phrases in Highlights',\n",
    "                   labels={'count': 'Count'},\n",
    "                   color='count',\n",
    "                   color_continuous_scale=px.colors.sequential.Viridis)\n",
    "\n",
    "    fig3.show()\n",
    "else:\n",
    "    print(\"No common phrases found.\")"
   ]
  },
  {
   "cell_type": "code",
   "execution_count": 82,
   "metadata": {},
   "outputs": [
    {
     "name": "stdout",
     "output_type": "stream",
     "text": [
      "<class 'pandas.core.frame.DataFrame'>\n",
      "Index: 1110 entries, 89 to 8426\n",
      "Data columns (total 27 columns):\n",
      " #   Column              Non-Null Count  Dtype  \n",
      "---  ------              --------------  -----  \n",
      " 0   product_id          1110 non-null   object \n",
      " 1   product_name        1110 non-null   object \n",
      " 2   brand_id            1110 non-null   int64  \n",
      " 3   brand_name          1110 non-null   object \n",
      " 4   loves_count         1110 non-null   int64  \n",
      " 5   rating              1110 non-null   float64\n",
      " 6   reviews             1110 non-null   float64\n",
      " 7   size                1092 non-null   object \n",
      " 8   variation_type      1072 non-null   object \n",
      " 9   variation_value     1058 non-null   object \n",
      " 10  variation_desc      3 non-null      object \n",
      " 11  ingredients         1085 non-null   object \n",
      " 12  price_usd           1110 non-null   float64\n",
      " 13  value_price_usd     7 non-null      float64\n",
      " 14  sale_price_usd      15 non-null     float64\n",
      " 15  limited_edition     1110 non-null   int64  \n",
      " 16  new                 1110 non-null   int64  \n",
      " 17  online_only         1110 non-null   int64  \n",
      " 18  out_of_stock        1110 non-null   int64  \n",
      " 19  sephora_exclusive   1110 non-null   int64  \n",
      " 20  highlights          938 non-null    object \n",
      " 21  primary_category    1110 non-null   object \n",
      " 22  secondary_category  1110 non-null   object \n",
      " 23  tertiary_category   993 non-null    object \n",
      " 24  child_count         1110 non-null   int64  \n",
      " 25  child_max_price     213 non-null    float64\n",
      " 26  child_min_price     213 non-null    float64\n",
      "dtypes: float64(7), int64(8), object(12)\n",
      "memory usage: 242.8+ KB\n"
     ]
    }
   ],
   "source": [
    "Skincare_df.info()"
   ]
  },
  {
   "cell_type": "code",
   "execution_count": 4,
   "metadata": {},
   "outputs": [
    {
     "name": "stdout",
     "output_type": "stream",
     "text": [
      "<class 'pandas.core.frame.DataFrame'>\n",
      "RangeIndex: 116262 entries, 0 to 116261\n",
      "Data columns (total 19 columns):\n",
      " #   Column                    Non-Null Count   Dtype  \n",
      "---  ------                    --------------   -----  \n",
      " 0   Unnamed: 0                116262 non-null  int64  \n",
      " 1   author_id                 116262 non-null  object \n",
      " 2   rating                    116262 non-null  int64  \n",
      " 3   is_recommended            104459 non-null  float64\n",
      " 4   helpfulness               59838 non-null   float64\n",
      " 5   total_feedback_count      116262 non-null  int64  \n",
      " 6   total_neg_feedback_count  116262 non-null  int64  \n",
      " 7   total_pos_feedback_count  116262 non-null  int64  \n",
      " 8   submission_time           116262 non-null  object \n",
      " 9   review_text               116137 non-null  object \n",
      " 10  review_title              82281 non-null   object \n",
      " 11  skin_tone                 101027 non-null  object \n",
      " 12  eye_color                 99819 non-null   object \n",
      " 13  skin_type                 107373 non-null  object \n",
      " 14  hair_color                96527 non-null   object \n",
      " 15  product_id                116262 non-null  object \n",
      " 16  product_name              116262 non-null  object \n",
      " 17  brand_name                116262 non-null  object \n",
      " 18  price_usd                 116262 non-null  float64\n",
      "dtypes: float64(3), int64(5), object(11)\n",
      "memory usage: 16.9+ MB\n"
     ]
    }
   ],
   "source": [
    "productsreviews_df = pd.read_csv(\"/Users/selahmitchell/Downloads/archive-3/reviews_500-750.csv\", low_memory=False)\n",
    "productsreviews_df.info()"
   ]
  },
  {
   "cell_type": "code",
   "execution_count": 70,
   "metadata": {},
   "outputs": [
    {
     "name": "stdout",
     "output_type": "stream",
     "text": [
      "<class 'pandas.core.frame.DataFrame'>\n",
      "RangeIndex: 116262 entries, 0 to 116261\n",
      "Data columns (total 8 columns):\n",
      " #   Column           Non-Null Count   Dtype  \n",
      "---  ------           --------------   -----  \n",
      " 0   product_id       116262 non-null  object \n",
      " 1   author_id        116262 non-null  object \n",
      " 2   submission_time  116262 non-null  object \n",
      " 3   review_text      116137 non-null  object \n",
      " 4   review_title     82281 non-null   object \n",
      " 5   product_name     116262 non-null  object \n",
      " 6   brand_name       116262 non-null  object \n",
      " 7   price_usd        116262 non-null  float64\n",
      "dtypes: float64(1), object(7)\n",
      "memory usage: 7.1+ MB\n",
      "None\n"
     ]
    }
   ],
   "source": [
    "selected_columns = [\n",
    "    'product_id',\n",
    "    'author_id',\n",
    "    'submission_time',\n",
    "    'review_text',\n",
    "    'review_title',\n",
    "    'product_name',\n",
    "    'brand_name',\n",
    "    'price_usd'\n",
    "]\n",
    "productsreviews_df = productsreviews_df[selected_columns]\n",
    "\n",
    "print(productsreviews_df.info())"
   ]
  },
  {
   "cell_type": "code",
   "execution_count": 83,
   "metadata": {},
   "outputs": [
    {
     "data": {
      "text/html": [
       "<div>\n",
       "<style scoped>\n",
       "    .dataframe tbody tr th:only-of-type {\n",
       "        vertical-align: middle;\n",
       "    }\n",
       "\n",
       "    .dataframe tbody tr th {\n",
       "        vertical-align: top;\n",
       "    }\n",
       "\n",
       "    .dataframe thead th {\n",
       "        text-align: right;\n",
       "    }\n",
       "</style>\n",
       "<table border=\"1\" class=\"dataframe\">\n",
       "  <thead>\n",
       "    <tr style=\"text-align: right;\">\n",
       "      <th></th>\n",
       "      <th>product_id</th>\n",
       "      <th>product_name_x</th>\n",
       "      <th>brand_id</th>\n",
       "      <th>brand_name_x</th>\n",
       "      <th>loves_count</th>\n",
       "      <th>rating_x</th>\n",
       "      <th>reviews</th>\n",
       "      <th>size</th>\n",
       "      <th>variation_type</th>\n",
       "      <th>variation_value</th>\n",
       "      <th>...</th>\n",
       "      <th>submission_time</th>\n",
       "      <th>review_text</th>\n",
       "      <th>review_title</th>\n",
       "      <th>skin_tone</th>\n",
       "      <th>eye_color</th>\n",
       "      <th>skin_type</th>\n",
       "      <th>hair_color</th>\n",
       "      <th>product_name_y</th>\n",
       "      <th>brand_name_y</th>\n",
       "      <th>price_usd_y</th>\n",
       "    </tr>\n",
       "  </thead>\n",
       "  <tbody>\n",
       "    <tr>\n",
       "      <th>0</th>\n",
       "      <td>P311143</td>\n",
       "      <td>SUBLIME DEFENSE Ultra Lightweight UV Defense F...</td>\n",
       "      <td>6018</td>\n",
       "      <td>Algenist</td>\n",
       "      <td>27278</td>\n",
       "      <td>4.4134</td>\n",
       "      <td>508.0</td>\n",
       "      <td>1 oz</td>\n",
       "      <td>Size</td>\n",
       "      <td>1 oz</td>\n",
       "      <td>...</td>\n",
       "      <td>2022-12-03</td>\n",
       "      <td>It is one of the best sunscreens that I can fi...</td>\n",
       "      <td>One of the Best at Sephora</td>\n",
       "      <td>light</td>\n",
       "      <td>brown</td>\n",
       "      <td>combination</td>\n",
       "      <td>NaN</td>\n",
       "      <td>SUBLIME DEFENSE Ultra Lightweight UV Defense F...</td>\n",
       "      <td>Algenist</td>\n",
       "      <td>28.0</td>\n",
       "    </tr>\n",
       "    <tr>\n",
       "      <th>1</th>\n",
       "      <td>P311143</td>\n",
       "      <td>SUBLIME DEFENSE Ultra Lightweight UV Defense F...</td>\n",
       "      <td>6018</td>\n",
       "      <td>Algenist</td>\n",
       "      <td>27278</td>\n",
       "      <td>4.4134</td>\n",
       "      <td>508.0</td>\n",
       "      <td>1 oz</td>\n",
       "      <td>Size</td>\n",
       "      <td>1 oz</td>\n",
       "      <td>...</td>\n",
       "      <td>2022-11-07</td>\n",
       "      <td>I have pale, oily skin and live in south Flori...</td>\n",
       "      <td>Great SPF for Oily Skin!</td>\n",
       "      <td>fair</td>\n",
       "      <td>brown</td>\n",
       "      <td>oily</td>\n",
       "      <td>NaN</td>\n",
       "      <td>SUBLIME DEFENSE Ultra Lightweight UV Defense F...</td>\n",
       "      <td>Algenist</td>\n",
       "      <td>28.0</td>\n",
       "    </tr>\n",
       "    <tr>\n",
       "      <th>2</th>\n",
       "      <td>P311143</td>\n",
       "      <td>SUBLIME DEFENSE Ultra Lightweight UV Defense F...</td>\n",
       "      <td>6018</td>\n",
       "      <td>Algenist</td>\n",
       "      <td>27278</td>\n",
       "      <td>4.4134</td>\n",
       "      <td>508.0</td>\n",
       "      <td>1 oz</td>\n",
       "      <td>Size</td>\n",
       "      <td>1 oz</td>\n",
       "      <td>...</td>\n",
       "      <td>2022-11-07</td>\n",
       "      <td>I’ve been using this sunscreen for the past 10...</td>\n",
       "      <td>I've been using this for the past decade!</td>\n",
       "      <td>NaN</td>\n",
       "      <td>brown</td>\n",
       "      <td>combination</td>\n",
       "      <td>NaN</td>\n",
       "      <td>SUBLIME DEFENSE Ultra Lightweight UV Defense F...</td>\n",
       "      <td>Algenist</td>\n",
       "      <td>28.0</td>\n",
       "    </tr>\n",
       "    <tr>\n",
       "      <th>3</th>\n",
       "      <td>P311143</td>\n",
       "      <td>SUBLIME DEFENSE Ultra Lightweight UV Defense F...</td>\n",
       "      <td>6018</td>\n",
       "      <td>Algenist</td>\n",
       "      <td>27278</td>\n",
       "      <td>4.4134</td>\n",
       "      <td>508.0</td>\n",
       "      <td>1 oz</td>\n",
       "      <td>Size</td>\n",
       "      <td>1 oz</td>\n",
       "      <td>...</td>\n",
       "      <td>2022-09-11</td>\n",
       "      <td>I love a lot of Algenist products, but unfortu...</td>\n",
       "      <td>Only use if you’re the palest of the pale</td>\n",
       "      <td>lightMedium</td>\n",
       "      <td>brown</td>\n",
       "      <td>combination</td>\n",
       "      <td>brown</td>\n",
       "      <td>SUBLIME DEFENSE Ultra Lightweight UV Defense F...</td>\n",
       "      <td>Algenist</td>\n",
       "      <td>28.0</td>\n",
       "    </tr>\n",
       "    <tr>\n",
       "      <th>4</th>\n",
       "      <td>P311143</td>\n",
       "      <td>SUBLIME DEFENSE Ultra Lightweight UV Defense F...</td>\n",
       "      <td>6018</td>\n",
       "      <td>Algenist</td>\n",
       "      <td>27278</td>\n",
       "      <td>4.4134</td>\n",
       "      <td>508.0</td>\n",
       "      <td>1 oz</td>\n",
       "      <td>Size</td>\n",
       "      <td>1 oz</td>\n",
       "      <td>...</td>\n",
       "      <td>2022-08-11</td>\n",
       "      <td>I wear this sunscreen every single day.  Every...</td>\n",
       "      <td>NaN</td>\n",
       "      <td>light</td>\n",
       "      <td>brown</td>\n",
       "      <td>combination</td>\n",
       "      <td>black</td>\n",
       "      <td>SUBLIME DEFENSE Ultra Lightweight UV Defense F...</td>\n",
       "      <td>Algenist</td>\n",
       "      <td>28.0</td>\n",
       "    </tr>\n",
       "    <tr>\n",
       "      <th>...</th>\n",
       "      <td>...</td>\n",
       "      <td>...</td>\n",
       "      <td>...</td>\n",
       "      <td>...</td>\n",
       "      <td>...</td>\n",
       "      <td>...</td>\n",
       "      <td>...</td>\n",
       "      <td>...</td>\n",
       "      <td>...</td>\n",
       "      <td>...</td>\n",
       "      <td>...</td>\n",
       "      <td>...</td>\n",
       "      <td>...</td>\n",
       "      <td>...</td>\n",
       "      <td>...</td>\n",
       "      <td>...</td>\n",
       "      <td>...</td>\n",
       "      <td>...</td>\n",
       "      <td>...</td>\n",
       "      <td>...</td>\n",
       "      <td>...</td>\n",
       "    </tr>\n",
       "    <tr>\n",
       "      <th>59179</th>\n",
       "      <td>P500138</td>\n",
       "      <td>Polypeptide-121 Future Cream with Peptides and...</td>\n",
       "      <td>6169</td>\n",
       "      <td>Youth To The People</td>\n",
       "      <td>29088</td>\n",
       "      <td>4.4403</td>\n",
       "      <td>377.0</td>\n",
       "      <td>2 oz / 60 mL</td>\n",
       "      <td>Size</td>\n",
       "      <td>2 oz / 60 mL</td>\n",
       "      <td>...</td>\n",
       "      <td>2022-06-24</td>\n",
       "      <td>This is a medium thickness moisturizer that is...</td>\n",
       "      <td>creamy hydrating cream</td>\n",
       "      <td>light</td>\n",
       "      <td>green</td>\n",
       "      <td>dry</td>\n",
       "      <td>brown</td>\n",
       "      <td>Polypeptide-121 Future Cream with Peptides and...</td>\n",
       "      <td>Youth To The People</td>\n",
       "      <td>68.0</td>\n",
       "    </tr>\n",
       "    <tr>\n",
       "      <th>59180</th>\n",
       "      <td>P500138</td>\n",
       "      <td>Polypeptide-121 Future Cream with Peptides and...</td>\n",
       "      <td>6169</td>\n",
       "      <td>Youth To The People</td>\n",
       "      <td>29088</td>\n",
       "      <td>4.4403</td>\n",
       "      <td>377.0</td>\n",
       "      <td>2 oz / 60 mL</td>\n",
       "      <td>Size</td>\n",
       "      <td>2 oz / 60 mL</td>\n",
       "      <td>...</td>\n",
       "      <td>2022-06-23</td>\n",
       "      <td>It soaks into my skin so quickly and everythin...</td>\n",
       "      <td>Go for it.</td>\n",
       "      <td>light</td>\n",
       "      <td>green</td>\n",
       "      <td>combination</td>\n",
       "      <td>brown</td>\n",
       "      <td>Polypeptide-121 Future Cream with Peptides and...</td>\n",
       "      <td>Youth To The People</td>\n",
       "      <td>68.0</td>\n",
       "    </tr>\n",
       "    <tr>\n",
       "      <th>59181</th>\n",
       "      <td>P500138</td>\n",
       "      <td>Polypeptide-121 Future Cream with Peptides and...</td>\n",
       "      <td>6169</td>\n",
       "      <td>Youth To The People</td>\n",
       "      <td>29088</td>\n",
       "      <td>4.4403</td>\n",
       "      <td>377.0</td>\n",
       "      <td>2 oz / 60 mL</td>\n",
       "      <td>Size</td>\n",
       "      <td>2 oz / 60 mL</td>\n",
       "      <td>...</td>\n",
       "      <td>2022-06-22</td>\n",
       "      <td>I love this cream! My skin is firmer and hydra...</td>\n",
       "      <td>NaN</td>\n",
       "      <td>lightMedium</td>\n",
       "      <td>brown</td>\n",
       "      <td>combination</td>\n",
       "      <td>black</td>\n",
       "      <td>Polypeptide-121 Future Cream with Peptides and...</td>\n",
       "      <td>Youth To The People</td>\n",
       "      <td>68.0</td>\n",
       "    </tr>\n",
       "    <tr>\n",
       "      <th>59182</th>\n",
       "      <td>P500138</td>\n",
       "      <td>Polypeptide-121 Future Cream with Peptides and...</td>\n",
       "      <td>6169</td>\n",
       "      <td>Youth To The People</td>\n",
       "      <td>29088</td>\n",
       "      <td>4.4403</td>\n",
       "      <td>377.0</td>\n",
       "      <td>2 oz / 60 mL</td>\n",
       "      <td>Size</td>\n",
       "      <td>2 oz / 60 mL</td>\n",
       "      <td>...</td>\n",
       "      <td>2022-06-22</td>\n",
       "      <td>My dry, sensitive skin soaked this moisturizer...</td>\n",
       "      <td>Great for dry skin!</td>\n",
       "      <td>fair</td>\n",
       "      <td>hazel</td>\n",
       "      <td>combination</td>\n",
       "      <td>brown</td>\n",
       "      <td>Polypeptide-121 Future Cream with Peptides and...</td>\n",
       "      <td>Youth To The People</td>\n",
       "      <td>68.0</td>\n",
       "    </tr>\n",
       "    <tr>\n",
       "      <th>59183</th>\n",
       "      <td>P500138</td>\n",
       "      <td>Polypeptide-121 Future Cream with Peptides and...</td>\n",
       "      <td>6169</td>\n",
       "      <td>Youth To The People</td>\n",
       "      <td>29088</td>\n",
       "      <td>4.4403</td>\n",
       "      <td>377.0</td>\n",
       "      <td>2 oz / 60 mL</td>\n",
       "      <td>Size</td>\n",
       "      <td>2 oz / 60 mL</td>\n",
       "      <td>...</td>\n",
       "      <td>2022-06-22</td>\n",
       "      <td>The best YTTP product out there! This cream is...</td>\n",
       "      <td>NaN</td>\n",
       "      <td>lightMedium</td>\n",
       "      <td>brown</td>\n",
       "      <td>combination</td>\n",
       "      <td>black</td>\n",
       "      <td>Polypeptide-121 Future Cream with Peptides and...</td>\n",
       "      <td>Youth To The People</td>\n",
       "      <td>68.0</td>\n",
       "    </tr>\n",
       "  </tbody>\n",
       "</table>\n",
       "<p>59184 rows × 45 columns</p>\n",
       "</div>"
      ],
      "text/plain": [
       "      product_id                                     product_name_x  brand_id  \\\n",
       "0        P311143  SUBLIME DEFENSE Ultra Lightweight UV Defense F...      6018   \n",
       "1        P311143  SUBLIME DEFENSE Ultra Lightweight UV Defense F...      6018   \n",
       "2        P311143  SUBLIME DEFENSE Ultra Lightweight UV Defense F...      6018   \n",
       "3        P311143  SUBLIME DEFENSE Ultra Lightweight UV Defense F...      6018   \n",
       "4        P311143  SUBLIME DEFENSE Ultra Lightweight UV Defense F...      6018   \n",
       "...          ...                                                ...       ...   \n",
       "59179    P500138  Polypeptide-121 Future Cream with Peptides and...      6169   \n",
       "59180    P500138  Polypeptide-121 Future Cream with Peptides and...      6169   \n",
       "59181    P500138  Polypeptide-121 Future Cream with Peptides and...      6169   \n",
       "59182    P500138  Polypeptide-121 Future Cream with Peptides and...      6169   \n",
       "59183    P500138  Polypeptide-121 Future Cream with Peptides and...      6169   \n",
       "\n",
       "              brand_name_x  loves_count  rating_x  reviews          size  \\\n",
       "0                 Algenist        27278    4.4134    508.0          1 oz   \n",
       "1                 Algenist        27278    4.4134    508.0          1 oz   \n",
       "2                 Algenist        27278    4.4134    508.0          1 oz   \n",
       "3                 Algenist        27278    4.4134    508.0          1 oz   \n",
       "4                 Algenist        27278    4.4134    508.0          1 oz   \n",
       "...                    ...          ...       ...      ...           ...   \n",
       "59179  Youth To The People        29088    4.4403    377.0  2 oz / 60 mL   \n",
       "59180  Youth To The People        29088    4.4403    377.0  2 oz / 60 mL   \n",
       "59181  Youth To The People        29088    4.4403    377.0  2 oz / 60 mL   \n",
       "59182  Youth To The People        29088    4.4403    377.0  2 oz / 60 mL   \n",
       "59183  Youth To The People        29088    4.4403    377.0  2 oz / 60 mL   \n",
       "\n",
       "      variation_type variation_value  ... submission_time  \\\n",
       "0               Size            1 oz  ...      2022-12-03   \n",
       "1               Size            1 oz  ...      2022-11-07   \n",
       "2               Size            1 oz  ...      2022-11-07   \n",
       "3               Size            1 oz  ...      2022-09-11   \n",
       "4               Size            1 oz  ...      2022-08-11   \n",
       "...              ...             ...  ...             ...   \n",
       "59179           Size    2 oz / 60 mL  ...      2022-06-24   \n",
       "59180           Size    2 oz / 60 mL  ...      2022-06-23   \n",
       "59181           Size    2 oz / 60 mL  ...      2022-06-22   \n",
       "59182           Size    2 oz / 60 mL  ...      2022-06-22   \n",
       "59183           Size    2 oz / 60 mL  ...      2022-06-22   \n",
       "\n",
       "                                             review_text  \\\n",
       "0      It is one of the best sunscreens that I can fi...   \n",
       "1      I have pale, oily skin and live in south Flori...   \n",
       "2      I’ve been using this sunscreen for the past 10...   \n",
       "3      I love a lot of Algenist products, but unfortu...   \n",
       "4      I wear this sunscreen every single day.  Every...   \n",
       "...                                                  ...   \n",
       "59179  This is a medium thickness moisturizer that is...   \n",
       "59180  It soaks into my skin so quickly and everythin...   \n",
       "59181  I love this cream! My skin is firmer and hydra...   \n",
       "59182  My dry, sensitive skin soaked this moisturizer...   \n",
       "59183  The best YTTP product out there! This cream is...   \n",
       "\n",
       "                                    review_title    skin_tone  eye_color  \\\n",
       "0                     One of the Best at Sephora        light      brown   \n",
       "1                       Great SPF for Oily Skin!         fair      brown   \n",
       "2      I've been using this for the past decade!          NaN      brown   \n",
       "3      Only use if you’re the palest of the pale  lightMedium      brown   \n",
       "4                                            NaN        light      brown   \n",
       "...                                          ...          ...        ...   \n",
       "59179                     creamy hydrating cream        light      green   \n",
       "59180                                 Go for it.        light      green   \n",
       "59181                                        NaN  lightMedium      brown   \n",
       "59182                        Great for dry skin!         fair      hazel   \n",
       "59183                                        NaN  lightMedium      brown   \n",
       "\n",
       "         skin_type  hair_color  \\\n",
       "0      combination         NaN   \n",
       "1             oily         NaN   \n",
       "2      combination         NaN   \n",
       "3      combination       brown   \n",
       "4      combination       black   \n",
       "...            ...         ...   \n",
       "59179          dry       brown   \n",
       "59180  combination       brown   \n",
       "59181  combination       black   \n",
       "59182  combination       brown   \n",
       "59183  combination       black   \n",
       "\n",
       "                                          product_name_y         brand_name_y  \\\n",
       "0      SUBLIME DEFENSE Ultra Lightweight UV Defense F...             Algenist   \n",
       "1      SUBLIME DEFENSE Ultra Lightweight UV Defense F...             Algenist   \n",
       "2      SUBLIME DEFENSE Ultra Lightweight UV Defense F...             Algenist   \n",
       "3      SUBLIME DEFENSE Ultra Lightweight UV Defense F...             Algenist   \n",
       "4      SUBLIME DEFENSE Ultra Lightweight UV Defense F...             Algenist   \n",
       "...                                                  ...                  ...   \n",
       "59179  Polypeptide-121 Future Cream with Peptides and...  Youth To The People   \n",
       "59180  Polypeptide-121 Future Cream with Peptides and...  Youth To The People   \n",
       "59181  Polypeptide-121 Future Cream with Peptides and...  Youth To The People   \n",
       "59182  Polypeptide-121 Future Cream with Peptides and...  Youth To The People   \n",
       "59183  Polypeptide-121 Future Cream with Peptides and...  Youth To The People   \n",
       "\n",
       "       price_usd_y  \n",
       "0             28.0  \n",
       "1             28.0  \n",
       "2             28.0  \n",
       "3             28.0  \n",
       "4             28.0  \n",
       "...            ...  \n",
       "59179         68.0  \n",
       "59180         68.0  \n",
       "59181         68.0  \n",
       "59182         68.0  \n",
       "59183         68.0  \n",
       "\n",
       "[59184 rows x 45 columns]"
      ]
     },
     "execution_count": 83,
     "metadata": {},
     "output_type": "execute_result"
    }
   ],
   "source": [
    "Skincare_df.merge(productsreviews_df_1, left_on='product_id', right_on='product_id')"
   ]
  }
 ],
 "metadata": {
  "kernelspec": {
   "display_name": "ds4003",
   "language": "python",
   "name": "python3"
  },
  "language_info": {
   "codemirror_mode": {
    "name": "ipython",
    "version": 3
   },
   "file_extension": ".py",
   "mimetype": "text/x-python",
   "name": "python",
   "nbconvert_exporter": "python",
   "pygments_lexer": "ipython3",
   "version": "3.8.18"
  }
 },
 "nbformat": 4,
 "nbformat_minor": 2
}
